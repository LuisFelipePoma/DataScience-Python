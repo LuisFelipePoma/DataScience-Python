{
 "cells": [
  {
   "cell_type": "markdown",
   "metadata": {},
   "source": [
    "___\n",
    "\n",
    "\n",
    "<a href='https://pregrado.upc.edu.pe/facultad-de-ingenieria/ciencias-de-la-computacion/'> <img src='https://tftransporteinternacional.files.wordpress.com/2014/06/76b3b-logoupc.png' with = 200, height = 100 /></a>\n",
    "\n",
    "<a href='https://jupyter-notebook.readthedocs.io/en/stable/examples/Notebook/Running%20Code.html'> <img src='https://www.python.org/static/img/python-logo.png' /></a>\n",
    "___\n",
    "# Python Curso Básico\n",
    "\n",
    "**El estudiante que ya domina Python puede pasar a resolver los ejercicios propuestos**\n",
    "\n",
    "Este cuaderno solo repasará los temas básicos en el siguiente orden:\n",
    "\n",
    "* Tipo de datos\n",
    "    * Numeros\n",
    "    * Cadenas\n",
    "    * Impresión\n",
    "    * Listas\n",
    "    * Diccionarios\n",
    "    * Booleans\n",
    "    * Tuplas\n",
    "    * Conjuntos\n",
    "* Operadores de Comparación\n",
    "* Estamentos if, elif, else \n",
    "* Bucle for\n",
    "* Bucle while\n",
    "* range()\n",
    "* comprension de listas\n",
    "* funciones\n",
    "* expresiones lambda\n",
    "* map y filter\n",
    "* metodos\n",
    "____"
   ]
  },
  {
   "cell_type": "markdown",
   "metadata": {},
   "source": [
    "## Tipo de Datos\n",
    "\n",
    "### Numeros"
   ]
  },
  {
   "cell_type": "code",
   "execution_count": 1,
   "metadata": {
    "ExecuteTime": {
     "end_time": "2023-05-20T14:47:13.877516500Z",
     "start_time": "2023-05-20T14:47:13.857518400Z"
    }
   },
   "outputs": [
    {
     "data": {
      "text/plain": "2"
     },
     "execution_count": 1,
     "metadata": {},
     "output_type": "execute_result"
    }
   ],
   "source": [
    "1 + 1"
   ]
  },
  {
   "cell_type": "code",
   "execution_count": 2,
   "metadata": {
    "ExecuteTime": {
     "end_time": "2023-05-20T14:47:15.594898700Z",
     "start_time": "2023-05-20T14:47:15.561900700Z"
    }
   },
   "outputs": [
    {
     "data": {
      "text/plain": "3"
     },
     "execution_count": 2,
     "metadata": {},
     "output_type": "execute_result"
    }
   ],
   "source": [
    "1 * 3"
   ]
  },
  {
   "cell_type": "code",
   "execution_count": 3,
   "metadata": {
    "ExecuteTime": {
     "end_time": "2023-05-20T14:47:16.411524200Z",
     "start_time": "2023-05-20T14:47:16.383524800Z"
    }
   },
   "outputs": [
    {
     "data": {
      "text/plain": "0.5"
     },
     "execution_count": 3,
     "metadata": {},
     "output_type": "execute_result"
    }
   ],
   "source": [
    "1 / 2"
   ]
  },
  {
   "cell_type": "code",
   "execution_count": 6,
   "metadata": {
    "ExecuteTime": {
     "end_time": "2023-05-20T14:47:18.753007600Z",
     "start_time": "2023-05-20T14:47:18.719008700Z"
    }
   },
   "outputs": [
    {
     "data": {
      "text/plain": "16"
     },
     "execution_count": 6,
     "metadata": {},
     "output_type": "execute_result"
    }
   ],
   "source": [
    "2 ** 4"
   ]
  },
  {
   "cell_type": "code",
   "execution_count": 7,
   "metadata": {
    "ExecuteTime": {
     "end_time": "2023-05-20T14:47:19.782835900Z",
     "start_time": "2023-05-20T14:47:19.753837100Z"
    }
   },
   "outputs": [
    {
     "data": {
      "text/plain": "50"
     },
     "execution_count": 7,
     "metadata": {},
     "output_type": "execute_result"
    }
   ],
   "source": [
    "(2 + 3) * (5 + 5)"
   ]
  },
  {
   "cell_type": "markdown",
   "metadata": {},
   "source": [
    "### Asignación de Variables"
   ]
  },
  {
   "cell_type": "code",
   "execution_count": 7,
   "metadata": {
    "ExecuteTime": {
     "end_time": "2023-05-20T14:23:36.202688700Z",
     "start_time": "2023-05-20T14:23:36.161688600Z"
    }
   },
   "outputs": [],
   "source": [
    "# No puede comenzar con números o caracteres especiales.\n",
    "num = 2"
   ]
  },
  {
   "cell_type": "code",
   "execution_count": 8,
   "metadata": {
    "ExecuteTime": {
     "end_time": "2023-05-20T14:23:36.682688400Z",
     "start_time": "2023-05-20T14:23:36.669689400Z"
    }
   },
   "outputs": [],
   "source": [
    "x = 2\n",
    "y = 3"
   ]
  },
  {
   "cell_type": "code",
   "execution_count": 9,
   "metadata": {
    "collapsed": true,
    "ExecuteTime": {
     "end_time": "2023-05-20T14:23:37.279691300Z",
     "start_time": "2023-05-20T14:23:37.261693600Z"
    }
   },
   "outputs": [],
   "source": [
    "z = x + y"
   ]
  },
  {
   "cell_type": "code",
   "execution_count": 10,
   "metadata": {
    "ExecuteTime": {
     "end_time": "2023-05-20T14:23:37.817689800Z",
     "start_time": "2023-05-20T14:23:37.789689400Z"
    }
   },
   "outputs": [
    {
     "data": {
      "text/plain": "5"
     },
     "execution_count": 10,
     "metadata": {},
     "output_type": "execute_result"
    }
   ],
   "source": [
    "z"
   ]
  },
  {
   "cell_type": "markdown",
   "metadata": {},
   "source": [
    "### Cadenas"
   ]
  },
  {
   "cell_type": "code",
   "execution_count": 11,
   "metadata": {
    "ExecuteTime": {
     "end_time": "2023-05-20T14:23:39.025690Z",
     "start_time": "2023-05-20T14:23:39.009690500Z"
    }
   },
   "outputs": [
    {
     "data": {
      "text/plain": "'comillas simples'"
     },
     "execution_count": 11,
     "metadata": {},
     "output_type": "execute_result"
    }
   ],
   "source": [
    "'comillas simples'"
   ]
  },
  {
   "cell_type": "code",
   "execution_count": 12,
   "metadata": {
    "ExecuteTime": {
     "end_time": "2023-05-20T14:23:39.415689200Z",
     "start_time": "2023-05-20T14:23:39.404688800Z"
    }
   },
   "outputs": [
    {
     "data": {
      "text/plain": "'comillas dobles'"
     },
     "execution_count": 12,
     "metadata": {},
     "output_type": "execute_result"
    }
   ],
   "source": [
    "\"comillas dobles\""
   ]
  },
  {
   "cell_type": "code",
   "execution_count": 13,
   "metadata": {
    "ExecuteTime": {
     "end_time": "2023-05-20T14:23:39.693689Z",
     "start_time": "2023-05-20T14:23:39.666690700Z"
    }
   },
   "outputs": [
    {
     "data": {
      "text/plain": "\" envolver 'muchas' otras citas\""
     },
     "execution_count": 13,
     "metadata": {},
     "output_type": "execute_result"
    }
   ],
   "source": [
    "\" envolver 'muchas' otras citas\""
   ]
  },
  {
   "cell_type": "markdown",
   "metadata": {},
   "source": [
    "### Impresión"
   ]
  },
  {
   "cell_type": "code",
   "execution_count": 14,
   "metadata": {
    "ExecuteTime": {
     "end_time": "2023-05-20T14:23:40.040688400Z",
     "start_time": "2023-05-20T14:23:39.999688200Z"
    }
   },
   "outputs": [],
   "source": [
    "x = 'hola'"
   ]
  },
  {
   "cell_type": "code",
   "execution_count": 15,
   "metadata": {
    "ExecuteTime": {
     "end_time": "2023-05-20T14:23:40.206689100Z",
     "start_time": "2023-05-20T14:23:40.177691Z"
    }
   },
   "outputs": [
    {
     "data": {
      "text/plain": "'hola'"
     },
     "execution_count": 15,
     "metadata": {},
     "output_type": "execute_result"
    }
   ],
   "source": [
    "x"
   ]
  },
  {
   "cell_type": "code",
   "execution_count": 16,
   "metadata": {
    "ExecuteTime": {
     "end_time": "2023-05-20T14:23:40.393691400Z",
     "start_time": "2023-05-20T14:23:40.357690500Z"
    }
   },
   "outputs": [
    {
     "name": "stdout",
     "output_type": "stream",
     "text": [
      "hola\n"
     ]
    }
   ],
   "source": [
    "print(x)"
   ]
  },
  {
   "cell_type": "code",
   "execution_count": 17,
   "metadata": {
    "ExecuteTime": {
     "end_time": "2023-05-20T14:23:40.497688400Z",
     "start_time": "2023-05-20T14:23:40.482690100Z"
    }
   },
   "outputs": [],
   "source": [
    "num = 20\n",
    "name = 'Pedro'"
   ]
  },
  {
   "cell_type": "code",
   "execution_count": 18,
   "metadata": {
    "ExecuteTime": {
     "end_time": "2023-05-20T14:23:40.683690500Z",
     "start_time": "2023-05-20T14:23:40.633690700Z"
    }
   },
   "outputs": [
    {
     "name": "stdout",
     "output_type": "stream",
     "text": [
      "Mi numero: 20, y mi nombre es: Pedro \n"
     ]
    }
   ],
   "source": [
    "print('Mi numero: {one}, y mi nombre es: {two} '.format(one=num,two=name))"
   ]
  },
  {
   "cell_type": "code",
   "execution_count": 19,
   "metadata": {
    "ExecuteTime": {
     "end_time": "2023-05-20T14:23:40.838688500Z",
     "start_time": "2023-05-20T14:23:40.790692800Z"
    }
   },
   "outputs": [
    {
     "name": "stdout",
     "output_type": "stream",
     "text": [
      "Mi numero: 20, y mi nombre es: Pedro\n"
     ]
    }
   ],
   "source": [
    "print('Mi numero: {}, y mi nombre es: {}'.format(num,name))"
   ]
  },
  {
   "cell_type": "markdown",
   "metadata": {},
   "source": [
    "### Listas"
   ]
  },
  {
   "cell_type": "code",
   "execution_count": 20,
   "metadata": {
    "ExecuteTime": {
     "end_time": "2023-05-20T14:23:41.089688700Z",
     "start_time": "2023-05-20T14:23:41.059691600Z"
    }
   },
   "outputs": [
    {
     "data": {
      "text/plain": "[1, 2, 3]"
     },
     "execution_count": 20,
     "metadata": {},
     "output_type": "execute_result"
    }
   ],
   "source": [
    "[1,2,3]"
   ]
  },
  {
   "cell_type": "code",
   "execution_count": 21,
   "metadata": {
    "ExecuteTime": {
     "end_time": "2023-05-20T14:23:41.183690800Z",
     "start_time": "2023-05-20T14:23:41.169690400Z"
    }
   },
   "outputs": [
    {
     "data": {
      "text/plain": "['hola', 1, [1, 2]]"
     },
     "execution_count": 21,
     "metadata": {},
     "output_type": "execute_result"
    }
   ],
   "source": [
    "['hola',1,[1,2]]"
   ]
  },
  {
   "cell_type": "code",
   "execution_count": 22,
   "metadata": {
    "ExecuteTime": {
     "end_time": "2023-05-20T14:23:41.323691400Z",
     "start_time": "2023-05-20T14:23:41.310690200Z"
    }
   },
   "outputs": [],
   "source": [
    "my_list = ['a','b','c']"
   ]
  },
  {
   "cell_type": "code",
   "execution_count": 23,
   "metadata": {
    "ExecuteTime": {
     "end_time": "2023-05-20T14:23:41.463690200Z",
     "start_time": "2023-05-20T14:23:41.451692200Z"
    }
   },
   "outputs": [],
   "source": [
    "my_list.append('d')"
   ]
  },
  {
   "cell_type": "code",
   "execution_count": 24,
   "metadata": {
    "ExecuteTime": {
     "end_time": "2023-05-20T14:23:41.632689900Z",
     "start_time": "2023-05-20T14:23:41.583690800Z"
    }
   },
   "outputs": [
    {
     "data": {
      "text/plain": "['a', 'b', 'c', 'd']"
     },
     "execution_count": 24,
     "metadata": {},
     "output_type": "execute_result"
    }
   ],
   "source": [
    "my_list"
   ]
  },
  {
   "cell_type": "code",
   "execution_count": 25,
   "metadata": {
    "ExecuteTime": {
     "end_time": "2023-05-20T14:23:41.769689400Z",
     "start_time": "2023-05-20T14:23:41.758690400Z"
    }
   },
   "outputs": [
    {
     "data": {
      "text/plain": "'a'"
     },
     "execution_count": 25,
     "metadata": {},
     "output_type": "execute_result"
    }
   ],
   "source": [
    "my_list[0]"
   ]
  },
  {
   "cell_type": "code",
   "execution_count": 26,
   "metadata": {
    "ExecuteTime": {
     "end_time": "2023-05-20T14:23:41.884689900Z",
     "start_time": "2023-05-20T14:23:41.873691300Z"
    }
   },
   "outputs": [
    {
     "data": {
      "text/plain": "'b'"
     },
     "execution_count": 26,
     "metadata": {},
     "output_type": "execute_result"
    }
   ],
   "source": [
    "my_list[1]"
   ]
  },
  {
   "cell_type": "code",
   "execution_count": 27,
   "metadata": {
    "ExecuteTime": {
     "end_time": "2023-05-20T14:23:42.049689700Z",
     "start_time": "2023-05-20T14:23:42.003689200Z"
    }
   },
   "outputs": [
    {
     "data": {
      "text/plain": "['b', 'c', 'd']"
     },
     "execution_count": 27,
     "metadata": {},
     "output_type": "execute_result"
    }
   ],
   "source": [
    "my_list[1:]"
   ]
  },
  {
   "cell_type": "code",
   "execution_count": 28,
   "metadata": {
    "ExecuteTime": {
     "end_time": "2023-05-20T14:23:42.243689900Z",
     "start_time": "2023-05-20T14:23:42.174693Z"
    }
   },
   "outputs": [
    {
     "data": {
      "text/plain": "['a']"
     },
     "execution_count": 28,
     "metadata": {},
     "output_type": "execute_result"
    }
   ],
   "source": [
    "my_list[:1]"
   ]
  },
  {
   "cell_type": "code",
   "execution_count": 29,
   "metadata": {
    "ExecuteTime": {
     "end_time": "2023-05-20T14:23:42.450690100Z",
     "start_time": "2023-05-20T14:23:42.299690Z"
    }
   },
   "outputs": [],
   "source": [
    "my_list[0] = 'Nuevo'"
   ]
  },
  {
   "cell_type": "code",
   "execution_count": 30,
   "metadata": {
    "ExecuteTime": {
     "end_time": "2023-05-20T14:23:42.566697300Z",
     "start_time": "2023-05-20T14:23:42.479695600Z"
    }
   },
   "outputs": [
    {
     "data": {
      "text/plain": "['Nuevo', 'b', 'c', 'd']"
     },
     "execution_count": 30,
     "metadata": {},
     "output_type": "execute_result"
    }
   ],
   "source": [
    "my_list"
   ]
  },
  {
   "cell_type": "code",
   "execution_count": 31,
   "metadata": {
    "ExecuteTime": {
     "end_time": "2023-05-20T14:23:42.671689400Z",
     "start_time": "2023-05-20T14:23:42.616690200Z"
    }
   },
   "outputs": [],
   "source": [
    "nest = [1,2,3,[4,5,['destino']]]"
   ]
  },
  {
   "cell_type": "code",
   "execution_count": 32,
   "metadata": {
    "ExecuteTime": {
     "end_time": "2023-05-20T14:23:42.794697600Z",
     "start_time": "2023-05-20T14:23:42.745689900Z"
    }
   },
   "outputs": [
    {
     "data": {
      "text/plain": "[4, 5, ['destino']]"
     },
     "execution_count": 32,
     "metadata": {},
     "output_type": "execute_result"
    }
   ],
   "source": [
    "nest[3]"
   ]
  },
  {
   "cell_type": "code",
   "execution_count": 33,
   "metadata": {
    "ExecuteTime": {
     "end_time": "2023-05-20T14:23:42.940689Z",
     "start_time": "2023-05-20T14:23:42.904689200Z"
    }
   },
   "outputs": [
    {
     "data": {
      "text/plain": "['destino']"
     },
     "execution_count": 33,
     "metadata": {},
     "output_type": "execute_result"
    }
   ],
   "source": [
    "nest[3][2]"
   ]
  },
  {
   "cell_type": "code",
   "execution_count": 34,
   "metadata": {
    "ExecuteTime": {
     "end_time": "2023-05-20T14:23:43.107689200Z",
     "start_time": "2023-05-20T14:23:43.040689400Z"
    }
   },
   "outputs": [
    {
     "data": {
      "text/plain": "'destino'"
     },
     "execution_count": 34,
     "metadata": {},
     "output_type": "execute_result"
    }
   ],
   "source": [
    "nest[3][2][0]"
   ]
  },
  {
   "cell_type": "markdown",
   "metadata": {},
   "source": [
    "### Diccionarios"
   ]
  },
  {
   "cell_type": "code",
   "execution_count": 35,
   "metadata": {
    "ExecuteTime": {
     "end_time": "2023-05-20T14:23:43.321690100Z",
     "start_time": "2023-05-20T14:23:43.311688900Z"
    }
   },
   "outputs": [],
   "source": [
    "d = {'key1':'item1','key2':'item2'}"
   ]
  },
  {
   "cell_type": "code",
   "execution_count": 36,
   "metadata": {
    "ExecuteTime": {
     "end_time": "2023-05-20T14:23:43.464722600Z",
     "start_time": "2023-05-20T14:23:43.453688800Z"
    }
   },
   "outputs": [
    {
     "data": {
      "text/plain": "{'key1': 'item1', 'key2': 'item2'}"
     },
     "execution_count": 36,
     "metadata": {},
     "output_type": "execute_result"
    }
   ],
   "source": [
    "d"
   ]
  },
  {
   "cell_type": "code",
   "execution_count": 37,
   "metadata": {
    "ExecuteTime": {
     "end_time": "2023-05-20T14:23:43.638691500Z",
     "start_time": "2023-05-20T14:23:43.606689700Z"
    }
   },
   "outputs": [
    {
     "data": {
      "text/plain": "'item1'"
     },
     "execution_count": 37,
     "metadata": {},
     "output_type": "execute_result"
    }
   ],
   "source": [
    "d['key1']"
   ]
  },
  {
   "cell_type": "code",
   "execution_count": 38,
   "metadata": {
    "ExecuteTime": {
     "end_time": "2023-05-20T14:23:43.856688300Z",
     "start_time": "2023-05-20T14:23:43.764688800Z"
    }
   },
   "outputs": [
    {
     "data": {
      "text/plain": "'item1'"
     },
     "execution_count": 38,
     "metadata": {},
     "output_type": "execute_result"
    }
   ],
   "source": [
    "d['key1']"
   ]
  },
  {
   "cell_type": "markdown",
   "metadata": {},
   "source": [
    "### Booleans"
   ]
  },
  {
   "cell_type": "code",
   "execution_count": 39,
   "metadata": {
    "ExecuteTime": {
     "end_time": "2023-05-20T14:23:44.099695300Z",
     "start_time": "2023-05-20T14:23:44.067708300Z"
    }
   },
   "outputs": [
    {
     "data": {
      "text/plain": "True"
     },
     "execution_count": 39,
     "metadata": {},
     "output_type": "execute_result"
    }
   ],
   "source": [
    "True"
   ]
  },
  {
   "cell_type": "code",
   "execution_count": 40,
   "metadata": {
    "ExecuteTime": {
     "end_time": "2023-05-20T14:23:44.239742700Z",
     "start_time": "2023-05-20T14:23:44.216690600Z"
    }
   },
   "outputs": [
    {
     "data": {
      "text/plain": "False"
     },
     "execution_count": 40,
     "metadata": {},
     "output_type": "execute_result"
    }
   ],
   "source": [
    "False"
   ]
  },
  {
   "cell_type": "markdown",
   "metadata": {},
   "source": [
    "### Tuplas"
   ]
  },
  {
   "cell_type": "code",
   "execution_count": 41,
   "metadata": {
    "ExecuteTime": {
     "end_time": "2023-05-20T14:23:44.544689200Z",
     "start_time": "2023-05-20T14:23:44.520689600Z"
    }
   },
   "outputs": [],
   "source": [
    "t = (1,2,3)"
   ]
  },
  {
   "cell_type": "code",
   "execution_count": 42,
   "metadata": {
    "ExecuteTime": {
     "end_time": "2023-05-20T14:23:44.702689200Z",
     "start_time": "2023-05-20T14:23:44.679688500Z"
    }
   },
   "outputs": [
    {
     "data": {
      "text/plain": "1"
     },
     "execution_count": 42,
     "metadata": {},
     "output_type": "execute_result"
    }
   ],
   "source": [
    "t[0]"
   ]
  },
  {
   "cell_type": "code",
   "execution_count": 43,
   "metadata": {
    "ExecuteTime": {
     "end_time": "2023-05-20T14:23:45.296689300Z",
     "start_time": "2023-05-20T14:23:44.814689100Z"
    }
   },
   "outputs": [
    {
     "ename": "TypeError",
     "evalue": "'tuple' object does not support item assignment",
     "output_type": "error",
     "traceback": [
      "\u001B[1;31m---------------------------------------------------------------------------\u001B[0m",
      "\u001B[1;31mTypeError\u001B[0m                                 Traceback (most recent call last)",
      "Cell \u001B[1;32mIn[43], line 1\u001B[0m\n\u001B[1;32m----> 1\u001B[0m t[\u001B[38;5;241m0\u001B[39m] \u001B[38;5;241m=\u001B[39m \u001B[38;5;124m'\u001B[39m\u001B[38;5;124mNuevo\u001B[39m\u001B[38;5;124m'\u001B[39m\n",
      "\u001B[1;31mTypeError\u001B[0m: 'tuple' object does not support item assignment"
     ]
    }
   ],
   "source": [
    "t[0] = 'Nuevo'"
   ]
  },
  {
   "cell_type": "markdown",
   "metadata": {},
   "source": [
    "### Conjuntos (Sets)"
   ]
  },
  {
   "cell_type": "code",
   "execution_count": null,
   "metadata": {
    "ExecuteTime": {
     "start_time": "2023-05-20T14:23:45.273691100Z"
    }
   },
   "outputs": [],
   "source": [
    "{1,2,3}"
   ]
  },
  {
   "cell_type": "code",
   "execution_count": 44,
   "metadata": {
    "ExecuteTime": {
     "end_time": "2023-05-20T14:23:45.301688700Z",
     "start_time": "2023-05-20T14:23:45.279691400Z"
    }
   },
   "outputs": [
    {
     "data": {
      "text/plain": "{1, 2, 3}"
     },
     "execution_count": 44,
     "metadata": {},
     "output_type": "execute_result"
    }
   ],
   "source": [
    "{1,2,3,1,2,1,2,3,3,3,3,2,2,2,1,1,2}"
   ]
  },
  {
   "cell_type": "markdown",
   "metadata": {},
   "source": [
    "## Comparison Operators"
   ]
  },
  {
   "cell_type": "code",
   "execution_count": 45,
   "metadata": {
    "ExecuteTime": {
     "end_time": "2023-05-20T14:23:45.566688200Z",
     "start_time": "2023-05-20T14:23:45.557689800Z"
    }
   },
   "outputs": [
    {
     "data": {
      "text/plain": "False"
     },
     "execution_count": 45,
     "metadata": {},
     "output_type": "execute_result"
    }
   ],
   "source": [
    "1 > 2"
   ]
  },
  {
   "cell_type": "code",
   "execution_count": 46,
   "metadata": {
    "ExecuteTime": {
     "end_time": "2023-05-20T14:23:45.748688500Z",
     "start_time": "2023-05-20T14:23:45.727689600Z"
    }
   },
   "outputs": [
    {
     "data": {
      "text/plain": "True"
     },
     "execution_count": 46,
     "metadata": {},
     "output_type": "execute_result"
    }
   ],
   "source": [
    "1 < 2"
   ]
  },
  {
   "cell_type": "code",
   "execution_count": 47,
   "metadata": {
    "ExecuteTime": {
     "end_time": "2023-05-20T14:23:45.899688200Z",
     "start_time": "2023-05-20T14:23:45.886691400Z"
    }
   },
   "outputs": [
    {
     "data": {
      "text/plain": "True"
     },
     "execution_count": 47,
     "metadata": {},
     "output_type": "execute_result"
    }
   ],
   "source": [
    "1 >= 1"
   ]
  },
  {
   "cell_type": "code",
   "execution_count": 48,
   "metadata": {
    "ExecuteTime": {
     "end_time": "2023-05-20T14:23:46.091689200Z",
     "start_time": "2023-05-20T14:23:46.045688800Z"
    }
   },
   "outputs": [
    {
     "data": {
      "text/plain": "True"
     },
     "execution_count": 48,
     "metadata": {},
     "output_type": "execute_result"
    }
   ],
   "source": [
    "1 <= 4"
   ]
  },
  {
   "cell_type": "code",
   "execution_count": 49,
   "metadata": {
    "ExecuteTime": {
     "end_time": "2023-05-20T14:23:46.220689700Z",
     "start_time": "2023-05-20T14:23:46.194689100Z"
    }
   },
   "outputs": [
    {
     "data": {
      "text/plain": "True"
     },
     "execution_count": 49,
     "metadata": {},
     "output_type": "execute_result"
    }
   ],
   "source": [
    "1 == 1"
   ]
  },
  {
   "cell_type": "code",
   "execution_count": 50,
   "metadata": {
    "ExecuteTime": {
     "end_time": "2023-05-20T14:23:46.407687700Z",
     "start_time": "2023-05-20T14:23:46.355703600Z"
    }
   },
   "outputs": [
    {
     "data": {
      "text/plain": "False"
     },
     "execution_count": 50,
     "metadata": {},
     "output_type": "execute_result"
    }
   ],
   "source": [
    "'hola' == 'chau'"
   ]
  },
  {
   "cell_type": "markdown",
   "metadata": {},
   "source": [
    "## Operadores Lógicos"
   ]
  },
  {
   "cell_type": "code",
   "execution_count": 51,
   "metadata": {
    "ExecuteTime": {
     "end_time": "2023-05-20T14:23:46.714687800Z",
     "start_time": "2023-05-20T14:23:46.676689500Z"
    }
   },
   "outputs": [
    {
     "data": {
      "text/plain": "False"
     },
     "execution_count": 51,
     "metadata": {},
     "output_type": "execute_result"
    }
   ],
   "source": [
    "(1 > 2) and (2 < 3)"
   ]
  },
  {
   "cell_type": "code",
   "execution_count": 52,
   "metadata": {
    "ExecuteTime": {
     "end_time": "2023-05-20T14:23:46.839689600Z",
     "start_time": "2023-05-20T14:23:46.827691Z"
    }
   },
   "outputs": [
    {
     "data": {
      "text/plain": "True"
     },
     "execution_count": 52,
     "metadata": {},
     "output_type": "execute_result"
    }
   ],
   "source": [
    "(1 > 2) or (2 < 3)"
   ]
  },
  {
   "cell_type": "code",
   "execution_count": 53,
   "metadata": {
    "ExecuteTime": {
     "end_time": "2023-05-20T14:23:47.004689800Z",
     "start_time": "2023-05-20T14:23:46.982689500Z"
    }
   },
   "outputs": [
    {
     "data": {
      "text/plain": "True"
     },
     "execution_count": 53,
     "metadata": {},
     "output_type": "execute_result"
    }
   ],
   "source": [
    "(1 == 2) or (2 == 3) or (4 == 4)"
   ]
  },
  {
   "cell_type": "markdown",
   "metadata": {},
   "source": [
    "## Estamentos if,elif, else "
   ]
  },
  {
   "cell_type": "code",
   "execution_count": 54,
   "metadata": {
    "ExecuteTime": {
     "end_time": "2023-05-20T14:23:47.324690600Z",
     "start_time": "2023-05-20T14:23:47.299688900Z"
    }
   },
   "outputs": [
    {
     "name": "stdout",
     "output_type": "stream",
     "text": [
      "Siiii!\n"
     ]
    }
   ],
   "source": [
    "if 1 < 2:\n",
    "    print('Siiii!')"
   ]
  },
  {
   "cell_type": "code",
   "execution_count": 55,
   "metadata": {
    "ExecuteTime": {
     "end_time": "2023-05-20T14:23:47.475690600Z",
     "start_time": "2023-05-20T14:23:47.466692100Z"
    }
   },
   "outputs": [
    {
     "name": "stdout",
     "output_type": "stream",
     "text": [
      "Noo!\n"
     ]
    }
   ],
   "source": [
    "if 1 < 3:\n",
    "    print('Noo!')"
   ]
  },
  {
   "cell_type": "code",
   "execution_count": 56,
   "metadata": {
    "ExecuteTime": {
     "end_time": "2023-05-20T14:23:47.666687700Z",
     "start_time": "2023-05-20T14:23:47.625688800Z"
    }
   },
   "outputs": [
    {
     "name": "stdout",
     "output_type": "stream",
     "text": [
      "si\n"
     ]
    }
   ],
   "source": [
    "if 1 < 2:\n",
    "    print('si')\n",
    "else:\n",
    "    print('no')"
   ]
  },
  {
   "cell_type": "code",
   "execution_count": 57,
   "metadata": {
    "ExecuteTime": {
     "end_time": "2023-05-20T14:23:47.795688300Z",
     "start_time": "2023-05-20T14:23:47.770690800Z"
    }
   },
   "outputs": [
    {
     "name": "stdout",
     "output_type": "stream",
     "text": [
      "no\n"
     ]
    }
   ],
   "source": [
    "if 1 > 2:\n",
    "    print('si')\n",
    "else:\n",
    "    print('no')"
   ]
  },
  {
   "cell_type": "code",
   "execution_count": 58,
   "metadata": {
    "ExecuteTime": {
     "end_time": "2023-05-20T14:23:47.952691400Z",
     "start_time": "2023-05-20T14:23:47.924690500Z"
    }
   },
   "outputs": [
    {
     "name": "stdout",
     "output_type": "stream",
     "text": [
      "segunda rpta\n"
     ]
    }
   ],
   "source": [
    "if 1 ==  2:\n",
    "    print('primera rpta')\n",
    "elif 3 == 3:\n",
    "    print('segunda rpta')\n",
    "else:\n",
    "    print('ultimas rpta')"
   ]
  },
  {
   "cell_type": "markdown",
   "metadata": {},
   "source": [
    "## Bucle for"
   ]
  },
  {
   "cell_type": "code",
   "execution_count": 59,
   "metadata": {
    "ExecuteTime": {
     "end_time": "2023-05-20T14:23:48.246687600Z",
     "start_time": "2023-05-20T14:23:48.224715Z"
    }
   },
   "outputs": [],
   "source": [
    "seq = [1,2,3,4,5]"
   ]
  },
  {
   "cell_type": "code",
   "execution_count": 60,
   "metadata": {
    "ExecuteTime": {
     "end_time": "2023-05-20T14:23:48.415688400Z",
     "start_time": "2023-05-20T14:23:48.404690500Z"
    }
   },
   "outputs": [
    {
     "name": "stdout",
     "output_type": "stream",
     "text": [
      "1\n",
      "2\n",
      "3\n",
      "4\n",
      "5\n"
     ]
    }
   ],
   "source": [
    "for item in seq:\n",
    "    print(item)"
   ]
  },
  {
   "cell_type": "code",
   "execution_count": 61,
   "metadata": {
    "ExecuteTime": {
     "end_time": "2023-05-20T14:23:48.581689900Z",
     "start_time": "2023-05-20T14:23:48.569689Z"
    }
   },
   "outputs": [
    {
     "name": "stdout",
     "output_type": "stream",
     "text": [
      "hola\n",
      "hola\n",
      "hola\n",
      "hola\n",
      "hola\n"
     ]
    }
   ],
   "source": [
    "for item in seq:\n",
    "    print('hola')"
   ]
  },
  {
   "cell_type": "code",
   "execution_count": 62,
   "metadata": {
    "ExecuteTime": {
     "end_time": "2023-05-20T14:23:48.740691900Z",
     "start_time": "2023-05-20T14:23:48.714689600Z"
    }
   },
   "outputs": [
    {
     "name": "stdout",
     "output_type": "stream",
     "text": [
      "2\n",
      "4\n",
      "6\n",
      "8\n",
      "10\n"
     ]
    }
   ],
   "source": [
    "for j in seq:\n",
    "    print(j+j)"
   ]
  },
  {
   "cell_type": "markdown",
   "metadata": {},
   "source": [
    "## Bucle while"
   ]
  },
  {
   "cell_type": "code",
   "execution_count": 63,
   "metadata": {
    "ExecuteTime": {
     "end_time": "2023-05-20T14:23:49.056688600Z",
     "start_time": "2023-05-20T14:23:49.009690300Z"
    }
   },
   "outputs": [
    {
     "name": "stdout",
     "output_type": "stream",
     "text": [
      "i es: 1\n",
      "i es: 2\n",
      "i es: 3\n",
      "i es: 4\n"
     ]
    }
   ],
   "source": [
    "i = 1\n",
    "while i < 5:\n",
    "    print('i es: {}'.format(i))\n",
    "    i = i+1"
   ]
  },
  {
   "cell_type": "markdown",
   "metadata": {},
   "source": [
    "## range()"
   ]
  },
  {
   "cell_type": "code",
   "execution_count": 64,
   "metadata": {
    "ExecuteTime": {
     "end_time": "2023-05-20T14:23:49.352690600Z",
     "start_time": "2023-05-20T14:23:49.319708100Z"
    }
   },
   "outputs": [
    {
     "data": {
      "text/plain": "range(0, 5)"
     },
     "execution_count": 64,
     "metadata": {},
     "output_type": "execute_result"
    }
   ],
   "source": [
    "range(5)"
   ]
  },
  {
   "cell_type": "code",
   "execution_count": 65,
   "metadata": {
    "ExecuteTime": {
     "end_time": "2023-05-20T14:23:49.495689Z",
     "start_time": "2023-05-20T14:23:49.465688900Z"
    }
   },
   "outputs": [
    {
     "name": "stdout",
     "output_type": "stream",
     "text": [
      "0\n",
      "1\n",
      "2\n",
      "3\n",
      "4\n"
     ]
    }
   ],
   "source": [
    "for i in range(5):\n",
    "    print(i)"
   ]
  },
  {
   "cell_type": "code",
   "execution_count": 66,
   "metadata": {
    "ExecuteTime": {
     "end_time": "2023-05-20T14:23:49.637690Z",
     "start_time": "2023-05-20T14:23:49.607689700Z"
    }
   },
   "outputs": [
    {
     "data": {
      "text/plain": "[0, 1, 2, 3, 4]"
     },
     "execution_count": 66,
     "metadata": {},
     "output_type": "execute_result"
    }
   ],
   "source": [
    "list(range(5))"
   ]
  },
  {
   "cell_type": "markdown",
   "metadata": {},
   "source": [
    "## Comprensión de listas"
   ]
  },
  {
   "cell_type": "code",
   "execution_count": 67,
   "metadata": {
    "ExecuteTime": {
     "end_time": "2023-05-20T14:23:49.925689600Z",
     "start_time": "2023-05-20T14:23:49.895694200Z"
    }
   },
   "outputs": [],
   "source": [
    "x = [1,2,3,4]"
   ]
  },
  {
   "cell_type": "code",
   "execution_count": 68,
   "metadata": {
    "ExecuteTime": {
     "end_time": "2023-05-20T14:23:50.103687900Z",
     "start_time": "2023-05-20T14:23:50.062692600Z"
    }
   },
   "outputs": [
    {
     "name": "stdout",
     "output_type": "stream",
     "text": [
      "[1, 4, 9, 16]\n"
     ]
    }
   ],
   "source": [
    "out = []\n",
    "for item in x:\n",
    "    out.append(item**2)\n",
    "print(out)"
   ]
  },
  {
   "cell_type": "code",
   "execution_count": 69,
   "metadata": {
    "ExecuteTime": {
     "end_time": "2023-05-20T14:23:50.240722200Z",
     "start_time": "2023-05-20T14:23:50.210690500Z"
    }
   },
   "outputs": [
    {
     "data": {
      "text/plain": "[1, 4, 9, 16]"
     },
     "execution_count": 69,
     "metadata": {},
     "output_type": "execute_result"
    }
   ],
   "source": [
    "[item**2 for item in x]"
   ]
  },
  {
   "cell_type": "code",
   "execution_count": 70,
   "metadata": {
    "ExecuteTime": {
     "end_time": "2023-05-20T14:23:50.449687700Z",
     "start_time": "2023-05-20T14:23:50.376688500Z"
    }
   },
   "outputs": [],
   "source": [
    "y = [item**2 for item in x]"
   ]
  },
  {
   "cell_type": "code",
   "execution_count": 71,
   "metadata": {
    "ExecuteTime": {
     "end_time": "2023-05-20T14:23:50.557688600Z",
     "start_time": "2023-05-20T14:23:50.537689600Z"
    }
   },
   "outputs": [
    {
     "data": {
      "text/plain": "[1, 4, 9, 16]"
     },
     "execution_count": 71,
     "metadata": {},
     "output_type": "execute_result"
    }
   ],
   "source": [
    "y"
   ]
  },
  {
   "cell_type": "markdown",
   "metadata": {},
   "source": [
    "## Funciones"
   ]
  },
  {
   "cell_type": "code",
   "execution_count": 72,
   "metadata": {
    "ExecuteTime": {
     "end_time": "2023-05-20T14:23:50.849690800Z",
     "start_time": "2023-05-20T14:23:50.836689500Z"
    }
   },
   "outputs": [],
   "source": [
    "def my_func(param1='default'):\n",
    "    \"\"\"\n",
    "    Documentacion va aqui\n",
    "    \"\"\"\n",
    "    print(param1)"
   ]
  },
  {
   "cell_type": "code",
   "execution_count": 73,
   "metadata": {
    "ExecuteTime": {
     "end_time": "2023-05-20T14:23:51.021690200Z",
     "start_time": "2023-05-20T14:23:50.992689600Z"
    }
   },
   "outputs": [
    {
     "data": {
      "text/plain": "<function __main__.my_func(param1='default')>"
     },
     "execution_count": 73,
     "metadata": {},
     "output_type": "execute_result"
    }
   ],
   "source": [
    "my_func"
   ]
  },
  {
   "cell_type": "code",
   "execution_count": 74,
   "metadata": {
    "ExecuteTime": {
     "end_time": "2023-05-20T14:23:51.182717800Z",
     "start_time": "2023-05-20T14:23:51.157688700Z"
    }
   },
   "outputs": [
    {
     "name": "stdout",
     "output_type": "stream",
     "text": [
      "default\n"
     ]
    }
   ],
   "source": [
    "my_func()"
   ]
  },
  {
   "cell_type": "code",
   "execution_count": 75,
   "metadata": {
    "ExecuteTime": {
     "end_time": "2023-05-20T14:23:51.344692400Z",
     "start_time": "2023-05-20T14:23:51.299693500Z"
    }
   },
   "outputs": [
    {
     "name": "stdout",
     "output_type": "stream",
     "text": [
      "nuevo parametro\n"
     ]
    }
   ],
   "source": [
    "my_func('nuevo parametro')"
   ]
  },
  {
   "cell_type": "code",
   "execution_count": 76,
   "metadata": {
    "ExecuteTime": {
     "end_time": "2023-05-20T14:23:51.488690200Z",
     "start_time": "2023-05-20T14:23:51.459689800Z"
    }
   },
   "outputs": [
    {
     "name": "stdout",
     "output_type": "stream",
     "text": [
      "nuevo parametro\n"
     ]
    }
   ],
   "source": [
    "my_func(param1='nuevo parametro')"
   ]
  },
  {
   "cell_type": "code",
   "execution_count": 77,
   "metadata": {
    "ExecuteTime": {
     "end_time": "2023-05-20T14:23:51.672689500Z",
     "start_time": "2023-05-20T14:23:51.613690500Z"
    }
   },
   "outputs": [],
   "source": [
    "def square(x):\n",
    "    return x**2"
   ]
  },
  {
   "cell_type": "code",
   "execution_count": 78,
   "metadata": {
    "ExecuteTime": {
     "end_time": "2023-05-20T14:23:51.793689800Z",
     "start_time": "2023-05-20T14:23:51.781688800Z"
    }
   },
   "outputs": [],
   "source": [
    "out = square(2)"
   ]
  },
  {
   "cell_type": "code",
   "execution_count": 79,
   "metadata": {
    "scrolled": true,
    "ExecuteTime": {
     "end_time": "2023-05-20T14:23:52.027690500Z",
     "start_time": "2023-05-20T14:23:51.952695700Z"
    }
   },
   "outputs": [
    {
     "name": "stdout",
     "output_type": "stream",
     "text": [
      "4\n"
     ]
    }
   ],
   "source": [
    "print(out)"
   ]
  },
  {
   "cell_type": "markdown",
   "metadata": {},
   "source": [
    "## Expresiones lambda"
   ]
  },
  {
   "cell_type": "code",
   "execution_count": 80,
   "metadata": {
    "ExecuteTime": {
     "end_time": "2023-05-20T14:23:52.216718Z",
     "start_time": "2023-05-20T14:23:52.207689300Z"
    }
   },
   "outputs": [],
   "source": [
    "def times2(var):\n",
    "    return var*2"
   ]
  },
  {
   "cell_type": "code",
   "execution_count": 81,
   "metadata": {
    "ExecuteTime": {
     "end_time": "2023-05-20T14:23:52.434688900Z",
     "start_time": "2023-05-20T14:23:52.367688200Z"
    }
   },
   "outputs": [
    {
     "data": {
      "text/plain": "4"
     },
     "execution_count": 81,
     "metadata": {},
     "output_type": "execute_result"
    }
   ],
   "source": [
    "times2(2)"
   ]
  },
  {
   "cell_type": "code",
   "execution_count": 82,
   "metadata": {
    "ExecuteTime": {
     "end_time": "2023-05-20T14:23:52.560688500Z",
     "start_time": "2023-05-20T14:23:52.538690Z"
    }
   },
   "outputs": [
    {
     "data": {
      "text/plain": "<function __main__.<lambda>(var)>"
     },
     "execution_count": 82,
     "metadata": {},
     "output_type": "execute_result"
    }
   ],
   "source": [
    "lambda var: var*2"
   ]
  },
  {
   "cell_type": "markdown",
   "metadata": {},
   "source": [
    "## map y filter"
   ]
  },
  {
   "cell_type": "code",
   "execution_count": 83,
   "metadata": {
    "ExecuteTime": {
     "end_time": "2023-05-20T14:23:52.854688700Z",
     "start_time": "2023-05-20T14:23:52.842691Z"
    }
   },
   "outputs": [],
   "source": [
    "seq = [1,2,3,4,5]"
   ]
  },
  {
   "cell_type": "code",
   "execution_count": 84,
   "metadata": {
    "ExecuteTime": {
     "end_time": "2023-05-20T14:23:53.020692200Z",
     "start_time": "2023-05-20T14:23:53.011690200Z"
    }
   },
   "outputs": [
    {
     "data": {
      "text/plain": "<map at 0x1604b77d4f0>"
     },
     "execution_count": 84,
     "metadata": {},
     "output_type": "execute_result"
    }
   ],
   "source": [
    "map(times2,seq)"
   ]
  },
  {
   "cell_type": "code",
   "execution_count": 85,
   "metadata": {
    "ExecuteTime": {
     "end_time": "2023-05-20T14:23:53.194718500Z",
     "start_time": "2023-05-20T14:23:53.168689200Z"
    }
   },
   "outputs": [
    {
     "data": {
      "text/plain": "[2, 4, 6, 8, 10]"
     },
     "execution_count": 85,
     "metadata": {},
     "output_type": "execute_result"
    }
   ],
   "source": [
    "list(map(times2,seq))"
   ]
  },
  {
   "cell_type": "code",
   "execution_count": 86,
   "metadata": {
    "ExecuteTime": {
     "end_time": "2023-05-20T14:23:53.349689500Z",
     "start_time": "2023-05-20T14:23:53.335689600Z"
    }
   },
   "outputs": [
    {
     "data": {
      "text/plain": "[2, 4, 6, 8, 10]"
     },
     "execution_count": 86,
     "metadata": {},
     "output_type": "execute_result"
    }
   ],
   "source": [
    "list(map(lambda var: var*2,seq))"
   ]
  },
  {
   "cell_type": "code",
   "execution_count": 87,
   "metadata": {
    "ExecuteTime": {
     "end_time": "2023-05-20T14:23:53.508689300Z",
     "start_time": "2023-05-20T14:23:53.498691600Z"
    }
   },
   "outputs": [
    {
     "data": {
      "text/plain": "<filter at 0x1604a5bfc40>"
     },
     "execution_count": 87,
     "metadata": {},
     "output_type": "execute_result"
    }
   ],
   "source": [
    "filter(lambda item: item%2 == 0,seq)"
   ]
  },
  {
   "cell_type": "code",
   "execution_count": 88,
   "metadata": {
    "ExecuteTime": {
     "end_time": "2023-05-20T14:23:53.721723400Z",
     "start_time": "2023-05-20T14:23:53.658691700Z"
    }
   },
   "outputs": [
    {
     "data": {
      "text/plain": "[2, 4]"
     },
     "execution_count": 88,
     "metadata": {},
     "output_type": "execute_result"
    }
   ],
   "source": [
    "list(filter(lambda item: item%2 == 0,seq))"
   ]
  },
  {
   "cell_type": "markdown",
   "metadata": {},
   "source": [
    "## Metodos"
   ]
  },
  {
   "cell_type": "code",
   "execution_count": 89,
   "metadata": {
    "ExecuteTime": {
     "end_time": "2023-05-20T14:23:54.022688600Z",
     "start_time": "2023-05-20T14:23:53.975689600Z"
    }
   },
   "outputs": [],
   "source": [
    "st = 'Hola mi nombre es Pat'"
   ]
  },
  {
   "cell_type": "code",
   "execution_count": 90,
   "metadata": {
    "ExecuteTime": {
     "end_time": "2023-05-20T14:23:54.151688400Z",
     "start_time": "2023-05-20T14:23:54.139706200Z"
    }
   },
   "outputs": [
    {
     "data": {
      "text/plain": "'hola mi nombre es pat'"
     },
     "execution_count": 90,
     "metadata": {},
     "output_type": "execute_result"
    }
   ],
   "source": [
    "st.lower()"
   ]
  },
  {
   "cell_type": "code",
   "execution_count": 91,
   "metadata": {
    "ExecuteTime": {
     "end_time": "2023-05-20T14:23:54.324703600Z",
     "start_time": "2023-05-20T14:23:54.312690500Z"
    }
   },
   "outputs": [
    {
     "data": {
      "text/plain": "'HOLA MI NOMBRE ES PAT'"
     },
     "execution_count": 91,
     "metadata": {},
     "output_type": "execute_result"
    }
   ],
   "source": [
    "st.upper()"
   ]
  },
  {
   "cell_type": "code",
   "execution_count": 92,
   "metadata": {
    "ExecuteTime": {
     "end_time": "2023-05-20T14:23:54.529718600Z",
     "start_time": "2023-05-20T14:23:54.486689Z"
    }
   },
   "outputs": [
    {
     "data": {
      "text/plain": "['Hola', 'mi', 'nombre', 'es', 'Pat']"
     },
     "execution_count": 92,
     "metadata": {},
     "output_type": "execute_result"
    }
   ],
   "source": [
    "st.split()"
   ]
  },
  {
   "cell_type": "code",
   "execution_count": 93,
   "metadata": {
    "ExecuteTime": {
     "end_time": "2023-05-20T14:23:54.668688700Z",
     "start_time": "2023-05-20T14:23:54.655689700Z"
    }
   },
   "outputs": [],
   "source": [
    "tweet = 'Vamos Peru! #SiSePuede'"
   ]
  },
  {
   "cell_type": "code",
   "execution_count": 94,
   "metadata": {
    "ExecuteTime": {
     "end_time": "2023-05-20T14:23:54.818687700Z",
     "start_time": "2023-05-20T14:23:54.808688500Z"
    }
   },
   "outputs": [
    {
     "data": {
      "text/plain": "['Vamos Peru! ', 'SiSePuede']"
     },
     "execution_count": 94,
     "metadata": {},
     "output_type": "execute_result"
    }
   ],
   "source": [
    "tweet.split('#')"
   ]
  },
  {
   "cell_type": "code",
   "execution_count": 95,
   "metadata": {
    "ExecuteTime": {
     "end_time": "2023-05-20T14:23:54.989690600Z",
     "start_time": "2023-05-20T14:23:54.979692500Z"
    }
   },
   "outputs": [
    {
     "data": {
      "text/plain": "'SiSePuede'"
     },
     "execution_count": 95,
     "metadata": {},
     "output_type": "execute_result"
    }
   ],
   "source": [
    "tweet.split('#')[1]"
   ]
  },
  {
   "cell_type": "code",
   "execution_count": 96,
   "metadata": {
    "ExecuteTime": {
     "end_time": "2023-05-20T14:23:55.169697800Z",
     "start_time": "2023-05-20T14:23:55.146687800Z"
    }
   },
   "outputs": [
    {
     "data": {
      "text/plain": "{'key1': 'item1', 'key2': 'item2'}"
     },
     "execution_count": 96,
     "metadata": {},
     "output_type": "execute_result"
    }
   ],
   "source": [
    "d"
   ]
  },
  {
   "cell_type": "code",
   "execution_count": 97,
   "metadata": {
    "ExecuteTime": {
     "end_time": "2023-05-20T14:23:55.368690400Z",
     "start_time": "2023-05-20T14:23:55.318701700Z"
    }
   },
   "outputs": [
    {
     "data": {
      "text/plain": "dict_keys(['key1', 'key2'])"
     },
     "execution_count": 97,
     "metadata": {},
     "output_type": "execute_result"
    }
   ],
   "source": [
    "d.keys()"
   ]
  },
  {
   "cell_type": "code",
   "execution_count": 98,
   "metadata": {
    "ExecuteTime": {
     "end_time": "2023-05-20T14:23:55.531689200Z",
     "start_time": "2023-05-20T14:23:55.499690300Z"
    }
   },
   "outputs": [
    {
     "data": {
      "text/plain": "dict_items([('key1', 'item1'), ('key2', 'item2')])"
     },
     "execution_count": 98,
     "metadata": {},
     "output_type": "execute_result"
    }
   ],
   "source": [
    "d.items()"
   ]
  },
  {
   "cell_type": "code",
   "execution_count": 99,
   "metadata": {
    "ExecuteTime": {
     "end_time": "2023-05-20T14:23:55.734702900Z",
     "start_time": "2023-05-20T14:23:55.677691700Z"
    }
   },
   "outputs": [],
   "source": [
    "lst = [1,2,3]"
   ]
  },
  {
   "cell_type": "code",
   "execution_count": 100,
   "metadata": {
    "ExecuteTime": {
     "end_time": "2023-05-20T14:23:55.852690400Z",
     "start_time": "2023-05-20T14:23:55.821689700Z"
    }
   },
   "outputs": [
    {
     "data": {
      "text/plain": "3"
     },
     "execution_count": 100,
     "metadata": {},
     "output_type": "execute_result"
    }
   ],
   "source": [
    "\"\"\"\n",
    "Remueve un item de una lista.  Si no se especifica, elimina el ultimo (index = -1)\n",
    "\"\"\"\n",
    "lst.pop()"
   ]
  },
  {
   "cell_type": "code",
   "execution_count": 101,
   "metadata": {
    "ExecuteTime": {
     "end_time": "2023-05-20T14:23:55.976690900Z",
     "start_time": "2023-05-20T14:23:55.966690200Z"
    }
   },
   "outputs": [
    {
     "data": {
      "text/plain": "[1, 2]"
     },
     "execution_count": 101,
     "metadata": {},
     "output_type": "execute_result"
    }
   ],
   "source": [
    "lst"
   ]
  },
  {
   "cell_type": "code",
   "execution_count": 102,
   "metadata": {
    "ExecuteTime": {
     "end_time": "2023-05-20T14:23:56.129689900Z",
     "start_time": "2023-05-20T14:23:56.119688900Z"
    }
   },
   "outputs": [
    {
     "data": {
      "text/plain": "False"
     },
     "execution_count": 102,
     "metadata": {},
     "output_type": "execute_result"
    }
   ],
   "source": [
    "'x' in [1,2,3]"
   ]
  },
  {
   "cell_type": "code",
   "execution_count": 103,
   "metadata": {
    "ExecuteTime": {
     "end_time": "2023-05-20T14:23:56.362690500Z",
     "start_time": "2023-05-20T14:23:56.287690500Z"
    }
   },
   "outputs": [
    {
     "data": {
      "text/plain": "True"
     },
     "execution_count": 103,
     "metadata": {},
     "output_type": "execute_result"
    }
   ],
   "source": [
    "'x' in ['x','y','z']"
   ]
  },
  {
   "cell_type": "markdown",
   "metadata": {},
   "source": [
    "# Si llegaste hasta aqui, buen trabajo!\n",
    "Una guia mas completa se puede consultar en https://www.w3schools.com/python/python_operators.asp"
   ]
  }
 ],
 "metadata": {
  "kernelspec": {
   "display_name": "Python 3",
   "language": "python",
   "name": "python3"
  },
  "language_info": {
   "codemirror_mode": {
    "name": "ipython",
    "version": 3
   },
   "file_extension": ".py",
   "mimetype": "text/x-python",
   "name": "python",
   "nbconvert_exporter": "python",
   "pygments_lexer": "ipython3",
   "version": "3.8.5"
  }
 },
 "nbformat": 4,
 "nbformat_minor": 1
}
