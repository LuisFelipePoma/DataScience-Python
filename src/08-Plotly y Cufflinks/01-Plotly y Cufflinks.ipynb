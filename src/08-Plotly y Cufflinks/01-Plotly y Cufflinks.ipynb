{
 "cells": [
  {
   "cell_type": "markdown",
   "metadata": {},
   "source": [
    "___\n",
    "\n",
    "<a href='https://plotly.com/python/'> <img src='https://plotly.com/all_static/images/plotly_graphing_libraries_1.png' /></a>\n",
    "___\n",
    "# Plotly y Cufflinks"
   ]
  },
  {
   "cell_type": "markdown",
   "metadata": {},
   "source": [
    "**Plotly** es una libreria que permite crear gráficos interactivos para poder usarse en cuadros de mando o sitios web (se pueden guardar como archivos html o imágenes estáticas).\n",
    "\n",
    "**Cufflinks** es una libreria que conecta un dataframe de Pandas con Plotly, lo que permite a los usuarios crear visualizaciones directamente desde Pandas. Esta libreria une el poder de Plotly con la flexibilidad de Pandas para facilitar la visualización de los datos.\n",
    "\n",
    "## Instalación\n",
    "\n",
    "Para que todo esto funcione, se deberá instalar plotly y cufflinks para llamar a los gráficos directamente desde un dataframe de Pandas. Estas librerias no están disponibles actualmente a través de Conda, pero están disponibles a través de pip . Instalar las librerias en su línea de comando/terminal usando:\n",
    "\n",
    "    pip install plotly\n",
    "    pip install cufflinks\n",
    "\n",
    "## Importaciones y configuración "
   ]
  },
  {
   "cell_type": "code",
   "execution_count": 1,
   "metadata": {},
   "outputs": [],
   "source": [
    "import pandas as pd\n",
    "import numpy as np\n",
    "%matplotlib inline"
   ]
  },
  {
   "cell_type": "code",
   "execution_count": 2,
   "metadata": {},
   "outputs": [
    {
     "name": "stdout",
     "output_type": "stream",
     "text": [
      "5.15.0\n"
     ]
    }
   ],
   "source": [
    "from plotly import __version__\n",
    "from plotly.offline import download_plotlyjs, init_notebook_mode, plot, iplot\n",
    "\n",
    "print(__version__) # requires version >= 1.9.0"
   ]
  },
  {
   "cell_type": "code",
   "execution_count": 3,
   "metadata": {},
   "outputs": [],
   "source": [
    "import cufflinks as cf"
   ]
  },
  {
   "cell_type": "code",
   "execution_count": 4,
   "metadata": {},
   "outputs": [
    {
     "data": {
      "text/html": [
       "        <script type=\"text/javascript\">\n",
       "        window.PlotlyConfig = {MathJaxConfig: 'local'};\n",
       "        if (window.MathJax && window.MathJax.Hub && window.MathJax.Hub.Config) {window.MathJax.Hub.Config({SVG: {font: \"STIX-Web\"}});}\n",
       "        if (typeof require !== 'undefined') {\n",
       "        require.undef(\"plotly\");\n",
       "        requirejs.config({\n",
       "            paths: {\n",
       "                'plotly': ['https://cdn.plot.ly/plotly-2.24.1.min']\n",
       "            }\n",
       "        });\n",
       "        require(['plotly'], function(Plotly) {\n",
       "            window._Plotly = Plotly;\n",
       "        });\n",
       "        }\n",
       "        </script>\n",
       "        "
      ]
     },
     "metadata": {},
     "output_type": "display_data"
    }
   ],
   "source": [
    "# Para Notebooks\n",
    "init_notebook_mode(connected=True)"
   ]
  },
  {
   "cell_type": "code",
   "execution_count": 5,
   "metadata": {},
   "outputs": [
    {
     "data": {
      "text/html": [
       "        <script type=\"text/javascript\">\n",
       "        window.PlotlyConfig = {MathJaxConfig: 'local'};\n",
       "        if (window.MathJax && window.MathJax.Hub && window.MathJax.Hub.Config) {window.MathJax.Hub.Config({SVG: {font: \"STIX-Web\"}});}\n",
       "        if (typeof require !== 'undefined') {\n",
       "        require.undef(\"plotly\");\n",
       "        requirejs.config({\n",
       "            paths: {\n",
       "                'plotly': ['https://cdn.plot.ly/plotly-2.24.1.min']\n",
       "            }\n",
       "        });\n",
       "        require(['plotly'], function(Plotly) {\n",
       "            window._Plotly = Plotly;\n",
       "        });\n",
       "        }\n",
       "        </script>\n",
       "        "
      ]
     },
     "metadata": {},
     "output_type": "display_data"
    }
   ],
   "source": [
    "# Para uso offline colocar\n",
    "cf.go_offline()"
   ]
  },
  {
   "cell_type": "markdown",
   "metadata": {},
   "source": [
    "### Datos de prueba"
   ]
  },
  {
   "cell_type": "code",
   "execution_count": 6,
   "metadata": {},
   "outputs": [],
   "source": [
    "df = pd.DataFrame(np.random.randn(100,4),columns='A B C D'.split())"
   ]
  },
  {
   "cell_type": "code",
   "execution_count": 7,
   "metadata": {},
   "outputs": [
    {
     "data": {
      "text/html": [
       "<div>\n",
       "<style scoped>\n",
       "    .dataframe tbody tr th:only-of-type {\n",
       "        vertical-align: middle;\n",
       "    }\n",
       "\n",
       "    .dataframe tbody tr th {\n",
       "        vertical-align: top;\n",
       "    }\n",
       "\n",
       "    .dataframe thead th {\n",
       "        text-align: right;\n",
       "    }\n",
       "</style>\n",
       "<table border=\"1\" class=\"dataframe\">\n",
       "  <thead>\n",
       "    <tr style=\"text-align: right;\">\n",
       "      <th></th>\n",
       "      <th>A</th>\n",
       "      <th>B</th>\n",
       "      <th>C</th>\n",
       "      <th>D</th>\n",
       "    </tr>\n",
       "  </thead>\n",
       "  <tbody>\n",
       "    <tr>\n",
       "      <th>0</th>\n",
       "      <td>-1.620198</td>\n",
       "      <td>0.829759</td>\n",
       "      <td>0.193259</td>\n",
       "      <td>-1.020586</td>\n",
       "    </tr>\n",
       "    <tr>\n",
       "      <th>1</th>\n",
       "      <td>1.179015</td>\n",
       "      <td>-0.278311</td>\n",
       "      <td>-0.734608</td>\n",
       "      <td>-0.185132</td>\n",
       "    </tr>\n",
       "    <tr>\n",
       "      <th>2</th>\n",
       "      <td>-1.621494</td>\n",
       "      <td>-1.528957</td>\n",
       "      <td>1.626722</td>\n",
       "      <td>-0.118836</td>\n",
       "    </tr>\n",
       "    <tr>\n",
       "      <th>3</th>\n",
       "      <td>0.030471</td>\n",
       "      <td>-0.024712</td>\n",
       "      <td>0.862273</td>\n",
       "      <td>-0.752205</td>\n",
       "    </tr>\n",
       "    <tr>\n",
       "      <th>4</th>\n",
       "      <td>-0.252629</td>\n",
       "      <td>-0.024733</td>\n",
       "      <td>1.884882</td>\n",
       "      <td>0.881270</td>\n",
       "    </tr>\n",
       "  </tbody>\n",
       "</table>\n",
       "</div>"
      ],
      "text/plain": [
       "          A         B         C         D\n",
       "0 -1.620198  0.829759  0.193259 -1.020586\n",
       "1  1.179015 -0.278311 -0.734608 -0.185132\n",
       "2 -1.621494 -1.528957  1.626722 -0.118836\n",
       "3  0.030471 -0.024712  0.862273 -0.752205\n",
       "4 -0.252629 -0.024733  1.884882  0.881270"
      ]
     },
     "execution_count": 7,
     "metadata": {},
     "output_type": "execute_result"
    }
   ],
   "source": [
    "df.head()"
   ]
  },
  {
   "cell_type": "code",
   "execution_count": 8,
   "metadata": {},
   "outputs": [],
   "source": [
    "df2 = pd.DataFrame({'Category':['A','B','C'],'Values':[32,43,50]})"
   ]
  },
  {
   "cell_type": "code",
   "execution_count": 9,
   "metadata": {},
   "outputs": [
    {
     "data": {
      "text/html": [
       "<div>\n",
       "<style scoped>\n",
       "    .dataframe tbody tr th:only-of-type {\n",
       "        vertical-align: middle;\n",
       "    }\n",
       "\n",
       "    .dataframe tbody tr th {\n",
       "        vertical-align: top;\n",
       "    }\n",
       "\n",
       "    .dataframe thead th {\n",
       "        text-align: right;\n",
       "    }\n",
       "</style>\n",
       "<table border=\"1\" class=\"dataframe\">\n",
       "  <thead>\n",
       "    <tr style=\"text-align: right;\">\n",
       "      <th></th>\n",
       "      <th>Category</th>\n",
       "      <th>Values</th>\n",
       "    </tr>\n",
       "  </thead>\n",
       "  <tbody>\n",
       "    <tr>\n",
       "      <th>0</th>\n",
       "      <td>A</td>\n",
       "      <td>32</td>\n",
       "    </tr>\n",
       "    <tr>\n",
       "      <th>1</th>\n",
       "      <td>B</td>\n",
       "      <td>43</td>\n",
       "    </tr>\n",
       "    <tr>\n",
       "      <th>2</th>\n",
       "      <td>C</td>\n",
       "      <td>50</td>\n",
       "    </tr>\n",
       "  </tbody>\n",
       "</table>\n",
       "</div>"
      ],
      "text/plain": [
       "  Category  Values\n",
       "0        A      32\n",
       "1        B      43\n",
       "2        C      50"
      ]
     },
     "execution_count": 9,
     "metadata": {},
     "output_type": "execute_result"
    }
   ],
   "source": [
    "df2.head()"
   ]
  },
  {
   "cell_type": "markdown",
   "metadata": {},
   "source": [
    "## Usando Cufflinks e iplot()\n",
    "\n",
    "* Scatter\n",
    "* Bar\n",
    "* Boxplot\n",
    "* 3D surface\n",
    "* Histograma\n",
    "* Burbujas"
   ]
  },
  {
   "cell_type": "markdown",
   "metadata": {},
   "source": [
    "## Scatter"
   ]
  },
  {
   "cell_type": "code",
   "execution_count": 10,
   "metadata": {},
   "outputs": [
    {
     "data": {
      "application/vnd.plotly.v1+json": {
       "config": {
        "linkText": "Export to plot.ly",
        "plotlyServerURL": "https://plot.ly",
        "showLink": true
       },
       "data": [
        {
         "line": {
          "color": "rgba(255, 153, 51, 1.0)",
          "dash": "solid",
          "shape": "linear",
          "width": 1.3
         },
         "marker": {
          "size": 10,
          "symbol": "circle"
         },
         "mode": "markers",
         "name": "B",
         "text": "",
         "type": "scatter",
         "x": [
          -1.6201976890972134,
          1.179015368276081,
          -1.6214936519133512,
          0.03047124553832825,
          -0.2526286104197828,
          -0.9379499246694599,
          0.8269671650355134,
          0.38325540578942224,
          -1.3369240350745981,
          -0.1571043386951906,
          -0.47374238434467664,
          0.023099309943598014,
          0.733279230152324,
          0.4327892353101228,
          0.7866427226972601,
          0.8193153509882917,
          -0.6573163617758523,
          1.1080405429061686,
          -1.6288423934815082,
          0.19327248550973222,
          0.4670318890218097,
          0.24344411424644669,
          -1.3311134389816102,
          1.1620551223577433,
          1.2912876489780356,
          0.18104564980079738,
          -0.920957826249496,
          0.8153373278150663,
          0.4141237490605079,
          -1.2233923269366347,
          1.1809931936702687,
          -0.7472502325260357,
          0.7316732664119959,
          -0.24907740141754095,
          -1.856039241555898,
          0.48557905752155645,
          0.942283881961478,
          0.3578556108847455,
          -1.8677443406725636,
          1.0023813900186556,
          -0.2507150736742075,
          -0.9952209282809444,
          0.3996845671425887,
          -0.9446255241307885,
          -0.04225580624092134,
          -0.3506283854717632,
          1.413574037050735,
          -1.0317515856596224,
          1.480630113279642,
          0.39947797467673907,
          -0.6931505541669951,
          0.5821102631893128,
          0.4962188462986672,
          -0.2581590569711388,
          0.8973741639491336,
          -0.10080319290798798,
          -0.15464812870423214,
          0.8678202284599688,
          1.4082624375863562,
          -1.9604410319949725,
          1.5980717080218183,
          1.2573680424497145,
          0.8735081041173356,
          -1.0539724794624896,
          0.14895184661081642,
          1.0605146334574904,
          1.2608514085352878,
          0.240971785315486,
          0.2748063637274384,
          0.3539595539621846,
          1.2342208918053148,
          0.7223660874952281,
          -0.8641043702663473,
          -1.722594215592153,
          0.5522634434427093,
          -0.49545212848549014,
          -0.4298662616575933,
          0.8912737176769494,
          0.7827711272796617,
          1.2401269084078836,
          0.708741330504012,
          -0.7042768008570168,
          2.0624212994254996,
          -0.8775630823875434,
          -0.5172012578681376,
          0.08542921152016249,
          -0.9155834771940242,
          0.009828356120732294,
          -2.0744709535958066,
          0.22643759282650308,
          -0.5150997924470277,
          1.1698742620669689,
          1.666037436029818,
          0.2548941811062244,
          -0.11358095313937175,
          1.8217550714168769,
          -1.1735435230757323,
          -0.7592093728741733,
          -0.2988109427460776,
          0.9961206466322576
         ],
         "y": [
          0.8297594902124418,
          -0.2783114996995031,
          -1.5289569523977877,
          -0.024712108089802683,
          -0.0247326672640995,
          -0.22748462092405278,
          -1.2046557250956362,
          -0.492574198134032,
          -0.8277087842007413,
          -0.5268682018178362,
          -0.7466368292324888,
          -1.6747939271306416,
          0.5515156661553242,
          -1.4772162733955383,
          -0.4254126914075391,
          -0.7914420736295171,
          -0.7253414533807264,
          -1.261797119079572,
          -1.2962240385283845,
          0.24117064460294366,
          1.0626596268890234,
          0.3330657373571715,
          -0.8173888046756824,
          0.625709231685683,
          0.9497207509658698,
          -0.7209576199345601,
          0.6113091443302957,
          0.09729281095671156,
          -0.7720024468971365,
          0.5930894634932572,
          1.5483268480595687,
          0.522617504572752,
          -0.9098182135648303,
          0.8715182286216513,
          -1.2908008408179037,
          -0.6816068106752934,
          0.30578782752968925,
          0.1326510272491607,
          0.36890944266358217,
          -0.4915204209445604,
          -0.1294344400609409,
          -0.4139232476620148,
          0.4904096710435924,
          -0.5021389171965049,
          -0.7041451895138741,
          1.915610746784163,
          -0.9811622770096722,
          0.41472580478141413,
          -0.00030173699829042525,
          -0.07742300302041409,
          0.03821276810804631,
          0.71686602330355,
          0.7574747053680021,
          0.9042140473633455,
          0.09759224671913559,
          -1.1803292048548368,
          -0.026214865627643223,
          -0.5459197506001886,
          0.7467193926971661,
          0.5431577761382423,
          0.210930427755455,
          1.2499441487288871,
          -3.048441413801019,
          0.02508455116907912,
          0.5476447945766364,
          -0.7718383664981547,
          -1.6821314507638936,
          -0.07769256589389573,
          1.4900168390869943,
          -0.8953597891744572,
          -0.33672148128028784,
          -0.7566801384767264,
          -0.43941583681939644,
          -0.6412448031731541,
          -0.5172857599200201,
          0.45956923847605186,
          1.8116969199744073,
          -0.5781802190947594,
          0.770776684992134,
          0.8627961753027991,
          -1.1575397220968435,
          0.8197478512094455,
          0.23064721862991777,
          0.008127836945889876,
          -0.7556460615903183,
          -0.6583060701628153,
          0.15637623791267963,
          -0.07895953358710191,
          -0.4364679669264129,
          1.636674909247799,
          -1.1480973336937255,
          -1.4056268439017143,
          0.7341548146711661,
          -0.1993410576061871,
          0.05287239073333219,
          0.6179748443438318,
          0.5181127568744494,
          -0.025898918350763307,
          0.23189176039414636,
          -0.3260572062212705
         ]
        }
       ],
       "layout": {
        "legend": {
         "bgcolor": "#F5F6F9",
         "font": {
          "color": "#4D5663"
         }
        },
        "paper_bgcolor": "#F5F6F9",
        "plot_bgcolor": "#F5F6F9",
        "template": {
         "data": {
          "bar": [
           {
            "error_x": {
             "color": "#2a3f5f"
            },
            "error_y": {
             "color": "#2a3f5f"
            },
            "marker": {
             "line": {
              "color": "#E5ECF6",
              "width": 0.5
             },
             "pattern": {
              "fillmode": "overlay",
              "size": 10,
              "solidity": 0.2
             }
            },
            "type": "bar"
           }
          ],
          "barpolar": [
           {
            "marker": {
             "line": {
              "color": "#E5ECF6",
              "width": 0.5
             },
             "pattern": {
              "fillmode": "overlay",
              "size": 10,
              "solidity": 0.2
             }
            },
            "type": "barpolar"
           }
          ],
          "carpet": [
           {
            "aaxis": {
             "endlinecolor": "#2a3f5f",
             "gridcolor": "white",
             "linecolor": "white",
             "minorgridcolor": "white",
             "startlinecolor": "#2a3f5f"
            },
            "baxis": {
             "endlinecolor": "#2a3f5f",
             "gridcolor": "white",
             "linecolor": "white",
             "minorgridcolor": "white",
             "startlinecolor": "#2a3f5f"
            },
            "type": "carpet"
           }
          ],
          "choropleth": [
           {
            "colorbar": {
             "outlinewidth": 0,
             "ticks": ""
            },
            "type": "choropleth"
           }
          ],
          "contour": [
           {
            "colorbar": {
             "outlinewidth": 0,
             "ticks": ""
            },
            "colorscale": [
             [
              0,
              "#0d0887"
             ],
             [
              0.1111111111111111,
              "#46039f"
             ],
             [
              0.2222222222222222,
              "#7201a8"
             ],
             [
              0.3333333333333333,
              "#9c179e"
             ],
             [
              0.4444444444444444,
              "#bd3786"
             ],
             [
              0.5555555555555556,
              "#d8576b"
             ],
             [
              0.6666666666666666,
              "#ed7953"
             ],
             [
              0.7777777777777778,
              "#fb9f3a"
             ],
             [
              0.8888888888888888,
              "#fdca26"
             ],
             [
              1,
              "#f0f921"
             ]
            ],
            "type": "contour"
           }
          ],
          "contourcarpet": [
           {
            "colorbar": {
             "outlinewidth": 0,
             "ticks": ""
            },
            "type": "contourcarpet"
           }
          ],
          "heatmap": [
           {
            "colorbar": {
             "outlinewidth": 0,
             "ticks": ""
            },
            "colorscale": [
             [
              0,
              "#0d0887"
             ],
             [
              0.1111111111111111,
              "#46039f"
             ],
             [
              0.2222222222222222,
              "#7201a8"
             ],
             [
              0.3333333333333333,
              "#9c179e"
             ],
             [
              0.4444444444444444,
              "#bd3786"
             ],
             [
              0.5555555555555556,
              "#d8576b"
             ],
             [
              0.6666666666666666,
              "#ed7953"
             ],
             [
              0.7777777777777778,
              "#fb9f3a"
             ],
             [
              0.8888888888888888,
              "#fdca26"
             ],
             [
              1,
              "#f0f921"
             ]
            ],
            "type": "heatmap"
           }
          ],
          "heatmapgl": [
           {
            "colorbar": {
             "outlinewidth": 0,
             "ticks": ""
            },
            "colorscale": [
             [
              0,
              "#0d0887"
             ],
             [
              0.1111111111111111,
              "#46039f"
             ],
             [
              0.2222222222222222,
              "#7201a8"
             ],
             [
              0.3333333333333333,
              "#9c179e"
             ],
             [
              0.4444444444444444,
              "#bd3786"
             ],
             [
              0.5555555555555556,
              "#d8576b"
             ],
             [
              0.6666666666666666,
              "#ed7953"
             ],
             [
              0.7777777777777778,
              "#fb9f3a"
             ],
             [
              0.8888888888888888,
              "#fdca26"
             ],
             [
              1,
              "#f0f921"
             ]
            ],
            "type": "heatmapgl"
           }
          ],
          "histogram": [
           {
            "marker": {
             "pattern": {
              "fillmode": "overlay",
              "size": 10,
              "solidity": 0.2
             }
            },
            "type": "histogram"
           }
          ],
          "histogram2d": [
           {
            "colorbar": {
             "outlinewidth": 0,
             "ticks": ""
            },
            "colorscale": [
             [
              0,
              "#0d0887"
             ],
             [
              0.1111111111111111,
              "#46039f"
             ],
             [
              0.2222222222222222,
              "#7201a8"
             ],
             [
              0.3333333333333333,
              "#9c179e"
             ],
             [
              0.4444444444444444,
              "#bd3786"
             ],
             [
              0.5555555555555556,
              "#d8576b"
             ],
             [
              0.6666666666666666,
              "#ed7953"
             ],
             [
              0.7777777777777778,
              "#fb9f3a"
             ],
             [
              0.8888888888888888,
              "#fdca26"
             ],
             [
              1,
              "#f0f921"
             ]
            ],
            "type": "histogram2d"
           }
          ],
          "histogram2dcontour": [
           {
            "colorbar": {
             "outlinewidth": 0,
             "ticks": ""
            },
            "colorscale": [
             [
              0,
              "#0d0887"
             ],
             [
              0.1111111111111111,
              "#46039f"
             ],
             [
              0.2222222222222222,
              "#7201a8"
             ],
             [
              0.3333333333333333,
              "#9c179e"
             ],
             [
              0.4444444444444444,
              "#bd3786"
             ],
             [
              0.5555555555555556,
              "#d8576b"
             ],
             [
              0.6666666666666666,
              "#ed7953"
             ],
             [
              0.7777777777777778,
              "#fb9f3a"
             ],
             [
              0.8888888888888888,
              "#fdca26"
             ],
             [
              1,
              "#f0f921"
             ]
            ],
            "type": "histogram2dcontour"
           }
          ],
          "mesh3d": [
           {
            "colorbar": {
             "outlinewidth": 0,
             "ticks": ""
            },
            "type": "mesh3d"
           }
          ],
          "parcoords": [
           {
            "line": {
             "colorbar": {
              "outlinewidth": 0,
              "ticks": ""
             }
            },
            "type": "parcoords"
           }
          ],
          "pie": [
           {
            "automargin": true,
            "type": "pie"
           }
          ],
          "scatter": [
           {
            "fillpattern": {
             "fillmode": "overlay",
             "size": 10,
             "solidity": 0.2
            },
            "type": "scatter"
           }
          ],
          "scatter3d": [
           {
            "line": {
             "colorbar": {
              "outlinewidth": 0,
              "ticks": ""
             }
            },
            "marker": {
             "colorbar": {
              "outlinewidth": 0,
              "ticks": ""
             }
            },
            "type": "scatter3d"
           }
          ],
          "scattercarpet": [
           {
            "marker": {
             "colorbar": {
              "outlinewidth": 0,
              "ticks": ""
             }
            },
            "type": "scattercarpet"
           }
          ],
          "scattergeo": [
           {
            "marker": {
             "colorbar": {
              "outlinewidth": 0,
              "ticks": ""
             }
            },
            "type": "scattergeo"
           }
          ],
          "scattergl": [
           {
            "marker": {
             "colorbar": {
              "outlinewidth": 0,
              "ticks": ""
             }
            },
            "type": "scattergl"
           }
          ],
          "scattermapbox": [
           {
            "marker": {
             "colorbar": {
              "outlinewidth": 0,
              "ticks": ""
             }
            },
            "type": "scattermapbox"
           }
          ],
          "scatterpolar": [
           {
            "marker": {
             "colorbar": {
              "outlinewidth": 0,
              "ticks": ""
             }
            },
            "type": "scatterpolar"
           }
          ],
          "scatterpolargl": [
           {
            "marker": {
             "colorbar": {
              "outlinewidth": 0,
              "ticks": ""
             }
            },
            "type": "scatterpolargl"
           }
          ],
          "scatterternary": [
           {
            "marker": {
             "colorbar": {
              "outlinewidth": 0,
              "ticks": ""
             }
            },
            "type": "scatterternary"
           }
          ],
          "surface": [
           {
            "colorbar": {
             "outlinewidth": 0,
             "ticks": ""
            },
            "colorscale": [
             [
              0,
              "#0d0887"
             ],
             [
              0.1111111111111111,
              "#46039f"
             ],
             [
              0.2222222222222222,
              "#7201a8"
             ],
             [
              0.3333333333333333,
              "#9c179e"
             ],
             [
              0.4444444444444444,
              "#bd3786"
             ],
             [
              0.5555555555555556,
              "#d8576b"
             ],
             [
              0.6666666666666666,
              "#ed7953"
             ],
             [
              0.7777777777777778,
              "#fb9f3a"
             ],
             [
              0.8888888888888888,
              "#fdca26"
             ],
             [
              1,
              "#f0f921"
             ]
            ],
            "type": "surface"
           }
          ],
          "table": [
           {
            "cells": {
             "fill": {
              "color": "#EBF0F8"
             },
             "line": {
              "color": "white"
             }
            },
            "header": {
             "fill": {
              "color": "#C8D4E3"
             },
             "line": {
              "color": "white"
             }
            },
            "type": "table"
           }
          ]
         },
         "layout": {
          "annotationdefaults": {
           "arrowcolor": "#2a3f5f",
           "arrowhead": 0,
           "arrowwidth": 1
          },
          "autotypenumbers": "strict",
          "coloraxis": {
           "colorbar": {
            "outlinewidth": 0,
            "ticks": ""
           }
          },
          "colorscale": {
           "diverging": [
            [
             0,
             "#8e0152"
            ],
            [
             0.1,
             "#c51b7d"
            ],
            [
             0.2,
             "#de77ae"
            ],
            [
             0.3,
             "#f1b6da"
            ],
            [
             0.4,
             "#fde0ef"
            ],
            [
             0.5,
             "#f7f7f7"
            ],
            [
             0.6,
             "#e6f5d0"
            ],
            [
             0.7,
             "#b8e186"
            ],
            [
             0.8,
             "#7fbc41"
            ],
            [
             0.9,
             "#4d9221"
            ],
            [
             1,
             "#276419"
            ]
           ],
           "sequential": [
            [
             0,
             "#0d0887"
            ],
            [
             0.1111111111111111,
             "#46039f"
            ],
            [
             0.2222222222222222,
             "#7201a8"
            ],
            [
             0.3333333333333333,
             "#9c179e"
            ],
            [
             0.4444444444444444,
             "#bd3786"
            ],
            [
             0.5555555555555556,
             "#d8576b"
            ],
            [
             0.6666666666666666,
             "#ed7953"
            ],
            [
             0.7777777777777778,
             "#fb9f3a"
            ],
            [
             0.8888888888888888,
             "#fdca26"
            ],
            [
             1,
             "#f0f921"
            ]
           ],
           "sequentialminus": [
            [
             0,
             "#0d0887"
            ],
            [
             0.1111111111111111,
             "#46039f"
            ],
            [
             0.2222222222222222,
             "#7201a8"
            ],
            [
             0.3333333333333333,
             "#9c179e"
            ],
            [
             0.4444444444444444,
             "#bd3786"
            ],
            [
             0.5555555555555556,
             "#d8576b"
            ],
            [
             0.6666666666666666,
             "#ed7953"
            ],
            [
             0.7777777777777778,
             "#fb9f3a"
            ],
            [
             0.8888888888888888,
             "#fdca26"
            ],
            [
             1,
             "#f0f921"
            ]
           ]
          },
          "colorway": [
           "#636efa",
           "#EF553B",
           "#00cc96",
           "#ab63fa",
           "#FFA15A",
           "#19d3f3",
           "#FF6692",
           "#B6E880",
           "#FF97FF",
           "#FECB52"
          ],
          "font": {
           "color": "#2a3f5f"
          },
          "geo": {
           "bgcolor": "white",
           "lakecolor": "white",
           "landcolor": "#E5ECF6",
           "showlakes": true,
           "showland": true,
           "subunitcolor": "white"
          },
          "hoverlabel": {
           "align": "left"
          },
          "hovermode": "closest",
          "mapbox": {
           "style": "light"
          },
          "paper_bgcolor": "white",
          "plot_bgcolor": "#E5ECF6",
          "polar": {
           "angularaxis": {
            "gridcolor": "white",
            "linecolor": "white",
            "ticks": ""
           },
           "bgcolor": "#E5ECF6",
           "radialaxis": {
            "gridcolor": "white",
            "linecolor": "white",
            "ticks": ""
           }
          },
          "scene": {
           "xaxis": {
            "backgroundcolor": "#E5ECF6",
            "gridcolor": "white",
            "gridwidth": 2,
            "linecolor": "white",
            "showbackground": true,
            "ticks": "",
            "zerolinecolor": "white"
           },
           "yaxis": {
            "backgroundcolor": "#E5ECF6",
            "gridcolor": "white",
            "gridwidth": 2,
            "linecolor": "white",
            "showbackground": true,
            "ticks": "",
            "zerolinecolor": "white"
           },
           "zaxis": {
            "backgroundcolor": "#E5ECF6",
            "gridcolor": "white",
            "gridwidth": 2,
            "linecolor": "white",
            "showbackground": true,
            "ticks": "",
            "zerolinecolor": "white"
           }
          },
          "shapedefaults": {
           "line": {
            "color": "#2a3f5f"
           }
          },
          "ternary": {
           "aaxis": {
            "gridcolor": "white",
            "linecolor": "white",
            "ticks": ""
           },
           "baxis": {
            "gridcolor": "white",
            "linecolor": "white",
            "ticks": ""
           },
           "bgcolor": "#E5ECF6",
           "caxis": {
            "gridcolor": "white",
            "linecolor": "white",
            "ticks": ""
           }
          },
          "title": {
           "x": 0.05
          },
          "xaxis": {
           "automargin": true,
           "gridcolor": "white",
           "linecolor": "white",
           "ticks": "",
           "title": {
            "standoff": 15
           },
           "zerolinecolor": "white",
           "zerolinewidth": 2
          },
          "yaxis": {
           "automargin": true,
           "gridcolor": "white",
           "linecolor": "white",
           "ticks": "",
           "title": {
            "standoff": 15
           },
           "zerolinecolor": "white",
           "zerolinewidth": 2
          }
         }
        },
        "title": {
         "font": {
          "color": "#4D5663"
         }
        },
        "xaxis": {
         "gridcolor": "#E1E5ED",
         "showgrid": true,
         "tickfont": {
          "color": "#4D5663"
         },
         "title": {
          "font": {
           "color": "#4D5663"
          },
          "text": ""
         },
         "zerolinecolor": "#E1E5ED"
        },
        "yaxis": {
         "gridcolor": "#E1E5ED",
         "showgrid": true,
         "tickfont": {
          "color": "#4D5663"
         },
         "title": {
          "font": {
           "color": "#4D5663"
          },
          "text": ""
         },
         "zerolinecolor": "#E1E5ED"
        }
       }
      },
      "text/html": [
       "<div>                            <div id=\"3035db06-54bd-45b8-8e33-10d983ce6b21\" class=\"plotly-graph-div\" style=\"height:525px; width:100%;\"></div>            <script type=\"text/javascript\">                require([\"plotly\"], function(Plotly) {                    window.PLOTLYENV=window.PLOTLYENV || {};\n",
       "                    window.PLOTLYENV.BASE_URL='https://plot.ly';                                    if (document.getElementById(\"3035db06-54bd-45b8-8e33-10d983ce6b21\")) {                    Plotly.newPlot(                        \"3035db06-54bd-45b8-8e33-10d983ce6b21\",                        [{\"line\":{\"color\":\"rgba(255, 153, 51, 1.0)\",\"dash\":\"solid\",\"shape\":\"linear\",\"width\":1.3},\"marker\":{\"size\":10,\"symbol\":\"circle\"},\"mode\":\"markers\",\"name\":\"B\",\"text\":\"\",\"x\":[-1.6201976890972134,1.179015368276081,-1.6214936519133512,0.03047124553832825,-0.2526286104197828,-0.9379499246694599,0.8269671650355134,0.38325540578942224,-1.3369240350745981,-0.1571043386951906,-0.47374238434467664,0.023099309943598014,0.733279230152324,0.4327892353101228,0.7866427226972601,0.8193153509882917,-0.6573163617758523,1.1080405429061686,-1.6288423934815082,0.19327248550973222,0.4670318890218097,0.24344411424644669,-1.3311134389816102,1.1620551223577433,1.2912876489780356,0.18104564980079738,-0.920957826249496,0.8153373278150663,0.4141237490605079,-1.2233923269366347,1.1809931936702687,-0.7472502325260357,0.7316732664119959,-0.24907740141754095,-1.856039241555898,0.48557905752155645,0.942283881961478,0.3578556108847455,-1.8677443406725636,1.0023813900186556,-0.2507150736742075,-0.9952209282809444,0.3996845671425887,-0.9446255241307885,-0.04225580624092134,-0.3506283854717632,1.413574037050735,-1.0317515856596224,1.480630113279642,0.39947797467673907,-0.6931505541669951,0.5821102631893128,0.4962188462986672,-0.2581590569711388,0.8973741639491336,-0.10080319290798798,-0.15464812870423214,0.8678202284599688,1.4082624375863562,-1.9604410319949725,1.5980717080218183,1.2573680424497145,0.8735081041173356,-1.0539724794624896,0.14895184661081642,1.0605146334574904,1.2608514085352878,0.240971785315486,0.2748063637274384,0.3539595539621846,1.2342208918053148,0.7223660874952281,-0.8641043702663473,-1.722594215592153,0.5522634434427093,-0.49545212848549014,-0.4298662616575933,0.8912737176769494,0.7827711272796617,1.2401269084078836,0.708741330504012,-0.7042768008570168,2.0624212994254996,-0.8775630823875434,-0.5172012578681376,0.08542921152016249,-0.9155834771940242,0.009828356120732294,-2.0744709535958066,0.22643759282650308,-0.5150997924470277,1.1698742620669689,1.666037436029818,0.2548941811062244,-0.11358095313937175,1.8217550714168769,-1.1735435230757323,-0.7592093728741733,-0.2988109427460776,0.9961206466322576],\"y\":[0.8297594902124418,-0.2783114996995031,-1.5289569523977877,-0.024712108089802683,-0.0247326672640995,-0.22748462092405278,-1.2046557250956362,-0.492574198134032,-0.8277087842007413,-0.5268682018178362,-0.7466368292324888,-1.6747939271306416,0.5515156661553242,-1.4772162733955383,-0.4254126914075391,-0.7914420736295171,-0.7253414533807264,-1.261797119079572,-1.2962240385283845,0.24117064460294366,1.0626596268890234,0.3330657373571715,-0.8173888046756824,0.625709231685683,0.9497207509658698,-0.7209576199345601,0.6113091443302957,0.09729281095671156,-0.7720024468971365,0.5930894634932572,1.5483268480595687,0.522617504572752,-0.9098182135648303,0.8715182286216513,-1.2908008408179037,-0.6816068106752934,0.30578782752968925,0.1326510272491607,0.36890944266358217,-0.4915204209445604,-0.1294344400609409,-0.4139232476620148,0.4904096710435924,-0.5021389171965049,-0.7041451895138741,1.915610746784163,-0.9811622770096722,0.41472580478141413,-0.00030173699829042525,-0.07742300302041409,0.03821276810804631,0.71686602330355,0.7574747053680021,0.9042140473633455,0.09759224671913559,-1.1803292048548368,-0.026214865627643223,-0.5459197506001886,0.7467193926971661,0.5431577761382423,0.210930427755455,1.2499441487288871,-3.048441413801019,0.02508455116907912,0.5476447945766364,-0.7718383664981547,-1.6821314507638936,-0.07769256589389573,1.4900168390869943,-0.8953597891744572,-0.33672148128028784,-0.7566801384767264,-0.43941583681939644,-0.6412448031731541,-0.5172857599200201,0.45956923847605186,1.8116969199744073,-0.5781802190947594,0.770776684992134,0.8627961753027991,-1.1575397220968435,0.8197478512094455,0.23064721862991777,0.008127836945889876,-0.7556460615903183,-0.6583060701628153,0.15637623791267963,-0.07895953358710191,-0.4364679669264129,1.636674909247799,-1.1480973336937255,-1.4056268439017143,0.7341548146711661,-0.1993410576061871,0.05287239073333219,0.6179748443438318,0.5181127568744494,-0.025898918350763307,0.23189176039414636,-0.3260572062212705],\"type\":\"scatter\"}],                        {\"legend\":{\"bgcolor\":\"#F5F6F9\",\"font\":{\"color\":\"#4D5663\"}},\"paper_bgcolor\":\"#F5F6F9\",\"plot_bgcolor\":\"#F5F6F9\",\"template\":{\"data\":{\"barpolar\":[{\"marker\":{\"line\":{\"color\":\"#E5ECF6\",\"width\":0.5},\"pattern\":{\"fillmode\":\"overlay\",\"size\":10,\"solidity\":0.2}},\"type\":\"barpolar\"}],\"bar\":[{\"error_x\":{\"color\":\"#2a3f5f\"},\"error_y\":{\"color\":\"#2a3f5f\"},\"marker\":{\"line\":{\"color\":\"#E5ECF6\",\"width\":0.5},\"pattern\":{\"fillmode\":\"overlay\",\"size\":10,\"solidity\":0.2}},\"type\":\"bar\"}],\"carpet\":[{\"aaxis\":{\"endlinecolor\":\"#2a3f5f\",\"gridcolor\":\"white\",\"linecolor\":\"white\",\"minorgridcolor\":\"white\",\"startlinecolor\":\"#2a3f5f\"},\"baxis\":{\"endlinecolor\":\"#2a3f5f\",\"gridcolor\":\"white\",\"linecolor\":\"white\",\"minorgridcolor\":\"white\",\"startlinecolor\":\"#2a3f5f\"},\"type\":\"carpet\"}],\"choropleth\":[{\"colorbar\":{\"outlinewidth\":0,\"ticks\":\"\"},\"type\":\"choropleth\"}],\"contourcarpet\":[{\"colorbar\":{\"outlinewidth\":0,\"ticks\":\"\"},\"type\":\"contourcarpet\"}],\"contour\":[{\"colorbar\":{\"outlinewidth\":0,\"ticks\":\"\"},\"colorscale\":[[0.0,\"#0d0887\"],[0.1111111111111111,\"#46039f\"],[0.2222222222222222,\"#7201a8\"],[0.3333333333333333,\"#9c179e\"],[0.4444444444444444,\"#bd3786\"],[0.5555555555555556,\"#d8576b\"],[0.6666666666666666,\"#ed7953\"],[0.7777777777777778,\"#fb9f3a\"],[0.8888888888888888,\"#fdca26\"],[1.0,\"#f0f921\"]],\"type\":\"contour\"}],\"heatmapgl\":[{\"colorbar\":{\"outlinewidth\":0,\"ticks\":\"\"},\"colorscale\":[[0.0,\"#0d0887\"],[0.1111111111111111,\"#46039f\"],[0.2222222222222222,\"#7201a8\"],[0.3333333333333333,\"#9c179e\"],[0.4444444444444444,\"#bd3786\"],[0.5555555555555556,\"#d8576b\"],[0.6666666666666666,\"#ed7953\"],[0.7777777777777778,\"#fb9f3a\"],[0.8888888888888888,\"#fdca26\"],[1.0,\"#f0f921\"]],\"type\":\"heatmapgl\"}],\"heatmap\":[{\"colorbar\":{\"outlinewidth\":0,\"ticks\":\"\"},\"colorscale\":[[0.0,\"#0d0887\"],[0.1111111111111111,\"#46039f\"],[0.2222222222222222,\"#7201a8\"],[0.3333333333333333,\"#9c179e\"],[0.4444444444444444,\"#bd3786\"],[0.5555555555555556,\"#d8576b\"],[0.6666666666666666,\"#ed7953\"],[0.7777777777777778,\"#fb9f3a\"],[0.8888888888888888,\"#fdca26\"],[1.0,\"#f0f921\"]],\"type\":\"heatmap\"}],\"histogram2dcontour\":[{\"colorbar\":{\"outlinewidth\":0,\"ticks\":\"\"},\"colorscale\":[[0.0,\"#0d0887\"],[0.1111111111111111,\"#46039f\"],[0.2222222222222222,\"#7201a8\"],[0.3333333333333333,\"#9c179e\"],[0.4444444444444444,\"#bd3786\"],[0.5555555555555556,\"#d8576b\"],[0.6666666666666666,\"#ed7953\"],[0.7777777777777778,\"#fb9f3a\"],[0.8888888888888888,\"#fdca26\"],[1.0,\"#f0f921\"]],\"type\":\"histogram2dcontour\"}],\"histogram2d\":[{\"colorbar\":{\"outlinewidth\":0,\"ticks\":\"\"},\"colorscale\":[[0.0,\"#0d0887\"],[0.1111111111111111,\"#46039f\"],[0.2222222222222222,\"#7201a8\"],[0.3333333333333333,\"#9c179e\"],[0.4444444444444444,\"#bd3786\"],[0.5555555555555556,\"#d8576b\"],[0.6666666666666666,\"#ed7953\"],[0.7777777777777778,\"#fb9f3a\"],[0.8888888888888888,\"#fdca26\"],[1.0,\"#f0f921\"]],\"type\":\"histogram2d\"}],\"histogram\":[{\"marker\":{\"pattern\":{\"fillmode\":\"overlay\",\"size\":10,\"solidity\":0.2}},\"type\":\"histogram\"}],\"mesh3d\":[{\"colorbar\":{\"outlinewidth\":0,\"ticks\":\"\"},\"type\":\"mesh3d\"}],\"parcoords\":[{\"line\":{\"colorbar\":{\"outlinewidth\":0,\"ticks\":\"\"}},\"type\":\"parcoords\"}],\"pie\":[{\"automargin\":true,\"type\":\"pie\"}],\"scatter3d\":[{\"line\":{\"colorbar\":{\"outlinewidth\":0,\"ticks\":\"\"}},\"marker\":{\"colorbar\":{\"outlinewidth\":0,\"ticks\":\"\"}},\"type\":\"scatter3d\"}],\"scattercarpet\":[{\"marker\":{\"colorbar\":{\"outlinewidth\":0,\"ticks\":\"\"}},\"type\":\"scattercarpet\"}],\"scattergeo\":[{\"marker\":{\"colorbar\":{\"outlinewidth\":0,\"ticks\":\"\"}},\"type\":\"scattergeo\"}],\"scattergl\":[{\"marker\":{\"colorbar\":{\"outlinewidth\":0,\"ticks\":\"\"}},\"type\":\"scattergl\"}],\"scattermapbox\":[{\"marker\":{\"colorbar\":{\"outlinewidth\":0,\"ticks\":\"\"}},\"type\":\"scattermapbox\"}],\"scatterpolargl\":[{\"marker\":{\"colorbar\":{\"outlinewidth\":0,\"ticks\":\"\"}},\"type\":\"scatterpolargl\"}],\"scatterpolar\":[{\"marker\":{\"colorbar\":{\"outlinewidth\":0,\"ticks\":\"\"}},\"type\":\"scatterpolar\"}],\"scatter\":[{\"fillpattern\":{\"fillmode\":\"overlay\",\"size\":10,\"solidity\":0.2},\"type\":\"scatter\"}],\"scatterternary\":[{\"marker\":{\"colorbar\":{\"outlinewidth\":0,\"ticks\":\"\"}},\"type\":\"scatterternary\"}],\"surface\":[{\"colorbar\":{\"outlinewidth\":0,\"ticks\":\"\"},\"colorscale\":[[0.0,\"#0d0887\"],[0.1111111111111111,\"#46039f\"],[0.2222222222222222,\"#7201a8\"],[0.3333333333333333,\"#9c179e\"],[0.4444444444444444,\"#bd3786\"],[0.5555555555555556,\"#d8576b\"],[0.6666666666666666,\"#ed7953\"],[0.7777777777777778,\"#fb9f3a\"],[0.8888888888888888,\"#fdca26\"],[1.0,\"#f0f921\"]],\"type\":\"surface\"}],\"table\":[{\"cells\":{\"fill\":{\"color\":\"#EBF0F8\"},\"line\":{\"color\":\"white\"}},\"header\":{\"fill\":{\"color\":\"#C8D4E3\"},\"line\":{\"color\":\"white\"}},\"type\":\"table\"}]},\"layout\":{\"annotationdefaults\":{\"arrowcolor\":\"#2a3f5f\",\"arrowhead\":0,\"arrowwidth\":1},\"autotypenumbers\":\"strict\",\"coloraxis\":{\"colorbar\":{\"outlinewidth\":0,\"ticks\":\"\"}},\"colorscale\":{\"diverging\":[[0,\"#8e0152\"],[0.1,\"#c51b7d\"],[0.2,\"#de77ae\"],[0.3,\"#f1b6da\"],[0.4,\"#fde0ef\"],[0.5,\"#f7f7f7\"],[0.6,\"#e6f5d0\"],[0.7,\"#b8e186\"],[0.8,\"#7fbc41\"],[0.9,\"#4d9221\"],[1,\"#276419\"]],\"sequential\":[[0.0,\"#0d0887\"],[0.1111111111111111,\"#46039f\"],[0.2222222222222222,\"#7201a8\"],[0.3333333333333333,\"#9c179e\"],[0.4444444444444444,\"#bd3786\"],[0.5555555555555556,\"#d8576b\"],[0.6666666666666666,\"#ed7953\"],[0.7777777777777778,\"#fb9f3a\"],[0.8888888888888888,\"#fdca26\"],[1.0,\"#f0f921\"]],\"sequentialminus\":[[0.0,\"#0d0887\"],[0.1111111111111111,\"#46039f\"],[0.2222222222222222,\"#7201a8\"],[0.3333333333333333,\"#9c179e\"],[0.4444444444444444,\"#bd3786\"],[0.5555555555555556,\"#d8576b\"],[0.6666666666666666,\"#ed7953\"],[0.7777777777777778,\"#fb9f3a\"],[0.8888888888888888,\"#fdca26\"],[1.0,\"#f0f921\"]]},\"colorway\":[\"#636efa\",\"#EF553B\",\"#00cc96\",\"#ab63fa\",\"#FFA15A\",\"#19d3f3\",\"#FF6692\",\"#B6E880\",\"#FF97FF\",\"#FECB52\"],\"font\":{\"color\":\"#2a3f5f\"},\"geo\":{\"bgcolor\":\"white\",\"lakecolor\":\"white\",\"landcolor\":\"#E5ECF6\",\"showlakes\":true,\"showland\":true,\"subunitcolor\":\"white\"},\"hoverlabel\":{\"align\":\"left\"},\"hovermode\":\"closest\",\"mapbox\":{\"style\":\"light\"},\"paper_bgcolor\":\"white\",\"plot_bgcolor\":\"#E5ECF6\",\"polar\":{\"angularaxis\":{\"gridcolor\":\"white\",\"linecolor\":\"white\",\"ticks\":\"\"},\"bgcolor\":\"#E5ECF6\",\"radialaxis\":{\"gridcolor\":\"white\",\"linecolor\":\"white\",\"ticks\":\"\"}},\"scene\":{\"xaxis\":{\"backgroundcolor\":\"#E5ECF6\",\"gridcolor\":\"white\",\"gridwidth\":2,\"linecolor\":\"white\",\"showbackground\":true,\"ticks\":\"\",\"zerolinecolor\":\"white\"},\"yaxis\":{\"backgroundcolor\":\"#E5ECF6\",\"gridcolor\":\"white\",\"gridwidth\":2,\"linecolor\":\"white\",\"showbackground\":true,\"ticks\":\"\",\"zerolinecolor\":\"white\"},\"zaxis\":{\"backgroundcolor\":\"#E5ECF6\",\"gridcolor\":\"white\",\"gridwidth\":2,\"linecolor\":\"white\",\"showbackground\":true,\"ticks\":\"\",\"zerolinecolor\":\"white\"}},\"shapedefaults\":{\"line\":{\"color\":\"#2a3f5f\"}},\"ternary\":{\"aaxis\":{\"gridcolor\":\"white\",\"linecolor\":\"white\",\"ticks\":\"\"},\"baxis\":{\"gridcolor\":\"white\",\"linecolor\":\"white\",\"ticks\":\"\"},\"bgcolor\":\"#E5ECF6\",\"caxis\":{\"gridcolor\":\"white\",\"linecolor\":\"white\",\"ticks\":\"\"}},\"title\":{\"x\":0.05},\"xaxis\":{\"automargin\":true,\"gridcolor\":\"white\",\"linecolor\":\"white\",\"ticks\":\"\",\"title\":{\"standoff\":15},\"zerolinecolor\":\"white\",\"zerolinewidth\":2},\"yaxis\":{\"automargin\":true,\"gridcolor\":\"white\",\"linecolor\":\"white\",\"ticks\":\"\",\"title\":{\"standoff\":15},\"zerolinecolor\":\"white\",\"zerolinewidth\":2}}},\"title\":{\"font\":{\"color\":\"#4D5663\"}},\"xaxis\":{\"gridcolor\":\"#E1E5ED\",\"showgrid\":true,\"tickfont\":{\"color\":\"#4D5663\"},\"title\":{\"font\":{\"color\":\"#4D5663\"},\"text\":\"\"},\"zerolinecolor\":\"#E1E5ED\"},\"yaxis\":{\"gridcolor\":\"#E1E5ED\",\"showgrid\":true,\"tickfont\":{\"color\":\"#4D5663\"},\"title\":{\"font\":{\"color\":\"#4D5663\"},\"text\":\"\"},\"zerolinecolor\":\"#E1E5ED\"}},                        {\"showLink\": true, \"linkText\": \"Export to plot.ly\", \"plotlyServerURL\": \"https://plot.ly\", \"responsive\": true}                    ).then(function(){\n",
       "                            \n",
       "var gd = document.getElementById('3035db06-54bd-45b8-8e33-10d983ce6b21');\n",
       "var x = new MutationObserver(function (mutations, observer) {{\n",
       "        var display = window.getComputedStyle(gd).display;\n",
       "        if (!display || display === 'none') {{\n",
       "            console.log([gd, 'removed!']);\n",
       "            Plotly.purge(gd);\n",
       "            observer.disconnect();\n",
       "        }}\n",
       "}});\n",
       "\n",
       "// Listen for the removal of the full notebook cells\n",
       "var notebookContainer = gd.closest('#notebook-container');\n",
       "if (notebookContainer) {{\n",
       "    x.observe(notebookContainer, {childList: true});\n",
       "}}\n",
       "\n",
       "// Listen for the clearing of the current output cell\n",
       "var outputEl = gd.closest('.output');\n",
       "if (outputEl) {{\n",
       "    x.observe(outputEl, {childList: true});\n",
       "}}\n",
       "\n",
       "                        })                };                });            </script>        </div>"
      ]
     },
     "metadata": {},
     "output_type": "display_data"
    }
   ],
   "source": [
    "df.iplot(kind='scatter',x='A',y='B',mode='markers',size=10)"
   ]
  },
  {
   "cell_type": "markdown",
   "metadata": {},
   "source": [
    "## Bar Plots"
   ]
  },
  {
   "cell_type": "code",
   "execution_count": 11,
   "metadata": {},
   "outputs": [
    {
     "data": {
      "application/vnd.plotly.v1+json": {
       "config": {
        "linkText": "Export to plot.ly",
        "plotlyServerURL": "https://plot.ly",
        "showLink": true
       },
       "data": [
        {
         "marker": {
          "color": "rgba(255, 153, 51, 0.6)",
          "line": {
           "color": "rgba(255, 153, 51, 1.0)",
           "width": 1
          }
         },
         "name": "Values",
         "orientation": "v",
         "text": "",
         "type": "bar",
         "x": [
          "A",
          "B",
          "C"
         ],
         "y": [
          32,
          43,
          50
         ]
        }
       ],
       "layout": {
        "legend": {
         "bgcolor": "#F5F6F9",
         "font": {
          "color": "#4D5663"
         }
        },
        "paper_bgcolor": "#F5F6F9",
        "plot_bgcolor": "#F5F6F9",
        "template": {
         "data": {
          "bar": [
           {
            "error_x": {
             "color": "#2a3f5f"
            },
            "error_y": {
             "color": "#2a3f5f"
            },
            "marker": {
             "line": {
              "color": "#E5ECF6",
              "width": 0.5
             },
             "pattern": {
              "fillmode": "overlay",
              "size": 10,
              "solidity": 0.2
             }
            },
            "type": "bar"
           }
          ],
          "barpolar": [
           {
            "marker": {
             "line": {
              "color": "#E5ECF6",
              "width": 0.5
             },
             "pattern": {
              "fillmode": "overlay",
              "size": 10,
              "solidity": 0.2
             }
            },
            "type": "barpolar"
           }
          ],
          "carpet": [
           {
            "aaxis": {
             "endlinecolor": "#2a3f5f",
             "gridcolor": "white",
             "linecolor": "white",
             "minorgridcolor": "white",
             "startlinecolor": "#2a3f5f"
            },
            "baxis": {
             "endlinecolor": "#2a3f5f",
             "gridcolor": "white",
             "linecolor": "white",
             "minorgridcolor": "white",
             "startlinecolor": "#2a3f5f"
            },
            "type": "carpet"
           }
          ],
          "choropleth": [
           {
            "colorbar": {
             "outlinewidth": 0,
             "ticks": ""
            },
            "type": "choropleth"
           }
          ],
          "contour": [
           {
            "colorbar": {
             "outlinewidth": 0,
             "ticks": ""
            },
            "colorscale": [
             [
              0,
              "#0d0887"
             ],
             [
              0.1111111111111111,
              "#46039f"
             ],
             [
              0.2222222222222222,
              "#7201a8"
             ],
             [
              0.3333333333333333,
              "#9c179e"
             ],
             [
              0.4444444444444444,
              "#bd3786"
             ],
             [
              0.5555555555555556,
              "#d8576b"
             ],
             [
              0.6666666666666666,
              "#ed7953"
             ],
             [
              0.7777777777777778,
              "#fb9f3a"
             ],
             [
              0.8888888888888888,
              "#fdca26"
             ],
             [
              1,
              "#f0f921"
             ]
            ],
            "type": "contour"
           }
          ],
          "contourcarpet": [
           {
            "colorbar": {
             "outlinewidth": 0,
             "ticks": ""
            },
            "type": "contourcarpet"
           }
          ],
          "heatmap": [
           {
            "colorbar": {
             "outlinewidth": 0,
             "ticks": ""
            },
            "colorscale": [
             [
              0,
              "#0d0887"
             ],
             [
              0.1111111111111111,
              "#46039f"
             ],
             [
              0.2222222222222222,
              "#7201a8"
             ],
             [
              0.3333333333333333,
              "#9c179e"
             ],
             [
              0.4444444444444444,
              "#bd3786"
             ],
             [
              0.5555555555555556,
              "#d8576b"
             ],
             [
              0.6666666666666666,
              "#ed7953"
             ],
             [
              0.7777777777777778,
              "#fb9f3a"
             ],
             [
              0.8888888888888888,
              "#fdca26"
             ],
             [
              1,
              "#f0f921"
             ]
            ],
            "type": "heatmap"
           }
          ],
          "heatmapgl": [
           {
            "colorbar": {
             "outlinewidth": 0,
             "ticks": ""
            },
            "colorscale": [
             [
              0,
              "#0d0887"
             ],
             [
              0.1111111111111111,
              "#46039f"
             ],
             [
              0.2222222222222222,
              "#7201a8"
             ],
             [
              0.3333333333333333,
              "#9c179e"
             ],
             [
              0.4444444444444444,
              "#bd3786"
             ],
             [
              0.5555555555555556,
              "#d8576b"
             ],
             [
              0.6666666666666666,
              "#ed7953"
             ],
             [
              0.7777777777777778,
              "#fb9f3a"
             ],
             [
              0.8888888888888888,
              "#fdca26"
             ],
             [
              1,
              "#f0f921"
             ]
            ],
            "type": "heatmapgl"
           }
          ],
          "histogram": [
           {
            "marker": {
             "pattern": {
              "fillmode": "overlay",
              "size": 10,
              "solidity": 0.2
             }
            },
            "type": "histogram"
           }
          ],
          "histogram2d": [
           {
            "colorbar": {
             "outlinewidth": 0,
             "ticks": ""
            },
            "colorscale": [
             [
              0,
              "#0d0887"
             ],
             [
              0.1111111111111111,
              "#46039f"
             ],
             [
              0.2222222222222222,
              "#7201a8"
             ],
             [
              0.3333333333333333,
              "#9c179e"
             ],
             [
              0.4444444444444444,
              "#bd3786"
             ],
             [
              0.5555555555555556,
              "#d8576b"
             ],
             [
              0.6666666666666666,
              "#ed7953"
             ],
             [
              0.7777777777777778,
              "#fb9f3a"
             ],
             [
              0.8888888888888888,
              "#fdca26"
             ],
             [
              1,
              "#f0f921"
             ]
            ],
            "type": "histogram2d"
           }
          ],
          "histogram2dcontour": [
           {
            "colorbar": {
             "outlinewidth": 0,
             "ticks": ""
            },
            "colorscale": [
             [
              0,
              "#0d0887"
             ],
             [
              0.1111111111111111,
              "#46039f"
             ],
             [
              0.2222222222222222,
              "#7201a8"
             ],
             [
              0.3333333333333333,
              "#9c179e"
             ],
             [
              0.4444444444444444,
              "#bd3786"
             ],
             [
              0.5555555555555556,
              "#d8576b"
             ],
             [
              0.6666666666666666,
              "#ed7953"
             ],
             [
              0.7777777777777778,
              "#fb9f3a"
             ],
             [
              0.8888888888888888,
              "#fdca26"
             ],
             [
              1,
              "#f0f921"
             ]
            ],
            "type": "histogram2dcontour"
           }
          ],
          "mesh3d": [
           {
            "colorbar": {
             "outlinewidth": 0,
             "ticks": ""
            },
            "type": "mesh3d"
           }
          ],
          "parcoords": [
           {
            "line": {
             "colorbar": {
              "outlinewidth": 0,
              "ticks": ""
             }
            },
            "type": "parcoords"
           }
          ],
          "pie": [
           {
            "automargin": true,
            "type": "pie"
           }
          ],
          "scatter": [
           {
            "fillpattern": {
             "fillmode": "overlay",
             "size": 10,
             "solidity": 0.2
            },
            "type": "scatter"
           }
          ],
          "scatter3d": [
           {
            "line": {
             "colorbar": {
              "outlinewidth": 0,
              "ticks": ""
             }
            },
            "marker": {
             "colorbar": {
              "outlinewidth": 0,
              "ticks": ""
             }
            },
            "type": "scatter3d"
           }
          ],
          "scattercarpet": [
           {
            "marker": {
             "colorbar": {
              "outlinewidth": 0,
              "ticks": ""
             }
            },
            "type": "scattercarpet"
           }
          ],
          "scattergeo": [
           {
            "marker": {
             "colorbar": {
              "outlinewidth": 0,
              "ticks": ""
             }
            },
            "type": "scattergeo"
           }
          ],
          "scattergl": [
           {
            "marker": {
             "colorbar": {
              "outlinewidth": 0,
              "ticks": ""
             }
            },
            "type": "scattergl"
           }
          ],
          "scattermapbox": [
           {
            "marker": {
             "colorbar": {
              "outlinewidth": 0,
              "ticks": ""
             }
            },
            "type": "scattermapbox"
           }
          ],
          "scatterpolar": [
           {
            "marker": {
             "colorbar": {
              "outlinewidth": 0,
              "ticks": ""
             }
            },
            "type": "scatterpolar"
           }
          ],
          "scatterpolargl": [
           {
            "marker": {
             "colorbar": {
              "outlinewidth": 0,
              "ticks": ""
             }
            },
            "type": "scatterpolargl"
           }
          ],
          "scatterternary": [
           {
            "marker": {
             "colorbar": {
              "outlinewidth": 0,
              "ticks": ""
             }
            },
            "type": "scatterternary"
           }
          ],
          "surface": [
           {
            "colorbar": {
             "outlinewidth": 0,
             "ticks": ""
            },
            "colorscale": [
             [
              0,
              "#0d0887"
             ],
             [
              0.1111111111111111,
              "#46039f"
             ],
             [
              0.2222222222222222,
              "#7201a8"
             ],
             [
              0.3333333333333333,
              "#9c179e"
             ],
             [
              0.4444444444444444,
              "#bd3786"
             ],
             [
              0.5555555555555556,
              "#d8576b"
             ],
             [
              0.6666666666666666,
              "#ed7953"
             ],
             [
              0.7777777777777778,
              "#fb9f3a"
             ],
             [
              0.8888888888888888,
              "#fdca26"
             ],
             [
              1,
              "#f0f921"
             ]
            ],
            "type": "surface"
           }
          ],
          "table": [
           {
            "cells": {
             "fill": {
              "color": "#EBF0F8"
             },
             "line": {
              "color": "white"
             }
            },
            "header": {
             "fill": {
              "color": "#C8D4E3"
             },
             "line": {
              "color": "white"
             }
            },
            "type": "table"
           }
          ]
         },
         "layout": {
          "annotationdefaults": {
           "arrowcolor": "#2a3f5f",
           "arrowhead": 0,
           "arrowwidth": 1
          },
          "autotypenumbers": "strict",
          "coloraxis": {
           "colorbar": {
            "outlinewidth": 0,
            "ticks": ""
           }
          },
          "colorscale": {
           "diverging": [
            [
             0,
             "#8e0152"
            ],
            [
             0.1,
             "#c51b7d"
            ],
            [
             0.2,
             "#de77ae"
            ],
            [
             0.3,
             "#f1b6da"
            ],
            [
             0.4,
             "#fde0ef"
            ],
            [
             0.5,
             "#f7f7f7"
            ],
            [
             0.6,
             "#e6f5d0"
            ],
            [
             0.7,
             "#b8e186"
            ],
            [
             0.8,
             "#7fbc41"
            ],
            [
             0.9,
             "#4d9221"
            ],
            [
             1,
             "#276419"
            ]
           ],
           "sequential": [
            [
             0,
             "#0d0887"
            ],
            [
             0.1111111111111111,
             "#46039f"
            ],
            [
             0.2222222222222222,
             "#7201a8"
            ],
            [
             0.3333333333333333,
             "#9c179e"
            ],
            [
             0.4444444444444444,
             "#bd3786"
            ],
            [
             0.5555555555555556,
             "#d8576b"
            ],
            [
             0.6666666666666666,
             "#ed7953"
            ],
            [
             0.7777777777777778,
             "#fb9f3a"
            ],
            [
             0.8888888888888888,
             "#fdca26"
            ],
            [
             1,
             "#f0f921"
            ]
           ],
           "sequentialminus": [
            [
             0,
             "#0d0887"
            ],
            [
             0.1111111111111111,
             "#46039f"
            ],
            [
             0.2222222222222222,
             "#7201a8"
            ],
            [
             0.3333333333333333,
             "#9c179e"
            ],
            [
             0.4444444444444444,
             "#bd3786"
            ],
            [
             0.5555555555555556,
             "#d8576b"
            ],
            [
             0.6666666666666666,
             "#ed7953"
            ],
            [
             0.7777777777777778,
             "#fb9f3a"
            ],
            [
             0.8888888888888888,
             "#fdca26"
            ],
            [
             1,
             "#f0f921"
            ]
           ]
          },
          "colorway": [
           "#636efa",
           "#EF553B",
           "#00cc96",
           "#ab63fa",
           "#FFA15A",
           "#19d3f3",
           "#FF6692",
           "#B6E880",
           "#FF97FF",
           "#FECB52"
          ],
          "font": {
           "color": "#2a3f5f"
          },
          "geo": {
           "bgcolor": "white",
           "lakecolor": "white",
           "landcolor": "#E5ECF6",
           "showlakes": true,
           "showland": true,
           "subunitcolor": "white"
          },
          "hoverlabel": {
           "align": "left"
          },
          "hovermode": "closest",
          "mapbox": {
           "style": "light"
          },
          "paper_bgcolor": "white",
          "plot_bgcolor": "#E5ECF6",
          "polar": {
           "angularaxis": {
            "gridcolor": "white",
            "linecolor": "white",
            "ticks": ""
           },
           "bgcolor": "#E5ECF6",
           "radialaxis": {
            "gridcolor": "white",
            "linecolor": "white",
            "ticks": ""
           }
          },
          "scene": {
           "xaxis": {
            "backgroundcolor": "#E5ECF6",
            "gridcolor": "white",
            "gridwidth": 2,
            "linecolor": "white",
            "showbackground": true,
            "ticks": "",
            "zerolinecolor": "white"
           },
           "yaxis": {
            "backgroundcolor": "#E5ECF6",
            "gridcolor": "white",
            "gridwidth": 2,
            "linecolor": "white",
            "showbackground": true,
            "ticks": "",
            "zerolinecolor": "white"
           },
           "zaxis": {
            "backgroundcolor": "#E5ECF6",
            "gridcolor": "white",
            "gridwidth": 2,
            "linecolor": "white",
            "showbackground": true,
            "ticks": "",
            "zerolinecolor": "white"
           }
          },
          "shapedefaults": {
           "line": {
            "color": "#2a3f5f"
           }
          },
          "ternary": {
           "aaxis": {
            "gridcolor": "white",
            "linecolor": "white",
            "ticks": ""
           },
           "baxis": {
            "gridcolor": "white",
            "linecolor": "white",
            "ticks": ""
           },
           "bgcolor": "#E5ECF6",
           "caxis": {
            "gridcolor": "white",
            "linecolor": "white",
            "ticks": ""
           }
          },
          "title": {
           "x": 0.05
          },
          "xaxis": {
           "automargin": true,
           "gridcolor": "white",
           "linecolor": "white",
           "ticks": "",
           "title": {
            "standoff": 15
           },
           "zerolinecolor": "white",
           "zerolinewidth": 2
          },
          "yaxis": {
           "automargin": true,
           "gridcolor": "white",
           "linecolor": "white",
           "ticks": "",
           "title": {
            "standoff": 15
           },
           "zerolinecolor": "white",
           "zerolinewidth": 2
          }
         }
        },
        "title": {
         "font": {
          "color": "#4D5663"
         }
        },
        "xaxis": {
         "gridcolor": "#E1E5ED",
         "showgrid": true,
         "tickfont": {
          "color": "#4D5663"
         },
         "title": {
          "font": {
           "color": "#4D5663"
          },
          "text": ""
         },
         "zerolinecolor": "#E1E5ED"
        },
        "yaxis": {
         "gridcolor": "#E1E5ED",
         "showgrid": true,
         "tickfont": {
          "color": "#4D5663"
         },
         "title": {
          "font": {
           "color": "#4D5663"
          },
          "text": ""
         },
         "zerolinecolor": "#E1E5ED"
        }
       }
      },
      "text/html": [
       "<div>                            <div id=\"d841396c-0845-4fa4-a229-cafec062ff2f\" class=\"plotly-graph-div\" style=\"height:525px; width:100%;\"></div>            <script type=\"text/javascript\">                require([\"plotly\"], function(Plotly) {                    window.PLOTLYENV=window.PLOTLYENV || {};\n",
       "                    window.PLOTLYENV.BASE_URL='https://plot.ly';                                    if (document.getElementById(\"d841396c-0845-4fa4-a229-cafec062ff2f\")) {                    Plotly.newPlot(                        \"d841396c-0845-4fa4-a229-cafec062ff2f\",                        [{\"marker\":{\"color\":\"rgba(255, 153, 51, 0.6)\",\"line\":{\"color\":\"rgba(255, 153, 51, 1.0)\",\"width\":1}},\"name\":\"Values\",\"orientation\":\"v\",\"text\":\"\",\"x\":[\"A\",\"B\",\"C\"],\"y\":[32,43,50],\"type\":\"bar\"}],                        {\"legend\":{\"bgcolor\":\"#F5F6F9\",\"font\":{\"color\":\"#4D5663\"}},\"paper_bgcolor\":\"#F5F6F9\",\"plot_bgcolor\":\"#F5F6F9\",\"template\":{\"data\":{\"barpolar\":[{\"marker\":{\"line\":{\"color\":\"#E5ECF6\",\"width\":0.5},\"pattern\":{\"fillmode\":\"overlay\",\"size\":10,\"solidity\":0.2}},\"type\":\"barpolar\"}],\"bar\":[{\"error_x\":{\"color\":\"#2a3f5f\"},\"error_y\":{\"color\":\"#2a3f5f\"},\"marker\":{\"line\":{\"color\":\"#E5ECF6\",\"width\":0.5},\"pattern\":{\"fillmode\":\"overlay\",\"size\":10,\"solidity\":0.2}},\"type\":\"bar\"}],\"carpet\":[{\"aaxis\":{\"endlinecolor\":\"#2a3f5f\",\"gridcolor\":\"white\",\"linecolor\":\"white\",\"minorgridcolor\":\"white\",\"startlinecolor\":\"#2a3f5f\"},\"baxis\":{\"endlinecolor\":\"#2a3f5f\",\"gridcolor\":\"white\",\"linecolor\":\"white\",\"minorgridcolor\":\"white\",\"startlinecolor\":\"#2a3f5f\"},\"type\":\"carpet\"}],\"choropleth\":[{\"colorbar\":{\"outlinewidth\":0,\"ticks\":\"\"},\"type\":\"choropleth\"}],\"contourcarpet\":[{\"colorbar\":{\"outlinewidth\":0,\"ticks\":\"\"},\"type\":\"contourcarpet\"}],\"contour\":[{\"colorbar\":{\"outlinewidth\":0,\"ticks\":\"\"},\"colorscale\":[[0.0,\"#0d0887\"],[0.1111111111111111,\"#46039f\"],[0.2222222222222222,\"#7201a8\"],[0.3333333333333333,\"#9c179e\"],[0.4444444444444444,\"#bd3786\"],[0.5555555555555556,\"#d8576b\"],[0.6666666666666666,\"#ed7953\"],[0.7777777777777778,\"#fb9f3a\"],[0.8888888888888888,\"#fdca26\"],[1.0,\"#f0f921\"]],\"type\":\"contour\"}],\"heatmapgl\":[{\"colorbar\":{\"outlinewidth\":0,\"ticks\":\"\"},\"colorscale\":[[0.0,\"#0d0887\"],[0.1111111111111111,\"#46039f\"],[0.2222222222222222,\"#7201a8\"],[0.3333333333333333,\"#9c179e\"],[0.4444444444444444,\"#bd3786\"],[0.5555555555555556,\"#d8576b\"],[0.6666666666666666,\"#ed7953\"],[0.7777777777777778,\"#fb9f3a\"],[0.8888888888888888,\"#fdca26\"],[1.0,\"#f0f921\"]],\"type\":\"heatmapgl\"}],\"heatmap\":[{\"colorbar\":{\"outlinewidth\":0,\"ticks\":\"\"},\"colorscale\":[[0.0,\"#0d0887\"],[0.1111111111111111,\"#46039f\"],[0.2222222222222222,\"#7201a8\"],[0.3333333333333333,\"#9c179e\"],[0.4444444444444444,\"#bd3786\"],[0.5555555555555556,\"#d8576b\"],[0.6666666666666666,\"#ed7953\"],[0.7777777777777778,\"#fb9f3a\"],[0.8888888888888888,\"#fdca26\"],[1.0,\"#f0f921\"]],\"type\":\"heatmap\"}],\"histogram2dcontour\":[{\"colorbar\":{\"outlinewidth\":0,\"ticks\":\"\"},\"colorscale\":[[0.0,\"#0d0887\"],[0.1111111111111111,\"#46039f\"],[0.2222222222222222,\"#7201a8\"],[0.3333333333333333,\"#9c179e\"],[0.4444444444444444,\"#bd3786\"],[0.5555555555555556,\"#d8576b\"],[0.6666666666666666,\"#ed7953\"],[0.7777777777777778,\"#fb9f3a\"],[0.8888888888888888,\"#fdca26\"],[1.0,\"#f0f921\"]],\"type\":\"histogram2dcontour\"}],\"histogram2d\":[{\"colorbar\":{\"outlinewidth\":0,\"ticks\":\"\"},\"colorscale\":[[0.0,\"#0d0887\"],[0.1111111111111111,\"#46039f\"],[0.2222222222222222,\"#7201a8\"],[0.3333333333333333,\"#9c179e\"],[0.4444444444444444,\"#bd3786\"],[0.5555555555555556,\"#d8576b\"],[0.6666666666666666,\"#ed7953\"],[0.7777777777777778,\"#fb9f3a\"],[0.8888888888888888,\"#fdca26\"],[1.0,\"#f0f921\"]],\"type\":\"histogram2d\"}],\"histogram\":[{\"marker\":{\"pattern\":{\"fillmode\":\"overlay\",\"size\":10,\"solidity\":0.2}},\"type\":\"histogram\"}],\"mesh3d\":[{\"colorbar\":{\"outlinewidth\":0,\"ticks\":\"\"},\"type\":\"mesh3d\"}],\"parcoords\":[{\"line\":{\"colorbar\":{\"outlinewidth\":0,\"ticks\":\"\"}},\"type\":\"parcoords\"}],\"pie\":[{\"automargin\":true,\"type\":\"pie\"}],\"scatter3d\":[{\"line\":{\"colorbar\":{\"outlinewidth\":0,\"ticks\":\"\"}},\"marker\":{\"colorbar\":{\"outlinewidth\":0,\"ticks\":\"\"}},\"type\":\"scatter3d\"}],\"scattercarpet\":[{\"marker\":{\"colorbar\":{\"outlinewidth\":0,\"ticks\":\"\"}},\"type\":\"scattercarpet\"}],\"scattergeo\":[{\"marker\":{\"colorbar\":{\"outlinewidth\":0,\"ticks\":\"\"}},\"type\":\"scattergeo\"}],\"scattergl\":[{\"marker\":{\"colorbar\":{\"outlinewidth\":0,\"ticks\":\"\"}},\"type\":\"scattergl\"}],\"scattermapbox\":[{\"marker\":{\"colorbar\":{\"outlinewidth\":0,\"ticks\":\"\"}},\"type\":\"scattermapbox\"}],\"scatterpolargl\":[{\"marker\":{\"colorbar\":{\"outlinewidth\":0,\"ticks\":\"\"}},\"type\":\"scatterpolargl\"}],\"scatterpolar\":[{\"marker\":{\"colorbar\":{\"outlinewidth\":0,\"ticks\":\"\"}},\"type\":\"scatterpolar\"}],\"scatter\":[{\"fillpattern\":{\"fillmode\":\"overlay\",\"size\":10,\"solidity\":0.2},\"type\":\"scatter\"}],\"scatterternary\":[{\"marker\":{\"colorbar\":{\"outlinewidth\":0,\"ticks\":\"\"}},\"type\":\"scatterternary\"}],\"surface\":[{\"colorbar\":{\"outlinewidth\":0,\"ticks\":\"\"},\"colorscale\":[[0.0,\"#0d0887\"],[0.1111111111111111,\"#46039f\"],[0.2222222222222222,\"#7201a8\"],[0.3333333333333333,\"#9c179e\"],[0.4444444444444444,\"#bd3786\"],[0.5555555555555556,\"#d8576b\"],[0.6666666666666666,\"#ed7953\"],[0.7777777777777778,\"#fb9f3a\"],[0.8888888888888888,\"#fdca26\"],[1.0,\"#f0f921\"]],\"type\":\"surface\"}],\"table\":[{\"cells\":{\"fill\":{\"color\":\"#EBF0F8\"},\"line\":{\"color\":\"white\"}},\"header\":{\"fill\":{\"color\":\"#C8D4E3\"},\"line\":{\"color\":\"white\"}},\"type\":\"table\"}]},\"layout\":{\"annotationdefaults\":{\"arrowcolor\":\"#2a3f5f\",\"arrowhead\":0,\"arrowwidth\":1},\"autotypenumbers\":\"strict\",\"coloraxis\":{\"colorbar\":{\"outlinewidth\":0,\"ticks\":\"\"}},\"colorscale\":{\"diverging\":[[0,\"#8e0152\"],[0.1,\"#c51b7d\"],[0.2,\"#de77ae\"],[0.3,\"#f1b6da\"],[0.4,\"#fde0ef\"],[0.5,\"#f7f7f7\"],[0.6,\"#e6f5d0\"],[0.7,\"#b8e186\"],[0.8,\"#7fbc41\"],[0.9,\"#4d9221\"],[1,\"#276419\"]],\"sequential\":[[0.0,\"#0d0887\"],[0.1111111111111111,\"#46039f\"],[0.2222222222222222,\"#7201a8\"],[0.3333333333333333,\"#9c179e\"],[0.4444444444444444,\"#bd3786\"],[0.5555555555555556,\"#d8576b\"],[0.6666666666666666,\"#ed7953\"],[0.7777777777777778,\"#fb9f3a\"],[0.8888888888888888,\"#fdca26\"],[1.0,\"#f0f921\"]],\"sequentialminus\":[[0.0,\"#0d0887\"],[0.1111111111111111,\"#46039f\"],[0.2222222222222222,\"#7201a8\"],[0.3333333333333333,\"#9c179e\"],[0.4444444444444444,\"#bd3786\"],[0.5555555555555556,\"#d8576b\"],[0.6666666666666666,\"#ed7953\"],[0.7777777777777778,\"#fb9f3a\"],[0.8888888888888888,\"#fdca26\"],[1.0,\"#f0f921\"]]},\"colorway\":[\"#636efa\",\"#EF553B\",\"#00cc96\",\"#ab63fa\",\"#FFA15A\",\"#19d3f3\",\"#FF6692\",\"#B6E880\",\"#FF97FF\",\"#FECB52\"],\"font\":{\"color\":\"#2a3f5f\"},\"geo\":{\"bgcolor\":\"white\",\"lakecolor\":\"white\",\"landcolor\":\"#E5ECF6\",\"showlakes\":true,\"showland\":true,\"subunitcolor\":\"white\"},\"hoverlabel\":{\"align\":\"left\"},\"hovermode\":\"closest\",\"mapbox\":{\"style\":\"light\"},\"paper_bgcolor\":\"white\",\"plot_bgcolor\":\"#E5ECF6\",\"polar\":{\"angularaxis\":{\"gridcolor\":\"white\",\"linecolor\":\"white\",\"ticks\":\"\"},\"bgcolor\":\"#E5ECF6\",\"radialaxis\":{\"gridcolor\":\"white\",\"linecolor\":\"white\",\"ticks\":\"\"}},\"scene\":{\"xaxis\":{\"backgroundcolor\":\"#E5ECF6\",\"gridcolor\":\"white\",\"gridwidth\":2,\"linecolor\":\"white\",\"showbackground\":true,\"ticks\":\"\",\"zerolinecolor\":\"white\"},\"yaxis\":{\"backgroundcolor\":\"#E5ECF6\",\"gridcolor\":\"white\",\"gridwidth\":2,\"linecolor\":\"white\",\"showbackground\":true,\"ticks\":\"\",\"zerolinecolor\":\"white\"},\"zaxis\":{\"backgroundcolor\":\"#E5ECF6\",\"gridcolor\":\"white\",\"gridwidth\":2,\"linecolor\":\"white\",\"showbackground\":true,\"ticks\":\"\",\"zerolinecolor\":\"white\"}},\"shapedefaults\":{\"line\":{\"color\":\"#2a3f5f\"}},\"ternary\":{\"aaxis\":{\"gridcolor\":\"white\",\"linecolor\":\"white\",\"ticks\":\"\"},\"baxis\":{\"gridcolor\":\"white\",\"linecolor\":\"white\",\"ticks\":\"\"},\"bgcolor\":\"#E5ECF6\",\"caxis\":{\"gridcolor\":\"white\",\"linecolor\":\"white\",\"ticks\":\"\"}},\"title\":{\"x\":0.05},\"xaxis\":{\"automargin\":true,\"gridcolor\":\"white\",\"linecolor\":\"white\",\"ticks\":\"\",\"title\":{\"standoff\":15},\"zerolinecolor\":\"white\",\"zerolinewidth\":2},\"yaxis\":{\"automargin\":true,\"gridcolor\":\"white\",\"linecolor\":\"white\",\"ticks\":\"\",\"title\":{\"standoff\":15},\"zerolinecolor\":\"white\",\"zerolinewidth\":2}}},\"title\":{\"font\":{\"color\":\"#4D5663\"}},\"xaxis\":{\"gridcolor\":\"#E1E5ED\",\"showgrid\":true,\"tickfont\":{\"color\":\"#4D5663\"},\"title\":{\"font\":{\"color\":\"#4D5663\"},\"text\":\"\"},\"zerolinecolor\":\"#E1E5ED\"},\"yaxis\":{\"gridcolor\":\"#E1E5ED\",\"showgrid\":true,\"tickfont\":{\"color\":\"#4D5663\"},\"title\":{\"font\":{\"color\":\"#4D5663\"},\"text\":\"\"},\"zerolinecolor\":\"#E1E5ED\"}},                        {\"showLink\": true, \"linkText\": \"Export to plot.ly\", \"plotlyServerURL\": \"https://plot.ly\", \"responsive\": true}                    ).then(function(){\n",
       "                            \n",
       "var gd = document.getElementById('d841396c-0845-4fa4-a229-cafec062ff2f');\n",
       "var x = new MutationObserver(function (mutations, observer) {{\n",
       "        var display = window.getComputedStyle(gd).display;\n",
       "        if (!display || display === 'none') {{\n",
       "            console.log([gd, 'removed!']);\n",
       "            Plotly.purge(gd);\n",
       "            observer.disconnect();\n",
       "        }}\n",
       "}});\n",
       "\n",
       "// Listen for the removal of the full notebook cells\n",
       "var notebookContainer = gd.closest('#notebook-container');\n",
       "if (notebookContainer) {{\n",
       "    x.observe(notebookContainer, {childList: true});\n",
       "}}\n",
       "\n",
       "// Listen for the clearing of the current output cell\n",
       "var outputEl = gd.closest('.output');\n",
       "if (outputEl) {{\n",
       "    x.observe(outputEl, {childList: true});\n",
       "}}\n",
       "\n",
       "                        })                };                });            </script>        </div>"
      ]
     },
     "metadata": {},
     "output_type": "display_data"
    }
   ],
   "source": [
    "df2.iplot(kind='bar',x='Category',y='Values')"
   ]
  },
  {
   "cell_type": "code",
   "execution_count": 12,
   "metadata": {},
   "outputs": [
    {
     "data": {
      "application/vnd.plotly.v1+json": {
       "config": {
        "linkText": "Export to plot.ly",
        "plotlyServerURL": "https://plot.ly",
        "showLink": true
       },
       "data": [
        {
         "marker": {
          "color": "rgba(255, 153, 51, 0.6)",
          "line": {
           "color": "rgba(255, 153, 51, 1.0)",
           "width": 1
          }
         },
         "name": "None",
         "orientation": "v",
         "text": "",
         "type": "bar",
         "x": [
          "A",
          "B",
          "C",
          "D"
         ],
         "y": [
          100,
          100,
          100,
          100
         ]
        }
       ],
       "layout": {
        "legend": {
         "bgcolor": "#F5F6F9",
         "font": {
          "color": "#4D5663"
         }
        },
        "paper_bgcolor": "#F5F6F9",
        "plot_bgcolor": "#F5F6F9",
        "template": {
         "data": {
          "bar": [
           {
            "error_x": {
             "color": "#2a3f5f"
            },
            "error_y": {
             "color": "#2a3f5f"
            },
            "marker": {
             "line": {
              "color": "#E5ECF6",
              "width": 0.5
             },
             "pattern": {
              "fillmode": "overlay",
              "size": 10,
              "solidity": 0.2
             }
            },
            "type": "bar"
           }
          ],
          "barpolar": [
           {
            "marker": {
             "line": {
              "color": "#E5ECF6",
              "width": 0.5
             },
             "pattern": {
              "fillmode": "overlay",
              "size": 10,
              "solidity": 0.2
             }
            },
            "type": "barpolar"
           }
          ],
          "carpet": [
           {
            "aaxis": {
             "endlinecolor": "#2a3f5f",
             "gridcolor": "white",
             "linecolor": "white",
             "minorgridcolor": "white",
             "startlinecolor": "#2a3f5f"
            },
            "baxis": {
             "endlinecolor": "#2a3f5f",
             "gridcolor": "white",
             "linecolor": "white",
             "minorgridcolor": "white",
             "startlinecolor": "#2a3f5f"
            },
            "type": "carpet"
           }
          ],
          "choropleth": [
           {
            "colorbar": {
             "outlinewidth": 0,
             "ticks": ""
            },
            "type": "choropleth"
           }
          ],
          "contour": [
           {
            "colorbar": {
             "outlinewidth": 0,
             "ticks": ""
            },
            "colorscale": [
             [
              0,
              "#0d0887"
             ],
             [
              0.1111111111111111,
              "#46039f"
             ],
             [
              0.2222222222222222,
              "#7201a8"
             ],
             [
              0.3333333333333333,
              "#9c179e"
             ],
             [
              0.4444444444444444,
              "#bd3786"
             ],
             [
              0.5555555555555556,
              "#d8576b"
             ],
             [
              0.6666666666666666,
              "#ed7953"
             ],
             [
              0.7777777777777778,
              "#fb9f3a"
             ],
             [
              0.8888888888888888,
              "#fdca26"
             ],
             [
              1,
              "#f0f921"
             ]
            ],
            "type": "contour"
           }
          ],
          "contourcarpet": [
           {
            "colorbar": {
             "outlinewidth": 0,
             "ticks": ""
            },
            "type": "contourcarpet"
           }
          ],
          "heatmap": [
           {
            "colorbar": {
             "outlinewidth": 0,
             "ticks": ""
            },
            "colorscale": [
             [
              0,
              "#0d0887"
             ],
             [
              0.1111111111111111,
              "#46039f"
             ],
             [
              0.2222222222222222,
              "#7201a8"
             ],
             [
              0.3333333333333333,
              "#9c179e"
             ],
             [
              0.4444444444444444,
              "#bd3786"
             ],
             [
              0.5555555555555556,
              "#d8576b"
             ],
             [
              0.6666666666666666,
              "#ed7953"
             ],
             [
              0.7777777777777778,
              "#fb9f3a"
             ],
             [
              0.8888888888888888,
              "#fdca26"
             ],
             [
              1,
              "#f0f921"
             ]
            ],
            "type": "heatmap"
           }
          ],
          "heatmapgl": [
           {
            "colorbar": {
             "outlinewidth": 0,
             "ticks": ""
            },
            "colorscale": [
             [
              0,
              "#0d0887"
             ],
             [
              0.1111111111111111,
              "#46039f"
             ],
             [
              0.2222222222222222,
              "#7201a8"
             ],
             [
              0.3333333333333333,
              "#9c179e"
             ],
             [
              0.4444444444444444,
              "#bd3786"
             ],
             [
              0.5555555555555556,
              "#d8576b"
             ],
             [
              0.6666666666666666,
              "#ed7953"
             ],
             [
              0.7777777777777778,
              "#fb9f3a"
             ],
             [
              0.8888888888888888,
              "#fdca26"
             ],
             [
              1,
              "#f0f921"
             ]
            ],
            "type": "heatmapgl"
           }
          ],
          "histogram": [
           {
            "marker": {
             "pattern": {
              "fillmode": "overlay",
              "size": 10,
              "solidity": 0.2
             }
            },
            "type": "histogram"
           }
          ],
          "histogram2d": [
           {
            "colorbar": {
             "outlinewidth": 0,
             "ticks": ""
            },
            "colorscale": [
             [
              0,
              "#0d0887"
             ],
             [
              0.1111111111111111,
              "#46039f"
             ],
             [
              0.2222222222222222,
              "#7201a8"
             ],
             [
              0.3333333333333333,
              "#9c179e"
             ],
             [
              0.4444444444444444,
              "#bd3786"
             ],
             [
              0.5555555555555556,
              "#d8576b"
             ],
             [
              0.6666666666666666,
              "#ed7953"
             ],
             [
              0.7777777777777778,
              "#fb9f3a"
             ],
             [
              0.8888888888888888,
              "#fdca26"
             ],
             [
              1,
              "#f0f921"
             ]
            ],
            "type": "histogram2d"
           }
          ],
          "histogram2dcontour": [
           {
            "colorbar": {
             "outlinewidth": 0,
             "ticks": ""
            },
            "colorscale": [
             [
              0,
              "#0d0887"
             ],
             [
              0.1111111111111111,
              "#46039f"
             ],
             [
              0.2222222222222222,
              "#7201a8"
             ],
             [
              0.3333333333333333,
              "#9c179e"
             ],
             [
              0.4444444444444444,
              "#bd3786"
             ],
             [
              0.5555555555555556,
              "#d8576b"
             ],
             [
              0.6666666666666666,
              "#ed7953"
             ],
             [
              0.7777777777777778,
              "#fb9f3a"
             ],
             [
              0.8888888888888888,
              "#fdca26"
             ],
             [
              1,
              "#f0f921"
             ]
            ],
            "type": "histogram2dcontour"
           }
          ],
          "mesh3d": [
           {
            "colorbar": {
             "outlinewidth": 0,
             "ticks": ""
            },
            "type": "mesh3d"
           }
          ],
          "parcoords": [
           {
            "line": {
             "colorbar": {
              "outlinewidth": 0,
              "ticks": ""
             }
            },
            "type": "parcoords"
           }
          ],
          "pie": [
           {
            "automargin": true,
            "type": "pie"
           }
          ],
          "scatter": [
           {
            "fillpattern": {
             "fillmode": "overlay",
             "size": 10,
             "solidity": 0.2
            },
            "type": "scatter"
           }
          ],
          "scatter3d": [
           {
            "line": {
             "colorbar": {
              "outlinewidth": 0,
              "ticks": ""
             }
            },
            "marker": {
             "colorbar": {
              "outlinewidth": 0,
              "ticks": ""
             }
            },
            "type": "scatter3d"
           }
          ],
          "scattercarpet": [
           {
            "marker": {
             "colorbar": {
              "outlinewidth": 0,
              "ticks": ""
             }
            },
            "type": "scattercarpet"
           }
          ],
          "scattergeo": [
           {
            "marker": {
             "colorbar": {
              "outlinewidth": 0,
              "ticks": ""
             }
            },
            "type": "scattergeo"
           }
          ],
          "scattergl": [
           {
            "marker": {
             "colorbar": {
              "outlinewidth": 0,
              "ticks": ""
             }
            },
            "type": "scattergl"
           }
          ],
          "scattermapbox": [
           {
            "marker": {
             "colorbar": {
              "outlinewidth": 0,
              "ticks": ""
             }
            },
            "type": "scattermapbox"
           }
          ],
          "scatterpolar": [
           {
            "marker": {
             "colorbar": {
              "outlinewidth": 0,
              "ticks": ""
             }
            },
            "type": "scatterpolar"
           }
          ],
          "scatterpolargl": [
           {
            "marker": {
             "colorbar": {
              "outlinewidth": 0,
              "ticks": ""
             }
            },
            "type": "scatterpolargl"
           }
          ],
          "scatterternary": [
           {
            "marker": {
             "colorbar": {
              "outlinewidth": 0,
              "ticks": ""
             }
            },
            "type": "scatterternary"
           }
          ],
          "surface": [
           {
            "colorbar": {
             "outlinewidth": 0,
             "ticks": ""
            },
            "colorscale": [
             [
              0,
              "#0d0887"
             ],
             [
              0.1111111111111111,
              "#46039f"
             ],
             [
              0.2222222222222222,
              "#7201a8"
             ],
             [
              0.3333333333333333,
              "#9c179e"
             ],
             [
              0.4444444444444444,
              "#bd3786"
             ],
             [
              0.5555555555555556,
              "#d8576b"
             ],
             [
              0.6666666666666666,
              "#ed7953"
             ],
             [
              0.7777777777777778,
              "#fb9f3a"
             ],
             [
              0.8888888888888888,
              "#fdca26"
             ],
             [
              1,
              "#f0f921"
             ]
            ],
            "type": "surface"
           }
          ],
          "table": [
           {
            "cells": {
             "fill": {
              "color": "#EBF0F8"
             },
             "line": {
              "color": "white"
             }
            },
            "header": {
             "fill": {
              "color": "#C8D4E3"
             },
             "line": {
              "color": "white"
             }
            },
            "type": "table"
           }
          ]
         },
         "layout": {
          "annotationdefaults": {
           "arrowcolor": "#2a3f5f",
           "arrowhead": 0,
           "arrowwidth": 1
          },
          "autotypenumbers": "strict",
          "coloraxis": {
           "colorbar": {
            "outlinewidth": 0,
            "ticks": ""
           }
          },
          "colorscale": {
           "diverging": [
            [
             0,
             "#8e0152"
            ],
            [
             0.1,
             "#c51b7d"
            ],
            [
             0.2,
             "#de77ae"
            ],
            [
             0.3,
             "#f1b6da"
            ],
            [
             0.4,
             "#fde0ef"
            ],
            [
             0.5,
             "#f7f7f7"
            ],
            [
             0.6,
             "#e6f5d0"
            ],
            [
             0.7,
             "#b8e186"
            ],
            [
             0.8,
             "#7fbc41"
            ],
            [
             0.9,
             "#4d9221"
            ],
            [
             1,
             "#276419"
            ]
           ],
           "sequential": [
            [
             0,
             "#0d0887"
            ],
            [
             0.1111111111111111,
             "#46039f"
            ],
            [
             0.2222222222222222,
             "#7201a8"
            ],
            [
             0.3333333333333333,
             "#9c179e"
            ],
            [
             0.4444444444444444,
             "#bd3786"
            ],
            [
             0.5555555555555556,
             "#d8576b"
            ],
            [
             0.6666666666666666,
             "#ed7953"
            ],
            [
             0.7777777777777778,
             "#fb9f3a"
            ],
            [
             0.8888888888888888,
             "#fdca26"
            ],
            [
             1,
             "#f0f921"
            ]
           ],
           "sequentialminus": [
            [
             0,
             "#0d0887"
            ],
            [
             0.1111111111111111,
             "#46039f"
            ],
            [
             0.2222222222222222,
             "#7201a8"
            ],
            [
             0.3333333333333333,
             "#9c179e"
            ],
            [
             0.4444444444444444,
             "#bd3786"
            ],
            [
             0.5555555555555556,
             "#d8576b"
            ],
            [
             0.6666666666666666,
             "#ed7953"
            ],
            [
             0.7777777777777778,
             "#fb9f3a"
            ],
            [
             0.8888888888888888,
             "#fdca26"
            ],
            [
             1,
             "#f0f921"
            ]
           ]
          },
          "colorway": [
           "#636efa",
           "#EF553B",
           "#00cc96",
           "#ab63fa",
           "#FFA15A",
           "#19d3f3",
           "#FF6692",
           "#B6E880",
           "#FF97FF",
           "#FECB52"
          ],
          "font": {
           "color": "#2a3f5f"
          },
          "geo": {
           "bgcolor": "white",
           "lakecolor": "white",
           "landcolor": "#E5ECF6",
           "showlakes": true,
           "showland": true,
           "subunitcolor": "white"
          },
          "hoverlabel": {
           "align": "left"
          },
          "hovermode": "closest",
          "mapbox": {
           "style": "light"
          },
          "paper_bgcolor": "white",
          "plot_bgcolor": "#E5ECF6",
          "polar": {
           "angularaxis": {
            "gridcolor": "white",
            "linecolor": "white",
            "ticks": ""
           },
           "bgcolor": "#E5ECF6",
           "radialaxis": {
            "gridcolor": "white",
            "linecolor": "white",
            "ticks": ""
           }
          },
          "scene": {
           "xaxis": {
            "backgroundcolor": "#E5ECF6",
            "gridcolor": "white",
            "gridwidth": 2,
            "linecolor": "white",
            "showbackground": true,
            "ticks": "",
            "zerolinecolor": "white"
           },
           "yaxis": {
            "backgroundcolor": "#E5ECF6",
            "gridcolor": "white",
            "gridwidth": 2,
            "linecolor": "white",
            "showbackground": true,
            "ticks": "",
            "zerolinecolor": "white"
           },
           "zaxis": {
            "backgroundcolor": "#E5ECF6",
            "gridcolor": "white",
            "gridwidth": 2,
            "linecolor": "white",
            "showbackground": true,
            "ticks": "",
            "zerolinecolor": "white"
           }
          },
          "shapedefaults": {
           "line": {
            "color": "#2a3f5f"
           }
          },
          "ternary": {
           "aaxis": {
            "gridcolor": "white",
            "linecolor": "white",
            "ticks": ""
           },
           "baxis": {
            "gridcolor": "white",
            "linecolor": "white",
            "ticks": ""
           },
           "bgcolor": "#E5ECF6",
           "caxis": {
            "gridcolor": "white",
            "linecolor": "white",
            "ticks": ""
           }
          },
          "title": {
           "x": 0.05
          },
          "xaxis": {
           "automargin": true,
           "gridcolor": "white",
           "linecolor": "white",
           "ticks": "",
           "title": {
            "standoff": 15
           },
           "zerolinecolor": "white",
           "zerolinewidth": 2
          },
          "yaxis": {
           "automargin": true,
           "gridcolor": "white",
           "linecolor": "white",
           "ticks": "",
           "title": {
            "standoff": 15
           },
           "zerolinecolor": "white",
           "zerolinewidth": 2
          }
         }
        },
        "title": {
         "font": {
          "color": "#4D5663"
         }
        },
        "xaxis": {
         "gridcolor": "#E1E5ED",
         "showgrid": true,
         "tickfont": {
          "color": "#4D5663"
         },
         "title": {
          "font": {
           "color": "#4D5663"
          },
          "text": ""
         },
         "zerolinecolor": "#E1E5ED"
        },
        "yaxis": {
         "gridcolor": "#E1E5ED",
         "showgrid": true,
         "tickfont": {
          "color": "#4D5663"
         },
         "title": {
          "font": {
           "color": "#4D5663"
          },
          "text": ""
         },
         "zerolinecolor": "#E1E5ED"
        }
       }
      },
      "text/html": [
       "<div>                            <div id=\"f4812a2e-e1c1-4ea6-b8d0-8f6287c98c94\" class=\"plotly-graph-div\" style=\"height:525px; width:100%;\"></div>            <script type=\"text/javascript\">                require([\"plotly\"], function(Plotly) {                    window.PLOTLYENV=window.PLOTLYENV || {};\n",
       "                    window.PLOTLYENV.BASE_URL='https://plot.ly';                                    if (document.getElementById(\"f4812a2e-e1c1-4ea6-b8d0-8f6287c98c94\")) {                    Plotly.newPlot(                        \"f4812a2e-e1c1-4ea6-b8d0-8f6287c98c94\",                        [{\"marker\":{\"color\":\"rgba(255, 153, 51, 0.6)\",\"line\":{\"color\":\"rgba(255, 153, 51, 1.0)\",\"width\":1}},\"name\":\"None\",\"orientation\":\"v\",\"text\":\"\",\"x\":[\"A\",\"B\",\"C\",\"D\"],\"y\":[100,100,100,100],\"type\":\"bar\"}],                        {\"legend\":{\"bgcolor\":\"#F5F6F9\",\"font\":{\"color\":\"#4D5663\"}},\"paper_bgcolor\":\"#F5F6F9\",\"plot_bgcolor\":\"#F5F6F9\",\"template\":{\"data\":{\"barpolar\":[{\"marker\":{\"line\":{\"color\":\"#E5ECF6\",\"width\":0.5},\"pattern\":{\"fillmode\":\"overlay\",\"size\":10,\"solidity\":0.2}},\"type\":\"barpolar\"}],\"bar\":[{\"error_x\":{\"color\":\"#2a3f5f\"},\"error_y\":{\"color\":\"#2a3f5f\"},\"marker\":{\"line\":{\"color\":\"#E5ECF6\",\"width\":0.5},\"pattern\":{\"fillmode\":\"overlay\",\"size\":10,\"solidity\":0.2}},\"type\":\"bar\"}],\"carpet\":[{\"aaxis\":{\"endlinecolor\":\"#2a3f5f\",\"gridcolor\":\"white\",\"linecolor\":\"white\",\"minorgridcolor\":\"white\",\"startlinecolor\":\"#2a3f5f\"},\"baxis\":{\"endlinecolor\":\"#2a3f5f\",\"gridcolor\":\"white\",\"linecolor\":\"white\",\"minorgridcolor\":\"white\",\"startlinecolor\":\"#2a3f5f\"},\"type\":\"carpet\"}],\"choropleth\":[{\"colorbar\":{\"outlinewidth\":0,\"ticks\":\"\"},\"type\":\"choropleth\"}],\"contourcarpet\":[{\"colorbar\":{\"outlinewidth\":0,\"ticks\":\"\"},\"type\":\"contourcarpet\"}],\"contour\":[{\"colorbar\":{\"outlinewidth\":0,\"ticks\":\"\"},\"colorscale\":[[0.0,\"#0d0887\"],[0.1111111111111111,\"#46039f\"],[0.2222222222222222,\"#7201a8\"],[0.3333333333333333,\"#9c179e\"],[0.4444444444444444,\"#bd3786\"],[0.5555555555555556,\"#d8576b\"],[0.6666666666666666,\"#ed7953\"],[0.7777777777777778,\"#fb9f3a\"],[0.8888888888888888,\"#fdca26\"],[1.0,\"#f0f921\"]],\"type\":\"contour\"}],\"heatmapgl\":[{\"colorbar\":{\"outlinewidth\":0,\"ticks\":\"\"},\"colorscale\":[[0.0,\"#0d0887\"],[0.1111111111111111,\"#46039f\"],[0.2222222222222222,\"#7201a8\"],[0.3333333333333333,\"#9c179e\"],[0.4444444444444444,\"#bd3786\"],[0.5555555555555556,\"#d8576b\"],[0.6666666666666666,\"#ed7953\"],[0.7777777777777778,\"#fb9f3a\"],[0.8888888888888888,\"#fdca26\"],[1.0,\"#f0f921\"]],\"type\":\"heatmapgl\"}],\"heatmap\":[{\"colorbar\":{\"outlinewidth\":0,\"ticks\":\"\"},\"colorscale\":[[0.0,\"#0d0887\"],[0.1111111111111111,\"#46039f\"],[0.2222222222222222,\"#7201a8\"],[0.3333333333333333,\"#9c179e\"],[0.4444444444444444,\"#bd3786\"],[0.5555555555555556,\"#d8576b\"],[0.6666666666666666,\"#ed7953\"],[0.7777777777777778,\"#fb9f3a\"],[0.8888888888888888,\"#fdca26\"],[1.0,\"#f0f921\"]],\"type\":\"heatmap\"}],\"histogram2dcontour\":[{\"colorbar\":{\"outlinewidth\":0,\"ticks\":\"\"},\"colorscale\":[[0.0,\"#0d0887\"],[0.1111111111111111,\"#46039f\"],[0.2222222222222222,\"#7201a8\"],[0.3333333333333333,\"#9c179e\"],[0.4444444444444444,\"#bd3786\"],[0.5555555555555556,\"#d8576b\"],[0.6666666666666666,\"#ed7953\"],[0.7777777777777778,\"#fb9f3a\"],[0.8888888888888888,\"#fdca26\"],[1.0,\"#f0f921\"]],\"type\":\"histogram2dcontour\"}],\"histogram2d\":[{\"colorbar\":{\"outlinewidth\":0,\"ticks\":\"\"},\"colorscale\":[[0.0,\"#0d0887\"],[0.1111111111111111,\"#46039f\"],[0.2222222222222222,\"#7201a8\"],[0.3333333333333333,\"#9c179e\"],[0.4444444444444444,\"#bd3786\"],[0.5555555555555556,\"#d8576b\"],[0.6666666666666666,\"#ed7953\"],[0.7777777777777778,\"#fb9f3a\"],[0.8888888888888888,\"#fdca26\"],[1.0,\"#f0f921\"]],\"type\":\"histogram2d\"}],\"histogram\":[{\"marker\":{\"pattern\":{\"fillmode\":\"overlay\",\"size\":10,\"solidity\":0.2}},\"type\":\"histogram\"}],\"mesh3d\":[{\"colorbar\":{\"outlinewidth\":0,\"ticks\":\"\"},\"type\":\"mesh3d\"}],\"parcoords\":[{\"line\":{\"colorbar\":{\"outlinewidth\":0,\"ticks\":\"\"}},\"type\":\"parcoords\"}],\"pie\":[{\"automargin\":true,\"type\":\"pie\"}],\"scatter3d\":[{\"line\":{\"colorbar\":{\"outlinewidth\":0,\"ticks\":\"\"}},\"marker\":{\"colorbar\":{\"outlinewidth\":0,\"ticks\":\"\"}},\"type\":\"scatter3d\"}],\"scattercarpet\":[{\"marker\":{\"colorbar\":{\"outlinewidth\":0,\"ticks\":\"\"}},\"type\":\"scattercarpet\"}],\"scattergeo\":[{\"marker\":{\"colorbar\":{\"outlinewidth\":0,\"ticks\":\"\"}},\"type\":\"scattergeo\"}],\"scattergl\":[{\"marker\":{\"colorbar\":{\"outlinewidth\":0,\"ticks\":\"\"}},\"type\":\"scattergl\"}],\"scattermapbox\":[{\"marker\":{\"colorbar\":{\"outlinewidth\":0,\"ticks\":\"\"}},\"type\":\"scattermapbox\"}],\"scatterpolargl\":[{\"marker\":{\"colorbar\":{\"outlinewidth\":0,\"ticks\":\"\"}},\"type\":\"scatterpolargl\"}],\"scatterpolar\":[{\"marker\":{\"colorbar\":{\"outlinewidth\":0,\"ticks\":\"\"}},\"type\":\"scatterpolar\"}],\"scatter\":[{\"fillpattern\":{\"fillmode\":\"overlay\",\"size\":10,\"solidity\":0.2},\"type\":\"scatter\"}],\"scatterternary\":[{\"marker\":{\"colorbar\":{\"outlinewidth\":0,\"ticks\":\"\"}},\"type\":\"scatterternary\"}],\"surface\":[{\"colorbar\":{\"outlinewidth\":0,\"ticks\":\"\"},\"colorscale\":[[0.0,\"#0d0887\"],[0.1111111111111111,\"#46039f\"],[0.2222222222222222,\"#7201a8\"],[0.3333333333333333,\"#9c179e\"],[0.4444444444444444,\"#bd3786\"],[0.5555555555555556,\"#d8576b\"],[0.6666666666666666,\"#ed7953\"],[0.7777777777777778,\"#fb9f3a\"],[0.8888888888888888,\"#fdca26\"],[1.0,\"#f0f921\"]],\"type\":\"surface\"}],\"table\":[{\"cells\":{\"fill\":{\"color\":\"#EBF0F8\"},\"line\":{\"color\":\"white\"}},\"header\":{\"fill\":{\"color\":\"#C8D4E3\"},\"line\":{\"color\":\"white\"}},\"type\":\"table\"}]},\"layout\":{\"annotationdefaults\":{\"arrowcolor\":\"#2a3f5f\",\"arrowhead\":0,\"arrowwidth\":1},\"autotypenumbers\":\"strict\",\"coloraxis\":{\"colorbar\":{\"outlinewidth\":0,\"ticks\":\"\"}},\"colorscale\":{\"diverging\":[[0,\"#8e0152\"],[0.1,\"#c51b7d\"],[0.2,\"#de77ae\"],[0.3,\"#f1b6da\"],[0.4,\"#fde0ef\"],[0.5,\"#f7f7f7\"],[0.6,\"#e6f5d0\"],[0.7,\"#b8e186\"],[0.8,\"#7fbc41\"],[0.9,\"#4d9221\"],[1,\"#276419\"]],\"sequential\":[[0.0,\"#0d0887\"],[0.1111111111111111,\"#46039f\"],[0.2222222222222222,\"#7201a8\"],[0.3333333333333333,\"#9c179e\"],[0.4444444444444444,\"#bd3786\"],[0.5555555555555556,\"#d8576b\"],[0.6666666666666666,\"#ed7953\"],[0.7777777777777778,\"#fb9f3a\"],[0.8888888888888888,\"#fdca26\"],[1.0,\"#f0f921\"]],\"sequentialminus\":[[0.0,\"#0d0887\"],[0.1111111111111111,\"#46039f\"],[0.2222222222222222,\"#7201a8\"],[0.3333333333333333,\"#9c179e\"],[0.4444444444444444,\"#bd3786\"],[0.5555555555555556,\"#d8576b\"],[0.6666666666666666,\"#ed7953\"],[0.7777777777777778,\"#fb9f3a\"],[0.8888888888888888,\"#fdca26\"],[1.0,\"#f0f921\"]]},\"colorway\":[\"#636efa\",\"#EF553B\",\"#00cc96\",\"#ab63fa\",\"#FFA15A\",\"#19d3f3\",\"#FF6692\",\"#B6E880\",\"#FF97FF\",\"#FECB52\"],\"font\":{\"color\":\"#2a3f5f\"},\"geo\":{\"bgcolor\":\"white\",\"lakecolor\":\"white\",\"landcolor\":\"#E5ECF6\",\"showlakes\":true,\"showland\":true,\"subunitcolor\":\"white\"},\"hoverlabel\":{\"align\":\"left\"},\"hovermode\":\"closest\",\"mapbox\":{\"style\":\"light\"},\"paper_bgcolor\":\"white\",\"plot_bgcolor\":\"#E5ECF6\",\"polar\":{\"angularaxis\":{\"gridcolor\":\"white\",\"linecolor\":\"white\",\"ticks\":\"\"},\"bgcolor\":\"#E5ECF6\",\"radialaxis\":{\"gridcolor\":\"white\",\"linecolor\":\"white\",\"ticks\":\"\"}},\"scene\":{\"xaxis\":{\"backgroundcolor\":\"#E5ECF6\",\"gridcolor\":\"white\",\"gridwidth\":2,\"linecolor\":\"white\",\"showbackground\":true,\"ticks\":\"\",\"zerolinecolor\":\"white\"},\"yaxis\":{\"backgroundcolor\":\"#E5ECF6\",\"gridcolor\":\"white\",\"gridwidth\":2,\"linecolor\":\"white\",\"showbackground\":true,\"ticks\":\"\",\"zerolinecolor\":\"white\"},\"zaxis\":{\"backgroundcolor\":\"#E5ECF6\",\"gridcolor\":\"white\",\"gridwidth\":2,\"linecolor\":\"white\",\"showbackground\":true,\"ticks\":\"\",\"zerolinecolor\":\"white\"}},\"shapedefaults\":{\"line\":{\"color\":\"#2a3f5f\"}},\"ternary\":{\"aaxis\":{\"gridcolor\":\"white\",\"linecolor\":\"white\",\"ticks\":\"\"},\"baxis\":{\"gridcolor\":\"white\",\"linecolor\":\"white\",\"ticks\":\"\"},\"bgcolor\":\"#E5ECF6\",\"caxis\":{\"gridcolor\":\"white\",\"linecolor\":\"white\",\"ticks\":\"\"}},\"title\":{\"x\":0.05},\"xaxis\":{\"automargin\":true,\"gridcolor\":\"white\",\"linecolor\":\"white\",\"ticks\":\"\",\"title\":{\"standoff\":15},\"zerolinecolor\":\"white\",\"zerolinewidth\":2},\"yaxis\":{\"automargin\":true,\"gridcolor\":\"white\",\"linecolor\":\"white\",\"ticks\":\"\",\"title\":{\"standoff\":15},\"zerolinecolor\":\"white\",\"zerolinewidth\":2}}},\"title\":{\"font\":{\"color\":\"#4D5663\"}},\"xaxis\":{\"gridcolor\":\"#E1E5ED\",\"showgrid\":true,\"tickfont\":{\"color\":\"#4D5663\"},\"title\":{\"font\":{\"color\":\"#4D5663\"},\"text\":\"\"},\"zerolinecolor\":\"#E1E5ED\"},\"yaxis\":{\"gridcolor\":\"#E1E5ED\",\"showgrid\":true,\"tickfont\":{\"color\":\"#4D5663\"},\"title\":{\"font\":{\"color\":\"#4D5663\"},\"text\":\"\"},\"zerolinecolor\":\"#E1E5ED\"}},                        {\"showLink\": true, \"linkText\": \"Export to plot.ly\", \"plotlyServerURL\": \"https://plot.ly\", \"responsive\": true}                    ).then(function(){\n",
       "                            \n",
       "var gd = document.getElementById('f4812a2e-e1c1-4ea6-b8d0-8f6287c98c94');\n",
       "var x = new MutationObserver(function (mutations, observer) {{\n",
       "        var display = window.getComputedStyle(gd).display;\n",
       "        if (!display || display === 'none') {{\n",
       "            console.log([gd, 'removed!']);\n",
       "            Plotly.purge(gd);\n",
       "            observer.disconnect();\n",
       "        }}\n",
       "}});\n",
       "\n",
       "// Listen for the removal of the full notebook cells\n",
       "var notebookContainer = gd.closest('#notebook-container');\n",
       "if (notebookContainer) {{\n",
       "    x.observe(notebookContainer, {childList: true});\n",
       "}}\n",
       "\n",
       "// Listen for the clearing of the current output cell\n",
       "var outputEl = gd.closest('.output');\n",
       "if (outputEl) {{\n",
       "    x.observe(outputEl, {childList: true});\n",
       "}}\n",
       "\n",
       "                        })                };                });            </script>        </div>"
      ]
     },
     "metadata": {},
     "output_type": "display_data"
    }
   ],
   "source": [
    "df.count().iplot(kind='bar')"
   ]
  },
  {
   "cell_type": "markdown",
   "metadata": {},
   "source": [
    "## Boxplots"
   ]
  },
  {
   "cell_type": "code",
   "execution_count": 13,
   "metadata": {},
   "outputs": [
    {
     "data": {
      "application/vnd.plotly.v1+json": {
       "config": {
        "linkText": "Export to plot.ly",
        "plotlyServerURL": "https://plot.ly",
        "showLink": true
       },
       "data": [
        {
         "boxpoints": false,
         "line": {
          "width": 1.3
         },
         "marker": {
          "color": "rgba(255, 153, 51, 1.0)"
         },
         "name": "A",
         "orientation": "v",
         "type": "box",
         "y": [
          -1.6201976890972134,
          1.179015368276081,
          -1.6214936519133512,
          0.03047124553832825,
          -0.2526286104197828,
          -0.9379499246694599,
          0.8269671650355134,
          0.38325540578942224,
          -1.3369240350745981,
          -0.1571043386951906,
          -0.47374238434467664,
          0.023099309943598014,
          0.733279230152324,
          0.4327892353101228,
          0.7866427226972601,
          0.8193153509882917,
          -0.6573163617758523,
          1.1080405429061686,
          -1.6288423934815082,
          0.19327248550973222,
          0.4670318890218097,
          0.24344411424644669,
          -1.3311134389816102,
          1.1620551223577433,
          1.2912876489780356,
          0.18104564980079738,
          -0.920957826249496,
          0.8153373278150663,
          0.4141237490605079,
          -1.2233923269366347,
          1.1809931936702687,
          -0.7472502325260357,
          0.7316732664119959,
          -0.24907740141754095,
          -1.856039241555898,
          0.48557905752155645,
          0.942283881961478,
          0.3578556108847455,
          -1.8677443406725636,
          1.0023813900186556,
          -0.2507150736742075,
          -0.9952209282809444,
          0.3996845671425887,
          -0.9446255241307885,
          -0.04225580624092134,
          -0.3506283854717632,
          1.413574037050735,
          -1.0317515856596224,
          1.480630113279642,
          0.39947797467673907,
          -0.6931505541669951,
          0.5821102631893128,
          0.4962188462986672,
          -0.2581590569711388,
          0.8973741639491336,
          -0.10080319290798798,
          -0.15464812870423214,
          0.8678202284599688,
          1.4082624375863562,
          -1.9604410319949725,
          1.5980717080218183,
          1.2573680424497145,
          0.8735081041173356,
          -1.0539724794624896,
          0.14895184661081642,
          1.0605146334574904,
          1.2608514085352878,
          0.240971785315486,
          0.2748063637274384,
          0.3539595539621846,
          1.2342208918053148,
          0.7223660874952281,
          -0.8641043702663473,
          -1.722594215592153,
          0.5522634434427093,
          -0.49545212848549014,
          -0.4298662616575933,
          0.8912737176769494,
          0.7827711272796617,
          1.2401269084078836,
          0.708741330504012,
          -0.7042768008570168,
          2.0624212994254996,
          -0.8775630823875434,
          -0.5172012578681376,
          0.08542921152016249,
          -0.9155834771940242,
          0.009828356120732294,
          -2.0744709535958066,
          0.22643759282650308,
          -0.5150997924470277,
          1.1698742620669689,
          1.666037436029818,
          0.2548941811062244,
          -0.11358095313937175,
          1.8217550714168769,
          -1.1735435230757323,
          -0.7592093728741733,
          -0.2988109427460776,
          0.9961206466322576
         ]
        },
        {
         "boxpoints": false,
         "line": {
          "width": 1.3
         },
         "marker": {
          "color": "rgba(55, 128, 191, 1.0)"
         },
         "name": "B",
         "orientation": "v",
         "type": "box",
         "y": [
          0.8297594902124418,
          -0.2783114996995031,
          -1.5289569523977877,
          -0.024712108089802683,
          -0.0247326672640995,
          -0.22748462092405278,
          -1.2046557250956362,
          -0.492574198134032,
          -0.8277087842007413,
          -0.5268682018178362,
          -0.7466368292324888,
          -1.6747939271306416,
          0.5515156661553242,
          -1.4772162733955383,
          -0.4254126914075391,
          -0.7914420736295171,
          -0.7253414533807264,
          -1.261797119079572,
          -1.2962240385283845,
          0.24117064460294366,
          1.0626596268890234,
          0.3330657373571715,
          -0.8173888046756824,
          0.625709231685683,
          0.9497207509658698,
          -0.7209576199345601,
          0.6113091443302957,
          0.09729281095671156,
          -0.7720024468971365,
          0.5930894634932572,
          1.5483268480595687,
          0.522617504572752,
          -0.9098182135648303,
          0.8715182286216513,
          -1.2908008408179037,
          -0.6816068106752934,
          0.30578782752968925,
          0.1326510272491607,
          0.36890944266358217,
          -0.4915204209445604,
          -0.1294344400609409,
          -0.4139232476620148,
          0.4904096710435924,
          -0.5021389171965049,
          -0.7041451895138741,
          1.915610746784163,
          -0.9811622770096722,
          0.41472580478141413,
          -0.00030173699829042525,
          -0.07742300302041409,
          0.03821276810804631,
          0.71686602330355,
          0.7574747053680021,
          0.9042140473633455,
          0.09759224671913559,
          -1.1803292048548368,
          -0.026214865627643223,
          -0.5459197506001886,
          0.7467193926971661,
          0.5431577761382423,
          0.210930427755455,
          1.2499441487288871,
          -3.048441413801019,
          0.02508455116907912,
          0.5476447945766364,
          -0.7718383664981547,
          -1.6821314507638936,
          -0.07769256589389573,
          1.4900168390869943,
          -0.8953597891744572,
          -0.33672148128028784,
          -0.7566801384767264,
          -0.43941583681939644,
          -0.6412448031731541,
          -0.5172857599200201,
          0.45956923847605186,
          1.8116969199744073,
          -0.5781802190947594,
          0.770776684992134,
          0.8627961753027991,
          -1.1575397220968435,
          0.8197478512094455,
          0.23064721862991777,
          0.008127836945889876,
          -0.7556460615903183,
          -0.6583060701628153,
          0.15637623791267963,
          -0.07895953358710191,
          -0.4364679669264129,
          1.636674909247799,
          -1.1480973336937255,
          -1.4056268439017143,
          0.7341548146711661,
          -0.1993410576061871,
          0.05287239073333219,
          0.6179748443438318,
          0.5181127568744494,
          -0.025898918350763307,
          0.23189176039414636,
          -0.3260572062212705
         ]
        },
        {
         "boxpoints": false,
         "line": {
          "width": 1.3
         },
         "marker": {
          "color": "rgba(50, 171, 96, 1.0)"
         },
         "name": "C",
         "orientation": "v",
         "type": "box",
         "y": [
          0.1932594339729936,
          -0.7346078843467054,
          1.626721586718804,
          0.8622725100067306,
          1.884882371317921,
          0.07565611487999387,
          -0.949282879507972,
          0.2492832253090776,
          0.1617069952641982,
          -0.38744803932455996,
          1.2323303086749207,
          -1.190017637158588,
          -0.16830389117711506,
          -0.18386571758090633,
          1.0416557307064032,
          -0.042683927280048564,
          -0.17943027443046825,
          0.09377608525222707,
          -0.34648028893403987,
          -1.3457124779089722,
          -0.5525422427384641,
          -2.504073711790753,
          0.08250692893788068,
          -0.15041226213454875,
          0.9564631115478902,
          0.994484222083241,
          1.916197578201942,
          -0.05732294129786576,
          0.249732100104231,
          -1.4408748388524284,
          -0.09296563888149552,
          -0.8365210168918193,
          2.2407072892749627,
          2.1106343291381227,
          -1.6861403986523635,
          -1.034440193799756,
          -1.4444378857153906,
          0.9364318540717749,
          1.2222570551045786,
          1.3047617801280775,
          -1.1952725755094704,
          0.3975262202920816,
          -0.7644800997365796,
          -1.5256011134179415,
          -1.8422218739969782,
          0.47260623440965754,
          1.1740354691983002,
          1.1638292965378618,
          0.7534688339655372,
          0.510374090916698,
          -0.14746026760231526,
          -1.4386063987093967,
          -0.10994209372314256,
          0.041850402730792255,
          0.4484838739564346,
          -0.2808213728997883,
          -0.6930274130372971,
          0.3620875780636234,
          2.248105842946969,
          0.7677277190660735,
          1.7172351693725438,
          0.3263861424187183,
          -0.17999655658451777,
          1.020187272897391,
          -0.958610339512646,
          0.7001642445280409,
          0.05607639606367041,
          -0.2660137814733033,
          0.29983991626422046,
          0.5910217437942568,
          -1.5668057130023978,
          -0.19591809005778352,
          2.4233025514867097,
          0.17546165225853128,
          0.6180205093993774,
          1.9911965539946757,
          0.8775026671228272,
          1.0197265883044442,
          1.1154042158684525,
          0.258128501474009,
          -0.20453836003383732,
          -0.46786072204702805,
          -0.24717581477741823,
          0.21092813592563098,
          1.0496994092450707,
          0.9117689173929281,
          -1.0835439860947247,
          -1.5513057361359273,
          1.533950647696765,
          0.5479409348589601,
          0.4942596004016569,
          -0.72466919800214,
          0.5544445395611213,
          0.4671857417000131,
          0.10548935770946632,
          -0.5398544505298176,
          0.8210475207158915,
          -0.4387802832146619,
          -0.789397221731786,
          -1.044080379036547
         ]
        },
        {
         "boxpoints": false,
         "line": {
          "width": 1.3
         },
         "marker": {
          "color": "rgba(128, 0, 128, 1.0)"
         },
         "name": "D",
         "orientation": "v",
         "type": "box",
         "y": [
          -1.020585532104849,
          -0.18513196930458953,
          -0.11883591656360529,
          -0.7522046588377137,
          0.881270411969169,
          -1.981988402972321,
          -0.4422213258758372,
          -0.4140964834744494,
          1.8126299977314346,
          -1.3582757744531162,
          -0.484307177266452,
          1.8037133531513976,
          0.23483738063352344,
          0.06886781920886893,
          -1.3799821939197057,
          -0.38278138332968387,
          -0.11244952400790263,
          -0.41955249919085846,
          0.5374444455616131,
          1.5766646336108878,
          0.08588028544915151,
          1.8926990198665814,
          0.6745863813188062,
          0.11370432687091656,
          1.4065022224072763,
          1.187090103750366,
          1.6159262715902416,
          0.2986846628834985,
          1.1645777108923328,
          -0.054044264837159225,
          0.871821866165794,
          0.1312393660762424,
          -1.503588660141973,
          0.928161639443395,
          -2.0076573984129835,
          -0.507029557707517,
          0.27686131156773597,
          1.0708906645885086,
          -1.5385554399791093,
          1.016068173942248,
          0.05622769910926885,
          -0.2882650024163722,
          0.6363537922080305,
          0.073725604414638,
          0.3285723247491967,
          -1.7343932874540129,
          1.0588561536049186,
          -1.8769000961813378,
          0.3771656605780358,
          0.5634974256306269,
          -0.6579280052841321,
          -1.7959243405787828,
          0.3637870659087675,
          0.4293325657906903,
          0.20118975505843892,
          0.8854838002655384,
          -1.2792893415435076,
          0.6627474484339916,
          -0.294672638352821,
          0.18559336111661404,
          -1.3180249202926333,
          -0.00993711607304854,
          0.05632444888686588,
          0.24945573162611462,
          1.6967401265137056,
          -0.04758116588982786,
          -0.27432027237511075,
          2.752971402389824,
          0.25021784686271226,
          -0.9344546214700837,
          -1.007773328606728,
          -1.3808013824829755,
          -0.44495295255214856,
          1.2321247407376885,
          0.2502942580950086,
          0.4175198782527313,
          1.2610120638295061,
          0.8009675626514536,
          -1.0126403790973382,
          0.07580175783164618,
          -1.1276742790098706,
          0.73446071160847,
          -0.28528370082117027,
          0.1842871502142503,
          0.9509220004462754,
          -0.7413038414120923,
          0.31598158062493925,
          -0.7754703911684763,
          -1.0716451747857663,
          -1.7530491683416134,
          1.6018744796518758,
          0.7050485640500473,
          1.1267463141808924,
          -0.8122305113474759,
          0.7350116263813458,
          -0.5560005979079157,
          -0.80468013038522,
          1.8670551852408603,
          1.6787238800694197,
          0.3157348580927388
         ]
        }
       ],
       "layout": {
        "legend": {
         "bgcolor": "#F5F6F9",
         "font": {
          "color": "#4D5663"
         }
        },
        "paper_bgcolor": "#F5F6F9",
        "plot_bgcolor": "#F5F6F9",
        "template": {
         "data": {
          "bar": [
           {
            "error_x": {
             "color": "#2a3f5f"
            },
            "error_y": {
             "color": "#2a3f5f"
            },
            "marker": {
             "line": {
              "color": "#E5ECF6",
              "width": 0.5
             },
             "pattern": {
              "fillmode": "overlay",
              "size": 10,
              "solidity": 0.2
             }
            },
            "type": "bar"
           }
          ],
          "barpolar": [
           {
            "marker": {
             "line": {
              "color": "#E5ECF6",
              "width": 0.5
             },
             "pattern": {
              "fillmode": "overlay",
              "size": 10,
              "solidity": 0.2
             }
            },
            "type": "barpolar"
           }
          ],
          "carpet": [
           {
            "aaxis": {
             "endlinecolor": "#2a3f5f",
             "gridcolor": "white",
             "linecolor": "white",
             "minorgridcolor": "white",
             "startlinecolor": "#2a3f5f"
            },
            "baxis": {
             "endlinecolor": "#2a3f5f",
             "gridcolor": "white",
             "linecolor": "white",
             "minorgridcolor": "white",
             "startlinecolor": "#2a3f5f"
            },
            "type": "carpet"
           }
          ],
          "choropleth": [
           {
            "colorbar": {
             "outlinewidth": 0,
             "ticks": ""
            },
            "type": "choropleth"
           }
          ],
          "contour": [
           {
            "colorbar": {
             "outlinewidth": 0,
             "ticks": ""
            },
            "colorscale": [
             [
              0,
              "#0d0887"
             ],
             [
              0.1111111111111111,
              "#46039f"
             ],
             [
              0.2222222222222222,
              "#7201a8"
             ],
             [
              0.3333333333333333,
              "#9c179e"
             ],
             [
              0.4444444444444444,
              "#bd3786"
             ],
             [
              0.5555555555555556,
              "#d8576b"
             ],
             [
              0.6666666666666666,
              "#ed7953"
             ],
             [
              0.7777777777777778,
              "#fb9f3a"
             ],
             [
              0.8888888888888888,
              "#fdca26"
             ],
             [
              1,
              "#f0f921"
             ]
            ],
            "type": "contour"
           }
          ],
          "contourcarpet": [
           {
            "colorbar": {
             "outlinewidth": 0,
             "ticks": ""
            },
            "type": "contourcarpet"
           }
          ],
          "heatmap": [
           {
            "colorbar": {
             "outlinewidth": 0,
             "ticks": ""
            },
            "colorscale": [
             [
              0,
              "#0d0887"
             ],
             [
              0.1111111111111111,
              "#46039f"
             ],
             [
              0.2222222222222222,
              "#7201a8"
             ],
             [
              0.3333333333333333,
              "#9c179e"
             ],
             [
              0.4444444444444444,
              "#bd3786"
             ],
             [
              0.5555555555555556,
              "#d8576b"
             ],
             [
              0.6666666666666666,
              "#ed7953"
             ],
             [
              0.7777777777777778,
              "#fb9f3a"
             ],
             [
              0.8888888888888888,
              "#fdca26"
             ],
             [
              1,
              "#f0f921"
             ]
            ],
            "type": "heatmap"
           }
          ],
          "heatmapgl": [
           {
            "colorbar": {
             "outlinewidth": 0,
             "ticks": ""
            },
            "colorscale": [
             [
              0,
              "#0d0887"
             ],
             [
              0.1111111111111111,
              "#46039f"
             ],
             [
              0.2222222222222222,
              "#7201a8"
             ],
             [
              0.3333333333333333,
              "#9c179e"
             ],
             [
              0.4444444444444444,
              "#bd3786"
             ],
             [
              0.5555555555555556,
              "#d8576b"
             ],
             [
              0.6666666666666666,
              "#ed7953"
             ],
             [
              0.7777777777777778,
              "#fb9f3a"
             ],
             [
              0.8888888888888888,
              "#fdca26"
             ],
             [
              1,
              "#f0f921"
             ]
            ],
            "type": "heatmapgl"
           }
          ],
          "histogram": [
           {
            "marker": {
             "pattern": {
              "fillmode": "overlay",
              "size": 10,
              "solidity": 0.2
             }
            },
            "type": "histogram"
           }
          ],
          "histogram2d": [
           {
            "colorbar": {
             "outlinewidth": 0,
             "ticks": ""
            },
            "colorscale": [
             [
              0,
              "#0d0887"
             ],
             [
              0.1111111111111111,
              "#46039f"
             ],
             [
              0.2222222222222222,
              "#7201a8"
             ],
             [
              0.3333333333333333,
              "#9c179e"
             ],
             [
              0.4444444444444444,
              "#bd3786"
             ],
             [
              0.5555555555555556,
              "#d8576b"
             ],
             [
              0.6666666666666666,
              "#ed7953"
             ],
             [
              0.7777777777777778,
              "#fb9f3a"
             ],
             [
              0.8888888888888888,
              "#fdca26"
             ],
             [
              1,
              "#f0f921"
             ]
            ],
            "type": "histogram2d"
           }
          ],
          "histogram2dcontour": [
           {
            "colorbar": {
             "outlinewidth": 0,
             "ticks": ""
            },
            "colorscale": [
             [
              0,
              "#0d0887"
             ],
             [
              0.1111111111111111,
              "#46039f"
             ],
             [
              0.2222222222222222,
              "#7201a8"
             ],
             [
              0.3333333333333333,
              "#9c179e"
             ],
             [
              0.4444444444444444,
              "#bd3786"
             ],
             [
              0.5555555555555556,
              "#d8576b"
             ],
             [
              0.6666666666666666,
              "#ed7953"
             ],
             [
              0.7777777777777778,
              "#fb9f3a"
             ],
             [
              0.8888888888888888,
              "#fdca26"
             ],
             [
              1,
              "#f0f921"
             ]
            ],
            "type": "histogram2dcontour"
           }
          ],
          "mesh3d": [
           {
            "colorbar": {
             "outlinewidth": 0,
             "ticks": ""
            },
            "type": "mesh3d"
           }
          ],
          "parcoords": [
           {
            "line": {
             "colorbar": {
              "outlinewidth": 0,
              "ticks": ""
             }
            },
            "type": "parcoords"
           }
          ],
          "pie": [
           {
            "automargin": true,
            "type": "pie"
           }
          ],
          "scatter": [
           {
            "fillpattern": {
             "fillmode": "overlay",
             "size": 10,
             "solidity": 0.2
            },
            "type": "scatter"
           }
          ],
          "scatter3d": [
           {
            "line": {
             "colorbar": {
              "outlinewidth": 0,
              "ticks": ""
             }
            },
            "marker": {
             "colorbar": {
              "outlinewidth": 0,
              "ticks": ""
             }
            },
            "type": "scatter3d"
           }
          ],
          "scattercarpet": [
           {
            "marker": {
             "colorbar": {
              "outlinewidth": 0,
              "ticks": ""
             }
            },
            "type": "scattercarpet"
           }
          ],
          "scattergeo": [
           {
            "marker": {
             "colorbar": {
              "outlinewidth": 0,
              "ticks": ""
             }
            },
            "type": "scattergeo"
           }
          ],
          "scattergl": [
           {
            "marker": {
             "colorbar": {
              "outlinewidth": 0,
              "ticks": ""
             }
            },
            "type": "scattergl"
           }
          ],
          "scattermapbox": [
           {
            "marker": {
             "colorbar": {
              "outlinewidth": 0,
              "ticks": ""
             }
            },
            "type": "scattermapbox"
           }
          ],
          "scatterpolar": [
           {
            "marker": {
             "colorbar": {
              "outlinewidth": 0,
              "ticks": ""
             }
            },
            "type": "scatterpolar"
           }
          ],
          "scatterpolargl": [
           {
            "marker": {
             "colorbar": {
              "outlinewidth": 0,
              "ticks": ""
             }
            },
            "type": "scatterpolargl"
           }
          ],
          "scatterternary": [
           {
            "marker": {
             "colorbar": {
              "outlinewidth": 0,
              "ticks": ""
             }
            },
            "type": "scatterternary"
           }
          ],
          "surface": [
           {
            "colorbar": {
             "outlinewidth": 0,
             "ticks": ""
            },
            "colorscale": [
             [
              0,
              "#0d0887"
             ],
             [
              0.1111111111111111,
              "#46039f"
             ],
             [
              0.2222222222222222,
              "#7201a8"
             ],
             [
              0.3333333333333333,
              "#9c179e"
             ],
             [
              0.4444444444444444,
              "#bd3786"
             ],
             [
              0.5555555555555556,
              "#d8576b"
             ],
             [
              0.6666666666666666,
              "#ed7953"
             ],
             [
              0.7777777777777778,
              "#fb9f3a"
             ],
             [
              0.8888888888888888,
              "#fdca26"
             ],
             [
              1,
              "#f0f921"
             ]
            ],
            "type": "surface"
           }
          ],
          "table": [
           {
            "cells": {
             "fill": {
              "color": "#EBF0F8"
             },
             "line": {
              "color": "white"
             }
            },
            "header": {
             "fill": {
              "color": "#C8D4E3"
             },
             "line": {
              "color": "white"
             }
            },
            "type": "table"
           }
          ]
         },
         "layout": {
          "annotationdefaults": {
           "arrowcolor": "#2a3f5f",
           "arrowhead": 0,
           "arrowwidth": 1
          },
          "autotypenumbers": "strict",
          "coloraxis": {
           "colorbar": {
            "outlinewidth": 0,
            "ticks": ""
           }
          },
          "colorscale": {
           "diverging": [
            [
             0,
             "#8e0152"
            ],
            [
             0.1,
             "#c51b7d"
            ],
            [
             0.2,
             "#de77ae"
            ],
            [
             0.3,
             "#f1b6da"
            ],
            [
             0.4,
             "#fde0ef"
            ],
            [
             0.5,
             "#f7f7f7"
            ],
            [
             0.6,
             "#e6f5d0"
            ],
            [
             0.7,
             "#b8e186"
            ],
            [
             0.8,
             "#7fbc41"
            ],
            [
             0.9,
             "#4d9221"
            ],
            [
             1,
             "#276419"
            ]
           ],
           "sequential": [
            [
             0,
             "#0d0887"
            ],
            [
             0.1111111111111111,
             "#46039f"
            ],
            [
             0.2222222222222222,
             "#7201a8"
            ],
            [
             0.3333333333333333,
             "#9c179e"
            ],
            [
             0.4444444444444444,
             "#bd3786"
            ],
            [
             0.5555555555555556,
             "#d8576b"
            ],
            [
             0.6666666666666666,
             "#ed7953"
            ],
            [
             0.7777777777777778,
             "#fb9f3a"
            ],
            [
             0.8888888888888888,
             "#fdca26"
            ],
            [
             1,
             "#f0f921"
            ]
           ],
           "sequentialminus": [
            [
             0,
             "#0d0887"
            ],
            [
             0.1111111111111111,
             "#46039f"
            ],
            [
             0.2222222222222222,
             "#7201a8"
            ],
            [
             0.3333333333333333,
             "#9c179e"
            ],
            [
             0.4444444444444444,
             "#bd3786"
            ],
            [
             0.5555555555555556,
             "#d8576b"
            ],
            [
             0.6666666666666666,
             "#ed7953"
            ],
            [
             0.7777777777777778,
             "#fb9f3a"
            ],
            [
             0.8888888888888888,
             "#fdca26"
            ],
            [
             1,
             "#f0f921"
            ]
           ]
          },
          "colorway": [
           "#636efa",
           "#EF553B",
           "#00cc96",
           "#ab63fa",
           "#FFA15A",
           "#19d3f3",
           "#FF6692",
           "#B6E880",
           "#FF97FF",
           "#FECB52"
          ],
          "font": {
           "color": "#2a3f5f"
          },
          "geo": {
           "bgcolor": "white",
           "lakecolor": "white",
           "landcolor": "#E5ECF6",
           "showlakes": true,
           "showland": true,
           "subunitcolor": "white"
          },
          "hoverlabel": {
           "align": "left"
          },
          "hovermode": "closest",
          "mapbox": {
           "style": "light"
          },
          "paper_bgcolor": "white",
          "plot_bgcolor": "#E5ECF6",
          "polar": {
           "angularaxis": {
            "gridcolor": "white",
            "linecolor": "white",
            "ticks": ""
           },
           "bgcolor": "#E5ECF6",
           "radialaxis": {
            "gridcolor": "white",
            "linecolor": "white",
            "ticks": ""
           }
          },
          "scene": {
           "xaxis": {
            "backgroundcolor": "#E5ECF6",
            "gridcolor": "white",
            "gridwidth": 2,
            "linecolor": "white",
            "showbackground": true,
            "ticks": "",
            "zerolinecolor": "white"
           },
           "yaxis": {
            "backgroundcolor": "#E5ECF6",
            "gridcolor": "white",
            "gridwidth": 2,
            "linecolor": "white",
            "showbackground": true,
            "ticks": "",
            "zerolinecolor": "white"
           },
           "zaxis": {
            "backgroundcolor": "#E5ECF6",
            "gridcolor": "white",
            "gridwidth": 2,
            "linecolor": "white",
            "showbackground": true,
            "ticks": "",
            "zerolinecolor": "white"
           }
          },
          "shapedefaults": {
           "line": {
            "color": "#2a3f5f"
           }
          },
          "ternary": {
           "aaxis": {
            "gridcolor": "white",
            "linecolor": "white",
            "ticks": ""
           },
           "baxis": {
            "gridcolor": "white",
            "linecolor": "white",
            "ticks": ""
           },
           "bgcolor": "#E5ECF6",
           "caxis": {
            "gridcolor": "white",
            "linecolor": "white",
            "ticks": ""
           }
          },
          "title": {
           "x": 0.05
          },
          "xaxis": {
           "automargin": true,
           "gridcolor": "white",
           "linecolor": "white",
           "ticks": "",
           "title": {
            "standoff": 15
           },
           "zerolinecolor": "white",
           "zerolinewidth": 2
          },
          "yaxis": {
           "automargin": true,
           "gridcolor": "white",
           "linecolor": "white",
           "ticks": "",
           "title": {
            "standoff": 15
           },
           "zerolinecolor": "white",
           "zerolinewidth": 2
          }
         }
        },
        "title": {
         "font": {
          "color": "#4D5663"
         }
        },
        "xaxis": {
         "gridcolor": "#E1E5ED",
         "showgrid": true,
         "tickfont": {
          "color": "#4D5663"
         },
         "title": {
          "font": {
           "color": "#4D5663"
          },
          "text": ""
         },
         "zerolinecolor": "#E1E5ED"
        },
        "yaxis": {
         "gridcolor": "#E1E5ED",
         "showgrid": true,
         "tickfont": {
          "color": "#4D5663"
         },
         "title": {
          "font": {
           "color": "#4D5663"
          },
          "text": ""
         },
         "zerolinecolor": "#E1E5ED"
        }
       }
      },
      "text/html": [
       "<div>                            <div id=\"190082a8-047c-48b2-bbb9-97147011e930\" class=\"plotly-graph-div\" style=\"height:525px; width:100%;\"></div>            <script type=\"text/javascript\">                require([\"plotly\"], function(Plotly) {                    window.PLOTLYENV=window.PLOTLYENV || {};\n",
       "                    window.PLOTLYENV.BASE_URL='https://plot.ly';                                    if (document.getElementById(\"190082a8-047c-48b2-bbb9-97147011e930\")) {                    Plotly.newPlot(                        \"190082a8-047c-48b2-bbb9-97147011e930\",                        [{\"boxpoints\":false,\"line\":{\"width\":1.3},\"marker\":{\"color\":\"rgba(255, 153, 51, 1.0)\"},\"name\":\"A\",\"orientation\":\"v\",\"y\":[-1.6201976890972134,1.179015368276081,-1.6214936519133512,0.03047124553832825,-0.2526286104197828,-0.9379499246694599,0.8269671650355134,0.38325540578942224,-1.3369240350745981,-0.1571043386951906,-0.47374238434467664,0.023099309943598014,0.733279230152324,0.4327892353101228,0.7866427226972601,0.8193153509882917,-0.6573163617758523,1.1080405429061686,-1.6288423934815082,0.19327248550973222,0.4670318890218097,0.24344411424644669,-1.3311134389816102,1.1620551223577433,1.2912876489780356,0.18104564980079738,-0.920957826249496,0.8153373278150663,0.4141237490605079,-1.2233923269366347,1.1809931936702687,-0.7472502325260357,0.7316732664119959,-0.24907740141754095,-1.856039241555898,0.48557905752155645,0.942283881961478,0.3578556108847455,-1.8677443406725636,1.0023813900186556,-0.2507150736742075,-0.9952209282809444,0.3996845671425887,-0.9446255241307885,-0.04225580624092134,-0.3506283854717632,1.413574037050735,-1.0317515856596224,1.480630113279642,0.39947797467673907,-0.6931505541669951,0.5821102631893128,0.4962188462986672,-0.2581590569711388,0.8973741639491336,-0.10080319290798798,-0.15464812870423214,0.8678202284599688,1.4082624375863562,-1.9604410319949725,1.5980717080218183,1.2573680424497145,0.8735081041173356,-1.0539724794624896,0.14895184661081642,1.0605146334574904,1.2608514085352878,0.240971785315486,0.2748063637274384,0.3539595539621846,1.2342208918053148,0.7223660874952281,-0.8641043702663473,-1.722594215592153,0.5522634434427093,-0.49545212848549014,-0.4298662616575933,0.8912737176769494,0.7827711272796617,1.2401269084078836,0.708741330504012,-0.7042768008570168,2.0624212994254996,-0.8775630823875434,-0.5172012578681376,0.08542921152016249,-0.9155834771940242,0.009828356120732294,-2.0744709535958066,0.22643759282650308,-0.5150997924470277,1.1698742620669689,1.666037436029818,0.2548941811062244,-0.11358095313937175,1.8217550714168769,-1.1735435230757323,-0.7592093728741733,-0.2988109427460776,0.9961206466322576],\"type\":\"box\"},{\"boxpoints\":false,\"line\":{\"width\":1.3},\"marker\":{\"color\":\"rgba(55, 128, 191, 1.0)\"},\"name\":\"B\",\"orientation\":\"v\",\"y\":[0.8297594902124418,-0.2783114996995031,-1.5289569523977877,-0.024712108089802683,-0.0247326672640995,-0.22748462092405278,-1.2046557250956362,-0.492574198134032,-0.8277087842007413,-0.5268682018178362,-0.7466368292324888,-1.6747939271306416,0.5515156661553242,-1.4772162733955383,-0.4254126914075391,-0.7914420736295171,-0.7253414533807264,-1.261797119079572,-1.2962240385283845,0.24117064460294366,1.0626596268890234,0.3330657373571715,-0.8173888046756824,0.625709231685683,0.9497207509658698,-0.7209576199345601,0.6113091443302957,0.09729281095671156,-0.7720024468971365,0.5930894634932572,1.5483268480595687,0.522617504572752,-0.9098182135648303,0.8715182286216513,-1.2908008408179037,-0.6816068106752934,0.30578782752968925,0.1326510272491607,0.36890944266358217,-0.4915204209445604,-0.1294344400609409,-0.4139232476620148,0.4904096710435924,-0.5021389171965049,-0.7041451895138741,1.915610746784163,-0.9811622770096722,0.41472580478141413,-0.00030173699829042525,-0.07742300302041409,0.03821276810804631,0.71686602330355,0.7574747053680021,0.9042140473633455,0.09759224671913559,-1.1803292048548368,-0.026214865627643223,-0.5459197506001886,0.7467193926971661,0.5431577761382423,0.210930427755455,1.2499441487288871,-3.048441413801019,0.02508455116907912,0.5476447945766364,-0.7718383664981547,-1.6821314507638936,-0.07769256589389573,1.4900168390869943,-0.8953597891744572,-0.33672148128028784,-0.7566801384767264,-0.43941583681939644,-0.6412448031731541,-0.5172857599200201,0.45956923847605186,1.8116969199744073,-0.5781802190947594,0.770776684992134,0.8627961753027991,-1.1575397220968435,0.8197478512094455,0.23064721862991777,0.008127836945889876,-0.7556460615903183,-0.6583060701628153,0.15637623791267963,-0.07895953358710191,-0.4364679669264129,1.636674909247799,-1.1480973336937255,-1.4056268439017143,0.7341548146711661,-0.1993410576061871,0.05287239073333219,0.6179748443438318,0.5181127568744494,-0.025898918350763307,0.23189176039414636,-0.3260572062212705],\"type\":\"box\"},{\"boxpoints\":false,\"line\":{\"width\":1.3},\"marker\":{\"color\":\"rgba(50, 171, 96, 1.0)\"},\"name\":\"C\",\"orientation\":\"v\",\"y\":[0.1932594339729936,-0.7346078843467054,1.626721586718804,0.8622725100067306,1.884882371317921,0.07565611487999387,-0.949282879507972,0.2492832253090776,0.1617069952641982,-0.38744803932455996,1.2323303086749207,-1.190017637158588,-0.16830389117711506,-0.18386571758090633,1.0416557307064032,-0.042683927280048564,-0.17943027443046825,0.09377608525222707,-0.34648028893403987,-1.3457124779089722,-0.5525422427384641,-2.504073711790753,0.08250692893788068,-0.15041226213454875,0.9564631115478902,0.994484222083241,1.916197578201942,-0.05732294129786576,0.249732100104231,-1.4408748388524284,-0.09296563888149552,-0.8365210168918193,2.2407072892749627,2.1106343291381227,-1.6861403986523635,-1.034440193799756,-1.4444378857153906,0.9364318540717749,1.2222570551045786,1.3047617801280775,-1.1952725755094704,0.3975262202920816,-0.7644800997365796,-1.5256011134179415,-1.8422218739969782,0.47260623440965754,1.1740354691983002,1.1638292965378618,0.7534688339655372,0.510374090916698,-0.14746026760231526,-1.4386063987093967,-0.10994209372314256,0.041850402730792255,0.4484838739564346,-0.2808213728997883,-0.6930274130372971,0.3620875780636234,2.248105842946969,0.7677277190660735,1.7172351693725438,0.3263861424187183,-0.17999655658451777,1.020187272897391,-0.958610339512646,0.7001642445280409,0.05607639606367041,-0.2660137814733033,0.29983991626422046,0.5910217437942568,-1.5668057130023978,-0.19591809005778352,2.4233025514867097,0.17546165225853128,0.6180205093993774,1.9911965539946757,0.8775026671228272,1.0197265883044442,1.1154042158684525,0.258128501474009,-0.20453836003383732,-0.46786072204702805,-0.24717581477741823,0.21092813592563098,1.0496994092450707,0.9117689173929281,-1.0835439860947247,-1.5513057361359273,1.533950647696765,0.5479409348589601,0.4942596004016569,-0.72466919800214,0.5544445395611213,0.4671857417000131,0.10548935770946632,-0.5398544505298176,0.8210475207158915,-0.4387802832146619,-0.789397221731786,-1.044080379036547],\"type\":\"box\"},{\"boxpoints\":false,\"line\":{\"width\":1.3},\"marker\":{\"color\":\"rgba(128, 0, 128, 1.0)\"},\"name\":\"D\",\"orientation\":\"v\",\"y\":[-1.020585532104849,-0.18513196930458953,-0.11883591656360529,-0.7522046588377137,0.881270411969169,-1.981988402972321,-0.4422213258758372,-0.4140964834744494,1.8126299977314346,-1.3582757744531162,-0.484307177266452,1.8037133531513976,0.23483738063352344,0.06886781920886893,-1.3799821939197057,-0.38278138332968387,-0.11244952400790263,-0.41955249919085846,0.5374444455616131,1.5766646336108878,0.08588028544915151,1.8926990198665814,0.6745863813188062,0.11370432687091656,1.4065022224072763,1.187090103750366,1.6159262715902416,0.2986846628834985,1.1645777108923328,-0.054044264837159225,0.871821866165794,0.1312393660762424,-1.503588660141973,0.928161639443395,-2.0076573984129835,-0.507029557707517,0.27686131156773597,1.0708906645885086,-1.5385554399791093,1.016068173942248,0.05622769910926885,-0.2882650024163722,0.6363537922080305,0.073725604414638,0.3285723247491967,-1.7343932874540129,1.0588561536049186,-1.8769000961813378,0.3771656605780358,0.5634974256306269,-0.6579280052841321,-1.7959243405787828,0.3637870659087675,0.4293325657906903,0.20118975505843892,0.8854838002655384,-1.2792893415435076,0.6627474484339916,-0.294672638352821,0.18559336111661404,-1.3180249202926333,-0.00993711607304854,0.05632444888686588,0.24945573162611462,1.6967401265137056,-0.04758116588982786,-0.27432027237511075,2.752971402389824,0.25021784686271226,-0.9344546214700837,-1.007773328606728,-1.3808013824829755,-0.44495295255214856,1.2321247407376885,0.2502942580950086,0.4175198782527313,1.2610120638295061,0.8009675626514536,-1.0126403790973382,0.07580175783164618,-1.1276742790098706,0.73446071160847,-0.28528370082117027,0.1842871502142503,0.9509220004462754,-0.7413038414120923,0.31598158062493925,-0.7754703911684763,-1.0716451747857663,-1.7530491683416134,1.6018744796518758,0.7050485640500473,1.1267463141808924,-0.8122305113474759,0.7350116263813458,-0.5560005979079157,-0.80468013038522,1.8670551852408603,1.6787238800694197,0.3157348580927388],\"type\":\"box\"}],                        {\"legend\":{\"bgcolor\":\"#F5F6F9\",\"font\":{\"color\":\"#4D5663\"}},\"paper_bgcolor\":\"#F5F6F9\",\"plot_bgcolor\":\"#F5F6F9\",\"template\":{\"data\":{\"barpolar\":[{\"marker\":{\"line\":{\"color\":\"#E5ECF6\",\"width\":0.5},\"pattern\":{\"fillmode\":\"overlay\",\"size\":10,\"solidity\":0.2}},\"type\":\"barpolar\"}],\"bar\":[{\"error_x\":{\"color\":\"#2a3f5f\"},\"error_y\":{\"color\":\"#2a3f5f\"},\"marker\":{\"line\":{\"color\":\"#E5ECF6\",\"width\":0.5},\"pattern\":{\"fillmode\":\"overlay\",\"size\":10,\"solidity\":0.2}},\"type\":\"bar\"}],\"carpet\":[{\"aaxis\":{\"endlinecolor\":\"#2a3f5f\",\"gridcolor\":\"white\",\"linecolor\":\"white\",\"minorgridcolor\":\"white\",\"startlinecolor\":\"#2a3f5f\"},\"baxis\":{\"endlinecolor\":\"#2a3f5f\",\"gridcolor\":\"white\",\"linecolor\":\"white\",\"minorgridcolor\":\"white\",\"startlinecolor\":\"#2a3f5f\"},\"type\":\"carpet\"}],\"choropleth\":[{\"colorbar\":{\"outlinewidth\":0,\"ticks\":\"\"},\"type\":\"choropleth\"}],\"contourcarpet\":[{\"colorbar\":{\"outlinewidth\":0,\"ticks\":\"\"},\"type\":\"contourcarpet\"}],\"contour\":[{\"colorbar\":{\"outlinewidth\":0,\"ticks\":\"\"},\"colorscale\":[[0.0,\"#0d0887\"],[0.1111111111111111,\"#46039f\"],[0.2222222222222222,\"#7201a8\"],[0.3333333333333333,\"#9c179e\"],[0.4444444444444444,\"#bd3786\"],[0.5555555555555556,\"#d8576b\"],[0.6666666666666666,\"#ed7953\"],[0.7777777777777778,\"#fb9f3a\"],[0.8888888888888888,\"#fdca26\"],[1.0,\"#f0f921\"]],\"type\":\"contour\"}],\"heatmapgl\":[{\"colorbar\":{\"outlinewidth\":0,\"ticks\":\"\"},\"colorscale\":[[0.0,\"#0d0887\"],[0.1111111111111111,\"#46039f\"],[0.2222222222222222,\"#7201a8\"],[0.3333333333333333,\"#9c179e\"],[0.4444444444444444,\"#bd3786\"],[0.5555555555555556,\"#d8576b\"],[0.6666666666666666,\"#ed7953\"],[0.7777777777777778,\"#fb9f3a\"],[0.8888888888888888,\"#fdca26\"],[1.0,\"#f0f921\"]],\"type\":\"heatmapgl\"}],\"heatmap\":[{\"colorbar\":{\"outlinewidth\":0,\"ticks\":\"\"},\"colorscale\":[[0.0,\"#0d0887\"],[0.1111111111111111,\"#46039f\"],[0.2222222222222222,\"#7201a8\"],[0.3333333333333333,\"#9c179e\"],[0.4444444444444444,\"#bd3786\"],[0.5555555555555556,\"#d8576b\"],[0.6666666666666666,\"#ed7953\"],[0.7777777777777778,\"#fb9f3a\"],[0.8888888888888888,\"#fdca26\"],[1.0,\"#f0f921\"]],\"type\":\"heatmap\"}],\"histogram2dcontour\":[{\"colorbar\":{\"outlinewidth\":0,\"ticks\":\"\"},\"colorscale\":[[0.0,\"#0d0887\"],[0.1111111111111111,\"#46039f\"],[0.2222222222222222,\"#7201a8\"],[0.3333333333333333,\"#9c179e\"],[0.4444444444444444,\"#bd3786\"],[0.5555555555555556,\"#d8576b\"],[0.6666666666666666,\"#ed7953\"],[0.7777777777777778,\"#fb9f3a\"],[0.8888888888888888,\"#fdca26\"],[1.0,\"#f0f921\"]],\"type\":\"histogram2dcontour\"}],\"histogram2d\":[{\"colorbar\":{\"outlinewidth\":0,\"ticks\":\"\"},\"colorscale\":[[0.0,\"#0d0887\"],[0.1111111111111111,\"#46039f\"],[0.2222222222222222,\"#7201a8\"],[0.3333333333333333,\"#9c179e\"],[0.4444444444444444,\"#bd3786\"],[0.5555555555555556,\"#d8576b\"],[0.6666666666666666,\"#ed7953\"],[0.7777777777777778,\"#fb9f3a\"],[0.8888888888888888,\"#fdca26\"],[1.0,\"#f0f921\"]],\"type\":\"histogram2d\"}],\"histogram\":[{\"marker\":{\"pattern\":{\"fillmode\":\"overlay\",\"size\":10,\"solidity\":0.2}},\"type\":\"histogram\"}],\"mesh3d\":[{\"colorbar\":{\"outlinewidth\":0,\"ticks\":\"\"},\"type\":\"mesh3d\"}],\"parcoords\":[{\"line\":{\"colorbar\":{\"outlinewidth\":0,\"ticks\":\"\"}},\"type\":\"parcoords\"}],\"pie\":[{\"automargin\":true,\"type\":\"pie\"}],\"scatter3d\":[{\"line\":{\"colorbar\":{\"outlinewidth\":0,\"ticks\":\"\"}},\"marker\":{\"colorbar\":{\"outlinewidth\":0,\"ticks\":\"\"}},\"type\":\"scatter3d\"}],\"scattercarpet\":[{\"marker\":{\"colorbar\":{\"outlinewidth\":0,\"ticks\":\"\"}},\"type\":\"scattercarpet\"}],\"scattergeo\":[{\"marker\":{\"colorbar\":{\"outlinewidth\":0,\"ticks\":\"\"}},\"type\":\"scattergeo\"}],\"scattergl\":[{\"marker\":{\"colorbar\":{\"outlinewidth\":0,\"ticks\":\"\"}},\"type\":\"scattergl\"}],\"scattermapbox\":[{\"marker\":{\"colorbar\":{\"outlinewidth\":0,\"ticks\":\"\"}},\"type\":\"scattermapbox\"}],\"scatterpolargl\":[{\"marker\":{\"colorbar\":{\"outlinewidth\":0,\"ticks\":\"\"}},\"type\":\"scatterpolargl\"}],\"scatterpolar\":[{\"marker\":{\"colorbar\":{\"outlinewidth\":0,\"ticks\":\"\"}},\"type\":\"scatterpolar\"}],\"scatter\":[{\"fillpattern\":{\"fillmode\":\"overlay\",\"size\":10,\"solidity\":0.2},\"type\":\"scatter\"}],\"scatterternary\":[{\"marker\":{\"colorbar\":{\"outlinewidth\":0,\"ticks\":\"\"}},\"type\":\"scatterternary\"}],\"surface\":[{\"colorbar\":{\"outlinewidth\":0,\"ticks\":\"\"},\"colorscale\":[[0.0,\"#0d0887\"],[0.1111111111111111,\"#46039f\"],[0.2222222222222222,\"#7201a8\"],[0.3333333333333333,\"#9c179e\"],[0.4444444444444444,\"#bd3786\"],[0.5555555555555556,\"#d8576b\"],[0.6666666666666666,\"#ed7953\"],[0.7777777777777778,\"#fb9f3a\"],[0.8888888888888888,\"#fdca26\"],[1.0,\"#f0f921\"]],\"type\":\"surface\"}],\"table\":[{\"cells\":{\"fill\":{\"color\":\"#EBF0F8\"},\"line\":{\"color\":\"white\"}},\"header\":{\"fill\":{\"color\":\"#C8D4E3\"},\"line\":{\"color\":\"white\"}},\"type\":\"table\"}]},\"layout\":{\"annotationdefaults\":{\"arrowcolor\":\"#2a3f5f\",\"arrowhead\":0,\"arrowwidth\":1},\"autotypenumbers\":\"strict\",\"coloraxis\":{\"colorbar\":{\"outlinewidth\":0,\"ticks\":\"\"}},\"colorscale\":{\"diverging\":[[0,\"#8e0152\"],[0.1,\"#c51b7d\"],[0.2,\"#de77ae\"],[0.3,\"#f1b6da\"],[0.4,\"#fde0ef\"],[0.5,\"#f7f7f7\"],[0.6,\"#e6f5d0\"],[0.7,\"#b8e186\"],[0.8,\"#7fbc41\"],[0.9,\"#4d9221\"],[1,\"#276419\"]],\"sequential\":[[0.0,\"#0d0887\"],[0.1111111111111111,\"#46039f\"],[0.2222222222222222,\"#7201a8\"],[0.3333333333333333,\"#9c179e\"],[0.4444444444444444,\"#bd3786\"],[0.5555555555555556,\"#d8576b\"],[0.6666666666666666,\"#ed7953\"],[0.7777777777777778,\"#fb9f3a\"],[0.8888888888888888,\"#fdca26\"],[1.0,\"#f0f921\"]],\"sequentialminus\":[[0.0,\"#0d0887\"],[0.1111111111111111,\"#46039f\"],[0.2222222222222222,\"#7201a8\"],[0.3333333333333333,\"#9c179e\"],[0.4444444444444444,\"#bd3786\"],[0.5555555555555556,\"#d8576b\"],[0.6666666666666666,\"#ed7953\"],[0.7777777777777778,\"#fb9f3a\"],[0.8888888888888888,\"#fdca26\"],[1.0,\"#f0f921\"]]},\"colorway\":[\"#636efa\",\"#EF553B\",\"#00cc96\",\"#ab63fa\",\"#FFA15A\",\"#19d3f3\",\"#FF6692\",\"#B6E880\",\"#FF97FF\",\"#FECB52\"],\"font\":{\"color\":\"#2a3f5f\"},\"geo\":{\"bgcolor\":\"white\",\"lakecolor\":\"white\",\"landcolor\":\"#E5ECF6\",\"showlakes\":true,\"showland\":true,\"subunitcolor\":\"white\"},\"hoverlabel\":{\"align\":\"left\"},\"hovermode\":\"closest\",\"mapbox\":{\"style\":\"light\"},\"paper_bgcolor\":\"white\",\"plot_bgcolor\":\"#E5ECF6\",\"polar\":{\"angularaxis\":{\"gridcolor\":\"white\",\"linecolor\":\"white\",\"ticks\":\"\"},\"bgcolor\":\"#E5ECF6\",\"radialaxis\":{\"gridcolor\":\"white\",\"linecolor\":\"white\",\"ticks\":\"\"}},\"scene\":{\"xaxis\":{\"backgroundcolor\":\"#E5ECF6\",\"gridcolor\":\"white\",\"gridwidth\":2,\"linecolor\":\"white\",\"showbackground\":true,\"ticks\":\"\",\"zerolinecolor\":\"white\"},\"yaxis\":{\"backgroundcolor\":\"#E5ECF6\",\"gridcolor\":\"white\",\"gridwidth\":2,\"linecolor\":\"white\",\"showbackground\":true,\"ticks\":\"\",\"zerolinecolor\":\"white\"},\"zaxis\":{\"backgroundcolor\":\"#E5ECF6\",\"gridcolor\":\"white\",\"gridwidth\":2,\"linecolor\":\"white\",\"showbackground\":true,\"ticks\":\"\",\"zerolinecolor\":\"white\"}},\"shapedefaults\":{\"line\":{\"color\":\"#2a3f5f\"}},\"ternary\":{\"aaxis\":{\"gridcolor\":\"white\",\"linecolor\":\"white\",\"ticks\":\"\"},\"baxis\":{\"gridcolor\":\"white\",\"linecolor\":\"white\",\"ticks\":\"\"},\"bgcolor\":\"#E5ECF6\",\"caxis\":{\"gridcolor\":\"white\",\"linecolor\":\"white\",\"ticks\":\"\"}},\"title\":{\"x\":0.05},\"xaxis\":{\"automargin\":true,\"gridcolor\":\"white\",\"linecolor\":\"white\",\"ticks\":\"\",\"title\":{\"standoff\":15},\"zerolinecolor\":\"white\",\"zerolinewidth\":2},\"yaxis\":{\"automargin\":true,\"gridcolor\":\"white\",\"linecolor\":\"white\",\"ticks\":\"\",\"title\":{\"standoff\":15},\"zerolinecolor\":\"white\",\"zerolinewidth\":2}}},\"title\":{\"font\":{\"color\":\"#4D5663\"}},\"xaxis\":{\"gridcolor\":\"#E1E5ED\",\"showgrid\":true,\"tickfont\":{\"color\":\"#4D5663\"},\"title\":{\"font\":{\"color\":\"#4D5663\"},\"text\":\"\"},\"zerolinecolor\":\"#E1E5ED\"},\"yaxis\":{\"gridcolor\":\"#E1E5ED\",\"showgrid\":true,\"tickfont\":{\"color\":\"#4D5663\"},\"title\":{\"font\":{\"color\":\"#4D5663\"},\"text\":\"\"},\"zerolinecolor\":\"#E1E5ED\"}},                        {\"showLink\": true, \"linkText\": \"Export to plot.ly\", \"plotlyServerURL\": \"https://plot.ly\", \"responsive\": true}                    ).then(function(){\n",
       "                            \n",
       "var gd = document.getElementById('190082a8-047c-48b2-bbb9-97147011e930');\n",
       "var x = new MutationObserver(function (mutations, observer) {{\n",
       "        var display = window.getComputedStyle(gd).display;\n",
       "        if (!display || display === 'none') {{\n",
       "            console.log([gd, 'removed!']);\n",
       "            Plotly.purge(gd);\n",
       "            observer.disconnect();\n",
       "        }}\n",
       "}});\n",
       "\n",
       "// Listen for the removal of the full notebook cells\n",
       "var notebookContainer = gd.closest('#notebook-container');\n",
       "if (notebookContainer) {{\n",
       "    x.observe(notebookContainer, {childList: true});\n",
       "}}\n",
       "\n",
       "// Listen for the clearing of the current output cell\n",
       "var outputEl = gd.closest('.output');\n",
       "if (outputEl) {{\n",
       "    x.observe(outputEl, {childList: true});\n",
       "}}\n",
       "\n",
       "                        })                };                });            </script>        </div>"
      ]
     },
     "metadata": {},
     "output_type": "display_data"
    }
   ],
   "source": [
    "df.iplot(kind='box')"
   ]
  },
  {
   "cell_type": "markdown",
   "metadata": {},
   "source": [
    "## Superficie 3D"
   ]
  },
  {
   "cell_type": "code",
   "execution_count": 14,
   "metadata": {},
   "outputs": [
    {
     "data": {
      "application/vnd.plotly.v1+json": {
       "config": {
        "linkText": "Export to plot.ly",
        "plotlyServerURL": "https://plot.ly",
        "showLink": true
       },
       "data": [
        {
         "colorscale": [
          [
           0,
           "rgb(165,0,38)"
          ],
          [
           0.1,
           "rgb(215,48,39)"
          ],
          [
           0.2,
           "rgb(244,109,67)"
          ],
          [
           0.3,
           "rgb(253,174,97)"
          ],
          [
           0.4,
           "rgb(254,224,144)"
          ],
          [
           0.5,
           "rgb(255,255,191)"
          ],
          [
           0.6,
           "rgb(224,243,248)"
          ],
          [
           0.7,
           "rgb(171,217,233)"
          ],
          [
           0.8,
           "rgb(116,173,209)"
          ],
          [
           0.9,
           "rgb(69,117,180)"
          ],
          [
           1,
           "rgb(49,54,149)"
          ]
         ],
         "type": "surface",
         "x": [
          0,
          1,
          2,
          3,
          4
         ],
         "y": [
          "x",
          "y",
          "z"
         ],
         "z": [
          [
           1,
           2,
           3,
           4,
           5
          ],
          [
           10,
           20,
           30,
           20,
           10
          ],
          [
           5,
           4,
           3,
           2,
           1
          ]
         ]
        }
       ],
       "layout": {
        "legend": {
         "bgcolor": "#F5F6F9",
         "font": {
          "color": "#4D5663"
         }
        },
        "paper_bgcolor": "#F5F6F9",
        "plot_bgcolor": "#F5F6F9",
        "template": {
         "data": {
          "bar": [
           {
            "error_x": {
             "color": "#2a3f5f"
            },
            "error_y": {
             "color": "#2a3f5f"
            },
            "marker": {
             "line": {
              "color": "#E5ECF6",
              "width": 0.5
             },
             "pattern": {
              "fillmode": "overlay",
              "size": 10,
              "solidity": 0.2
             }
            },
            "type": "bar"
           }
          ],
          "barpolar": [
           {
            "marker": {
             "line": {
              "color": "#E5ECF6",
              "width": 0.5
             },
             "pattern": {
              "fillmode": "overlay",
              "size": 10,
              "solidity": 0.2
             }
            },
            "type": "barpolar"
           }
          ],
          "carpet": [
           {
            "aaxis": {
             "endlinecolor": "#2a3f5f",
             "gridcolor": "white",
             "linecolor": "white",
             "minorgridcolor": "white",
             "startlinecolor": "#2a3f5f"
            },
            "baxis": {
             "endlinecolor": "#2a3f5f",
             "gridcolor": "white",
             "linecolor": "white",
             "minorgridcolor": "white",
             "startlinecolor": "#2a3f5f"
            },
            "type": "carpet"
           }
          ],
          "choropleth": [
           {
            "colorbar": {
             "outlinewidth": 0,
             "ticks": ""
            },
            "type": "choropleth"
           }
          ],
          "contour": [
           {
            "colorbar": {
             "outlinewidth": 0,
             "ticks": ""
            },
            "colorscale": [
             [
              0,
              "#0d0887"
             ],
             [
              0.1111111111111111,
              "#46039f"
             ],
             [
              0.2222222222222222,
              "#7201a8"
             ],
             [
              0.3333333333333333,
              "#9c179e"
             ],
             [
              0.4444444444444444,
              "#bd3786"
             ],
             [
              0.5555555555555556,
              "#d8576b"
             ],
             [
              0.6666666666666666,
              "#ed7953"
             ],
             [
              0.7777777777777778,
              "#fb9f3a"
             ],
             [
              0.8888888888888888,
              "#fdca26"
             ],
             [
              1,
              "#f0f921"
             ]
            ],
            "type": "contour"
           }
          ],
          "contourcarpet": [
           {
            "colorbar": {
             "outlinewidth": 0,
             "ticks": ""
            },
            "type": "contourcarpet"
           }
          ],
          "heatmap": [
           {
            "colorbar": {
             "outlinewidth": 0,
             "ticks": ""
            },
            "colorscale": [
             [
              0,
              "#0d0887"
             ],
             [
              0.1111111111111111,
              "#46039f"
             ],
             [
              0.2222222222222222,
              "#7201a8"
             ],
             [
              0.3333333333333333,
              "#9c179e"
             ],
             [
              0.4444444444444444,
              "#bd3786"
             ],
             [
              0.5555555555555556,
              "#d8576b"
             ],
             [
              0.6666666666666666,
              "#ed7953"
             ],
             [
              0.7777777777777778,
              "#fb9f3a"
             ],
             [
              0.8888888888888888,
              "#fdca26"
             ],
             [
              1,
              "#f0f921"
             ]
            ],
            "type": "heatmap"
           }
          ],
          "heatmapgl": [
           {
            "colorbar": {
             "outlinewidth": 0,
             "ticks": ""
            },
            "colorscale": [
             [
              0,
              "#0d0887"
             ],
             [
              0.1111111111111111,
              "#46039f"
             ],
             [
              0.2222222222222222,
              "#7201a8"
             ],
             [
              0.3333333333333333,
              "#9c179e"
             ],
             [
              0.4444444444444444,
              "#bd3786"
             ],
             [
              0.5555555555555556,
              "#d8576b"
             ],
             [
              0.6666666666666666,
              "#ed7953"
             ],
             [
              0.7777777777777778,
              "#fb9f3a"
             ],
             [
              0.8888888888888888,
              "#fdca26"
             ],
             [
              1,
              "#f0f921"
             ]
            ],
            "type": "heatmapgl"
           }
          ],
          "histogram": [
           {
            "marker": {
             "pattern": {
              "fillmode": "overlay",
              "size": 10,
              "solidity": 0.2
             }
            },
            "type": "histogram"
           }
          ],
          "histogram2d": [
           {
            "colorbar": {
             "outlinewidth": 0,
             "ticks": ""
            },
            "colorscale": [
             [
              0,
              "#0d0887"
             ],
             [
              0.1111111111111111,
              "#46039f"
             ],
             [
              0.2222222222222222,
              "#7201a8"
             ],
             [
              0.3333333333333333,
              "#9c179e"
             ],
             [
              0.4444444444444444,
              "#bd3786"
             ],
             [
              0.5555555555555556,
              "#d8576b"
             ],
             [
              0.6666666666666666,
              "#ed7953"
             ],
             [
              0.7777777777777778,
              "#fb9f3a"
             ],
             [
              0.8888888888888888,
              "#fdca26"
             ],
             [
              1,
              "#f0f921"
             ]
            ],
            "type": "histogram2d"
           }
          ],
          "histogram2dcontour": [
           {
            "colorbar": {
             "outlinewidth": 0,
             "ticks": ""
            },
            "colorscale": [
             [
              0,
              "#0d0887"
             ],
             [
              0.1111111111111111,
              "#46039f"
             ],
             [
              0.2222222222222222,
              "#7201a8"
             ],
             [
              0.3333333333333333,
              "#9c179e"
             ],
             [
              0.4444444444444444,
              "#bd3786"
             ],
             [
              0.5555555555555556,
              "#d8576b"
             ],
             [
              0.6666666666666666,
              "#ed7953"
             ],
             [
              0.7777777777777778,
              "#fb9f3a"
             ],
             [
              0.8888888888888888,
              "#fdca26"
             ],
             [
              1,
              "#f0f921"
             ]
            ],
            "type": "histogram2dcontour"
           }
          ],
          "mesh3d": [
           {
            "colorbar": {
             "outlinewidth": 0,
             "ticks": ""
            },
            "type": "mesh3d"
           }
          ],
          "parcoords": [
           {
            "line": {
             "colorbar": {
              "outlinewidth": 0,
              "ticks": ""
             }
            },
            "type": "parcoords"
           }
          ],
          "pie": [
           {
            "automargin": true,
            "type": "pie"
           }
          ],
          "scatter": [
           {
            "fillpattern": {
             "fillmode": "overlay",
             "size": 10,
             "solidity": 0.2
            },
            "type": "scatter"
           }
          ],
          "scatter3d": [
           {
            "line": {
             "colorbar": {
              "outlinewidth": 0,
              "ticks": ""
             }
            },
            "marker": {
             "colorbar": {
              "outlinewidth": 0,
              "ticks": ""
             }
            },
            "type": "scatter3d"
           }
          ],
          "scattercarpet": [
           {
            "marker": {
             "colorbar": {
              "outlinewidth": 0,
              "ticks": ""
             }
            },
            "type": "scattercarpet"
           }
          ],
          "scattergeo": [
           {
            "marker": {
             "colorbar": {
              "outlinewidth": 0,
              "ticks": ""
             }
            },
            "type": "scattergeo"
           }
          ],
          "scattergl": [
           {
            "marker": {
             "colorbar": {
              "outlinewidth": 0,
              "ticks": ""
             }
            },
            "type": "scattergl"
           }
          ],
          "scattermapbox": [
           {
            "marker": {
             "colorbar": {
              "outlinewidth": 0,
              "ticks": ""
             }
            },
            "type": "scattermapbox"
           }
          ],
          "scatterpolar": [
           {
            "marker": {
             "colorbar": {
              "outlinewidth": 0,
              "ticks": ""
             }
            },
            "type": "scatterpolar"
           }
          ],
          "scatterpolargl": [
           {
            "marker": {
             "colorbar": {
              "outlinewidth": 0,
              "ticks": ""
             }
            },
            "type": "scatterpolargl"
           }
          ],
          "scatterternary": [
           {
            "marker": {
             "colorbar": {
              "outlinewidth": 0,
              "ticks": ""
             }
            },
            "type": "scatterternary"
           }
          ],
          "surface": [
           {
            "colorbar": {
             "outlinewidth": 0,
             "ticks": ""
            },
            "colorscale": [
             [
              0,
              "#0d0887"
             ],
             [
              0.1111111111111111,
              "#46039f"
             ],
             [
              0.2222222222222222,
              "#7201a8"
             ],
             [
              0.3333333333333333,
              "#9c179e"
             ],
             [
              0.4444444444444444,
              "#bd3786"
             ],
             [
              0.5555555555555556,
              "#d8576b"
             ],
             [
              0.6666666666666666,
              "#ed7953"
             ],
             [
              0.7777777777777778,
              "#fb9f3a"
             ],
             [
              0.8888888888888888,
              "#fdca26"
             ],
             [
              1,
              "#f0f921"
             ]
            ],
            "type": "surface"
           }
          ],
          "table": [
           {
            "cells": {
             "fill": {
              "color": "#EBF0F8"
             },
             "line": {
              "color": "white"
             }
            },
            "header": {
             "fill": {
              "color": "#C8D4E3"
             },
             "line": {
              "color": "white"
             }
            },
            "type": "table"
           }
          ]
         },
         "layout": {
          "annotationdefaults": {
           "arrowcolor": "#2a3f5f",
           "arrowhead": 0,
           "arrowwidth": 1
          },
          "autotypenumbers": "strict",
          "coloraxis": {
           "colorbar": {
            "outlinewidth": 0,
            "ticks": ""
           }
          },
          "colorscale": {
           "diverging": [
            [
             0,
             "#8e0152"
            ],
            [
             0.1,
             "#c51b7d"
            ],
            [
             0.2,
             "#de77ae"
            ],
            [
             0.3,
             "#f1b6da"
            ],
            [
             0.4,
             "#fde0ef"
            ],
            [
             0.5,
             "#f7f7f7"
            ],
            [
             0.6,
             "#e6f5d0"
            ],
            [
             0.7,
             "#b8e186"
            ],
            [
             0.8,
             "#7fbc41"
            ],
            [
             0.9,
             "#4d9221"
            ],
            [
             1,
             "#276419"
            ]
           ],
           "sequential": [
            [
             0,
             "#0d0887"
            ],
            [
             0.1111111111111111,
             "#46039f"
            ],
            [
             0.2222222222222222,
             "#7201a8"
            ],
            [
             0.3333333333333333,
             "#9c179e"
            ],
            [
             0.4444444444444444,
             "#bd3786"
            ],
            [
             0.5555555555555556,
             "#d8576b"
            ],
            [
             0.6666666666666666,
             "#ed7953"
            ],
            [
             0.7777777777777778,
             "#fb9f3a"
            ],
            [
             0.8888888888888888,
             "#fdca26"
            ],
            [
             1,
             "#f0f921"
            ]
           ],
           "sequentialminus": [
            [
             0,
             "#0d0887"
            ],
            [
             0.1111111111111111,
             "#46039f"
            ],
            [
             0.2222222222222222,
             "#7201a8"
            ],
            [
             0.3333333333333333,
             "#9c179e"
            ],
            [
             0.4444444444444444,
             "#bd3786"
            ],
            [
             0.5555555555555556,
             "#d8576b"
            ],
            [
             0.6666666666666666,
             "#ed7953"
            ],
            [
             0.7777777777777778,
             "#fb9f3a"
            ],
            [
             0.8888888888888888,
             "#fdca26"
            ],
            [
             1,
             "#f0f921"
            ]
           ]
          },
          "colorway": [
           "#636efa",
           "#EF553B",
           "#00cc96",
           "#ab63fa",
           "#FFA15A",
           "#19d3f3",
           "#FF6692",
           "#B6E880",
           "#FF97FF",
           "#FECB52"
          ],
          "font": {
           "color": "#2a3f5f"
          },
          "geo": {
           "bgcolor": "white",
           "lakecolor": "white",
           "landcolor": "#E5ECF6",
           "showlakes": true,
           "showland": true,
           "subunitcolor": "white"
          },
          "hoverlabel": {
           "align": "left"
          },
          "hovermode": "closest",
          "mapbox": {
           "style": "light"
          },
          "paper_bgcolor": "white",
          "plot_bgcolor": "#E5ECF6",
          "polar": {
           "angularaxis": {
            "gridcolor": "white",
            "linecolor": "white",
            "ticks": ""
           },
           "bgcolor": "#E5ECF6",
           "radialaxis": {
            "gridcolor": "white",
            "linecolor": "white",
            "ticks": ""
           }
          },
          "scene": {
           "xaxis": {
            "backgroundcolor": "#E5ECF6",
            "gridcolor": "white",
            "gridwidth": 2,
            "linecolor": "white",
            "showbackground": true,
            "ticks": "",
            "zerolinecolor": "white"
           },
           "yaxis": {
            "backgroundcolor": "#E5ECF6",
            "gridcolor": "white",
            "gridwidth": 2,
            "linecolor": "white",
            "showbackground": true,
            "ticks": "",
            "zerolinecolor": "white"
           },
           "zaxis": {
            "backgroundcolor": "#E5ECF6",
            "gridcolor": "white",
            "gridwidth": 2,
            "linecolor": "white",
            "showbackground": true,
            "ticks": "",
            "zerolinecolor": "white"
           }
          },
          "shapedefaults": {
           "line": {
            "color": "#2a3f5f"
           }
          },
          "ternary": {
           "aaxis": {
            "gridcolor": "white",
            "linecolor": "white",
            "ticks": ""
           },
           "baxis": {
            "gridcolor": "white",
            "linecolor": "white",
            "ticks": ""
           },
           "bgcolor": "#E5ECF6",
           "caxis": {
            "gridcolor": "white",
            "linecolor": "white",
            "ticks": ""
           }
          },
          "title": {
           "x": 0.05
          },
          "xaxis": {
           "automargin": true,
           "gridcolor": "white",
           "linecolor": "white",
           "ticks": "",
           "title": {
            "standoff": 15
           },
           "zerolinecolor": "white",
           "zerolinewidth": 2
          },
          "yaxis": {
           "automargin": true,
           "gridcolor": "white",
           "linecolor": "white",
           "ticks": "",
           "title": {
            "standoff": 15
           },
           "zerolinecolor": "white",
           "zerolinewidth": 2
          }
         }
        },
        "title": {
         "font": {
          "color": "#4D5663"
         }
        },
        "xaxis": {
         "gridcolor": "#E1E5ED",
         "showgrid": true,
         "tickfont": {
          "color": "#4D5663"
         },
         "title": {
          "font": {
           "color": "#4D5663"
          },
          "text": ""
         },
         "zerolinecolor": "#E1E5ED"
        },
        "yaxis": {
         "gridcolor": "#E1E5ED",
         "showgrid": true,
         "tickfont": {
          "color": "#4D5663"
         },
         "title": {
          "font": {
           "color": "#4D5663"
          },
          "text": ""
         },
         "zerolinecolor": "#E1E5ED"
        }
       }
      },
      "text/html": [
       "<div>                            <div id=\"60f642fb-7673-4bdd-b756-a2e3ff497e6f\" class=\"plotly-graph-div\" style=\"height:525px; width:100%;\"></div>            <script type=\"text/javascript\">                require([\"plotly\"], function(Plotly) {                    window.PLOTLYENV=window.PLOTLYENV || {};\n",
       "                    window.PLOTLYENV.BASE_URL='https://plot.ly';                                    if (document.getElementById(\"60f642fb-7673-4bdd-b756-a2e3ff497e6f\")) {                    Plotly.newPlot(                        \"60f642fb-7673-4bdd-b756-a2e3ff497e6f\",                        [{\"colorscale\":[[0.0,\"rgb(165,0,38)\"],[0.1,\"rgb(215,48,39)\"],[0.2,\"rgb(244,109,67)\"],[0.3,\"rgb(253,174,97)\"],[0.4,\"rgb(254,224,144)\"],[0.5,\"rgb(255,255,191)\"],[0.6,\"rgb(224,243,248)\"],[0.7,\"rgb(171,217,233)\"],[0.8,\"rgb(116,173,209)\"],[0.9,\"rgb(69,117,180)\"],[1.0,\"rgb(49,54,149)\"]],\"x\":[0,1,2,3,4],\"y\":[\"x\",\"y\",\"z\"],\"z\":[[1,2,3,4,5],[10,20,30,20,10],[5,4,3,2,1]],\"type\":\"surface\"}],                        {\"legend\":{\"bgcolor\":\"#F5F6F9\",\"font\":{\"color\":\"#4D5663\"}},\"paper_bgcolor\":\"#F5F6F9\",\"plot_bgcolor\":\"#F5F6F9\",\"template\":{\"data\":{\"barpolar\":[{\"marker\":{\"line\":{\"color\":\"#E5ECF6\",\"width\":0.5},\"pattern\":{\"fillmode\":\"overlay\",\"size\":10,\"solidity\":0.2}},\"type\":\"barpolar\"}],\"bar\":[{\"error_x\":{\"color\":\"#2a3f5f\"},\"error_y\":{\"color\":\"#2a3f5f\"},\"marker\":{\"line\":{\"color\":\"#E5ECF6\",\"width\":0.5},\"pattern\":{\"fillmode\":\"overlay\",\"size\":10,\"solidity\":0.2}},\"type\":\"bar\"}],\"carpet\":[{\"aaxis\":{\"endlinecolor\":\"#2a3f5f\",\"gridcolor\":\"white\",\"linecolor\":\"white\",\"minorgridcolor\":\"white\",\"startlinecolor\":\"#2a3f5f\"},\"baxis\":{\"endlinecolor\":\"#2a3f5f\",\"gridcolor\":\"white\",\"linecolor\":\"white\",\"minorgridcolor\":\"white\",\"startlinecolor\":\"#2a3f5f\"},\"type\":\"carpet\"}],\"choropleth\":[{\"colorbar\":{\"outlinewidth\":0,\"ticks\":\"\"},\"type\":\"choropleth\"}],\"contourcarpet\":[{\"colorbar\":{\"outlinewidth\":0,\"ticks\":\"\"},\"type\":\"contourcarpet\"}],\"contour\":[{\"colorbar\":{\"outlinewidth\":0,\"ticks\":\"\"},\"colorscale\":[[0.0,\"#0d0887\"],[0.1111111111111111,\"#46039f\"],[0.2222222222222222,\"#7201a8\"],[0.3333333333333333,\"#9c179e\"],[0.4444444444444444,\"#bd3786\"],[0.5555555555555556,\"#d8576b\"],[0.6666666666666666,\"#ed7953\"],[0.7777777777777778,\"#fb9f3a\"],[0.8888888888888888,\"#fdca26\"],[1.0,\"#f0f921\"]],\"type\":\"contour\"}],\"heatmapgl\":[{\"colorbar\":{\"outlinewidth\":0,\"ticks\":\"\"},\"colorscale\":[[0.0,\"#0d0887\"],[0.1111111111111111,\"#46039f\"],[0.2222222222222222,\"#7201a8\"],[0.3333333333333333,\"#9c179e\"],[0.4444444444444444,\"#bd3786\"],[0.5555555555555556,\"#d8576b\"],[0.6666666666666666,\"#ed7953\"],[0.7777777777777778,\"#fb9f3a\"],[0.8888888888888888,\"#fdca26\"],[1.0,\"#f0f921\"]],\"type\":\"heatmapgl\"}],\"heatmap\":[{\"colorbar\":{\"outlinewidth\":0,\"ticks\":\"\"},\"colorscale\":[[0.0,\"#0d0887\"],[0.1111111111111111,\"#46039f\"],[0.2222222222222222,\"#7201a8\"],[0.3333333333333333,\"#9c179e\"],[0.4444444444444444,\"#bd3786\"],[0.5555555555555556,\"#d8576b\"],[0.6666666666666666,\"#ed7953\"],[0.7777777777777778,\"#fb9f3a\"],[0.8888888888888888,\"#fdca26\"],[1.0,\"#f0f921\"]],\"type\":\"heatmap\"}],\"histogram2dcontour\":[{\"colorbar\":{\"outlinewidth\":0,\"ticks\":\"\"},\"colorscale\":[[0.0,\"#0d0887\"],[0.1111111111111111,\"#46039f\"],[0.2222222222222222,\"#7201a8\"],[0.3333333333333333,\"#9c179e\"],[0.4444444444444444,\"#bd3786\"],[0.5555555555555556,\"#d8576b\"],[0.6666666666666666,\"#ed7953\"],[0.7777777777777778,\"#fb9f3a\"],[0.8888888888888888,\"#fdca26\"],[1.0,\"#f0f921\"]],\"type\":\"histogram2dcontour\"}],\"histogram2d\":[{\"colorbar\":{\"outlinewidth\":0,\"ticks\":\"\"},\"colorscale\":[[0.0,\"#0d0887\"],[0.1111111111111111,\"#46039f\"],[0.2222222222222222,\"#7201a8\"],[0.3333333333333333,\"#9c179e\"],[0.4444444444444444,\"#bd3786\"],[0.5555555555555556,\"#d8576b\"],[0.6666666666666666,\"#ed7953\"],[0.7777777777777778,\"#fb9f3a\"],[0.8888888888888888,\"#fdca26\"],[1.0,\"#f0f921\"]],\"type\":\"histogram2d\"}],\"histogram\":[{\"marker\":{\"pattern\":{\"fillmode\":\"overlay\",\"size\":10,\"solidity\":0.2}},\"type\":\"histogram\"}],\"mesh3d\":[{\"colorbar\":{\"outlinewidth\":0,\"ticks\":\"\"},\"type\":\"mesh3d\"}],\"parcoords\":[{\"line\":{\"colorbar\":{\"outlinewidth\":0,\"ticks\":\"\"}},\"type\":\"parcoords\"}],\"pie\":[{\"automargin\":true,\"type\":\"pie\"}],\"scatter3d\":[{\"line\":{\"colorbar\":{\"outlinewidth\":0,\"ticks\":\"\"}},\"marker\":{\"colorbar\":{\"outlinewidth\":0,\"ticks\":\"\"}},\"type\":\"scatter3d\"}],\"scattercarpet\":[{\"marker\":{\"colorbar\":{\"outlinewidth\":0,\"ticks\":\"\"}},\"type\":\"scattercarpet\"}],\"scattergeo\":[{\"marker\":{\"colorbar\":{\"outlinewidth\":0,\"ticks\":\"\"}},\"type\":\"scattergeo\"}],\"scattergl\":[{\"marker\":{\"colorbar\":{\"outlinewidth\":0,\"ticks\":\"\"}},\"type\":\"scattergl\"}],\"scattermapbox\":[{\"marker\":{\"colorbar\":{\"outlinewidth\":0,\"ticks\":\"\"}},\"type\":\"scattermapbox\"}],\"scatterpolargl\":[{\"marker\":{\"colorbar\":{\"outlinewidth\":0,\"ticks\":\"\"}},\"type\":\"scatterpolargl\"}],\"scatterpolar\":[{\"marker\":{\"colorbar\":{\"outlinewidth\":0,\"ticks\":\"\"}},\"type\":\"scatterpolar\"}],\"scatter\":[{\"fillpattern\":{\"fillmode\":\"overlay\",\"size\":10,\"solidity\":0.2},\"type\":\"scatter\"}],\"scatterternary\":[{\"marker\":{\"colorbar\":{\"outlinewidth\":0,\"ticks\":\"\"}},\"type\":\"scatterternary\"}],\"surface\":[{\"colorbar\":{\"outlinewidth\":0,\"ticks\":\"\"},\"colorscale\":[[0.0,\"#0d0887\"],[0.1111111111111111,\"#46039f\"],[0.2222222222222222,\"#7201a8\"],[0.3333333333333333,\"#9c179e\"],[0.4444444444444444,\"#bd3786\"],[0.5555555555555556,\"#d8576b\"],[0.6666666666666666,\"#ed7953\"],[0.7777777777777778,\"#fb9f3a\"],[0.8888888888888888,\"#fdca26\"],[1.0,\"#f0f921\"]],\"type\":\"surface\"}],\"table\":[{\"cells\":{\"fill\":{\"color\":\"#EBF0F8\"},\"line\":{\"color\":\"white\"}},\"header\":{\"fill\":{\"color\":\"#C8D4E3\"},\"line\":{\"color\":\"white\"}},\"type\":\"table\"}]},\"layout\":{\"annotationdefaults\":{\"arrowcolor\":\"#2a3f5f\",\"arrowhead\":0,\"arrowwidth\":1},\"autotypenumbers\":\"strict\",\"coloraxis\":{\"colorbar\":{\"outlinewidth\":0,\"ticks\":\"\"}},\"colorscale\":{\"diverging\":[[0,\"#8e0152\"],[0.1,\"#c51b7d\"],[0.2,\"#de77ae\"],[0.3,\"#f1b6da\"],[0.4,\"#fde0ef\"],[0.5,\"#f7f7f7\"],[0.6,\"#e6f5d0\"],[0.7,\"#b8e186\"],[0.8,\"#7fbc41\"],[0.9,\"#4d9221\"],[1,\"#276419\"]],\"sequential\":[[0.0,\"#0d0887\"],[0.1111111111111111,\"#46039f\"],[0.2222222222222222,\"#7201a8\"],[0.3333333333333333,\"#9c179e\"],[0.4444444444444444,\"#bd3786\"],[0.5555555555555556,\"#d8576b\"],[0.6666666666666666,\"#ed7953\"],[0.7777777777777778,\"#fb9f3a\"],[0.8888888888888888,\"#fdca26\"],[1.0,\"#f0f921\"]],\"sequentialminus\":[[0.0,\"#0d0887\"],[0.1111111111111111,\"#46039f\"],[0.2222222222222222,\"#7201a8\"],[0.3333333333333333,\"#9c179e\"],[0.4444444444444444,\"#bd3786\"],[0.5555555555555556,\"#d8576b\"],[0.6666666666666666,\"#ed7953\"],[0.7777777777777778,\"#fb9f3a\"],[0.8888888888888888,\"#fdca26\"],[1.0,\"#f0f921\"]]},\"colorway\":[\"#636efa\",\"#EF553B\",\"#00cc96\",\"#ab63fa\",\"#FFA15A\",\"#19d3f3\",\"#FF6692\",\"#B6E880\",\"#FF97FF\",\"#FECB52\"],\"font\":{\"color\":\"#2a3f5f\"},\"geo\":{\"bgcolor\":\"white\",\"lakecolor\":\"white\",\"landcolor\":\"#E5ECF6\",\"showlakes\":true,\"showland\":true,\"subunitcolor\":\"white\"},\"hoverlabel\":{\"align\":\"left\"},\"hovermode\":\"closest\",\"mapbox\":{\"style\":\"light\"},\"paper_bgcolor\":\"white\",\"plot_bgcolor\":\"#E5ECF6\",\"polar\":{\"angularaxis\":{\"gridcolor\":\"white\",\"linecolor\":\"white\",\"ticks\":\"\"},\"bgcolor\":\"#E5ECF6\",\"radialaxis\":{\"gridcolor\":\"white\",\"linecolor\":\"white\",\"ticks\":\"\"}},\"scene\":{\"xaxis\":{\"backgroundcolor\":\"#E5ECF6\",\"gridcolor\":\"white\",\"gridwidth\":2,\"linecolor\":\"white\",\"showbackground\":true,\"ticks\":\"\",\"zerolinecolor\":\"white\"},\"yaxis\":{\"backgroundcolor\":\"#E5ECF6\",\"gridcolor\":\"white\",\"gridwidth\":2,\"linecolor\":\"white\",\"showbackground\":true,\"ticks\":\"\",\"zerolinecolor\":\"white\"},\"zaxis\":{\"backgroundcolor\":\"#E5ECF6\",\"gridcolor\":\"white\",\"gridwidth\":2,\"linecolor\":\"white\",\"showbackground\":true,\"ticks\":\"\",\"zerolinecolor\":\"white\"}},\"shapedefaults\":{\"line\":{\"color\":\"#2a3f5f\"}},\"ternary\":{\"aaxis\":{\"gridcolor\":\"white\",\"linecolor\":\"white\",\"ticks\":\"\"},\"baxis\":{\"gridcolor\":\"white\",\"linecolor\":\"white\",\"ticks\":\"\"},\"bgcolor\":\"#E5ECF6\",\"caxis\":{\"gridcolor\":\"white\",\"linecolor\":\"white\",\"ticks\":\"\"}},\"title\":{\"x\":0.05},\"xaxis\":{\"automargin\":true,\"gridcolor\":\"white\",\"linecolor\":\"white\",\"ticks\":\"\",\"title\":{\"standoff\":15},\"zerolinecolor\":\"white\",\"zerolinewidth\":2},\"yaxis\":{\"automargin\":true,\"gridcolor\":\"white\",\"linecolor\":\"white\",\"ticks\":\"\",\"title\":{\"standoff\":15},\"zerolinecolor\":\"white\",\"zerolinewidth\":2}}},\"title\":{\"font\":{\"color\":\"#4D5663\"}},\"xaxis\":{\"gridcolor\":\"#E1E5ED\",\"showgrid\":true,\"tickfont\":{\"color\":\"#4D5663\"},\"title\":{\"font\":{\"color\":\"#4D5663\"},\"text\":\"\"},\"zerolinecolor\":\"#E1E5ED\"},\"yaxis\":{\"gridcolor\":\"#E1E5ED\",\"showgrid\":true,\"tickfont\":{\"color\":\"#4D5663\"},\"title\":{\"font\":{\"color\":\"#4D5663\"},\"text\":\"\"},\"zerolinecolor\":\"#E1E5ED\"}},                        {\"showLink\": true, \"linkText\": \"Export to plot.ly\", \"plotlyServerURL\": \"https://plot.ly\", \"responsive\": true}                    ).then(function(){\n",
       "                            \n",
       "var gd = document.getElementById('60f642fb-7673-4bdd-b756-a2e3ff497e6f');\n",
       "var x = new MutationObserver(function (mutations, observer) {{\n",
       "        var display = window.getComputedStyle(gd).display;\n",
       "        if (!display || display === 'none') {{\n",
       "            console.log([gd, 'removed!']);\n",
       "            Plotly.purge(gd);\n",
       "            observer.disconnect();\n",
       "        }}\n",
       "}});\n",
       "\n",
       "// Listen for the removal of the full notebook cells\n",
       "var notebookContainer = gd.closest('#notebook-container');\n",
       "if (notebookContainer) {{\n",
       "    x.observe(notebookContainer, {childList: true});\n",
       "}}\n",
       "\n",
       "// Listen for the clearing of the current output cell\n",
       "var outputEl = gd.closest('.output');\n",
       "if (outputEl) {{\n",
       "    x.observe(outputEl, {childList: true});\n",
       "}}\n",
       "\n",
       "                        })                };                });            </script>        </div>"
      ]
     },
     "metadata": {},
     "output_type": "display_data"
    }
   ],
   "source": [
    "df3 = pd.DataFrame({'x':[1,2,3,4,5],'y':[10,20,30,20,10],'z':[5,4,3,2,1]})\n",
    "df3.iplot(kind='surface',colorscale='rdylbu')"
   ]
  },
  {
   "cell_type": "markdown",
   "metadata": {},
   "source": [
    "## histogram"
   ]
  },
  {
   "cell_type": "code",
   "execution_count": 15,
   "metadata": {},
   "outputs": [
    {
     "data": {
      "application/vnd.plotly.v1+json": {
       "config": {
        "linkText": "Export to plot.ly",
        "plotlyServerURL": "https://plot.ly",
        "showLink": true
       },
       "data": [
        {
         "histfunc": "count",
         "histnorm": "",
         "marker": {
          "color": "rgba(255, 153, 51, 1.0)",
          "line": {
           "color": "#4D5663",
           "width": 1.3
          }
         },
         "name": "A",
         "nbinsx": 25,
         "opacity": 0.8,
         "orientation": "v",
         "type": "histogram",
         "x": [
          -1.6201976890972134,
          1.179015368276081,
          -1.6214936519133512,
          0.03047124553832825,
          -0.2526286104197828,
          -0.9379499246694599,
          0.8269671650355134,
          0.38325540578942224,
          -1.3369240350745981,
          -0.1571043386951906,
          -0.47374238434467664,
          0.023099309943598014,
          0.733279230152324,
          0.4327892353101228,
          0.7866427226972601,
          0.8193153509882917,
          -0.6573163617758523,
          1.1080405429061686,
          -1.6288423934815082,
          0.19327248550973222,
          0.4670318890218097,
          0.24344411424644669,
          -1.3311134389816102,
          1.1620551223577433,
          1.2912876489780356,
          0.18104564980079738,
          -0.920957826249496,
          0.8153373278150663,
          0.4141237490605079,
          -1.2233923269366347,
          1.1809931936702687,
          -0.7472502325260357,
          0.7316732664119959,
          -0.24907740141754095,
          -1.856039241555898,
          0.48557905752155645,
          0.942283881961478,
          0.3578556108847455,
          -1.8677443406725636,
          1.0023813900186556,
          -0.2507150736742075,
          -0.9952209282809444,
          0.3996845671425887,
          -0.9446255241307885,
          -0.04225580624092134,
          -0.3506283854717632,
          1.413574037050735,
          -1.0317515856596224,
          1.480630113279642,
          0.39947797467673907,
          -0.6931505541669951,
          0.5821102631893128,
          0.4962188462986672,
          -0.2581590569711388,
          0.8973741639491336,
          -0.10080319290798798,
          -0.15464812870423214,
          0.8678202284599688,
          1.4082624375863562,
          -1.9604410319949725,
          1.5980717080218183,
          1.2573680424497145,
          0.8735081041173356,
          -1.0539724794624896,
          0.14895184661081642,
          1.0605146334574904,
          1.2608514085352878,
          0.240971785315486,
          0.2748063637274384,
          0.3539595539621846,
          1.2342208918053148,
          0.7223660874952281,
          -0.8641043702663473,
          -1.722594215592153,
          0.5522634434427093,
          -0.49545212848549014,
          -0.4298662616575933,
          0.8912737176769494,
          0.7827711272796617,
          1.2401269084078836,
          0.708741330504012,
          -0.7042768008570168,
          2.0624212994254996,
          -0.8775630823875434,
          -0.5172012578681376,
          0.08542921152016249,
          -0.9155834771940242,
          0.009828356120732294,
          -2.0744709535958066,
          0.22643759282650308,
          -0.5150997924470277,
          1.1698742620669689,
          1.666037436029818,
          0.2548941811062244,
          -0.11358095313937175,
          1.8217550714168769,
          -1.1735435230757323,
          -0.7592093728741733,
          -0.2988109427460776,
          0.9961206466322576
         ]
        }
       ],
       "layout": {
        "barmode": "overlay",
        "legend": {
         "bgcolor": "#F5F6F9",
         "font": {
          "color": "#4D5663"
         }
        },
        "paper_bgcolor": "#F5F6F9",
        "plot_bgcolor": "#F5F6F9",
        "template": {
         "data": {
          "bar": [
           {
            "error_x": {
             "color": "#2a3f5f"
            },
            "error_y": {
             "color": "#2a3f5f"
            },
            "marker": {
             "line": {
              "color": "#E5ECF6",
              "width": 0.5
             },
             "pattern": {
              "fillmode": "overlay",
              "size": 10,
              "solidity": 0.2
             }
            },
            "type": "bar"
           }
          ],
          "barpolar": [
           {
            "marker": {
             "line": {
              "color": "#E5ECF6",
              "width": 0.5
             },
             "pattern": {
              "fillmode": "overlay",
              "size": 10,
              "solidity": 0.2
             }
            },
            "type": "barpolar"
           }
          ],
          "carpet": [
           {
            "aaxis": {
             "endlinecolor": "#2a3f5f",
             "gridcolor": "white",
             "linecolor": "white",
             "minorgridcolor": "white",
             "startlinecolor": "#2a3f5f"
            },
            "baxis": {
             "endlinecolor": "#2a3f5f",
             "gridcolor": "white",
             "linecolor": "white",
             "minorgridcolor": "white",
             "startlinecolor": "#2a3f5f"
            },
            "type": "carpet"
           }
          ],
          "choropleth": [
           {
            "colorbar": {
             "outlinewidth": 0,
             "ticks": ""
            },
            "type": "choropleth"
           }
          ],
          "contour": [
           {
            "colorbar": {
             "outlinewidth": 0,
             "ticks": ""
            },
            "colorscale": [
             [
              0,
              "#0d0887"
             ],
             [
              0.1111111111111111,
              "#46039f"
             ],
             [
              0.2222222222222222,
              "#7201a8"
             ],
             [
              0.3333333333333333,
              "#9c179e"
             ],
             [
              0.4444444444444444,
              "#bd3786"
             ],
             [
              0.5555555555555556,
              "#d8576b"
             ],
             [
              0.6666666666666666,
              "#ed7953"
             ],
             [
              0.7777777777777778,
              "#fb9f3a"
             ],
             [
              0.8888888888888888,
              "#fdca26"
             ],
             [
              1,
              "#f0f921"
             ]
            ],
            "type": "contour"
           }
          ],
          "contourcarpet": [
           {
            "colorbar": {
             "outlinewidth": 0,
             "ticks": ""
            },
            "type": "contourcarpet"
           }
          ],
          "heatmap": [
           {
            "colorbar": {
             "outlinewidth": 0,
             "ticks": ""
            },
            "colorscale": [
             [
              0,
              "#0d0887"
             ],
             [
              0.1111111111111111,
              "#46039f"
             ],
             [
              0.2222222222222222,
              "#7201a8"
             ],
             [
              0.3333333333333333,
              "#9c179e"
             ],
             [
              0.4444444444444444,
              "#bd3786"
             ],
             [
              0.5555555555555556,
              "#d8576b"
             ],
             [
              0.6666666666666666,
              "#ed7953"
             ],
             [
              0.7777777777777778,
              "#fb9f3a"
             ],
             [
              0.8888888888888888,
              "#fdca26"
             ],
             [
              1,
              "#f0f921"
             ]
            ],
            "type": "heatmap"
           }
          ],
          "heatmapgl": [
           {
            "colorbar": {
             "outlinewidth": 0,
             "ticks": ""
            },
            "colorscale": [
             [
              0,
              "#0d0887"
             ],
             [
              0.1111111111111111,
              "#46039f"
             ],
             [
              0.2222222222222222,
              "#7201a8"
             ],
             [
              0.3333333333333333,
              "#9c179e"
             ],
             [
              0.4444444444444444,
              "#bd3786"
             ],
             [
              0.5555555555555556,
              "#d8576b"
             ],
             [
              0.6666666666666666,
              "#ed7953"
             ],
             [
              0.7777777777777778,
              "#fb9f3a"
             ],
             [
              0.8888888888888888,
              "#fdca26"
             ],
             [
              1,
              "#f0f921"
             ]
            ],
            "type": "heatmapgl"
           }
          ],
          "histogram": [
           {
            "marker": {
             "pattern": {
              "fillmode": "overlay",
              "size": 10,
              "solidity": 0.2
             }
            },
            "type": "histogram"
           }
          ],
          "histogram2d": [
           {
            "colorbar": {
             "outlinewidth": 0,
             "ticks": ""
            },
            "colorscale": [
             [
              0,
              "#0d0887"
             ],
             [
              0.1111111111111111,
              "#46039f"
             ],
             [
              0.2222222222222222,
              "#7201a8"
             ],
             [
              0.3333333333333333,
              "#9c179e"
             ],
             [
              0.4444444444444444,
              "#bd3786"
             ],
             [
              0.5555555555555556,
              "#d8576b"
             ],
             [
              0.6666666666666666,
              "#ed7953"
             ],
             [
              0.7777777777777778,
              "#fb9f3a"
             ],
             [
              0.8888888888888888,
              "#fdca26"
             ],
             [
              1,
              "#f0f921"
             ]
            ],
            "type": "histogram2d"
           }
          ],
          "histogram2dcontour": [
           {
            "colorbar": {
             "outlinewidth": 0,
             "ticks": ""
            },
            "colorscale": [
             [
              0,
              "#0d0887"
             ],
             [
              0.1111111111111111,
              "#46039f"
             ],
             [
              0.2222222222222222,
              "#7201a8"
             ],
             [
              0.3333333333333333,
              "#9c179e"
             ],
             [
              0.4444444444444444,
              "#bd3786"
             ],
             [
              0.5555555555555556,
              "#d8576b"
             ],
             [
              0.6666666666666666,
              "#ed7953"
             ],
             [
              0.7777777777777778,
              "#fb9f3a"
             ],
             [
              0.8888888888888888,
              "#fdca26"
             ],
             [
              1,
              "#f0f921"
             ]
            ],
            "type": "histogram2dcontour"
           }
          ],
          "mesh3d": [
           {
            "colorbar": {
             "outlinewidth": 0,
             "ticks": ""
            },
            "type": "mesh3d"
           }
          ],
          "parcoords": [
           {
            "line": {
             "colorbar": {
              "outlinewidth": 0,
              "ticks": ""
             }
            },
            "type": "parcoords"
           }
          ],
          "pie": [
           {
            "automargin": true,
            "type": "pie"
           }
          ],
          "scatter": [
           {
            "fillpattern": {
             "fillmode": "overlay",
             "size": 10,
             "solidity": 0.2
            },
            "type": "scatter"
           }
          ],
          "scatter3d": [
           {
            "line": {
             "colorbar": {
              "outlinewidth": 0,
              "ticks": ""
             }
            },
            "marker": {
             "colorbar": {
              "outlinewidth": 0,
              "ticks": ""
             }
            },
            "type": "scatter3d"
           }
          ],
          "scattercarpet": [
           {
            "marker": {
             "colorbar": {
              "outlinewidth": 0,
              "ticks": ""
             }
            },
            "type": "scattercarpet"
           }
          ],
          "scattergeo": [
           {
            "marker": {
             "colorbar": {
              "outlinewidth": 0,
              "ticks": ""
             }
            },
            "type": "scattergeo"
           }
          ],
          "scattergl": [
           {
            "marker": {
             "colorbar": {
              "outlinewidth": 0,
              "ticks": ""
             }
            },
            "type": "scattergl"
           }
          ],
          "scattermapbox": [
           {
            "marker": {
             "colorbar": {
              "outlinewidth": 0,
              "ticks": ""
             }
            },
            "type": "scattermapbox"
           }
          ],
          "scatterpolar": [
           {
            "marker": {
             "colorbar": {
              "outlinewidth": 0,
              "ticks": ""
             }
            },
            "type": "scatterpolar"
           }
          ],
          "scatterpolargl": [
           {
            "marker": {
             "colorbar": {
              "outlinewidth": 0,
              "ticks": ""
             }
            },
            "type": "scatterpolargl"
           }
          ],
          "scatterternary": [
           {
            "marker": {
             "colorbar": {
              "outlinewidth": 0,
              "ticks": ""
             }
            },
            "type": "scatterternary"
           }
          ],
          "surface": [
           {
            "colorbar": {
             "outlinewidth": 0,
             "ticks": ""
            },
            "colorscale": [
             [
              0,
              "#0d0887"
             ],
             [
              0.1111111111111111,
              "#46039f"
             ],
             [
              0.2222222222222222,
              "#7201a8"
             ],
             [
              0.3333333333333333,
              "#9c179e"
             ],
             [
              0.4444444444444444,
              "#bd3786"
             ],
             [
              0.5555555555555556,
              "#d8576b"
             ],
             [
              0.6666666666666666,
              "#ed7953"
             ],
             [
              0.7777777777777778,
              "#fb9f3a"
             ],
             [
              0.8888888888888888,
              "#fdca26"
             ],
             [
              1,
              "#f0f921"
             ]
            ],
            "type": "surface"
           }
          ],
          "table": [
           {
            "cells": {
             "fill": {
              "color": "#EBF0F8"
             },
             "line": {
              "color": "white"
             }
            },
            "header": {
             "fill": {
              "color": "#C8D4E3"
             },
             "line": {
              "color": "white"
             }
            },
            "type": "table"
           }
          ]
         },
         "layout": {
          "annotationdefaults": {
           "arrowcolor": "#2a3f5f",
           "arrowhead": 0,
           "arrowwidth": 1
          },
          "autotypenumbers": "strict",
          "coloraxis": {
           "colorbar": {
            "outlinewidth": 0,
            "ticks": ""
           }
          },
          "colorscale": {
           "diverging": [
            [
             0,
             "#8e0152"
            ],
            [
             0.1,
             "#c51b7d"
            ],
            [
             0.2,
             "#de77ae"
            ],
            [
             0.3,
             "#f1b6da"
            ],
            [
             0.4,
             "#fde0ef"
            ],
            [
             0.5,
             "#f7f7f7"
            ],
            [
             0.6,
             "#e6f5d0"
            ],
            [
             0.7,
             "#b8e186"
            ],
            [
             0.8,
             "#7fbc41"
            ],
            [
             0.9,
             "#4d9221"
            ],
            [
             1,
             "#276419"
            ]
           ],
           "sequential": [
            [
             0,
             "#0d0887"
            ],
            [
             0.1111111111111111,
             "#46039f"
            ],
            [
             0.2222222222222222,
             "#7201a8"
            ],
            [
             0.3333333333333333,
             "#9c179e"
            ],
            [
             0.4444444444444444,
             "#bd3786"
            ],
            [
             0.5555555555555556,
             "#d8576b"
            ],
            [
             0.6666666666666666,
             "#ed7953"
            ],
            [
             0.7777777777777778,
             "#fb9f3a"
            ],
            [
             0.8888888888888888,
             "#fdca26"
            ],
            [
             1,
             "#f0f921"
            ]
           ],
           "sequentialminus": [
            [
             0,
             "#0d0887"
            ],
            [
             0.1111111111111111,
             "#46039f"
            ],
            [
             0.2222222222222222,
             "#7201a8"
            ],
            [
             0.3333333333333333,
             "#9c179e"
            ],
            [
             0.4444444444444444,
             "#bd3786"
            ],
            [
             0.5555555555555556,
             "#d8576b"
            ],
            [
             0.6666666666666666,
             "#ed7953"
            ],
            [
             0.7777777777777778,
             "#fb9f3a"
            ],
            [
             0.8888888888888888,
             "#fdca26"
            ],
            [
             1,
             "#f0f921"
            ]
           ]
          },
          "colorway": [
           "#636efa",
           "#EF553B",
           "#00cc96",
           "#ab63fa",
           "#FFA15A",
           "#19d3f3",
           "#FF6692",
           "#B6E880",
           "#FF97FF",
           "#FECB52"
          ],
          "font": {
           "color": "#2a3f5f"
          },
          "geo": {
           "bgcolor": "white",
           "lakecolor": "white",
           "landcolor": "#E5ECF6",
           "showlakes": true,
           "showland": true,
           "subunitcolor": "white"
          },
          "hoverlabel": {
           "align": "left"
          },
          "hovermode": "closest",
          "mapbox": {
           "style": "light"
          },
          "paper_bgcolor": "white",
          "plot_bgcolor": "#E5ECF6",
          "polar": {
           "angularaxis": {
            "gridcolor": "white",
            "linecolor": "white",
            "ticks": ""
           },
           "bgcolor": "#E5ECF6",
           "radialaxis": {
            "gridcolor": "white",
            "linecolor": "white",
            "ticks": ""
           }
          },
          "scene": {
           "xaxis": {
            "backgroundcolor": "#E5ECF6",
            "gridcolor": "white",
            "gridwidth": 2,
            "linecolor": "white",
            "showbackground": true,
            "ticks": "",
            "zerolinecolor": "white"
           },
           "yaxis": {
            "backgroundcolor": "#E5ECF6",
            "gridcolor": "white",
            "gridwidth": 2,
            "linecolor": "white",
            "showbackground": true,
            "ticks": "",
            "zerolinecolor": "white"
           },
           "zaxis": {
            "backgroundcolor": "#E5ECF6",
            "gridcolor": "white",
            "gridwidth": 2,
            "linecolor": "white",
            "showbackground": true,
            "ticks": "",
            "zerolinecolor": "white"
           }
          },
          "shapedefaults": {
           "line": {
            "color": "#2a3f5f"
           }
          },
          "ternary": {
           "aaxis": {
            "gridcolor": "white",
            "linecolor": "white",
            "ticks": ""
           },
           "baxis": {
            "gridcolor": "white",
            "linecolor": "white",
            "ticks": ""
           },
           "bgcolor": "#E5ECF6",
           "caxis": {
            "gridcolor": "white",
            "linecolor": "white",
            "ticks": ""
           }
          },
          "title": {
           "x": 0.05
          },
          "xaxis": {
           "automargin": true,
           "gridcolor": "white",
           "linecolor": "white",
           "ticks": "",
           "title": {
            "standoff": 15
           },
           "zerolinecolor": "white",
           "zerolinewidth": 2
          },
          "yaxis": {
           "automargin": true,
           "gridcolor": "white",
           "linecolor": "white",
           "ticks": "",
           "title": {
            "standoff": 15
           },
           "zerolinecolor": "white",
           "zerolinewidth": 2
          }
         }
        },
        "title": {
         "font": {
          "color": "#4D5663"
         }
        },
        "xaxis": {
         "gridcolor": "#E1E5ED",
         "showgrid": true,
         "tickfont": {
          "color": "#4D5663"
         },
         "title": {
          "font": {
           "color": "#4D5663"
          },
          "text": ""
         },
         "zerolinecolor": "#E1E5ED"
        },
        "yaxis": {
         "gridcolor": "#E1E5ED",
         "showgrid": true,
         "tickfont": {
          "color": "#4D5663"
         },
         "title": {
          "font": {
           "color": "#4D5663"
          },
          "text": ""
         },
         "zerolinecolor": "#E1E5ED"
        }
       }
      },
      "text/html": [
       "<div>                            <div id=\"c4256984-426a-435b-8a95-3a633e4066ce\" class=\"plotly-graph-div\" style=\"height:525px; width:100%;\"></div>            <script type=\"text/javascript\">                require([\"plotly\"], function(Plotly) {                    window.PLOTLYENV=window.PLOTLYENV || {};\n",
       "                    window.PLOTLYENV.BASE_URL='https://plot.ly';                                    if (document.getElementById(\"c4256984-426a-435b-8a95-3a633e4066ce\")) {                    Plotly.newPlot(                        \"c4256984-426a-435b-8a95-3a633e4066ce\",                        [{\"histfunc\":\"count\",\"histnorm\":\"\",\"marker\":{\"color\":\"rgba(255, 153, 51, 1.0)\",\"line\":{\"color\":\"#4D5663\",\"width\":1.3}},\"name\":\"A\",\"nbinsx\":25,\"opacity\":0.8,\"orientation\":\"v\",\"x\":[-1.6201976890972134,1.179015368276081,-1.6214936519133512,0.03047124553832825,-0.2526286104197828,-0.9379499246694599,0.8269671650355134,0.38325540578942224,-1.3369240350745981,-0.1571043386951906,-0.47374238434467664,0.023099309943598014,0.733279230152324,0.4327892353101228,0.7866427226972601,0.8193153509882917,-0.6573163617758523,1.1080405429061686,-1.6288423934815082,0.19327248550973222,0.4670318890218097,0.24344411424644669,-1.3311134389816102,1.1620551223577433,1.2912876489780356,0.18104564980079738,-0.920957826249496,0.8153373278150663,0.4141237490605079,-1.2233923269366347,1.1809931936702687,-0.7472502325260357,0.7316732664119959,-0.24907740141754095,-1.856039241555898,0.48557905752155645,0.942283881961478,0.3578556108847455,-1.8677443406725636,1.0023813900186556,-0.2507150736742075,-0.9952209282809444,0.3996845671425887,-0.9446255241307885,-0.04225580624092134,-0.3506283854717632,1.413574037050735,-1.0317515856596224,1.480630113279642,0.39947797467673907,-0.6931505541669951,0.5821102631893128,0.4962188462986672,-0.2581590569711388,0.8973741639491336,-0.10080319290798798,-0.15464812870423214,0.8678202284599688,1.4082624375863562,-1.9604410319949725,1.5980717080218183,1.2573680424497145,0.8735081041173356,-1.0539724794624896,0.14895184661081642,1.0605146334574904,1.2608514085352878,0.240971785315486,0.2748063637274384,0.3539595539621846,1.2342208918053148,0.7223660874952281,-0.8641043702663473,-1.722594215592153,0.5522634434427093,-0.49545212848549014,-0.4298662616575933,0.8912737176769494,0.7827711272796617,1.2401269084078836,0.708741330504012,-0.7042768008570168,2.0624212994254996,-0.8775630823875434,-0.5172012578681376,0.08542921152016249,-0.9155834771940242,0.009828356120732294,-2.0744709535958066,0.22643759282650308,-0.5150997924470277,1.1698742620669689,1.666037436029818,0.2548941811062244,-0.11358095313937175,1.8217550714168769,-1.1735435230757323,-0.7592093728741733,-0.2988109427460776,0.9961206466322576],\"type\":\"histogram\"}],                        {\"barmode\":\"overlay\",\"legend\":{\"bgcolor\":\"#F5F6F9\",\"font\":{\"color\":\"#4D5663\"}},\"paper_bgcolor\":\"#F5F6F9\",\"plot_bgcolor\":\"#F5F6F9\",\"template\":{\"data\":{\"barpolar\":[{\"marker\":{\"line\":{\"color\":\"#E5ECF6\",\"width\":0.5},\"pattern\":{\"fillmode\":\"overlay\",\"size\":10,\"solidity\":0.2}},\"type\":\"barpolar\"}],\"bar\":[{\"error_x\":{\"color\":\"#2a3f5f\"},\"error_y\":{\"color\":\"#2a3f5f\"},\"marker\":{\"line\":{\"color\":\"#E5ECF6\",\"width\":0.5},\"pattern\":{\"fillmode\":\"overlay\",\"size\":10,\"solidity\":0.2}},\"type\":\"bar\"}],\"carpet\":[{\"aaxis\":{\"endlinecolor\":\"#2a3f5f\",\"gridcolor\":\"white\",\"linecolor\":\"white\",\"minorgridcolor\":\"white\",\"startlinecolor\":\"#2a3f5f\"},\"baxis\":{\"endlinecolor\":\"#2a3f5f\",\"gridcolor\":\"white\",\"linecolor\":\"white\",\"minorgridcolor\":\"white\",\"startlinecolor\":\"#2a3f5f\"},\"type\":\"carpet\"}],\"choropleth\":[{\"colorbar\":{\"outlinewidth\":0,\"ticks\":\"\"},\"type\":\"choropleth\"}],\"contourcarpet\":[{\"colorbar\":{\"outlinewidth\":0,\"ticks\":\"\"},\"type\":\"contourcarpet\"}],\"contour\":[{\"colorbar\":{\"outlinewidth\":0,\"ticks\":\"\"},\"colorscale\":[[0.0,\"#0d0887\"],[0.1111111111111111,\"#46039f\"],[0.2222222222222222,\"#7201a8\"],[0.3333333333333333,\"#9c179e\"],[0.4444444444444444,\"#bd3786\"],[0.5555555555555556,\"#d8576b\"],[0.6666666666666666,\"#ed7953\"],[0.7777777777777778,\"#fb9f3a\"],[0.8888888888888888,\"#fdca26\"],[1.0,\"#f0f921\"]],\"type\":\"contour\"}],\"heatmapgl\":[{\"colorbar\":{\"outlinewidth\":0,\"ticks\":\"\"},\"colorscale\":[[0.0,\"#0d0887\"],[0.1111111111111111,\"#46039f\"],[0.2222222222222222,\"#7201a8\"],[0.3333333333333333,\"#9c179e\"],[0.4444444444444444,\"#bd3786\"],[0.5555555555555556,\"#d8576b\"],[0.6666666666666666,\"#ed7953\"],[0.7777777777777778,\"#fb9f3a\"],[0.8888888888888888,\"#fdca26\"],[1.0,\"#f0f921\"]],\"type\":\"heatmapgl\"}],\"heatmap\":[{\"colorbar\":{\"outlinewidth\":0,\"ticks\":\"\"},\"colorscale\":[[0.0,\"#0d0887\"],[0.1111111111111111,\"#46039f\"],[0.2222222222222222,\"#7201a8\"],[0.3333333333333333,\"#9c179e\"],[0.4444444444444444,\"#bd3786\"],[0.5555555555555556,\"#d8576b\"],[0.6666666666666666,\"#ed7953\"],[0.7777777777777778,\"#fb9f3a\"],[0.8888888888888888,\"#fdca26\"],[1.0,\"#f0f921\"]],\"type\":\"heatmap\"}],\"histogram2dcontour\":[{\"colorbar\":{\"outlinewidth\":0,\"ticks\":\"\"},\"colorscale\":[[0.0,\"#0d0887\"],[0.1111111111111111,\"#46039f\"],[0.2222222222222222,\"#7201a8\"],[0.3333333333333333,\"#9c179e\"],[0.4444444444444444,\"#bd3786\"],[0.5555555555555556,\"#d8576b\"],[0.6666666666666666,\"#ed7953\"],[0.7777777777777778,\"#fb9f3a\"],[0.8888888888888888,\"#fdca26\"],[1.0,\"#f0f921\"]],\"type\":\"histogram2dcontour\"}],\"histogram2d\":[{\"colorbar\":{\"outlinewidth\":0,\"ticks\":\"\"},\"colorscale\":[[0.0,\"#0d0887\"],[0.1111111111111111,\"#46039f\"],[0.2222222222222222,\"#7201a8\"],[0.3333333333333333,\"#9c179e\"],[0.4444444444444444,\"#bd3786\"],[0.5555555555555556,\"#d8576b\"],[0.6666666666666666,\"#ed7953\"],[0.7777777777777778,\"#fb9f3a\"],[0.8888888888888888,\"#fdca26\"],[1.0,\"#f0f921\"]],\"type\":\"histogram2d\"}],\"histogram\":[{\"marker\":{\"pattern\":{\"fillmode\":\"overlay\",\"size\":10,\"solidity\":0.2}},\"type\":\"histogram\"}],\"mesh3d\":[{\"colorbar\":{\"outlinewidth\":0,\"ticks\":\"\"},\"type\":\"mesh3d\"}],\"parcoords\":[{\"line\":{\"colorbar\":{\"outlinewidth\":0,\"ticks\":\"\"}},\"type\":\"parcoords\"}],\"pie\":[{\"automargin\":true,\"type\":\"pie\"}],\"scatter3d\":[{\"line\":{\"colorbar\":{\"outlinewidth\":0,\"ticks\":\"\"}},\"marker\":{\"colorbar\":{\"outlinewidth\":0,\"ticks\":\"\"}},\"type\":\"scatter3d\"}],\"scattercarpet\":[{\"marker\":{\"colorbar\":{\"outlinewidth\":0,\"ticks\":\"\"}},\"type\":\"scattercarpet\"}],\"scattergeo\":[{\"marker\":{\"colorbar\":{\"outlinewidth\":0,\"ticks\":\"\"}},\"type\":\"scattergeo\"}],\"scattergl\":[{\"marker\":{\"colorbar\":{\"outlinewidth\":0,\"ticks\":\"\"}},\"type\":\"scattergl\"}],\"scattermapbox\":[{\"marker\":{\"colorbar\":{\"outlinewidth\":0,\"ticks\":\"\"}},\"type\":\"scattermapbox\"}],\"scatterpolargl\":[{\"marker\":{\"colorbar\":{\"outlinewidth\":0,\"ticks\":\"\"}},\"type\":\"scatterpolargl\"}],\"scatterpolar\":[{\"marker\":{\"colorbar\":{\"outlinewidth\":0,\"ticks\":\"\"}},\"type\":\"scatterpolar\"}],\"scatter\":[{\"fillpattern\":{\"fillmode\":\"overlay\",\"size\":10,\"solidity\":0.2},\"type\":\"scatter\"}],\"scatterternary\":[{\"marker\":{\"colorbar\":{\"outlinewidth\":0,\"ticks\":\"\"}},\"type\":\"scatterternary\"}],\"surface\":[{\"colorbar\":{\"outlinewidth\":0,\"ticks\":\"\"},\"colorscale\":[[0.0,\"#0d0887\"],[0.1111111111111111,\"#46039f\"],[0.2222222222222222,\"#7201a8\"],[0.3333333333333333,\"#9c179e\"],[0.4444444444444444,\"#bd3786\"],[0.5555555555555556,\"#d8576b\"],[0.6666666666666666,\"#ed7953\"],[0.7777777777777778,\"#fb9f3a\"],[0.8888888888888888,\"#fdca26\"],[1.0,\"#f0f921\"]],\"type\":\"surface\"}],\"table\":[{\"cells\":{\"fill\":{\"color\":\"#EBF0F8\"},\"line\":{\"color\":\"white\"}},\"header\":{\"fill\":{\"color\":\"#C8D4E3\"},\"line\":{\"color\":\"white\"}},\"type\":\"table\"}]},\"layout\":{\"annotationdefaults\":{\"arrowcolor\":\"#2a3f5f\",\"arrowhead\":0,\"arrowwidth\":1},\"autotypenumbers\":\"strict\",\"coloraxis\":{\"colorbar\":{\"outlinewidth\":0,\"ticks\":\"\"}},\"colorscale\":{\"diverging\":[[0,\"#8e0152\"],[0.1,\"#c51b7d\"],[0.2,\"#de77ae\"],[0.3,\"#f1b6da\"],[0.4,\"#fde0ef\"],[0.5,\"#f7f7f7\"],[0.6,\"#e6f5d0\"],[0.7,\"#b8e186\"],[0.8,\"#7fbc41\"],[0.9,\"#4d9221\"],[1,\"#276419\"]],\"sequential\":[[0.0,\"#0d0887\"],[0.1111111111111111,\"#46039f\"],[0.2222222222222222,\"#7201a8\"],[0.3333333333333333,\"#9c179e\"],[0.4444444444444444,\"#bd3786\"],[0.5555555555555556,\"#d8576b\"],[0.6666666666666666,\"#ed7953\"],[0.7777777777777778,\"#fb9f3a\"],[0.8888888888888888,\"#fdca26\"],[1.0,\"#f0f921\"]],\"sequentialminus\":[[0.0,\"#0d0887\"],[0.1111111111111111,\"#46039f\"],[0.2222222222222222,\"#7201a8\"],[0.3333333333333333,\"#9c179e\"],[0.4444444444444444,\"#bd3786\"],[0.5555555555555556,\"#d8576b\"],[0.6666666666666666,\"#ed7953\"],[0.7777777777777778,\"#fb9f3a\"],[0.8888888888888888,\"#fdca26\"],[1.0,\"#f0f921\"]]},\"colorway\":[\"#636efa\",\"#EF553B\",\"#00cc96\",\"#ab63fa\",\"#FFA15A\",\"#19d3f3\",\"#FF6692\",\"#B6E880\",\"#FF97FF\",\"#FECB52\"],\"font\":{\"color\":\"#2a3f5f\"},\"geo\":{\"bgcolor\":\"white\",\"lakecolor\":\"white\",\"landcolor\":\"#E5ECF6\",\"showlakes\":true,\"showland\":true,\"subunitcolor\":\"white\"},\"hoverlabel\":{\"align\":\"left\"},\"hovermode\":\"closest\",\"mapbox\":{\"style\":\"light\"},\"paper_bgcolor\":\"white\",\"plot_bgcolor\":\"#E5ECF6\",\"polar\":{\"angularaxis\":{\"gridcolor\":\"white\",\"linecolor\":\"white\",\"ticks\":\"\"},\"bgcolor\":\"#E5ECF6\",\"radialaxis\":{\"gridcolor\":\"white\",\"linecolor\":\"white\",\"ticks\":\"\"}},\"scene\":{\"xaxis\":{\"backgroundcolor\":\"#E5ECF6\",\"gridcolor\":\"white\",\"gridwidth\":2,\"linecolor\":\"white\",\"showbackground\":true,\"ticks\":\"\",\"zerolinecolor\":\"white\"},\"yaxis\":{\"backgroundcolor\":\"#E5ECF6\",\"gridcolor\":\"white\",\"gridwidth\":2,\"linecolor\":\"white\",\"showbackground\":true,\"ticks\":\"\",\"zerolinecolor\":\"white\"},\"zaxis\":{\"backgroundcolor\":\"#E5ECF6\",\"gridcolor\":\"white\",\"gridwidth\":2,\"linecolor\":\"white\",\"showbackground\":true,\"ticks\":\"\",\"zerolinecolor\":\"white\"}},\"shapedefaults\":{\"line\":{\"color\":\"#2a3f5f\"}},\"ternary\":{\"aaxis\":{\"gridcolor\":\"white\",\"linecolor\":\"white\",\"ticks\":\"\"},\"baxis\":{\"gridcolor\":\"white\",\"linecolor\":\"white\",\"ticks\":\"\"},\"bgcolor\":\"#E5ECF6\",\"caxis\":{\"gridcolor\":\"white\",\"linecolor\":\"white\",\"ticks\":\"\"}},\"title\":{\"x\":0.05},\"xaxis\":{\"automargin\":true,\"gridcolor\":\"white\",\"linecolor\":\"white\",\"ticks\":\"\",\"title\":{\"standoff\":15},\"zerolinecolor\":\"white\",\"zerolinewidth\":2},\"yaxis\":{\"automargin\":true,\"gridcolor\":\"white\",\"linecolor\":\"white\",\"ticks\":\"\",\"title\":{\"standoff\":15},\"zerolinecolor\":\"white\",\"zerolinewidth\":2}}},\"title\":{\"font\":{\"color\":\"#4D5663\"}},\"xaxis\":{\"gridcolor\":\"#E1E5ED\",\"showgrid\":true,\"tickfont\":{\"color\":\"#4D5663\"},\"title\":{\"font\":{\"color\":\"#4D5663\"},\"text\":\"\"},\"zerolinecolor\":\"#E1E5ED\"},\"yaxis\":{\"gridcolor\":\"#E1E5ED\",\"showgrid\":true,\"tickfont\":{\"color\":\"#4D5663\"},\"title\":{\"font\":{\"color\":\"#4D5663\"},\"text\":\"\"},\"zerolinecolor\":\"#E1E5ED\"}},                        {\"showLink\": true, \"linkText\": \"Export to plot.ly\", \"plotlyServerURL\": \"https://plot.ly\", \"responsive\": true}                    ).then(function(){\n",
       "                            \n",
       "var gd = document.getElementById('c4256984-426a-435b-8a95-3a633e4066ce');\n",
       "var x = new MutationObserver(function (mutations, observer) {{\n",
       "        var display = window.getComputedStyle(gd).display;\n",
       "        if (!display || display === 'none') {{\n",
       "            console.log([gd, 'removed!']);\n",
       "            Plotly.purge(gd);\n",
       "            observer.disconnect();\n",
       "        }}\n",
       "}});\n",
       "\n",
       "// Listen for the removal of the full notebook cells\n",
       "var notebookContainer = gd.closest('#notebook-container');\n",
       "if (notebookContainer) {{\n",
       "    x.observe(notebookContainer, {childList: true});\n",
       "}}\n",
       "\n",
       "// Listen for the clearing of the current output cell\n",
       "var outputEl = gd.closest('.output');\n",
       "if (outputEl) {{\n",
       "    x.observe(outputEl, {childList: true});\n",
       "}}\n",
       "\n",
       "                        })                };                });            </script>        </div>"
      ]
     },
     "metadata": {},
     "output_type": "display_data"
    }
   ],
   "source": [
    "df['A'].iplot(kind='hist',bins=25)"
   ]
  },
  {
   "cell_type": "code",
   "execution_count": 16,
   "metadata": {},
   "outputs": [
    {
     "data": {
      "application/vnd.plotly.v1+json": {
       "config": {
        "linkText": "Export to plot.ly",
        "plotlyServerURL": "https://plot.ly",
        "showLink": true
       },
       "data": [
        {
         "marker": {
          "color": [
           "rgb(255, 153, 51)",
           "rgb(55, 128, 191)",
           "rgb(50, 171, 96)",
           "rgb(128, 0, 128)",
           "rgb(219, 64, 82)",
           "rgb(0, 128, 128)",
           "rgb(255, 255, 51)",
           "rgb(128, 128, 0)",
           "rgb(251, 128, 114)",
           "rgb(128, 177, 211)"
          ],
          "line": {
           "width": 1.3
          },
          "size": [
           66,
           47,
           95,
           80,
           101,
           64,
           43,
           67,
           66,
           54,
           87,
           38,
           59,
           59,
           83,
           61,
           59,
           64,
           55,
           35,
           51,
           12,
           64,
           59,
           82,
           83,
           101,
           61,
           67,
           33,
           60,
           45,
           108,
           105,
           28,
           41,
           33,
           81,
           87,
           89,
           38,
           70,
           47,
           31,
           25,
           72,
           86,
           86,
           78,
           73,
           59,
           33,
           60,
           63,
           71,
           57,
           48,
           70,
           108,
           78,
           97,
           69,
           59,
           83,
           43,
           77,
           63,
           57,
           68,
           74,
           31,
           58,
           112,
           66,
           75,
           103,
           80,
           83,
           85,
           68,
           58,
           53,
           57,
           67,
           84,
           81,
           40,
           31,
           93,
           73,
           72,
           48,
           74,
           72,
           64,
           51,
           79,
           53,
           46,
           41
          ],
          "symbol": "circle"
         },
         "mode": "markers",
         "text": "",
         "type": "scatter",
         "x": [
          -1.6201976890972134,
          1.179015368276081,
          -1.6214936519133512,
          0.03047124553832825,
          -0.2526286104197828,
          -0.9379499246694599,
          0.8269671650355134,
          0.38325540578942224,
          -1.3369240350745981,
          -0.1571043386951906,
          -0.47374238434467664,
          0.023099309943598014,
          0.733279230152324,
          0.4327892353101228,
          0.7866427226972601,
          0.8193153509882917,
          -0.6573163617758523,
          1.1080405429061686,
          -1.6288423934815082,
          0.19327248550973222,
          0.4670318890218097,
          0.24344411424644669,
          -1.3311134389816102,
          1.1620551223577433,
          1.2912876489780356,
          0.18104564980079738,
          -0.920957826249496,
          0.8153373278150663,
          0.4141237490605079,
          -1.2233923269366347,
          1.1809931936702687,
          -0.7472502325260357,
          0.7316732664119959,
          -0.24907740141754095,
          -1.856039241555898,
          0.48557905752155645,
          0.942283881961478,
          0.3578556108847455,
          -1.8677443406725636,
          1.0023813900186556,
          -0.2507150736742075,
          -0.9952209282809444,
          0.3996845671425887,
          -0.9446255241307885,
          -0.04225580624092134,
          -0.3506283854717632,
          1.413574037050735,
          -1.0317515856596224,
          1.480630113279642,
          0.39947797467673907,
          -0.6931505541669951,
          0.5821102631893128,
          0.4962188462986672,
          -0.2581590569711388,
          0.8973741639491336,
          -0.10080319290798798,
          -0.15464812870423214,
          0.8678202284599688,
          1.4082624375863562,
          -1.9604410319949725,
          1.5980717080218183,
          1.2573680424497145,
          0.8735081041173356,
          -1.0539724794624896,
          0.14895184661081642,
          1.0605146334574904,
          1.2608514085352878,
          0.240971785315486,
          0.2748063637274384,
          0.3539595539621846,
          1.2342208918053148,
          0.7223660874952281,
          -0.8641043702663473,
          -1.722594215592153,
          0.5522634434427093,
          -0.49545212848549014,
          -0.4298662616575933,
          0.8912737176769494,
          0.7827711272796617,
          1.2401269084078836,
          0.708741330504012,
          -0.7042768008570168,
          2.0624212994254996,
          -0.8775630823875434,
          -0.5172012578681376,
          0.08542921152016249,
          -0.9155834771940242,
          0.009828356120732294,
          -2.0744709535958066,
          0.22643759282650308,
          -0.5150997924470277,
          1.1698742620669689,
          1.666037436029818,
          0.2548941811062244,
          -0.11358095313937175,
          1.8217550714168769,
          -1.1735435230757323,
          -0.7592093728741733,
          -0.2988109427460776,
          0.9961206466322576
         ],
         "y": [
          0.8297594902124418,
          -0.2783114996995031,
          -1.5289569523977877,
          -0.024712108089802683,
          -0.0247326672640995,
          -0.22748462092405278,
          -1.2046557250956362,
          -0.492574198134032,
          -0.8277087842007413,
          -0.5268682018178362,
          -0.7466368292324888,
          -1.6747939271306416,
          0.5515156661553242,
          -1.4772162733955383,
          -0.4254126914075391,
          -0.7914420736295171,
          -0.7253414533807264,
          -1.261797119079572,
          -1.2962240385283845,
          0.24117064460294366,
          1.0626596268890234,
          0.3330657373571715,
          -0.8173888046756824,
          0.625709231685683,
          0.9497207509658698,
          -0.7209576199345601,
          0.6113091443302957,
          0.09729281095671156,
          -0.7720024468971365,
          0.5930894634932572,
          1.5483268480595687,
          0.522617504572752,
          -0.9098182135648303,
          0.8715182286216513,
          -1.2908008408179037,
          -0.6816068106752934,
          0.30578782752968925,
          0.1326510272491607,
          0.36890944266358217,
          -0.4915204209445604,
          -0.1294344400609409,
          -0.4139232476620148,
          0.4904096710435924,
          -0.5021389171965049,
          -0.7041451895138741,
          1.915610746784163,
          -0.9811622770096722,
          0.41472580478141413,
          -0.00030173699829042525,
          -0.07742300302041409,
          0.03821276810804631,
          0.71686602330355,
          0.7574747053680021,
          0.9042140473633455,
          0.09759224671913559,
          -1.1803292048548368,
          -0.026214865627643223,
          -0.5459197506001886,
          0.7467193926971661,
          0.5431577761382423,
          0.210930427755455,
          1.2499441487288871,
          -3.048441413801019,
          0.02508455116907912,
          0.5476447945766364,
          -0.7718383664981547,
          -1.6821314507638936,
          -0.07769256589389573,
          1.4900168390869943,
          -0.8953597891744572,
          -0.33672148128028784,
          -0.7566801384767264,
          -0.43941583681939644,
          -0.6412448031731541,
          -0.5172857599200201,
          0.45956923847605186,
          1.8116969199744073,
          -0.5781802190947594,
          0.770776684992134,
          0.8627961753027991,
          -1.1575397220968435,
          0.8197478512094455,
          0.23064721862991777,
          0.008127836945889876,
          -0.7556460615903183,
          -0.6583060701628153,
          0.15637623791267963,
          -0.07895953358710191,
          -0.4364679669264129,
          1.636674909247799,
          -1.1480973336937255,
          -1.4056268439017143,
          0.7341548146711661,
          -0.1993410576061871,
          0.05287239073333219,
          0.6179748443438318,
          0.5181127568744494,
          -0.025898918350763307,
          0.23189176039414636,
          -0.3260572062212705
         ]
        }
       ],
       "layout": {
        "legend": {
         "bgcolor": "#F5F6F9",
         "font": {
          "color": "#4D5663"
         }
        },
        "paper_bgcolor": "#F5F6F9",
        "plot_bgcolor": "#F5F6F9",
        "template": {
         "data": {
          "bar": [
           {
            "error_x": {
             "color": "#2a3f5f"
            },
            "error_y": {
             "color": "#2a3f5f"
            },
            "marker": {
             "line": {
              "color": "#E5ECF6",
              "width": 0.5
             },
             "pattern": {
              "fillmode": "overlay",
              "size": 10,
              "solidity": 0.2
             }
            },
            "type": "bar"
           }
          ],
          "barpolar": [
           {
            "marker": {
             "line": {
              "color": "#E5ECF6",
              "width": 0.5
             },
             "pattern": {
              "fillmode": "overlay",
              "size": 10,
              "solidity": 0.2
             }
            },
            "type": "barpolar"
           }
          ],
          "carpet": [
           {
            "aaxis": {
             "endlinecolor": "#2a3f5f",
             "gridcolor": "white",
             "linecolor": "white",
             "minorgridcolor": "white",
             "startlinecolor": "#2a3f5f"
            },
            "baxis": {
             "endlinecolor": "#2a3f5f",
             "gridcolor": "white",
             "linecolor": "white",
             "minorgridcolor": "white",
             "startlinecolor": "#2a3f5f"
            },
            "type": "carpet"
           }
          ],
          "choropleth": [
           {
            "colorbar": {
             "outlinewidth": 0,
             "ticks": ""
            },
            "type": "choropleth"
           }
          ],
          "contour": [
           {
            "colorbar": {
             "outlinewidth": 0,
             "ticks": ""
            },
            "colorscale": [
             [
              0,
              "#0d0887"
             ],
             [
              0.1111111111111111,
              "#46039f"
             ],
             [
              0.2222222222222222,
              "#7201a8"
             ],
             [
              0.3333333333333333,
              "#9c179e"
             ],
             [
              0.4444444444444444,
              "#bd3786"
             ],
             [
              0.5555555555555556,
              "#d8576b"
             ],
             [
              0.6666666666666666,
              "#ed7953"
             ],
             [
              0.7777777777777778,
              "#fb9f3a"
             ],
             [
              0.8888888888888888,
              "#fdca26"
             ],
             [
              1,
              "#f0f921"
             ]
            ],
            "type": "contour"
           }
          ],
          "contourcarpet": [
           {
            "colorbar": {
             "outlinewidth": 0,
             "ticks": ""
            },
            "type": "contourcarpet"
           }
          ],
          "heatmap": [
           {
            "colorbar": {
             "outlinewidth": 0,
             "ticks": ""
            },
            "colorscale": [
             [
              0,
              "#0d0887"
             ],
             [
              0.1111111111111111,
              "#46039f"
             ],
             [
              0.2222222222222222,
              "#7201a8"
             ],
             [
              0.3333333333333333,
              "#9c179e"
             ],
             [
              0.4444444444444444,
              "#bd3786"
             ],
             [
              0.5555555555555556,
              "#d8576b"
             ],
             [
              0.6666666666666666,
              "#ed7953"
             ],
             [
              0.7777777777777778,
              "#fb9f3a"
             ],
             [
              0.8888888888888888,
              "#fdca26"
             ],
             [
              1,
              "#f0f921"
             ]
            ],
            "type": "heatmap"
           }
          ],
          "heatmapgl": [
           {
            "colorbar": {
             "outlinewidth": 0,
             "ticks": ""
            },
            "colorscale": [
             [
              0,
              "#0d0887"
             ],
             [
              0.1111111111111111,
              "#46039f"
             ],
             [
              0.2222222222222222,
              "#7201a8"
             ],
             [
              0.3333333333333333,
              "#9c179e"
             ],
             [
              0.4444444444444444,
              "#bd3786"
             ],
             [
              0.5555555555555556,
              "#d8576b"
             ],
             [
              0.6666666666666666,
              "#ed7953"
             ],
             [
              0.7777777777777778,
              "#fb9f3a"
             ],
             [
              0.8888888888888888,
              "#fdca26"
             ],
             [
              1,
              "#f0f921"
             ]
            ],
            "type": "heatmapgl"
           }
          ],
          "histogram": [
           {
            "marker": {
             "pattern": {
              "fillmode": "overlay",
              "size": 10,
              "solidity": 0.2
             }
            },
            "type": "histogram"
           }
          ],
          "histogram2d": [
           {
            "colorbar": {
             "outlinewidth": 0,
             "ticks": ""
            },
            "colorscale": [
             [
              0,
              "#0d0887"
             ],
             [
              0.1111111111111111,
              "#46039f"
             ],
             [
              0.2222222222222222,
              "#7201a8"
             ],
             [
              0.3333333333333333,
              "#9c179e"
             ],
             [
              0.4444444444444444,
              "#bd3786"
             ],
             [
              0.5555555555555556,
              "#d8576b"
             ],
             [
              0.6666666666666666,
              "#ed7953"
             ],
             [
              0.7777777777777778,
              "#fb9f3a"
             ],
             [
              0.8888888888888888,
              "#fdca26"
             ],
             [
              1,
              "#f0f921"
             ]
            ],
            "type": "histogram2d"
           }
          ],
          "histogram2dcontour": [
           {
            "colorbar": {
             "outlinewidth": 0,
             "ticks": ""
            },
            "colorscale": [
             [
              0,
              "#0d0887"
             ],
             [
              0.1111111111111111,
              "#46039f"
             ],
             [
              0.2222222222222222,
              "#7201a8"
             ],
             [
              0.3333333333333333,
              "#9c179e"
             ],
             [
              0.4444444444444444,
              "#bd3786"
             ],
             [
              0.5555555555555556,
              "#d8576b"
             ],
             [
              0.6666666666666666,
              "#ed7953"
             ],
             [
              0.7777777777777778,
              "#fb9f3a"
             ],
             [
              0.8888888888888888,
              "#fdca26"
             ],
             [
              1,
              "#f0f921"
             ]
            ],
            "type": "histogram2dcontour"
           }
          ],
          "mesh3d": [
           {
            "colorbar": {
             "outlinewidth": 0,
             "ticks": ""
            },
            "type": "mesh3d"
           }
          ],
          "parcoords": [
           {
            "line": {
             "colorbar": {
              "outlinewidth": 0,
              "ticks": ""
             }
            },
            "type": "parcoords"
           }
          ],
          "pie": [
           {
            "automargin": true,
            "type": "pie"
           }
          ],
          "scatter": [
           {
            "fillpattern": {
             "fillmode": "overlay",
             "size": 10,
             "solidity": 0.2
            },
            "type": "scatter"
           }
          ],
          "scatter3d": [
           {
            "line": {
             "colorbar": {
              "outlinewidth": 0,
              "ticks": ""
             }
            },
            "marker": {
             "colorbar": {
              "outlinewidth": 0,
              "ticks": ""
             }
            },
            "type": "scatter3d"
           }
          ],
          "scattercarpet": [
           {
            "marker": {
             "colorbar": {
              "outlinewidth": 0,
              "ticks": ""
             }
            },
            "type": "scattercarpet"
           }
          ],
          "scattergeo": [
           {
            "marker": {
             "colorbar": {
              "outlinewidth": 0,
              "ticks": ""
             }
            },
            "type": "scattergeo"
           }
          ],
          "scattergl": [
           {
            "marker": {
             "colorbar": {
              "outlinewidth": 0,
              "ticks": ""
             }
            },
            "type": "scattergl"
           }
          ],
          "scattermapbox": [
           {
            "marker": {
             "colorbar": {
              "outlinewidth": 0,
              "ticks": ""
             }
            },
            "type": "scattermapbox"
           }
          ],
          "scatterpolar": [
           {
            "marker": {
             "colorbar": {
              "outlinewidth": 0,
              "ticks": ""
             }
            },
            "type": "scatterpolar"
           }
          ],
          "scatterpolargl": [
           {
            "marker": {
             "colorbar": {
              "outlinewidth": 0,
              "ticks": ""
             }
            },
            "type": "scatterpolargl"
           }
          ],
          "scatterternary": [
           {
            "marker": {
             "colorbar": {
              "outlinewidth": 0,
              "ticks": ""
             }
            },
            "type": "scatterternary"
           }
          ],
          "surface": [
           {
            "colorbar": {
             "outlinewidth": 0,
             "ticks": ""
            },
            "colorscale": [
             [
              0,
              "#0d0887"
             ],
             [
              0.1111111111111111,
              "#46039f"
             ],
             [
              0.2222222222222222,
              "#7201a8"
             ],
             [
              0.3333333333333333,
              "#9c179e"
             ],
             [
              0.4444444444444444,
              "#bd3786"
             ],
             [
              0.5555555555555556,
              "#d8576b"
             ],
             [
              0.6666666666666666,
              "#ed7953"
             ],
             [
              0.7777777777777778,
              "#fb9f3a"
             ],
             [
              0.8888888888888888,
              "#fdca26"
             ],
             [
              1,
              "#f0f921"
             ]
            ],
            "type": "surface"
           }
          ],
          "table": [
           {
            "cells": {
             "fill": {
              "color": "#EBF0F8"
             },
             "line": {
              "color": "white"
             }
            },
            "header": {
             "fill": {
              "color": "#C8D4E3"
             },
             "line": {
              "color": "white"
             }
            },
            "type": "table"
           }
          ]
         },
         "layout": {
          "annotationdefaults": {
           "arrowcolor": "#2a3f5f",
           "arrowhead": 0,
           "arrowwidth": 1
          },
          "autotypenumbers": "strict",
          "coloraxis": {
           "colorbar": {
            "outlinewidth": 0,
            "ticks": ""
           }
          },
          "colorscale": {
           "diverging": [
            [
             0,
             "#8e0152"
            ],
            [
             0.1,
             "#c51b7d"
            ],
            [
             0.2,
             "#de77ae"
            ],
            [
             0.3,
             "#f1b6da"
            ],
            [
             0.4,
             "#fde0ef"
            ],
            [
             0.5,
             "#f7f7f7"
            ],
            [
             0.6,
             "#e6f5d0"
            ],
            [
             0.7,
             "#b8e186"
            ],
            [
             0.8,
             "#7fbc41"
            ],
            [
             0.9,
             "#4d9221"
            ],
            [
             1,
             "#276419"
            ]
           ],
           "sequential": [
            [
             0,
             "#0d0887"
            ],
            [
             0.1111111111111111,
             "#46039f"
            ],
            [
             0.2222222222222222,
             "#7201a8"
            ],
            [
             0.3333333333333333,
             "#9c179e"
            ],
            [
             0.4444444444444444,
             "#bd3786"
            ],
            [
             0.5555555555555556,
             "#d8576b"
            ],
            [
             0.6666666666666666,
             "#ed7953"
            ],
            [
             0.7777777777777778,
             "#fb9f3a"
            ],
            [
             0.8888888888888888,
             "#fdca26"
            ],
            [
             1,
             "#f0f921"
            ]
           ],
           "sequentialminus": [
            [
             0,
             "#0d0887"
            ],
            [
             0.1111111111111111,
             "#46039f"
            ],
            [
             0.2222222222222222,
             "#7201a8"
            ],
            [
             0.3333333333333333,
             "#9c179e"
            ],
            [
             0.4444444444444444,
             "#bd3786"
            ],
            [
             0.5555555555555556,
             "#d8576b"
            ],
            [
             0.6666666666666666,
             "#ed7953"
            ],
            [
             0.7777777777777778,
             "#fb9f3a"
            ],
            [
             0.8888888888888888,
             "#fdca26"
            ],
            [
             1,
             "#f0f921"
            ]
           ]
          },
          "colorway": [
           "#636efa",
           "#EF553B",
           "#00cc96",
           "#ab63fa",
           "#FFA15A",
           "#19d3f3",
           "#FF6692",
           "#B6E880",
           "#FF97FF",
           "#FECB52"
          ],
          "font": {
           "color": "#2a3f5f"
          },
          "geo": {
           "bgcolor": "white",
           "lakecolor": "white",
           "landcolor": "#E5ECF6",
           "showlakes": true,
           "showland": true,
           "subunitcolor": "white"
          },
          "hoverlabel": {
           "align": "left"
          },
          "hovermode": "closest",
          "mapbox": {
           "style": "light"
          },
          "paper_bgcolor": "white",
          "plot_bgcolor": "#E5ECF6",
          "polar": {
           "angularaxis": {
            "gridcolor": "white",
            "linecolor": "white",
            "ticks": ""
           },
           "bgcolor": "#E5ECF6",
           "radialaxis": {
            "gridcolor": "white",
            "linecolor": "white",
            "ticks": ""
           }
          },
          "scene": {
           "xaxis": {
            "backgroundcolor": "#E5ECF6",
            "gridcolor": "white",
            "gridwidth": 2,
            "linecolor": "white",
            "showbackground": true,
            "ticks": "",
            "zerolinecolor": "white"
           },
           "yaxis": {
            "backgroundcolor": "#E5ECF6",
            "gridcolor": "white",
            "gridwidth": 2,
            "linecolor": "white",
            "showbackground": true,
            "ticks": "",
            "zerolinecolor": "white"
           },
           "zaxis": {
            "backgroundcolor": "#E5ECF6",
            "gridcolor": "white",
            "gridwidth": 2,
            "linecolor": "white",
            "showbackground": true,
            "ticks": "",
            "zerolinecolor": "white"
           }
          },
          "shapedefaults": {
           "line": {
            "color": "#2a3f5f"
           }
          },
          "ternary": {
           "aaxis": {
            "gridcolor": "white",
            "linecolor": "white",
            "ticks": ""
           },
           "baxis": {
            "gridcolor": "white",
            "linecolor": "white",
            "ticks": ""
           },
           "bgcolor": "#E5ECF6",
           "caxis": {
            "gridcolor": "white",
            "linecolor": "white",
            "ticks": ""
           }
          },
          "title": {
           "x": 0.05
          },
          "xaxis": {
           "automargin": true,
           "gridcolor": "white",
           "linecolor": "white",
           "ticks": "",
           "title": {
            "standoff": 15
           },
           "zerolinecolor": "white",
           "zerolinewidth": 2
          },
          "yaxis": {
           "automargin": true,
           "gridcolor": "white",
           "linecolor": "white",
           "ticks": "",
           "title": {
            "standoff": 15
           },
           "zerolinecolor": "white",
           "zerolinewidth": 2
          }
         }
        },
        "title": {
         "font": {
          "color": "#4D5663"
         }
        },
        "xaxis": {
         "gridcolor": "#E1E5ED",
         "showgrid": true,
         "tickfont": {
          "color": "#4D5663"
         },
         "title": {
          "font": {
           "color": "#4D5663"
          },
          "text": ""
         },
         "zerolinecolor": "#E1E5ED"
        },
        "yaxis": {
         "gridcolor": "#E1E5ED",
         "showgrid": true,
         "tickfont": {
          "color": "#4D5663"
         },
         "title": {
          "font": {
           "color": "#4D5663"
          },
          "text": ""
         },
         "zerolinecolor": "#E1E5ED"
        }
       }
      },
      "text/html": [
       "<div>                            <div id=\"ab85cee4-b754-4751-83a0-4d77884e2545\" class=\"plotly-graph-div\" style=\"height:525px; width:100%;\"></div>            <script type=\"text/javascript\">                require([\"plotly\"], function(Plotly) {                    window.PLOTLYENV=window.PLOTLYENV || {};\n",
       "                    window.PLOTLYENV.BASE_URL='https://plot.ly';                                    if (document.getElementById(\"ab85cee4-b754-4751-83a0-4d77884e2545\")) {                    Plotly.newPlot(                        \"ab85cee4-b754-4751-83a0-4d77884e2545\",                        [{\"marker\":{\"color\":[\"rgb(255, 153, 51)\",\"rgb(55, 128, 191)\",\"rgb(50, 171, 96)\",\"rgb(128, 0, 128)\",\"rgb(219, 64, 82)\",\"rgb(0, 128, 128)\",\"rgb(255, 255, 51)\",\"rgb(128, 128, 0)\",\"rgb(251, 128, 114)\",\"rgb(128, 177, 211)\"],\"line\":{\"width\":1.3},\"size\":[66,47,95,80,101,64,43,67,66,54,87,38,59,59,83,61,59,64,55,35,51,12,64,59,82,83,101,61,67,33,60,45,108,105,28,41,33,81,87,89,38,70,47,31,25,72,86,86,78,73,59,33,60,63,71,57,48,70,108,78,97,69,59,83,43,77,63,57,68,74,31,58,112,66,75,103,80,83,85,68,58,53,57,67,84,81,40,31,93,73,72,48,74,72,64,51,79,53,46,41],\"symbol\":\"circle\"},\"mode\":\"markers\",\"text\":\"\",\"x\":[-1.6201976890972134,1.179015368276081,-1.6214936519133512,0.03047124553832825,-0.2526286104197828,-0.9379499246694599,0.8269671650355134,0.38325540578942224,-1.3369240350745981,-0.1571043386951906,-0.47374238434467664,0.023099309943598014,0.733279230152324,0.4327892353101228,0.7866427226972601,0.8193153509882917,-0.6573163617758523,1.1080405429061686,-1.6288423934815082,0.19327248550973222,0.4670318890218097,0.24344411424644669,-1.3311134389816102,1.1620551223577433,1.2912876489780356,0.18104564980079738,-0.920957826249496,0.8153373278150663,0.4141237490605079,-1.2233923269366347,1.1809931936702687,-0.7472502325260357,0.7316732664119959,-0.24907740141754095,-1.856039241555898,0.48557905752155645,0.942283881961478,0.3578556108847455,-1.8677443406725636,1.0023813900186556,-0.2507150736742075,-0.9952209282809444,0.3996845671425887,-0.9446255241307885,-0.04225580624092134,-0.3506283854717632,1.413574037050735,-1.0317515856596224,1.480630113279642,0.39947797467673907,-0.6931505541669951,0.5821102631893128,0.4962188462986672,-0.2581590569711388,0.8973741639491336,-0.10080319290798798,-0.15464812870423214,0.8678202284599688,1.4082624375863562,-1.9604410319949725,1.5980717080218183,1.2573680424497145,0.8735081041173356,-1.0539724794624896,0.14895184661081642,1.0605146334574904,1.2608514085352878,0.240971785315486,0.2748063637274384,0.3539595539621846,1.2342208918053148,0.7223660874952281,-0.8641043702663473,-1.722594215592153,0.5522634434427093,-0.49545212848549014,-0.4298662616575933,0.8912737176769494,0.7827711272796617,1.2401269084078836,0.708741330504012,-0.7042768008570168,2.0624212994254996,-0.8775630823875434,-0.5172012578681376,0.08542921152016249,-0.9155834771940242,0.009828356120732294,-2.0744709535958066,0.22643759282650308,-0.5150997924470277,1.1698742620669689,1.666037436029818,0.2548941811062244,-0.11358095313937175,1.8217550714168769,-1.1735435230757323,-0.7592093728741733,-0.2988109427460776,0.9961206466322576],\"y\":[0.8297594902124418,-0.2783114996995031,-1.5289569523977877,-0.024712108089802683,-0.0247326672640995,-0.22748462092405278,-1.2046557250956362,-0.492574198134032,-0.8277087842007413,-0.5268682018178362,-0.7466368292324888,-1.6747939271306416,0.5515156661553242,-1.4772162733955383,-0.4254126914075391,-0.7914420736295171,-0.7253414533807264,-1.261797119079572,-1.2962240385283845,0.24117064460294366,1.0626596268890234,0.3330657373571715,-0.8173888046756824,0.625709231685683,0.9497207509658698,-0.7209576199345601,0.6113091443302957,0.09729281095671156,-0.7720024468971365,0.5930894634932572,1.5483268480595687,0.522617504572752,-0.9098182135648303,0.8715182286216513,-1.2908008408179037,-0.6816068106752934,0.30578782752968925,0.1326510272491607,0.36890944266358217,-0.4915204209445604,-0.1294344400609409,-0.4139232476620148,0.4904096710435924,-0.5021389171965049,-0.7041451895138741,1.915610746784163,-0.9811622770096722,0.41472580478141413,-0.00030173699829042525,-0.07742300302041409,0.03821276810804631,0.71686602330355,0.7574747053680021,0.9042140473633455,0.09759224671913559,-1.1803292048548368,-0.026214865627643223,-0.5459197506001886,0.7467193926971661,0.5431577761382423,0.210930427755455,1.2499441487288871,-3.048441413801019,0.02508455116907912,0.5476447945766364,-0.7718383664981547,-1.6821314507638936,-0.07769256589389573,1.4900168390869943,-0.8953597891744572,-0.33672148128028784,-0.7566801384767264,-0.43941583681939644,-0.6412448031731541,-0.5172857599200201,0.45956923847605186,1.8116969199744073,-0.5781802190947594,0.770776684992134,0.8627961753027991,-1.1575397220968435,0.8197478512094455,0.23064721862991777,0.008127836945889876,-0.7556460615903183,-0.6583060701628153,0.15637623791267963,-0.07895953358710191,-0.4364679669264129,1.636674909247799,-1.1480973336937255,-1.4056268439017143,0.7341548146711661,-0.1993410576061871,0.05287239073333219,0.6179748443438318,0.5181127568744494,-0.025898918350763307,0.23189176039414636,-0.3260572062212705],\"type\":\"scatter\"}],                        {\"legend\":{\"bgcolor\":\"#F5F6F9\",\"font\":{\"color\":\"#4D5663\"}},\"paper_bgcolor\":\"#F5F6F9\",\"plot_bgcolor\":\"#F5F6F9\",\"template\":{\"data\":{\"barpolar\":[{\"marker\":{\"line\":{\"color\":\"#E5ECF6\",\"width\":0.5},\"pattern\":{\"fillmode\":\"overlay\",\"size\":10,\"solidity\":0.2}},\"type\":\"barpolar\"}],\"bar\":[{\"error_x\":{\"color\":\"#2a3f5f\"},\"error_y\":{\"color\":\"#2a3f5f\"},\"marker\":{\"line\":{\"color\":\"#E5ECF6\",\"width\":0.5},\"pattern\":{\"fillmode\":\"overlay\",\"size\":10,\"solidity\":0.2}},\"type\":\"bar\"}],\"carpet\":[{\"aaxis\":{\"endlinecolor\":\"#2a3f5f\",\"gridcolor\":\"white\",\"linecolor\":\"white\",\"minorgridcolor\":\"white\",\"startlinecolor\":\"#2a3f5f\"},\"baxis\":{\"endlinecolor\":\"#2a3f5f\",\"gridcolor\":\"white\",\"linecolor\":\"white\",\"minorgridcolor\":\"white\",\"startlinecolor\":\"#2a3f5f\"},\"type\":\"carpet\"}],\"choropleth\":[{\"colorbar\":{\"outlinewidth\":0,\"ticks\":\"\"},\"type\":\"choropleth\"}],\"contourcarpet\":[{\"colorbar\":{\"outlinewidth\":0,\"ticks\":\"\"},\"type\":\"contourcarpet\"}],\"contour\":[{\"colorbar\":{\"outlinewidth\":0,\"ticks\":\"\"},\"colorscale\":[[0.0,\"#0d0887\"],[0.1111111111111111,\"#46039f\"],[0.2222222222222222,\"#7201a8\"],[0.3333333333333333,\"#9c179e\"],[0.4444444444444444,\"#bd3786\"],[0.5555555555555556,\"#d8576b\"],[0.6666666666666666,\"#ed7953\"],[0.7777777777777778,\"#fb9f3a\"],[0.8888888888888888,\"#fdca26\"],[1.0,\"#f0f921\"]],\"type\":\"contour\"}],\"heatmapgl\":[{\"colorbar\":{\"outlinewidth\":0,\"ticks\":\"\"},\"colorscale\":[[0.0,\"#0d0887\"],[0.1111111111111111,\"#46039f\"],[0.2222222222222222,\"#7201a8\"],[0.3333333333333333,\"#9c179e\"],[0.4444444444444444,\"#bd3786\"],[0.5555555555555556,\"#d8576b\"],[0.6666666666666666,\"#ed7953\"],[0.7777777777777778,\"#fb9f3a\"],[0.8888888888888888,\"#fdca26\"],[1.0,\"#f0f921\"]],\"type\":\"heatmapgl\"}],\"heatmap\":[{\"colorbar\":{\"outlinewidth\":0,\"ticks\":\"\"},\"colorscale\":[[0.0,\"#0d0887\"],[0.1111111111111111,\"#46039f\"],[0.2222222222222222,\"#7201a8\"],[0.3333333333333333,\"#9c179e\"],[0.4444444444444444,\"#bd3786\"],[0.5555555555555556,\"#d8576b\"],[0.6666666666666666,\"#ed7953\"],[0.7777777777777778,\"#fb9f3a\"],[0.8888888888888888,\"#fdca26\"],[1.0,\"#f0f921\"]],\"type\":\"heatmap\"}],\"histogram2dcontour\":[{\"colorbar\":{\"outlinewidth\":0,\"ticks\":\"\"},\"colorscale\":[[0.0,\"#0d0887\"],[0.1111111111111111,\"#46039f\"],[0.2222222222222222,\"#7201a8\"],[0.3333333333333333,\"#9c179e\"],[0.4444444444444444,\"#bd3786\"],[0.5555555555555556,\"#d8576b\"],[0.6666666666666666,\"#ed7953\"],[0.7777777777777778,\"#fb9f3a\"],[0.8888888888888888,\"#fdca26\"],[1.0,\"#f0f921\"]],\"type\":\"histogram2dcontour\"}],\"histogram2d\":[{\"colorbar\":{\"outlinewidth\":0,\"ticks\":\"\"},\"colorscale\":[[0.0,\"#0d0887\"],[0.1111111111111111,\"#46039f\"],[0.2222222222222222,\"#7201a8\"],[0.3333333333333333,\"#9c179e\"],[0.4444444444444444,\"#bd3786\"],[0.5555555555555556,\"#d8576b\"],[0.6666666666666666,\"#ed7953\"],[0.7777777777777778,\"#fb9f3a\"],[0.8888888888888888,\"#fdca26\"],[1.0,\"#f0f921\"]],\"type\":\"histogram2d\"}],\"histogram\":[{\"marker\":{\"pattern\":{\"fillmode\":\"overlay\",\"size\":10,\"solidity\":0.2}},\"type\":\"histogram\"}],\"mesh3d\":[{\"colorbar\":{\"outlinewidth\":0,\"ticks\":\"\"},\"type\":\"mesh3d\"}],\"parcoords\":[{\"line\":{\"colorbar\":{\"outlinewidth\":0,\"ticks\":\"\"}},\"type\":\"parcoords\"}],\"pie\":[{\"automargin\":true,\"type\":\"pie\"}],\"scatter3d\":[{\"line\":{\"colorbar\":{\"outlinewidth\":0,\"ticks\":\"\"}},\"marker\":{\"colorbar\":{\"outlinewidth\":0,\"ticks\":\"\"}},\"type\":\"scatter3d\"}],\"scattercarpet\":[{\"marker\":{\"colorbar\":{\"outlinewidth\":0,\"ticks\":\"\"}},\"type\":\"scattercarpet\"}],\"scattergeo\":[{\"marker\":{\"colorbar\":{\"outlinewidth\":0,\"ticks\":\"\"}},\"type\":\"scattergeo\"}],\"scattergl\":[{\"marker\":{\"colorbar\":{\"outlinewidth\":0,\"ticks\":\"\"}},\"type\":\"scattergl\"}],\"scattermapbox\":[{\"marker\":{\"colorbar\":{\"outlinewidth\":0,\"ticks\":\"\"}},\"type\":\"scattermapbox\"}],\"scatterpolargl\":[{\"marker\":{\"colorbar\":{\"outlinewidth\":0,\"ticks\":\"\"}},\"type\":\"scatterpolargl\"}],\"scatterpolar\":[{\"marker\":{\"colorbar\":{\"outlinewidth\":0,\"ticks\":\"\"}},\"type\":\"scatterpolar\"}],\"scatter\":[{\"fillpattern\":{\"fillmode\":\"overlay\",\"size\":10,\"solidity\":0.2},\"type\":\"scatter\"}],\"scatterternary\":[{\"marker\":{\"colorbar\":{\"outlinewidth\":0,\"ticks\":\"\"}},\"type\":\"scatterternary\"}],\"surface\":[{\"colorbar\":{\"outlinewidth\":0,\"ticks\":\"\"},\"colorscale\":[[0.0,\"#0d0887\"],[0.1111111111111111,\"#46039f\"],[0.2222222222222222,\"#7201a8\"],[0.3333333333333333,\"#9c179e\"],[0.4444444444444444,\"#bd3786\"],[0.5555555555555556,\"#d8576b\"],[0.6666666666666666,\"#ed7953\"],[0.7777777777777778,\"#fb9f3a\"],[0.8888888888888888,\"#fdca26\"],[1.0,\"#f0f921\"]],\"type\":\"surface\"}],\"table\":[{\"cells\":{\"fill\":{\"color\":\"#EBF0F8\"},\"line\":{\"color\":\"white\"}},\"header\":{\"fill\":{\"color\":\"#C8D4E3\"},\"line\":{\"color\":\"white\"}},\"type\":\"table\"}]},\"layout\":{\"annotationdefaults\":{\"arrowcolor\":\"#2a3f5f\",\"arrowhead\":0,\"arrowwidth\":1},\"autotypenumbers\":\"strict\",\"coloraxis\":{\"colorbar\":{\"outlinewidth\":0,\"ticks\":\"\"}},\"colorscale\":{\"diverging\":[[0,\"#8e0152\"],[0.1,\"#c51b7d\"],[0.2,\"#de77ae\"],[0.3,\"#f1b6da\"],[0.4,\"#fde0ef\"],[0.5,\"#f7f7f7\"],[0.6,\"#e6f5d0\"],[0.7,\"#b8e186\"],[0.8,\"#7fbc41\"],[0.9,\"#4d9221\"],[1,\"#276419\"]],\"sequential\":[[0.0,\"#0d0887\"],[0.1111111111111111,\"#46039f\"],[0.2222222222222222,\"#7201a8\"],[0.3333333333333333,\"#9c179e\"],[0.4444444444444444,\"#bd3786\"],[0.5555555555555556,\"#d8576b\"],[0.6666666666666666,\"#ed7953\"],[0.7777777777777778,\"#fb9f3a\"],[0.8888888888888888,\"#fdca26\"],[1.0,\"#f0f921\"]],\"sequentialminus\":[[0.0,\"#0d0887\"],[0.1111111111111111,\"#46039f\"],[0.2222222222222222,\"#7201a8\"],[0.3333333333333333,\"#9c179e\"],[0.4444444444444444,\"#bd3786\"],[0.5555555555555556,\"#d8576b\"],[0.6666666666666666,\"#ed7953\"],[0.7777777777777778,\"#fb9f3a\"],[0.8888888888888888,\"#fdca26\"],[1.0,\"#f0f921\"]]},\"colorway\":[\"#636efa\",\"#EF553B\",\"#00cc96\",\"#ab63fa\",\"#FFA15A\",\"#19d3f3\",\"#FF6692\",\"#B6E880\",\"#FF97FF\",\"#FECB52\"],\"font\":{\"color\":\"#2a3f5f\"},\"geo\":{\"bgcolor\":\"white\",\"lakecolor\":\"white\",\"landcolor\":\"#E5ECF6\",\"showlakes\":true,\"showland\":true,\"subunitcolor\":\"white\"},\"hoverlabel\":{\"align\":\"left\"},\"hovermode\":\"closest\",\"mapbox\":{\"style\":\"light\"},\"paper_bgcolor\":\"white\",\"plot_bgcolor\":\"#E5ECF6\",\"polar\":{\"angularaxis\":{\"gridcolor\":\"white\",\"linecolor\":\"white\",\"ticks\":\"\"},\"bgcolor\":\"#E5ECF6\",\"radialaxis\":{\"gridcolor\":\"white\",\"linecolor\":\"white\",\"ticks\":\"\"}},\"scene\":{\"xaxis\":{\"backgroundcolor\":\"#E5ECF6\",\"gridcolor\":\"white\",\"gridwidth\":2,\"linecolor\":\"white\",\"showbackground\":true,\"ticks\":\"\",\"zerolinecolor\":\"white\"},\"yaxis\":{\"backgroundcolor\":\"#E5ECF6\",\"gridcolor\":\"white\",\"gridwidth\":2,\"linecolor\":\"white\",\"showbackground\":true,\"ticks\":\"\",\"zerolinecolor\":\"white\"},\"zaxis\":{\"backgroundcolor\":\"#E5ECF6\",\"gridcolor\":\"white\",\"gridwidth\":2,\"linecolor\":\"white\",\"showbackground\":true,\"ticks\":\"\",\"zerolinecolor\":\"white\"}},\"shapedefaults\":{\"line\":{\"color\":\"#2a3f5f\"}},\"ternary\":{\"aaxis\":{\"gridcolor\":\"white\",\"linecolor\":\"white\",\"ticks\":\"\"},\"baxis\":{\"gridcolor\":\"white\",\"linecolor\":\"white\",\"ticks\":\"\"},\"bgcolor\":\"#E5ECF6\",\"caxis\":{\"gridcolor\":\"white\",\"linecolor\":\"white\",\"ticks\":\"\"}},\"title\":{\"x\":0.05},\"xaxis\":{\"automargin\":true,\"gridcolor\":\"white\",\"linecolor\":\"white\",\"ticks\":\"\",\"title\":{\"standoff\":15},\"zerolinecolor\":\"white\",\"zerolinewidth\":2},\"yaxis\":{\"automargin\":true,\"gridcolor\":\"white\",\"linecolor\":\"white\",\"ticks\":\"\",\"title\":{\"standoff\":15},\"zerolinecolor\":\"white\",\"zerolinewidth\":2}}},\"title\":{\"font\":{\"color\":\"#4D5663\"}},\"xaxis\":{\"gridcolor\":\"#E1E5ED\",\"showgrid\":true,\"tickfont\":{\"color\":\"#4D5663\"},\"title\":{\"font\":{\"color\":\"#4D5663\"},\"text\":\"\"},\"zerolinecolor\":\"#E1E5ED\"},\"yaxis\":{\"gridcolor\":\"#E1E5ED\",\"showgrid\":true,\"tickfont\":{\"color\":\"#4D5663\"},\"title\":{\"font\":{\"color\":\"#4D5663\"},\"text\":\"\"},\"zerolinecolor\":\"#E1E5ED\"}},                        {\"showLink\": true, \"linkText\": \"Export to plot.ly\", \"plotlyServerURL\": \"https://plot.ly\", \"responsive\": true}                    ).then(function(){\n",
       "                            \n",
       "var gd = document.getElementById('ab85cee4-b754-4751-83a0-4d77884e2545');\n",
       "var x = new MutationObserver(function (mutations, observer) {{\n",
       "        var display = window.getComputedStyle(gd).display;\n",
       "        if (!display || display === 'none') {{\n",
       "            console.log([gd, 'removed!']);\n",
       "            Plotly.purge(gd);\n",
       "            observer.disconnect();\n",
       "        }}\n",
       "}});\n",
       "\n",
       "// Listen for the removal of the full notebook cells\n",
       "var notebookContainer = gd.closest('#notebook-container');\n",
       "if (notebookContainer) {{\n",
       "    x.observe(notebookContainer, {childList: true});\n",
       "}}\n",
       "\n",
       "// Listen for the clearing of the current output cell\n",
       "var outputEl = gd.closest('.output');\n",
       "if (outputEl) {{\n",
       "    x.observe(outputEl, {childList: true});\n",
       "}}\n",
       "\n",
       "                        })                };                });            </script>        </div>"
      ]
     },
     "metadata": {},
     "output_type": "display_data"
    }
   ],
   "source": [
    "df.iplot(kind='bubble',x='A',y='B',size='C')"
   ]
  },
  {
   "cell_type": "markdown",
   "metadata": {},
   "source": [
    "## scatter_matrix()\n",
    "\n",
    "Similar a sns.pairplot()"
   ]
  },
  {
   "cell_type": "code",
   "execution_count": 17,
   "metadata": {},
   "outputs": [
    {
     "data": {
      "application/vnd.plotly.v1+json": {
       "config": {
        "linkText": "Export to plot.ly",
        "plotlyServerURL": "https://plot.ly",
        "showLink": true
       },
       "data": [
        {
         "histfunc": "count",
         "histnorm": "",
         "marker": {
          "color": "rgba(255, 153, 51, 1.0)",
          "line": {
           "color": "#4D5663",
           "width": 1.3
          }
         },
         "name": "A",
         "nbinsx": 10,
         "opacity": 0.8,
         "orientation": "v",
         "type": "histogram",
         "x": [
          -1.6201976890972134,
          1.179015368276081,
          -1.6214936519133512,
          0.03047124553832825,
          -0.2526286104197828,
          -0.9379499246694599,
          0.8269671650355134,
          0.38325540578942224,
          -1.3369240350745981,
          -0.1571043386951906,
          -0.47374238434467664,
          0.023099309943598014,
          0.733279230152324,
          0.4327892353101228,
          0.7866427226972601,
          0.8193153509882917,
          -0.6573163617758523,
          1.1080405429061686,
          -1.6288423934815082,
          0.19327248550973222,
          0.4670318890218097,
          0.24344411424644669,
          -1.3311134389816102,
          1.1620551223577433,
          1.2912876489780356,
          0.18104564980079738,
          -0.920957826249496,
          0.8153373278150663,
          0.4141237490605079,
          -1.2233923269366347,
          1.1809931936702687,
          -0.7472502325260357,
          0.7316732664119959,
          -0.24907740141754095,
          -1.856039241555898,
          0.48557905752155645,
          0.942283881961478,
          0.3578556108847455,
          -1.8677443406725636,
          1.0023813900186556,
          -0.2507150736742075,
          -0.9952209282809444,
          0.3996845671425887,
          -0.9446255241307885,
          -0.04225580624092134,
          -0.3506283854717632,
          1.413574037050735,
          -1.0317515856596224,
          1.480630113279642,
          0.39947797467673907,
          -0.6931505541669951,
          0.5821102631893128,
          0.4962188462986672,
          -0.2581590569711388,
          0.8973741639491336,
          -0.10080319290798798,
          -0.15464812870423214,
          0.8678202284599688,
          1.4082624375863562,
          -1.9604410319949725,
          1.5980717080218183,
          1.2573680424497145,
          0.8735081041173356,
          -1.0539724794624896,
          0.14895184661081642,
          1.0605146334574904,
          1.2608514085352878,
          0.240971785315486,
          0.2748063637274384,
          0.3539595539621846,
          1.2342208918053148,
          0.7223660874952281,
          -0.8641043702663473,
          -1.722594215592153,
          0.5522634434427093,
          -0.49545212848549014,
          -0.4298662616575933,
          0.8912737176769494,
          0.7827711272796617,
          1.2401269084078836,
          0.708741330504012,
          -0.7042768008570168,
          2.0624212994254996,
          -0.8775630823875434,
          -0.5172012578681376,
          0.08542921152016249,
          -0.9155834771940242,
          0.009828356120732294,
          -2.0744709535958066,
          0.22643759282650308,
          -0.5150997924470277,
          1.1698742620669689,
          1.666037436029818,
          0.2548941811062244,
          -0.11358095313937175,
          1.8217550714168769,
          -1.1735435230757323,
          -0.7592093728741733,
          -0.2988109427460776,
          0.9961206466322576
         ],
         "xaxis": "x",
         "yaxis": "y"
        },
        {
         "line": {
          "color": "rgba(128, 128, 128, 1.0)",
          "dash": "solid",
          "shape": "linear",
          "width": 1.3
         },
         "marker": {
          "size": 2,
          "symbol": "circle"
         },
         "mode": "markers",
         "name": "A",
         "text": "",
         "type": "scatter",
         "x": [
          0.8297594902124418,
          -0.2783114996995031,
          -1.5289569523977877,
          -0.024712108089802683,
          -0.0247326672640995,
          -0.22748462092405278,
          -1.2046557250956362,
          -0.492574198134032,
          -0.8277087842007413,
          -0.5268682018178362,
          -0.7466368292324888,
          -1.6747939271306416,
          0.5515156661553242,
          -1.4772162733955383,
          -0.4254126914075391,
          -0.7914420736295171,
          -0.7253414533807264,
          -1.261797119079572,
          -1.2962240385283845,
          0.24117064460294366,
          1.0626596268890234,
          0.3330657373571715,
          -0.8173888046756824,
          0.625709231685683,
          0.9497207509658698,
          -0.7209576199345601,
          0.6113091443302957,
          0.09729281095671156,
          -0.7720024468971365,
          0.5930894634932572,
          1.5483268480595687,
          0.522617504572752,
          -0.9098182135648303,
          0.8715182286216513,
          -1.2908008408179037,
          -0.6816068106752934,
          0.30578782752968925,
          0.1326510272491607,
          0.36890944266358217,
          -0.4915204209445604,
          -0.1294344400609409,
          -0.4139232476620148,
          0.4904096710435924,
          -0.5021389171965049,
          -0.7041451895138741,
          1.915610746784163,
          -0.9811622770096722,
          0.41472580478141413,
          -0.00030173699829042525,
          -0.07742300302041409,
          0.03821276810804631,
          0.71686602330355,
          0.7574747053680021,
          0.9042140473633455,
          0.09759224671913559,
          -1.1803292048548368,
          -0.026214865627643223,
          -0.5459197506001886,
          0.7467193926971661,
          0.5431577761382423,
          0.210930427755455,
          1.2499441487288871,
          -3.048441413801019,
          0.02508455116907912,
          0.5476447945766364,
          -0.7718383664981547,
          -1.6821314507638936,
          -0.07769256589389573,
          1.4900168390869943,
          -0.8953597891744572,
          -0.33672148128028784,
          -0.7566801384767264,
          -0.43941583681939644,
          -0.6412448031731541,
          -0.5172857599200201,
          0.45956923847605186,
          1.8116969199744073,
          -0.5781802190947594,
          0.770776684992134,
          0.8627961753027991,
          -1.1575397220968435,
          0.8197478512094455,
          0.23064721862991777,
          0.008127836945889876,
          -0.7556460615903183,
          -0.6583060701628153,
          0.15637623791267963,
          -0.07895953358710191,
          -0.4364679669264129,
          1.636674909247799,
          -1.1480973336937255,
          -1.4056268439017143,
          0.7341548146711661,
          -0.1993410576061871,
          0.05287239073333219,
          0.6179748443438318,
          0.5181127568744494,
          -0.025898918350763307,
          0.23189176039414636,
          -0.3260572062212705
         ],
         "xaxis": "x2",
         "y": [
          -1.6201976890972134,
          1.179015368276081,
          -1.6214936519133512,
          0.03047124553832825,
          -0.2526286104197828,
          -0.9379499246694599,
          0.8269671650355134,
          0.38325540578942224,
          -1.3369240350745981,
          -0.1571043386951906,
          -0.47374238434467664,
          0.023099309943598014,
          0.733279230152324,
          0.4327892353101228,
          0.7866427226972601,
          0.8193153509882917,
          -0.6573163617758523,
          1.1080405429061686,
          -1.6288423934815082,
          0.19327248550973222,
          0.4670318890218097,
          0.24344411424644669,
          -1.3311134389816102,
          1.1620551223577433,
          1.2912876489780356,
          0.18104564980079738,
          -0.920957826249496,
          0.8153373278150663,
          0.4141237490605079,
          -1.2233923269366347,
          1.1809931936702687,
          -0.7472502325260357,
          0.7316732664119959,
          -0.24907740141754095,
          -1.856039241555898,
          0.48557905752155645,
          0.942283881961478,
          0.3578556108847455,
          -1.8677443406725636,
          1.0023813900186556,
          -0.2507150736742075,
          -0.9952209282809444,
          0.3996845671425887,
          -0.9446255241307885,
          -0.04225580624092134,
          -0.3506283854717632,
          1.413574037050735,
          -1.0317515856596224,
          1.480630113279642,
          0.39947797467673907,
          -0.6931505541669951,
          0.5821102631893128,
          0.4962188462986672,
          -0.2581590569711388,
          0.8973741639491336,
          -0.10080319290798798,
          -0.15464812870423214,
          0.8678202284599688,
          1.4082624375863562,
          -1.9604410319949725,
          1.5980717080218183,
          1.2573680424497145,
          0.8735081041173356,
          -1.0539724794624896,
          0.14895184661081642,
          1.0605146334574904,
          1.2608514085352878,
          0.240971785315486,
          0.2748063637274384,
          0.3539595539621846,
          1.2342208918053148,
          0.7223660874952281,
          -0.8641043702663473,
          -1.722594215592153,
          0.5522634434427093,
          -0.49545212848549014,
          -0.4298662616575933,
          0.8912737176769494,
          0.7827711272796617,
          1.2401269084078836,
          0.708741330504012,
          -0.7042768008570168,
          2.0624212994254996,
          -0.8775630823875434,
          -0.5172012578681376,
          0.08542921152016249,
          -0.9155834771940242,
          0.009828356120732294,
          -2.0744709535958066,
          0.22643759282650308,
          -0.5150997924470277,
          1.1698742620669689,
          1.666037436029818,
          0.2548941811062244,
          -0.11358095313937175,
          1.8217550714168769,
          -1.1735435230757323,
          -0.7592093728741733,
          -0.2988109427460776,
          0.9961206466322576
         ],
         "yaxis": "y2"
        },
        {
         "line": {
          "color": "rgba(128, 128, 128, 1.0)",
          "dash": "solid",
          "shape": "linear",
          "width": 1.3
         },
         "marker": {
          "size": 2,
          "symbol": "circle"
         },
         "mode": "markers",
         "name": "A",
         "text": "",
         "type": "scatter",
         "x": [
          0.1932594339729936,
          -0.7346078843467054,
          1.626721586718804,
          0.8622725100067306,
          1.884882371317921,
          0.07565611487999387,
          -0.949282879507972,
          0.2492832253090776,
          0.1617069952641982,
          -0.38744803932455996,
          1.2323303086749207,
          -1.190017637158588,
          -0.16830389117711506,
          -0.18386571758090633,
          1.0416557307064032,
          -0.042683927280048564,
          -0.17943027443046825,
          0.09377608525222707,
          -0.34648028893403987,
          -1.3457124779089722,
          -0.5525422427384641,
          -2.504073711790753,
          0.08250692893788068,
          -0.15041226213454875,
          0.9564631115478902,
          0.994484222083241,
          1.916197578201942,
          -0.05732294129786576,
          0.249732100104231,
          -1.4408748388524284,
          -0.09296563888149552,
          -0.8365210168918193,
          2.2407072892749627,
          2.1106343291381227,
          -1.6861403986523635,
          -1.034440193799756,
          -1.4444378857153906,
          0.9364318540717749,
          1.2222570551045786,
          1.3047617801280775,
          -1.1952725755094704,
          0.3975262202920816,
          -0.7644800997365796,
          -1.5256011134179415,
          -1.8422218739969782,
          0.47260623440965754,
          1.1740354691983002,
          1.1638292965378618,
          0.7534688339655372,
          0.510374090916698,
          -0.14746026760231526,
          -1.4386063987093967,
          -0.10994209372314256,
          0.041850402730792255,
          0.4484838739564346,
          -0.2808213728997883,
          -0.6930274130372971,
          0.3620875780636234,
          2.248105842946969,
          0.7677277190660735,
          1.7172351693725438,
          0.3263861424187183,
          -0.17999655658451777,
          1.020187272897391,
          -0.958610339512646,
          0.7001642445280409,
          0.05607639606367041,
          -0.2660137814733033,
          0.29983991626422046,
          0.5910217437942568,
          -1.5668057130023978,
          -0.19591809005778352,
          2.4233025514867097,
          0.17546165225853128,
          0.6180205093993774,
          1.9911965539946757,
          0.8775026671228272,
          1.0197265883044442,
          1.1154042158684525,
          0.258128501474009,
          -0.20453836003383732,
          -0.46786072204702805,
          -0.24717581477741823,
          0.21092813592563098,
          1.0496994092450707,
          0.9117689173929281,
          -1.0835439860947247,
          -1.5513057361359273,
          1.533950647696765,
          0.5479409348589601,
          0.4942596004016569,
          -0.72466919800214,
          0.5544445395611213,
          0.4671857417000131,
          0.10548935770946632,
          -0.5398544505298176,
          0.8210475207158915,
          -0.4387802832146619,
          -0.789397221731786,
          -1.044080379036547
         ],
         "xaxis": "x3",
         "y": [
          -1.6201976890972134,
          1.179015368276081,
          -1.6214936519133512,
          0.03047124553832825,
          -0.2526286104197828,
          -0.9379499246694599,
          0.8269671650355134,
          0.38325540578942224,
          -1.3369240350745981,
          -0.1571043386951906,
          -0.47374238434467664,
          0.023099309943598014,
          0.733279230152324,
          0.4327892353101228,
          0.7866427226972601,
          0.8193153509882917,
          -0.6573163617758523,
          1.1080405429061686,
          -1.6288423934815082,
          0.19327248550973222,
          0.4670318890218097,
          0.24344411424644669,
          -1.3311134389816102,
          1.1620551223577433,
          1.2912876489780356,
          0.18104564980079738,
          -0.920957826249496,
          0.8153373278150663,
          0.4141237490605079,
          -1.2233923269366347,
          1.1809931936702687,
          -0.7472502325260357,
          0.7316732664119959,
          -0.24907740141754095,
          -1.856039241555898,
          0.48557905752155645,
          0.942283881961478,
          0.3578556108847455,
          -1.8677443406725636,
          1.0023813900186556,
          -0.2507150736742075,
          -0.9952209282809444,
          0.3996845671425887,
          -0.9446255241307885,
          -0.04225580624092134,
          -0.3506283854717632,
          1.413574037050735,
          -1.0317515856596224,
          1.480630113279642,
          0.39947797467673907,
          -0.6931505541669951,
          0.5821102631893128,
          0.4962188462986672,
          -0.2581590569711388,
          0.8973741639491336,
          -0.10080319290798798,
          -0.15464812870423214,
          0.8678202284599688,
          1.4082624375863562,
          -1.9604410319949725,
          1.5980717080218183,
          1.2573680424497145,
          0.8735081041173356,
          -1.0539724794624896,
          0.14895184661081642,
          1.0605146334574904,
          1.2608514085352878,
          0.240971785315486,
          0.2748063637274384,
          0.3539595539621846,
          1.2342208918053148,
          0.7223660874952281,
          -0.8641043702663473,
          -1.722594215592153,
          0.5522634434427093,
          -0.49545212848549014,
          -0.4298662616575933,
          0.8912737176769494,
          0.7827711272796617,
          1.2401269084078836,
          0.708741330504012,
          -0.7042768008570168,
          2.0624212994254996,
          -0.8775630823875434,
          -0.5172012578681376,
          0.08542921152016249,
          -0.9155834771940242,
          0.009828356120732294,
          -2.0744709535958066,
          0.22643759282650308,
          -0.5150997924470277,
          1.1698742620669689,
          1.666037436029818,
          0.2548941811062244,
          -0.11358095313937175,
          1.8217550714168769,
          -1.1735435230757323,
          -0.7592093728741733,
          -0.2988109427460776,
          0.9961206466322576
         ],
         "yaxis": "y3"
        },
        {
         "line": {
          "color": "rgba(128, 128, 128, 1.0)",
          "dash": "solid",
          "shape": "linear",
          "width": 1.3
         },
         "marker": {
          "size": 2,
          "symbol": "circle"
         },
         "mode": "markers",
         "name": "A",
         "text": "",
         "type": "scatter",
         "x": [
          -1.020585532104849,
          -0.18513196930458953,
          -0.11883591656360529,
          -0.7522046588377137,
          0.881270411969169,
          -1.981988402972321,
          -0.4422213258758372,
          -0.4140964834744494,
          1.8126299977314346,
          -1.3582757744531162,
          -0.484307177266452,
          1.8037133531513976,
          0.23483738063352344,
          0.06886781920886893,
          -1.3799821939197057,
          -0.38278138332968387,
          -0.11244952400790263,
          -0.41955249919085846,
          0.5374444455616131,
          1.5766646336108878,
          0.08588028544915151,
          1.8926990198665814,
          0.6745863813188062,
          0.11370432687091656,
          1.4065022224072763,
          1.187090103750366,
          1.6159262715902416,
          0.2986846628834985,
          1.1645777108923328,
          -0.054044264837159225,
          0.871821866165794,
          0.1312393660762424,
          -1.503588660141973,
          0.928161639443395,
          -2.0076573984129835,
          -0.507029557707517,
          0.27686131156773597,
          1.0708906645885086,
          -1.5385554399791093,
          1.016068173942248,
          0.05622769910926885,
          -0.2882650024163722,
          0.6363537922080305,
          0.073725604414638,
          0.3285723247491967,
          -1.7343932874540129,
          1.0588561536049186,
          -1.8769000961813378,
          0.3771656605780358,
          0.5634974256306269,
          -0.6579280052841321,
          -1.7959243405787828,
          0.3637870659087675,
          0.4293325657906903,
          0.20118975505843892,
          0.8854838002655384,
          -1.2792893415435076,
          0.6627474484339916,
          -0.294672638352821,
          0.18559336111661404,
          -1.3180249202926333,
          -0.00993711607304854,
          0.05632444888686588,
          0.24945573162611462,
          1.6967401265137056,
          -0.04758116588982786,
          -0.27432027237511075,
          2.752971402389824,
          0.25021784686271226,
          -0.9344546214700837,
          -1.007773328606728,
          -1.3808013824829755,
          -0.44495295255214856,
          1.2321247407376885,
          0.2502942580950086,
          0.4175198782527313,
          1.2610120638295061,
          0.8009675626514536,
          -1.0126403790973382,
          0.07580175783164618,
          -1.1276742790098706,
          0.73446071160847,
          -0.28528370082117027,
          0.1842871502142503,
          0.9509220004462754,
          -0.7413038414120923,
          0.31598158062493925,
          -0.7754703911684763,
          -1.0716451747857663,
          -1.7530491683416134,
          1.6018744796518758,
          0.7050485640500473,
          1.1267463141808924,
          -0.8122305113474759,
          0.7350116263813458,
          -0.5560005979079157,
          -0.80468013038522,
          1.8670551852408603,
          1.6787238800694197,
          0.3157348580927388
         ],
         "xaxis": "x4",
         "y": [
          -1.6201976890972134,
          1.179015368276081,
          -1.6214936519133512,
          0.03047124553832825,
          -0.2526286104197828,
          -0.9379499246694599,
          0.8269671650355134,
          0.38325540578942224,
          -1.3369240350745981,
          -0.1571043386951906,
          -0.47374238434467664,
          0.023099309943598014,
          0.733279230152324,
          0.4327892353101228,
          0.7866427226972601,
          0.8193153509882917,
          -0.6573163617758523,
          1.1080405429061686,
          -1.6288423934815082,
          0.19327248550973222,
          0.4670318890218097,
          0.24344411424644669,
          -1.3311134389816102,
          1.1620551223577433,
          1.2912876489780356,
          0.18104564980079738,
          -0.920957826249496,
          0.8153373278150663,
          0.4141237490605079,
          -1.2233923269366347,
          1.1809931936702687,
          -0.7472502325260357,
          0.7316732664119959,
          -0.24907740141754095,
          -1.856039241555898,
          0.48557905752155645,
          0.942283881961478,
          0.3578556108847455,
          -1.8677443406725636,
          1.0023813900186556,
          -0.2507150736742075,
          -0.9952209282809444,
          0.3996845671425887,
          -0.9446255241307885,
          -0.04225580624092134,
          -0.3506283854717632,
          1.413574037050735,
          -1.0317515856596224,
          1.480630113279642,
          0.39947797467673907,
          -0.6931505541669951,
          0.5821102631893128,
          0.4962188462986672,
          -0.2581590569711388,
          0.8973741639491336,
          -0.10080319290798798,
          -0.15464812870423214,
          0.8678202284599688,
          1.4082624375863562,
          -1.9604410319949725,
          1.5980717080218183,
          1.2573680424497145,
          0.8735081041173356,
          -1.0539724794624896,
          0.14895184661081642,
          1.0605146334574904,
          1.2608514085352878,
          0.240971785315486,
          0.2748063637274384,
          0.3539595539621846,
          1.2342208918053148,
          0.7223660874952281,
          -0.8641043702663473,
          -1.722594215592153,
          0.5522634434427093,
          -0.49545212848549014,
          -0.4298662616575933,
          0.8912737176769494,
          0.7827711272796617,
          1.2401269084078836,
          0.708741330504012,
          -0.7042768008570168,
          2.0624212994254996,
          -0.8775630823875434,
          -0.5172012578681376,
          0.08542921152016249,
          -0.9155834771940242,
          0.009828356120732294,
          -2.0744709535958066,
          0.22643759282650308,
          -0.5150997924470277,
          1.1698742620669689,
          1.666037436029818,
          0.2548941811062244,
          -0.11358095313937175,
          1.8217550714168769,
          -1.1735435230757323,
          -0.7592093728741733,
          -0.2988109427460776,
          0.9961206466322576
         ],
         "yaxis": "y4"
        },
        {
         "line": {
          "color": "rgba(128, 128, 128, 1.0)",
          "dash": "solid",
          "shape": "linear",
          "width": 1.3
         },
         "marker": {
          "size": 2,
          "symbol": "circle"
         },
         "mode": "markers",
         "name": "B",
         "text": "",
         "type": "scatter",
         "x": [
          -1.6201976890972134,
          1.179015368276081,
          -1.6214936519133512,
          0.03047124553832825,
          -0.2526286104197828,
          -0.9379499246694599,
          0.8269671650355134,
          0.38325540578942224,
          -1.3369240350745981,
          -0.1571043386951906,
          -0.47374238434467664,
          0.023099309943598014,
          0.733279230152324,
          0.4327892353101228,
          0.7866427226972601,
          0.8193153509882917,
          -0.6573163617758523,
          1.1080405429061686,
          -1.6288423934815082,
          0.19327248550973222,
          0.4670318890218097,
          0.24344411424644669,
          -1.3311134389816102,
          1.1620551223577433,
          1.2912876489780356,
          0.18104564980079738,
          -0.920957826249496,
          0.8153373278150663,
          0.4141237490605079,
          -1.2233923269366347,
          1.1809931936702687,
          -0.7472502325260357,
          0.7316732664119959,
          -0.24907740141754095,
          -1.856039241555898,
          0.48557905752155645,
          0.942283881961478,
          0.3578556108847455,
          -1.8677443406725636,
          1.0023813900186556,
          -0.2507150736742075,
          -0.9952209282809444,
          0.3996845671425887,
          -0.9446255241307885,
          -0.04225580624092134,
          -0.3506283854717632,
          1.413574037050735,
          -1.0317515856596224,
          1.480630113279642,
          0.39947797467673907,
          -0.6931505541669951,
          0.5821102631893128,
          0.4962188462986672,
          -0.2581590569711388,
          0.8973741639491336,
          -0.10080319290798798,
          -0.15464812870423214,
          0.8678202284599688,
          1.4082624375863562,
          -1.9604410319949725,
          1.5980717080218183,
          1.2573680424497145,
          0.8735081041173356,
          -1.0539724794624896,
          0.14895184661081642,
          1.0605146334574904,
          1.2608514085352878,
          0.240971785315486,
          0.2748063637274384,
          0.3539595539621846,
          1.2342208918053148,
          0.7223660874952281,
          -0.8641043702663473,
          -1.722594215592153,
          0.5522634434427093,
          -0.49545212848549014,
          -0.4298662616575933,
          0.8912737176769494,
          0.7827711272796617,
          1.2401269084078836,
          0.708741330504012,
          -0.7042768008570168,
          2.0624212994254996,
          -0.8775630823875434,
          -0.5172012578681376,
          0.08542921152016249,
          -0.9155834771940242,
          0.009828356120732294,
          -2.0744709535958066,
          0.22643759282650308,
          -0.5150997924470277,
          1.1698742620669689,
          1.666037436029818,
          0.2548941811062244,
          -0.11358095313937175,
          1.8217550714168769,
          -1.1735435230757323,
          -0.7592093728741733,
          -0.2988109427460776,
          0.9961206466322576
         ],
         "xaxis": "x5",
         "y": [
          0.8297594902124418,
          -0.2783114996995031,
          -1.5289569523977877,
          -0.024712108089802683,
          -0.0247326672640995,
          -0.22748462092405278,
          -1.2046557250956362,
          -0.492574198134032,
          -0.8277087842007413,
          -0.5268682018178362,
          -0.7466368292324888,
          -1.6747939271306416,
          0.5515156661553242,
          -1.4772162733955383,
          -0.4254126914075391,
          -0.7914420736295171,
          -0.7253414533807264,
          -1.261797119079572,
          -1.2962240385283845,
          0.24117064460294366,
          1.0626596268890234,
          0.3330657373571715,
          -0.8173888046756824,
          0.625709231685683,
          0.9497207509658698,
          -0.7209576199345601,
          0.6113091443302957,
          0.09729281095671156,
          -0.7720024468971365,
          0.5930894634932572,
          1.5483268480595687,
          0.522617504572752,
          -0.9098182135648303,
          0.8715182286216513,
          -1.2908008408179037,
          -0.6816068106752934,
          0.30578782752968925,
          0.1326510272491607,
          0.36890944266358217,
          -0.4915204209445604,
          -0.1294344400609409,
          -0.4139232476620148,
          0.4904096710435924,
          -0.5021389171965049,
          -0.7041451895138741,
          1.915610746784163,
          -0.9811622770096722,
          0.41472580478141413,
          -0.00030173699829042525,
          -0.07742300302041409,
          0.03821276810804631,
          0.71686602330355,
          0.7574747053680021,
          0.9042140473633455,
          0.09759224671913559,
          -1.1803292048548368,
          -0.026214865627643223,
          -0.5459197506001886,
          0.7467193926971661,
          0.5431577761382423,
          0.210930427755455,
          1.2499441487288871,
          -3.048441413801019,
          0.02508455116907912,
          0.5476447945766364,
          -0.7718383664981547,
          -1.6821314507638936,
          -0.07769256589389573,
          1.4900168390869943,
          -0.8953597891744572,
          -0.33672148128028784,
          -0.7566801384767264,
          -0.43941583681939644,
          -0.6412448031731541,
          -0.5172857599200201,
          0.45956923847605186,
          1.8116969199744073,
          -0.5781802190947594,
          0.770776684992134,
          0.8627961753027991,
          -1.1575397220968435,
          0.8197478512094455,
          0.23064721862991777,
          0.008127836945889876,
          -0.7556460615903183,
          -0.6583060701628153,
          0.15637623791267963,
          -0.07895953358710191,
          -0.4364679669264129,
          1.636674909247799,
          -1.1480973336937255,
          -1.4056268439017143,
          0.7341548146711661,
          -0.1993410576061871,
          0.05287239073333219,
          0.6179748443438318,
          0.5181127568744494,
          -0.025898918350763307,
          0.23189176039414636,
          -0.3260572062212705
         ],
         "yaxis": "y5"
        },
        {
         "histfunc": "count",
         "histnorm": "",
         "marker": {
          "color": "rgba(55, 128, 191, 1.0)",
          "line": {
           "color": "#4D5663",
           "width": 1.3
          }
         },
         "name": "B",
         "nbinsx": 10,
         "opacity": 0.8,
         "orientation": "v",
         "type": "histogram",
         "x": [
          0.8297594902124418,
          -0.2783114996995031,
          -1.5289569523977877,
          -0.024712108089802683,
          -0.0247326672640995,
          -0.22748462092405278,
          -1.2046557250956362,
          -0.492574198134032,
          -0.8277087842007413,
          -0.5268682018178362,
          -0.7466368292324888,
          -1.6747939271306416,
          0.5515156661553242,
          -1.4772162733955383,
          -0.4254126914075391,
          -0.7914420736295171,
          -0.7253414533807264,
          -1.261797119079572,
          -1.2962240385283845,
          0.24117064460294366,
          1.0626596268890234,
          0.3330657373571715,
          -0.8173888046756824,
          0.625709231685683,
          0.9497207509658698,
          -0.7209576199345601,
          0.6113091443302957,
          0.09729281095671156,
          -0.7720024468971365,
          0.5930894634932572,
          1.5483268480595687,
          0.522617504572752,
          -0.9098182135648303,
          0.8715182286216513,
          -1.2908008408179037,
          -0.6816068106752934,
          0.30578782752968925,
          0.1326510272491607,
          0.36890944266358217,
          -0.4915204209445604,
          -0.1294344400609409,
          -0.4139232476620148,
          0.4904096710435924,
          -0.5021389171965049,
          -0.7041451895138741,
          1.915610746784163,
          -0.9811622770096722,
          0.41472580478141413,
          -0.00030173699829042525,
          -0.07742300302041409,
          0.03821276810804631,
          0.71686602330355,
          0.7574747053680021,
          0.9042140473633455,
          0.09759224671913559,
          -1.1803292048548368,
          -0.026214865627643223,
          -0.5459197506001886,
          0.7467193926971661,
          0.5431577761382423,
          0.210930427755455,
          1.2499441487288871,
          -3.048441413801019,
          0.02508455116907912,
          0.5476447945766364,
          -0.7718383664981547,
          -1.6821314507638936,
          -0.07769256589389573,
          1.4900168390869943,
          -0.8953597891744572,
          -0.33672148128028784,
          -0.7566801384767264,
          -0.43941583681939644,
          -0.6412448031731541,
          -0.5172857599200201,
          0.45956923847605186,
          1.8116969199744073,
          -0.5781802190947594,
          0.770776684992134,
          0.8627961753027991,
          -1.1575397220968435,
          0.8197478512094455,
          0.23064721862991777,
          0.008127836945889876,
          -0.7556460615903183,
          -0.6583060701628153,
          0.15637623791267963,
          -0.07895953358710191,
          -0.4364679669264129,
          1.636674909247799,
          -1.1480973336937255,
          -1.4056268439017143,
          0.7341548146711661,
          -0.1993410576061871,
          0.05287239073333219,
          0.6179748443438318,
          0.5181127568744494,
          -0.025898918350763307,
          0.23189176039414636,
          -0.3260572062212705
         ],
         "xaxis": "x6",
         "yaxis": "y6"
        },
        {
         "line": {
          "color": "rgba(128, 128, 128, 1.0)",
          "dash": "solid",
          "shape": "linear",
          "width": 1.3
         },
         "marker": {
          "size": 2,
          "symbol": "circle"
         },
         "mode": "markers",
         "name": "B",
         "text": "",
         "type": "scatter",
         "x": [
          0.1932594339729936,
          -0.7346078843467054,
          1.626721586718804,
          0.8622725100067306,
          1.884882371317921,
          0.07565611487999387,
          -0.949282879507972,
          0.2492832253090776,
          0.1617069952641982,
          -0.38744803932455996,
          1.2323303086749207,
          -1.190017637158588,
          -0.16830389117711506,
          -0.18386571758090633,
          1.0416557307064032,
          -0.042683927280048564,
          -0.17943027443046825,
          0.09377608525222707,
          -0.34648028893403987,
          -1.3457124779089722,
          -0.5525422427384641,
          -2.504073711790753,
          0.08250692893788068,
          -0.15041226213454875,
          0.9564631115478902,
          0.994484222083241,
          1.916197578201942,
          -0.05732294129786576,
          0.249732100104231,
          -1.4408748388524284,
          -0.09296563888149552,
          -0.8365210168918193,
          2.2407072892749627,
          2.1106343291381227,
          -1.6861403986523635,
          -1.034440193799756,
          -1.4444378857153906,
          0.9364318540717749,
          1.2222570551045786,
          1.3047617801280775,
          -1.1952725755094704,
          0.3975262202920816,
          -0.7644800997365796,
          -1.5256011134179415,
          -1.8422218739969782,
          0.47260623440965754,
          1.1740354691983002,
          1.1638292965378618,
          0.7534688339655372,
          0.510374090916698,
          -0.14746026760231526,
          -1.4386063987093967,
          -0.10994209372314256,
          0.041850402730792255,
          0.4484838739564346,
          -0.2808213728997883,
          -0.6930274130372971,
          0.3620875780636234,
          2.248105842946969,
          0.7677277190660735,
          1.7172351693725438,
          0.3263861424187183,
          -0.17999655658451777,
          1.020187272897391,
          -0.958610339512646,
          0.7001642445280409,
          0.05607639606367041,
          -0.2660137814733033,
          0.29983991626422046,
          0.5910217437942568,
          -1.5668057130023978,
          -0.19591809005778352,
          2.4233025514867097,
          0.17546165225853128,
          0.6180205093993774,
          1.9911965539946757,
          0.8775026671228272,
          1.0197265883044442,
          1.1154042158684525,
          0.258128501474009,
          -0.20453836003383732,
          -0.46786072204702805,
          -0.24717581477741823,
          0.21092813592563098,
          1.0496994092450707,
          0.9117689173929281,
          -1.0835439860947247,
          -1.5513057361359273,
          1.533950647696765,
          0.5479409348589601,
          0.4942596004016569,
          -0.72466919800214,
          0.5544445395611213,
          0.4671857417000131,
          0.10548935770946632,
          -0.5398544505298176,
          0.8210475207158915,
          -0.4387802832146619,
          -0.789397221731786,
          -1.044080379036547
         ],
         "xaxis": "x7",
         "y": [
          0.8297594902124418,
          -0.2783114996995031,
          -1.5289569523977877,
          -0.024712108089802683,
          -0.0247326672640995,
          -0.22748462092405278,
          -1.2046557250956362,
          -0.492574198134032,
          -0.8277087842007413,
          -0.5268682018178362,
          -0.7466368292324888,
          -1.6747939271306416,
          0.5515156661553242,
          -1.4772162733955383,
          -0.4254126914075391,
          -0.7914420736295171,
          -0.7253414533807264,
          -1.261797119079572,
          -1.2962240385283845,
          0.24117064460294366,
          1.0626596268890234,
          0.3330657373571715,
          -0.8173888046756824,
          0.625709231685683,
          0.9497207509658698,
          -0.7209576199345601,
          0.6113091443302957,
          0.09729281095671156,
          -0.7720024468971365,
          0.5930894634932572,
          1.5483268480595687,
          0.522617504572752,
          -0.9098182135648303,
          0.8715182286216513,
          -1.2908008408179037,
          -0.6816068106752934,
          0.30578782752968925,
          0.1326510272491607,
          0.36890944266358217,
          -0.4915204209445604,
          -0.1294344400609409,
          -0.4139232476620148,
          0.4904096710435924,
          -0.5021389171965049,
          -0.7041451895138741,
          1.915610746784163,
          -0.9811622770096722,
          0.41472580478141413,
          -0.00030173699829042525,
          -0.07742300302041409,
          0.03821276810804631,
          0.71686602330355,
          0.7574747053680021,
          0.9042140473633455,
          0.09759224671913559,
          -1.1803292048548368,
          -0.026214865627643223,
          -0.5459197506001886,
          0.7467193926971661,
          0.5431577761382423,
          0.210930427755455,
          1.2499441487288871,
          -3.048441413801019,
          0.02508455116907912,
          0.5476447945766364,
          -0.7718383664981547,
          -1.6821314507638936,
          -0.07769256589389573,
          1.4900168390869943,
          -0.8953597891744572,
          -0.33672148128028784,
          -0.7566801384767264,
          -0.43941583681939644,
          -0.6412448031731541,
          -0.5172857599200201,
          0.45956923847605186,
          1.8116969199744073,
          -0.5781802190947594,
          0.770776684992134,
          0.8627961753027991,
          -1.1575397220968435,
          0.8197478512094455,
          0.23064721862991777,
          0.008127836945889876,
          -0.7556460615903183,
          -0.6583060701628153,
          0.15637623791267963,
          -0.07895953358710191,
          -0.4364679669264129,
          1.636674909247799,
          -1.1480973336937255,
          -1.4056268439017143,
          0.7341548146711661,
          -0.1993410576061871,
          0.05287239073333219,
          0.6179748443438318,
          0.5181127568744494,
          -0.025898918350763307,
          0.23189176039414636,
          -0.3260572062212705
         ],
         "yaxis": "y7"
        },
        {
         "line": {
          "color": "rgba(128, 128, 128, 1.0)",
          "dash": "solid",
          "shape": "linear",
          "width": 1.3
         },
         "marker": {
          "size": 2,
          "symbol": "circle"
         },
         "mode": "markers",
         "name": "B",
         "text": "",
         "type": "scatter",
         "x": [
          -1.020585532104849,
          -0.18513196930458953,
          -0.11883591656360529,
          -0.7522046588377137,
          0.881270411969169,
          -1.981988402972321,
          -0.4422213258758372,
          -0.4140964834744494,
          1.8126299977314346,
          -1.3582757744531162,
          -0.484307177266452,
          1.8037133531513976,
          0.23483738063352344,
          0.06886781920886893,
          -1.3799821939197057,
          -0.38278138332968387,
          -0.11244952400790263,
          -0.41955249919085846,
          0.5374444455616131,
          1.5766646336108878,
          0.08588028544915151,
          1.8926990198665814,
          0.6745863813188062,
          0.11370432687091656,
          1.4065022224072763,
          1.187090103750366,
          1.6159262715902416,
          0.2986846628834985,
          1.1645777108923328,
          -0.054044264837159225,
          0.871821866165794,
          0.1312393660762424,
          -1.503588660141973,
          0.928161639443395,
          -2.0076573984129835,
          -0.507029557707517,
          0.27686131156773597,
          1.0708906645885086,
          -1.5385554399791093,
          1.016068173942248,
          0.05622769910926885,
          -0.2882650024163722,
          0.6363537922080305,
          0.073725604414638,
          0.3285723247491967,
          -1.7343932874540129,
          1.0588561536049186,
          -1.8769000961813378,
          0.3771656605780358,
          0.5634974256306269,
          -0.6579280052841321,
          -1.7959243405787828,
          0.3637870659087675,
          0.4293325657906903,
          0.20118975505843892,
          0.8854838002655384,
          -1.2792893415435076,
          0.6627474484339916,
          -0.294672638352821,
          0.18559336111661404,
          -1.3180249202926333,
          -0.00993711607304854,
          0.05632444888686588,
          0.24945573162611462,
          1.6967401265137056,
          -0.04758116588982786,
          -0.27432027237511075,
          2.752971402389824,
          0.25021784686271226,
          -0.9344546214700837,
          -1.007773328606728,
          -1.3808013824829755,
          -0.44495295255214856,
          1.2321247407376885,
          0.2502942580950086,
          0.4175198782527313,
          1.2610120638295061,
          0.8009675626514536,
          -1.0126403790973382,
          0.07580175783164618,
          -1.1276742790098706,
          0.73446071160847,
          -0.28528370082117027,
          0.1842871502142503,
          0.9509220004462754,
          -0.7413038414120923,
          0.31598158062493925,
          -0.7754703911684763,
          -1.0716451747857663,
          -1.7530491683416134,
          1.6018744796518758,
          0.7050485640500473,
          1.1267463141808924,
          -0.8122305113474759,
          0.7350116263813458,
          -0.5560005979079157,
          -0.80468013038522,
          1.8670551852408603,
          1.6787238800694197,
          0.3157348580927388
         ],
         "xaxis": "x8",
         "y": [
          0.8297594902124418,
          -0.2783114996995031,
          -1.5289569523977877,
          -0.024712108089802683,
          -0.0247326672640995,
          -0.22748462092405278,
          -1.2046557250956362,
          -0.492574198134032,
          -0.8277087842007413,
          -0.5268682018178362,
          -0.7466368292324888,
          -1.6747939271306416,
          0.5515156661553242,
          -1.4772162733955383,
          -0.4254126914075391,
          -0.7914420736295171,
          -0.7253414533807264,
          -1.261797119079572,
          -1.2962240385283845,
          0.24117064460294366,
          1.0626596268890234,
          0.3330657373571715,
          -0.8173888046756824,
          0.625709231685683,
          0.9497207509658698,
          -0.7209576199345601,
          0.6113091443302957,
          0.09729281095671156,
          -0.7720024468971365,
          0.5930894634932572,
          1.5483268480595687,
          0.522617504572752,
          -0.9098182135648303,
          0.8715182286216513,
          -1.2908008408179037,
          -0.6816068106752934,
          0.30578782752968925,
          0.1326510272491607,
          0.36890944266358217,
          -0.4915204209445604,
          -0.1294344400609409,
          -0.4139232476620148,
          0.4904096710435924,
          -0.5021389171965049,
          -0.7041451895138741,
          1.915610746784163,
          -0.9811622770096722,
          0.41472580478141413,
          -0.00030173699829042525,
          -0.07742300302041409,
          0.03821276810804631,
          0.71686602330355,
          0.7574747053680021,
          0.9042140473633455,
          0.09759224671913559,
          -1.1803292048548368,
          -0.026214865627643223,
          -0.5459197506001886,
          0.7467193926971661,
          0.5431577761382423,
          0.210930427755455,
          1.2499441487288871,
          -3.048441413801019,
          0.02508455116907912,
          0.5476447945766364,
          -0.7718383664981547,
          -1.6821314507638936,
          -0.07769256589389573,
          1.4900168390869943,
          -0.8953597891744572,
          -0.33672148128028784,
          -0.7566801384767264,
          -0.43941583681939644,
          -0.6412448031731541,
          -0.5172857599200201,
          0.45956923847605186,
          1.8116969199744073,
          -0.5781802190947594,
          0.770776684992134,
          0.8627961753027991,
          -1.1575397220968435,
          0.8197478512094455,
          0.23064721862991777,
          0.008127836945889876,
          -0.7556460615903183,
          -0.6583060701628153,
          0.15637623791267963,
          -0.07895953358710191,
          -0.4364679669264129,
          1.636674909247799,
          -1.1480973336937255,
          -1.4056268439017143,
          0.7341548146711661,
          -0.1993410576061871,
          0.05287239073333219,
          0.6179748443438318,
          0.5181127568744494,
          -0.025898918350763307,
          0.23189176039414636,
          -0.3260572062212705
         ],
         "yaxis": "y8"
        },
        {
         "line": {
          "color": "rgba(128, 128, 128, 1.0)",
          "dash": "solid",
          "shape": "linear",
          "width": 1.3
         },
         "marker": {
          "size": 2,
          "symbol": "circle"
         },
         "mode": "markers",
         "name": "C",
         "text": "",
         "type": "scatter",
         "x": [
          -1.6201976890972134,
          1.179015368276081,
          -1.6214936519133512,
          0.03047124553832825,
          -0.2526286104197828,
          -0.9379499246694599,
          0.8269671650355134,
          0.38325540578942224,
          -1.3369240350745981,
          -0.1571043386951906,
          -0.47374238434467664,
          0.023099309943598014,
          0.733279230152324,
          0.4327892353101228,
          0.7866427226972601,
          0.8193153509882917,
          -0.6573163617758523,
          1.1080405429061686,
          -1.6288423934815082,
          0.19327248550973222,
          0.4670318890218097,
          0.24344411424644669,
          -1.3311134389816102,
          1.1620551223577433,
          1.2912876489780356,
          0.18104564980079738,
          -0.920957826249496,
          0.8153373278150663,
          0.4141237490605079,
          -1.2233923269366347,
          1.1809931936702687,
          -0.7472502325260357,
          0.7316732664119959,
          -0.24907740141754095,
          -1.856039241555898,
          0.48557905752155645,
          0.942283881961478,
          0.3578556108847455,
          -1.8677443406725636,
          1.0023813900186556,
          -0.2507150736742075,
          -0.9952209282809444,
          0.3996845671425887,
          -0.9446255241307885,
          -0.04225580624092134,
          -0.3506283854717632,
          1.413574037050735,
          -1.0317515856596224,
          1.480630113279642,
          0.39947797467673907,
          -0.6931505541669951,
          0.5821102631893128,
          0.4962188462986672,
          -0.2581590569711388,
          0.8973741639491336,
          -0.10080319290798798,
          -0.15464812870423214,
          0.8678202284599688,
          1.4082624375863562,
          -1.9604410319949725,
          1.5980717080218183,
          1.2573680424497145,
          0.8735081041173356,
          -1.0539724794624896,
          0.14895184661081642,
          1.0605146334574904,
          1.2608514085352878,
          0.240971785315486,
          0.2748063637274384,
          0.3539595539621846,
          1.2342208918053148,
          0.7223660874952281,
          -0.8641043702663473,
          -1.722594215592153,
          0.5522634434427093,
          -0.49545212848549014,
          -0.4298662616575933,
          0.8912737176769494,
          0.7827711272796617,
          1.2401269084078836,
          0.708741330504012,
          -0.7042768008570168,
          2.0624212994254996,
          -0.8775630823875434,
          -0.5172012578681376,
          0.08542921152016249,
          -0.9155834771940242,
          0.009828356120732294,
          -2.0744709535958066,
          0.22643759282650308,
          -0.5150997924470277,
          1.1698742620669689,
          1.666037436029818,
          0.2548941811062244,
          -0.11358095313937175,
          1.8217550714168769,
          -1.1735435230757323,
          -0.7592093728741733,
          -0.2988109427460776,
          0.9961206466322576
         ],
         "xaxis": "x9",
         "y": [
          0.1932594339729936,
          -0.7346078843467054,
          1.626721586718804,
          0.8622725100067306,
          1.884882371317921,
          0.07565611487999387,
          -0.949282879507972,
          0.2492832253090776,
          0.1617069952641982,
          -0.38744803932455996,
          1.2323303086749207,
          -1.190017637158588,
          -0.16830389117711506,
          -0.18386571758090633,
          1.0416557307064032,
          -0.042683927280048564,
          -0.17943027443046825,
          0.09377608525222707,
          -0.34648028893403987,
          -1.3457124779089722,
          -0.5525422427384641,
          -2.504073711790753,
          0.08250692893788068,
          -0.15041226213454875,
          0.9564631115478902,
          0.994484222083241,
          1.916197578201942,
          -0.05732294129786576,
          0.249732100104231,
          -1.4408748388524284,
          -0.09296563888149552,
          -0.8365210168918193,
          2.2407072892749627,
          2.1106343291381227,
          -1.6861403986523635,
          -1.034440193799756,
          -1.4444378857153906,
          0.9364318540717749,
          1.2222570551045786,
          1.3047617801280775,
          -1.1952725755094704,
          0.3975262202920816,
          -0.7644800997365796,
          -1.5256011134179415,
          -1.8422218739969782,
          0.47260623440965754,
          1.1740354691983002,
          1.1638292965378618,
          0.7534688339655372,
          0.510374090916698,
          -0.14746026760231526,
          -1.4386063987093967,
          -0.10994209372314256,
          0.041850402730792255,
          0.4484838739564346,
          -0.2808213728997883,
          -0.6930274130372971,
          0.3620875780636234,
          2.248105842946969,
          0.7677277190660735,
          1.7172351693725438,
          0.3263861424187183,
          -0.17999655658451777,
          1.020187272897391,
          -0.958610339512646,
          0.7001642445280409,
          0.05607639606367041,
          -0.2660137814733033,
          0.29983991626422046,
          0.5910217437942568,
          -1.5668057130023978,
          -0.19591809005778352,
          2.4233025514867097,
          0.17546165225853128,
          0.6180205093993774,
          1.9911965539946757,
          0.8775026671228272,
          1.0197265883044442,
          1.1154042158684525,
          0.258128501474009,
          -0.20453836003383732,
          -0.46786072204702805,
          -0.24717581477741823,
          0.21092813592563098,
          1.0496994092450707,
          0.9117689173929281,
          -1.0835439860947247,
          -1.5513057361359273,
          1.533950647696765,
          0.5479409348589601,
          0.4942596004016569,
          -0.72466919800214,
          0.5544445395611213,
          0.4671857417000131,
          0.10548935770946632,
          -0.5398544505298176,
          0.8210475207158915,
          -0.4387802832146619,
          -0.789397221731786,
          -1.044080379036547
         ],
         "yaxis": "y9"
        },
        {
         "line": {
          "color": "rgba(128, 128, 128, 1.0)",
          "dash": "solid",
          "shape": "linear",
          "width": 1.3
         },
         "marker": {
          "size": 2,
          "symbol": "circle"
         },
         "mode": "markers",
         "name": "C",
         "text": "",
         "type": "scatter",
         "x": [
          0.8297594902124418,
          -0.2783114996995031,
          -1.5289569523977877,
          -0.024712108089802683,
          -0.0247326672640995,
          -0.22748462092405278,
          -1.2046557250956362,
          -0.492574198134032,
          -0.8277087842007413,
          -0.5268682018178362,
          -0.7466368292324888,
          -1.6747939271306416,
          0.5515156661553242,
          -1.4772162733955383,
          -0.4254126914075391,
          -0.7914420736295171,
          -0.7253414533807264,
          -1.261797119079572,
          -1.2962240385283845,
          0.24117064460294366,
          1.0626596268890234,
          0.3330657373571715,
          -0.8173888046756824,
          0.625709231685683,
          0.9497207509658698,
          -0.7209576199345601,
          0.6113091443302957,
          0.09729281095671156,
          -0.7720024468971365,
          0.5930894634932572,
          1.5483268480595687,
          0.522617504572752,
          -0.9098182135648303,
          0.8715182286216513,
          -1.2908008408179037,
          -0.6816068106752934,
          0.30578782752968925,
          0.1326510272491607,
          0.36890944266358217,
          -0.4915204209445604,
          -0.1294344400609409,
          -0.4139232476620148,
          0.4904096710435924,
          -0.5021389171965049,
          -0.7041451895138741,
          1.915610746784163,
          -0.9811622770096722,
          0.41472580478141413,
          -0.00030173699829042525,
          -0.07742300302041409,
          0.03821276810804631,
          0.71686602330355,
          0.7574747053680021,
          0.9042140473633455,
          0.09759224671913559,
          -1.1803292048548368,
          -0.026214865627643223,
          -0.5459197506001886,
          0.7467193926971661,
          0.5431577761382423,
          0.210930427755455,
          1.2499441487288871,
          -3.048441413801019,
          0.02508455116907912,
          0.5476447945766364,
          -0.7718383664981547,
          -1.6821314507638936,
          -0.07769256589389573,
          1.4900168390869943,
          -0.8953597891744572,
          -0.33672148128028784,
          -0.7566801384767264,
          -0.43941583681939644,
          -0.6412448031731541,
          -0.5172857599200201,
          0.45956923847605186,
          1.8116969199744073,
          -0.5781802190947594,
          0.770776684992134,
          0.8627961753027991,
          -1.1575397220968435,
          0.8197478512094455,
          0.23064721862991777,
          0.008127836945889876,
          -0.7556460615903183,
          -0.6583060701628153,
          0.15637623791267963,
          -0.07895953358710191,
          -0.4364679669264129,
          1.636674909247799,
          -1.1480973336937255,
          -1.4056268439017143,
          0.7341548146711661,
          -0.1993410576061871,
          0.05287239073333219,
          0.6179748443438318,
          0.5181127568744494,
          -0.025898918350763307,
          0.23189176039414636,
          -0.3260572062212705
         ],
         "xaxis": "x10",
         "y": [
          0.1932594339729936,
          -0.7346078843467054,
          1.626721586718804,
          0.8622725100067306,
          1.884882371317921,
          0.07565611487999387,
          -0.949282879507972,
          0.2492832253090776,
          0.1617069952641982,
          -0.38744803932455996,
          1.2323303086749207,
          -1.190017637158588,
          -0.16830389117711506,
          -0.18386571758090633,
          1.0416557307064032,
          -0.042683927280048564,
          -0.17943027443046825,
          0.09377608525222707,
          -0.34648028893403987,
          -1.3457124779089722,
          -0.5525422427384641,
          -2.504073711790753,
          0.08250692893788068,
          -0.15041226213454875,
          0.9564631115478902,
          0.994484222083241,
          1.916197578201942,
          -0.05732294129786576,
          0.249732100104231,
          -1.4408748388524284,
          -0.09296563888149552,
          -0.8365210168918193,
          2.2407072892749627,
          2.1106343291381227,
          -1.6861403986523635,
          -1.034440193799756,
          -1.4444378857153906,
          0.9364318540717749,
          1.2222570551045786,
          1.3047617801280775,
          -1.1952725755094704,
          0.3975262202920816,
          -0.7644800997365796,
          -1.5256011134179415,
          -1.8422218739969782,
          0.47260623440965754,
          1.1740354691983002,
          1.1638292965378618,
          0.7534688339655372,
          0.510374090916698,
          -0.14746026760231526,
          -1.4386063987093967,
          -0.10994209372314256,
          0.041850402730792255,
          0.4484838739564346,
          -0.2808213728997883,
          -0.6930274130372971,
          0.3620875780636234,
          2.248105842946969,
          0.7677277190660735,
          1.7172351693725438,
          0.3263861424187183,
          -0.17999655658451777,
          1.020187272897391,
          -0.958610339512646,
          0.7001642445280409,
          0.05607639606367041,
          -0.2660137814733033,
          0.29983991626422046,
          0.5910217437942568,
          -1.5668057130023978,
          -0.19591809005778352,
          2.4233025514867097,
          0.17546165225853128,
          0.6180205093993774,
          1.9911965539946757,
          0.8775026671228272,
          1.0197265883044442,
          1.1154042158684525,
          0.258128501474009,
          -0.20453836003383732,
          -0.46786072204702805,
          -0.24717581477741823,
          0.21092813592563098,
          1.0496994092450707,
          0.9117689173929281,
          -1.0835439860947247,
          -1.5513057361359273,
          1.533950647696765,
          0.5479409348589601,
          0.4942596004016569,
          -0.72466919800214,
          0.5544445395611213,
          0.4671857417000131,
          0.10548935770946632,
          -0.5398544505298176,
          0.8210475207158915,
          -0.4387802832146619,
          -0.789397221731786,
          -1.044080379036547
         ],
         "yaxis": "y10"
        },
        {
         "histfunc": "count",
         "histnorm": "",
         "marker": {
          "color": "rgba(50, 171, 96, 1.0)",
          "line": {
           "color": "#4D5663",
           "width": 1.3
          }
         },
         "name": "C",
         "nbinsx": 10,
         "opacity": 0.8,
         "orientation": "v",
         "type": "histogram",
         "x": [
          0.1932594339729936,
          -0.7346078843467054,
          1.626721586718804,
          0.8622725100067306,
          1.884882371317921,
          0.07565611487999387,
          -0.949282879507972,
          0.2492832253090776,
          0.1617069952641982,
          -0.38744803932455996,
          1.2323303086749207,
          -1.190017637158588,
          -0.16830389117711506,
          -0.18386571758090633,
          1.0416557307064032,
          -0.042683927280048564,
          -0.17943027443046825,
          0.09377608525222707,
          -0.34648028893403987,
          -1.3457124779089722,
          -0.5525422427384641,
          -2.504073711790753,
          0.08250692893788068,
          -0.15041226213454875,
          0.9564631115478902,
          0.994484222083241,
          1.916197578201942,
          -0.05732294129786576,
          0.249732100104231,
          -1.4408748388524284,
          -0.09296563888149552,
          -0.8365210168918193,
          2.2407072892749627,
          2.1106343291381227,
          -1.6861403986523635,
          -1.034440193799756,
          -1.4444378857153906,
          0.9364318540717749,
          1.2222570551045786,
          1.3047617801280775,
          -1.1952725755094704,
          0.3975262202920816,
          -0.7644800997365796,
          -1.5256011134179415,
          -1.8422218739969782,
          0.47260623440965754,
          1.1740354691983002,
          1.1638292965378618,
          0.7534688339655372,
          0.510374090916698,
          -0.14746026760231526,
          -1.4386063987093967,
          -0.10994209372314256,
          0.041850402730792255,
          0.4484838739564346,
          -0.2808213728997883,
          -0.6930274130372971,
          0.3620875780636234,
          2.248105842946969,
          0.7677277190660735,
          1.7172351693725438,
          0.3263861424187183,
          -0.17999655658451777,
          1.020187272897391,
          -0.958610339512646,
          0.7001642445280409,
          0.05607639606367041,
          -0.2660137814733033,
          0.29983991626422046,
          0.5910217437942568,
          -1.5668057130023978,
          -0.19591809005778352,
          2.4233025514867097,
          0.17546165225853128,
          0.6180205093993774,
          1.9911965539946757,
          0.8775026671228272,
          1.0197265883044442,
          1.1154042158684525,
          0.258128501474009,
          -0.20453836003383732,
          -0.46786072204702805,
          -0.24717581477741823,
          0.21092813592563098,
          1.0496994092450707,
          0.9117689173929281,
          -1.0835439860947247,
          -1.5513057361359273,
          1.533950647696765,
          0.5479409348589601,
          0.4942596004016569,
          -0.72466919800214,
          0.5544445395611213,
          0.4671857417000131,
          0.10548935770946632,
          -0.5398544505298176,
          0.8210475207158915,
          -0.4387802832146619,
          -0.789397221731786,
          -1.044080379036547
         ],
         "xaxis": "x11",
         "yaxis": "y11"
        },
        {
         "line": {
          "color": "rgba(128, 128, 128, 1.0)",
          "dash": "solid",
          "shape": "linear",
          "width": 1.3
         },
         "marker": {
          "size": 2,
          "symbol": "circle"
         },
         "mode": "markers",
         "name": "C",
         "text": "",
         "type": "scatter",
         "x": [
          -1.020585532104849,
          -0.18513196930458953,
          -0.11883591656360529,
          -0.7522046588377137,
          0.881270411969169,
          -1.981988402972321,
          -0.4422213258758372,
          -0.4140964834744494,
          1.8126299977314346,
          -1.3582757744531162,
          -0.484307177266452,
          1.8037133531513976,
          0.23483738063352344,
          0.06886781920886893,
          -1.3799821939197057,
          -0.38278138332968387,
          -0.11244952400790263,
          -0.41955249919085846,
          0.5374444455616131,
          1.5766646336108878,
          0.08588028544915151,
          1.8926990198665814,
          0.6745863813188062,
          0.11370432687091656,
          1.4065022224072763,
          1.187090103750366,
          1.6159262715902416,
          0.2986846628834985,
          1.1645777108923328,
          -0.054044264837159225,
          0.871821866165794,
          0.1312393660762424,
          -1.503588660141973,
          0.928161639443395,
          -2.0076573984129835,
          -0.507029557707517,
          0.27686131156773597,
          1.0708906645885086,
          -1.5385554399791093,
          1.016068173942248,
          0.05622769910926885,
          -0.2882650024163722,
          0.6363537922080305,
          0.073725604414638,
          0.3285723247491967,
          -1.7343932874540129,
          1.0588561536049186,
          -1.8769000961813378,
          0.3771656605780358,
          0.5634974256306269,
          -0.6579280052841321,
          -1.7959243405787828,
          0.3637870659087675,
          0.4293325657906903,
          0.20118975505843892,
          0.8854838002655384,
          -1.2792893415435076,
          0.6627474484339916,
          -0.294672638352821,
          0.18559336111661404,
          -1.3180249202926333,
          -0.00993711607304854,
          0.05632444888686588,
          0.24945573162611462,
          1.6967401265137056,
          -0.04758116588982786,
          -0.27432027237511075,
          2.752971402389824,
          0.25021784686271226,
          -0.9344546214700837,
          -1.007773328606728,
          -1.3808013824829755,
          -0.44495295255214856,
          1.2321247407376885,
          0.2502942580950086,
          0.4175198782527313,
          1.2610120638295061,
          0.8009675626514536,
          -1.0126403790973382,
          0.07580175783164618,
          -1.1276742790098706,
          0.73446071160847,
          -0.28528370082117027,
          0.1842871502142503,
          0.9509220004462754,
          -0.7413038414120923,
          0.31598158062493925,
          -0.7754703911684763,
          -1.0716451747857663,
          -1.7530491683416134,
          1.6018744796518758,
          0.7050485640500473,
          1.1267463141808924,
          -0.8122305113474759,
          0.7350116263813458,
          -0.5560005979079157,
          -0.80468013038522,
          1.8670551852408603,
          1.6787238800694197,
          0.3157348580927388
         ],
         "xaxis": "x12",
         "y": [
          0.1932594339729936,
          -0.7346078843467054,
          1.626721586718804,
          0.8622725100067306,
          1.884882371317921,
          0.07565611487999387,
          -0.949282879507972,
          0.2492832253090776,
          0.1617069952641982,
          -0.38744803932455996,
          1.2323303086749207,
          -1.190017637158588,
          -0.16830389117711506,
          -0.18386571758090633,
          1.0416557307064032,
          -0.042683927280048564,
          -0.17943027443046825,
          0.09377608525222707,
          -0.34648028893403987,
          -1.3457124779089722,
          -0.5525422427384641,
          -2.504073711790753,
          0.08250692893788068,
          -0.15041226213454875,
          0.9564631115478902,
          0.994484222083241,
          1.916197578201942,
          -0.05732294129786576,
          0.249732100104231,
          -1.4408748388524284,
          -0.09296563888149552,
          -0.8365210168918193,
          2.2407072892749627,
          2.1106343291381227,
          -1.6861403986523635,
          -1.034440193799756,
          -1.4444378857153906,
          0.9364318540717749,
          1.2222570551045786,
          1.3047617801280775,
          -1.1952725755094704,
          0.3975262202920816,
          -0.7644800997365796,
          -1.5256011134179415,
          -1.8422218739969782,
          0.47260623440965754,
          1.1740354691983002,
          1.1638292965378618,
          0.7534688339655372,
          0.510374090916698,
          -0.14746026760231526,
          -1.4386063987093967,
          -0.10994209372314256,
          0.041850402730792255,
          0.4484838739564346,
          -0.2808213728997883,
          -0.6930274130372971,
          0.3620875780636234,
          2.248105842946969,
          0.7677277190660735,
          1.7172351693725438,
          0.3263861424187183,
          -0.17999655658451777,
          1.020187272897391,
          -0.958610339512646,
          0.7001642445280409,
          0.05607639606367041,
          -0.2660137814733033,
          0.29983991626422046,
          0.5910217437942568,
          -1.5668057130023978,
          -0.19591809005778352,
          2.4233025514867097,
          0.17546165225853128,
          0.6180205093993774,
          1.9911965539946757,
          0.8775026671228272,
          1.0197265883044442,
          1.1154042158684525,
          0.258128501474009,
          -0.20453836003383732,
          -0.46786072204702805,
          -0.24717581477741823,
          0.21092813592563098,
          1.0496994092450707,
          0.9117689173929281,
          -1.0835439860947247,
          -1.5513057361359273,
          1.533950647696765,
          0.5479409348589601,
          0.4942596004016569,
          -0.72466919800214,
          0.5544445395611213,
          0.4671857417000131,
          0.10548935770946632,
          -0.5398544505298176,
          0.8210475207158915,
          -0.4387802832146619,
          -0.789397221731786,
          -1.044080379036547
         ],
         "yaxis": "y12"
        },
        {
         "line": {
          "color": "rgba(128, 128, 128, 1.0)",
          "dash": "solid",
          "shape": "linear",
          "width": 1.3
         },
         "marker": {
          "size": 2,
          "symbol": "circle"
         },
         "mode": "markers",
         "name": "D",
         "text": "",
         "type": "scatter",
         "x": [
          -1.6201976890972134,
          1.179015368276081,
          -1.6214936519133512,
          0.03047124553832825,
          -0.2526286104197828,
          -0.9379499246694599,
          0.8269671650355134,
          0.38325540578942224,
          -1.3369240350745981,
          -0.1571043386951906,
          -0.47374238434467664,
          0.023099309943598014,
          0.733279230152324,
          0.4327892353101228,
          0.7866427226972601,
          0.8193153509882917,
          -0.6573163617758523,
          1.1080405429061686,
          -1.6288423934815082,
          0.19327248550973222,
          0.4670318890218097,
          0.24344411424644669,
          -1.3311134389816102,
          1.1620551223577433,
          1.2912876489780356,
          0.18104564980079738,
          -0.920957826249496,
          0.8153373278150663,
          0.4141237490605079,
          -1.2233923269366347,
          1.1809931936702687,
          -0.7472502325260357,
          0.7316732664119959,
          -0.24907740141754095,
          -1.856039241555898,
          0.48557905752155645,
          0.942283881961478,
          0.3578556108847455,
          -1.8677443406725636,
          1.0023813900186556,
          -0.2507150736742075,
          -0.9952209282809444,
          0.3996845671425887,
          -0.9446255241307885,
          -0.04225580624092134,
          -0.3506283854717632,
          1.413574037050735,
          -1.0317515856596224,
          1.480630113279642,
          0.39947797467673907,
          -0.6931505541669951,
          0.5821102631893128,
          0.4962188462986672,
          -0.2581590569711388,
          0.8973741639491336,
          -0.10080319290798798,
          -0.15464812870423214,
          0.8678202284599688,
          1.4082624375863562,
          -1.9604410319949725,
          1.5980717080218183,
          1.2573680424497145,
          0.8735081041173356,
          -1.0539724794624896,
          0.14895184661081642,
          1.0605146334574904,
          1.2608514085352878,
          0.240971785315486,
          0.2748063637274384,
          0.3539595539621846,
          1.2342208918053148,
          0.7223660874952281,
          -0.8641043702663473,
          -1.722594215592153,
          0.5522634434427093,
          -0.49545212848549014,
          -0.4298662616575933,
          0.8912737176769494,
          0.7827711272796617,
          1.2401269084078836,
          0.708741330504012,
          -0.7042768008570168,
          2.0624212994254996,
          -0.8775630823875434,
          -0.5172012578681376,
          0.08542921152016249,
          -0.9155834771940242,
          0.009828356120732294,
          -2.0744709535958066,
          0.22643759282650308,
          -0.5150997924470277,
          1.1698742620669689,
          1.666037436029818,
          0.2548941811062244,
          -0.11358095313937175,
          1.8217550714168769,
          -1.1735435230757323,
          -0.7592093728741733,
          -0.2988109427460776,
          0.9961206466322576
         ],
         "xaxis": "x13",
         "y": [
          -1.020585532104849,
          -0.18513196930458953,
          -0.11883591656360529,
          -0.7522046588377137,
          0.881270411969169,
          -1.981988402972321,
          -0.4422213258758372,
          -0.4140964834744494,
          1.8126299977314346,
          -1.3582757744531162,
          -0.484307177266452,
          1.8037133531513976,
          0.23483738063352344,
          0.06886781920886893,
          -1.3799821939197057,
          -0.38278138332968387,
          -0.11244952400790263,
          -0.41955249919085846,
          0.5374444455616131,
          1.5766646336108878,
          0.08588028544915151,
          1.8926990198665814,
          0.6745863813188062,
          0.11370432687091656,
          1.4065022224072763,
          1.187090103750366,
          1.6159262715902416,
          0.2986846628834985,
          1.1645777108923328,
          -0.054044264837159225,
          0.871821866165794,
          0.1312393660762424,
          -1.503588660141973,
          0.928161639443395,
          -2.0076573984129835,
          -0.507029557707517,
          0.27686131156773597,
          1.0708906645885086,
          -1.5385554399791093,
          1.016068173942248,
          0.05622769910926885,
          -0.2882650024163722,
          0.6363537922080305,
          0.073725604414638,
          0.3285723247491967,
          -1.7343932874540129,
          1.0588561536049186,
          -1.8769000961813378,
          0.3771656605780358,
          0.5634974256306269,
          -0.6579280052841321,
          -1.7959243405787828,
          0.3637870659087675,
          0.4293325657906903,
          0.20118975505843892,
          0.8854838002655384,
          -1.2792893415435076,
          0.6627474484339916,
          -0.294672638352821,
          0.18559336111661404,
          -1.3180249202926333,
          -0.00993711607304854,
          0.05632444888686588,
          0.24945573162611462,
          1.6967401265137056,
          -0.04758116588982786,
          -0.27432027237511075,
          2.752971402389824,
          0.25021784686271226,
          -0.9344546214700837,
          -1.007773328606728,
          -1.3808013824829755,
          -0.44495295255214856,
          1.2321247407376885,
          0.2502942580950086,
          0.4175198782527313,
          1.2610120638295061,
          0.8009675626514536,
          -1.0126403790973382,
          0.07580175783164618,
          -1.1276742790098706,
          0.73446071160847,
          -0.28528370082117027,
          0.1842871502142503,
          0.9509220004462754,
          -0.7413038414120923,
          0.31598158062493925,
          -0.7754703911684763,
          -1.0716451747857663,
          -1.7530491683416134,
          1.6018744796518758,
          0.7050485640500473,
          1.1267463141808924,
          -0.8122305113474759,
          0.7350116263813458,
          -0.5560005979079157,
          -0.80468013038522,
          1.8670551852408603,
          1.6787238800694197,
          0.3157348580927388
         ],
         "yaxis": "y13"
        },
        {
         "line": {
          "color": "rgba(128, 128, 128, 1.0)",
          "dash": "solid",
          "shape": "linear",
          "width": 1.3
         },
         "marker": {
          "size": 2,
          "symbol": "circle"
         },
         "mode": "markers",
         "name": "D",
         "text": "",
         "type": "scatter",
         "x": [
          0.8297594902124418,
          -0.2783114996995031,
          -1.5289569523977877,
          -0.024712108089802683,
          -0.0247326672640995,
          -0.22748462092405278,
          -1.2046557250956362,
          -0.492574198134032,
          -0.8277087842007413,
          -0.5268682018178362,
          -0.7466368292324888,
          -1.6747939271306416,
          0.5515156661553242,
          -1.4772162733955383,
          -0.4254126914075391,
          -0.7914420736295171,
          -0.7253414533807264,
          -1.261797119079572,
          -1.2962240385283845,
          0.24117064460294366,
          1.0626596268890234,
          0.3330657373571715,
          -0.8173888046756824,
          0.625709231685683,
          0.9497207509658698,
          -0.7209576199345601,
          0.6113091443302957,
          0.09729281095671156,
          -0.7720024468971365,
          0.5930894634932572,
          1.5483268480595687,
          0.522617504572752,
          -0.9098182135648303,
          0.8715182286216513,
          -1.2908008408179037,
          -0.6816068106752934,
          0.30578782752968925,
          0.1326510272491607,
          0.36890944266358217,
          -0.4915204209445604,
          -0.1294344400609409,
          -0.4139232476620148,
          0.4904096710435924,
          -0.5021389171965049,
          -0.7041451895138741,
          1.915610746784163,
          -0.9811622770096722,
          0.41472580478141413,
          -0.00030173699829042525,
          -0.07742300302041409,
          0.03821276810804631,
          0.71686602330355,
          0.7574747053680021,
          0.9042140473633455,
          0.09759224671913559,
          -1.1803292048548368,
          -0.026214865627643223,
          -0.5459197506001886,
          0.7467193926971661,
          0.5431577761382423,
          0.210930427755455,
          1.2499441487288871,
          -3.048441413801019,
          0.02508455116907912,
          0.5476447945766364,
          -0.7718383664981547,
          -1.6821314507638936,
          -0.07769256589389573,
          1.4900168390869943,
          -0.8953597891744572,
          -0.33672148128028784,
          -0.7566801384767264,
          -0.43941583681939644,
          -0.6412448031731541,
          -0.5172857599200201,
          0.45956923847605186,
          1.8116969199744073,
          -0.5781802190947594,
          0.770776684992134,
          0.8627961753027991,
          -1.1575397220968435,
          0.8197478512094455,
          0.23064721862991777,
          0.008127836945889876,
          -0.7556460615903183,
          -0.6583060701628153,
          0.15637623791267963,
          -0.07895953358710191,
          -0.4364679669264129,
          1.636674909247799,
          -1.1480973336937255,
          -1.4056268439017143,
          0.7341548146711661,
          -0.1993410576061871,
          0.05287239073333219,
          0.6179748443438318,
          0.5181127568744494,
          -0.025898918350763307,
          0.23189176039414636,
          -0.3260572062212705
         ],
         "xaxis": "x14",
         "y": [
          -1.020585532104849,
          -0.18513196930458953,
          -0.11883591656360529,
          -0.7522046588377137,
          0.881270411969169,
          -1.981988402972321,
          -0.4422213258758372,
          -0.4140964834744494,
          1.8126299977314346,
          -1.3582757744531162,
          -0.484307177266452,
          1.8037133531513976,
          0.23483738063352344,
          0.06886781920886893,
          -1.3799821939197057,
          -0.38278138332968387,
          -0.11244952400790263,
          -0.41955249919085846,
          0.5374444455616131,
          1.5766646336108878,
          0.08588028544915151,
          1.8926990198665814,
          0.6745863813188062,
          0.11370432687091656,
          1.4065022224072763,
          1.187090103750366,
          1.6159262715902416,
          0.2986846628834985,
          1.1645777108923328,
          -0.054044264837159225,
          0.871821866165794,
          0.1312393660762424,
          -1.503588660141973,
          0.928161639443395,
          -2.0076573984129835,
          -0.507029557707517,
          0.27686131156773597,
          1.0708906645885086,
          -1.5385554399791093,
          1.016068173942248,
          0.05622769910926885,
          -0.2882650024163722,
          0.6363537922080305,
          0.073725604414638,
          0.3285723247491967,
          -1.7343932874540129,
          1.0588561536049186,
          -1.8769000961813378,
          0.3771656605780358,
          0.5634974256306269,
          -0.6579280052841321,
          -1.7959243405787828,
          0.3637870659087675,
          0.4293325657906903,
          0.20118975505843892,
          0.8854838002655384,
          -1.2792893415435076,
          0.6627474484339916,
          -0.294672638352821,
          0.18559336111661404,
          -1.3180249202926333,
          -0.00993711607304854,
          0.05632444888686588,
          0.24945573162611462,
          1.6967401265137056,
          -0.04758116588982786,
          -0.27432027237511075,
          2.752971402389824,
          0.25021784686271226,
          -0.9344546214700837,
          -1.007773328606728,
          -1.3808013824829755,
          -0.44495295255214856,
          1.2321247407376885,
          0.2502942580950086,
          0.4175198782527313,
          1.2610120638295061,
          0.8009675626514536,
          -1.0126403790973382,
          0.07580175783164618,
          -1.1276742790098706,
          0.73446071160847,
          -0.28528370082117027,
          0.1842871502142503,
          0.9509220004462754,
          -0.7413038414120923,
          0.31598158062493925,
          -0.7754703911684763,
          -1.0716451747857663,
          -1.7530491683416134,
          1.6018744796518758,
          0.7050485640500473,
          1.1267463141808924,
          -0.8122305113474759,
          0.7350116263813458,
          -0.5560005979079157,
          -0.80468013038522,
          1.8670551852408603,
          1.6787238800694197,
          0.3157348580927388
         ],
         "yaxis": "y14"
        },
        {
         "line": {
          "color": "rgba(128, 128, 128, 1.0)",
          "dash": "solid",
          "shape": "linear",
          "width": 1.3
         },
         "marker": {
          "size": 2,
          "symbol": "circle"
         },
         "mode": "markers",
         "name": "D",
         "text": "",
         "type": "scatter",
         "x": [
          0.1932594339729936,
          -0.7346078843467054,
          1.626721586718804,
          0.8622725100067306,
          1.884882371317921,
          0.07565611487999387,
          -0.949282879507972,
          0.2492832253090776,
          0.1617069952641982,
          -0.38744803932455996,
          1.2323303086749207,
          -1.190017637158588,
          -0.16830389117711506,
          -0.18386571758090633,
          1.0416557307064032,
          -0.042683927280048564,
          -0.17943027443046825,
          0.09377608525222707,
          -0.34648028893403987,
          -1.3457124779089722,
          -0.5525422427384641,
          -2.504073711790753,
          0.08250692893788068,
          -0.15041226213454875,
          0.9564631115478902,
          0.994484222083241,
          1.916197578201942,
          -0.05732294129786576,
          0.249732100104231,
          -1.4408748388524284,
          -0.09296563888149552,
          -0.8365210168918193,
          2.2407072892749627,
          2.1106343291381227,
          -1.6861403986523635,
          -1.034440193799756,
          -1.4444378857153906,
          0.9364318540717749,
          1.2222570551045786,
          1.3047617801280775,
          -1.1952725755094704,
          0.3975262202920816,
          -0.7644800997365796,
          -1.5256011134179415,
          -1.8422218739969782,
          0.47260623440965754,
          1.1740354691983002,
          1.1638292965378618,
          0.7534688339655372,
          0.510374090916698,
          -0.14746026760231526,
          -1.4386063987093967,
          -0.10994209372314256,
          0.041850402730792255,
          0.4484838739564346,
          -0.2808213728997883,
          -0.6930274130372971,
          0.3620875780636234,
          2.248105842946969,
          0.7677277190660735,
          1.7172351693725438,
          0.3263861424187183,
          -0.17999655658451777,
          1.020187272897391,
          -0.958610339512646,
          0.7001642445280409,
          0.05607639606367041,
          -0.2660137814733033,
          0.29983991626422046,
          0.5910217437942568,
          -1.5668057130023978,
          -0.19591809005778352,
          2.4233025514867097,
          0.17546165225853128,
          0.6180205093993774,
          1.9911965539946757,
          0.8775026671228272,
          1.0197265883044442,
          1.1154042158684525,
          0.258128501474009,
          -0.20453836003383732,
          -0.46786072204702805,
          -0.24717581477741823,
          0.21092813592563098,
          1.0496994092450707,
          0.9117689173929281,
          -1.0835439860947247,
          -1.5513057361359273,
          1.533950647696765,
          0.5479409348589601,
          0.4942596004016569,
          -0.72466919800214,
          0.5544445395611213,
          0.4671857417000131,
          0.10548935770946632,
          -0.5398544505298176,
          0.8210475207158915,
          -0.4387802832146619,
          -0.789397221731786,
          -1.044080379036547
         ],
         "xaxis": "x15",
         "y": [
          -1.020585532104849,
          -0.18513196930458953,
          -0.11883591656360529,
          -0.7522046588377137,
          0.881270411969169,
          -1.981988402972321,
          -0.4422213258758372,
          -0.4140964834744494,
          1.8126299977314346,
          -1.3582757744531162,
          -0.484307177266452,
          1.8037133531513976,
          0.23483738063352344,
          0.06886781920886893,
          -1.3799821939197057,
          -0.38278138332968387,
          -0.11244952400790263,
          -0.41955249919085846,
          0.5374444455616131,
          1.5766646336108878,
          0.08588028544915151,
          1.8926990198665814,
          0.6745863813188062,
          0.11370432687091656,
          1.4065022224072763,
          1.187090103750366,
          1.6159262715902416,
          0.2986846628834985,
          1.1645777108923328,
          -0.054044264837159225,
          0.871821866165794,
          0.1312393660762424,
          -1.503588660141973,
          0.928161639443395,
          -2.0076573984129835,
          -0.507029557707517,
          0.27686131156773597,
          1.0708906645885086,
          -1.5385554399791093,
          1.016068173942248,
          0.05622769910926885,
          -0.2882650024163722,
          0.6363537922080305,
          0.073725604414638,
          0.3285723247491967,
          -1.7343932874540129,
          1.0588561536049186,
          -1.8769000961813378,
          0.3771656605780358,
          0.5634974256306269,
          -0.6579280052841321,
          -1.7959243405787828,
          0.3637870659087675,
          0.4293325657906903,
          0.20118975505843892,
          0.8854838002655384,
          -1.2792893415435076,
          0.6627474484339916,
          -0.294672638352821,
          0.18559336111661404,
          -1.3180249202926333,
          -0.00993711607304854,
          0.05632444888686588,
          0.24945573162611462,
          1.6967401265137056,
          -0.04758116588982786,
          -0.27432027237511075,
          2.752971402389824,
          0.25021784686271226,
          -0.9344546214700837,
          -1.007773328606728,
          -1.3808013824829755,
          -0.44495295255214856,
          1.2321247407376885,
          0.2502942580950086,
          0.4175198782527313,
          1.2610120638295061,
          0.8009675626514536,
          -1.0126403790973382,
          0.07580175783164618,
          -1.1276742790098706,
          0.73446071160847,
          -0.28528370082117027,
          0.1842871502142503,
          0.9509220004462754,
          -0.7413038414120923,
          0.31598158062493925,
          -0.7754703911684763,
          -1.0716451747857663,
          -1.7530491683416134,
          1.6018744796518758,
          0.7050485640500473,
          1.1267463141808924,
          -0.8122305113474759,
          0.7350116263813458,
          -0.5560005979079157,
          -0.80468013038522,
          1.8670551852408603,
          1.6787238800694197,
          0.3157348580927388
         ],
         "yaxis": "y15"
        },
        {
         "histfunc": "count",
         "histnorm": "",
         "marker": {
          "color": "rgba(128, 0, 128, 1.0)",
          "line": {
           "color": "#4D5663",
           "width": 1.3
          }
         },
         "name": "D",
         "nbinsx": 10,
         "opacity": 0.8,
         "orientation": "v",
         "type": "histogram",
         "x": [
          -1.020585532104849,
          -0.18513196930458953,
          -0.11883591656360529,
          -0.7522046588377137,
          0.881270411969169,
          -1.981988402972321,
          -0.4422213258758372,
          -0.4140964834744494,
          1.8126299977314346,
          -1.3582757744531162,
          -0.484307177266452,
          1.8037133531513976,
          0.23483738063352344,
          0.06886781920886893,
          -1.3799821939197057,
          -0.38278138332968387,
          -0.11244952400790263,
          -0.41955249919085846,
          0.5374444455616131,
          1.5766646336108878,
          0.08588028544915151,
          1.8926990198665814,
          0.6745863813188062,
          0.11370432687091656,
          1.4065022224072763,
          1.187090103750366,
          1.6159262715902416,
          0.2986846628834985,
          1.1645777108923328,
          -0.054044264837159225,
          0.871821866165794,
          0.1312393660762424,
          -1.503588660141973,
          0.928161639443395,
          -2.0076573984129835,
          -0.507029557707517,
          0.27686131156773597,
          1.0708906645885086,
          -1.5385554399791093,
          1.016068173942248,
          0.05622769910926885,
          -0.2882650024163722,
          0.6363537922080305,
          0.073725604414638,
          0.3285723247491967,
          -1.7343932874540129,
          1.0588561536049186,
          -1.8769000961813378,
          0.3771656605780358,
          0.5634974256306269,
          -0.6579280052841321,
          -1.7959243405787828,
          0.3637870659087675,
          0.4293325657906903,
          0.20118975505843892,
          0.8854838002655384,
          -1.2792893415435076,
          0.6627474484339916,
          -0.294672638352821,
          0.18559336111661404,
          -1.3180249202926333,
          -0.00993711607304854,
          0.05632444888686588,
          0.24945573162611462,
          1.6967401265137056,
          -0.04758116588982786,
          -0.27432027237511075,
          2.752971402389824,
          0.25021784686271226,
          -0.9344546214700837,
          -1.007773328606728,
          -1.3808013824829755,
          -0.44495295255214856,
          1.2321247407376885,
          0.2502942580950086,
          0.4175198782527313,
          1.2610120638295061,
          0.8009675626514536,
          -1.0126403790973382,
          0.07580175783164618,
          -1.1276742790098706,
          0.73446071160847,
          -0.28528370082117027,
          0.1842871502142503,
          0.9509220004462754,
          -0.7413038414120923,
          0.31598158062493925,
          -0.7754703911684763,
          -1.0716451747857663,
          -1.7530491683416134,
          1.6018744796518758,
          0.7050485640500473,
          1.1267463141808924,
          -0.8122305113474759,
          0.7350116263813458,
          -0.5560005979079157,
          -0.80468013038522,
          1.8670551852408603,
          1.6787238800694197,
          0.3157348580927388
         ],
         "xaxis": "x16",
         "yaxis": "y16"
        }
       ],
       "layout": {
        "bargap": 0.02,
        "legend": {
         "bgcolor": "#F5F6F9",
         "font": {
          "color": "#4D5663"
         }
        },
        "paper_bgcolor": "#F5F6F9",
        "plot_bgcolor": "#F5F6F9",
        "showlegend": false,
        "template": {
         "data": {
          "bar": [
           {
            "error_x": {
             "color": "#2a3f5f"
            },
            "error_y": {
             "color": "#2a3f5f"
            },
            "marker": {
             "line": {
              "color": "#E5ECF6",
              "width": 0.5
             },
             "pattern": {
              "fillmode": "overlay",
              "size": 10,
              "solidity": 0.2
             }
            },
            "type": "bar"
           }
          ],
          "barpolar": [
           {
            "marker": {
             "line": {
              "color": "#E5ECF6",
              "width": 0.5
             },
             "pattern": {
              "fillmode": "overlay",
              "size": 10,
              "solidity": 0.2
             }
            },
            "type": "barpolar"
           }
          ],
          "carpet": [
           {
            "aaxis": {
             "endlinecolor": "#2a3f5f",
             "gridcolor": "white",
             "linecolor": "white",
             "minorgridcolor": "white",
             "startlinecolor": "#2a3f5f"
            },
            "baxis": {
             "endlinecolor": "#2a3f5f",
             "gridcolor": "white",
             "linecolor": "white",
             "minorgridcolor": "white",
             "startlinecolor": "#2a3f5f"
            },
            "type": "carpet"
           }
          ],
          "choropleth": [
           {
            "colorbar": {
             "outlinewidth": 0,
             "ticks": ""
            },
            "type": "choropleth"
           }
          ],
          "contour": [
           {
            "colorbar": {
             "outlinewidth": 0,
             "ticks": ""
            },
            "colorscale": [
             [
              0,
              "#0d0887"
             ],
             [
              0.1111111111111111,
              "#46039f"
             ],
             [
              0.2222222222222222,
              "#7201a8"
             ],
             [
              0.3333333333333333,
              "#9c179e"
             ],
             [
              0.4444444444444444,
              "#bd3786"
             ],
             [
              0.5555555555555556,
              "#d8576b"
             ],
             [
              0.6666666666666666,
              "#ed7953"
             ],
             [
              0.7777777777777778,
              "#fb9f3a"
             ],
             [
              0.8888888888888888,
              "#fdca26"
             ],
             [
              1,
              "#f0f921"
             ]
            ],
            "type": "contour"
           }
          ],
          "contourcarpet": [
           {
            "colorbar": {
             "outlinewidth": 0,
             "ticks": ""
            },
            "type": "contourcarpet"
           }
          ],
          "heatmap": [
           {
            "colorbar": {
             "outlinewidth": 0,
             "ticks": ""
            },
            "colorscale": [
             [
              0,
              "#0d0887"
             ],
             [
              0.1111111111111111,
              "#46039f"
             ],
             [
              0.2222222222222222,
              "#7201a8"
             ],
             [
              0.3333333333333333,
              "#9c179e"
             ],
             [
              0.4444444444444444,
              "#bd3786"
             ],
             [
              0.5555555555555556,
              "#d8576b"
             ],
             [
              0.6666666666666666,
              "#ed7953"
             ],
             [
              0.7777777777777778,
              "#fb9f3a"
             ],
             [
              0.8888888888888888,
              "#fdca26"
             ],
             [
              1,
              "#f0f921"
             ]
            ],
            "type": "heatmap"
           }
          ],
          "heatmapgl": [
           {
            "colorbar": {
             "outlinewidth": 0,
             "ticks": ""
            },
            "colorscale": [
             [
              0,
              "#0d0887"
             ],
             [
              0.1111111111111111,
              "#46039f"
             ],
             [
              0.2222222222222222,
              "#7201a8"
             ],
             [
              0.3333333333333333,
              "#9c179e"
             ],
             [
              0.4444444444444444,
              "#bd3786"
             ],
             [
              0.5555555555555556,
              "#d8576b"
             ],
             [
              0.6666666666666666,
              "#ed7953"
             ],
             [
              0.7777777777777778,
              "#fb9f3a"
             ],
             [
              0.8888888888888888,
              "#fdca26"
             ],
             [
              1,
              "#f0f921"
             ]
            ],
            "type": "heatmapgl"
           }
          ],
          "histogram": [
           {
            "marker": {
             "pattern": {
              "fillmode": "overlay",
              "size": 10,
              "solidity": 0.2
             }
            },
            "type": "histogram"
           }
          ],
          "histogram2d": [
           {
            "colorbar": {
             "outlinewidth": 0,
             "ticks": ""
            },
            "colorscale": [
             [
              0,
              "#0d0887"
             ],
             [
              0.1111111111111111,
              "#46039f"
             ],
             [
              0.2222222222222222,
              "#7201a8"
             ],
             [
              0.3333333333333333,
              "#9c179e"
             ],
             [
              0.4444444444444444,
              "#bd3786"
             ],
             [
              0.5555555555555556,
              "#d8576b"
             ],
             [
              0.6666666666666666,
              "#ed7953"
             ],
             [
              0.7777777777777778,
              "#fb9f3a"
             ],
             [
              0.8888888888888888,
              "#fdca26"
             ],
             [
              1,
              "#f0f921"
             ]
            ],
            "type": "histogram2d"
           }
          ],
          "histogram2dcontour": [
           {
            "colorbar": {
             "outlinewidth": 0,
             "ticks": ""
            },
            "colorscale": [
             [
              0,
              "#0d0887"
             ],
             [
              0.1111111111111111,
              "#46039f"
             ],
             [
              0.2222222222222222,
              "#7201a8"
             ],
             [
              0.3333333333333333,
              "#9c179e"
             ],
             [
              0.4444444444444444,
              "#bd3786"
             ],
             [
              0.5555555555555556,
              "#d8576b"
             ],
             [
              0.6666666666666666,
              "#ed7953"
             ],
             [
              0.7777777777777778,
              "#fb9f3a"
             ],
             [
              0.8888888888888888,
              "#fdca26"
             ],
             [
              1,
              "#f0f921"
             ]
            ],
            "type": "histogram2dcontour"
           }
          ],
          "mesh3d": [
           {
            "colorbar": {
             "outlinewidth": 0,
             "ticks": ""
            },
            "type": "mesh3d"
           }
          ],
          "parcoords": [
           {
            "line": {
             "colorbar": {
              "outlinewidth": 0,
              "ticks": ""
             }
            },
            "type": "parcoords"
           }
          ],
          "pie": [
           {
            "automargin": true,
            "type": "pie"
           }
          ],
          "scatter": [
           {
            "fillpattern": {
             "fillmode": "overlay",
             "size": 10,
             "solidity": 0.2
            },
            "type": "scatter"
           }
          ],
          "scatter3d": [
           {
            "line": {
             "colorbar": {
              "outlinewidth": 0,
              "ticks": ""
             }
            },
            "marker": {
             "colorbar": {
              "outlinewidth": 0,
              "ticks": ""
             }
            },
            "type": "scatter3d"
           }
          ],
          "scattercarpet": [
           {
            "marker": {
             "colorbar": {
              "outlinewidth": 0,
              "ticks": ""
             }
            },
            "type": "scattercarpet"
           }
          ],
          "scattergeo": [
           {
            "marker": {
             "colorbar": {
              "outlinewidth": 0,
              "ticks": ""
             }
            },
            "type": "scattergeo"
           }
          ],
          "scattergl": [
           {
            "marker": {
             "colorbar": {
              "outlinewidth": 0,
              "ticks": ""
             }
            },
            "type": "scattergl"
           }
          ],
          "scattermapbox": [
           {
            "marker": {
             "colorbar": {
              "outlinewidth": 0,
              "ticks": ""
             }
            },
            "type": "scattermapbox"
           }
          ],
          "scatterpolar": [
           {
            "marker": {
             "colorbar": {
              "outlinewidth": 0,
              "ticks": ""
             }
            },
            "type": "scatterpolar"
           }
          ],
          "scatterpolargl": [
           {
            "marker": {
             "colorbar": {
              "outlinewidth": 0,
              "ticks": ""
             }
            },
            "type": "scatterpolargl"
           }
          ],
          "scatterternary": [
           {
            "marker": {
             "colorbar": {
              "outlinewidth": 0,
              "ticks": ""
             }
            },
            "type": "scatterternary"
           }
          ],
          "surface": [
           {
            "colorbar": {
             "outlinewidth": 0,
             "ticks": ""
            },
            "colorscale": [
             [
              0,
              "#0d0887"
             ],
             [
              0.1111111111111111,
              "#46039f"
             ],
             [
              0.2222222222222222,
              "#7201a8"
             ],
             [
              0.3333333333333333,
              "#9c179e"
             ],
             [
              0.4444444444444444,
              "#bd3786"
             ],
             [
              0.5555555555555556,
              "#d8576b"
             ],
             [
              0.6666666666666666,
              "#ed7953"
             ],
             [
              0.7777777777777778,
              "#fb9f3a"
             ],
             [
              0.8888888888888888,
              "#fdca26"
             ],
             [
              1,
              "#f0f921"
             ]
            ],
            "type": "surface"
           }
          ],
          "table": [
           {
            "cells": {
             "fill": {
              "color": "#EBF0F8"
             },
             "line": {
              "color": "white"
             }
            },
            "header": {
             "fill": {
              "color": "#C8D4E3"
             },
             "line": {
              "color": "white"
             }
            },
            "type": "table"
           }
          ]
         },
         "layout": {
          "annotationdefaults": {
           "arrowcolor": "#2a3f5f",
           "arrowhead": 0,
           "arrowwidth": 1
          },
          "autotypenumbers": "strict",
          "coloraxis": {
           "colorbar": {
            "outlinewidth": 0,
            "ticks": ""
           }
          },
          "colorscale": {
           "diverging": [
            [
             0,
             "#8e0152"
            ],
            [
             0.1,
             "#c51b7d"
            ],
            [
             0.2,
             "#de77ae"
            ],
            [
             0.3,
             "#f1b6da"
            ],
            [
             0.4,
             "#fde0ef"
            ],
            [
             0.5,
             "#f7f7f7"
            ],
            [
             0.6,
             "#e6f5d0"
            ],
            [
             0.7,
             "#b8e186"
            ],
            [
             0.8,
             "#7fbc41"
            ],
            [
             0.9,
             "#4d9221"
            ],
            [
             1,
             "#276419"
            ]
           ],
           "sequential": [
            [
             0,
             "#0d0887"
            ],
            [
             0.1111111111111111,
             "#46039f"
            ],
            [
             0.2222222222222222,
             "#7201a8"
            ],
            [
             0.3333333333333333,
             "#9c179e"
            ],
            [
             0.4444444444444444,
             "#bd3786"
            ],
            [
             0.5555555555555556,
             "#d8576b"
            ],
            [
             0.6666666666666666,
             "#ed7953"
            ],
            [
             0.7777777777777778,
             "#fb9f3a"
            ],
            [
             0.8888888888888888,
             "#fdca26"
            ],
            [
             1,
             "#f0f921"
            ]
           ],
           "sequentialminus": [
            [
             0,
             "#0d0887"
            ],
            [
             0.1111111111111111,
             "#46039f"
            ],
            [
             0.2222222222222222,
             "#7201a8"
            ],
            [
             0.3333333333333333,
             "#9c179e"
            ],
            [
             0.4444444444444444,
             "#bd3786"
            ],
            [
             0.5555555555555556,
             "#d8576b"
            ],
            [
             0.6666666666666666,
             "#ed7953"
            ],
            [
             0.7777777777777778,
             "#fb9f3a"
            ],
            [
             0.8888888888888888,
             "#fdca26"
            ],
            [
             1,
             "#f0f921"
            ]
           ]
          },
          "colorway": [
           "#636efa",
           "#EF553B",
           "#00cc96",
           "#ab63fa",
           "#FFA15A",
           "#19d3f3",
           "#FF6692",
           "#B6E880",
           "#FF97FF",
           "#FECB52"
          ],
          "font": {
           "color": "#2a3f5f"
          },
          "geo": {
           "bgcolor": "white",
           "lakecolor": "white",
           "landcolor": "#E5ECF6",
           "showlakes": true,
           "showland": true,
           "subunitcolor": "white"
          },
          "hoverlabel": {
           "align": "left"
          },
          "hovermode": "closest",
          "mapbox": {
           "style": "light"
          },
          "paper_bgcolor": "white",
          "plot_bgcolor": "#E5ECF6",
          "polar": {
           "angularaxis": {
            "gridcolor": "white",
            "linecolor": "white",
            "ticks": ""
           },
           "bgcolor": "#E5ECF6",
           "radialaxis": {
            "gridcolor": "white",
            "linecolor": "white",
            "ticks": ""
           }
          },
          "scene": {
           "xaxis": {
            "backgroundcolor": "#E5ECF6",
            "gridcolor": "white",
            "gridwidth": 2,
            "linecolor": "white",
            "showbackground": true,
            "ticks": "",
            "zerolinecolor": "white"
           },
           "yaxis": {
            "backgroundcolor": "#E5ECF6",
            "gridcolor": "white",
            "gridwidth": 2,
            "linecolor": "white",
            "showbackground": true,
            "ticks": "",
            "zerolinecolor": "white"
           },
           "zaxis": {
            "backgroundcolor": "#E5ECF6",
            "gridcolor": "white",
            "gridwidth": 2,
            "linecolor": "white",
            "showbackground": true,
            "ticks": "",
            "zerolinecolor": "white"
           }
          },
          "shapedefaults": {
           "line": {
            "color": "#2a3f5f"
           }
          },
          "ternary": {
           "aaxis": {
            "gridcolor": "white",
            "linecolor": "white",
            "ticks": ""
           },
           "baxis": {
            "gridcolor": "white",
            "linecolor": "white",
            "ticks": ""
           },
           "bgcolor": "#E5ECF6",
           "caxis": {
            "gridcolor": "white",
            "linecolor": "white",
            "ticks": ""
           }
          },
          "title": {
           "x": 0.05
          },
          "xaxis": {
           "automargin": true,
           "gridcolor": "white",
           "linecolor": "white",
           "ticks": "",
           "title": {
            "standoff": 15
           },
           "zerolinecolor": "white",
           "zerolinewidth": 2
          },
          "yaxis": {
           "automargin": true,
           "gridcolor": "white",
           "linecolor": "white",
           "ticks": "",
           "title": {
            "standoff": 15
           },
           "zerolinecolor": "white",
           "zerolinewidth": 2
          }
         }
        },
        "title": {
         "font": {
          "color": "#4D5663"
         }
        },
        "xaxis": {
         "anchor": "y",
         "domain": [
          0,
          0.2125
         ],
         "gridcolor": "#E1E5ED",
         "showgrid": false,
         "tickfont": {
          "color": "#4D5663"
         },
         "title": {
          "font": {
           "color": "#4D5663"
          },
          "text": ""
         },
         "zerolinecolor": "#E1E5ED"
        },
        "xaxis10": {
         "anchor": "y10",
         "domain": [
          0.2625,
          0.475
         ],
         "gridcolor": "#E1E5ED",
         "showgrid": false,
         "tickfont": {
          "color": "#4D5663"
         },
         "title": {
          "font": {
           "color": "#4D5663"
          },
          "text": ""
         },
         "zerolinecolor": "#E1E5ED"
        },
        "xaxis11": {
         "anchor": "y11",
         "domain": [
          0.525,
          0.7375
         ],
         "gridcolor": "#E1E5ED",
         "showgrid": false,
         "tickfont": {
          "color": "#4D5663"
         },
         "title": {
          "font": {
           "color": "#4D5663"
          },
          "text": ""
         },
         "zerolinecolor": "#E1E5ED"
        },
        "xaxis12": {
         "anchor": "y12",
         "domain": [
          0.7875,
          1
         ],
         "gridcolor": "#E1E5ED",
         "showgrid": false,
         "tickfont": {
          "color": "#4D5663"
         },
         "title": {
          "font": {
           "color": "#4D5663"
          },
          "text": ""
         },
         "zerolinecolor": "#E1E5ED"
        },
        "xaxis13": {
         "anchor": "y13",
         "domain": [
          0,
          0.2125
         ],
         "gridcolor": "#E1E5ED",
         "showgrid": false,
         "tickfont": {
          "color": "#4D5663"
         },
         "title": {
          "font": {
           "color": "#4D5663"
          },
          "text": ""
         },
         "zerolinecolor": "#E1E5ED"
        },
        "xaxis14": {
         "anchor": "y14",
         "domain": [
          0.2625,
          0.475
         ],
         "gridcolor": "#E1E5ED",
         "showgrid": false,
         "tickfont": {
          "color": "#4D5663"
         },
         "title": {
          "font": {
           "color": "#4D5663"
          },
          "text": ""
         },
         "zerolinecolor": "#E1E5ED"
        },
        "xaxis15": {
         "anchor": "y15",
         "domain": [
          0.525,
          0.7375
         ],
         "gridcolor": "#E1E5ED",
         "showgrid": false,
         "tickfont": {
          "color": "#4D5663"
         },
         "title": {
          "font": {
           "color": "#4D5663"
          },
          "text": ""
         },
         "zerolinecolor": "#E1E5ED"
        },
        "xaxis16": {
         "anchor": "y16",
         "domain": [
          0.7875,
          1
         ],
         "gridcolor": "#E1E5ED",
         "showgrid": false,
         "tickfont": {
          "color": "#4D5663"
         },
         "title": {
          "font": {
           "color": "#4D5663"
          },
          "text": ""
         },
         "zerolinecolor": "#E1E5ED"
        },
        "xaxis2": {
         "anchor": "y2",
         "domain": [
          0.2625,
          0.475
         ],
         "gridcolor": "#E1E5ED",
         "showgrid": false,
         "tickfont": {
          "color": "#4D5663"
         },
         "title": {
          "font": {
           "color": "#4D5663"
          },
          "text": ""
         },
         "zerolinecolor": "#E1E5ED"
        },
        "xaxis3": {
         "anchor": "y3",
         "domain": [
          0.525,
          0.7375
         ],
         "gridcolor": "#E1E5ED",
         "showgrid": false,
         "tickfont": {
          "color": "#4D5663"
         },
         "title": {
          "font": {
           "color": "#4D5663"
          },
          "text": ""
         },
         "zerolinecolor": "#E1E5ED"
        },
        "xaxis4": {
         "anchor": "y4",
         "domain": [
          0.7875,
          1
         ],
         "gridcolor": "#E1E5ED",
         "showgrid": false,
         "tickfont": {
          "color": "#4D5663"
         },
         "title": {
          "font": {
           "color": "#4D5663"
          },
          "text": ""
         },
         "zerolinecolor": "#E1E5ED"
        },
        "xaxis5": {
         "anchor": "y5",
         "domain": [
          0,
          0.2125
         ],
         "gridcolor": "#E1E5ED",
         "showgrid": false,
         "tickfont": {
          "color": "#4D5663"
         },
         "title": {
          "font": {
           "color": "#4D5663"
          },
          "text": ""
         },
         "zerolinecolor": "#E1E5ED"
        },
        "xaxis6": {
         "anchor": "y6",
         "domain": [
          0.2625,
          0.475
         ],
         "gridcolor": "#E1E5ED",
         "showgrid": false,
         "tickfont": {
          "color": "#4D5663"
         },
         "title": {
          "font": {
           "color": "#4D5663"
          },
          "text": ""
         },
         "zerolinecolor": "#E1E5ED"
        },
        "xaxis7": {
         "anchor": "y7",
         "domain": [
          0.525,
          0.7375
         ],
         "gridcolor": "#E1E5ED",
         "showgrid": false,
         "tickfont": {
          "color": "#4D5663"
         },
         "title": {
          "font": {
           "color": "#4D5663"
          },
          "text": ""
         },
         "zerolinecolor": "#E1E5ED"
        },
        "xaxis8": {
         "anchor": "y8",
         "domain": [
          0.7875,
          1
         ],
         "gridcolor": "#E1E5ED",
         "showgrid": false,
         "tickfont": {
          "color": "#4D5663"
         },
         "title": {
          "font": {
           "color": "#4D5663"
          },
          "text": ""
         },
         "zerolinecolor": "#E1E5ED"
        },
        "xaxis9": {
         "anchor": "y9",
         "domain": [
          0,
          0.2125
         ],
         "gridcolor": "#E1E5ED",
         "showgrid": false,
         "tickfont": {
          "color": "#4D5663"
         },
         "title": {
          "font": {
           "color": "#4D5663"
          },
          "text": ""
         },
         "zerolinecolor": "#E1E5ED"
        },
        "yaxis": {
         "anchor": "x",
         "domain": [
          0.8025,
          1
         ],
         "gridcolor": "#E1E5ED",
         "showgrid": false,
         "tickfont": {
          "color": "#4D5663"
         },
         "title": {
          "font": {
           "color": "#4D5663"
          },
          "text": ""
         },
         "zerolinecolor": "#E1E5ED"
        },
        "yaxis10": {
         "anchor": "x10",
         "domain": [
          0.2675,
          0.465
         ],
         "gridcolor": "#E1E5ED",
         "showgrid": false,
         "tickfont": {
          "color": "#4D5663"
         },
         "title": {
          "font": {
           "color": "#4D5663"
          },
          "text": ""
         },
         "zerolinecolor": "#E1E5ED"
        },
        "yaxis11": {
         "anchor": "x11",
         "domain": [
          0.2675,
          0.465
         ],
         "gridcolor": "#E1E5ED",
         "showgrid": false,
         "tickfont": {
          "color": "#4D5663"
         },
         "title": {
          "font": {
           "color": "#4D5663"
          },
          "text": ""
         },
         "zerolinecolor": "#E1E5ED"
        },
        "yaxis12": {
         "anchor": "x12",
         "domain": [
          0.2675,
          0.465
         ],
         "gridcolor": "#E1E5ED",
         "showgrid": false,
         "tickfont": {
          "color": "#4D5663"
         },
         "title": {
          "font": {
           "color": "#4D5663"
          },
          "text": ""
         },
         "zerolinecolor": "#E1E5ED"
        },
        "yaxis13": {
         "anchor": "x13",
         "domain": [
          0,
          0.1975
         ],
         "gridcolor": "#E1E5ED",
         "showgrid": false,
         "tickfont": {
          "color": "#4D5663"
         },
         "title": {
          "font": {
           "color": "#4D5663"
          },
          "text": ""
         },
         "zerolinecolor": "#E1E5ED"
        },
        "yaxis14": {
         "anchor": "x14",
         "domain": [
          0,
          0.1975
         ],
         "gridcolor": "#E1E5ED",
         "showgrid": false,
         "tickfont": {
          "color": "#4D5663"
         },
         "title": {
          "font": {
           "color": "#4D5663"
          },
          "text": ""
         },
         "zerolinecolor": "#E1E5ED"
        },
        "yaxis15": {
         "anchor": "x15",
         "domain": [
          0,
          0.1975
         ],
         "gridcolor": "#E1E5ED",
         "showgrid": false,
         "tickfont": {
          "color": "#4D5663"
         },
         "title": {
          "font": {
           "color": "#4D5663"
          },
          "text": ""
         },
         "zerolinecolor": "#E1E5ED"
        },
        "yaxis16": {
         "anchor": "x16",
         "domain": [
          0,
          0.1975
         ],
         "gridcolor": "#E1E5ED",
         "showgrid": false,
         "tickfont": {
          "color": "#4D5663"
         },
         "title": {
          "font": {
           "color": "#4D5663"
          },
          "text": ""
         },
         "zerolinecolor": "#E1E5ED"
        },
        "yaxis2": {
         "anchor": "x2",
         "domain": [
          0.8025,
          1
         ],
         "gridcolor": "#E1E5ED",
         "showgrid": false,
         "tickfont": {
          "color": "#4D5663"
         },
         "title": {
          "font": {
           "color": "#4D5663"
          },
          "text": ""
         },
         "zerolinecolor": "#E1E5ED"
        },
        "yaxis3": {
         "anchor": "x3",
         "domain": [
          0.8025,
          1
         ],
         "gridcolor": "#E1E5ED",
         "showgrid": false,
         "tickfont": {
          "color": "#4D5663"
         },
         "title": {
          "font": {
           "color": "#4D5663"
          },
          "text": ""
         },
         "zerolinecolor": "#E1E5ED"
        },
        "yaxis4": {
         "anchor": "x4",
         "domain": [
          0.8025,
          1
         ],
         "gridcolor": "#E1E5ED",
         "showgrid": false,
         "tickfont": {
          "color": "#4D5663"
         },
         "title": {
          "font": {
           "color": "#4D5663"
          },
          "text": ""
         },
         "zerolinecolor": "#E1E5ED"
        },
        "yaxis5": {
         "anchor": "x5",
         "domain": [
          0.535,
          0.7325
         ],
         "gridcolor": "#E1E5ED",
         "showgrid": false,
         "tickfont": {
          "color": "#4D5663"
         },
         "title": {
          "font": {
           "color": "#4D5663"
          },
          "text": ""
         },
         "zerolinecolor": "#E1E5ED"
        },
        "yaxis6": {
         "anchor": "x6",
         "domain": [
          0.535,
          0.7325
         ],
         "gridcolor": "#E1E5ED",
         "showgrid": false,
         "tickfont": {
          "color": "#4D5663"
         },
         "title": {
          "font": {
           "color": "#4D5663"
          },
          "text": ""
         },
         "zerolinecolor": "#E1E5ED"
        },
        "yaxis7": {
         "anchor": "x7",
         "domain": [
          0.535,
          0.7325
         ],
         "gridcolor": "#E1E5ED",
         "showgrid": false,
         "tickfont": {
          "color": "#4D5663"
         },
         "title": {
          "font": {
           "color": "#4D5663"
          },
          "text": ""
         },
         "zerolinecolor": "#E1E5ED"
        },
        "yaxis8": {
         "anchor": "x8",
         "domain": [
          0.535,
          0.7325
         ],
         "gridcolor": "#E1E5ED",
         "showgrid": false,
         "tickfont": {
          "color": "#4D5663"
         },
         "title": {
          "font": {
           "color": "#4D5663"
          },
          "text": ""
         },
         "zerolinecolor": "#E1E5ED"
        },
        "yaxis9": {
         "anchor": "x9",
         "domain": [
          0.2675,
          0.465
         ],
         "gridcolor": "#E1E5ED",
         "showgrid": false,
         "tickfont": {
          "color": "#4D5663"
         },
         "title": {
          "font": {
           "color": "#4D5663"
          },
          "text": ""
         },
         "zerolinecolor": "#E1E5ED"
        }
       }
      },
      "text/html": [
       "<div>                            <div id=\"7c695fcc-1336-4a05-b091-16d81273b3eb\" class=\"plotly-graph-div\" style=\"height:525px; width:100%;\"></div>            <script type=\"text/javascript\">                require([\"plotly\"], function(Plotly) {                    window.PLOTLYENV=window.PLOTLYENV || {};\n",
       "                    window.PLOTLYENV.BASE_URL='https://plot.ly';                                    if (document.getElementById(\"7c695fcc-1336-4a05-b091-16d81273b3eb\")) {                    Plotly.newPlot(                        \"7c695fcc-1336-4a05-b091-16d81273b3eb\",                        [{\"histfunc\":\"count\",\"histnorm\":\"\",\"marker\":{\"color\":\"rgba(255, 153, 51, 1.0)\",\"line\":{\"color\":\"#4D5663\",\"width\":1.3}},\"name\":\"A\",\"nbinsx\":10,\"opacity\":0.8,\"orientation\":\"v\",\"x\":[-1.6201976890972134,1.179015368276081,-1.6214936519133512,0.03047124553832825,-0.2526286104197828,-0.9379499246694599,0.8269671650355134,0.38325540578942224,-1.3369240350745981,-0.1571043386951906,-0.47374238434467664,0.023099309943598014,0.733279230152324,0.4327892353101228,0.7866427226972601,0.8193153509882917,-0.6573163617758523,1.1080405429061686,-1.6288423934815082,0.19327248550973222,0.4670318890218097,0.24344411424644669,-1.3311134389816102,1.1620551223577433,1.2912876489780356,0.18104564980079738,-0.920957826249496,0.8153373278150663,0.4141237490605079,-1.2233923269366347,1.1809931936702687,-0.7472502325260357,0.7316732664119959,-0.24907740141754095,-1.856039241555898,0.48557905752155645,0.942283881961478,0.3578556108847455,-1.8677443406725636,1.0023813900186556,-0.2507150736742075,-0.9952209282809444,0.3996845671425887,-0.9446255241307885,-0.04225580624092134,-0.3506283854717632,1.413574037050735,-1.0317515856596224,1.480630113279642,0.39947797467673907,-0.6931505541669951,0.5821102631893128,0.4962188462986672,-0.2581590569711388,0.8973741639491336,-0.10080319290798798,-0.15464812870423214,0.8678202284599688,1.4082624375863562,-1.9604410319949725,1.5980717080218183,1.2573680424497145,0.8735081041173356,-1.0539724794624896,0.14895184661081642,1.0605146334574904,1.2608514085352878,0.240971785315486,0.2748063637274384,0.3539595539621846,1.2342208918053148,0.7223660874952281,-0.8641043702663473,-1.722594215592153,0.5522634434427093,-0.49545212848549014,-0.4298662616575933,0.8912737176769494,0.7827711272796617,1.2401269084078836,0.708741330504012,-0.7042768008570168,2.0624212994254996,-0.8775630823875434,-0.5172012578681376,0.08542921152016249,-0.9155834771940242,0.009828356120732294,-2.0744709535958066,0.22643759282650308,-0.5150997924470277,1.1698742620669689,1.666037436029818,0.2548941811062244,-0.11358095313937175,1.8217550714168769,-1.1735435230757323,-0.7592093728741733,-0.2988109427460776,0.9961206466322576],\"xaxis\":\"x\",\"yaxis\":\"y\",\"type\":\"histogram\"},{\"line\":{\"color\":\"rgba(128, 128, 128, 1.0)\",\"dash\":\"solid\",\"shape\":\"linear\",\"width\":1.3},\"marker\":{\"size\":2,\"symbol\":\"circle\"},\"mode\":\"markers\",\"name\":\"A\",\"text\":\"\",\"x\":[0.8297594902124418,-0.2783114996995031,-1.5289569523977877,-0.024712108089802683,-0.0247326672640995,-0.22748462092405278,-1.2046557250956362,-0.492574198134032,-0.8277087842007413,-0.5268682018178362,-0.7466368292324888,-1.6747939271306416,0.5515156661553242,-1.4772162733955383,-0.4254126914075391,-0.7914420736295171,-0.7253414533807264,-1.261797119079572,-1.2962240385283845,0.24117064460294366,1.0626596268890234,0.3330657373571715,-0.8173888046756824,0.625709231685683,0.9497207509658698,-0.7209576199345601,0.6113091443302957,0.09729281095671156,-0.7720024468971365,0.5930894634932572,1.5483268480595687,0.522617504572752,-0.9098182135648303,0.8715182286216513,-1.2908008408179037,-0.6816068106752934,0.30578782752968925,0.1326510272491607,0.36890944266358217,-0.4915204209445604,-0.1294344400609409,-0.4139232476620148,0.4904096710435924,-0.5021389171965049,-0.7041451895138741,1.915610746784163,-0.9811622770096722,0.41472580478141413,-0.00030173699829042525,-0.07742300302041409,0.03821276810804631,0.71686602330355,0.7574747053680021,0.9042140473633455,0.09759224671913559,-1.1803292048548368,-0.026214865627643223,-0.5459197506001886,0.7467193926971661,0.5431577761382423,0.210930427755455,1.2499441487288871,-3.048441413801019,0.02508455116907912,0.5476447945766364,-0.7718383664981547,-1.6821314507638936,-0.07769256589389573,1.4900168390869943,-0.8953597891744572,-0.33672148128028784,-0.7566801384767264,-0.43941583681939644,-0.6412448031731541,-0.5172857599200201,0.45956923847605186,1.8116969199744073,-0.5781802190947594,0.770776684992134,0.8627961753027991,-1.1575397220968435,0.8197478512094455,0.23064721862991777,0.008127836945889876,-0.7556460615903183,-0.6583060701628153,0.15637623791267963,-0.07895953358710191,-0.4364679669264129,1.636674909247799,-1.1480973336937255,-1.4056268439017143,0.7341548146711661,-0.1993410576061871,0.05287239073333219,0.6179748443438318,0.5181127568744494,-0.025898918350763307,0.23189176039414636,-0.3260572062212705],\"xaxis\":\"x2\",\"y\":[-1.6201976890972134,1.179015368276081,-1.6214936519133512,0.03047124553832825,-0.2526286104197828,-0.9379499246694599,0.8269671650355134,0.38325540578942224,-1.3369240350745981,-0.1571043386951906,-0.47374238434467664,0.023099309943598014,0.733279230152324,0.4327892353101228,0.7866427226972601,0.8193153509882917,-0.6573163617758523,1.1080405429061686,-1.6288423934815082,0.19327248550973222,0.4670318890218097,0.24344411424644669,-1.3311134389816102,1.1620551223577433,1.2912876489780356,0.18104564980079738,-0.920957826249496,0.8153373278150663,0.4141237490605079,-1.2233923269366347,1.1809931936702687,-0.7472502325260357,0.7316732664119959,-0.24907740141754095,-1.856039241555898,0.48557905752155645,0.942283881961478,0.3578556108847455,-1.8677443406725636,1.0023813900186556,-0.2507150736742075,-0.9952209282809444,0.3996845671425887,-0.9446255241307885,-0.04225580624092134,-0.3506283854717632,1.413574037050735,-1.0317515856596224,1.480630113279642,0.39947797467673907,-0.6931505541669951,0.5821102631893128,0.4962188462986672,-0.2581590569711388,0.8973741639491336,-0.10080319290798798,-0.15464812870423214,0.8678202284599688,1.4082624375863562,-1.9604410319949725,1.5980717080218183,1.2573680424497145,0.8735081041173356,-1.0539724794624896,0.14895184661081642,1.0605146334574904,1.2608514085352878,0.240971785315486,0.2748063637274384,0.3539595539621846,1.2342208918053148,0.7223660874952281,-0.8641043702663473,-1.722594215592153,0.5522634434427093,-0.49545212848549014,-0.4298662616575933,0.8912737176769494,0.7827711272796617,1.2401269084078836,0.708741330504012,-0.7042768008570168,2.0624212994254996,-0.8775630823875434,-0.5172012578681376,0.08542921152016249,-0.9155834771940242,0.009828356120732294,-2.0744709535958066,0.22643759282650308,-0.5150997924470277,1.1698742620669689,1.666037436029818,0.2548941811062244,-0.11358095313937175,1.8217550714168769,-1.1735435230757323,-0.7592093728741733,-0.2988109427460776,0.9961206466322576],\"yaxis\":\"y2\",\"type\":\"scatter\"},{\"line\":{\"color\":\"rgba(128, 128, 128, 1.0)\",\"dash\":\"solid\",\"shape\":\"linear\",\"width\":1.3},\"marker\":{\"size\":2,\"symbol\":\"circle\"},\"mode\":\"markers\",\"name\":\"A\",\"text\":\"\",\"x\":[0.1932594339729936,-0.7346078843467054,1.626721586718804,0.8622725100067306,1.884882371317921,0.07565611487999387,-0.949282879507972,0.2492832253090776,0.1617069952641982,-0.38744803932455996,1.2323303086749207,-1.190017637158588,-0.16830389117711506,-0.18386571758090633,1.0416557307064032,-0.042683927280048564,-0.17943027443046825,0.09377608525222707,-0.34648028893403987,-1.3457124779089722,-0.5525422427384641,-2.504073711790753,0.08250692893788068,-0.15041226213454875,0.9564631115478902,0.994484222083241,1.916197578201942,-0.05732294129786576,0.249732100104231,-1.4408748388524284,-0.09296563888149552,-0.8365210168918193,2.2407072892749627,2.1106343291381227,-1.6861403986523635,-1.034440193799756,-1.4444378857153906,0.9364318540717749,1.2222570551045786,1.3047617801280775,-1.1952725755094704,0.3975262202920816,-0.7644800997365796,-1.5256011134179415,-1.8422218739969782,0.47260623440965754,1.1740354691983002,1.1638292965378618,0.7534688339655372,0.510374090916698,-0.14746026760231526,-1.4386063987093967,-0.10994209372314256,0.041850402730792255,0.4484838739564346,-0.2808213728997883,-0.6930274130372971,0.3620875780636234,2.248105842946969,0.7677277190660735,1.7172351693725438,0.3263861424187183,-0.17999655658451777,1.020187272897391,-0.958610339512646,0.7001642445280409,0.05607639606367041,-0.2660137814733033,0.29983991626422046,0.5910217437942568,-1.5668057130023978,-0.19591809005778352,2.4233025514867097,0.17546165225853128,0.6180205093993774,1.9911965539946757,0.8775026671228272,1.0197265883044442,1.1154042158684525,0.258128501474009,-0.20453836003383732,-0.46786072204702805,-0.24717581477741823,0.21092813592563098,1.0496994092450707,0.9117689173929281,-1.0835439860947247,-1.5513057361359273,1.533950647696765,0.5479409348589601,0.4942596004016569,-0.72466919800214,0.5544445395611213,0.4671857417000131,0.10548935770946632,-0.5398544505298176,0.8210475207158915,-0.4387802832146619,-0.789397221731786,-1.044080379036547],\"xaxis\":\"x3\",\"y\":[-1.6201976890972134,1.179015368276081,-1.6214936519133512,0.03047124553832825,-0.2526286104197828,-0.9379499246694599,0.8269671650355134,0.38325540578942224,-1.3369240350745981,-0.1571043386951906,-0.47374238434467664,0.023099309943598014,0.733279230152324,0.4327892353101228,0.7866427226972601,0.8193153509882917,-0.6573163617758523,1.1080405429061686,-1.6288423934815082,0.19327248550973222,0.4670318890218097,0.24344411424644669,-1.3311134389816102,1.1620551223577433,1.2912876489780356,0.18104564980079738,-0.920957826249496,0.8153373278150663,0.4141237490605079,-1.2233923269366347,1.1809931936702687,-0.7472502325260357,0.7316732664119959,-0.24907740141754095,-1.856039241555898,0.48557905752155645,0.942283881961478,0.3578556108847455,-1.8677443406725636,1.0023813900186556,-0.2507150736742075,-0.9952209282809444,0.3996845671425887,-0.9446255241307885,-0.04225580624092134,-0.3506283854717632,1.413574037050735,-1.0317515856596224,1.480630113279642,0.39947797467673907,-0.6931505541669951,0.5821102631893128,0.4962188462986672,-0.2581590569711388,0.8973741639491336,-0.10080319290798798,-0.15464812870423214,0.8678202284599688,1.4082624375863562,-1.9604410319949725,1.5980717080218183,1.2573680424497145,0.8735081041173356,-1.0539724794624896,0.14895184661081642,1.0605146334574904,1.2608514085352878,0.240971785315486,0.2748063637274384,0.3539595539621846,1.2342208918053148,0.7223660874952281,-0.8641043702663473,-1.722594215592153,0.5522634434427093,-0.49545212848549014,-0.4298662616575933,0.8912737176769494,0.7827711272796617,1.2401269084078836,0.708741330504012,-0.7042768008570168,2.0624212994254996,-0.8775630823875434,-0.5172012578681376,0.08542921152016249,-0.9155834771940242,0.009828356120732294,-2.0744709535958066,0.22643759282650308,-0.5150997924470277,1.1698742620669689,1.666037436029818,0.2548941811062244,-0.11358095313937175,1.8217550714168769,-1.1735435230757323,-0.7592093728741733,-0.2988109427460776,0.9961206466322576],\"yaxis\":\"y3\",\"type\":\"scatter\"},{\"line\":{\"color\":\"rgba(128, 128, 128, 1.0)\",\"dash\":\"solid\",\"shape\":\"linear\",\"width\":1.3},\"marker\":{\"size\":2,\"symbol\":\"circle\"},\"mode\":\"markers\",\"name\":\"A\",\"text\":\"\",\"x\":[-1.020585532104849,-0.18513196930458953,-0.11883591656360529,-0.7522046588377137,0.881270411969169,-1.981988402972321,-0.4422213258758372,-0.4140964834744494,1.8126299977314346,-1.3582757744531162,-0.484307177266452,1.8037133531513976,0.23483738063352344,0.06886781920886893,-1.3799821939197057,-0.38278138332968387,-0.11244952400790263,-0.41955249919085846,0.5374444455616131,1.5766646336108878,0.08588028544915151,1.8926990198665814,0.6745863813188062,0.11370432687091656,1.4065022224072763,1.187090103750366,1.6159262715902416,0.2986846628834985,1.1645777108923328,-0.054044264837159225,0.871821866165794,0.1312393660762424,-1.503588660141973,0.928161639443395,-2.0076573984129835,-0.507029557707517,0.27686131156773597,1.0708906645885086,-1.5385554399791093,1.016068173942248,0.05622769910926885,-0.2882650024163722,0.6363537922080305,0.073725604414638,0.3285723247491967,-1.7343932874540129,1.0588561536049186,-1.8769000961813378,0.3771656605780358,0.5634974256306269,-0.6579280052841321,-1.7959243405787828,0.3637870659087675,0.4293325657906903,0.20118975505843892,0.8854838002655384,-1.2792893415435076,0.6627474484339916,-0.294672638352821,0.18559336111661404,-1.3180249202926333,-0.00993711607304854,0.05632444888686588,0.24945573162611462,1.6967401265137056,-0.04758116588982786,-0.27432027237511075,2.752971402389824,0.25021784686271226,-0.9344546214700837,-1.007773328606728,-1.3808013824829755,-0.44495295255214856,1.2321247407376885,0.2502942580950086,0.4175198782527313,1.2610120638295061,0.8009675626514536,-1.0126403790973382,0.07580175783164618,-1.1276742790098706,0.73446071160847,-0.28528370082117027,0.1842871502142503,0.9509220004462754,-0.7413038414120923,0.31598158062493925,-0.7754703911684763,-1.0716451747857663,-1.7530491683416134,1.6018744796518758,0.7050485640500473,1.1267463141808924,-0.8122305113474759,0.7350116263813458,-0.5560005979079157,-0.80468013038522,1.8670551852408603,1.6787238800694197,0.3157348580927388],\"xaxis\":\"x4\",\"y\":[-1.6201976890972134,1.179015368276081,-1.6214936519133512,0.03047124553832825,-0.2526286104197828,-0.9379499246694599,0.8269671650355134,0.38325540578942224,-1.3369240350745981,-0.1571043386951906,-0.47374238434467664,0.023099309943598014,0.733279230152324,0.4327892353101228,0.7866427226972601,0.8193153509882917,-0.6573163617758523,1.1080405429061686,-1.6288423934815082,0.19327248550973222,0.4670318890218097,0.24344411424644669,-1.3311134389816102,1.1620551223577433,1.2912876489780356,0.18104564980079738,-0.920957826249496,0.8153373278150663,0.4141237490605079,-1.2233923269366347,1.1809931936702687,-0.7472502325260357,0.7316732664119959,-0.24907740141754095,-1.856039241555898,0.48557905752155645,0.942283881961478,0.3578556108847455,-1.8677443406725636,1.0023813900186556,-0.2507150736742075,-0.9952209282809444,0.3996845671425887,-0.9446255241307885,-0.04225580624092134,-0.3506283854717632,1.413574037050735,-1.0317515856596224,1.480630113279642,0.39947797467673907,-0.6931505541669951,0.5821102631893128,0.4962188462986672,-0.2581590569711388,0.8973741639491336,-0.10080319290798798,-0.15464812870423214,0.8678202284599688,1.4082624375863562,-1.9604410319949725,1.5980717080218183,1.2573680424497145,0.8735081041173356,-1.0539724794624896,0.14895184661081642,1.0605146334574904,1.2608514085352878,0.240971785315486,0.2748063637274384,0.3539595539621846,1.2342208918053148,0.7223660874952281,-0.8641043702663473,-1.722594215592153,0.5522634434427093,-0.49545212848549014,-0.4298662616575933,0.8912737176769494,0.7827711272796617,1.2401269084078836,0.708741330504012,-0.7042768008570168,2.0624212994254996,-0.8775630823875434,-0.5172012578681376,0.08542921152016249,-0.9155834771940242,0.009828356120732294,-2.0744709535958066,0.22643759282650308,-0.5150997924470277,1.1698742620669689,1.666037436029818,0.2548941811062244,-0.11358095313937175,1.8217550714168769,-1.1735435230757323,-0.7592093728741733,-0.2988109427460776,0.9961206466322576],\"yaxis\":\"y4\",\"type\":\"scatter\"},{\"line\":{\"color\":\"rgba(128, 128, 128, 1.0)\",\"dash\":\"solid\",\"shape\":\"linear\",\"width\":1.3},\"marker\":{\"size\":2,\"symbol\":\"circle\"},\"mode\":\"markers\",\"name\":\"B\",\"text\":\"\",\"x\":[-1.6201976890972134,1.179015368276081,-1.6214936519133512,0.03047124553832825,-0.2526286104197828,-0.9379499246694599,0.8269671650355134,0.38325540578942224,-1.3369240350745981,-0.1571043386951906,-0.47374238434467664,0.023099309943598014,0.733279230152324,0.4327892353101228,0.7866427226972601,0.8193153509882917,-0.6573163617758523,1.1080405429061686,-1.6288423934815082,0.19327248550973222,0.4670318890218097,0.24344411424644669,-1.3311134389816102,1.1620551223577433,1.2912876489780356,0.18104564980079738,-0.920957826249496,0.8153373278150663,0.4141237490605079,-1.2233923269366347,1.1809931936702687,-0.7472502325260357,0.7316732664119959,-0.24907740141754095,-1.856039241555898,0.48557905752155645,0.942283881961478,0.3578556108847455,-1.8677443406725636,1.0023813900186556,-0.2507150736742075,-0.9952209282809444,0.3996845671425887,-0.9446255241307885,-0.04225580624092134,-0.3506283854717632,1.413574037050735,-1.0317515856596224,1.480630113279642,0.39947797467673907,-0.6931505541669951,0.5821102631893128,0.4962188462986672,-0.2581590569711388,0.8973741639491336,-0.10080319290798798,-0.15464812870423214,0.8678202284599688,1.4082624375863562,-1.9604410319949725,1.5980717080218183,1.2573680424497145,0.8735081041173356,-1.0539724794624896,0.14895184661081642,1.0605146334574904,1.2608514085352878,0.240971785315486,0.2748063637274384,0.3539595539621846,1.2342208918053148,0.7223660874952281,-0.8641043702663473,-1.722594215592153,0.5522634434427093,-0.49545212848549014,-0.4298662616575933,0.8912737176769494,0.7827711272796617,1.2401269084078836,0.708741330504012,-0.7042768008570168,2.0624212994254996,-0.8775630823875434,-0.5172012578681376,0.08542921152016249,-0.9155834771940242,0.009828356120732294,-2.0744709535958066,0.22643759282650308,-0.5150997924470277,1.1698742620669689,1.666037436029818,0.2548941811062244,-0.11358095313937175,1.8217550714168769,-1.1735435230757323,-0.7592093728741733,-0.2988109427460776,0.9961206466322576],\"xaxis\":\"x5\",\"y\":[0.8297594902124418,-0.2783114996995031,-1.5289569523977877,-0.024712108089802683,-0.0247326672640995,-0.22748462092405278,-1.2046557250956362,-0.492574198134032,-0.8277087842007413,-0.5268682018178362,-0.7466368292324888,-1.6747939271306416,0.5515156661553242,-1.4772162733955383,-0.4254126914075391,-0.7914420736295171,-0.7253414533807264,-1.261797119079572,-1.2962240385283845,0.24117064460294366,1.0626596268890234,0.3330657373571715,-0.8173888046756824,0.625709231685683,0.9497207509658698,-0.7209576199345601,0.6113091443302957,0.09729281095671156,-0.7720024468971365,0.5930894634932572,1.5483268480595687,0.522617504572752,-0.9098182135648303,0.8715182286216513,-1.2908008408179037,-0.6816068106752934,0.30578782752968925,0.1326510272491607,0.36890944266358217,-0.4915204209445604,-0.1294344400609409,-0.4139232476620148,0.4904096710435924,-0.5021389171965049,-0.7041451895138741,1.915610746784163,-0.9811622770096722,0.41472580478141413,-0.00030173699829042525,-0.07742300302041409,0.03821276810804631,0.71686602330355,0.7574747053680021,0.9042140473633455,0.09759224671913559,-1.1803292048548368,-0.026214865627643223,-0.5459197506001886,0.7467193926971661,0.5431577761382423,0.210930427755455,1.2499441487288871,-3.048441413801019,0.02508455116907912,0.5476447945766364,-0.7718383664981547,-1.6821314507638936,-0.07769256589389573,1.4900168390869943,-0.8953597891744572,-0.33672148128028784,-0.7566801384767264,-0.43941583681939644,-0.6412448031731541,-0.5172857599200201,0.45956923847605186,1.8116969199744073,-0.5781802190947594,0.770776684992134,0.8627961753027991,-1.1575397220968435,0.8197478512094455,0.23064721862991777,0.008127836945889876,-0.7556460615903183,-0.6583060701628153,0.15637623791267963,-0.07895953358710191,-0.4364679669264129,1.636674909247799,-1.1480973336937255,-1.4056268439017143,0.7341548146711661,-0.1993410576061871,0.05287239073333219,0.6179748443438318,0.5181127568744494,-0.025898918350763307,0.23189176039414636,-0.3260572062212705],\"yaxis\":\"y5\",\"type\":\"scatter\"},{\"histfunc\":\"count\",\"histnorm\":\"\",\"marker\":{\"color\":\"rgba(55, 128, 191, 1.0)\",\"line\":{\"color\":\"#4D5663\",\"width\":1.3}},\"name\":\"B\",\"nbinsx\":10,\"opacity\":0.8,\"orientation\":\"v\",\"x\":[0.8297594902124418,-0.2783114996995031,-1.5289569523977877,-0.024712108089802683,-0.0247326672640995,-0.22748462092405278,-1.2046557250956362,-0.492574198134032,-0.8277087842007413,-0.5268682018178362,-0.7466368292324888,-1.6747939271306416,0.5515156661553242,-1.4772162733955383,-0.4254126914075391,-0.7914420736295171,-0.7253414533807264,-1.261797119079572,-1.2962240385283845,0.24117064460294366,1.0626596268890234,0.3330657373571715,-0.8173888046756824,0.625709231685683,0.9497207509658698,-0.7209576199345601,0.6113091443302957,0.09729281095671156,-0.7720024468971365,0.5930894634932572,1.5483268480595687,0.522617504572752,-0.9098182135648303,0.8715182286216513,-1.2908008408179037,-0.6816068106752934,0.30578782752968925,0.1326510272491607,0.36890944266358217,-0.4915204209445604,-0.1294344400609409,-0.4139232476620148,0.4904096710435924,-0.5021389171965049,-0.7041451895138741,1.915610746784163,-0.9811622770096722,0.41472580478141413,-0.00030173699829042525,-0.07742300302041409,0.03821276810804631,0.71686602330355,0.7574747053680021,0.9042140473633455,0.09759224671913559,-1.1803292048548368,-0.026214865627643223,-0.5459197506001886,0.7467193926971661,0.5431577761382423,0.210930427755455,1.2499441487288871,-3.048441413801019,0.02508455116907912,0.5476447945766364,-0.7718383664981547,-1.6821314507638936,-0.07769256589389573,1.4900168390869943,-0.8953597891744572,-0.33672148128028784,-0.7566801384767264,-0.43941583681939644,-0.6412448031731541,-0.5172857599200201,0.45956923847605186,1.8116969199744073,-0.5781802190947594,0.770776684992134,0.8627961753027991,-1.1575397220968435,0.8197478512094455,0.23064721862991777,0.008127836945889876,-0.7556460615903183,-0.6583060701628153,0.15637623791267963,-0.07895953358710191,-0.4364679669264129,1.636674909247799,-1.1480973336937255,-1.4056268439017143,0.7341548146711661,-0.1993410576061871,0.05287239073333219,0.6179748443438318,0.5181127568744494,-0.025898918350763307,0.23189176039414636,-0.3260572062212705],\"xaxis\":\"x6\",\"yaxis\":\"y6\",\"type\":\"histogram\"},{\"line\":{\"color\":\"rgba(128, 128, 128, 1.0)\",\"dash\":\"solid\",\"shape\":\"linear\",\"width\":1.3},\"marker\":{\"size\":2,\"symbol\":\"circle\"},\"mode\":\"markers\",\"name\":\"B\",\"text\":\"\",\"x\":[0.1932594339729936,-0.7346078843467054,1.626721586718804,0.8622725100067306,1.884882371317921,0.07565611487999387,-0.949282879507972,0.2492832253090776,0.1617069952641982,-0.38744803932455996,1.2323303086749207,-1.190017637158588,-0.16830389117711506,-0.18386571758090633,1.0416557307064032,-0.042683927280048564,-0.17943027443046825,0.09377608525222707,-0.34648028893403987,-1.3457124779089722,-0.5525422427384641,-2.504073711790753,0.08250692893788068,-0.15041226213454875,0.9564631115478902,0.994484222083241,1.916197578201942,-0.05732294129786576,0.249732100104231,-1.4408748388524284,-0.09296563888149552,-0.8365210168918193,2.2407072892749627,2.1106343291381227,-1.6861403986523635,-1.034440193799756,-1.4444378857153906,0.9364318540717749,1.2222570551045786,1.3047617801280775,-1.1952725755094704,0.3975262202920816,-0.7644800997365796,-1.5256011134179415,-1.8422218739969782,0.47260623440965754,1.1740354691983002,1.1638292965378618,0.7534688339655372,0.510374090916698,-0.14746026760231526,-1.4386063987093967,-0.10994209372314256,0.041850402730792255,0.4484838739564346,-0.2808213728997883,-0.6930274130372971,0.3620875780636234,2.248105842946969,0.7677277190660735,1.7172351693725438,0.3263861424187183,-0.17999655658451777,1.020187272897391,-0.958610339512646,0.7001642445280409,0.05607639606367041,-0.2660137814733033,0.29983991626422046,0.5910217437942568,-1.5668057130023978,-0.19591809005778352,2.4233025514867097,0.17546165225853128,0.6180205093993774,1.9911965539946757,0.8775026671228272,1.0197265883044442,1.1154042158684525,0.258128501474009,-0.20453836003383732,-0.46786072204702805,-0.24717581477741823,0.21092813592563098,1.0496994092450707,0.9117689173929281,-1.0835439860947247,-1.5513057361359273,1.533950647696765,0.5479409348589601,0.4942596004016569,-0.72466919800214,0.5544445395611213,0.4671857417000131,0.10548935770946632,-0.5398544505298176,0.8210475207158915,-0.4387802832146619,-0.789397221731786,-1.044080379036547],\"xaxis\":\"x7\",\"y\":[0.8297594902124418,-0.2783114996995031,-1.5289569523977877,-0.024712108089802683,-0.0247326672640995,-0.22748462092405278,-1.2046557250956362,-0.492574198134032,-0.8277087842007413,-0.5268682018178362,-0.7466368292324888,-1.6747939271306416,0.5515156661553242,-1.4772162733955383,-0.4254126914075391,-0.7914420736295171,-0.7253414533807264,-1.261797119079572,-1.2962240385283845,0.24117064460294366,1.0626596268890234,0.3330657373571715,-0.8173888046756824,0.625709231685683,0.9497207509658698,-0.7209576199345601,0.6113091443302957,0.09729281095671156,-0.7720024468971365,0.5930894634932572,1.5483268480595687,0.522617504572752,-0.9098182135648303,0.8715182286216513,-1.2908008408179037,-0.6816068106752934,0.30578782752968925,0.1326510272491607,0.36890944266358217,-0.4915204209445604,-0.1294344400609409,-0.4139232476620148,0.4904096710435924,-0.5021389171965049,-0.7041451895138741,1.915610746784163,-0.9811622770096722,0.41472580478141413,-0.00030173699829042525,-0.07742300302041409,0.03821276810804631,0.71686602330355,0.7574747053680021,0.9042140473633455,0.09759224671913559,-1.1803292048548368,-0.026214865627643223,-0.5459197506001886,0.7467193926971661,0.5431577761382423,0.210930427755455,1.2499441487288871,-3.048441413801019,0.02508455116907912,0.5476447945766364,-0.7718383664981547,-1.6821314507638936,-0.07769256589389573,1.4900168390869943,-0.8953597891744572,-0.33672148128028784,-0.7566801384767264,-0.43941583681939644,-0.6412448031731541,-0.5172857599200201,0.45956923847605186,1.8116969199744073,-0.5781802190947594,0.770776684992134,0.8627961753027991,-1.1575397220968435,0.8197478512094455,0.23064721862991777,0.008127836945889876,-0.7556460615903183,-0.6583060701628153,0.15637623791267963,-0.07895953358710191,-0.4364679669264129,1.636674909247799,-1.1480973336937255,-1.4056268439017143,0.7341548146711661,-0.1993410576061871,0.05287239073333219,0.6179748443438318,0.5181127568744494,-0.025898918350763307,0.23189176039414636,-0.3260572062212705],\"yaxis\":\"y7\",\"type\":\"scatter\"},{\"line\":{\"color\":\"rgba(128, 128, 128, 1.0)\",\"dash\":\"solid\",\"shape\":\"linear\",\"width\":1.3},\"marker\":{\"size\":2,\"symbol\":\"circle\"},\"mode\":\"markers\",\"name\":\"B\",\"text\":\"\",\"x\":[-1.020585532104849,-0.18513196930458953,-0.11883591656360529,-0.7522046588377137,0.881270411969169,-1.981988402972321,-0.4422213258758372,-0.4140964834744494,1.8126299977314346,-1.3582757744531162,-0.484307177266452,1.8037133531513976,0.23483738063352344,0.06886781920886893,-1.3799821939197057,-0.38278138332968387,-0.11244952400790263,-0.41955249919085846,0.5374444455616131,1.5766646336108878,0.08588028544915151,1.8926990198665814,0.6745863813188062,0.11370432687091656,1.4065022224072763,1.187090103750366,1.6159262715902416,0.2986846628834985,1.1645777108923328,-0.054044264837159225,0.871821866165794,0.1312393660762424,-1.503588660141973,0.928161639443395,-2.0076573984129835,-0.507029557707517,0.27686131156773597,1.0708906645885086,-1.5385554399791093,1.016068173942248,0.05622769910926885,-0.2882650024163722,0.6363537922080305,0.073725604414638,0.3285723247491967,-1.7343932874540129,1.0588561536049186,-1.8769000961813378,0.3771656605780358,0.5634974256306269,-0.6579280052841321,-1.7959243405787828,0.3637870659087675,0.4293325657906903,0.20118975505843892,0.8854838002655384,-1.2792893415435076,0.6627474484339916,-0.294672638352821,0.18559336111661404,-1.3180249202926333,-0.00993711607304854,0.05632444888686588,0.24945573162611462,1.6967401265137056,-0.04758116588982786,-0.27432027237511075,2.752971402389824,0.25021784686271226,-0.9344546214700837,-1.007773328606728,-1.3808013824829755,-0.44495295255214856,1.2321247407376885,0.2502942580950086,0.4175198782527313,1.2610120638295061,0.8009675626514536,-1.0126403790973382,0.07580175783164618,-1.1276742790098706,0.73446071160847,-0.28528370082117027,0.1842871502142503,0.9509220004462754,-0.7413038414120923,0.31598158062493925,-0.7754703911684763,-1.0716451747857663,-1.7530491683416134,1.6018744796518758,0.7050485640500473,1.1267463141808924,-0.8122305113474759,0.7350116263813458,-0.5560005979079157,-0.80468013038522,1.8670551852408603,1.6787238800694197,0.3157348580927388],\"xaxis\":\"x8\",\"y\":[0.8297594902124418,-0.2783114996995031,-1.5289569523977877,-0.024712108089802683,-0.0247326672640995,-0.22748462092405278,-1.2046557250956362,-0.492574198134032,-0.8277087842007413,-0.5268682018178362,-0.7466368292324888,-1.6747939271306416,0.5515156661553242,-1.4772162733955383,-0.4254126914075391,-0.7914420736295171,-0.7253414533807264,-1.261797119079572,-1.2962240385283845,0.24117064460294366,1.0626596268890234,0.3330657373571715,-0.8173888046756824,0.625709231685683,0.9497207509658698,-0.7209576199345601,0.6113091443302957,0.09729281095671156,-0.7720024468971365,0.5930894634932572,1.5483268480595687,0.522617504572752,-0.9098182135648303,0.8715182286216513,-1.2908008408179037,-0.6816068106752934,0.30578782752968925,0.1326510272491607,0.36890944266358217,-0.4915204209445604,-0.1294344400609409,-0.4139232476620148,0.4904096710435924,-0.5021389171965049,-0.7041451895138741,1.915610746784163,-0.9811622770096722,0.41472580478141413,-0.00030173699829042525,-0.07742300302041409,0.03821276810804631,0.71686602330355,0.7574747053680021,0.9042140473633455,0.09759224671913559,-1.1803292048548368,-0.026214865627643223,-0.5459197506001886,0.7467193926971661,0.5431577761382423,0.210930427755455,1.2499441487288871,-3.048441413801019,0.02508455116907912,0.5476447945766364,-0.7718383664981547,-1.6821314507638936,-0.07769256589389573,1.4900168390869943,-0.8953597891744572,-0.33672148128028784,-0.7566801384767264,-0.43941583681939644,-0.6412448031731541,-0.5172857599200201,0.45956923847605186,1.8116969199744073,-0.5781802190947594,0.770776684992134,0.8627961753027991,-1.1575397220968435,0.8197478512094455,0.23064721862991777,0.008127836945889876,-0.7556460615903183,-0.6583060701628153,0.15637623791267963,-0.07895953358710191,-0.4364679669264129,1.636674909247799,-1.1480973336937255,-1.4056268439017143,0.7341548146711661,-0.1993410576061871,0.05287239073333219,0.6179748443438318,0.5181127568744494,-0.025898918350763307,0.23189176039414636,-0.3260572062212705],\"yaxis\":\"y8\",\"type\":\"scatter\"},{\"line\":{\"color\":\"rgba(128, 128, 128, 1.0)\",\"dash\":\"solid\",\"shape\":\"linear\",\"width\":1.3},\"marker\":{\"size\":2,\"symbol\":\"circle\"},\"mode\":\"markers\",\"name\":\"C\",\"text\":\"\",\"x\":[-1.6201976890972134,1.179015368276081,-1.6214936519133512,0.03047124553832825,-0.2526286104197828,-0.9379499246694599,0.8269671650355134,0.38325540578942224,-1.3369240350745981,-0.1571043386951906,-0.47374238434467664,0.023099309943598014,0.733279230152324,0.4327892353101228,0.7866427226972601,0.8193153509882917,-0.6573163617758523,1.1080405429061686,-1.6288423934815082,0.19327248550973222,0.4670318890218097,0.24344411424644669,-1.3311134389816102,1.1620551223577433,1.2912876489780356,0.18104564980079738,-0.920957826249496,0.8153373278150663,0.4141237490605079,-1.2233923269366347,1.1809931936702687,-0.7472502325260357,0.7316732664119959,-0.24907740141754095,-1.856039241555898,0.48557905752155645,0.942283881961478,0.3578556108847455,-1.8677443406725636,1.0023813900186556,-0.2507150736742075,-0.9952209282809444,0.3996845671425887,-0.9446255241307885,-0.04225580624092134,-0.3506283854717632,1.413574037050735,-1.0317515856596224,1.480630113279642,0.39947797467673907,-0.6931505541669951,0.5821102631893128,0.4962188462986672,-0.2581590569711388,0.8973741639491336,-0.10080319290798798,-0.15464812870423214,0.8678202284599688,1.4082624375863562,-1.9604410319949725,1.5980717080218183,1.2573680424497145,0.8735081041173356,-1.0539724794624896,0.14895184661081642,1.0605146334574904,1.2608514085352878,0.240971785315486,0.2748063637274384,0.3539595539621846,1.2342208918053148,0.7223660874952281,-0.8641043702663473,-1.722594215592153,0.5522634434427093,-0.49545212848549014,-0.4298662616575933,0.8912737176769494,0.7827711272796617,1.2401269084078836,0.708741330504012,-0.7042768008570168,2.0624212994254996,-0.8775630823875434,-0.5172012578681376,0.08542921152016249,-0.9155834771940242,0.009828356120732294,-2.0744709535958066,0.22643759282650308,-0.5150997924470277,1.1698742620669689,1.666037436029818,0.2548941811062244,-0.11358095313937175,1.8217550714168769,-1.1735435230757323,-0.7592093728741733,-0.2988109427460776,0.9961206466322576],\"xaxis\":\"x9\",\"y\":[0.1932594339729936,-0.7346078843467054,1.626721586718804,0.8622725100067306,1.884882371317921,0.07565611487999387,-0.949282879507972,0.2492832253090776,0.1617069952641982,-0.38744803932455996,1.2323303086749207,-1.190017637158588,-0.16830389117711506,-0.18386571758090633,1.0416557307064032,-0.042683927280048564,-0.17943027443046825,0.09377608525222707,-0.34648028893403987,-1.3457124779089722,-0.5525422427384641,-2.504073711790753,0.08250692893788068,-0.15041226213454875,0.9564631115478902,0.994484222083241,1.916197578201942,-0.05732294129786576,0.249732100104231,-1.4408748388524284,-0.09296563888149552,-0.8365210168918193,2.2407072892749627,2.1106343291381227,-1.6861403986523635,-1.034440193799756,-1.4444378857153906,0.9364318540717749,1.2222570551045786,1.3047617801280775,-1.1952725755094704,0.3975262202920816,-0.7644800997365796,-1.5256011134179415,-1.8422218739969782,0.47260623440965754,1.1740354691983002,1.1638292965378618,0.7534688339655372,0.510374090916698,-0.14746026760231526,-1.4386063987093967,-0.10994209372314256,0.041850402730792255,0.4484838739564346,-0.2808213728997883,-0.6930274130372971,0.3620875780636234,2.248105842946969,0.7677277190660735,1.7172351693725438,0.3263861424187183,-0.17999655658451777,1.020187272897391,-0.958610339512646,0.7001642445280409,0.05607639606367041,-0.2660137814733033,0.29983991626422046,0.5910217437942568,-1.5668057130023978,-0.19591809005778352,2.4233025514867097,0.17546165225853128,0.6180205093993774,1.9911965539946757,0.8775026671228272,1.0197265883044442,1.1154042158684525,0.258128501474009,-0.20453836003383732,-0.46786072204702805,-0.24717581477741823,0.21092813592563098,1.0496994092450707,0.9117689173929281,-1.0835439860947247,-1.5513057361359273,1.533950647696765,0.5479409348589601,0.4942596004016569,-0.72466919800214,0.5544445395611213,0.4671857417000131,0.10548935770946632,-0.5398544505298176,0.8210475207158915,-0.4387802832146619,-0.789397221731786,-1.044080379036547],\"yaxis\":\"y9\",\"type\":\"scatter\"},{\"line\":{\"color\":\"rgba(128, 128, 128, 1.0)\",\"dash\":\"solid\",\"shape\":\"linear\",\"width\":1.3},\"marker\":{\"size\":2,\"symbol\":\"circle\"},\"mode\":\"markers\",\"name\":\"C\",\"text\":\"\",\"x\":[0.8297594902124418,-0.2783114996995031,-1.5289569523977877,-0.024712108089802683,-0.0247326672640995,-0.22748462092405278,-1.2046557250956362,-0.492574198134032,-0.8277087842007413,-0.5268682018178362,-0.7466368292324888,-1.6747939271306416,0.5515156661553242,-1.4772162733955383,-0.4254126914075391,-0.7914420736295171,-0.7253414533807264,-1.261797119079572,-1.2962240385283845,0.24117064460294366,1.0626596268890234,0.3330657373571715,-0.8173888046756824,0.625709231685683,0.9497207509658698,-0.7209576199345601,0.6113091443302957,0.09729281095671156,-0.7720024468971365,0.5930894634932572,1.5483268480595687,0.522617504572752,-0.9098182135648303,0.8715182286216513,-1.2908008408179037,-0.6816068106752934,0.30578782752968925,0.1326510272491607,0.36890944266358217,-0.4915204209445604,-0.1294344400609409,-0.4139232476620148,0.4904096710435924,-0.5021389171965049,-0.7041451895138741,1.915610746784163,-0.9811622770096722,0.41472580478141413,-0.00030173699829042525,-0.07742300302041409,0.03821276810804631,0.71686602330355,0.7574747053680021,0.9042140473633455,0.09759224671913559,-1.1803292048548368,-0.026214865627643223,-0.5459197506001886,0.7467193926971661,0.5431577761382423,0.210930427755455,1.2499441487288871,-3.048441413801019,0.02508455116907912,0.5476447945766364,-0.7718383664981547,-1.6821314507638936,-0.07769256589389573,1.4900168390869943,-0.8953597891744572,-0.33672148128028784,-0.7566801384767264,-0.43941583681939644,-0.6412448031731541,-0.5172857599200201,0.45956923847605186,1.8116969199744073,-0.5781802190947594,0.770776684992134,0.8627961753027991,-1.1575397220968435,0.8197478512094455,0.23064721862991777,0.008127836945889876,-0.7556460615903183,-0.6583060701628153,0.15637623791267963,-0.07895953358710191,-0.4364679669264129,1.636674909247799,-1.1480973336937255,-1.4056268439017143,0.7341548146711661,-0.1993410576061871,0.05287239073333219,0.6179748443438318,0.5181127568744494,-0.025898918350763307,0.23189176039414636,-0.3260572062212705],\"xaxis\":\"x10\",\"y\":[0.1932594339729936,-0.7346078843467054,1.626721586718804,0.8622725100067306,1.884882371317921,0.07565611487999387,-0.949282879507972,0.2492832253090776,0.1617069952641982,-0.38744803932455996,1.2323303086749207,-1.190017637158588,-0.16830389117711506,-0.18386571758090633,1.0416557307064032,-0.042683927280048564,-0.17943027443046825,0.09377608525222707,-0.34648028893403987,-1.3457124779089722,-0.5525422427384641,-2.504073711790753,0.08250692893788068,-0.15041226213454875,0.9564631115478902,0.994484222083241,1.916197578201942,-0.05732294129786576,0.249732100104231,-1.4408748388524284,-0.09296563888149552,-0.8365210168918193,2.2407072892749627,2.1106343291381227,-1.6861403986523635,-1.034440193799756,-1.4444378857153906,0.9364318540717749,1.2222570551045786,1.3047617801280775,-1.1952725755094704,0.3975262202920816,-0.7644800997365796,-1.5256011134179415,-1.8422218739969782,0.47260623440965754,1.1740354691983002,1.1638292965378618,0.7534688339655372,0.510374090916698,-0.14746026760231526,-1.4386063987093967,-0.10994209372314256,0.041850402730792255,0.4484838739564346,-0.2808213728997883,-0.6930274130372971,0.3620875780636234,2.248105842946969,0.7677277190660735,1.7172351693725438,0.3263861424187183,-0.17999655658451777,1.020187272897391,-0.958610339512646,0.7001642445280409,0.05607639606367041,-0.2660137814733033,0.29983991626422046,0.5910217437942568,-1.5668057130023978,-0.19591809005778352,2.4233025514867097,0.17546165225853128,0.6180205093993774,1.9911965539946757,0.8775026671228272,1.0197265883044442,1.1154042158684525,0.258128501474009,-0.20453836003383732,-0.46786072204702805,-0.24717581477741823,0.21092813592563098,1.0496994092450707,0.9117689173929281,-1.0835439860947247,-1.5513057361359273,1.533950647696765,0.5479409348589601,0.4942596004016569,-0.72466919800214,0.5544445395611213,0.4671857417000131,0.10548935770946632,-0.5398544505298176,0.8210475207158915,-0.4387802832146619,-0.789397221731786,-1.044080379036547],\"yaxis\":\"y10\",\"type\":\"scatter\"},{\"histfunc\":\"count\",\"histnorm\":\"\",\"marker\":{\"color\":\"rgba(50, 171, 96, 1.0)\",\"line\":{\"color\":\"#4D5663\",\"width\":1.3}},\"name\":\"C\",\"nbinsx\":10,\"opacity\":0.8,\"orientation\":\"v\",\"x\":[0.1932594339729936,-0.7346078843467054,1.626721586718804,0.8622725100067306,1.884882371317921,0.07565611487999387,-0.949282879507972,0.2492832253090776,0.1617069952641982,-0.38744803932455996,1.2323303086749207,-1.190017637158588,-0.16830389117711506,-0.18386571758090633,1.0416557307064032,-0.042683927280048564,-0.17943027443046825,0.09377608525222707,-0.34648028893403987,-1.3457124779089722,-0.5525422427384641,-2.504073711790753,0.08250692893788068,-0.15041226213454875,0.9564631115478902,0.994484222083241,1.916197578201942,-0.05732294129786576,0.249732100104231,-1.4408748388524284,-0.09296563888149552,-0.8365210168918193,2.2407072892749627,2.1106343291381227,-1.6861403986523635,-1.034440193799756,-1.4444378857153906,0.9364318540717749,1.2222570551045786,1.3047617801280775,-1.1952725755094704,0.3975262202920816,-0.7644800997365796,-1.5256011134179415,-1.8422218739969782,0.47260623440965754,1.1740354691983002,1.1638292965378618,0.7534688339655372,0.510374090916698,-0.14746026760231526,-1.4386063987093967,-0.10994209372314256,0.041850402730792255,0.4484838739564346,-0.2808213728997883,-0.6930274130372971,0.3620875780636234,2.248105842946969,0.7677277190660735,1.7172351693725438,0.3263861424187183,-0.17999655658451777,1.020187272897391,-0.958610339512646,0.7001642445280409,0.05607639606367041,-0.2660137814733033,0.29983991626422046,0.5910217437942568,-1.5668057130023978,-0.19591809005778352,2.4233025514867097,0.17546165225853128,0.6180205093993774,1.9911965539946757,0.8775026671228272,1.0197265883044442,1.1154042158684525,0.258128501474009,-0.20453836003383732,-0.46786072204702805,-0.24717581477741823,0.21092813592563098,1.0496994092450707,0.9117689173929281,-1.0835439860947247,-1.5513057361359273,1.533950647696765,0.5479409348589601,0.4942596004016569,-0.72466919800214,0.5544445395611213,0.4671857417000131,0.10548935770946632,-0.5398544505298176,0.8210475207158915,-0.4387802832146619,-0.789397221731786,-1.044080379036547],\"xaxis\":\"x11\",\"yaxis\":\"y11\",\"type\":\"histogram\"},{\"line\":{\"color\":\"rgba(128, 128, 128, 1.0)\",\"dash\":\"solid\",\"shape\":\"linear\",\"width\":1.3},\"marker\":{\"size\":2,\"symbol\":\"circle\"},\"mode\":\"markers\",\"name\":\"C\",\"text\":\"\",\"x\":[-1.020585532104849,-0.18513196930458953,-0.11883591656360529,-0.7522046588377137,0.881270411969169,-1.981988402972321,-0.4422213258758372,-0.4140964834744494,1.8126299977314346,-1.3582757744531162,-0.484307177266452,1.8037133531513976,0.23483738063352344,0.06886781920886893,-1.3799821939197057,-0.38278138332968387,-0.11244952400790263,-0.41955249919085846,0.5374444455616131,1.5766646336108878,0.08588028544915151,1.8926990198665814,0.6745863813188062,0.11370432687091656,1.4065022224072763,1.187090103750366,1.6159262715902416,0.2986846628834985,1.1645777108923328,-0.054044264837159225,0.871821866165794,0.1312393660762424,-1.503588660141973,0.928161639443395,-2.0076573984129835,-0.507029557707517,0.27686131156773597,1.0708906645885086,-1.5385554399791093,1.016068173942248,0.05622769910926885,-0.2882650024163722,0.6363537922080305,0.073725604414638,0.3285723247491967,-1.7343932874540129,1.0588561536049186,-1.8769000961813378,0.3771656605780358,0.5634974256306269,-0.6579280052841321,-1.7959243405787828,0.3637870659087675,0.4293325657906903,0.20118975505843892,0.8854838002655384,-1.2792893415435076,0.6627474484339916,-0.294672638352821,0.18559336111661404,-1.3180249202926333,-0.00993711607304854,0.05632444888686588,0.24945573162611462,1.6967401265137056,-0.04758116588982786,-0.27432027237511075,2.752971402389824,0.25021784686271226,-0.9344546214700837,-1.007773328606728,-1.3808013824829755,-0.44495295255214856,1.2321247407376885,0.2502942580950086,0.4175198782527313,1.2610120638295061,0.8009675626514536,-1.0126403790973382,0.07580175783164618,-1.1276742790098706,0.73446071160847,-0.28528370082117027,0.1842871502142503,0.9509220004462754,-0.7413038414120923,0.31598158062493925,-0.7754703911684763,-1.0716451747857663,-1.7530491683416134,1.6018744796518758,0.7050485640500473,1.1267463141808924,-0.8122305113474759,0.7350116263813458,-0.5560005979079157,-0.80468013038522,1.8670551852408603,1.6787238800694197,0.3157348580927388],\"xaxis\":\"x12\",\"y\":[0.1932594339729936,-0.7346078843467054,1.626721586718804,0.8622725100067306,1.884882371317921,0.07565611487999387,-0.949282879507972,0.2492832253090776,0.1617069952641982,-0.38744803932455996,1.2323303086749207,-1.190017637158588,-0.16830389117711506,-0.18386571758090633,1.0416557307064032,-0.042683927280048564,-0.17943027443046825,0.09377608525222707,-0.34648028893403987,-1.3457124779089722,-0.5525422427384641,-2.504073711790753,0.08250692893788068,-0.15041226213454875,0.9564631115478902,0.994484222083241,1.916197578201942,-0.05732294129786576,0.249732100104231,-1.4408748388524284,-0.09296563888149552,-0.8365210168918193,2.2407072892749627,2.1106343291381227,-1.6861403986523635,-1.034440193799756,-1.4444378857153906,0.9364318540717749,1.2222570551045786,1.3047617801280775,-1.1952725755094704,0.3975262202920816,-0.7644800997365796,-1.5256011134179415,-1.8422218739969782,0.47260623440965754,1.1740354691983002,1.1638292965378618,0.7534688339655372,0.510374090916698,-0.14746026760231526,-1.4386063987093967,-0.10994209372314256,0.041850402730792255,0.4484838739564346,-0.2808213728997883,-0.6930274130372971,0.3620875780636234,2.248105842946969,0.7677277190660735,1.7172351693725438,0.3263861424187183,-0.17999655658451777,1.020187272897391,-0.958610339512646,0.7001642445280409,0.05607639606367041,-0.2660137814733033,0.29983991626422046,0.5910217437942568,-1.5668057130023978,-0.19591809005778352,2.4233025514867097,0.17546165225853128,0.6180205093993774,1.9911965539946757,0.8775026671228272,1.0197265883044442,1.1154042158684525,0.258128501474009,-0.20453836003383732,-0.46786072204702805,-0.24717581477741823,0.21092813592563098,1.0496994092450707,0.9117689173929281,-1.0835439860947247,-1.5513057361359273,1.533950647696765,0.5479409348589601,0.4942596004016569,-0.72466919800214,0.5544445395611213,0.4671857417000131,0.10548935770946632,-0.5398544505298176,0.8210475207158915,-0.4387802832146619,-0.789397221731786,-1.044080379036547],\"yaxis\":\"y12\",\"type\":\"scatter\"},{\"line\":{\"color\":\"rgba(128, 128, 128, 1.0)\",\"dash\":\"solid\",\"shape\":\"linear\",\"width\":1.3},\"marker\":{\"size\":2,\"symbol\":\"circle\"},\"mode\":\"markers\",\"name\":\"D\",\"text\":\"\",\"x\":[-1.6201976890972134,1.179015368276081,-1.6214936519133512,0.03047124553832825,-0.2526286104197828,-0.9379499246694599,0.8269671650355134,0.38325540578942224,-1.3369240350745981,-0.1571043386951906,-0.47374238434467664,0.023099309943598014,0.733279230152324,0.4327892353101228,0.7866427226972601,0.8193153509882917,-0.6573163617758523,1.1080405429061686,-1.6288423934815082,0.19327248550973222,0.4670318890218097,0.24344411424644669,-1.3311134389816102,1.1620551223577433,1.2912876489780356,0.18104564980079738,-0.920957826249496,0.8153373278150663,0.4141237490605079,-1.2233923269366347,1.1809931936702687,-0.7472502325260357,0.7316732664119959,-0.24907740141754095,-1.856039241555898,0.48557905752155645,0.942283881961478,0.3578556108847455,-1.8677443406725636,1.0023813900186556,-0.2507150736742075,-0.9952209282809444,0.3996845671425887,-0.9446255241307885,-0.04225580624092134,-0.3506283854717632,1.413574037050735,-1.0317515856596224,1.480630113279642,0.39947797467673907,-0.6931505541669951,0.5821102631893128,0.4962188462986672,-0.2581590569711388,0.8973741639491336,-0.10080319290798798,-0.15464812870423214,0.8678202284599688,1.4082624375863562,-1.9604410319949725,1.5980717080218183,1.2573680424497145,0.8735081041173356,-1.0539724794624896,0.14895184661081642,1.0605146334574904,1.2608514085352878,0.240971785315486,0.2748063637274384,0.3539595539621846,1.2342208918053148,0.7223660874952281,-0.8641043702663473,-1.722594215592153,0.5522634434427093,-0.49545212848549014,-0.4298662616575933,0.8912737176769494,0.7827711272796617,1.2401269084078836,0.708741330504012,-0.7042768008570168,2.0624212994254996,-0.8775630823875434,-0.5172012578681376,0.08542921152016249,-0.9155834771940242,0.009828356120732294,-2.0744709535958066,0.22643759282650308,-0.5150997924470277,1.1698742620669689,1.666037436029818,0.2548941811062244,-0.11358095313937175,1.8217550714168769,-1.1735435230757323,-0.7592093728741733,-0.2988109427460776,0.9961206466322576],\"xaxis\":\"x13\",\"y\":[-1.020585532104849,-0.18513196930458953,-0.11883591656360529,-0.7522046588377137,0.881270411969169,-1.981988402972321,-0.4422213258758372,-0.4140964834744494,1.8126299977314346,-1.3582757744531162,-0.484307177266452,1.8037133531513976,0.23483738063352344,0.06886781920886893,-1.3799821939197057,-0.38278138332968387,-0.11244952400790263,-0.41955249919085846,0.5374444455616131,1.5766646336108878,0.08588028544915151,1.8926990198665814,0.6745863813188062,0.11370432687091656,1.4065022224072763,1.187090103750366,1.6159262715902416,0.2986846628834985,1.1645777108923328,-0.054044264837159225,0.871821866165794,0.1312393660762424,-1.503588660141973,0.928161639443395,-2.0076573984129835,-0.507029557707517,0.27686131156773597,1.0708906645885086,-1.5385554399791093,1.016068173942248,0.05622769910926885,-0.2882650024163722,0.6363537922080305,0.073725604414638,0.3285723247491967,-1.7343932874540129,1.0588561536049186,-1.8769000961813378,0.3771656605780358,0.5634974256306269,-0.6579280052841321,-1.7959243405787828,0.3637870659087675,0.4293325657906903,0.20118975505843892,0.8854838002655384,-1.2792893415435076,0.6627474484339916,-0.294672638352821,0.18559336111661404,-1.3180249202926333,-0.00993711607304854,0.05632444888686588,0.24945573162611462,1.6967401265137056,-0.04758116588982786,-0.27432027237511075,2.752971402389824,0.25021784686271226,-0.9344546214700837,-1.007773328606728,-1.3808013824829755,-0.44495295255214856,1.2321247407376885,0.2502942580950086,0.4175198782527313,1.2610120638295061,0.8009675626514536,-1.0126403790973382,0.07580175783164618,-1.1276742790098706,0.73446071160847,-0.28528370082117027,0.1842871502142503,0.9509220004462754,-0.7413038414120923,0.31598158062493925,-0.7754703911684763,-1.0716451747857663,-1.7530491683416134,1.6018744796518758,0.7050485640500473,1.1267463141808924,-0.8122305113474759,0.7350116263813458,-0.5560005979079157,-0.80468013038522,1.8670551852408603,1.6787238800694197,0.3157348580927388],\"yaxis\":\"y13\",\"type\":\"scatter\"},{\"line\":{\"color\":\"rgba(128, 128, 128, 1.0)\",\"dash\":\"solid\",\"shape\":\"linear\",\"width\":1.3},\"marker\":{\"size\":2,\"symbol\":\"circle\"},\"mode\":\"markers\",\"name\":\"D\",\"text\":\"\",\"x\":[0.8297594902124418,-0.2783114996995031,-1.5289569523977877,-0.024712108089802683,-0.0247326672640995,-0.22748462092405278,-1.2046557250956362,-0.492574198134032,-0.8277087842007413,-0.5268682018178362,-0.7466368292324888,-1.6747939271306416,0.5515156661553242,-1.4772162733955383,-0.4254126914075391,-0.7914420736295171,-0.7253414533807264,-1.261797119079572,-1.2962240385283845,0.24117064460294366,1.0626596268890234,0.3330657373571715,-0.8173888046756824,0.625709231685683,0.9497207509658698,-0.7209576199345601,0.6113091443302957,0.09729281095671156,-0.7720024468971365,0.5930894634932572,1.5483268480595687,0.522617504572752,-0.9098182135648303,0.8715182286216513,-1.2908008408179037,-0.6816068106752934,0.30578782752968925,0.1326510272491607,0.36890944266358217,-0.4915204209445604,-0.1294344400609409,-0.4139232476620148,0.4904096710435924,-0.5021389171965049,-0.7041451895138741,1.915610746784163,-0.9811622770096722,0.41472580478141413,-0.00030173699829042525,-0.07742300302041409,0.03821276810804631,0.71686602330355,0.7574747053680021,0.9042140473633455,0.09759224671913559,-1.1803292048548368,-0.026214865627643223,-0.5459197506001886,0.7467193926971661,0.5431577761382423,0.210930427755455,1.2499441487288871,-3.048441413801019,0.02508455116907912,0.5476447945766364,-0.7718383664981547,-1.6821314507638936,-0.07769256589389573,1.4900168390869943,-0.8953597891744572,-0.33672148128028784,-0.7566801384767264,-0.43941583681939644,-0.6412448031731541,-0.5172857599200201,0.45956923847605186,1.8116969199744073,-0.5781802190947594,0.770776684992134,0.8627961753027991,-1.1575397220968435,0.8197478512094455,0.23064721862991777,0.008127836945889876,-0.7556460615903183,-0.6583060701628153,0.15637623791267963,-0.07895953358710191,-0.4364679669264129,1.636674909247799,-1.1480973336937255,-1.4056268439017143,0.7341548146711661,-0.1993410576061871,0.05287239073333219,0.6179748443438318,0.5181127568744494,-0.025898918350763307,0.23189176039414636,-0.3260572062212705],\"xaxis\":\"x14\",\"y\":[-1.020585532104849,-0.18513196930458953,-0.11883591656360529,-0.7522046588377137,0.881270411969169,-1.981988402972321,-0.4422213258758372,-0.4140964834744494,1.8126299977314346,-1.3582757744531162,-0.484307177266452,1.8037133531513976,0.23483738063352344,0.06886781920886893,-1.3799821939197057,-0.38278138332968387,-0.11244952400790263,-0.41955249919085846,0.5374444455616131,1.5766646336108878,0.08588028544915151,1.8926990198665814,0.6745863813188062,0.11370432687091656,1.4065022224072763,1.187090103750366,1.6159262715902416,0.2986846628834985,1.1645777108923328,-0.054044264837159225,0.871821866165794,0.1312393660762424,-1.503588660141973,0.928161639443395,-2.0076573984129835,-0.507029557707517,0.27686131156773597,1.0708906645885086,-1.5385554399791093,1.016068173942248,0.05622769910926885,-0.2882650024163722,0.6363537922080305,0.073725604414638,0.3285723247491967,-1.7343932874540129,1.0588561536049186,-1.8769000961813378,0.3771656605780358,0.5634974256306269,-0.6579280052841321,-1.7959243405787828,0.3637870659087675,0.4293325657906903,0.20118975505843892,0.8854838002655384,-1.2792893415435076,0.6627474484339916,-0.294672638352821,0.18559336111661404,-1.3180249202926333,-0.00993711607304854,0.05632444888686588,0.24945573162611462,1.6967401265137056,-0.04758116588982786,-0.27432027237511075,2.752971402389824,0.25021784686271226,-0.9344546214700837,-1.007773328606728,-1.3808013824829755,-0.44495295255214856,1.2321247407376885,0.2502942580950086,0.4175198782527313,1.2610120638295061,0.8009675626514536,-1.0126403790973382,0.07580175783164618,-1.1276742790098706,0.73446071160847,-0.28528370082117027,0.1842871502142503,0.9509220004462754,-0.7413038414120923,0.31598158062493925,-0.7754703911684763,-1.0716451747857663,-1.7530491683416134,1.6018744796518758,0.7050485640500473,1.1267463141808924,-0.8122305113474759,0.7350116263813458,-0.5560005979079157,-0.80468013038522,1.8670551852408603,1.6787238800694197,0.3157348580927388],\"yaxis\":\"y14\",\"type\":\"scatter\"},{\"line\":{\"color\":\"rgba(128, 128, 128, 1.0)\",\"dash\":\"solid\",\"shape\":\"linear\",\"width\":1.3},\"marker\":{\"size\":2,\"symbol\":\"circle\"},\"mode\":\"markers\",\"name\":\"D\",\"text\":\"\",\"x\":[0.1932594339729936,-0.7346078843467054,1.626721586718804,0.8622725100067306,1.884882371317921,0.07565611487999387,-0.949282879507972,0.2492832253090776,0.1617069952641982,-0.38744803932455996,1.2323303086749207,-1.190017637158588,-0.16830389117711506,-0.18386571758090633,1.0416557307064032,-0.042683927280048564,-0.17943027443046825,0.09377608525222707,-0.34648028893403987,-1.3457124779089722,-0.5525422427384641,-2.504073711790753,0.08250692893788068,-0.15041226213454875,0.9564631115478902,0.994484222083241,1.916197578201942,-0.05732294129786576,0.249732100104231,-1.4408748388524284,-0.09296563888149552,-0.8365210168918193,2.2407072892749627,2.1106343291381227,-1.6861403986523635,-1.034440193799756,-1.4444378857153906,0.9364318540717749,1.2222570551045786,1.3047617801280775,-1.1952725755094704,0.3975262202920816,-0.7644800997365796,-1.5256011134179415,-1.8422218739969782,0.47260623440965754,1.1740354691983002,1.1638292965378618,0.7534688339655372,0.510374090916698,-0.14746026760231526,-1.4386063987093967,-0.10994209372314256,0.041850402730792255,0.4484838739564346,-0.2808213728997883,-0.6930274130372971,0.3620875780636234,2.248105842946969,0.7677277190660735,1.7172351693725438,0.3263861424187183,-0.17999655658451777,1.020187272897391,-0.958610339512646,0.7001642445280409,0.05607639606367041,-0.2660137814733033,0.29983991626422046,0.5910217437942568,-1.5668057130023978,-0.19591809005778352,2.4233025514867097,0.17546165225853128,0.6180205093993774,1.9911965539946757,0.8775026671228272,1.0197265883044442,1.1154042158684525,0.258128501474009,-0.20453836003383732,-0.46786072204702805,-0.24717581477741823,0.21092813592563098,1.0496994092450707,0.9117689173929281,-1.0835439860947247,-1.5513057361359273,1.533950647696765,0.5479409348589601,0.4942596004016569,-0.72466919800214,0.5544445395611213,0.4671857417000131,0.10548935770946632,-0.5398544505298176,0.8210475207158915,-0.4387802832146619,-0.789397221731786,-1.044080379036547],\"xaxis\":\"x15\",\"y\":[-1.020585532104849,-0.18513196930458953,-0.11883591656360529,-0.7522046588377137,0.881270411969169,-1.981988402972321,-0.4422213258758372,-0.4140964834744494,1.8126299977314346,-1.3582757744531162,-0.484307177266452,1.8037133531513976,0.23483738063352344,0.06886781920886893,-1.3799821939197057,-0.38278138332968387,-0.11244952400790263,-0.41955249919085846,0.5374444455616131,1.5766646336108878,0.08588028544915151,1.8926990198665814,0.6745863813188062,0.11370432687091656,1.4065022224072763,1.187090103750366,1.6159262715902416,0.2986846628834985,1.1645777108923328,-0.054044264837159225,0.871821866165794,0.1312393660762424,-1.503588660141973,0.928161639443395,-2.0076573984129835,-0.507029557707517,0.27686131156773597,1.0708906645885086,-1.5385554399791093,1.016068173942248,0.05622769910926885,-0.2882650024163722,0.6363537922080305,0.073725604414638,0.3285723247491967,-1.7343932874540129,1.0588561536049186,-1.8769000961813378,0.3771656605780358,0.5634974256306269,-0.6579280052841321,-1.7959243405787828,0.3637870659087675,0.4293325657906903,0.20118975505843892,0.8854838002655384,-1.2792893415435076,0.6627474484339916,-0.294672638352821,0.18559336111661404,-1.3180249202926333,-0.00993711607304854,0.05632444888686588,0.24945573162611462,1.6967401265137056,-0.04758116588982786,-0.27432027237511075,2.752971402389824,0.25021784686271226,-0.9344546214700837,-1.007773328606728,-1.3808013824829755,-0.44495295255214856,1.2321247407376885,0.2502942580950086,0.4175198782527313,1.2610120638295061,0.8009675626514536,-1.0126403790973382,0.07580175783164618,-1.1276742790098706,0.73446071160847,-0.28528370082117027,0.1842871502142503,0.9509220004462754,-0.7413038414120923,0.31598158062493925,-0.7754703911684763,-1.0716451747857663,-1.7530491683416134,1.6018744796518758,0.7050485640500473,1.1267463141808924,-0.8122305113474759,0.7350116263813458,-0.5560005979079157,-0.80468013038522,1.8670551852408603,1.6787238800694197,0.3157348580927388],\"yaxis\":\"y15\",\"type\":\"scatter\"},{\"histfunc\":\"count\",\"histnorm\":\"\",\"marker\":{\"color\":\"rgba(128, 0, 128, 1.0)\",\"line\":{\"color\":\"#4D5663\",\"width\":1.3}},\"name\":\"D\",\"nbinsx\":10,\"opacity\":0.8,\"orientation\":\"v\",\"x\":[-1.020585532104849,-0.18513196930458953,-0.11883591656360529,-0.7522046588377137,0.881270411969169,-1.981988402972321,-0.4422213258758372,-0.4140964834744494,1.8126299977314346,-1.3582757744531162,-0.484307177266452,1.8037133531513976,0.23483738063352344,0.06886781920886893,-1.3799821939197057,-0.38278138332968387,-0.11244952400790263,-0.41955249919085846,0.5374444455616131,1.5766646336108878,0.08588028544915151,1.8926990198665814,0.6745863813188062,0.11370432687091656,1.4065022224072763,1.187090103750366,1.6159262715902416,0.2986846628834985,1.1645777108923328,-0.054044264837159225,0.871821866165794,0.1312393660762424,-1.503588660141973,0.928161639443395,-2.0076573984129835,-0.507029557707517,0.27686131156773597,1.0708906645885086,-1.5385554399791093,1.016068173942248,0.05622769910926885,-0.2882650024163722,0.6363537922080305,0.073725604414638,0.3285723247491967,-1.7343932874540129,1.0588561536049186,-1.8769000961813378,0.3771656605780358,0.5634974256306269,-0.6579280052841321,-1.7959243405787828,0.3637870659087675,0.4293325657906903,0.20118975505843892,0.8854838002655384,-1.2792893415435076,0.6627474484339916,-0.294672638352821,0.18559336111661404,-1.3180249202926333,-0.00993711607304854,0.05632444888686588,0.24945573162611462,1.6967401265137056,-0.04758116588982786,-0.27432027237511075,2.752971402389824,0.25021784686271226,-0.9344546214700837,-1.007773328606728,-1.3808013824829755,-0.44495295255214856,1.2321247407376885,0.2502942580950086,0.4175198782527313,1.2610120638295061,0.8009675626514536,-1.0126403790973382,0.07580175783164618,-1.1276742790098706,0.73446071160847,-0.28528370082117027,0.1842871502142503,0.9509220004462754,-0.7413038414120923,0.31598158062493925,-0.7754703911684763,-1.0716451747857663,-1.7530491683416134,1.6018744796518758,0.7050485640500473,1.1267463141808924,-0.8122305113474759,0.7350116263813458,-0.5560005979079157,-0.80468013038522,1.8670551852408603,1.6787238800694197,0.3157348580927388],\"xaxis\":\"x16\",\"yaxis\":\"y16\",\"type\":\"histogram\"}],                        {\"bargap\":0.02,\"legend\":{\"bgcolor\":\"#F5F6F9\",\"font\":{\"color\":\"#4D5663\"}},\"paper_bgcolor\":\"#F5F6F9\",\"plot_bgcolor\":\"#F5F6F9\",\"showlegend\":false,\"template\":{\"data\":{\"barpolar\":[{\"marker\":{\"line\":{\"color\":\"#E5ECF6\",\"width\":0.5},\"pattern\":{\"fillmode\":\"overlay\",\"size\":10,\"solidity\":0.2}},\"type\":\"barpolar\"}],\"bar\":[{\"error_x\":{\"color\":\"#2a3f5f\"},\"error_y\":{\"color\":\"#2a3f5f\"},\"marker\":{\"line\":{\"color\":\"#E5ECF6\",\"width\":0.5},\"pattern\":{\"fillmode\":\"overlay\",\"size\":10,\"solidity\":0.2}},\"type\":\"bar\"}],\"carpet\":[{\"aaxis\":{\"endlinecolor\":\"#2a3f5f\",\"gridcolor\":\"white\",\"linecolor\":\"white\",\"minorgridcolor\":\"white\",\"startlinecolor\":\"#2a3f5f\"},\"baxis\":{\"endlinecolor\":\"#2a3f5f\",\"gridcolor\":\"white\",\"linecolor\":\"white\",\"minorgridcolor\":\"white\",\"startlinecolor\":\"#2a3f5f\"},\"type\":\"carpet\"}],\"choropleth\":[{\"colorbar\":{\"outlinewidth\":0,\"ticks\":\"\"},\"type\":\"choropleth\"}],\"contourcarpet\":[{\"colorbar\":{\"outlinewidth\":0,\"ticks\":\"\"},\"type\":\"contourcarpet\"}],\"contour\":[{\"colorbar\":{\"outlinewidth\":0,\"ticks\":\"\"},\"colorscale\":[[0.0,\"#0d0887\"],[0.1111111111111111,\"#46039f\"],[0.2222222222222222,\"#7201a8\"],[0.3333333333333333,\"#9c179e\"],[0.4444444444444444,\"#bd3786\"],[0.5555555555555556,\"#d8576b\"],[0.6666666666666666,\"#ed7953\"],[0.7777777777777778,\"#fb9f3a\"],[0.8888888888888888,\"#fdca26\"],[1.0,\"#f0f921\"]],\"type\":\"contour\"}],\"heatmapgl\":[{\"colorbar\":{\"outlinewidth\":0,\"ticks\":\"\"},\"colorscale\":[[0.0,\"#0d0887\"],[0.1111111111111111,\"#46039f\"],[0.2222222222222222,\"#7201a8\"],[0.3333333333333333,\"#9c179e\"],[0.4444444444444444,\"#bd3786\"],[0.5555555555555556,\"#d8576b\"],[0.6666666666666666,\"#ed7953\"],[0.7777777777777778,\"#fb9f3a\"],[0.8888888888888888,\"#fdca26\"],[1.0,\"#f0f921\"]],\"type\":\"heatmapgl\"}],\"heatmap\":[{\"colorbar\":{\"outlinewidth\":0,\"ticks\":\"\"},\"colorscale\":[[0.0,\"#0d0887\"],[0.1111111111111111,\"#46039f\"],[0.2222222222222222,\"#7201a8\"],[0.3333333333333333,\"#9c179e\"],[0.4444444444444444,\"#bd3786\"],[0.5555555555555556,\"#d8576b\"],[0.6666666666666666,\"#ed7953\"],[0.7777777777777778,\"#fb9f3a\"],[0.8888888888888888,\"#fdca26\"],[1.0,\"#f0f921\"]],\"type\":\"heatmap\"}],\"histogram2dcontour\":[{\"colorbar\":{\"outlinewidth\":0,\"ticks\":\"\"},\"colorscale\":[[0.0,\"#0d0887\"],[0.1111111111111111,\"#46039f\"],[0.2222222222222222,\"#7201a8\"],[0.3333333333333333,\"#9c179e\"],[0.4444444444444444,\"#bd3786\"],[0.5555555555555556,\"#d8576b\"],[0.6666666666666666,\"#ed7953\"],[0.7777777777777778,\"#fb9f3a\"],[0.8888888888888888,\"#fdca26\"],[1.0,\"#f0f921\"]],\"type\":\"histogram2dcontour\"}],\"histogram2d\":[{\"colorbar\":{\"outlinewidth\":0,\"ticks\":\"\"},\"colorscale\":[[0.0,\"#0d0887\"],[0.1111111111111111,\"#46039f\"],[0.2222222222222222,\"#7201a8\"],[0.3333333333333333,\"#9c179e\"],[0.4444444444444444,\"#bd3786\"],[0.5555555555555556,\"#d8576b\"],[0.6666666666666666,\"#ed7953\"],[0.7777777777777778,\"#fb9f3a\"],[0.8888888888888888,\"#fdca26\"],[1.0,\"#f0f921\"]],\"type\":\"histogram2d\"}],\"histogram\":[{\"marker\":{\"pattern\":{\"fillmode\":\"overlay\",\"size\":10,\"solidity\":0.2}},\"type\":\"histogram\"}],\"mesh3d\":[{\"colorbar\":{\"outlinewidth\":0,\"ticks\":\"\"},\"type\":\"mesh3d\"}],\"parcoords\":[{\"line\":{\"colorbar\":{\"outlinewidth\":0,\"ticks\":\"\"}},\"type\":\"parcoords\"}],\"pie\":[{\"automargin\":true,\"type\":\"pie\"}],\"scatter3d\":[{\"line\":{\"colorbar\":{\"outlinewidth\":0,\"ticks\":\"\"}},\"marker\":{\"colorbar\":{\"outlinewidth\":0,\"ticks\":\"\"}},\"type\":\"scatter3d\"}],\"scattercarpet\":[{\"marker\":{\"colorbar\":{\"outlinewidth\":0,\"ticks\":\"\"}},\"type\":\"scattercarpet\"}],\"scattergeo\":[{\"marker\":{\"colorbar\":{\"outlinewidth\":0,\"ticks\":\"\"}},\"type\":\"scattergeo\"}],\"scattergl\":[{\"marker\":{\"colorbar\":{\"outlinewidth\":0,\"ticks\":\"\"}},\"type\":\"scattergl\"}],\"scattermapbox\":[{\"marker\":{\"colorbar\":{\"outlinewidth\":0,\"ticks\":\"\"}},\"type\":\"scattermapbox\"}],\"scatterpolargl\":[{\"marker\":{\"colorbar\":{\"outlinewidth\":0,\"ticks\":\"\"}},\"type\":\"scatterpolargl\"}],\"scatterpolar\":[{\"marker\":{\"colorbar\":{\"outlinewidth\":0,\"ticks\":\"\"}},\"type\":\"scatterpolar\"}],\"scatter\":[{\"fillpattern\":{\"fillmode\":\"overlay\",\"size\":10,\"solidity\":0.2},\"type\":\"scatter\"}],\"scatterternary\":[{\"marker\":{\"colorbar\":{\"outlinewidth\":0,\"ticks\":\"\"}},\"type\":\"scatterternary\"}],\"surface\":[{\"colorbar\":{\"outlinewidth\":0,\"ticks\":\"\"},\"colorscale\":[[0.0,\"#0d0887\"],[0.1111111111111111,\"#46039f\"],[0.2222222222222222,\"#7201a8\"],[0.3333333333333333,\"#9c179e\"],[0.4444444444444444,\"#bd3786\"],[0.5555555555555556,\"#d8576b\"],[0.6666666666666666,\"#ed7953\"],[0.7777777777777778,\"#fb9f3a\"],[0.8888888888888888,\"#fdca26\"],[1.0,\"#f0f921\"]],\"type\":\"surface\"}],\"table\":[{\"cells\":{\"fill\":{\"color\":\"#EBF0F8\"},\"line\":{\"color\":\"white\"}},\"header\":{\"fill\":{\"color\":\"#C8D4E3\"},\"line\":{\"color\":\"white\"}},\"type\":\"table\"}]},\"layout\":{\"annotationdefaults\":{\"arrowcolor\":\"#2a3f5f\",\"arrowhead\":0,\"arrowwidth\":1},\"autotypenumbers\":\"strict\",\"coloraxis\":{\"colorbar\":{\"outlinewidth\":0,\"ticks\":\"\"}},\"colorscale\":{\"diverging\":[[0,\"#8e0152\"],[0.1,\"#c51b7d\"],[0.2,\"#de77ae\"],[0.3,\"#f1b6da\"],[0.4,\"#fde0ef\"],[0.5,\"#f7f7f7\"],[0.6,\"#e6f5d0\"],[0.7,\"#b8e186\"],[0.8,\"#7fbc41\"],[0.9,\"#4d9221\"],[1,\"#276419\"]],\"sequential\":[[0.0,\"#0d0887\"],[0.1111111111111111,\"#46039f\"],[0.2222222222222222,\"#7201a8\"],[0.3333333333333333,\"#9c179e\"],[0.4444444444444444,\"#bd3786\"],[0.5555555555555556,\"#d8576b\"],[0.6666666666666666,\"#ed7953\"],[0.7777777777777778,\"#fb9f3a\"],[0.8888888888888888,\"#fdca26\"],[1.0,\"#f0f921\"]],\"sequentialminus\":[[0.0,\"#0d0887\"],[0.1111111111111111,\"#46039f\"],[0.2222222222222222,\"#7201a8\"],[0.3333333333333333,\"#9c179e\"],[0.4444444444444444,\"#bd3786\"],[0.5555555555555556,\"#d8576b\"],[0.6666666666666666,\"#ed7953\"],[0.7777777777777778,\"#fb9f3a\"],[0.8888888888888888,\"#fdca26\"],[1.0,\"#f0f921\"]]},\"colorway\":[\"#636efa\",\"#EF553B\",\"#00cc96\",\"#ab63fa\",\"#FFA15A\",\"#19d3f3\",\"#FF6692\",\"#B6E880\",\"#FF97FF\",\"#FECB52\"],\"font\":{\"color\":\"#2a3f5f\"},\"geo\":{\"bgcolor\":\"white\",\"lakecolor\":\"white\",\"landcolor\":\"#E5ECF6\",\"showlakes\":true,\"showland\":true,\"subunitcolor\":\"white\"},\"hoverlabel\":{\"align\":\"left\"},\"hovermode\":\"closest\",\"mapbox\":{\"style\":\"light\"},\"paper_bgcolor\":\"white\",\"plot_bgcolor\":\"#E5ECF6\",\"polar\":{\"angularaxis\":{\"gridcolor\":\"white\",\"linecolor\":\"white\",\"ticks\":\"\"},\"bgcolor\":\"#E5ECF6\",\"radialaxis\":{\"gridcolor\":\"white\",\"linecolor\":\"white\",\"ticks\":\"\"}},\"scene\":{\"xaxis\":{\"backgroundcolor\":\"#E5ECF6\",\"gridcolor\":\"white\",\"gridwidth\":2,\"linecolor\":\"white\",\"showbackground\":true,\"ticks\":\"\",\"zerolinecolor\":\"white\"},\"yaxis\":{\"backgroundcolor\":\"#E5ECF6\",\"gridcolor\":\"white\",\"gridwidth\":2,\"linecolor\":\"white\",\"showbackground\":true,\"ticks\":\"\",\"zerolinecolor\":\"white\"},\"zaxis\":{\"backgroundcolor\":\"#E5ECF6\",\"gridcolor\":\"white\",\"gridwidth\":2,\"linecolor\":\"white\",\"showbackground\":true,\"ticks\":\"\",\"zerolinecolor\":\"white\"}},\"shapedefaults\":{\"line\":{\"color\":\"#2a3f5f\"}},\"ternary\":{\"aaxis\":{\"gridcolor\":\"white\",\"linecolor\":\"white\",\"ticks\":\"\"},\"baxis\":{\"gridcolor\":\"white\",\"linecolor\":\"white\",\"ticks\":\"\"},\"bgcolor\":\"#E5ECF6\",\"caxis\":{\"gridcolor\":\"white\",\"linecolor\":\"white\",\"ticks\":\"\"}},\"title\":{\"x\":0.05},\"xaxis\":{\"automargin\":true,\"gridcolor\":\"white\",\"linecolor\":\"white\",\"ticks\":\"\",\"title\":{\"standoff\":15},\"zerolinecolor\":\"white\",\"zerolinewidth\":2},\"yaxis\":{\"automargin\":true,\"gridcolor\":\"white\",\"linecolor\":\"white\",\"ticks\":\"\",\"title\":{\"standoff\":15},\"zerolinecolor\":\"white\",\"zerolinewidth\":2}}},\"title\":{\"font\":{\"color\":\"#4D5663\"}},\"xaxis\":{\"anchor\":\"y\",\"domain\":[0.0,0.2125],\"gridcolor\":\"#E1E5ED\",\"showgrid\":false,\"tickfont\":{\"color\":\"#4D5663\"},\"title\":{\"font\":{\"color\":\"#4D5663\"},\"text\":\"\"},\"zerolinecolor\":\"#E1E5ED\"},\"yaxis\":{\"anchor\":\"x\",\"domain\":[0.8025,1.0],\"gridcolor\":\"#E1E5ED\",\"showgrid\":false,\"tickfont\":{\"color\":\"#4D5663\"},\"title\":{\"font\":{\"color\":\"#4D5663\"},\"text\":\"\"},\"zerolinecolor\":\"#E1E5ED\"},\"xaxis2\":{\"anchor\":\"y2\",\"domain\":[0.2625,0.475],\"gridcolor\":\"#E1E5ED\",\"showgrid\":false,\"tickfont\":{\"color\":\"#4D5663\"},\"title\":{\"font\":{\"color\":\"#4D5663\"},\"text\":\"\"},\"zerolinecolor\":\"#E1E5ED\"},\"yaxis2\":{\"anchor\":\"x2\",\"domain\":[0.8025,1.0],\"gridcolor\":\"#E1E5ED\",\"showgrid\":false,\"tickfont\":{\"color\":\"#4D5663\"},\"title\":{\"font\":{\"color\":\"#4D5663\"},\"text\":\"\"},\"zerolinecolor\":\"#E1E5ED\"},\"xaxis3\":{\"anchor\":\"y3\",\"domain\":[0.525,0.7375],\"gridcolor\":\"#E1E5ED\",\"showgrid\":false,\"tickfont\":{\"color\":\"#4D5663\"},\"title\":{\"font\":{\"color\":\"#4D5663\"},\"text\":\"\"},\"zerolinecolor\":\"#E1E5ED\"},\"yaxis3\":{\"anchor\":\"x3\",\"domain\":[0.8025,1.0],\"gridcolor\":\"#E1E5ED\",\"showgrid\":false,\"tickfont\":{\"color\":\"#4D5663\"},\"title\":{\"font\":{\"color\":\"#4D5663\"},\"text\":\"\"},\"zerolinecolor\":\"#E1E5ED\"},\"xaxis4\":{\"anchor\":\"y4\",\"domain\":[0.7875,1.0],\"gridcolor\":\"#E1E5ED\",\"showgrid\":false,\"tickfont\":{\"color\":\"#4D5663\"},\"title\":{\"font\":{\"color\":\"#4D5663\"},\"text\":\"\"},\"zerolinecolor\":\"#E1E5ED\"},\"yaxis4\":{\"anchor\":\"x4\",\"domain\":[0.8025,1.0],\"gridcolor\":\"#E1E5ED\",\"showgrid\":false,\"tickfont\":{\"color\":\"#4D5663\"},\"title\":{\"font\":{\"color\":\"#4D5663\"},\"text\":\"\"},\"zerolinecolor\":\"#E1E5ED\"},\"xaxis5\":{\"anchor\":\"y5\",\"domain\":[0.0,0.2125],\"gridcolor\":\"#E1E5ED\",\"showgrid\":false,\"tickfont\":{\"color\":\"#4D5663\"},\"title\":{\"font\":{\"color\":\"#4D5663\"},\"text\":\"\"},\"zerolinecolor\":\"#E1E5ED\"},\"yaxis5\":{\"anchor\":\"x5\",\"domain\":[0.535,0.7325],\"gridcolor\":\"#E1E5ED\",\"showgrid\":false,\"tickfont\":{\"color\":\"#4D5663\"},\"title\":{\"font\":{\"color\":\"#4D5663\"},\"text\":\"\"},\"zerolinecolor\":\"#E1E5ED\"},\"xaxis6\":{\"anchor\":\"y6\",\"domain\":[0.2625,0.475],\"gridcolor\":\"#E1E5ED\",\"showgrid\":false,\"tickfont\":{\"color\":\"#4D5663\"},\"title\":{\"font\":{\"color\":\"#4D5663\"},\"text\":\"\"},\"zerolinecolor\":\"#E1E5ED\"},\"yaxis6\":{\"anchor\":\"x6\",\"domain\":[0.535,0.7325],\"gridcolor\":\"#E1E5ED\",\"showgrid\":false,\"tickfont\":{\"color\":\"#4D5663\"},\"title\":{\"font\":{\"color\":\"#4D5663\"},\"text\":\"\"},\"zerolinecolor\":\"#E1E5ED\"},\"xaxis7\":{\"anchor\":\"y7\",\"domain\":[0.525,0.7375],\"gridcolor\":\"#E1E5ED\",\"showgrid\":false,\"tickfont\":{\"color\":\"#4D5663\"},\"title\":{\"font\":{\"color\":\"#4D5663\"},\"text\":\"\"},\"zerolinecolor\":\"#E1E5ED\"},\"yaxis7\":{\"anchor\":\"x7\",\"domain\":[0.535,0.7325],\"gridcolor\":\"#E1E5ED\",\"showgrid\":false,\"tickfont\":{\"color\":\"#4D5663\"},\"title\":{\"font\":{\"color\":\"#4D5663\"},\"text\":\"\"},\"zerolinecolor\":\"#E1E5ED\"},\"xaxis8\":{\"anchor\":\"y8\",\"domain\":[0.7875,1.0],\"gridcolor\":\"#E1E5ED\",\"showgrid\":false,\"tickfont\":{\"color\":\"#4D5663\"},\"title\":{\"font\":{\"color\":\"#4D5663\"},\"text\":\"\"},\"zerolinecolor\":\"#E1E5ED\"},\"yaxis8\":{\"anchor\":\"x8\",\"domain\":[0.535,0.7325],\"gridcolor\":\"#E1E5ED\",\"showgrid\":false,\"tickfont\":{\"color\":\"#4D5663\"},\"title\":{\"font\":{\"color\":\"#4D5663\"},\"text\":\"\"},\"zerolinecolor\":\"#E1E5ED\"},\"xaxis9\":{\"anchor\":\"y9\",\"domain\":[0.0,0.2125],\"gridcolor\":\"#E1E5ED\",\"showgrid\":false,\"tickfont\":{\"color\":\"#4D5663\"},\"title\":{\"font\":{\"color\":\"#4D5663\"},\"text\":\"\"},\"zerolinecolor\":\"#E1E5ED\"},\"yaxis9\":{\"anchor\":\"x9\",\"domain\":[0.2675,0.465],\"gridcolor\":\"#E1E5ED\",\"showgrid\":false,\"tickfont\":{\"color\":\"#4D5663\"},\"title\":{\"font\":{\"color\":\"#4D5663\"},\"text\":\"\"},\"zerolinecolor\":\"#E1E5ED\"},\"xaxis10\":{\"anchor\":\"y10\",\"domain\":[0.2625,0.475],\"gridcolor\":\"#E1E5ED\",\"showgrid\":false,\"tickfont\":{\"color\":\"#4D5663\"},\"title\":{\"font\":{\"color\":\"#4D5663\"},\"text\":\"\"},\"zerolinecolor\":\"#E1E5ED\"},\"yaxis10\":{\"anchor\":\"x10\",\"domain\":[0.2675,0.465],\"gridcolor\":\"#E1E5ED\",\"showgrid\":false,\"tickfont\":{\"color\":\"#4D5663\"},\"title\":{\"font\":{\"color\":\"#4D5663\"},\"text\":\"\"},\"zerolinecolor\":\"#E1E5ED\"},\"xaxis11\":{\"anchor\":\"y11\",\"domain\":[0.525,0.7375],\"gridcolor\":\"#E1E5ED\",\"showgrid\":false,\"tickfont\":{\"color\":\"#4D5663\"},\"title\":{\"font\":{\"color\":\"#4D5663\"},\"text\":\"\"},\"zerolinecolor\":\"#E1E5ED\"},\"yaxis11\":{\"anchor\":\"x11\",\"domain\":[0.2675,0.465],\"gridcolor\":\"#E1E5ED\",\"showgrid\":false,\"tickfont\":{\"color\":\"#4D5663\"},\"title\":{\"font\":{\"color\":\"#4D5663\"},\"text\":\"\"},\"zerolinecolor\":\"#E1E5ED\"},\"xaxis12\":{\"anchor\":\"y12\",\"domain\":[0.7875,1.0],\"gridcolor\":\"#E1E5ED\",\"showgrid\":false,\"tickfont\":{\"color\":\"#4D5663\"},\"title\":{\"font\":{\"color\":\"#4D5663\"},\"text\":\"\"},\"zerolinecolor\":\"#E1E5ED\"},\"yaxis12\":{\"anchor\":\"x12\",\"domain\":[0.2675,0.465],\"gridcolor\":\"#E1E5ED\",\"showgrid\":false,\"tickfont\":{\"color\":\"#4D5663\"},\"title\":{\"font\":{\"color\":\"#4D5663\"},\"text\":\"\"},\"zerolinecolor\":\"#E1E5ED\"},\"xaxis13\":{\"anchor\":\"y13\",\"domain\":[0.0,0.2125],\"gridcolor\":\"#E1E5ED\",\"showgrid\":false,\"tickfont\":{\"color\":\"#4D5663\"},\"title\":{\"font\":{\"color\":\"#4D5663\"},\"text\":\"\"},\"zerolinecolor\":\"#E1E5ED\"},\"yaxis13\":{\"anchor\":\"x13\",\"domain\":[0.0,0.1975],\"gridcolor\":\"#E1E5ED\",\"showgrid\":false,\"tickfont\":{\"color\":\"#4D5663\"},\"title\":{\"font\":{\"color\":\"#4D5663\"},\"text\":\"\"},\"zerolinecolor\":\"#E1E5ED\"},\"xaxis14\":{\"anchor\":\"y14\",\"domain\":[0.2625,0.475],\"gridcolor\":\"#E1E5ED\",\"showgrid\":false,\"tickfont\":{\"color\":\"#4D5663\"},\"title\":{\"font\":{\"color\":\"#4D5663\"},\"text\":\"\"},\"zerolinecolor\":\"#E1E5ED\"},\"yaxis14\":{\"anchor\":\"x14\",\"domain\":[0.0,0.1975],\"gridcolor\":\"#E1E5ED\",\"showgrid\":false,\"tickfont\":{\"color\":\"#4D5663\"},\"title\":{\"font\":{\"color\":\"#4D5663\"},\"text\":\"\"},\"zerolinecolor\":\"#E1E5ED\"},\"xaxis15\":{\"anchor\":\"y15\",\"domain\":[0.525,0.7375],\"gridcolor\":\"#E1E5ED\",\"showgrid\":false,\"tickfont\":{\"color\":\"#4D5663\"},\"title\":{\"font\":{\"color\":\"#4D5663\"},\"text\":\"\"},\"zerolinecolor\":\"#E1E5ED\"},\"yaxis15\":{\"anchor\":\"x15\",\"domain\":[0.0,0.1975],\"gridcolor\":\"#E1E5ED\",\"showgrid\":false,\"tickfont\":{\"color\":\"#4D5663\"},\"title\":{\"font\":{\"color\":\"#4D5663\"},\"text\":\"\"},\"zerolinecolor\":\"#E1E5ED\"},\"xaxis16\":{\"anchor\":\"y16\",\"domain\":[0.7875,1.0],\"gridcolor\":\"#E1E5ED\",\"showgrid\":false,\"tickfont\":{\"color\":\"#4D5663\"},\"title\":{\"font\":{\"color\":\"#4D5663\"},\"text\":\"\"},\"zerolinecolor\":\"#E1E5ED\"},\"yaxis16\":{\"anchor\":\"x16\",\"domain\":[0.0,0.1975],\"gridcolor\":\"#E1E5ED\",\"showgrid\":false,\"tickfont\":{\"color\":\"#4D5663\"},\"title\":{\"font\":{\"color\":\"#4D5663\"},\"text\":\"\"},\"zerolinecolor\":\"#E1E5ED\"}},                        {\"showLink\": true, \"linkText\": \"Export to plot.ly\", \"plotlyServerURL\": \"https://plot.ly\", \"responsive\": true}                    ).then(function(){\n",
       "                            \n",
       "var gd = document.getElementById('7c695fcc-1336-4a05-b091-16d81273b3eb');\n",
       "var x = new MutationObserver(function (mutations, observer) {{\n",
       "        var display = window.getComputedStyle(gd).display;\n",
       "        if (!display || display === 'none') {{\n",
       "            console.log([gd, 'removed!']);\n",
       "            Plotly.purge(gd);\n",
       "            observer.disconnect();\n",
       "        }}\n",
       "}});\n",
       "\n",
       "// Listen for the removal of the full notebook cells\n",
       "var notebookContainer = gd.closest('#notebook-container');\n",
       "if (notebookContainer) {{\n",
       "    x.observe(notebookContainer, {childList: true});\n",
       "}}\n",
       "\n",
       "// Listen for the clearing of the current output cell\n",
       "var outputEl = gd.closest('.output');\n",
       "if (outputEl) {{\n",
       "    x.observe(outputEl, {childList: true});\n",
       "}}\n",
       "\n",
       "                        })                };                });            </script>        </div>"
      ]
     },
     "metadata": {},
     "output_type": "display_data"
    }
   ],
   "source": [
    "df.scatter_matrix()"
   ]
  },
  {
   "cell_type": "markdown",
   "metadata": {
    "collapsed": true
   },
   "source": [
    "# Buen trabajo!"
   ]
  }
 ],
 "metadata": {
  "kernelspec": {
   "display_name": "Python 3",
   "language": "python",
   "name": "python3"
  },
  "language_info": {
   "codemirror_mode": {
    "name": "ipython",
    "version": 3
   },
   "file_extension": ".py",
   "mimetype": "text/x-python",
   "name": "python",
   "nbconvert_exporter": "python",
   "pygments_lexer": "ipython3",
   "version": "3.11.2"
  }
 },
 "nbformat": 4,
 "nbformat_minor": 1
}
