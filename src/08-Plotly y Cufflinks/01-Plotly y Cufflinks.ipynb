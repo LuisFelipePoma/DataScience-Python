{
 "cells": [
  {
   "cell_type": "markdown",
   "metadata": {},
   "source": [
    "___\n",
    "\n",
    "<a href='https://plotly.com/python/'> <img src='https://plotly.com/all_static/images/plotly_graphing_libraries_1.png' /></a>\n",
    "___\n",
    "# Plotly y Cufflinks"
   ]
  },
  {
   "cell_type": "markdown",
   "metadata": {},
   "source": [
    "**Plotly** es una libreria que permite crear gráficos interactivos para poder usarse en cuadros de mando o sitios web (se pueden guardar como archivos html o imágenes estáticas).\n",
    "\n",
    "**Cufflinks** es una libreria que conecta un dataframe de Pandas con Plotly, lo que permite a los usuarios crear visualizaciones directamente desde Pandas. Esta libreria une el poder de Plotly con la flexibilidad de Pandas para facilitar la visualización de los datos.\n",
    "\n",
    "## Instalación\n",
    "\n",
    "Para que todo esto funcione, se deberá instalar plotly y cufflinks para llamar a los gráficos directamente desde un dataframe de Pandas. Estas librerias no están disponibles actualmente a través de Conda, pero están disponibles a través de pip . Instalar las librerias en su línea de comando/terminal usando:\n",
    "\n",
    "    pip install plotly\n",
    "    pip install cufflinks\n",
    "\n",
    "## Importaciones y configuración "
   ]
  },
  {
   "cell_type": "code",
   "execution_count": 1,
   "metadata": {},
   "outputs": [],
   "source": [
    "import pandas as pd\n",
    "import numpy as np\n",
    "%matplotlib inline"
   ]
  },
  {
   "cell_type": "code",
   "execution_count": 2,
   "metadata": {},
   "outputs": [
    {
     "name": "stdout",
     "output_type": "stream",
     "text": [
      "5.15.0\n"
     ]
    }
   ],
   "source": [
    "from plotly import __version__\n",
    "from plotly.offline import download_plotlyjs, init_notebook_mode, plot, iplot\n",
    "\n",
    "print(__version__) # requires version >= 1.9.0"
   ]
  },
  {
   "cell_type": "code",
   "execution_count": 3,
   "metadata": {},
   "outputs": [],
   "source": [
    "import cufflinks as cf"
   ]
  },
  {
   "cell_type": "code",
   "execution_count": 4,
   "metadata": {},
   "outputs": [
    {
     "data": {
      "text/html": [
       "        <script type=\"text/javascript\">\n",
       "        window.PlotlyConfig = {MathJaxConfig: 'local'};\n",
       "        if (window.MathJax && window.MathJax.Hub && window.MathJax.Hub.Config) {window.MathJax.Hub.Config({SVG: {font: \"STIX-Web\"}});}\n",
       "        if (typeof require !== 'undefined') {\n",
       "        require.undef(\"plotly\");\n",
       "        requirejs.config({\n",
       "            paths: {\n",
       "                'plotly': ['https://cdn.plot.ly/plotly-2.24.1.min']\n",
       "            }\n",
       "        });\n",
       "        require(['plotly'], function(Plotly) {\n",
       "            window._Plotly = Plotly;\n",
       "        });\n",
       "        }\n",
       "        </script>\n",
       "        "
      ]
     },
     "metadata": {},
     "output_type": "display_data"
    }
   ],
   "source": [
    "# Para Notebooks\n",
    "init_notebook_mode(connected=True)"
   ]
  },
  {
   "cell_type": "code",
   "execution_count": 5,
   "metadata": {},
   "outputs": [
    {
     "data": {
      "text/html": [
       "        <script type=\"text/javascript\">\n",
       "        window.PlotlyConfig = {MathJaxConfig: 'local'};\n",
       "        if (window.MathJax && window.MathJax.Hub && window.MathJax.Hub.Config) {window.MathJax.Hub.Config({SVG: {font: \"STIX-Web\"}});}\n",
       "        if (typeof require !== 'undefined') {\n",
       "        require.undef(\"plotly\");\n",
       "        requirejs.config({\n",
       "            paths: {\n",
       "                'plotly': ['https://cdn.plot.ly/plotly-2.24.1.min']\n",
       "            }\n",
       "        });\n",
       "        require(['plotly'], function(Plotly) {\n",
       "            window._Plotly = Plotly;\n",
       "        });\n",
       "        }\n",
       "        </script>\n",
       "        "
      ]
     },
     "metadata": {},
     "output_type": "display_data"
    }
   ],
   "source": [
    "# Para uso offline colocar\n",
    "cf.go_offline()"
   ]
  },
  {
   "cell_type": "markdown",
   "metadata": {},
   "source": [
    "### Datos de prueba"
   ]
  },
  {
   "cell_type": "code",
   "execution_count": 6,
   "metadata": {},
   "outputs": [],
   "source": [
    "df = pd.DataFrame(np.random.randn(100,4),columns='A B C D'.split())"
   ]
  },
  {
   "cell_type": "code",
   "execution_count": 7,
   "metadata": {},
   "outputs": [
    {
     "data": {
      "text/html": [
       "<div>\n",
       "<style scoped>\n",
       "    .dataframe tbody tr th:only-of-type {\n",
       "        vertical-align: middle;\n",
       "    }\n",
       "\n",
       "    .dataframe tbody tr th {\n",
       "        vertical-align: top;\n",
       "    }\n",
       "\n",
       "    .dataframe thead th {\n",
       "        text-align: right;\n",
       "    }\n",
       "</style>\n",
       "<table border=\"1\" class=\"dataframe\">\n",
       "  <thead>\n",
       "    <tr style=\"text-align: right;\">\n",
       "      <th></th>\n",
       "      <th>A</th>\n",
       "      <th>B</th>\n",
       "      <th>C</th>\n",
       "      <th>D</th>\n",
       "    </tr>\n",
       "  </thead>\n",
       "  <tbody>\n",
       "    <tr>\n",
       "      <th>0</th>\n",
       "      <td>-0.501926</td>\n",
       "      <td>-0.853774</td>\n",
       "      <td>0.461824</td>\n",
       "      <td>-0.479569</td>\n",
       "    </tr>\n",
       "    <tr>\n",
       "      <th>1</th>\n",
       "      <td>1.340657</td>\n",
       "      <td>1.015732</td>\n",
       "      <td>-1.876035</td>\n",
       "      <td>-1.131643</td>\n",
       "    </tr>\n",
       "    <tr>\n",
       "      <th>2</th>\n",
       "      <td>-0.144534</td>\n",
       "      <td>1.231687</td>\n",
       "      <td>-0.024461</td>\n",
       "      <td>-1.439498</td>\n",
       "    </tr>\n",
       "    <tr>\n",
       "      <th>3</th>\n",
       "      <td>0.040956</td>\n",
       "      <td>0.131430</td>\n",
       "      <td>1.257400</td>\n",
       "      <td>-1.698054</td>\n",
       "    </tr>\n",
       "    <tr>\n",
       "      <th>4</th>\n",
       "      <td>0.727475</td>\n",
       "      <td>-0.633724</td>\n",
       "      <td>-1.660330</td>\n",
       "      <td>1.651754</td>\n",
       "    </tr>\n",
       "  </tbody>\n",
       "</table>\n",
       "</div>"
      ],
      "text/plain": [
       "          A         B         C         D\n",
       "0 -0.501926 -0.853774  0.461824 -0.479569\n",
       "1  1.340657  1.015732 -1.876035 -1.131643\n",
       "2 -0.144534  1.231687 -0.024461 -1.439498\n",
       "3  0.040956  0.131430  1.257400 -1.698054\n",
       "4  0.727475 -0.633724 -1.660330  1.651754"
      ]
     },
     "execution_count": 7,
     "metadata": {},
     "output_type": "execute_result"
    }
   ],
   "source": [
    "df.head()"
   ]
  },
  {
   "cell_type": "code",
   "execution_count": 8,
   "metadata": {},
   "outputs": [],
   "source": [
    "df2 = pd.DataFrame({'Category':['A','B','C'],'Values':[32,43,50]})"
   ]
  },
  {
   "cell_type": "code",
   "execution_count": 9,
   "metadata": {},
   "outputs": [
    {
     "data": {
      "text/html": [
       "<div>\n",
       "<style scoped>\n",
       "    .dataframe tbody tr th:only-of-type {\n",
       "        vertical-align: middle;\n",
       "    }\n",
       "\n",
       "    .dataframe tbody tr th {\n",
       "        vertical-align: top;\n",
       "    }\n",
       "\n",
       "    .dataframe thead th {\n",
       "        text-align: right;\n",
       "    }\n",
       "</style>\n",
       "<table border=\"1\" class=\"dataframe\">\n",
       "  <thead>\n",
       "    <tr style=\"text-align: right;\">\n",
       "      <th></th>\n",
       "      <th>Category</th>\n",
       "      <th>Values</th>\n",
       "    </tr>\n",
       "  </thead>\n",
       "  <tbody>\n",
       "    <tr>\n",
       "      <th>0</th>\n",
       "      <td>A</td>\n",
       "      <td>32</td>\n",
       "    </tr>\n",
       "    <tr>\n",
       "      <th>1</th>\n",
       "      <td>B</td>\n",
       "      <td>43</td>\n",
       "    </tr>\n",
       "    <tr>\n",
       "      <th>2</th>\n",
       "      <td>C</td>\n",
       "      <td>50</td>\n",
       "    </tr>\n",
       "  </tbody>\n",
       "</table>\n",
       "</div>"
      ],
      "text/plain": [
       "  Category  Values\n",
       "0        A      32\n",
       "1        B      43\n",
       "2        C      50"
      ]
     },
     "execution_count": 9,
     "metadata": {},
     "output_type": "execute_result"
    }
   ],
   "source": [
    "df2.head()"
   ]
  },
  {
   "cell_type": "markdown",
   "metadata": {},
   "source": [
    "## Usando Cufflinks e iplot()\n",
    "\n",
    "* Scatter\n",
    "* Bar\n",
    "* Boxplot\n",
    "* 3D surface\n",
    "* Histograma\n",
    "* Burbujas"
   ]
  },
  {
   "cell_type": "markdown",
   "metadata": {},
   "source": [
    "## Scatter"
   ]
  },
  {
   "cell_type": "code",
   "execution_count": 10,
   "metadata": {},
   "outputs": [
    {
     "data": {
      "application/vnd.plotly.v1+json": {
       "config": {
        "linkText": "Export to plot.ly",
        "plotlyServerURL": "https://plot.ly",
        "showLink": true
       },
       "data": [
        {
         "line": {
          "color": "rgba(255, 153, 51, 1.0)",
          "dash": "solid",
          "shape": "linear",
          "width": 1.3
         },
         "marker": {
          "size": 10,
          "symbol": "circle"
         },
         "mode": "markers",
         "name": "B",
         "text": "",
         "type": "scatter",
         "x": [
          -0.5019262604718252,
          1.3406574372295323,
          -0.14453389308463846,
          0.040956373720975554,
          0.7274751665220139,
          0.02772203928139414,
          -0.2627967982077833,
          -0.6445792859574564,
          -0.12440658548148807,
          -1.4195717936405616,
          -0.5881620964690552,
          0.1968941489793469,
          0.24836115152992447,
          1.1906853329299731,
          -0.20731260889632006,
          0.04751918853287542,
          1.714309247596637,
          -0.2014585421239541,
          -0.706546818966052,
          -1.2789820090973136,
          -0.29087411730222307,
          0.30696147278145924,
          0.6542094312601774,
          0.6346490022624198,
          -1.453964470447946,
          -0.2562556030355115,
          -0.13399741602615234,
          1.043664761096363,
          1.5362170449236299,
          -1.139822665761981,
          -1.3081191119064488,
          0.3022549378458871,
          1.3730961762014156,
          0.5088024651071592,
          -0.8464243671405703,
          -1.2011957891288758,
          1.160341198796026,
          0.027689159510517817,
          1.3797848021879668,
          -0.11870973173703767,
          0.7548654583979592,
          0.6673776766556359,
          -0.1416767698425056,
          -1.3702526577901337,
          -0.22733380869451456,
          -0.3860545857839438,
          -0.4746494033140237,
          -1.4423873780835887,
          -0.5232558519147569,
          0.9923567002966976,
          -1.3367993456448217,
          0.35964321503622887,
          -0.8508495574838864,
          0.883592769966994,
          -0.6246517499576894,
          0.27989103186935305,
          0.6131371580496763,
          0.3216230855728305,
          0.28464155507737726,
          1.44503447655136,
          -0.27721413247491106,
          -1.4087811922820848,
          -0.33100038597981374,
          -0.7676458148982221,
          -0.9068197369866156,
          -0.4064278014938917,
          0.4841752803205062,
          -1.7939182078675981,
          0.645534754730688,
          -0.8546984857726455,
          -2.5751222033503276,
          -1.5496209941435157,
          -1.845264470705639,
          -1.7955574080362404,
          -1.0990447387369575,
          -0.02806115476210823,
          -0.09459203941178367,
          -0.8775873145390063,
          -4.121990228815462,
          -1.4352429415503278,
          -0.9688499652094146,
          -1.5041241800369083,
          -1.7357005143943813,
          -0.4502043873141606,
          -0.8411556452989516,
          -0.017478105167135518,
          -0.4047434754669365,
          -0.46049951646255516,
          -1.7239509268452278,
          -2.077507197691761,
          0.18656533416519658,
          0.05483152572246387,
          -1.1988250504309492,
          -0.6769503724014974,
          -0.07033222410676333,
          1.8214626735961084,
          0.48073894868276373,
          -1.028001117338976,
          -0.03736194677178664,
          -0.1613022757355416
         ],
         "y": [
          -0.8537742762332164,
          1.0157322930976045,
          1.2316869207547705,
          0.1314299722305412,
          -0.633724221261174,
          -1.021091071695296,
          0.05493633765137216,
          0.5561493102654288,
          -0.606363232964669,
          0.5413884046594294,
          1.5191493772222278,
          -0.9771583011795383,
          -2.564988254175942,
          -1.511871766233654,
          0.1698098432471122,
          -0.0006299061581094447,
          0.019540019752891886,
          -0.20333090941576668,
          -1.0515069577217253,
          0.8535637865467421,
          0.7479173990250584,
          1.5740810908189957,
          -0.2134294929037309,
          -0.8287624452994441,
          1.8084096050913296,
          -0.4985374462398888,
          -0.07050276829129744,
          0.2454396915192863,
          1.5865458034730295,
          0.22855415423131717,
          1.2318015789536472,
          -0.2683148170438074,
          0.2721415238481511,
          1.4289215468174405,
          0.3407877359485261,
          2.1163336799878025,
          -1.2175531392623062,
          1.0493278651389129,
          0.019850364513919506,
          1.7905761038088464,
          0.2718209125384333,
          0.9423641957958778,
          1.639765844844743,
          1.3938704008306384,
          -0.3588645773400398,
          -0.9247625382971925,
          1.6635092098571502,
          -0.8502091892531796,
          1.129888165743087,
          -0.9209889483736413,
          -0.6675980382475256,
          -0.8294327676779536,
          1.9101387765933906,
          0.6278871873084058,
          0.29342412609384266,
          0.2719883298680775,
          -1.2383177845611195,
          0.23924194267683924,
          -0.7947533691988276,
          0.369281989374878,
          -0.5362511746826577,
          -1.8551607079119403,
          1.4351948232022345,
          0.24854237986146002,
          -2.5847223229622402,
          -1.4763150326920196,
          0.16805478888458833,
          0.48872897444176455,
          0.18610409006261094,
          -0.18722588584988972,
          -0.6361226923627324,
          -0.8021976334316585,
          1.0793256151600996,
          0.8927522531499735,
          -1.0400918766611247,
          1.3309567449801414,
          -0.23918015765720343,
          0.21827777245077276,
          0.6643448470304437,
          -0.9887852571546005,
          -1.9802413017970966,
          1.310100856690185,
          -0.02734743222390547,
          -1.643015114730303,
          -0.09084317256020294,
          1.8388734031514915,
          1.563071326231132,
          -0.8096762102199779,
          0.4597566070432031,
          -0.6950082009640749,
          2.251854180395313,
          -0.2175714152370271,
          0.5372187334131854,
          -1.0190670145375262,
          -1.3175105585197597,
          -2.1250187398628486,
          0.8472747609702648,
          -2.3971849488244765,
          -1.3737368824255878,
          -0.6940420292071485
         ]
        }
       ],
       "layout": {
        "legend": {
         "bgcolor": "#F5F6F9",
         "font": {
          "color": "#4D5663"
         }
        },
        "paper_bgcolor": "#F5F6F9",
        "plot_bgcolor": "#F5F6F9",
        "template": {
         "data": {
          "bar": [
           {
            "error_x": {
             "color": "#2a3f5f"
            },
            "error_y": {
             "color": "#2a3f5f"
            },
            "marker": {
             "line": {
              "color": "#E5ECF6",
              "width": 0.5
             },
             "pattern": {
              "fillmode": "overlay",
              "size": 10,
              "solidity": 0.2
             }
            },
            "type": "bar"
           }
          ],
          "barpolar": [
           {
            "marker": {
             "line": {
              "color": "#E5ECF6",
              "width": 0.5
             },
             "pattern": {
              "fillmode": "overlay",
              "size": 10,
              "solidity": 0.2
             }
            },
            "type": "barpolar"
           }
          ],
          "carpet": [
           {
            "aaxis": {
             "endlinecolor": "#2a3f5f",
             "gridcolor": "white",
             "linecolor": "white",
             "minorgridcolor": "white",
             "startlinecolor": "#2a3f5f"
            },
            "baxis": {
             "endlinecolor": "#2a3f5f",
             "gridcolor": "white",
             "linecolor": "white",
             "minorgridcolor": "white",
             "startlinecolor": "#2a3f5f"
            },
            "type": "carpet"
           }
          ],
          "choropleth": [
           {
            "colorbar": {
             "outlinewidth": 0,
             "ticks": ""
            },
            "type": "choropleth"
           }
          ],
          "contour": [
           {
            "colorbar": {
             "outlinewidth": 0,
             "ticks": ""
            },
            "colorscale": [
             [
              0,
              "#0d0887"
             ],
             [
              0.1111111111111111,
              "#46039f"
             ],
             [
              0.2222222222222222,
              "#7201a8"
             ],
             [
              0.3333333333333333,
              "#9c179e"
             ],
             [
              0.4444444444444444,
              "#bd3786"
             ],
             [
              0.5555555555555556,
              "#d8576b"
             ],
             [
              0.6666666666666666,
              "#ed7953"
             ],
             [
              0.7777777777777778,
              "#fb9f3a"
             ],
             [
              0.8888888888888888,
              "#fdca26"
             ],
             [
              1,
              "#f0f921"
             ]
            ],
            "type": "contour"
           }
          ],
          "contourcarpet": [
           {
            "colorbar": {
             "outlinewidth": 0,
             "ticks": ""
            },
            "type": "contourcarpet"
           }
          ],
          "heatmap": [
           {
            "colorbar": {
             "outlinewidth": 0,
             "ticks": ""
            },
            "colorscale": [
             [
              0,
              "#0d0887"
             ],
             [
              0.1111111111111111,
              "#46039f"
             ],
             [
              0.2222222222222222,
              "#7201a8"
             ],
             [
              0.3333333333333333,
              "#9c179e"
             ],
             [
              0.4444444444444444,
              "#bd3786"
             ],
             [
              0.5555555555555556,
              "#d8576b"
             ],
             [
              0.6666666666666666,
              "#ed7953"
             ],
             [
              0.7777777777777778,
              "#fb9f3a"
             ],
             [
              0.8888888888888888,
              "#fdca26"
             ],
             [
              1,
              "#f0f921"
             ]
            ],
            "type": "heatmap"
           }
          ],
          "heatmapgl": [
           {
            "colorbar": {
             "outlinewidth": 0,
             "ticks": ""
            },
            "colorscale": [
             [
              0,
              "#0d0887"
             ],
             [
              0.1111111111111111,
              "#46039f"
             ],
             [
              0.2222222222222222,
              "#7201a8"
             ],
             [
              0.3333333333333333,
              "#9c179e"
             ],
             [
              0.4444444444444444,
              "#bd3786"
             ],
             [
              0.5555555555555556,
              "#d8576b"
             ],
             [
              0.6666666666666666,
              "#ed7953"
             ],
             [
              0.7777777777777778,
              "#fb9f3a"
             ],
             [
              0.8888888888888888,
              "#fdca26"
             ],
             [
              1,
              "#f0f921"
             ]
            ],
            "type": "heatmapgl"
           }
          ],
          "histogram": [
           {
            "marker": {
             "pattern": {
              "fillmode": "overlay",
              "size": 10,
              "solidity": 0.2
             }
            },
            "type": "histogram"
           }
          ],
          "histogram2d": [
           {
            "colorbar": {
             "outlinewidth": 0,
             "ticks": ""
            },
            "colorscale": [
             [
              0,
              "#0d0887"
             ],
             [
              0.1111111111111111,
              "#46039f"
             ],
             [
              0.2222222222222222,
              "#7201a8"
             ],
             [
              0.3333333333333333,
              "#9c179e"
             ],
             [
              0.4444444444444444,
              "#bd3786"
             ],
             [
              0.5555555555555556,
              "#d8576b"
             ],
             [
              0.6666666666666666,
              "#ed7953"
             ],
             [
              0.7777777777777778,
              "#fb9f3a"
             ],
             [
              0.8888888888888888,
              "#fdca26"
             ],
             [
              1,
              "#f0f921"
             ]
            ],
            "type": "histogram2d"
           }
          ],
          "histogram2dcontour": [
           {
            "colorbar": {
             "outlinewidth": 0,
             "ticks": ""
            },
            "colorscale": [
             [
              0,
              "#0d0887"
             ],
             [
              0.1111111111111111,
              "#46039f"
             ],
             [
              0.2222222222222222,
              "#7201a8"
             ],
             [
              0.3333333333333333,
              "#9c179e"
             ],
             [
              0.4444444444444444,
              "#bd3786"
             ],
             [
              0.5555555555555556,
              "#d8576b"
             ],
             [
              0.6666666666666666,
              "#ed7953"
             ],
             [
              0.7777777777777778,
              "#fb9f3a"
             ],
             [
              0.8888888888888888,
              "#fdca26"
             ],
             [
              1,
              "#f0f921"
             ]
            ],
            "type": "histogram2dcontour"
           }
          ],
          "mesh3d": [
           {
            "colorbar": {
             "outlinewidth": 0,
             "ticks": ""
            },
            "type": "mesh3d"
           }
          ],
          "parcoords": [
           {
            "line": {
             "colorbar": {
              "outlinewidth": 0,
              "ticks": ""
             }
            },
            "type": "parcoords"
           }
          ],
          "pie": [
           {
            "automargin": true,
            "type": "pie"
           }
          ],
          "scatter": [
           {
            "fillpattern": {
             "fillmode": "overlay",
             "size": 10,
             "solidity": 0.2
            },
            "type": "scatter"
           }
          ],
          "scatter3d": [
           {
            "line": {
             "colorbar": {
              "outlinewidth": 0,
              "ticks": ""
             }
            },
            "marker": {
             "colorbar": {
              "outlinewidth": 0,
              "ticks": ""
             }
            },
            "type": "scatter3d"
           }
          ],
          "scattercarpet": [
           {
            "marker": {
             "colorbar": {
              "outlinewidth": 0,
              "ticks": ""
             }
            },
            "type": "scattercarpet"
           }
          ],
          "scattergeo": [
           {
            "marker": {
             "colorbar": {
              "outlinewidth": 0,
              "ticks": ""
             }
            },
            "type": "scattergeo"
           }
          ],
          "scattergl": [
           {
            "marker": {
             "colorbar": {
              "outlinewidth": 0,
              "ticks": ""
             }
            },
            "type": "scattergl"
           }
          ],
          "scattermapbox": [
           {
            "marker": {
             "colorbar": {
              "outlinewidth": 0,
              "ticks": ""
             }
            },
            "type": "scattermapbox"
           }
          ],
          "scatterpolar": [
           {
            "marker": {
             "colorbar": {
              "outlinewidth": 0,
              "ticks": ""
             }
            },
            "type": "scatterpolar"
           }
          ],
          "scatterpolargl": [
           {
            "marker": {
             "colorbar": {
              "outlinewidth": 0,
              "ticks": ""
             }
            },
            "type": "scatterpolargl"
           }
          ],
          "scatterternary": [
           {
            "marker": {
             "colorbar": {
              "outlinewidth": 0,
              "ticks": ""
             }
            },
            "type": "scatterternary"
           }
          ],
          "surface": [
           {
            "colorbar": {
             "outlinewidth": 0,
             "ticks": ""
            },
            "colorscale": [
             [
              0,
              "#0d0887"
             ],
             [
              0.1111111111111111,
              "#46039f"
             ],
             [
              0.2222222222222222,
              "#7201a8"
             ],
             [
              0.3333333333333333,
              "#9c179e"
             ],
             [
              0.4444444444444444,
              "#bd3786"
             ],
             [
              0.5555555555555556,
              "#d8576b"
             ],
             [
              0.6666666666666666,
              "#ed7953"
             ],
             [
              0.7777777777777778,
              "#fb9f3a"
             ],
             [
              0.8888888888888888,
              "#fdca26"
             ],
             [
              1,
              "#f0f921"
             ]
            ],
            "type": "surface"
           }
          ],
          "table": [
           {
            "cells": {
             "fill": {
              "color": "#EBF0F8"
             },
             "line": {
              "color": "white"
             }
            },
            "header": {
             "fill": {
              "color": "#C8D4E3"
             },
             "line": {
              "color": "white"
             }
            },
            "type": "table"
           }
          ]
         },
         "layout": {
          "annotationdefaults": {
           "arrowcolor": "#2a3f5f",
           "arrowhead": 0,
           "arrowwidth": 1
          },
          "autotypenumbers": "strict",
          "coloraxis": {
           "colorbar": {
            "outlinewidth": 0,
            "ticks": ""
           }
          },
          "colorscale": {
           "diverging": [
            [
             0,
             "#8e0152"
            ],
            [
             0.1,
             "#c51b7d"
            ],
            [
             0.2,
             "#de77ae"
            ],
            [
             0.3,
             "#f1b6da"
            ],
            [
             0.4,
             "#fde0ef"
            ],
            [
             0.5,
             "#f7f7f7"
            ],
            [
             0.6,
             "#e6f5d0"
            ],
            [
             0.7,
             "#b8e186"
            ],
            [
             0.8,
             "#7fbc41"
            ],
            [
             0.9,
             "#4d9221"
            ],
            [
             1,
             "#276419"
            ]
           ],
           "sequential": [
            [
             0,
             "#0d0887"
            ],
            [
             0.1111111111111111,
             "#46039f"
            ],
            [
             0.2222222222222222,
             "#7201a8"
            ],
            [
             0.3333333333333333,
             "#9c179e"
            ],
            [
             0.4444444444444444,
             "#bd3786"
            ],
            [
             0.5555555555555556,
             "#d8576b"
            ],
            [
             0.6666666666666666,
             "#ed7953"
            ],
            [
             0.7777777777777778,
             "#fb9f3a"
            ],
            [
             0.8888888888888888,
             "#fdca26"
            ],
            [
             1,
             "#f0f921"
            ]
           ],
           "sequentialminus": [
            [
             0,
             "#0d0887"
            ],
            [
             0.1111111111111111,
             "#46039f"
            ],
            [
             0.2222222222222222,
             "#7201a8"
            ],
            [
             0.3333333333333333,
             "#9c179e"
            ],
            [
             0.4444444444444444,
             "#bd3786"
            ],
            [
             0.5555555555555556,
             "#d8576b"
            ],
            [
             0.6666666666666666,
             "#ed7953"
            ],
            [
             0.7777777777777778,
             "#fb9f3a"
            ],
            [
             0.8888888888888888,
             "#fdca26"
            ],
            [
             1,
             "#f0f921"
            ]
           ]
          },
          "colorway": [
           "#636efa",
           "#EF553B",
           "#00cc96",
           "#ab63fa",
           "#FFA15A",
           "#19d3f3",
           "#FF6692",
           "#B6E880",
           "#FF97FF",
           "#FECB52"
          ],
          "font": {
           "color": "#2a3f5f"
          },
          "geo": {
           "bgcolor": "white",
           "lakecolor": "white",
           "landcolor": "#E5ECF6",
           "showlakes": true,
           "showland": true,
           "subunitcolor": "white"
          },
          "hoverlabel": {
           "align": "left"
          },
          "hovermode": "closest",
          "mapbox": {
           "style": "light"
          },
          "paper_bgcolor": "white",
          "plot_bgcolor": "#E5ECF6",
          "polar": {
           "angularaxis": {
            "gridcolor": "white",
            "linecolor": "white",
            "ticks": ""
           },
           "bgcolor": "#E5ECF6",
           "radialaxis": {
            "gridcolor": "white",
            "linecolor": "white",
            "ticks": ""
           }
          },
          "scene": {
           "xaxis": {
            "backgroundcolor": "#E5ECF6",
            "gridcolor": "white",
            "gridwidth": 2,
            "linecolor": "white",
            "showbackground": true,
            "ticks": "",
            "zerolinecolor": "white"
           },
           "yaxis": {
            "backgroundcolor": "#E5ECF6",
            "gridcolor": "white",
            "gridwidth": 2,
            "linecolor": "white",
            "showbackground": true,
            "ticks": "",
            "zerolinecolor": "white"
           },
           "zaxis": {
            "backgroundcolor": "#E5ECF6",
            "gridcolor": "white",
            "gridwidth": 2,
            "linecolor": "white",
            "showbackground": true,
            "ticks": "",
            "zerolinecolor": "white"
           }
          },
          "shapedefaults": {
           "line": {
            "color": "#2a3f5f"
           }
          },
          "ternary": {
           "aaxis": {
            "gridcolor": "white",
            "linecolor": "white",
            "ticks": ""
           },
           "baxis": {
            "gridcolor": "white",
            "linecolor": "white",
            "ticks": ""
           },
           "bgcolor": "#E5ECF6",
           "caxis": {
            "gridcolor": "white",
            "linecolor": "white",
            "ticks": ""
           }
          },
          "title": {
           "x": 0.05
          },
          "xaxis": {
           "automargin": true,
           "gridcolor": "white",
           "linecolor": "white",
           "ticks": "",
           "title": {
            "standoff": 15
           },
           "zerolinecolor": "white",
           "zerolinewidth": 2
          },
          "yaxis": {
           "automargin": true,
           "gridcolor": "white",
           "linecolor": "white",
           "ticks": "",
           "title": {
            "standoff": 15
           },
           "zerolinecolor": "white",
           "zerolinewidth": 2
          }
         }
        },
        "title": {
         "font": {
          "color": "#4D5663"
         }
        },
        "xaxis": {
         "gridcolor": "#E1E5ED",
         "showgrid": true,
         "tickfont": {
          "color": "#4D5663"
         },
         "title": {
          "font": {
           "color": "#4D5663"
          },
          "text": ""
         },
         "zerolinecolor": "#E1E5ED"
        },
        "yaxis": {
         "gridcolor": "#E1E5ED",
         "showgrid": true,
         "tickfont": {
          "color": "#4D5663"
         },
         "title": {
          "font": {
           "color": "#4D5663"
          },
          "text": ""
         },
         "zerolinecolor": "#E1E5ED"
        }
       }
      },
      "text/html": [
       "<div>                            <div id=\"c99c3df5-67e7-49b2-8165-f7fb3a79dfca\" class=\"plotly-graph-div\" style=\"height:525px; width:100%;\"></div>            <script type=\"text/javascript\">                require([\"plotly\"], function(Plotly) {                    window.PLOTLYENV=window.PLOTLYENV || {};\n",
       "                    window.PLOTLYENV.BASE_URL='https://plot.ly';                                    if (document.getElementById(\"c99c3df5-67e7-49b2-8165-f7fb3a79dfca\")) {                    Plotly.newPlot(                        \"c99c3df5-67e7-49b2-8165-f7fb3a79dfca\",                        [{\"line\":{\"color\":\"rgba(255, 153, 51, 1.0)\",\"dash\":\"solid\",\"shape\":\"linear\",\"width\":1.3},\"marker\":{\"size\":10,\"symbol\":\"circle\"},\"mode\":\"markers\",\"name\":\"B\",\"text\":\"\",\"x\":[-0.5019262604718252,1.3406574372295323,-0.14453389308463846,0.040956373720975554,0.7274751665220139,0.02772203928139414,-0.2627967982077833,-0.6445792859574564,-0.12440658548148807,-1.4195717936405616,-0.5881620964690552,0.1968941489793469,0.24836115152992447,1.1906853329299731,-0.20731260889632006,0.04751918853287542,1.714309247596637,-0.2014585421239541,-0.706546818966052,-1.2789820090973136,-0.29087411730222307,0.30696147278145924,0.6542094312601774,0.6346490022624198,-1.453964470447946,-0.2562556030355115,-0.13399741602615234,1.043664761096363,1.5362170449236299,-1.139822665761981,-1.3081191119064488,0.3022549378458871,1.3730961762014156,0.5088024651071592,-0.8464243671405703,-1.2011957891288758,1.160341198796026,0.027689159510517817,1.3797848021879668,-0.11870973173703767,0.7548654583979592,0.6673776766556359,-0.1416767698425056,-1.3702526577901337,-0.22733380869451456,-0.3860545857839438,-0.4746494033140237,-1.4423873780835887,-0.5232558519147569,0.9923567002966976,-1.3367993456448217,0.35964321503622887,-0.8508495574838864,0.883592769966994,-0.6246517499576894,0.27989103186935305,0.6131371580496763,0.3216230855728305,0.28464155507737726,1.44503447655136,-0.27721413247491106,-1.4087811922820848,-0.33100038597981374,-0.7676458148982221,-0.9068197369866156,-0.4064278014938917,0.4841752803205062,-1.7939182078675981,0.645534754730688,-0.8546984857726455,-2.5751222033503276,-1.5496209941435157,-1.845264470705639,-1.7955574080362404,-1.0990447387369575,-0.02806115476210823,-0.09459203941178367,-0.8775873145390063,-4.121990228815462,-1.4352429415503278,-0.9688499652094146,-1.5041241800369083,-1.7357005143943813,-0.4502043873141606,-0.8411556452989516,-0.017478105167135518,-0.4047434754669365,-0.46049951646255516,-1.7239509268452278,-2.077507197691761,0.18656533416519658,0.05483152572246387,-1.1988250504309492,-0.6769503724014974,-0.07033222410676333,1.8214626735961084,0.48073894868276373,-1.028001117338976,-0.03736194677178664,-0.1613022757355416],\"y\":[-0.8537742762332164,1.0157322930976045,1.2316869207547705,0.1314299722305412,-0.633724221261174,-1.021091071695296,0.05493633765137216,0.5561493102654288,-0.606363232964669,0.5413884046594294,1.5191493772222278,-0.9771583011795383,-2.564988254175942,-1.511871766233654,0.1698098432471122,-0.0006299061581094447,0.019540019752891886,-0.20333090941576668,-1.0515069577217253,0.8535637865467421,0.7479173990250584,1.5740810908189957,-0.2134294929037309,-0.8287624452994441,1.8084096050913296,-0.4985374462398888,-0.07050276829129744,0.2454396915192863,1.5865458034730295,0.22855415423131717,1.2318015789536472,-0.2683148170438074,0.2721415238481511,1.4289215468174405,0.3407877359485261,2.1163336799878025,-1.2175531392623062,1.0493278651389129,0.019850364513919506,1.7905761038088464,0.2718209125384333,0.9423641957958778,1.639765844844743,1.3938704008306384,-0.3588645773400398,-0.9247625382971925,1.6635092098571502,-0.8502091892531796,1.129888165743087,-0.9209889483736413,-0.6675980382475256,-0.8294327676779536,1.9101387765933906,0.6278871873084058,0.29342412609384266,0.2719883298680775,-1.2383177845611195,0.23924194267683924,-0.7947533691988276,0.369281989374878,-0.5362511746826577,-1.8551607079119403,1.4351948232022345,0.24854237986146002,-2.5847223229622402,-1.4763150326920196,0.16805478888458833,0.48872897444176455,0.18610409006261094,-0.18722588584988972,-0.6361226923627324,-0.8021976334316585,1.0793256151600996,0.8927522531499735,-1.0400918766611247,1.3309567449801414,-0.23918015765720343,0.21827777245077276,0.6643448470304437,-0.9887852571546005,-1.9802413017970966,1.310100856690185,-0.02734743222390547,-1.643015114730303,-0.09084317256020294,1.8388734031514915,1.563071326231132,-0.8096762102199779,0.4597566070432031,-0.6950082009640749,2.251854180395313,-0.2175714152370271,0.5372187334131854,-1.0190670145375262,-1.3175105585197597,-2.1250187398628486,0.8472747609702648,-2.3971849488244765,-1.3737368824255878,-0.6940420292071485],\"type\":\"scatter\"}],                        {\"legend\":{\"bgcolor\":\"#F5F6F9\",\"font\":{\"color\":\"#4D5663\"}},\"paper_bgcolor\":\"#F5F6F9\",\"plot_bgcolor\":\"#F5F6F9\",\"template\":{\"data\":{\"barpolar\":[{\"marker\":{\"line\":{\"color\":\"#E5ECF6\",\"width\":0.5},\"pattern\":{\"fillmode\":\"overlay\",\"size\":10,\"solidity\":0.2}},\"type\":\"barpolar\"}],\"bar\":[{\"error_x\":{\"color\":\"#2a3f5f\"},\"error_y\":{\"color\":\"#2a3f5f\"},\"marker\":{\"line\":{\"color\":\"#E5ECF6\",\"width\":0.5},\"pattern\":{\"fillmode\":\"overlay\",\"size\":10,\"solidity\":0.2}},\"type\":\"bar\"}],\"carpet\":[{\"aaxis\":{\"endlinecolor\":\"#2a3f5f\",\"gridcolor\":\"white\",\"linecolor\":\"white\",\"minorgridcolor\":\"white\",\"startlinecolor\":\"#2a3f5f\"},\"baxis\":{\"endlinecolor\":\"#2a3f5f\",\"gridcolor\":\"white\",\"linecolor\":\"white\",\"minorgridcolor\":\"white\",\"startlinecolor\":\"#2a3f5f\"},\"type\":\"carpet\"}],\"choropleth\":[{\"colorbar\":{\"outlinewidth\":0,\"ticks\":\"\"},\"type\":\"choropleth\"}],\"contourcarpet\":[{\"colorbar\":{\"outlinewidth\":0,\"ticks\":\"\"},\"type\":\"contourcarpet\"}],\"contour\":[{\"colorbar\":{\"outlinewidth\":0,\"ticks\":\"\"},\"colorscale\":[[0.0,\"#0d0887\"],[0.1111111111111111,\"#46039f\"],[0.2222222222222222,\"#7201a8\"],[0.3333333333333333,\"#9c179e\"],[0.4444444444444444,\"#bd3786\"],[0.5555555555555556,\"#d8576b\"],[0.6666666666666666,\"#ed7953\"],[0.7777777777777778,\"#fb9f3a\"],[0.8888888888888888,\"#fdca26\"],[1.0,\"#f0f921\"]],\"type\":\"contour\"}],\"heatmapgl\":[{\"colorbar\":{\"outlinewidth\":0,\"ticks\":\"\"},\"colorscale\":[[0.0,\"#0d0887\"],[0.1111111111111111,\"#46039f\"],[0.2222222222222222,\"#7201a8\"],[0.3333333333333333,\"#9c179e\"],[0.4444444444444444,\"#bd3786\"],[0.5555555555555556,\"#d8576b\"],[0.6666666666666666,\"#ed7953\"],[0.7777777777777778,\"#fb9f3a\"],[0.8888888888888888,\"#fdca26\"],[1.0,\"#f0f921\"]],\"type\":\"heatmapgl\"}],\"heatmap\":[{\"colorbar\":{\"outlinewidth\":0,\"ticks\":\"\"},\"colorscale\":[[0.0,\"#0d0887\"],[0.1111111111111111,\"#46039f\"],[0.2222222222222222,\"#7201a8\"],[0.3333333333333333,\"#9c179e\"],[0.4444444444444444,\"#bd3786\"],[0.5555555555555556,\"#d8576b\"],[0.6666666666666666,\"#ed7953\"],[0.7777777777777778,\"#fb9f3a\"],[0.8888888888888888,\"#fdca26\"],[1.0,\"#f0f921\"]],\"type\":\"heatmap\"}],\"histogram2dcontour\":[{\"colorbar\":{\"outlinewidth\":0,\"ticks\":\"\"},\"colorscale\":[[0.0,\"#0d0887\"],[0.1111111111111111,\"#46039f\"],[0.2222222222222222,\"#7201a8\"],[0.3333333333333333,\"#9c179e\"],[0.4444444444444444,\"#bd3786\"],[0.5555555555555556,\"#d8576b\"],[0.6666666666666666,\"#ed7953\"],[0.7777777777777778,\"#fb9f3a\"],[0.8888888888888888,\"#fdca26\"],[1.0,\"#f0f921\"]],\"type\":\"histogram2dcontour\"}],\"histogram2d\":[{\"colorbar\":{\"outlinewidth\":0,\"ticks\":\"\"},\"colorscale\":[[0.0,\"#0d0887\"],[0.1111111111111111,\"#46039f\"],[0.2222222222222222,\"#7201a8\"],[0.3333333333333333,\"#9c179e\"],[0.4444444444444444,\"#bd3786\"],[0.5555555555555556,\"#d8576b\"],[0.6666666666666666,\"#ed7953\"],[0.7777777777777778,\"#fb9f3a\"],[0.8888888888888888,\"#fdca26\"],[1.0,\"#f0f921\"]],\"type\":\"histogram2d\"}],\"histogram\":[{\"marker\":{\"pattern\":{\"fillmode\":\"overlay\",\"size\":10,\"solidity\":0.2}},\"type\":\"histogram\"}],\"mesh3d\":[{\"colorbar\":{\"outlinewidth\":0,\"ticks\":\"\"},\"type\":\"mesh3d\"}],\"parcoords\":[{\"line\":{\"colorbar\":{\"outlinewidth\":0,\"ticks\":\"\"}},\"type\":\"parcoords\"}],\"pie\":[{\"automargin\":true,\"type\":\"pie\"}],\"scatter3d\":[{\"line\":{\"colorbar\":{\"outlinewidth\":0,\"ticks\":\"\"}},\"marker\":{\"colorbar\":{\"outlinewidth\":0,\"ticks\":\"\"}},\"type\":\"scatter3d\"}],\"scattercarpet\":[{\"marker\":{\"colorbar\":{\"outlinewidth\":0,\"ticks\":\"\"}},\"type\":\"scattercarpet\"}],\"scattergeo\":[{\"marker\":{\"colorbar\":{\"outlinewidth\":0,\"ticks\":\"\"}},\"type\":\"scattergeo\"}],\"scattergl\":[{\"marker\":{\"colorbar\":{\"outlinewidth\":0,\"ticks\":\"\"}},\"type\":\"scattergl\"}],\"scattermapbox\":[{\"marker\":{\"colorbar\":{\"outlinewidth\":0,\"ticks\":\"\"}},\"type\":\"scattermapbox\"}],\"scatterpolargl\":[{\"marker\":{\"colorbar\":{\"outlinewidth\":0,\"ticks\":\"\"}},\"type\":\"scatterpolargl\"}],\"scatterpolar\":[{\"marker\":{\"colorbar\":{\"outlinewidth\":0,\"ticks\":\"\"}},\"type\":\"scatterpolar\"}],\"scatter\":[{\"fillpattern\":{\"fillmode\":\"overlay\",\"size\":10,\"solidity\":0.2},\"type\":\"scatter\"}],\"scatterternary\":[{\"marker\":{\"colorbar\":{\"outlinewidth\":0,\"ticks\":\"\"}},\"type\":\"scatterternary\"}],\"surface\":[{\"colorbar\":{\"outlinewidth\":0,\"ticks\":\"\"},\"colorscale\":[[0.0,\"#0d0887\"],[0.1111111111111111,\"#46039f\"],[0.2222222222222222,\"#7201a8\"],[0.3333333333333333,\"#9c179e\"],[0.4444444444444444,\"#bd3786\"],[0.5555555555555556,\"#d8576b\"],[0.6666666666666666,\"#ed7953\"],[0.7777777777777778,\"#fb9f3a\"],[0.8888888888888888,\"#fdca26\"],[1.0,\"#f0f921\"]],\"type\":\"surface\"}],\"table\":[{\"cells\":{\"fill\":{\"color\":\"#EBF0F8\"},\"line\":{\"color\":\"white\"}},\"header\":{\"fill\":{\"color\":\"#C8D4E3\"},\"line\":{\"color\":\"white\"}},\"type\":\"table\"}]},\"layout\":{\"annotationdefaults\":{\"arrowcolor\":\"#2a3f5f\",\"arrowhead\":0,\"arrowwidth\":1},\"autotypenumbers\":\"strict\",\"coloraxis\":{\"colorbar\":{\"outlinewidth\":0,\"ticks\":\"\"}},\"colorscale\":{\"diverging\":[[0,\"#8e0152\"],[0.1,\"#c51b7d\"],[0.2,\"#de77ae\"],[0.3,\"#f1b6da\"],[0.4,\"#fde0ef\"],[0.5,\"#f7f7f7\"],[0.6,\"#e6f5d0\"],[0.7,\"#b8e186\"],[0.8,\"#7fbc41\"],[0.9,\"#4d9221\"],[1,\"#276419\"]],\"sequential\":[[0.0,\"#0d0887\"],[0.1111111111111111,\"#46039f\"],[0.2222222222222222,\"#7201a8\"],[0.3333333333333333,\"#9c179e\"],[0.4444444444444444,\"#bd3786\"],[0.5555555555555556,\"#d8576b\"],[0.6666666666666666,\"#ed7953\"],[0.7777777777777778,\"#fb9f3a\"],[0.8888888888888888,\"#fdca26\"],[1.0,\"#f0f921\"]],\"sequentialminus\":[[0.0,\"#0d0887\"],[0.1111111111111111,\"#46039f\"],[0.2222222222222222,\"#7201a8\"],[0.3333333333333333,\"#9c179e\"],[0.4444444444444444,\"#bd3786\"],[0.5555555555555556,\"#d8576b\"],[0.6666666666666666,\"#ed7953\"],[0.7777777777777778,\"#fb9f3a\"],[0.8888888888888888,\"#fdca26\"],[1.0,\"#f0f921\"]]},\"colorway\":[\"#636efa\",\"#EF553B\",\"#00cc96\",\"#ab63fa\",\"#FFA15A\",\"#19d3f3\",\"#FF6692\",\"#B6E880\",\"#FF97FF\",\"#FECB52\"],\"font\":{\"color\":\"#2a3f5f\"},\"geo\":{\"bgcolor\":\"white\",\"lakecolor\":\"white\",\"landcolor\":\"#E5ECF6\",\"showlakes\":true,\"showland\":true,\"subunitcolor\":\"white\"},\"hoverlabel\":{\"align\":\"left\"},\"hovermode\":\"closest\",\"mapbox\":{\"style\":\"light\"},\"paper_bgcolor\":\"white\",\"plot_bgcolor\":\"#E5ECF6\",\"polar\":{\"angularaxis\":{\"gridcolor\":\"white\",\"linecolor\":\"white\",\"ticks\":\"\"},\"bgcolor\":\"#E5ECF6\",\"radialaxis\":{\"gridcolor\":\"white\",\"linecolor\":\"white\",\"ticks\":\"\"}},\"scene\":{\"xaxis\":{\"backgroundcolor\":\"#E5ECF6\",\"gridcolor\":\"white\",\"gridwidth\":2,\"linecolor\":\"white\",\"showbackground\":true,\"ticks\":\"\",\"zerolinecolor\":\"white\"},\"yaxis\":{\"backgroundcolor\":\"#E5ECF6\",\"gridcolor\":\"white\",\"gridwidth\":2,\"linecolor\":\"white\",\"showbackground\":true,\"ticks\":\"\",\"zerolinecolor\":\"white\"},\"zaxis\":{\"backgroundcolor\":\"#E5ECF6\",\"gridcolor\":\"white\",\"gridwidth\":2,\"linecolor\":\"white\",\"showbackground\":true,\"ticks\":\"\",\"zerolinecolor\":\"white\"}},\"shapedefaults\":{\"line\":{\"color\":\"#2a3f5f\"}},\"ternary\":{\"aaxis\":{\"gridcolor\":\"white\",\"linecolor\":\"white\",\"ticks\":\"\"},\"baxis\":{\"gridcolor\":\"white\",\"linecolor\":\"white\",\"ticks\":\"\"},\"bgcolor\":\"#E5ECF6\",\"caxis\":{\"gridcolor\":\"white\",\"linecolor\":\"white\",\"ticks\":\"\"}},\"title\":{\"x\":0.05},\"xaxis\":{\"automargin\":true,\"gridcolor\":\"white\",\"linecolor\":\"white\",\"ticks\":\"\",\"title\":{\"standoff\":15},\"zerolinecolor\":\"white\",\"zerolinewidth\":2},\"yaxis\":{\"automargin\":true,\"gridcolor\":\"white\",\"linecolor\":\"white\",\"ticks\":\"\",\"title\":{\"standoff\":15},\"zerolinecolor\":\"white\",\"zerolinewidth\":2}}},\"title\":{\"font\":{\"color\":\"#4D5663\"}},\"xaxis\":{\"gridcolor\":\"#E1E5ED\",\"showgrid\":true,\"tickfont\":{\"color\":\"#4D5663\"},\"title\":{\"font\":{\"color\":\"#4D5663\"},\"text\":\"\"},\"zerolinecolor\":\"#E1E5ED\"},\"yaxis\":{\"gridcolor\":\"#E1E5ED\",\"showgrid\":true,\"tickfont\":{\"color\":\"#4D5663\"},\"title\":{\"font\":{\"color\":\"#4D5663\"},\"text\":\"\"},\"zerolinecolor\":\"#E1E5ED\"}},                        {\"showLink\": true, \"linkText\": \"Export to plot.ly\", \"plotlyServerURL\": \"https://plot.ly\", \"responsive\": true}                    ).then(function(){\n",
       "                            \n",
       "var gd = document.getElementById('c99c3df5-67e7-49b2-8165-f7fb3a79dfca');\n",
       "var x = new MutationObserver(function (mutations, observer) {{\n",
       "        var display = window.getComputedStyle(gd).display;\n",
       "        if (!display || display === 'none') {{\n",
       "            console.log([gd, 'removed!']);\n",
       "            Plotly.purge(gd);\n",
       "            observer.disconnect();\n",
       "        }}\n",
       "}});\n",
       "\n",
       "// Listen for the removal of the full notebook cells\n",
       "var notebookContainer = gd.closest('#notebook-container');\n",
       "if (notebookContainer) {{\n",
       "    x.observe(notebookContainer, {childList: true});\n",
       "}}\n",
       "\n",
       "// Listen for the clearing of the current output cell\n",
       "var outputEl = gd.closest('.output');\n",
       "if (outputEl) {{\n",
       "    x.observe(outputEl, {childList: true});\n",
       "}}\n",
       "\n",
       "                        })                };                });            </script>        </div>"
      ]
     },
     "metadata": {},
     "output_type": "display_data"
    }
   ],
   "source": [
    "df.iplot(kind='scatter',x='A',y='B',mode='markers',size=10)"
   ]
  },
  {
   "cell_type": "markdown",
   "metadata": {},
   "source": [
    "## Bar Plots"
   ]
  },
  {
   "cell_type": "code",
   "execution_count": 11,
   "metadata": {},
   "outputs": [
    {
     "data": {
      "application/vnd.plotly.v1+json": {
       "config": {
        "linkText": "Export to plot.ly",
        "plotlyServerURL": "https://plot.ly",
        "showLink": true
       },
       "data": [
        {
         "marker": {
          "color": "rgba(255, 153, 51, 0.6)",
          "line": {
           "color": "rgba(255, 153, 51, 1.0)",
           "width": 1
          }
         },
         "name": "Values",
         "orientation": "v",
         "text": "",
         "type": "bar",
         "x": [
          "A",
          "B",
          "C"
         ],
         "y": [
          32,
          43,
          50
         ]
        }
       ],
       "layout": {
        "legend": {
         "bgcolor": "#F5F6F9",
         "font": {
          "color": "#4D5663"
         }
        },
        "paper_bgcolor": "#F5F6F9",
        "plot_bgcolor": "#F5F6F9",
        "template": {
         "data": {
          "bar": [
           {
            "error_x": {
             "color": "#2a3f5f"
            },
            "error_y": {
             "color": "#2a3f5f"
            },
            "marker": {
             "line": {
              "color": "#E5ECF6",
              "width": 0.5
             },
             "pattern": {
              "fillmode": "overlay",
              "size": 10,
              "solidity": 0.2
             }
            },
            "type": "bar"
           }
          ],
          "barpolar": [
           {
            "marker": {
             "line": {
              "color": "#E5ECF6",
              "width": 0.5
             },
             "pattern": {
              "fillmode": "overlay",
              "size": 10,
              "solidity": 0.2
             }
            },
            "type": "barpolar"
           }
          ],
          "carpet": [
           {
            "aaxis": {
             "endlinecolor": "#2a3f5f",
             "gridcolor": "white",
             "linecolor": "white",
             "minorgridcolor": "white",
             "startlinecolor": "#2a3f5f"
            },
            "baxis": {
             "endlinecolor": "#2a3f5f",
             "gridcolor": "white",
             "linecolor": "white",
             "minorgridcolor": "white",
             "startlinecolor": "#2a3f5f"
            },
            "type": "carpet"
           }
          ],
          "choropleth": [
           {
            "colorbar": {
             "outlinewidth": 0,
             "ticks": ""
            },
            "type": "choropleth"
           }
          ],
          "contour": [
           {
            "colorbar": {
             "outlinewidth": 0,
             "ticks": ""
            },
            "colorscale": [
             [
              0,
              "#0d0887"
             ],
             [
              0.1111111111111111,
              "#46039f"
             ],
             [
              0.2222222222222222,
              "#7201a8"
             ],
             [
              0.3333333333333333,
              "#9c179e"
             ],
             [
              0.4444444444444444,
              "#bd3786"
             ],
             [
              0.5555555555555556,
              "#d8576b"
             ],
             [
              0.6666666666666666,
              "#ed7953"
             ],
             [
              0.7777777777777778,
              "#fb9f3a"
             ],
             [
              0.8888888888888888,
              "#fdca26"
             ],
             [
              1,
              "#f0f921"
             ]
            ],
            "type": "contour"
           }
          ],
          "contourcarpet": [
           {
            "colorbar": {
             "outlinewidth": 0,
             "ticks": ""
            },
            "type": "contourcarpet"
           }
          ],
          "heatmap": [
           {
            "colorbar": {
             "outlinewidth": 0,
             "ticks": ""
            },
            "colorscale": [
             [
              0,
              "#0d0887"
             ],
             [
              0.1111111111111111,
              "#46039f"
             ],
             [
              0.2222222222222222,
              "#7201a8"
             ],
             [
              0.3333333333333333,
              "#9c179e"
             ],
             [
              0.4444444444444444,
              "#bd3786"
             ],
             [
              0.5555555555555556,
              "#d8576b"
             ],
             [
              0.6666666666666666,
              "#ed7953"
             ],
             [
              0.7777777777777778,
              "#fb9f3a"
             ],
             [
              0.8888888888888888,
              "#fdca26"
             ],
             [
              1,
              "#f0f921"
             ]
            ],
            "type": "heatmap"
           }
          ],
          "heatmapgl": [
           {
            "colorbar": {
             "outlinewidth": 0,
             "ticks": ""
            },
            "colorscale": [
             [
              0,
              "#0d0887"
             ],
             [
              0.1111111111111111,
              "#46039f"
             ],
             [
              0.2222222222222222,
              "#7201a8"
             ],
             [
              0.3333333333333333,
              "#9c179e"
             ],
             [
              0.4444444444444444,
              "#bd3786"
             ],
             [
              0.5555555555555556,
              "#d8576b"
             ],
             [
              0.6666666666666666,
              "#ed7953"
             ],
             [
              0.7777777777777778,
              "#fb9f3a"
             ],
             [
              0.8888888888888888,
              "#fdca26"
             ],
             [
              1,
              "#f0f921"
             ]
            ],
            "type": "heatmapgl"
           }
          ],
          "histogram": [
           {
            "marker": {
             "pattern": {
              "fillmode": "overlay",
              "size": 10,
              "solidity": 0.2
             }
            },
            "type": "histogram"
           }
          ],
          "histogram2d": [
           {
            "colorbar": {
             "outlinewidth": 0,
             "ticks": ""
            },
            "colorscale": [
             [
              0,
              "#0d0887"
             ],
             [
              0.1111111111111111,
              "#46039f"
             ],
             [
              0.2222222222222222,
              "#7201a8"
             ],
             [
              0.3333333333333333,
              "#9c179e"
             ],
             [
              0.4444444444444444,
              "#bd3786"
             ],
             [
              0.5555555555555556,
              "#d8576b"
             ],
             [
              0.6666666666666666,
              "#ed7953"
             ],
             [
              0.7777777777777778,
              "#fb9f3a"
             ],
             [
              0.8888888888888888,
              "#fdca26"
             ],
             [
              1,
              "#f0f921"
             ]
            ],
            "type": "histogram2d"
           }
          ],
          "histogram2dcontour": [
           {
            "colorbar": {
             "outlinewidth": 0,
             "ticks": ""
            },
            "colorscale": [
             [
              0,
              "#0d0887"
             ],
             [
              0.1111111111111111,
              "#46039f"
             ],
             [
              0.2222222222222222,
              "#7201a8"
             ],
             [
              0.3333333333333333,
              "#9c179e"
             ],
             [
              0.4444444444444444,
              "#bd3786"
             ],
             [
              0.5555555555555556,
              "#d8576b"
             ],
             [
              0.6666666666666666,
              "#ed7953"
             ],
             [
              0.7777777777777778,
              "#fb9f3a"
             ],
             [
              0.8888888888888888,
              "#fdca26"
             ],
             [
              1,
              "#f0f921"
             ]
            ],
            "type": "histogram2dcontour"
           }
          ],
          "mesh3d": [
           {
            "colorbar": {
             "outlinewidth": 0,
             "ticks": ""
            },
            "type": "mesh3d"
           }
          ],
          "parcoords": [
           {
            "line": {
             "colorbar": {
              "outlinewidth": 0,
              "ticks": ""
             }
            },
            "type": "parcoords"
           }
          ],
          "pie": [
           {
            "automargin": true,
            "type": "pie"
           }
          ],
          "scatter": [
           {
            "fillpattern": {
             "fillmode": "overlay",
             "size": 10,
             "solidity": 0.2
            },
            "type": "scatter"
           }
          ],
          "scatter3d": [
           {
            "line": {
             "colorbar": {
              "outlinewidth": 0,
              "ticks": ""
             }
            },
            "marker": {
             "colorbar": {
              "outlinewidth": 0,
              "ticks": ""
             }
            },
            "type": "scatter3d"
           }
          ],
          "scattercarpet": [
           {
            "marker": {
             "colorbar": {
              "outlinewidth": 0,
              "ticks": ""
             }
            },
            "type": "scattercarpet"
           }
          ],
          "scattergeo": [
           {
            "marker": {
             "colorbar": {
              "outlinewidth": 0,
              "ticks": ""
             }
            },
            "type": "scattergeo"
           }
          ],
          "scattergl": [
           {
            "marker": {
             "colorbar": {
              "outlinewidth": 0,
              "ticks": ""
             }
            },
            "type": "scattergl"
           }
          ],
          "scattermapbox": [
           {
            "marker": {
             "colorbar": {
              "outlinewidth": 0,
              "ticks": ""
             }
            },
            "type": "scattermapbox"
           }
          ],
          "scatterpolar": [
           {
            "marker": {
             "colorbar": {
              "outlinewidth": 0,
              "ticks": ""
             }
            },
            "type": "scatterpolar"
           }
          ],
          "scatterpolargl": [
           {
            "marker": {
             "colorbar": {
              "outlinewidth": 0,
              "ticks": ""
             }
            },
            "type": "scatterpolargl"
           }
          ],
          "scatterternary": [
           {
            "marker": {
             "colorbar": {
              "outlinewidth": 0,
              "ticks": ""
             }
            },
            "type": "scatterternary"
           }
          ],
          "surface": [
           {
            "colorbar": {
             "outlinewidth": 0,
             "ticks": ""
            },
            "colorscale": [
             [
              0,
              "#0d0887"
             ],
             [
              0.1111111111111111,
              "#46039f"
             ],
             [
              0.2222222222222222,
              "#7201a8"
             ],
             [
              0.3333333333333333,
              "#9c179e"
             ],
             [
              0.4444444444444444,
              "#bd3786"
             ],
             [
              0.5555555555555556,
              "#d8576b"
             ],
             [
              0.6666666666666666,
              "#ed7953"
             ],
             [
              0.7777777777777778,
              "#fb9f3a"
             ],
             [
              0.8888888888888888,
              "#fdca26"
             ],
             [
              1,
              "#f0f921"
             ]
            ],
            "type": "surface"
           }
          ],
          "table": [
           {
            "cells": {
             "fill": {
              "color": "#EBF0F8"
             },
             "line": {
              "color": "white"
             }
            },
            "header": {
             "fill": {
              "color": "#C8D4E3"
             },
             "line": {
              "color": "white"
             }
            },
            "type": "table"
           }
          ]
         },
         "layout": {
          "annotationdefaults": {
           "arrowcolor": "#2a3f5f",
           "arrowhead": 0,
           "arrowwidth": 1
          },
          "autotypenumbers": "strict",
          "coloraxis": {
           "colorbar": {
            "outlinewidth": 0,
            "ticks": ""
           }
          },
          "colorscale": {
           "diverging": [
            [
             0,
             "#8e0152"
            ],
            [
             0.1,
             "#c51b7d"
            ],
            [
             0.2,
             "#de77ae"
            ],
            [
             0.3,
             "#f1b6da"
            ],
            [
             0.4,
             "#fde0ef"
            ],
            [
             0.5,
             "#f7f7f7"
            ],
            [
             0.6,
             "#e6f5d0"
            ],
            [
             0.7,
             "#b8e186"
            ],
            [
             0.8,
             "#7fbc41"
            ],
            [
             0.9,
             "#4d9221"
            ],
            [
             1,
             "#276419"
            ]
           ],
           "sequential": [
            [
             0,
             "#0d0887"
            ],
            [
             0.1111111111111111,
             "#46039f"
            ],
            [
             0.2222222222222222,
             "#7201a8"
            ],
            [
             0.3333333333333333,
             "#9c179e"
            ],
            [
             0.4444444444444444,
             "#bd3786"
            ],
            [
             0.5555555555555556,
             "#d8576b"
            ],
            [
             0.6666666666666666,
             "#ed7953"
            ],
            [
             0.7777777777777778,
             "#fb9f3a"
            ],
            [
             0.8888888888888888,
             "#fdca26"
            ],
            [
             1,
             "#f0f921"
            ]
           ],
           "sequentialminus": [
            [
             0,
             "#0d0887"
            ],
            [
             0.1111111111111111,
             "#46039f"
            ],
            [
             0.2222222222222222,
             "#7201a8"
            ],
            [
             0.3333333333333333,
             "#9c179e"
            ],
            [
             0.4444444444444444,
             "#bd3786"
            ],
            [
             0.5555555555555556,
             "#d8576b"
            ],
            [
             0.6666666666666666,
             "#ed7953"
            ],
            [
             0.7777777777777778,
             "#fb9f3a"
            ],
            [
             0.8888888888888888,
             "#fdca26"
            ],
            [
             1,
             "#f0f921"
            ]
           ]
          },
          "colorway": [
           "#636efa",
           "#EF553B",
           "#00cc96",
           "#ab63fa",
           "#FFA15A",
           "#19d3f3",
           "#FF6692",
           "#B6E880",
           "#FF97FF",
           "#FECB52"
          ],
          "font": {
           "color": "#2a3f5f"
          },
          "geo": {
           "bgcolor": "white",
           "lakecolor": "white",
           "landcolor": "#E5ECF6",
           "showlakes": true,
           "showland": true,
           "subunitcolor": "white"
          },
          "hoverlabel": {
           "align": "left"
          },
          "hovermode": "closest",
          "mapbox": {
           "style": "light"
          },
          "paper_bgcolor": "white",
          "plot_bgcolor": "#E5ECF6",
          "polar": {
           "angularaxis": {
            "gridcolor": "white",
            "linecolor": "white",
            "ticks": ""
           },
           "bgcolor": "#E5ECF6",
           "radialaxis": {
            "gridcolor": "white",
            "linecolor": "white",
            "ticks": ""
           }
          },
          "scene": {
           "xaxis": {
            "backgroundcolor": "#E5ECF6",
            "gridcolor": "white",
            "gridwidth": 2,
            "linecolor": "white",
            "showbackground": true,
            "ticks": "",
            "zerolinecolor": "white"
           },
           "yaxis": {
            "backgroundcolor": "#E5ECF6",
            "gridcolor": "white",
            "gridwidth": 2,
            "linecolor": "white",
            "showbackground": true,
            "ticks": "",
            "zerolinecolor": "white"
           },
           "zaxis": {
            "backgroundcolor": "#E5ECF6",
            "gridcolor": "white",
            "gridwidth": 2,
            "linecolor": "white",
            "showbackground": true,
            "ticks": "",
            "zerolinecolor": "white"
           }
          },
          "shapedefaults": {
           "line": {
            "color": "#2a3f5f"
           }
          },
          "ternary": {
           "aaxis": {
            "gridcolor": "white",
            "linecolor": "white",
            "ticks": ""
           },
           "baxis": {
            "gridcolor": "white",
            "linecolor": "white",
            "ticks": ""
           },
           "bgcolor": "#E5ECF6",
           "caxis": {
            "gridcolor": "white",
            "linecolor": "white",
            "ticks": ""
           }
          },
          "title": {
           "x": 0.05
          },
          "xaxis": {
           "automargin": true,
           "gridcolor": "white",
           "linecolor": "white",
           "ticks": "",
           "title": {
            "standoff": 15
           },
           "zerolinecolor": "white",
           "zerolinewidth": 2
          },
          "yaxis": {
           "automargin": true,
           "gridcolor": "white",
           "linecolor": "white",
           "ticks": "",
           "title": {
            "standoff": 15
           },
           "zerolinecolor": "white",
           "zerolinewidth": 2
          }
         }
        },
        "title": {
         "font": {
          "color": "#4D5663"
         }
        },
        "xaxis": {
         "gridcolor": "#E1E5ED",
         "showgrid": true,
         "tickfont": {
          "color": "#4D5663"
         },
         "title": {
          "font": {
           "color": "#4D5663"
          },
          "text": ""
         },
         "zerolinecolor": "#E1E5ED"
        },
        "yaxis": {
         "gridcolor": "#E1E5ED",
         "showgrid": true,
         "tickfont": {
          "color": "#4D5663"
         },
         "title": {
          "font": {
           "color": "#4D5663"
          },
          "text": ""
         },
         "zerolinecolor": "#E1E5ED"
        }
       }
      },
      "text/html": [
       "<div>                            <div id=\"f28101a8-e8f7-4b35-bb28-0463b8ec7c20\" class=\"plotly-graph-div\" style=\"height:525px; width:100%;\"></div>            <script type=\"text/javascript\">                require([\"plotly\"], function(Plotly) {                    window.PLOTLYENV=window.PLOTLYENV || {};\n",
       "                    window.PLOTLYENV.BASE_URL='https://plot.ly';                                    if (document.getElementById(\"f28101a8-e8f7-4b35-bb28-0463b8ec7c20\")) {                    Plotly.newPlot(                        \"f28101a8-e8f7-4b35-bb28-0463b8ec7c20\",                        [{\"marker\":{\"color\":\"rgba(255, 153, 51, 0.6)\",\"line\":{\"color\":\"rgba(255, 153, 51, 1.0)\",\"width\":1}},\"name\":\"Values\",\"orientation\":\"v\",\"text\":\"\",\"x\":[\"A\",\"B\",\"C\"],\"y\":[32,43,50],\"type\":\"bar\"}],                        {\"legend\":{\"bgcolor\":\"#F5F6F9\",\"font\":{\"color\":\"#4D5663\"}},\"paper_bgcolor\":\"#F5F6F9\",\"plot_bgcolor\":\"#F5F6F9\",\"template\":{\"data\":{\"barpolar\":[{\"marker\":{\"line\":{\"color\":\"#E5ECF6\",\"width\":0.5},\"pattern\":{\"fillmode\":\"overlay\",\"size\":10,\"solidity\":0.2}},\"type\":\"barpolar\"}],\"bar\":[{\"error_x\":{\"color\":\"#2a3f5f\"},\"error_y\":{\"color\":\"#2a3f5f\"},\"marker\":{\"line\":{\"color\":\"#E5ECF6\",\"width\":0.5},\"pattern\":{\"fillmode\":\"overlay\",\"size\":10,\"solidity\":0.2}},\"type\":\"bar\"}],\"carpet\":[{\"aaxis\":{\"endlinecolor\":\"#2a3f5f\",\"gridcolor\":\"white\",\"linecolor\":\"white\",\"minorgridcolor\":\"white\",\"startlinecolor\":\"#2a3f5f\"},\"baxis\":{\"endlinecolor\":\"#2a3f5f\",\"gridcolor\":\"white\",\"linecolor\":\"white\",\"minorgridcolor\":\"white\",\"startlinecolor\":\"#2a3f5f\"},\"type\":\"carpet\"}],\"choropleth\":[{\"colorbar\":{\"outlinewidth\":0,\"ticks\":\"\"},\"type\":\"choropleth\"}],\"contourcarpet\":[{\"colorbar\":{\"outlinewidth\":0,\"ticks\":\"\"},\"type\":\"contourcarpet\"}],\"contour\":[{\"colorbar\":{\"outlinewidth\":0,\"ticks\":\"\"},\"colorscale\":[[0.0,\"#0d0887\"],[0.1111111111111111,\"#46039f\"],[0.2222222222222222,\"#7201a8\"],[0.3333333333333333,\"#9c179e\"],[0.4444444444444444,\"#bd3786\"],[0.5555555555555556,\"#d8576b\"],[0.6666666666666666,\"#ed7953\"],[0.7777777777777778,\"#fb9f3a\"],[0.8888888888888888,\"#fdca26\"],[1.0,\"#f0f921\"]],\"type\":\"contour\"}],\"heatmapgl\":[{\"colorbar\":{\"outlinewidth\":0,\"ticks\":\"\"},\"colorscale\":[[0.0,\"#0d0887\"],[0.1111111111111111,\"#46039f\"],[0.2222222222222222,\"#7201a8\"],[0.3333333333333333,\"#9c179e\"],[0.4444444444444444,\"#bd3786\"],[0.5555555555555556,\"#d8576b\"],[0.6666666666666666,\"#ed7953\"],[0.7777777777777778,\"#fb9f3a\"],[0.8888888888888888,\"#fdca26\"],[1.0,\"#f0f921\"]],\"type\":\"heatmapgl\"}],\"heatmap\":[{\"colorbar\":{\"outlinewidth\":0,\"ticks\":\"\"},\"colorscale\":[[0.0,\"#0d0887\"],[0.1111111111111111,\"#46039f\"],[0.2222222222222222,\"#7201a8\"],[0.3333333333333333,\"#9c179e\"],[0.4444444444444444,\"#bd3786\"],[0.5555555555555556,\"#d8576b\"],[0.6666666666666666,\"#ed7953\"],[0.7777777777777778,\"#fb9f3a\"],[0.8888888888888888,\"#fdca26\"],[1.0,\"#f0f921\"]],\"type\":\"heatmap\"}],\"histogram2dcontour\":[{\"colorbar\":{\"outlinewidth\":0,\"ticks\":\"\"},\"colorscale\":[[0.0,\"#0d0887\"],[0.1111111111111111,\"#46039f\"],[0.2222222222222222,\"#7201a8\"],[0.3333333333333333,\"#9c179e\"],[0.4444444444444444,\"#bd3786\"],[0.5555555555555556,\"#d8576b\"],[0.6666666666666666,\"#ed7953\"],[0.7777777777777778,\"#fb9f3a\"],[0.8888888888888888,\"#fdca26\"],[1.0,\"#f0f921\"]],\"type\":\"histogram2dcontour\"}],\"histogram2d\":[{\"colorbar\":{\"outlinewidth\":0,\"ticks\":\"\"},\"colorscale\":[[0.0,\"#0d0887\"],[0.1111111111111111,\"#46039f\"],[0.2222222222222222,\"#7201a8\"],[0.3333333333333333,\"#9c179e\"],[0.4444444444444444,\"#bd3786\"],[0.5555555555555556,\"#d8576b\"],[0.6666666666666666,\"#ed7953\"],[0.7777777777777778,\"#fb9f3a\"],[0.8888888888888888,\"#fdca26\"],[1.0,\"#f0f921\"]],\"type\":\"histogram2d\"}],\"histogram\":[{\"marker\":{\"pattern\":{\"fillmode\":\"overlay\",\"size\":10,\"solidity\":0.2}},\"type\":\"histogram\"}],\"mesh3d\":[{\"colorbar\":{\"outlinewidth\":0,\"ticks\":\"\"},\"type\":\"mesh3d\"}],\"parcoords\":[{\"line\":{\"colorbar\":{\"outlinewidth\":0,\"ticks\":\"\"}},\"type\":\"parcoords\"}],\"pie\":[{\"automargin\":true,\"type\":\"pie\"}],\"scatter3d\":[{\"line\":{\"colorbar\":{\"outlinewidth\":0,\"ticks\":\"\"}},\"marker\":{\"colorbar\":{\"outlinewidth\":0,\"ticks\":\"\"}},\"type\":\"scatter3d\"}],\"scattercarpet\":[{\"marker\":{\"colorbar\":{\"outlinewidth\":0,\"ticks\":\"\"}},\"type\":\"scattercarpet\"}],\"scattergeo\":[{\"marker\":{\"colorbar\":{\"outlinewidth\":0,\"ticks\":\"\"}},\"type\":\"scattergeo\"}],\"scattergl\":[{\"marker\":{\"colorbar\":{\"outlinewidth\":0,\"ticks\":\"\"}},\"type\":\"scattergl\"}],\"scattermapbox\":[{\"marker\":{\"colorbar\":{\"outlinewidth\":0,\"ticks\":\"\"}},\"type\":\"scattermapbox\"}],\"scatterpolargl\":[{\"marker\":{\"colorbar\":{\"outlinewidth\":0,\"ticks\":\"\"}},\"type\":\"scatterpolargl\"}],\"scatterpolar\":[{\"marker\":{\"colorbar\":{\"outlinewidth\":0,\"ticks\":\"\"}},\"type\":\"scatterpolar\"}],\"scatter\":[{\"fillpattern\":{\"fillmode\":\"overlay\",\"size\":10,\"solidity\":0.2},\"type\":\"scatter\"}],\"scatterternary\":[{\"marker\":{\"colorbar\":{\"outlinewidth\":0,\"ticks\":\"\"}},\"type\":\"scatterternary\"}],\"surface\":[{\"colorbar\":{\"outlinewidth\":0,\"ticks\":\"\"},\"colorscale\":[[0.0,\"#0d0887\"],[0.1111111111111111,\"#46039f\"],[0.2222222222222222,\"#7201a8\"],[0.3333333333333333,\"#9c179e\"],[0.4444444444444444,\"#bd3786\"],[0.5555555555555556,\"#d8576b\"],[0.6666666666666666,\"#ed7953\"],[0.7777777777777778,\"#fb9f3a\"],[0.8888888888888888,\"#fdca26\"],[1.0,\"#f0f921\"]],\"type\":\"surface\"}],\"table\":[{\"cells\":{\"fill\":{\"color\":\"#EBF0F8\"},\"line\":{\"color\":\"white\"}},\"header\":{\"fill\":{\"color\":\"#C8D4E3\"},\"line\":{\"color\":\"white\"}},\"type\":\"table\"}]},\"layout\":{\"annotationdefaults\":{\"arrowcolor\":\"#2a3f5f\",\"arrowhead\":0,\"arrowwidth\":1},\"autotypenumbers\":\"strict\",\"coloraxis\":{\"colorbar\":{\"outlinewidth\":0,\"ticks\":\"\"}},\"colorscale\":{\"diverging\":[[0,\"#8e0152\"],[0.1,\"#c51b7d\"],[0.2,\"#de77ae\"],[0.3,\"#f1b6da\"],[0.4,\"#fde0ef\"],[0.5,\"#f7f7f7\"],[0.6,\"#e6f5d0\"],[0.7,\"#b8e186\"],[0.8,\"#7fbc41\"],[0.9,\"#4d9221\"],[1,\"#276419\"]],\"sequential\":[[0.0,\"#0d0887\"],[0.1111111111111111,\"#46039f\"],[0.2222222222222222,\"#7201a8\"],[0.3333333333333333,\"#9c179e\"],[0.4444444444444444,\"#bd3786\"],[0.5555555555555556,\"#d8576b\"],[0.6666666666666666,\"#ed7953\"],[0.7777777777777778,\"#fb9f3a\"],[0.8888888888888888,\"#fdca26\"],[1.0,\"#f0f921\"]],\"sequentialminus\":[[0.0,\"#0d0887\"],[0.1111111111111111,\"#46039f\"],[0.2222222222222222,\"#7201a8\"],[0.3333333333333333,\"#9c179e\"],[0.4444444444444444,\"#bd3786\"],[0.5555555555555556,\"#d8576b\"],[0.6666666666666666,\"#ed7953\"],[0.7777777777777778,\"#fb9f3a\"],[0.8888888888888888,\"#fdca26\"],[1.0,\"#f0f921\"]]},\"colorway\":[\"#636efa\",\"#EF553B\",\"#00cc96\",\"#ab63fa\",\"#FFA15A\",\"#19d3f3\",\"#FF6692\",\"#B6E880\",\"#FF97FF\",\"#FECB52\"],\"font\":{\"color\":\"#2a3f5f\"},\"geo\":{\"bgcolor\":\"white\",\"lakecolor\":\"white\",\"landcolor\":\"#E5ECF6\",\"showlakes\":true,\"showland\":true,\"subunitcolor\":\"white\"},\"hoverlabel\":{\"align\":\"left\"},\"hovermode\":\"closest\",\"mapbox\":{\"style\":\"light\"},\"paper_bgcolor\":\"white\",\"plot_bgcolor\":\"#E5ECF6\",\"polar\":{\"angularaxis\":{\"gridcolor\":\"white\",\"linecolor\":\"white\",\"ticks\":\"\"},\"bgcolor\":\"#E5ECF6\",\"radialaxis\":{\"gridcolor\":\"white\",\"linecolor\":\"white\",\"ticks\":\"\"}},\"scene\":{\"xaxis\":{\"backgroundcolor\":\"#E5ECF6\",\"gridcolor\":\"white\",\"gridwidth\":2,\"linecolor\":\"white\",\"showbackground\":true,\"ticks\":\"\",\"zerolinecolor\":\"white\"},\"yaxis\":{\"backgroundcolor\":\"#E5ECF6\",\"gridcolor\":\"white\",\"gridwidth\":2,\"linecolor\":\"white\",\"showbackground\":true,\"ticks\":\"\",\"zerolinecolor\":\"white\"},\"zaxis\":{\"backgroundcolor\":\"#E5ECF6\",\"gridcolor\":\"white\",\"gridwidth\":2,\"linecolor\":\"white\",\"showbackground\":true,\"ticks\":\"\",\"zerolinecolor\":\"white\"}},\"shapedefaults\":{\"line\":{\"color\":\"#2a3f5f\"}},\"ternary\":{\"aaxis\":{\"gridcolor\":\"white\",\"linecolor\":\"white\",\"ticks\":\"\"},\"baxis\":{\"gridcolor\":\"white\",\"linecolor\":\"white\",\"ticks\":\"\"},\"bgcolor\":\"#E5ECF6\",\"caxis\":{\"gridcolor\":\"white\",\"linecolor\":\"white\",\"ticks\":\"\"}},\"title\":{\"x\":0.05},\"xaxis\":{\"automargin\":true,\"gridcolor\":\"white\",\"linecolor\":\"white\",\"ticks\":\"\",\"title\":{\"standoff\":15},\"zerolinecolor\":\"white\",\"zerolinewidth\":2},\"yaxis\":{\"automargin\":true,\"gridcolor\":\"white\",\"linecolor\":\"white\",\"ticks\":\"\",\"title\":{\"standoff\":15},\"zerolinecolor\":\"white\",\"zerolinewidth\":2}}},\"title\":{\"font\":{\"color\":\"#4D5663\"}},\"xaxis\":{\"gridcolor\":\"#E1E5ED\",\"showgrid\":true,\"tickfont\":{\"color\":\"#4D5663\"},\"title\":{\"font\":{\"color\":\"#4D5663\"},\"text\":\"\"},\"zerolinecolor\":\"#E1E5ED\"},\"yaxis\":{\"gridcolor\":\"#E1E5ED\",\"showgrid\":true,\"tickfont\":{\"color\":\"#4D5663\"},\"title\":{\"font\":{\"color\":\"#4D5663\"},\"text\":\"\"},\"zerolinecolor\":\"#E1E5ED\"}},                        {\"showLink\": true, \"linkText\": \"Export to plot.ly\", \"plotlyServerURL\": \"https://plot.ly\", \"responsive\": true}                    ).then(function(){\n",
       "                            \n",
       "var gd = document.getElementById('f28101a8-e8f7-4b35-bb28-0463b8ec7c20');\n",
       "var x = new MutationObserver(function (mutations, observer) {{\n",
       "        var display = window.getComputedStyle(gd).display;\n",
       "        if (!display || display === 'none') {{\n",
       "            console.log([gd, 'removed!']);\n",
       "            Plotly.purge(gd);\n",
       "            observer.disconnect();\n",
       "        }}\n",
       "}});\n",
       "\n",
       "// Listen for the removal of the full notebook cells\n",
       "var notebookContainer = gd.closest('#notebook-container');\n",
       "if (notebookContainer) {{\n",
       "    x.observe(notebookContainer, {childList: true});\n",
       "}}\n",
       "\n",
       "// Listen for the clearing of the current output cell\n",
       "var outputEl = gd.closest('.output');\n",
       "if (outputEl) {{\n",
       "    x.observe(outputEl, {childList: true});\n",
       "}}\n",
       "\n",
       "                        })                };                });            </script>        </div>"
      ]
     },
     "metadata": {},
     "output_type": "display_data"
    }
   ],
   "source": [
    "df2.iplot(kind='bar',x='Category',y='Values')"
   ]
  },
  {
   "cell_type": "code",
   "execution_count": 12,
   "metadata": {},
   "outputs": [
    {
     "data": {
      "application/vnd.plotly.v1+json": {
       "config": {
        "linkText": "Export to plot.ly",
        "plotlyServerURL": "https://plot.ly",
        "showLink": true
       },
       "data": [
        {
         "marker": {
          "color": "rgba(255, 153, 51, 0.6)",
          "line": {
           "color": "rgba(255, 153, 51, 1.0)",
           "width": 1
          }
         },
         "name": "None",
         "orientation": "v",
         "text": "",
         "type": "bar",
         "x": [
          "A",
          "B",
          "C",
          "D"
         ],
         "y": [
          100,
          100,
          100,
          100
         ]
        }
       ],
       "layout": {
        "legend": {
         "bgcolor": "#F5F6F9",
         "font": {
          "color": "#4D5663"
         }
        },
        "paper_bgcolor": "#F5F6F9",
        "plot_bgcolor": "#F5F6F9",
        "template": {
         "data": {
          "bar": [
           {
            "error_x": {
             "color": "#2a3f5f"
            },
            "error_y": {
             "color": "#2a3f5f"
            },
            "marker": {
             "line": {
              "color": "#E5ECF6",
              "width": 0.5
             },
             "pattern": {
              "fillmode": "overlay",
              "size": 10,
              "solidity": 0.2
             }
            },
            "type": "bar"
           }
          ],
          "barpolar": [
           {
            "marker": {
             "line": {
              "color": "#E5ECF6",
              "width": 0.5
             },
             "pattern": {
              "fillmode": "overlay",
              "size": 10,
              "solidity": 0.2
             }
            },
            "type": "barpolar"
           }
          ],
          "carpet": [
           {
            "aaxis": {
             "endlinecolor": "#2a3f5f",
             "gridcolor": "white",
             "linecolor": "white",
             "minorgridcolor": "white",
             "startlinecolor": "#2a3f5f"
            },
            "baxis": {
             "endlinecolor": "#2a3f5f",
             "gridcolor": "white",
             "linecolor": "white",
             "minorgridcolor": "white",
             "startlinecolor": "#2a3f5f"
            },
            "type": "carpet"
           }
          ],
          "choropleth": [
           {
            "colorbar": {
             "outlinewidth": 0,
             "ticks": ""
            },
            "type": "choropleth"
           }
          ],
          "contour": [
           {
            "colorbar": {
             "outlinewidth": 0,
             "ticks": ""
            },
            "colorscale": [
             [
              0,
              "#0d0887"
             ],
             [
              0.1111111111111111,
              "#46039f"
             ],
             [
              0.2222222222222222,
              "#7201a8"
             ],
             [
              0.3333333333333333,
              "#9c179e"
             ],
             [
              0.4444444444444444,
              "#bd3786"
             ],
             [
              0.5555555555555556,
              "#d8576b"
             ],
             [
              0.6666666666666666,
              "#ed7953"
             ],
             [
              0.7777777777777778,
              "#fb9f3a"
             ],
             [
              0.8888888888888888,
              "#fdca26"
             ],
             [
              1,
              "#f0f921"
             ]
            ],
            "type": "contour"
           }
          ],
          "contourcarpet": [
           {
            "colorbar": {
             "outlinewidth": 0,
             "ticks": ""
            },
            "type": "contourcarpet"
           }
          ],
          "heatmap": [
           {
            "colorbar": {
             "outlinewidth": 0,
             "ticks": ""
            },
            "colorscale": [
             [
              0,
              "#0d0887"
             ],
             [
              0.1111111111111111,
              "#46039f"
             ],
             [
              0.2222222222222222,
              "#7201a8"
             ],
             [
              0.3333333333333333,
              "#9c179e"
             ],
             [
              0.4444444444444444,
              "#bd3786"
             ],
             [
              0.5555555555555556,
              "#d8576b"
             ],
             [
              0.6666666666666666,
              "#ed7953"
             ],
             [
              0.7777777777777778,
              "#fb9f3a"
             ],
             [
              0.8888888888888888,
              "#fdca26"
             ],
             [
              1,
              "#f0f921"
             ]
            ],
            "type": "heatmap"
           }
          ],
          "heatmapgl": [
           {
            "colorbar": {
             "outlinewidth": 0,
             "ticks": ""
            },
            "colorscale": [
             [
              0,
              "#0d0887"
             ],
             [
              0.1111111111111111,
              "#46039f"
             ],
             [
              0.2222222222222222,
              "#7201a8"
             ],
             [
              0.3333333333333333,
              "#9c179e"
             ],
             [
              0.4444444444444444,
              "#bd3786"
             ],
             [
              0.5555555555555556,
              "#d8576b"
             ],
             [
              0.6666666666666666,
              "#ed7953"
             ],
             [
              0.7777777777777778,
              "#fb9f3a"
             ],
             [
              0.8888888888888888,
              "#fdca26"
             ],
             [
              1,
              "#f0f921"
             ]
            ],
            "type": "heatmapgl"
           }
          ],
          "histogram": [
           {
            "marker": {
             "pattern": {
              "fillmode": "overlay",
              "size": 10,
              "solidity": 0.2
             }
            },
            "type": "histogram"
           }
          ],
          "histogram2d": [
           {
            "colorbar": {
             "outlinewidth": 0,
             "ticks": ""
            },
            "colorscale": [
             [
              0,
              "#0d0887"
             ],
             [
              0.1111111111111111,
              "#46039f"
             ],
             [
              0.2222222222222222,
              "#7201a8"
             ],
             [
              0.3333333333333333,
              "#9c179e"
             ],
             [
              0.4444444444444444,
              "#bd3786"
             ],
             [
              0.5555555555555556,
              "#d8576b"
             ],
             [
              0.6666666666666666,
              "#ed7953"
             ],
             [
              0.7777777777777778,
              "#fb9f3a"
             ],
             [
              0.8888888888888888,
              "#fdca26"
             ],
             [
              1,
              "#f0f921"
             ]
            ],
            "type": "histogram2d"
           }
          ],
          "histogram2dcontour": [
           {
            "colorbar": {
             "outlinewidth": 0,
             "ticks": ""
            },
            "colorscale": [
             [
              0,
              "#0d0887"
             ],
             [
              0.1111111111111111,
              "#46039f"
             ],
             [
              0.2222222222222222,
              "#7201a8"
             ],
             [
              0.3333333333333333,
              "#9c179e"
             ],
             [
              0.4444444444444444,
              "#bd3786"
             ],
             [
              0.5555555555555556,
              "#d8576b"
             ],
             [
              0.6666666666666666,
              "#ed7953"
             ],
             [
              0.7777777777777778,
              "#fb9f3a"
             ],
             [
              0.8888888888888888,
              "#fdca26"
             ],
             [
              1,
              "#f0f921"
             ]
            ],
            "type": "histogram2dcontour"
           }
          ],
          "mesh3d": [
           {
            "colorbar": {
             "outlinewidth": 0,
             "ticks": ""
            },
            "type": "mesh3d"
           }
          ],
          "parcoords": [
           {
            "line": {
             "colorbar": {
              "outlinewidth": 0,
              "ticks": ""
             }
            },
            "type": "parcoords"
           }
          ],
          "pie": [
           {
            "automargin": true,
            "type": "pie"
           }
          ],
          "scatter": [
           {
            "fillpattern": {
             "fillmode": "overlay",
             "size": 10,
             "solidity": 0.2
            },
            "type": "scatter"
           }
          ],
          "scatter3d": [
           {
            "line": {
             "colorbar": {
              "outlinewidth": 0,
              "ticks": ""
             }
            },
            "marker": {
             "colorbar": {
              "outlinewidth": 0,
              "ticks": ""
             }
            },
            "type": "scatter3d"
           }
          ],
          "scattercarpet": [
           {
            "marker": {
             "colorbar": {
              "outlinewidth": 0,
              "ticks": ""
             }
            },
            "type": "scattercarpet"
           }
          ],
          "scattergeo": [
           {
            "marker": {
             "colorbar": {
              "outlinewidth": 0,
              "ticks": ""
             }
            },
            "type": "scattergeo"
           }
          ],
          "scattergl": [
           {
            "marker": {
             "colorbar": {
              "outlinewidth": 0,
              "ticks": ""
             }
            },
            "type": "scattergl"
           }
          ],
          "scattermapbox": [
           {
            "marker": {
             "colorbar": {
              "outlinewidth": 0,
              "ticks": ""
             }
            },
            "type": "scattermapbox"
           }
          ],
          "scatterpolar": [
           {
            "marker": {
             "colorbar": {
              "outlinewidth": 0,
              "ticks": ""
             }
            },
            "type": "scatterpolar"
           }
          ],
          "scatterpolargl": [
           {
            "marker": {
             "colorbar": {
              "outlinewidth": 0,
              "ticks": ""
             }
            },
            "type": "scatterpolargl"
           }
          ],
          "scatterternary": [
           {
            "marker": {
             "colorbar": {
              "outlinewidth": 0,
              "ticks": ""
             }
            },
            "type": "scatterternary"
           }
          ],
          "surface": [
           {
            "colorbar": {
             "outlinewidth": 0,
             "ticks": ""
            },
            "colorscale": [
             [
              0,
              "#0d0887"
             ],
             [
              0.1111111111111111,
              "#46039f"
             ],
             [
              0.2222222222222222,
              "#7201a8"
             ],
             [
              0.3333333333333333,
              "#9c179e"
             ],
             [
              0.4444444444444444,
              "#bd3786"
             ],
             [
              0.5555555555555556,
              "#d8576b"
             ],
             [
              0.6666666666666666,
              "#ed7953"
             ],
             [
              0.7777777777777778,
              "#fb9f3a"
             ],
             [
              0.8888888888888888,
              "#fdca26"
             ],
             [
              1,
              "#f0f921"
             ]
            ],
            "type": "surface"
           }
          ],
          "table": [
           {
            "cells": {
             "fill": {
              "color": "#EBF0F8"
             },
             "line": {
              "color": "white"
             }
            },
            "header": {
             "fill": {
              "color": "#C8D4E3"
             },
             "line": {
              "color": "white"
             }
            },
            "type": "table"
           }
          ]
         },
         "layout": {
          "annotationdefaults": {
           "arrowcolor": "#2a3f5f",
           "arrowhead": 0,
           "arrowwidth": 1
          },
          "autotypenumbers": "strict",
          "coloraxis": {
           "colorbar": {
            "outlinewidth": 0,
            "ticks": ""
           }
          },
          "colorscale": {
           "diverging": [
            [
             0,
             "#8e0152"
            ],
            [
             0.1,
             "#c51b7d"
            ],
            [
             0.2,
             "#de77ae"
            ],
            [
             0.3,
             "#f1b6da"
            ],
            [
             0.4,
             "#fde0ef"
            ],
            [
             0.5,
             "#f7f7f7"
            ],
            [
             0.6,
             "#e6f5d0"
            ],
            [
             0.7,
             "#b8e186"
            ],
            [
             0.8,
             "#7fbc41"
            ],
            [
             0.9,
             "#4d9221"
            ],
            [
             1,
             "#276419"
            ]
           ],
           "sequential": [
            [
             0,
             "#0d0887"
            ],
            [
             0.1111111111111111,
             "#46039f"
            ],
            [
             0.2222222222222222,
             "#7201a8"
            ],
            [
             0.3333333333333333,
             "#9c179e"
            ],
            [
             0.4444444444444444,
             "#bd3786"
            ],
            [
             0.5555555555555556,
             "#d8576b"
            ],
            [
             0.6666666666666666,
             "#ed7953"
            ],
            [
             0.7777777777777778,
             "#fb9f3a"
            ],
            [
             0.8888888888888888,
             "#fdca26"
            ],
            [
             1,
             "#f0f921"
            ]
           ],
           "sequentialminus": [
            [
             0,
             "#0d0887"
            ],
            [
             0.1111111111111111,
             "#46039f"
            ],
            [
             0.2222222222222222,
             "#7201a8"
            ],
            [
             0.3333333333333333,
             "#9c179e"
            ],
            [
             0.4444444444444444,
             "#bd3786"
            ],
            [
             0.5555555555555556,
             "#d8576b"
            ],
            [
             0.6666666666666666,
             "#ed7953"
            ],
            [
             0.7777777777777778,
             "#fb9f3a"
            ],
            [
             0.8888888888888888,
             "#fdca26"
            ],
            [
             1,
             "#f0f921"
            ]
           ]
          },
          "colorway": [
           "#636efa",
           "#EF553B",
           "#00cc96",
           "#ab63fa",
           "#FFA15A",
           "#19d3f3",
           "#FF6692",
           "#B6E880",
           "#FF97FF",
           "#FECB52"
          ],
          "font": {
           "color": "#2a3f5f"
          },
          "geo": {
           "bgcolor": "white",
           "lakecolor": "white",
           "landcolor": "#E5ECF6",
           "showlakes": true,
           "showland": true,
           "subunitcolor": "white"
          },
          "hoverlabel": {
           "align": "left"
          },
          "hovermode": "closest",
          "mapbox": {
           "style": "light"
          },
          "paper_bgcolor": "white",
          "plot_bgcolor": "#E5ECF6",
          "polar": {
           "angularaxis": {
            "gridcolor": "white",
            "linecolor": "white",
            "ticks": ""
           },
           "bgcolor": "#E5ECF6",
           "radialaxis": {
            "gridcolor": "white",
            "linecolor": "white",
            "ticks": ""
           }
          },
          "scene": {
           "xaxis": {
            "backgroundcolor": "#E5ECF6",
            "gridcolor": "white",
            "gridwidth": 2,
            "linecolor": "white",
            "showbackground": true,
            "ticks": "",
            "zerolinecolor": "white"
           },
           "yaxis": {
            "backgroundcolor": "#E5ECF6",
            "gridcolor": "white",
            "gridwidth": 2,
            "linecolor": "white",
            "showbackground": true,
            "ticks": "",
            "zerolinecolor": "white"
           },
           "zaxis": {
            "backgroundcolor": "#E5ECF6",
            "gridcolor": "white",
            "gridwidth": 2,
            "linecolor": "white",
            "showbackground": true,
            "ticks": "",
            "zerolinecolor": "white"
           }
          },
          "shapedefaults": {
           "line": {
            "color": "#2a3f5f"
           }
          },
          "ternary": {
           "aaxis": {
            "gridcolor": "white",
            "linecolor": "white",
            "ticks": ""
           },
           "baxis": {
            "gridcolor": "white",
            "linecolor": "white",
            "ticks": ""
           },
           "bgcolor": "#E5ECF6",
           "caxis": {
            "gridcolor": "white",
            "linecolor": "white",
            "ticks": ""
           }
          },
          "title": {
           "x": 0.05
          },
          "xaxis": {
           "automargin": true,
           "gridcolor": "white",
           "linecolor": "white",
           "ticks": "",
           "title": {
            "standoff": 15
           },
           "zerolinecolor": "white",
           "zerolinewidth": 2
          },
          "yaxis": {
           "automargin": true,
           "gridcolor": "white",
           "linecolor": "white",
           "ticks": "",
           "title": {
            "standoff": 15
           },
           "zerolinecolor": "white",
           "zerolinewidth": 2
          }
         }
        },
        "title": {
         "font": {
          "color": "#4D5663"
         }
        },
        "xaxis": {
         "gridcolor": "#E1E5ED",
         "showgrid": true,
         "tickfont": {
          "color": "#4D5663"
         },
         "title": {
          "font": {
           "color": "#4D5663"
          },
          "text": ""
         },
         "zerolinecolor": "#E1E5ED"
        },
        "yaxis": {
         "gridcolor": "#E1E5ED",
         "showgrid": true,
         "tickfont": {
          "color": "#4D5663"
         },
         "title": {
          "font": {
           "color": "#4D5663"
          },
          "text": ""
         },
         "zerolinecolor": "#E1E5ED"
        }
       }
      },
      "text/html": [
       "<div>                            <div id=\"4bb3d199-393a-4a1a-ac9a-6f7fa4690017\" class=\"plotly-graph-div\" style=\"height:525px; width:100%;\"></div>            <script type=\"text/javascript\">                require([\"plotly\"], function(Plotly) {                    window.PLOTLYENV=window.PLOTLYENV || {};\n",
       "                    window.PLOTLYENV.BASE_URL='https://plot.ly';                                    if (document.getElementById(\"4bb3d199-393a-4a1a-ac9a-6f7fa4690017\")) {                    Plotly.newPlot(                        \"4bb3d199-393a-4a1a-ac9a-6f7fa4690017\",                        [{\"marker\":{\"color\":\"rgba(255, 153, 51, 0.6)\",\"line\":{\"color\":\"rgba(255, 153, 51, 1.0)\",\"width\":1}},\"name\":\"None\",\"orientation\":\"v\",\"text\":\"\",\"x\":[\"A\",\"B\",\"C\",\"D\"],\"y\":[100,100,100,100],\"type\":\"bar\"}],                        {\"legend\":{\"bgcolor\":\"#F5F6F9\",\"font\":{\"color\":\"#4D5663\"}},\"paper_bgcolor\":\"#F5F6F9\",\"plot_bgcolor\":\"#F5F6F9\",\"template\":{\"data\":{\"barpolar\":[{\"marker\":{\"line\":{\"color\":\"#E5ECF6\",\"width\":0.5},\"pattern\":{\"fillmode\":\"overlay\",\"size\":10,\"solidity\":0.2}},\"type\":\"barpolar\"}],\"bar\":[{\"error_x\":{\"color\":\"#2a3f5f\"},\"error_y\":{\"color\":\"#2a3f5f\"},\"marker\":{\"line\":{\"color\":\"#E5ECF6\",\"width\":0.5},\"pattern\":{\"fillmode\":\"overlay\",\"size\":10,\"solidity\":0.2}},\"type\":\"bar\"}],\"carpet\":[{\"aaxis\":{\"endlinecolor\":\"#2a3f5f\",\"gridcolor\":\"white\",\"linecolor\":\"white\",\"minorgridcolor\":\"white\",\"startlinecolor\":\"#2a3f5f\"},\"baxis\":{\"endlinecolor\":\"#2a3f5f\",\"gridcolor\":\"white\",\"linecolor\":\"white\",\"minorgridcolor\":\"white\",\"startlinecolor\":\"#2a3f5f\"},\"type\":\"carpet\"}],\"choropleth\":[{\"colorbar\":{\"outlinewidth\":0,\"ticks\":\"\"},\"type\":\"choropleth\"}],\"contourcarpet\":[{\"colorbar\":{\"outlinewidth\":0,\"ticks\":\"\"},\"type\":\"contourcarpet\"}],\"contour\":[{\"colorbar\":{\"outlinewidth\":0,\"ticks\":\"\"},\"colorscale\":[[0.0,\"#0d0887\"],[0.1111111111111111,\"#46039f\"],[0.2222222222222222,\"#7201a8\"],[0.3333333333333333,\"#9c179e\"],[0.4444444444444444,\"#bd3786\"],[0.5555555555555556,\"#d8576b\"],[0.6666666666666666,\"#ed7953\"],[0.7777777777777778,\"#fb9f3a\"],[0.8888888888888888,\"#fdca26\"],[1.0,\"#f0f921\"]],\"type\":\"contour\"}],\"heatmapgl\":[{\"colorbar\":{\"outlinewidth\":0,\"ticks\":\"\"},\"colorscale\":[[0.0,\"#0d0887\"],[0.1111111111111111,\"#46039f\"],[0.2222222222222222,\"#7201a8\"],[0.3333333333333333,\"#9c179e\"],[0.4444444444444444,\"#bd3786\"],[0.5555555555555556,\"#d8576b\"],[0.6666666666666666,\"#ed7953\"],[0.7777777777777778,\"#fb9f3a\"],[0.8888888888888888,\"#fdca26\"],[1.0,\"#f0f921\"]],\"type\":\"heatmapgl\"}],\"heatmap\":[{\"colorbar\":{\"outlinewidth\":0,\"ticks\":\"\"},\"colorscale\":[[0.0,\"#0d0887\"],[0.1111111111111111,\"#46039f\"],[0.2222222222222222,\"#7201a8\"],[0.3333333333333333,\"#9c179e\"],[0.4444444444444444,\"#bd3786\"],[0.5555555555555556,\"#d8576b\"],[0.6666666666666666,\"#ed7953\"],[0.7777777777777778,\"#fb9f3a\"],[0.8888888888888888,\"#fdca26\"],[1.0,\"#f0f921\"]],\"type\":\"heatmap\"}],\"histogram2dcontour\":[{\"colorbar\":{\"outlinewidth\":0,\"ticks\":\"\"},\"colorscale\":[[0.0,\"#0d0887\"],[0.1111111111111111,\"#46039f\"],[0.2222222222222222,\"#7201a8\"],[0.3333333333333333,\"#9c179e\"],[0.4444444444444444,\"#bd3786\"],[0.5555555555555556,\"#d8576b\"],[0.6666666666666666,\"#ed7953\"],[0.7777777777777778,\"#fb9f3a\"],[0.8888888888888888,\"#fdca26\"],[1.0,\"#f0f921\"]],\"type\":\"histogram2dcontour\"}],\"histogram2d\":[{\"colorbar\":{\"outlinewidth\":0,\"ticks\":\"\"},\"colorscale\":[[0.0,\"#0d0887\"],[0.1111111111111111,\"#46039f\"],[0.2222222222222222,\"#7201a8\"],[0.3333333333333333,\"#9c179e\"],[0.4444444444444444,\"#bd3786\"],[0.5555555555555556,\"#d8576b\"],[0.6666666666666666,\"#ed7953\"],[0.7777777777777778,\"#fb9f3a\"],[0.8888888888888888,\"#fdca26\"],[1.0,\"#f0f921\"]],\"type\":\"histogram2d\"}],\"histogram\":[{\"marker\":{\"pattern\":{\"fillmode\":\"overlay\",\"size\":10,\"solidity\":0.2}},\"type\":\"histogram\"}],\"mesh3d\":[{\"colorbar\":{\"outlinewidth\":0,\"ticks\":\"\"},\"type\":\"mesh3d\"}],\"parcoords\":[{\"line\":{\"colorbar\":{\"outlinewidth\":0,\"ticks\":\"\"}},\"type\":\"parcoords\"}],\"pie\":[{\"automargin\":true,\"type\":\"pie\"}],\"scatter3d\":[{\"line\":{\"colorbar\":{\"outlinewidth\":0,\"ticks\":\"\"}},\"marker\":{\"colorbar\":{\"outlinewidth\":0,\"ticks\":\"\"}},\"type\":\"scatter3d\"}],\"scattercarpet\":[{\"marker\":{\"colorbar\":{\"outlinewidth\":0,\"ticks\":\"\"}},\"type\":\"scattercarpet\"}],\"scattergeo\":[{\"marker\":{\"colorbar\":{\"outlinewidth\":0,\"ticks\":\"\"}},\"type\":\"scattergeo\"}],\"scattergl\":[{\"marker\":{\"colorbar\":{\"outlinewidth\":0,\"ticks\":\"\"}},\"type\":\"scattergl\"}],\"scattermapbox\":[{\"marker\":{\"colorbar\":{\"outlinewidth\":0,\"ticks\":\"\"}},\"type\":\"scattermapbox\"}],\"scatterpolargl\":[{\"marker\":{\"colorbar\":{\"outlinewidth\":0,\"ticks\":\"\"}},\"type\":\"scatterpolargl\"}],\"scatterpolar\":[{\"marker\":{\"colorbar\":{\"outlinewidth\":0,\"ticks\":\"\"}},\"type\":\"scatterpolar\"}],\"scatter\":[{\"fillpattern\":{\"fillmode\":\"overlay\",\"size\":10,\"solidity\":0.2},\"type\":\"scatter\"}],\"scatterternary\":[{\"marker\":{\"colorbar\":{\"outlinewidth\":0,\"ticks\":\"\"}},\"type\":\"scatterternary\"}],\"surface\":[{\"colorbar\":{\"outlinewidth\":0,\"ticks\":\"\"},\"colorscale\":[[0.0,\"#0d0887\"],[0.1111111111111111,\"#46039f\"],[0.2222222222222222,\"#7201a8\"],[0.3333333333333333,\"#9c179e\"],[0.4444444444444444,\"#bd3786\"],[0.5555555555555556,\"#d8576b\"],[0.6666666666666666,\"#ed7953\"],[0.7777777777777778,\"#fb9f3a\"],[0.8888888888888888,\"#fdca26\"],[1.0,\"#f0f921\"]],\"type\":\"surface\"}],\"table\":[{\"cells\":{\"fill\":{\"color\":\"#EBF0F8\"},\"line\":{\"color\":\"white\"}},\"header\":{\"fill\":{\"color\":\"#C8D4E3\"},\"line\":{\"color\":\"white\"}},\"type\":\"table\"}]},\"layout\":{\"annotationdefaults\":{\"arrowcolor\":\"#2a3f5f\",\"arrowhead\":0,\"arrowwidth\":1},\"autotypenumbers\":\"strict\",\"coloraxis\":{\"colorbar\":{\"outlinewidth\":0,\"ticks\":\"\"}},\"colorscale\":{\"diverging\":[[0,\"#8e0152\"],[0.1,\"#c51b7d\"],[0.2,\"#de77ae\"],[0.3,\"#f1b6da\"],[0.4,\"#fde0ef\"],[0.5,\"#f7f7f7\"],[0.6,\"#e6f5d0\"],[0.7,\"#b8e186\"],[0.8,\"#7fbc41\"],[0.9,\"#4d9221\"],[1,\"#276419\"]],\"sequential\":[[0.0,\"#0d0887\"],[0.1111111111111111,\"#46039f\"],[0.2222222222222222,\"#7201a8\"],[0.3333333333333333,\"#9c179e\"],[0.4444444444444444,\"#bd3786\"],[0.5555555555555556,\"#d8576b\"],[0.6666666666666666,\"#ed7953\"],[0.7777777777777778,\"#fb9f3a\"],[0.8888888888888888,\"#fdca26\"],[1.0,\"#f0f921\"]],\"sequentialminus\":[[0.0,\"#0d0887\"],[0.1111111111111111,\"#46039f\"],[0.2222222222222222,\"#7201a8\"],[0.3333333333333333,\"#9c179e\"],[0.4444444444444444,\"#bd3786\"],[0.5555555555555556,\"#d8576b\"],[0.6666666666666666,\"#ed7953\"],[0.7777777777777778,\"#fb9f3a\"],[0.8888888888888888,\"#fdca26\"],[1.0,\"#f0f921\"]]},\"colorway\":[\"#636efa\",\"#EF553B\",\"#00cc96\",\"#ab63fa\",\"#FFA15A\",\"#19d3f3\",\"#FF6692\",\"#B6E880\",\"#FF97FF\",\"#FECB52\"],\"font\":{\"color\":\"#2a3f5f\"},\"geo\":{\"bgcolor\":\"white\",\"lakecolor\":\"white\",\"landcolor\":\"#E5ECF6\",\"showlakes\":true,\"showland\":true,\"subunitcolor\":\"white\"},\"hoverlabel\":{\"align\":\"left\"},\"hovermode\":\"closest\",\"mapbox\":{\"style\":\"light\"},\"paper_bgcolor\":\"white\",\"plot_bgcolor\":\"#E5ECF6\",\"polar\":{\"angularaxis\":{\"gridcolor\":\"white\",\"linecolor\":\"white\",\"ticks\":\"\"},\"bgcolor\":\"#E5ECF6\",\"radialaxis\":{\"gridcolor\":\"white\",\"linecolor\":\"white\",\"ticks\":\"\"}},\"scene\":{\"xaxis\":{\"backgroundcolor\":\"#E5ECF6\",\"gridcolor\":\"white\",\"gridwidth\":2,\"linecolor\":\"white\",\"showbackground\":true,\"ticks\":\"\",\"zerolinecolor\":\"white\"},\"yaxis\":{\"backgroundcolor\":\"#E5ECF6\",\"gridcolor\":\"white\",\"gridwidth\":2,\"linecolor\":\"white\",\"showbackground\":true,\"ticks\":\"\",\"zerolinecolor\":\"white\"},\"zaxis\":{\"backgroundcolor\":\"#E5ECF6\",\"gridcolor\":\"white\",\"gridwidth\":2,\"linecolor\":\"white\",\"showbackground\":true,\"ticks\":\"\",\"zerolinecolor\":\"white\"}},\"shapedefaults\":{\"line\":{\"color\":\"#2a3f5f\"}},\"ternary\":{\"aaxis\":{\"gridcolor\":\"white\",\"linecolor\":\"white\",\"ticks\":\"\"},\"baxis\":{\"gridcolor\":\"white\",\"linecolor\":\"white\",\"ticks\":\"\"},\"bgcolor\":\"#E5ECF6\",\"caxis\":{\"gridcolor\":\"white\",\"linecolor\":\"white\",\"ticks\":\"\"}},\"title\":{\"x\":0.05},\"xaxis\":{\"automargin\":true,\"gridcolor\":\"white\",\"linecolor\":\"white\",\"ticks\":\"\",\"title\":{\"standoff\":15},\"zerolinecolor\":\"white\",\"zerolinewidth\":2},\"yaxis\":{\"automargin\":true,\"gridcolor\":\"white\",\"linecolor\":\"white\",\"ticks\":\"\",\"title\":{\"standoff\":15},\"zerolinecolor\":\"white\",\"zerolinewidth\":2}}},\"title\":{\"font\":{\"color\":\"#4D5663\"}},\"xaxis\":{\"gridcolor\":\"#E1E5ED\",\"showgrid\":true,\"tickfont\":{\"color\":\"#4D5663\"},\"title\":{\"font\":{\"color\":\"#4D5663\"},\"text\":\"\"},\"zerolinecolor\":\"#E1E5ED\"},\"yaxis\":{\"gridcolor\":\"#E1E5ED\",\"showgrid\":true,\"tickfont\":{\"color\":\"#4D5663\"},\"title\":{\"font\":{\"color\":\"#4D5663\"},\"text\":\"\"},\"zerolinecolor\":\"#E1E5ED\"}},                        {\"showLink\": true, \"linkText\": \"Export to plot.ly\", \"plotlyServerURL\": \"https://plot.ly\", \"responsive\": true}                    ).then(function(){\n",
       "                            \n",
       "var gd = document.getElementById('4bb3d199-393a-4a1a-ac9a-6f7fa4690017');\n",
       "var x = new MutationObserver(function (mutations, observer) {{\n",
       "        var display = window.getComputedStyle(gd).display;\n",
       "        if (!display || display === 'none') {{\n",
       "            console.log([gd, 'removed!']);\n",
       "            Plotly.purge(gd);\n",
       "            observer.disconnect();\n",
       "        }}\n",
       "}});\n",
       "\n",
       "// Listen for the removal of the full notebook cells\n",
       "var notebookContainer = gd.closest('#notebook-container');\n",
       "if (notebookContainer) {{\n",
       "    x.observe(notebookContainer, {childList: true});\n",
       "}}\n",
       "\n",
       "// Listen for the clearing of the current output cell\n",
       "var outputEl = gd.closest('.output');\n",
       "if (outputEl) {{\n",
       "    x.observe(outputEl, {childList: true});\n",
       "}}\n",
       "\n",
       "                        })                };                });            </script>        </div>"
      ]
     },
     "metadata": {},
     "output_type": "display_data"
    }
   ],
   "source": [
    "df.count().iplot(kind='bar')"
   ]
  },
  {
   "cell_type": "markdown",
   "metadata": {},
   "source": [
    "## Boxplots"
   ]
  },
  {
   "cell_type": "code",
   "execution_count": 13,
   "metadata": {},
   "outputs": [
    {
     "data": {
      "application/vnd.plotly.v1+json": {
       "config": {
        "linkText": "Export to plot.ly",
        "plotlyServerURL": "https://plot.ly",
        "showLink": true
       },
       "data": [
        {
         "boxpoints": false,
         "line": {
          "width": 1.3
         },
         "marker": {
          "color": "rgba(255, 153, 51, 1.0)"
         },
         "name": "A",
         "orientation": "v",
         "type": "box",
         "y": [
          -0.5019262604718252,
          1.3406574372295323,
          -0.14453389308463846,
          0.040956373720975554,
          0.7274751665220139,
          0.02772203928139414,
          -0.2627967982077833,
          -0.6445792859574564,
          -0.12440658548148807,
          -1.4195717936405616,
          -0.5881620964690552,
          0.1968941489793469,
          0.24836115152992447,
          1.1906853329299731,
          -0.20731260889632006,
          0.04751918853287542,
          1.714309247596637,
          -0.2014585421239541,
          -0.706546818966052,
          -1.2789820090973136,
          -0.29087411730222307,
          0.30696147278145924,
          0.6542094312601774,
          0.6346490022624198,
          -1.453964470447946,
          -0.2562556030355115,
          -0.13399741602615234,
          1.043664761096363,
          1.5362170449236299,
          -1.139822665761981,
          -1.3081191119064488,
          0.3022549378458871,
          1.3730961762014156,
          0.5088024651071592,
          -0.8464243671405703,
          -1.2011957891288758,
          1.160341198796026,
          0.027689159510517817,
          1.3797848021879668,
          -0.11870973173703767,
          0.7548654583979592,
          0.6673776766556359,
          -0.1416767698425056,
          -1.3702526577901337,
          -0.22733380869451456,
          -0.3860545857839438,
          -0.4746494033140237,
          -1.4423873780835887,
          -0.5232558519147569,
          0.9923567002966976,
          -1.3367993456448217,
          0.35964321503622887,
          -0.8508495574838864,
          0.883592769966994,
          -0.6246517499576894,
          0.27989103186935305,
          0.6131371580496763,
          0.3216230855728305,
          0.28464155507737726,
          1.44503447655136,
          -0.27721413247491106,
          -1.4087811922820848,
          -0.33100038597981374,
          -0.7676458148982221,
          -0.9068197369866156,
          -0.4064278014938917,
          0.4841752803205062,
          -1.7939182078675981,
          0.645534754730688,
          -0.8546984857726455,
          -2.5751222033503276,
          -1.5496209941435157,
          -1.845264470705639,
          -1.7955574080362404,
          -1.0990447387369575,
          -0.02806115476210823,
          -0.09459203941178367,
          -0.8775873145390063,
          -4.121990228815462,
          -1.4352429415503278,
          -0.9688499652094146,
          -1.5041241800369083,
          -1.7357005143943813,
          -0.4502043873141606,
          -0.8411556452989516,
          -0.017478105167135518,
          -0.4047434754669365,
          -0.46049951646255516,
          -1.7239509268452278,
          -2.077507197691761,
          0.18656533416519658,
          0.05483152572246387,
          -1.1988250504309492,
          -0.6769503724014974,
          -0.07033222410676333,
          1.8214626735961084,
          0.48073894868276373,
          -1.028001117338976,
          -0.03736194677178664,
          -0.1613022757355416
         ]
        },
        {
         "boxpoints": false,
         "line": {
          "width": 1.3
         },
         "marker": {
          "color": "rgba(55, 128, 191, 1.0)"
         },
         "name": "B",
         "orientation": "v",
         "type": "box",
         "y": [
          -0.8537742762332164,
          1.0157322930976045,
          1.2316869207547705,
          0.1314299722305412,
          -0.633724221261174,
          -1.021091071695296,
          0.05493633765137216,
          0.5561493102654288,
          -0.606363232964669,
          0.5413884046594294,
          1.5191493772222278,
          -0.9771583011795383,
          -2.564988254175942,
          -1.511871766233654,
          0.1698098432471122,
          -0.0006299061581094447,
          0.019540019752891886,
          -0.20333090941576668,
          -1.0515069577217253,
          0.8535637865467421,
          0.7479173990250584,
          1.5740810908189957,
          -0.2134294929037309,
          -0.8287624452994441,
          1.8084096050913296,
          -0.4985374462398888,
          -0.07050276829129744,
          0.2454396915192863,
          1.5865458034730295,
          0.22855415423131717,
          1.2318015789536472,
          -0.2683148170438074,
          0.2721415238481511,
          1.4289215468174405,
          0.3407877359485261,
          2.1163336799878025,
          -1.2175531392623062,
          1.0493278651389129,
          0.019850364513919506,
          1.7905761038088464,
          0.2718209125384333,
          0.9423641957958778,
          1.639765844844743,
          1.3938704008306384,
          -0.3588645773400398,
          -0.9247625382971925,
          1.6635092098571502,
          -0.8502091892531796,
          1.129888165743087,
          -0.9209889483736413,
          -0.6675980382475256,
          -0.8294327676779536,
          1.9101387765933906,
          0.6278871873084058,
          0.29342412609384266,
          0.2719883298680775,
          -1.2383177845611195,
          0.23924194267683924,
          -0.7947533691988276,
          0.369281989374878,
          -0.5362511746826577,
          -1.8551607079119403,
          1.4351948232022345,
          0.24854237986146002,
          -2.5847223229622402,
          -1.4763150326920196,
          0.16805478888458833,
          0.48872897444176455,
          0.18610409006261094,
          -0.18722588584988972,
          -0.6361226923627324,
          -0.8021976334316585,
          1.0793256151600996,
          0.8927522531499735,
          -1.0400918766611247,
          1.3309567449801414,
          -0.23918015765720343,
          0.21827777245077276,
          0.6643448470304437,
          -0.9887852571546005,
          -1.9802413017970966,
          1.310100856690185,
          -0.02734743222390547,
          -1.643015114730303,
          -0.09084317256020294,
          1.8388734031514915,
          1.563071326231132,
          -0.8096762102199779,
          0.4597566070432031,
          -0.6950082009640749,
          2.251854180395313,
          -0.2175714152370271,
          0.5372187334131854,
          -1.0190670145375262,
          -1.3175105585197597,
          -2.1250187398628486,
          0.8472747609702648,
          -2.3971849488244765,
          -1.3737368824255878,
          -0.6940420292071485
         ]
        },
        {
         "boxpoints": false,
         "line": {
          "width": 1.3
         },
         "marker": {
          "color": "rgba(50, 171, 96, 1.0)"
         },
         "name": "C",
         "orientation": "v",
         "type": "box",
         "y": [
          0.4618236809570364,
          -1.8760345217107905,
          -0.024461448454044847,
          1.2574003360533095,
          -1.6603300720586975,
          0.9431808539198537,
          -0.3275006769611364,
          -0.6002280473322315,
          -0.9847738299959304,
          -0.16330418856163223,
          1.597188095112297,
          0.5688457854085364,
          0.12900455589561993,
          1.1456471972055877,
          -0.9784438357796877,
          0.5584583481411688,
          1.376835269025118,
          0.7078730006884457,
          -1.8150727227537027,
          1.1263419432513881,
          -0.9353705491923401,
          -1.1015856046350405,
          -1.3325938204413277,
          0.8827096559088252,
          1.4918321860205819,
          0.9863566468584642,
          -0.8385672256548253,
          0.5245850292006667,
          0.12065489545438189,
          0.05502199013118476,
          -0.30656589888113434,
          -0.6997121929122817,
          1.1662992585723713,
          0.5580159509947691,
          -0.12023744165306582,
          0.5056202557102356,
          0.4598136480108525,
          -1.0747407823181587,
          0.013256239586534642,
          -0.517675075967214,
          -0.7796594059393782,
          0.23578250445412977,
          0.20432802495424515,
          0.14101680554886295,
          0.9575334689804115,
          -0.6925673483003029,
          -0.8705935727439931,
          -0.8416031921405447,
          0.6873021607060796,
          -0.004944876023452826,
          0.49041295085782466,
          -1.2317940178702407,
          -0.0813901088437757,
          1.6709144639252376,
          0.57813585960082,
          -0.45189766232725553,
          1.0976466197209371,
          -1.7824104217096723,
          0.6387234746998384,
          0.17607591088185068,
          0.016398121006212477,
          0.7459912835659003,
          -1.1112853989633977,
          -0.5154088639815375,
          0.3881825476474756,
          -0.7314273379173726,
          -0.1726749846298453,
          -1.0660296087533017,
          0.24610014216510956,
          0.006256715434016159,
          -0.564137786805348,
          0.2591038145327592,
          -0.6953083094333815,
          -1.1055580185618308,
          -0.6245396668612723,
          -0.3190673665376973,
          1.5037907002025412,
          0.21950510334576176,
          1.374163814295838,
          -1.3720069796187595,
          -1.3247608510089435,
          0.7128936125271272,
          -1.2361182992940314,
          -0.2011131723521433,
          1.8290086001370824,
          -1.5378306359711813,
          1.277939232414064,
          0.7704713652904402,
          -0.04432391772501383,
          0.931430450499188,
          -1.4162795877054093,
          -1.1889993296726404,
          -0.039619142630552696,
          0.229314181496651,
          1.747491552717108,
          0.47651489046478396,
          0.29695716947331746,
          -0.8784372770247785,
          -1.344414299986784,
          1.7021406854463954
         ]
        },
        {
         "boxpoints": false,
         "line": {
          "width": 1.3
         },
         "marker": {
          "color": "rgba(128, 0, 128, 1.0)"
         },
         "name": "D",
         "orientation": "v",
         "type": "box",
         "y": [
          -0.47956938719333003,
          -1.1316430122868586,
          -1.4394984520413132,
          -1.6980544471081662,
          1.6517541276586782,
          -0.6016421348936393,
          0.4814954559638268,
          0.8358947636749885,
          -0.35229327071067085,
          0.8879888146598545,
          0.5079191018683458,
          1.7687252545276593,
          1.7792502777440802,
          1.766633605878207,
          1.1560748032756702,
          0.04530431877778243,
          0.8289360925137279,
          -0.08181062310565014,
          -1.3464133178804472,
          0.1939550092453204,
          -0.03080872689105242,
          -1.2996459250407195,
          0.8394667703660101,
          1.6198893101970748,
          0.44852945053110505,
          0.6508435189005042,
          -0.01566524908776226,
          1.205701927134643,
          0.6429050766084116,
          1.6590156399517664,
          -1.8413726285307792,
          -1.2512958605279527,
          -0.38839979338747677,
          -0.8382712619390268,
          -0.7640465135293413,
          -1.9574677656110746,
          -0.1819576822778034,
          0.34756350172202394,
          -2.0236901401471528,
          -0.934013514983784,
          -1.0547553069277258,
          -1.2223477384073151,
          -1.2610612837993038,
          0.5124029846195318,
          -0.12836116938872946,
          0.09570755732141845,
          1.0584142997790176,
          -0.7534000492954668,
          -0.39168333648515546,
          0.9427562596411888,
          -1.2649488886451548,
          -0.27912128350651055,
          -0.7082710101575158,
          0.31282738621271344,
          -0.6023436379277887,
          2.1596744461659076,
          -0.9223512546575351,
          0.6357441528389547,
          -0.9103977829395166,
          -0.24197499297387493,
          -1.0490933014045551,
          -0.5637401120482566,
          -0.49036669396333205,
          -1.1322384577611027,
          -1.3982878650691326,
          -0.7559097570278627,
          -1.4394068225015968,
          -1.2926381659267812,
          1.6756183646986447,
          1.2468189425235499,
          -1.0045614815874546,
          -0.7817140605037985,
          -1.1310812204419576,
          0.2789631959398414,
          -1.0261283228217053,
          -0.3229792328969324,
          -0.20483934769039758,
          0.6686474508811284,
          0.17496267455034867,
          -2.4227361960895872,
          -0.0689189156724492,
          -0.17035482159845666,
          1.1558215291727423,
          0.1799892673474436,
          1.3162907788144025,
          1.5919033022567164,
          -1.5056105354003668,
          0.31865214704909434,
          -1.6231483618340186,
          0.19108793947928213,
          -0.8307866105310673,
          -0.006053650666354444,
          -0.5034800152612379,
          0.8261439404115187,
          -0.25309060647659787,
          0.6389383222916003,
          0.5461201973821405,
          2.031866229706439,
          1.4946689301105966,
          -1.157159990051492
         ]
        }
       ],
       "layout": {
        "legend": {
         "bgcolor": "#F5F6F9",
         "font": {
          "color": "#4D5663"
         }
        },
        "paper_bgcolor": "#F5F6F9",
        "plot_bgcolor": "#F5F6F9",
        "template": {
         "data": {
          "bar": [
           {
            "error_x": {
             "color": "#2a3f5f"
            },
            "error_y": {
             "color": "#2a3f5f"
            },
            "marker": {
             "line": {
              "color": "#E5ECF6",
              "width": 0.5
             },
             "pattern": {
              "fillmode": "overlay",
              "size": 10,
              "solidity": 0.2
             }
            },
            "type": "bar"
           }
          ],
          "barpolar": [
           {
            "marker": {
             "line": {
              "color": "#E5ECF6",
              "width": 0.5
             },
             "pattern": {
              "fillmode": "overlay",
              "size": 10,
              "solidity": 0.2
             }
            },
            "type": "barpolar"
           }
          ],
          "carpet": [
           {
            "aaxis": {
             "endlinecolor": "#2a3f5f",
             "gridcolor": "white",
             "linecolor": "white",
             "minorgridcolor": "white",
             "startlinecolor": "#2a3f5f"
            },
            "baxis": {
             "endlinecolor": "#2a3f5f",
             "gridcolor": "white",
             "linecolor": "white",
             "minorgridcolor": "white",
             "startlinecolor": "#2a3f5f"
            },
            "type": "carpet"
           }
          ],
          "choropleth": [
           {
            "colorbar": {
             "outlinewidth": 0,
             "ticks": ""
            },
            "type": "choropleth"
           }
          ],
          "contour": [
           {
            "colorbar": {
             "outlinewidth": 0,
             "ticks": ""
            },
            "colorscale": [
             [
              0,
              "#0d0887"
             ],
             [
              0.1111111111111111,
              "#46039f"
             ],
             [
              0.2222222222222222,
              "#7201a8"
             ],
             [
              0.3333333333333333,
              "#9c179e"
             ],
             [
              0.4444444444444444,
              "#bd3786"
             ],
             [
              0.5555555555555556,
              "#d8576b"
             ],
             [
              0.6666666666666666,
              "#ed7953"
             ],
             [
              0.7777777777777778,
              "#fb9f3a"
             ],
             [
              0.8888888888888888,
              "#fdca26"
             ],
             [
              1,
              "#f0f921"
             ]
            ],
            "type": "contour"
           }
          ],
          "contourcarpet": [
           {
            "colorbar": {
             "outlinewidth": 0,
             "ticks": ""
            },
            "type": "contourcarpet"
           }
          ],
          "heatmap": [
           {
            "colorbar": {
             "outlinewidth": 0,
             "ticks": ""
            },
            "colorscale": [
             [
              0,
              "#0d0887"
             ],
             [
              0.1111111111111111,
              "#46039f"
             ],
             [
              0.2222222222222222,
              "#7201a8"
             ],
             [
              0.3333333333333333,
              "#9c179e"
             ],
             [
              0.4444444444444444,
              "#bd3786"
             ],
             [
              0.5555555555555556,
              "#d8576b"
             ],
             [
              0.6666666666666666,
              "#ed7953"
             ],
             [
              0.7777777777777778,
              "#fb9f3a"
             ],
             [
              0.8888888888888888,
              "#fdca26"
             ],
             [
              1,
              "#f0f921"
             ]
            ],
            "type": "heatmap"
           }
          ],
          "heatmapgl": [
           {
            "colorbar": {
             "outlinewidth": 0,
             "ticks": ""
            },
            "colorscale": [
             [
              0,
              "#0d0887"
             ],
             [
              0.1111111111111111,
              "#46039f"
             ],
             [
              0.2222222222222222,
              "#7201a8"
             ],
             [
              0.3333333333333333,
              "#9c179e"
             ],
             [
              0.4444444444444444,
              "#bd3786"
             ],
             [
              0.5555555555555556,
              "#d8576b"
             ],
             [
              0.6666666666666666,
              "#ed7953"
             ],
             [
              0.7777777777777778,
              "#fb9f3a"
             ],
             [
              0.8888888888888888,
              "#fdca26"
             ],
             [
              1,
              "#f0f921"
             ]
            ],
            "type": "heatmapgl"
           }
          ],
          "histogram": [
           {
            "marker": {
             "pattern": {
              "fillmode": "overlay",
              "size": 10,
              "solidity": 0.2
             }
            },
            "type": "histogram"
           }
          ],
          "histogram2d": [
           {
            "colorbar": {
             "outlinewidth": 0,
             "ticks": ""
            },
            "colorscale": [
             [
              0,
              "#0d0887"
             ],
             [
              0.1111111111111111,
              "#46039f"
             ],
             [
              0.2222222222222222,
              "#7201a8"
             ],
             [
              0.3333333333333333,
              "#9c179e"
             ],
             [
              0.4444444444444444,
              "#bd3786"
             ],
             [
              0.5555555555555556,
              "#d8576b"
             ],
             [
              0.6666666666666666,
              "#ed7953"
             ],
             [
              0.7777777777777778,
              "#fb9f3a"
             ],
             [
              0.8888888888888888,
              "#fdca26"
             ],
             [
              1,
              "#f0f921"
             ]
            ],
            "type": "histogram2d"
           }
          ],
          "histogram2dcontour": [
           {
            "colorbar": {
             "outlinewidth": 0,
             "ticks": ""
            },
            "colorscale": [
             [
              0,
              "#0d0887"
             ],
             [
              0.1111111111111111,
              "#46039f"
             ],
             [
              0.2222222222222222,
              "#7201a8"
             ],
             [
              0.3333333333333333,
              "#9c179e"
             ],
             [
              0.4444444444444444,
              "#bd3786"
             ],
             [
              0.5555555555555556,
              "#d8576b"
             ],
             [
              0.6666666666666666,
              "#ed7953"
             ],
             [
              0.7777777777777778,
              "#fb9f3a"
             ],
             [
              0.8888888888888888,
              "#fdca26"
             ],
             [
              1,
              "#f0f921"
             ]
            ],
            "type": "histogram2dcontour"
           }
          ],
          "mesh3d": [
           {
            "colorbar": {
             "outlinewidth": 0,
             "ticks": ""
            },
            "type": "mesh3d"
           }
          ],
          "parcoords": [
           {
            "line": {
             "colorbar": {
              "outlinewidth": 0,
              "ticks": ""
             }
            },
            "type": "parcoords"
           }
          ],
          "pie": [
           {
            "automargin": true,
            "type": "pie"
           }
          ],
          "scatter": [
           {
            "fillpattern": {
             "fillmode": "overlay",
             "size": 10,
             "solidity": 0.2
            },
            "type": "scatter"
           }
          ],
          "scatter3d": [
           {
            "line": {
             "colorbar": {
              "outlinewidth": 0,
              "ticks": ""
             }
            },
            "marker": {
             "colorbar": {
              "outlinewidth": 0,
              "ticks": ""
             }
            },
            "type": "scatter3d"
           }
          ],
          "scattercarpet": [
           {
            "marker": {
             "colorbar": {
              "outlinewidth": 0,
              "ticks": ""
             }
            },
            "type": "scattercarpet"
           }
          ],
          "scattergeo": [
           {
            "marker": {
             "colorbar": {
              "outlinewidth": 0,
              "ticks": ""
             }
            },
            "type": "scattergeo"
           }
          ],
          "scattergl": [
           {
            "marker": {
             "colorbar": {
              "outlinewidth": 0,
              "ticks": ""
             }
            },
            "type": "scattergl"
           }
          ],
          "scattermapbox": [
           {
            "marker": {
             "colorbar": {
              "outlinewidth": 0,
              "ticks": ""
             }
            },
            "type": "scattermapbox"
           }
          ],
          "scatterpolar": [
           {
            "marker": {
             "colorbar": {
              "outlinewidth": 0,
              "ticks": ""
             }
            },
            "type": "scatterpolar"
           }
          ],
          "scatterpolargl": [
           {
            "marker": {
             "colorbar": {
              "outlinewidth": 0,
              "ticks": ""
             }
            },
            "type": "scatterpolargl"
           }
          ],
          "scatterternary": [
           {
            "marker": {
             "colorbar": {
              "outlinewidth": 0,
              "ticks": ""
             }
            },
            "type": "scatterternary"
           }
          ],
          "surface": [
           {
            "colorbar": {
             "outlinewidth": 0,
             "ticks": ""
            },
            "colorscale": [
             [
              0,
              "#0d0887"
             ],
             [
              0.1111111111111111,
              "#46039f"
             ],
             [
              0.2222222222222222,
              "#7201a8"
             ],
             [
              0.3333333333333333,
              "#9c179e"
             ],
             [
              0.4444444444444444,
              "#bd3786"
             ],
             [
              0.5555555555555556,
              "#d8576b"
             ],
             [
              0.6666666666666666,
              "#ed7953"
             ],
             [
              0.7777777777777778,
              "#fb9f3a"
             ],
             [
              0.8888888888888888,
              "#fdca26"
             ],
             [
              1,
              "#f0f921"
             ]
            ],
            "type": "surface"
           }
          ],
          "table": [
           {
            "cells": {
             "fill": {
              "color": "#EBF0F8"
             },
             "line": {
              "color": "white"
             }
            },
            "header": {
             "fill": {
              "color": "#C8D4E3"
             },
             "line": {
              "color": "white"
             }
            },
            "type": "table"
           }
          ]
         },
         "layout": {
          "annotationdefaults": {
           "arrowcolor": "#2a3f5f",
           "arrowhead": 0,
           "arrowwidth": 1
          },
          "autotypenumbers": "strict",
          "coloraxis": {
           "colorbar": {
            "outlinewidth": 0,
            "ticks": ""
           }
          },
          "colorscale": {
           "diverging": [
            [
             0,
             "#8e0152"
            ],
            [
             0.1,
             "#c51b7d"
            ],
            [
             0.2,
             "#de77ae"
            ],
            [
             0.3,
             "#f1b6da"
            ],
            [
             0.4,
             "#fde0ef"
            ],
            [
             0.5,
             "#f7f7f7"
            ],
            [
             0.6,
             "#e6f5d0"
            ],
            [
             0.7,
             "#b8e186"
            ],
            [
             0.8,
             "#7fbc41"
            ],
            [
             0.9,
             "#4d9221"
            ],
            [
             1,
             "#276419"
            ]
           ],
           "sequential": [
            [
             0,
             "#0d0887"
            ],
            [
             0.1111111111111111,
             "#46039f"
            ],
            [
             0.2222222222222222,
             "#7201a8"
            ],
            [
             0.3333333333333333,
             "#9c179e"
            ],
            [
             0.4444444444444444,
             "#bd3786"
            ],
            [
             0.5555555555555556,
             "#d8576b"
            ],
            [
             0.6666666666666666,
             "#ed7953"
            ],
            [
             0.7777777777777778,
             "#fb9f3a"
            ],
            [
             0.8888888888888888,
             "#fdca26"
            ],
            [
             1,
             "#f0f921"
            ]
           ],
           "sequentialminus": [
            [
             0,
             "#0d0887"
            ],
            [
             0.1111111111111111,
             "#46039f"
            ],
            [
             0.2222222222222222,
             "#7201a8"
            ],
            [
             0.3333333333333333,
             "#9c179e"
            ],
            [
             0.4444444444444444,
             "#bd3786"
            ],
            [
             0.5555555555555556,
             "#d8576b"
            ],
            [
             0.6666666666666666,
             "#ed7953"
            ],
            [
             0.7777777777777778,
             "#fb9f3a"
            ],
            [
             0.8888888888888888,
             "#fdca26"
            ],
            [
             1,
             "#f0f921"
            ]
           ]
          },
          "colorway": [
           "#636efa",
           "#EF553B",
           "#00cc96",
           "#ab63fa",
           "#FFA15A",
           "#19d3f3",
           "#FF6692",
           "#B6E880",
           "#FF97FF",
           "#FECB52"
          ],
          "font": {
           "color": "#2a3f5f"
          },
          "geo": {
           "bgcolor": "white",
           "lakecolor": "white",
           "landcolor": "#E5ECF6",
           "showlakes": true,
           "showland": true,
           "subunitcolor": "white"
          },
          "hoverlabel": {
           "align": "left"
          },
          "hovermode": "closest",
          "mapbox": {
           "style": "light"
          },
          "paper_bgcolor": "white",
          "plot_bgcolor": "#E5ECF6",
          "polar": {
           "angularaxis": {
            "gridcolor": "white",
            "linecolor": "white",
            "ticks": ""
           },
           "bgcolor": "#E5ECF6",
           "radialaxis": {
            "gridcolor": "white",
            "linecolor": "white",
            "ticks": ""
           }
          },
          "scene": {
           "xaxis": {
            "backgroundcolor": "#E5ECF6",
            "gridcolor": "white",
            "gridwidth": 2,
            "linecolor": "white",
            "showbackground": true,
            "ticks": "",
            "zerolinecolor": "white"
           },
           "yaxis": {
            "backgroundcolor": "#E5ECF6",
            "gridcolor": "white",
            "gridwidth": 2,
            "linecolor": "white",
            "showbackground": true,
            "ticks": "",
            "zerolinecolor": "white"
           },
           "zaxis": {
            "backgroundcolor": "#E5ECF6",
            "gridcolor": "white",
            "gridwidth": 2,
            "linecolor": "white",
            "showbackground": true,
            "ticks": "",
            "zerolinecolor": "white"
           }
          },
          "shapedefaults": {
           "line": {
            "color": "#2a3f5f"
           }
          },
          "ternary": {
           "aaxis": {
            "gridcolor": "white",
            "linecolor": "white",
            "ticks": ""
           },
           "baxis": {
            "gridcolor": "white",
            "linecolor": "white",
            "ticks": ""
           },
           "bgcolor": "#E5ECF6",
           "caxis": {
            "gridcolor": "white",
            "linecolor": "white",
            "ticks": ""
           }
          },
          "title": {
           "x": 0.05
          },
          "xaxis": {
           "automargin": true,
           "gridcolor": "white",
           "linecolor": "white",
           "ticks": "",
           "title": {
            "standoff": 15
           },
           "zerolinecolor": "white",
           "zerolinewidth": 2
          },
          "yaxis": {
           "automargin": true,
           "gridcolor": "white",
           "linecolor": "white",
           "ticks": "",
           "title": {
            "standoff": 15
           },
           "zerolinecolor": "white",
           "zerolinewidth": 2
          }
         }
        },
        "title": {
         "font": {
          "color": "#4D5663"
         }
        },
        "xaxis": {
         "gridcolor": "#E1E5ED",
         "showgrid": true,
         "tickfont": {
          "color": "#4D5663"
         },
         "title": {
          "font": {
           "color": "#4D5663"
          },
          "text": ""
         },
         "zerolinecolor": "#E1E5ED"
        },
        "yaxis": {
         "gridcolor": "#E1E5ED",
         "showgrid": true,
         "tickfont": {
          "color": "#4D5663"
         },
         "title": {
          "font": {
           "color": "#4D5663"
          },
          "text": ""
         },
         "zerolinecolor": "#E1E5ED"
        }
       }
      },
      "text/html": [
       "<div>                            <div id=\"df5937f1-05c3-4972-851e-5b145fa239aa\" class=\"plotly-graph-div\" style=\"height:525px; width:100%;\"></div>            <script type=\"text/javascript\">                require([\"plotly\"], function(Plotly) {                    window.PLOTLYENV=window.PLOTLYENV || {};\n",
       "                    window.PLOTLYENV.BASE_URL='https://plot.ly';                                    if (document.getElementById(\"df5937f1-05c3-4972-851e-5b145fa239aa\")) {                    Plotly.newPlot(                        \"df5937f1-05c3-4972-851e-5b145fa239aa\",                        [{\"boxpoints\":false,\"line\":{\"width\":1.3},\"marker\":{\"color\":\"rgba(255, 153, 51, 1.0)\"},\"name\":\"A\",\"orientation\":\"v\",\"y\":[-0.5019262604718252,1.3406574372295323,-0.14453389308463846,0.040956373720975554,0.7274751665220139,0.02772203928139414,-0.2627967982077833,-0.6445792859574564,-0.12440658548148807,-1.4195717936405616,-0.5881620964690552,0.1968941489793469,0.24836115152992447,1.1906853329299731,-0.20731260889632006,0.04751918853287542,1.714309247596637,-0.2014585421239541,-0.706546818966052,-1.2789820090973136,-0.29087411730222307,0.30696147278145924,0.6542094312601774,0.6346490022624198,-1.453964470447946,-0.2562556030355115,-0.13399741602615234,1.043664761096363,1.5362170449236299,-1.139822665761981,-1.3081191119064488,0.3022549378458871,1.3730961762014156,0.5088024651071592,-0.8464243671405703,-1.2011957891288758,1.160341198796026,0.027689159510517817,1.3797848021879668,-0.11870973173703767,0.7548654583979592,0.6673776766556359,-0.1416767698425056,-1.3702526577901337,-0.22733380869451456,-0.3860545857839438,-0.4746494033140237,-1.4423873780835887,-0.5232558519147569,0.9923567002966976,-1.3367993456448217,0.35964321503622887,-0.8508495574838864,0.883592769966994,-0.6246517499576894,0.27989103186935305,0.6131371580496763,0.3216230855728305,0.28464155507737726,1.44503447655136,-0.27721413247491106,-1.4087811922820848,-0.33100038597981374,-0.7676458148982221,-0.9068197369866156,-0.4064278014938917,0.4841752803205062,-1.7939182078675981,0.645534754730688,-0.8546984857726455,-2.5751222033503276,-1.5496209941435157,-1.845264470705639,-1.7955574080362404,-1.0990447387369575,-0.02806115476210823,-0.09459203941178367,-0.8775873145390063,-4.121990228815462,-1.4352429415503278,-0.9688499652094146,-1.5041241800369083,-1.7357005143943813,-0.4502043873141606,-0.8411556452989516,-0.017478105167135518,-0.4047434754669365,-0.46049951646255516,-1.7239509268452278,-2.077507197691761,0.18656533416519658,0.05483152572246387,-1.1988250504309492,-0.6769503724014974,-0.07033222410676333,1.8214626735961084,0.48073894868276373,-1.028001117338976,-0.03736194677178664,-0.1613022757355416],\"type\":\"box\"},{\"boxpoints\":false,\"line\":{\"width\":1.3},\"marker\":{\"color\":\"rgba(55, 128, 191, 1.0)\"},\"name\":\"B\",\"orientation\":\"v\",\"y\":[-0.8537742762332164,1.0157322930976045,1.2316869207547705,0.1314299722305412,-0.633724221261174,-1.021091071695296,0.05493633765137216,0.5561493102654288,-0.606363232964669,0.5413884046594294,1.5191493772222278,-0.9771583011795383,-2.564988254175942,-1.511871766233654,0.1698098432471122,-0.0006299061581094447,0.019540019752891886,-0.20333090941576668,-1.0515069577217253,0.8535637865467421,0.7479173990250584,1.5740810908189957,-0.2134294929037309,-0.8287624452994441,1.8084096050913296,-0.4985374462398888,-0.07050276829129744,0.2454396915192863,1.5865458034730295,0.22855415423131717,1.2318015789536472,-0.2683148170438074,0.2721415238481511,1.4289215468174405,0.3407877359485261,2.1163336799878025,-1.2175531392623062,1.0493278651389129,0.019850364513919506,1.7905761038088464,0.2718209125384333,0.9423641957958778,1.639765844844743,1.3938704008306384,-0.3588645773400398,-0.9247625382971925,1.6635092098571502,-0.8502091892531796,1.129888165743087,-0.9209889483736413,-0.6675980382475256,-0.8294327676779536,1.9101387765933906,0.6278871873084058,0.29342412609384266,0.2719883298680775,-1.2383177845611195,0.23924194267683924,-0.7947533691988276,0.369281989374878,-0.5362511746826577,-1.8551607079119403,1.4351948232022345,0.24854237986146002,-2.5847223229622402,-1.4763150326920196,0.16805478888458833,0.48872897444176455,0.18610409006261094,-0.18722588584988972,-0.6361226923627324,-0.8021976334316585,1.0793256151600996,0.8927522531499735,-1.0400918766611247,1.3309567449801414,-0.23918015765720343,0.21827777245077276,0.6643448470304437,-0.9887852571546005,-1.9802413017970966,1.310100856690185,-0.02734743222390547,-1.643015114730303,-0.09084317256020294,1.8388734031514915,1.563071326231132,-0.8096762102199779,0.4597566070432031,-0.6950082009640749,2.251854180395313,-0.2175714152370271,0.5372187334131854,-1.0190670145375262,-1.3175105585197597,-2.1250187398628486,0.8472747609702648,-2.3971849488244765,-1.3737368824255878,-0.6940420292071485],\"type\":\"box\"},{\"boxpoints\":false,\"line\":{\"width\":1.3},\"marker\":{\"color\":\"rgba(50, 171, 96, 1.0)\"},\"name\":\"C\",\"orientation\":\"v\",\"y\":[0.4618236809570364,-1.8760345217107905,-0.024461448454044847,1.2574003360533095,-1.6603300720586975,0.9431808539198537,-0.3275006769611364,-0.6002280473322315,-0.9847738299959304,-0.16330418856163223,1.597188095112297,0.5688457854085364,0.12900455589561993,1.1456471972055877,-0.9784438357796877,0.5584583481411688,1.376835269025118,0.7078730006884457,-1.8150727227537027,1.1263419432513881,-0.9353705491923401,-1.1015856046350405,-1.3325938204413277,0.8827096559088252,1.4918321860205819,0.9863566468584642,-0.8385672256548253,0.5245850292006667,0.12065489545438189,0.05502199013118476,-0.30656589888113434,-0.6997121929122817,1.1662992585723713,0.5580159509947691,-0.12023744165306582,0.5056202557102356,0.4598136480108525,-1.0747407823181587,0.013256239586534642,-0.517675075967214,-0.7796594059393782,0.23578250445412977,0.20432802495424515,0.14101680554886295,0.9575334689804115,-0.6925673483003029,-0.8705935727439931,-0.8416031921405447,0.6873021607060796,-0.004944876023452826,0.49041295085782466,-1.2317940178702407,-0.0813901088437757,1.6709144639252376,0.57813585960082,-0.45189766232725553,1.0976466197209371,-1.7824104217096723,0.6387234746998384,0.17607591088185068,0.016398121006212477,0.7459912835659003,-1.1112853989633977,-0.5154088639815375,0.3881825476474756,-0.7314273379173726,-0.1726749846298453,-1.0660296087533017,0.24610014216510956,0.006256715434016159,-0.564137786805348,0.2591038145327592,-0.6953083094333815,-1.1055580185618308,-0.6245396668612723,-0.3190673665376973,1.5037907002025412,0.21950510334576176,1.374163814295838,-1.3720069796187595,-1.3247608510089435,0.7128936125271272,-1.2361182992940314,-0.2011131723521433,1.8290086001370824,-1.5378306359711813,1.277939232414064,0.7704713652904402,-0.04432391772501383,0.931430450499188,-1.4162795877054093,-1.1889993296726404,-0.039619142630552696,0.229314181496651,1.747491552717108,0.47651489046478396,0.29695716947331746,-0.8784372770247785,-1.344414299986784,1.7021406854463954],\"type\":\"box\"},{\"boxpoints\":false,\"line\":{\"width\":1.3},\"marker\":{\"color\":\"rgba(128, 0, 128, 1.0)\"},\"name\":\"D\",\"orientation\":\"v\",\"y\":[-0.47956938719333003,-1.1316430122868586,-1.4394984520413132,-1.6980544471081662,1.6517541276586782,-0.6016421348936393,0.4814954559638268,0.8358947636749885,-0.35229327071067085,0.8879888146598545,0.5079191018683458,1.7687252545276593,1.7792502777440802,1.766633605878207,1.1560748032756702,0.04530431877778243,0.8289360925137279,-0.08181062310565014,-1.3464133178804472,0.1939550092453204,-0.03080872689105242,-1.2996459250407195,0.8394667703660101,1.6198893101970748,0.44852945053110505,0.6508435189005042,-0.01566524908776226,1.205701927134643,0.6429050766084116,1.6590156399517664,-1.8413726285307792,-1.2512958605279527,-0.38839979338747677,-0.8382712619390268,-0.7640465135293413,-1.9574677656110746,-0.1819576822778034,0.34756350172202394,-2.0236901401471528,-0.934013514983784,-1.0547553069277258,-1.2223477384073151,-1.2610612837993038,0.5124029846195318,-0.12836116938872946,0.09570755732141845,1.0584142997790176,-0.7534000492954668,-0.39168333648515546,0.9427562596411888,-1.2649488886451548,-0.27912128350651055,-0.7082710101575158,0.31282738621271344,-0.6023436379277887,2.1596744461659076,-0.9223512546575351,0.6357441528389547,-0.9103977829395166,-0.24197499297387493,-1.0490933014045551,-0.5637401120482566,-0.49036669396333205,-1.1322384577611027,-1.3982878650691326,-0.7559097570278627,-1.4394068225015968,-1.2926381659267812,1.6756183646986447,1.2468189425235499,-1.0045614815874546,-0.7817140605037985,-1.1310812204419576,0.2789631959398414,-1.0261283228217053,-0.3229792328969324,-0.20483934769039758,0.6686474508811284,0.17496267455034867,-2.4227361960895872,-0.0689189156724492,-0.17035482159845666,1.1558215291727423,0.1799892673474436,1.3162907788144025,1.5919033022567164,-1.5056105354003668,0.31865214704909434,-1.6231483618340186,0.19108793947928213,-0.8307866105310673,-0.006053650666354444,-0.5034800152612379,0.8261439404115187,-0.25309060647659787,0.6389383222916003,0.5461201973821405,2.031866229706439,1.4946689301105966,-1.157159990051492],\"type\":\"box\"}],                        {\"legend\":{\"bgcolor\":\"#F5F6F9\",\"font\":{\"color\":\"#4D5663\"}},\"paper_bgcolor\":\"#F5F6F9\",\"plot_bgcolor\":\"#F5F6F9\",\"template\":{\"data\":{\"barpolar\":[{\"marker\":{\"line\":{\"color\":\"#E5ECF6\",\"width\":0.5},\"pattern\":{\"fillmode\":\"overlay\",\"size\":10,\"solidity\":0.2}},\"type\":\"barpolar\"}],\"bar\":[{\"error_x\":{\"color\":\"#2a3f5f\"},\"error_y\":{\"color\":\"#2a3f5f\"},\"marker\":{\"line\":{\"color\":\"#E5ECF6\",\"width\":0.5},\"pattern\":{\"fillmode\":\"overlay\",\"size\":10,\"solidity\":0.2}},\"type\":\"bar\"}],\"carpet\":[{\"aaxis\":{\"endlinecolor\":\"#2a3f5f\",\"gridcolor\":\"white\",\"linecolor\":\"white\",\"minorgridcolor\":\"white\",\"startlinecolor\":\"#2a3f5f\"},\"baxis\":{\"endlinecolor\":\"#2a3f5f\",\"gridcolor\":\"white\",\"linecolor\":\"white\",\"minorgridcolor\":\"white\",\"startlinecolor\":\"#2a3f5f\"},\"type\":\"carpet\"}],\"choropleth\":[{\"colorbar\":{\"outlinewidth\":0,\"ticks\":\"\"},\"type\":\"choropleth\"}],\"contourcarpet\":[{\"colorbar\":{\"outlinewidth\":0,\"ticks\":\"\"},\"type\":\"contourcarpet\"}],\"contour\":[{\"colorbar\":{\"outlinewidth\":0,\"ticks\":\"\"},\"colorscale\":[[0.0,\"#0d0887\"],[0.1111111111111111,\"#46039f\"],[0.2222222222222222,\"#7201a8\"],[0.3333333333333333,\"#9c179e\"],[0.4444444444444444,\"#bd3786\"],[0.5555555555555556,\"#d8576b\"],[0.6666666666666666,\"#ed7953\"],[0.7777777777777778,\"#fb9f3a\"],[0.8888888888888888,\"#fdca26\"],[1.0,\"#f0f921\"]],\"type\":\"contour\"}],\"heatmapgl\":[{\"colorbar\":{\"outlinewidth\":0,\"ticks\":\"\"},\"colorscale\":[[0.0,\"#0d0887\"],[0.1111111111111111,\"#46039f\"],[0.2222222222222222,\"#7201a8\"],[0.3333333333333333,\"#9c179e\"],[0.4444444444444444,\"#bd3786\"],[0.5555555555555556,\"#d8576b\"],[0.6666666666666666,\"#ed7953\"],[0.7777777777777778,\"#fb9f3a\"],[0.8888888888888888,\"#fdca26\"],[1.0,\"#f0f921\"]],\"type\":\"heatmapgl\"}],\"heatmap\":[{\"colorbar\":{\"outlinewidth\":0,\"ticks\":\"\"},\"colorscale\":[[0.0,\"#0d0887\"],[0.1111111111111111,\"#46039f\"],[0.2222222222222222,\"#7201a8\"],[0.3333333333333333,\"#9c179e\"],[0.4444444444444444,\"#bd3786\"],[0.5555555555555556,\"#d8576b\"],[0.6666666666666666,\"#ed7953\"],[0.7777777777777778,\"#fb9f3a\"],[0.8888888888888888,\"#fdca26\"],[1.0,\"#f0f921\"]],\"type\":\"heatmap\"}],\"histogram2dcontour\":[{\"colorbar\":{\"outlinewidth\":0,\"ticks\":\"\"},\"colorscale\":[[0.0,\"#0d0887\"],[0.1111111111111111,\"#46039f\"],[0.2222222222222222,\"#7201a8\"],[0.3333333333333333,\"#9c179e\"],[0.4444444444444444,\"#bd3786\"],[0.5555555555555556,\"#d8576b\"],[0.6666666666666666,\"#ed7953\"],[0.7777777777777778,\"#fb9f3a\"],[0.8888888888888888,\"#fdca26\"],[1.0,\"#f0f921\"]],\"type\":\"histogram2dcontour\"}],\"histogram2d\":[{\"colorbar\":{\"outlinewidth\":0,\"ticks\":\"\"},\"colorscale\":[[0.0,\"#0d0887\"],[0.1111111111111111,\"#46039f\"],[0.2222222222222222,\"#7201a8\"],[0.3333333333333333,\"#9c179e\"],[0.4444444444444444,\"#bd3786\"],[0.5555555555555556,\"#d8576b\"],[0.6666666666666666,\"#ed7953\"],[0.7777777777777778,\"#fb9f3a\"],[0.8888888888888888,\"#fdca26\"],[1.0,\"#f0f921\"]],\"type\":\"histogram2d\"}],\"histogram\":[{\"marker\":{\"pattern\":{\"fillmode\":\"overlay\",\"size\":10,\"solidity\":0.2}},\"type\":\"histogram\"}],\"mesh3d\":[{\"colorbar\":{\"outlinewidth\":0,\"ticks\":\"\"},\"type\":\"mesh3d\"}],\"parcoords\":[{\"line\":{\"colorbar\":{\"outlinewidth\":0,\"ticks\":\"\"}},\"type\":\"parcoords\"}],\"pie\":[{\"automargin\":true,\"type\":\"pie\"}],\"scatter3d\":[{\"line\":{\"colorbar\":{\"outlinewidth\":0,\"ticks\":\"\"}},\"marker\":{\"colorbar\":{\"outlinewidth\":0,\"ticks\":\"\"}},\"type\":\"scatter3d\"}],\"scattercarpet\":[{\"marker\":{\"colorbar\":{\"outlinewidth\":0,\"ticks\":\"\"}},\"type\":\"scattercarpet\"}],\"scattergeo\":[{\"marker\":{\"colorbar\":{\"outlinewidth\":0,\"ticks\":\"\"}},\"type\":\"scattergeo\"}],\"scattergl\":[{\"marker\":{\"colorbar\":{\"outlinewidth\":0,\"ticks\":\"\"}},\"type\":\"scattergl\"}],\"scattermapbox\":[{\"marker\":{\"colorbar\":{\"outlinewidth\":0,\"ticks\":\"\"}},\"type\":\"scattermapbox\"}],\"scatterpolargl\":[{\"marker\":{\"colorbar\":{\"outlinewidth\":0,\"ticks\":\"\"}},\"type\":\"scatterpolargl\"}],\"scatterpolar\":[{\"marker\":{\"colorbar\":{\"outlinewidth\":0,\"ticks\":\"\"}},\"type\":\"scatterpolar\"}],\"scatter\":[{\"fillpattern\":{\"fillmode\":\"overlay\",\"size\":10,\"solidity\":0.2},\"type\":\"scatter\"}],\"scatterternary\":[{\"marker\":{\"colorbar\":{\"outlinewidth\":0,\"ticks\":\"\"}},\"type\":\"scatterternary\"}],\"surface\":[{\"colorbar\":{\"outlinewidth\":0,\"ticks\":\"\"},\"colorscale\":[[0.0,\"#0d0887\"],[0.1111111111111111,\"#46039f\"],[0.2222222222222222,\"#7201a8\"],[0.3333333333333333,\"#9c179e\"],[0.4444444444444444,\"#bd3786\"],[0.5555555555555556,\"#d8576b\"],[0.6666666666666666,\"#ed7953\"],[0.7777777777777778,\"#fb9f3a\"],[0.8888888888888888,\"#fdca26\"],[1.0,\"#f0f921\"]],\"type\":\"surface\"}],\"table\":[{\"cells\":{\"fill\":{\"color\":\"#EBF0F8\"},\"line\":{\"color\":\"white\"}},\"header\":{\"fill\":{\"color\":\"#C8D4E3\"},\"line\":{\"color\":\"white\"}},\"type\":\"table\"}]},\"layout\":{\"annotationdefaults\":{\"arrowcolor\":\"#2a3f5f\",\"arrowhead\":0,\"arrowwidth\":1},\"autotypenumbers\":\"strict\",\"coloraxis\":{\"colorbar\":{\"outlinewidth\":0,\"ticks\":\"\"}},\"colorscale\":{\"diverging\":[[0,\"#8e0152\"],[0.1,\"#c51b7d\"],[0.2,\"#de77ae\"],[0.3,\"#f1b6da\"],[0.4,\"#fde0ef\"],[0.5,\"#f7f7f7\"],[0.6,\"#e6f5d0\"],[0.7,\"#b8e186\"],[0.8,\"#7fbc41\"],[0.9,\"#4d9221\"],[1,\"#276419\"]],\"sequential\":[[0.0,\"#0d0887\"],[0.1111111111111111,\"#46039f\"],[0.2222222222222222,\"#7201a8\"],[0.3333333333333333,\"#9c179e\"],[0.4444444444444444,\"#bd3786\"],[0.5555555555555556,\"#d8576b\"],[0.6666666666666666,\"#ed7953\"],[0.7777777777777778,\"#fb9f3a\"],[0.8888888888888888,\"#fdca26\"],[1.0,\"#f0f921\"]],\"sequentialminus\":[[0.0,\"#0d0887\"],[0.1111111111111111,\"#46039f\"],[0.2222222222222222,\"#7201a8\"],[0.3333333333333333,\"#9c179e\"],[0.4444444444444444,\"#bd3786\"],[0.5555555555555556,\"#d8576b\"],[0.6666666666666666,\"#ed7953\"],[0.7777777777777778,\"#fb9f3a\"],[0.8888888888888888,\"#fdca26\"],[1.0,\"#f0f921\"]]},\"colorway\":[\"#636efa\",\"#EF553B\",\"#00cc96\",\"#ab63fa\",\"#FFA15A\",\"#19d3f3\",\"#FF6692\",\"#B6E880\",\"#FF97FF\",\"#FECB52\"],\"font\":{\"color\":\"#2a3f5f\"},\"geo\":{\"bgcolor\":\"white\",\"lakecolor\":\"white\",\"landcolor\":\"#E5ECF6\",\"showlakes\":true,\"showland\":true,\"subunitcolor\":\"white\"},\"hoverlabel\":{\"align\":\"left\"},\"hovermode\":\"closest\",\"mapbox\":{\"style\":\"light\"},\"paper_bgcolor\":\"white\",\"plot_bgcolor\":\"#E5ECF6\",\"polar\":{\"angularaxis\":{\"gridcolor\":\"white\",\"linecolor\":\"white\",\"ticks\":\"\"},\"bgcolor\":\"#E5ECF6\",\"radialaxis\":{\"gridcolor\":\"white\",\"linecolor\":\"white\",\"ticks\":\"\"}},\"scene\":{\"xaxis\":{\"backgroundcolor\":\"#E5ECF6\",\"gridcolor\":\"white\",\"gridwidth\":2,\"linecolor\":\"white\",\"showbackground\":true,\"ticks\":\"\",\"zerolinecolor\":\"white\"},\"yaxis\":{\"backgroundcolor\":\"#E5ECF6\",\"gridcolor\":\"white\",\"gridwidth\":2,\"linecolor\":\"white\",\"showbackground\":true,\"ticks\":\"\",\"zerolinecolor\":\"white\"},\"zaxis\":{\"backgroundcolor\":\"#E5ECF6\",\"gridcolor\":\"white\",\"gridwidth\":2,\"linecolor\":\"white\",\"showbackground\":true,\"ticks\":\"\",\"zerolinecolor\":\"white\"}},\"shapedefaults\":{\"line\":{\"color\":\"#2a3f5f\"}},\"ternary\":{\"aaxis\":{\"gridcolor\":\"white\",\"linecolor\":\"white\",\"ticks\":\"\"},\"baxis\":{\"gridcolor\":\"white\",\"linecolor\":\"white\",\"ticks\":\"\"},\"bgcolor\":\"#E5ECF6\",\"caxis\":{\"gridcolor\":\"white\",\"linecolor\":\"white\",\"ticks\":\"\"}},\"title\":{\"x\":0.05},\"xaxis\":{\"automargin\":true,\"gridcolor\":\"white\",\"linecolor\":\"white\",\"ticks\":\"\",\"title\":{\"standoff\":15},\"zerolinecolor\":\"white\",\"zerolinewidth\":2},\"yaxis\":{\"automargin\":true,\"gridcolor\":\"white\",\"linecolor\":\"white\",\"ticks\":\"\",\"title\":{\"standoff\":15},\"zerolinecolor\":\"white\",\"zerolinewidth\":2}}},\"title\":{\"font\":{\"color\":\"#4D5663\"}},\"xaxis\":{\"gridcolor\":\"#E1E5ED\",\"showgrid\":true,\"tickfont\":{\"color\":\"#4D5663\"},\"title\":{\"font\":{\"color\":\"#4D5663\"},\"text\":\"\"},\"zerolinecolor\":\"#E1E5ED\"},\"yaxis\":{\"gridcolor\":\"#E1E5ED\",\"showgrid\":true,\"tickfont\":{\"color\":\"#4D5663\"},\"title\":{\"font\":{\"color\":\"#4D5663\"},\"text\":\"\"},\"zerolinecolor\":\"#E1E5ED\"}},                        {\"showLink\": true, \"linkText\": \"Export to plot.ly\", \"plotlyServerURL\": \"https://plot.ly\", \"responsive\": true}                    ).then(function(){\n",
       "                            \n",
       "var gd = document.getElementById('df5937f1-05c3-4972-851e-5b145fa239aa');\n",
       "var x = new MutationObserver(function (mutations, observer) {{\n",
       "        var display = window.getComputedStyle(gd).display;\n",
       "        if (!display || display === 'none') {{\n",
       "            console.log([gd, 'removed!']);\n",
       "            Plotly.purge(gd);\n",
       "            observer.disconnect();\n",
       "        }}\n",
       "}});\n",
       "\n",
       "// Listen for the removal of the full notebook cells\n",
       "var notebookContainer = gd.closest('#notebook-container');\n",
       "if (notebookContainer) {{\n",
       "    x.observe(notebookContainer, {childList: true});\n",
       "}}\n",
       "\n",
       "// Listen for the clearing of the current output cell\n",
       "var outputEl = gd.closest('.output');\n",
       "if (outputEl) {{\n",
       "    x.observe(outputEl, {childList: true});\n",
       "}}\n",
       "\n",
       "                        })                };                });            </script>        </div>"
      ]
     },
     "metadata": {},
     "output_type": "display_data"
    }
   ],
   "source": [
    "df.iplot(kind='box')"
   ]
  },
  {
   "cell_type": "markdown",
   "metadata": {},
   "source": [
    "## Superficie 3D"
   ]
  },
  {
   "cell_type": "code",
   "execution_count": 14,
   "metadata": {},
   "outputs": [
    {
     "data": {
      "application/vnd.plotly.v1+json": {
       "config": {
        "linkText": "Export to plot.ly",
        "plotlyServerURL": "https://plot.ly",
        "showLink": true
       },
       "data": [
        {
         "colorscale": [
          [
           0,
           "rgb(165,0,38)"
          ],
          [
           0.1,
           "rgb(215,48,39)"
          ],
          [
           0.2,
           "rgb(244,109,67)"
          ],
          [
           0.3,
           "rgb(253,174,97)"
          ],
          [
           0.4,
           "rgb(254,224,144)"
          ],
          [
           0.5,
           "rgb(255,255,191)"
          ],
          [
           0.6,
           "rgb(224,243,248)"
          ],
          [
           0.7,
           "rgb(171,217,233)"
          ],
          [
           0.8,
           "rgb(116,173,209)"
          ],
          [
           0.9,
           "rgb(69,117,180)"
          ],
          [
           1,
           "rgb(49,54,149)"
          ]
         ],
         "type": "surface",
         "x": [
          0,
          1,
          2,
          3,
          4
         ],
         "y": [
          "x",
          "y",
          "z"
         ],
         "z": [
          [
           1,
           2,
           3,
           4,
           5
          ],
          [
           10,
           20,
           30,
           20,
           10
          ],
          [
           5,
           4,
           3,
           2,
           1
          ]
         ]
        }
       ],
       "layout": {
        "legend": {
         "bgcolor": "#F5F6F9",
         "font": {
          "color": "#4D5663"
         }
        },
        "paper_bgcolor": "#F5F6F9",
        "plot_bgcolor": "#F5F6F9",
        "template": {
         "data": {
          "bar": [
           {
            "error_x": {
             "color": "#2a3f5f"
            },
            "error_y": {
             "color": "#2a3f5f"
            },
            "marker": {
             "line": {
              "color": "#E5ECF6",
              "width": 0.5
             },
             "pattern": {
              "fillmode": "overlay",
              "size": 10,
              "solidity": 0.2
             }
            },
            "type": "bar"
           }
          ],
          "barpolar": [
           {
            "marker": {
             "line": {
              "color": "#E5ECF6",
              "width": 0.5
             },
             "pattern": {
              "fillmode": "overlay",
              "size": 10,
              "solidity": 0.2
             }
            },
            "type": "barpolar"
           }
          ],
          "carpet": [
           {
            "aaxis": {
             "endlinecolor": "#2a3f5f",
             "gridcolor": "white",
             "linecolor": "white",
             "minorgridcolor": "white",
             "startlinecolor": "#2a3f5f"
            },
            "baxis": {
             "endlinecolor": "#2a3f5f",
             "gridcolor": "white",
             "linecolor": "white",
             "minorgridcolor": "white",
             "startlinecolor": "#2a3f5f"
            },
            "type": "carpet"
           }
          ],
          "choropleth": [
           {
            "colorbar": {
             "outlinewidth": 0,
             "ticks": ""
            },
            "type": "choropleth"
           }
          ],
          "contour": [
           {
            "colorbar": {
             "outlinewidth": 0,
             "ticks": ""
            },
            "colorscale": [
             [
              0,
              "#0d0887"
             ],
             [
              0.1111111111111111,
              "#46039f"
             ],
             [
              0.2222222222222222,
              "#7201a8"
             ],
             [
              0.3333333333333333,
              "#9c179e"
             ],
             [
              0.4444444444444444,
              "#bd3786"
             ],
             [
              0.5555555555555556,
              "#d8576b"
             ],
             [
              0.6666666666666666,
              "#ed7953"
             ],
             [
              0.7777777777777778,
              "#fb9f3a"
             ],
             [
              0.8888888888888888,
              "#fdca26"
             ],
             [
              1,
              "#f0f921"
             ]
            ],
            "type": "contour"
           }
          ],
          "contourcarpet": [
           {
            "colorbar": {
             "outlinewidth": 0,
             "ticks": ""
            },
            "type": "contourcarpet"
           }
          ],
          "heatmap": [
           {
            "colorbar": {
             "outlinewidth": 0,
             "ticks": ""
            },
            "colorscale": [
             [
              0,
              "#0d0887"
             ],
             [
              0.1111111111111111,
              "#46039f"
             ],
             [
              0.2222222222222222,
              "#7201a8"
             ],
             [
              0.3333333333333333,
              "#9c179e"
             ],
             [
              0.4444444444444444,
              "#bd3786"
             ],
             [
              0.5555555555555556,
              "#d8576b"
             ],
             [
              0.6666666666666666,
              "#ed7953"
             ],
             [
              0.7777777777777778,
              "#fb9f3a"
             ],
             [
              0.8888888888888888,
              "#fdca26"
             ],
             [
              1,
              "#f0f921"
             ]
            ],
            "type": "heatmap"
           }
          ],
          "heatmapgl": [
           {
            "colorbar": {
             "outlinewidth": 0,
             "ticks": ""
            },
            "colorscale": [
             [
              0,
              "#0d0887"
             ],
             [
              0.1111111111111111,
              "#46039f"
             ],
             [
              0.2222222222222222,
              "#7201a8"
             ],
             [
              0.3333333333333333,
              "#9c179e"
             ],
             [
              0.4444444444444444,
              "#bd3786"
             ],
             [
              0.5555555555555556,
              "#d8576b"
             ],
             [
              0.6666666666666666,
              "#ed7953"
             ],
             [
              0.7777777777777778,
              "#fb9f3a"
             ],
             [
              0.8888888888888888,
              "#fdca26"
             ],
             [
              1,
              "#f0f921"
             ]
            ],
            "type": "heatmapgl"
           }
          ],
          "histogram": [
           {
            "marker": {
             "pattern": {
              "fillmode": "overlay",
              "size": 10,
              "solidity": 0.2
             }
            },
            "type": "histogram"
           }
          ],
          "histogram2d": [
           {
            "colorbar": {
             "outlinewidth": 0,
             "ticks": ""
            },
            "colorscale": [
             [
              0,
              "#0d0887"
             ],
             [
              0.1111111111111111,
              "#46039f"
             ],
             [
              0.2222222222222222,
              "#7201a8"
             ],
             [
              0.3333333333333333,
              "#9c179e"
             ],
             [
              0.4444444444444444,
              "#bd3786"
             ],
             [
              0.5555555555555556,
              "#d8576b"
             ],
             [
              0.6666666666666666,
              "#ed7953"
             ],
             [
              0.7777777777777778,
              "#fb9f3a"
             ],
             [
              0.8888888888888888,
              "#fdca26"
             ],
             [
              1,
              "#f0f921"
             ]
            ],
            "type": "histogram2d"
           }
          ],
          "histogram2dcontour": [
           {
            "colorbar": {
             "outlinewidth": 0,
             "ticks": ""
            },
            "colorscale": [
             [
              0,
              "#0d0887"
             ],
             [
              0.1111111111111111,
              "#46039f"
             ],
             [
              0.2222222222222222,
              "#7201a8"
             ],
             [
              0.3333333333333333,
              "#9c179e"
             ],
             [
              0.4444444444444444,
              "#bd3786"
             ],
             [
              0.5555555555555556,
              "#d8576b"
             ],
             [
              0.6666666666666666,
              "#ed7953"
             ],
             [
              0.7777777777777778,
              "#fb9f3a"
             ],
             [
              0.8888888888888888,
              "#fdca26"
             ],
             [
              1,
              "#f0f921"
             ]
            ],
            "type": "histogram2dcontour"
           }
          ],
          "mesh3d": [
           {
            "colorbar": {
             "outlinewidth": 0,
             "ticks": ""
            },
            "type": "mesh3d"
           }
          ],
          "parcoords": [
           {
            "line": {
             "colorbar": {
              "outlinewidth": 0,
              "ticks": ""
             }
            },
            "type": "parcoords"
           }
          ],
          "pie": [
           {
            "automargin": true,
            "type": "pie"
           }
          ],
          "scatter": [
           {
            "fillpattern": {
             "fillmode": "overlay",
             "size": 10,
             "solidity": 0.2
            },
            "type": "scatter"
           }
          ],
          "scatter3d": [
           {
            "line": {
             "colorbar": {
              "outlinewidth": 0,
              "ticks": ""
             }
            },
            "marker": {
             "colorbar": {
              "outlinewidth": 0,
              "ticks": ""
             }
            },
            "type": "scatter3d"
           }
          ],
          "scattercarpet": [
           {
            "marker": {
             "colorbar": {
              "outlinewidth": 0,
              "ticks": ""
             }
            },
            "type": "scattercarpet"
           }
          ],
          "scattergeo": [
           {
            "marker": {
             "colorbar": {
              "outlinewidth": 0,
              "ticks": ""
             }
            },
            "type": "scattergeo"
           }
          ],
          "scattergl": [
           {
            "marker": {
             "colorbar": {
              "outlinewidth": 0,
              "ticks": ""
             }
            },
            "type": "scattergl"
           }
          ],
          "scattermapbox": [
           {
            "marker": {
             "colorbar": {
              "outlinewidth": 0,
              "ticks": ""
             }
            },
            "type": "scattermapbox"
           }
          ],
          "scatterpolar": [
           {
            "marker": {
             "colorbar": {
              "outlinewidth": 0,
              "ticks": ""
             }
            },
            "type": "scatterpolar"
           }
          ],
          "scatterpolargl": [
           {
            "marker": {
             "colorbar": {
              "outlinewidth": 0,
              "ticks": ""
             }
            },
            "type": "scatterpolargl"
           }
          ],
          "scatterternary": [
           {
            "marker": {
             "colorbar": {
              "outlinewidth": 0,
              "ticks": ""
             }
            },
            "type": "scatterternary"
           }
          ],
          "surface": [
           {
            "colorbar": {
             "outlinewidth": 0,
             "ticks": ""
            },
            "colorscale": [
             [
              0,
              "#0d0887"
             ],
             [
              0.1111111111111111,
              "#46039f"
             ],
             [
              0.2222222222222222,
              "#7201a8"
             ],
             [
              0.3333333333333333,
              "#9c179e"
             ],
             [
              0.4444444444444444,
              "#bd3786"
             ],
             [
              0.5555555555555556,
              "#d8576b"
             ],
             [
              0.6666666666666666,
              "#ed7953"
             ],
             [
              0.7777777777777778,
              "#fb9f3a"
             ],
             [
              0.8888888888888888,
              "#fdca26"
             ],
             [
              1,
              "#f0f921"
             ]
            ],
            "type": "surface"
           }
          ],
          "table": [
           {
            "cells": {
             "fill": {
              "color": "#EBF0F8"
             },
             "line": {
              "color": "white"
             }
            },
            "header": {
             "fill": {
              "color": "#C8D4E3"
             },
             "line": {
              "color": "white"
             }
            },
            "type": "table"
           }
          ]
         },
         "layout": {
          "annotationdefaults": {
           "arrowcolor": "#2a3f5f",
           "arrowhead": 0,
           "arrowwidth": 1
          },
          "autotypenumbers": "strict",
          "coloraxis": {
           "colorbar": {
            "outlinewidth": 0,
            "ticks": ""
           }
          },
          "colorscale": {
           "diverging": [
            [
             0,
             "#8e0152"
            ],
            [
             0.1,
             "#c51b7d"
            ],
            [
             0.2,
             "#de77ae"
            ],
            [
             0.3,
             "#f1b6da"
            ],
            [
             0.4,
             "#fde0ef"
            ],
            [
             0.5,
             "#f7f7f7"
            ],
            [
             0.6,
             "#e6f5d0"
            ],
            [
             0.7,
             "#b8e186"
            ],
            [
             0.8,
             "#7fbc41"
            ],
            [
             0.9,
             "#4d9221"
            ],
            [
             1,
             "#276419"
            ]
           ],
           "sequential": [
            [
             0,
             "#0d0887"
            ],
            [
             0.1111111111111111,
             "#46039f"
            ],
            [
             0.2222222222222222,
             "#7201a8"
            ],
            [
             0.3333333333333333,
             "#9c179e"
            ],
            [
             0.4444444444444444,
             "#bd3786"
            ],
            [
             0.5555555555555556,
             "#d8576b"
            ],
            [
             0.6666666666666666,
             "#ed7953"
            ],
            [
             0.7777777777777778,
             "#fb9f3a"
            ],
            [
             0.8888888888888888,
             "#fdca26"
            ],
            [
             1,
             "#f0f921"
            ]
           ],
           "sequentialminus": [
            [
             0,
             "#0d0887"
            ],
            [
             0.1111111111111111,
             "#46039f"
            ],
            [
             0.2222222222222222,
             "#7201a8"
            ],
            [
             0.3333333333333333,
             "#9c179e"
            ],
            [
             0.4444444444444444,
             "#bd3786"
            ],
            [
             0.5555555555555556,
             "#d8576b"
            ],
            [
             0.6666666666666666,
             "#ed7953"
            ],
            [
             0.7777777777777778,
             "#fb9f3a"
            ],
            [
             0.8888888888888888,
             "#fdca26"
            ],
            [
             1,
             "#f0f921"
            ]
           ]
          },
          "colorway": [
           "#636efa",
           "#EF553B",
           "#00cc96",
           "#ab63fa",
           "#FFA15A",
           "#19d3f3",
           "#FF6692",
           "#B6E880",
           "#FF97FF",
           "#FECB52"
          ],
          "font": {
           "color": "#2a3f5f"
          },
          "geo": {
           "bgcolor": "white",
           "lakecolor": "white",
           "landcolor": "#E5ECF6",
           "showlakes": true,
           "showland": true,
           "subunitcolor": "white"
          },
          "hoverlabel": {
           "align": "left"
          },
          "hovermode": "closest",
          "mapbox": {
           "style": "light"
          },
          "paper_bgcolor": "white",
          "plot_bgcolor": "#E5ECF6",
          "polar": {
           "angularaxis": {
            "gridcolor": "white",
            "linecolor": "white",
            "ticks": ""
           },
           "bgcolor": "#E5ECF6",
           "radialaxis": {
            "gridcolor": "white",
            "linecolor": "white",
            "ticks": ""
           }
          },
          "scene": {
           "xaxis": {
            "backgroundcolor": "#E5ECF6",
            "gridcolor": "white",
            "gridwidth": 2,
            "linecolor": "white",
            "showbackground": true,
            "ticks": "",
            "zerolinecolor": "white"
           },
           "yaxis": {
            "backgroundcolor": "#E5ECF6",
            "gridcolor": "white",
            "gridwidth": 2,
            "linecolor": "white",
            "showbackground": true,
            "ticks": "",
            "zerolinecolor": "white"
           },
           "zaxis": {
            "backgroundcolor": "#E5ECF6",
            "gridcolor": "white",
            "gridwidth": 2,
            "linecolor": "white",
            "showbackground": true,
            "ticks": "",
            "zerolinecolor": "white"
           }
          },
          "shapedefaults": {
           "line": {
            "color": "#2a3f5f"
           }
          },
          "ternary": {
           "aaxis": {
            "gridcolor": "white",
            "linecolor": "white",
            "ticks": ""
           },
           "baxis": {
            "gridcolor": "white",
            "linecolor": "white",
            "ticks": ""
           },
           "bgcolor": "#E5ECF6",
           "caxis": {
            "gridcolor": "white",
            "linecolor": "white",
            "ticks": ""
           }
          },
          "title": {
           "x": 0.05
          },
          "xaxis": {
           "automargin": true,
           "gridcolor": "white",
           "linecolor": "white",
           "ticks": "",
           "title": {
            "standoff": 15
           },
           "zerolinecolor": "white",
           "zerolinewidth": 2
          },
          "yaxis": {
           "automargin": true,
           "gridcolor": "white",
           "linecolor": "white",
           "ticks": "",
           "title": {
            "standoff": 15
           },
           "zerolinecolor": "white",
           "zerolinewidth": 2
          }
         }
        },
        "title": {
         "font": {
          "color": "#4D5663"
         }
        },
        "xaxis": {
         "gridcolor": "#E1E5ED",
         "showgrid": true,
         "tickfont": {
          "color": "#4D5663"
         },
         "title": {
          "font": {
           "color": "#4D5663"
          },
          "text": ""
         },
         "zerolinecolor": "#E1E5ED"
        },
        "yaxis": {
         "gridcolor": "#E1E5ED",
         "showgrid": true,
         "tickfont": {
          "color": "#4D5663"
         },
         "title": {
          "font": {
           "color": "#4D5663"
          },
          "text": ""
         },
         "zerolinecolor": "#E1E5ED"
        }
       }
      },
      "text/html": [
       "<div>                            <div id=\"4156bdeb-a747-4135-a056-05983e56325b\" class=\"plotly-graph-div\" style=\"height:525px; width:100%;\"></div>            <script type=\"text/javascript\">                require([\"plotly\"], function(Plotly) {                    window.PLOTLYENV=window.PLOTLYENV || {};\n",
       "                    window.PLOTLYENV.BASE_URL='https://plot.ly';                                    if (document.getElementById(\"4156bdeb-a747-4135-a056-05983e56325b\")) {                    Plotly.newPlot(                        \"4156bdeb-a747-4135-a056-05983e56325b\",                        [{\"colorscale\":[[0.0,\"rgb(165,0,38)\"],[0.1,\"rgb(215,48,39)\"],[0.2,\"rgb(244,109,67)\"],[0.3,\"rgb(253,174,97)\"],[0.4,\"rgb(254,224,144)\"],[0.5,\"rgb(255,255,191)\"],[0.6,\"rgb(224,243,248)\"],[0.7,\"rgb(171,217,233)\"],[0.8,\"rgb(116,173,209)\"],[0.9,\"rgb(69,117,180)\"],[1.0,\"rgb(49,54,149)\"]],\"x\":[0,1,2,3,4],\"y\":[\"x\",\"y\",\"z\"],\"z\":[[1,2,3,4,5],[10,20,30,20,10],[5,4,3,2,1]],\"type\":\"surface\"}],                        {\"legend\":{\"bgcolor\":\"#F5F6F9\",\"font\":{\"color\":\"#4D5663\"}},\"paper_bgcolor\":\"#F5F6F9\",\"plot_bgcolor\":\"#F5F6F9\",\"template\":{\"data\":{\"barpolar\":[{\"marker\":{\"line\":{\"color\":\"#E5ECF6\",\"width\":0.5},\"pattern\":{\"fillmode\":\"overlay\",\"size\":10,\"solidity\":0.2}},\"type\":\"barpolar\"}],\"bar\":[{\"error_x\":{\"color\":\"#2a3f5f\"},\"error_y\":{\"color\":\"#2a3f5f\"},\"marker\":{\"line\":{\"color\":\"#E5ECF6\",\"width\":0.5},\"pattern\":{\"fillmode\":\"overlay\",\"size\":10,\"solidity\":0.2}},\"type\":\"bar\"}],\"carpet\":[{\"aaxis\":{\"endlinecolor\":\"#2a3f5f\",\"gridcolor\":\"white\",\"linecolor\":\"white\",\"minorgridcolor\":\"white\",\"startlinecolor\":\"#2a3f5f\"},\"baxis\":{\"endlinecolor\":\"#2a3f5f\",\"gridcolor\":\"white\",\"linecolor\":\"white\",\"minorgridcolor\":\"white\",\"startlinecolor\":\"#2a3f5f\"},\"type\":\"carpet\"}],\"choropleth\":[{\"colorbar\":{\"outlinewidth\":0,\"ticks\":\"\"},\"type\":\"choropleth\"}],\"contourcarpet\":[{\"colorbar\":{\"outlinewidth\":0,\"ticks\":\"\"},\"type\":\"contourcarpet\"}],\"contour\":[{\"colorbar\":{\"outlinewidth\":0,\"ticks\":\"\"},\"colorscale\":[[0.0,\"#0d0887\"],[0.1111111111111111,\"#46039f\"],[0.2222222222222222,\"#7201a8\"],[0.3333333333333333,\"#9c179e\"],[0.4444444444444444,\"#bd3786\"],[0.5555555555555556,\"#d8576b\"],[0.6666666666666666,\"#ed7953\"],[0.7777777777777778,\"#fb9f3a\"],[0.8888888888888888,\"#fdca26\"],[1.0,\"#f0f921\"]],\"type\":\"contour\"}],\"heatmapgl\":[{\"colorbar\":{\"outlinewidth\":0,\"ticks\":\"\"},\"colorscale\":[[0.0,\"#0d0887\"],[0.1111111111111111,\"#46039f\"],[0.2222222222222222,\"#7201a8\"],[0.3333333333333333,\"#9c179e\"],[0.4444444444444444,\"#bd3786\"],[0.5555555555555556,\"#d8576b\"],[0.6666666666666666,\"#ed7953\"],[0.7777777777777778,\"#fb9f3a\"],[0.8888888888888888,\"#fdca26\"],[1.0,\"#f0f921\"]],\"type\":\"heatmapgl\"}],\"heatmap\":[{\"colorbar\":{\"outlinewidth\":0,\"ticks\":\"\"},\"colorscale\":[[0.0,\"#0d0887\"],[0.1111111111111111,\"#46039f\"],[0.2222222222222222,\"#7201a8\"],[0.3333333333333333,\"#9c179e\"],[0.4444444444444444,\"#bd3786\"],[0.5555555555555556,\"#d8576b\"],[0.6666666666666666,\"#ed7953\"],[0.7777777777777778,\"#fb9f3a\"],[0.8888888888888888,\"#fdca26\"],[1.0,\"#f0f921\"]],\"type\":\"heatmap\"}],\"histogram2dcontour\":[{\"colorbar\":{\"outlinewidth\":0,\"ticks\":\"\"},\"colorscale\":[[0.0,\"#0d0887\"],[0.1111111111111111,\"#46039f\"],[0.2222222222222222,\"#7201a8\"],[0.3333333333333333,\"#9c179e\"],[0.4444444444444444,\"#bd3786\"],[0.5555555555555556,\"#d8576b\"],[0.6666666666666666,\"#ed7953\"],[0.7777777777777778,\"#fb9f3a\"],[0.8888888888888888,\"#fdca26\"],[1.0,\"#f0f921\"]],\"type\":\"histogram2dcontour\"}],\"histogram2d\":[{\"colorbar\":{\"outlinewidth\":0,\"ticks\":\"\"},\"colorscale\":[[0.0,\"#0d0887\"],[0.1111111111111111,\"#46039f\"],[0.2222222222222222,\"#7201a8\"],[0.3333333333333333,\"#9c179e\"],[0.4444444444444444,\"#bd3786\"],[0.5555555555555556,\"#d8576b\"],[0.6666666666666666,\"#ed7953\"],[0.7777777777777778,\"#fb9f3a\"],[0.8888888888888888,\"#fdca26\"],[1.0,\"#f0f921\"]],\"type\":\"histogram2d\"}],\"histogram\":[{\"marker\":{\"pattern\":{\"fillmode\":\"overlay\",\"size\":10,\"solidity\":0.2}},\"type\":\"histogram\"}],\"mesh3d\":[{\"colorbar\":{\"outlinewidth\":0,\"ticks\":\"\"},\"type\":\"mesh3d\"}],\"parcoords\":[{\"line\":{\"colorbar\":{\"outlinewidth\":0,\"ticks\":\"\"}},\"type\":\"parcoords\"}],\"pie\":[{\"automargin\":true,\"type\":\"pie\"}],\"scatter3d\":[{\"line\":{\"colorbar\":{\"outlinewidth\":0,\"ticks\":\"\"}},\"marker\":{\"colorbar\":{\"outlinewidth\":0,\"ticks\":\"\"}},\"type\":\"scatter3d\"}],\"scattercarpet\":[{\"marker\":{\"colorbar\":{\"outlinewidth\":0,\"ticks\":\"\"}},\"type\":\"scattercarpet\"}],\"scattergeo\":[{\"marker\":{\"colorbar\":{\"outlinewidth\":0,\"ticks\":\"\"}},\"type\":\"scattergeo\"}],\"scattergl\":[{\"marker\":{\"colorbar\":{\"outlinewidth\":0,\"ticks\":\"\"}},\"type\":\"scattergl\"}],\"scattermapbox\":[{\"marker\":{\"colorbar\":{\"outlinewidth\":0,\"ticks\":\"\"}},\"type\":\"scattermapbox\"}],\"scatterpolargl\":[{\"marker\":{\"colorbar\":{\"outlinewidth\":0,\"ticks\":\"\"}},\"type\":\"scatterpolargl\"}],\"scatterpolar\":[{\"marker\":{\"colorbar\":{\"outlinewidth\":0,\"ticks\":\"\"}},\"type\":\"scatterpolar\"}],\"scatter\":[{\"fillpattern\":{\"fillmode\":\"overlay\",\"size\":10,\"solidity\":0.2},\"type\":\"scatter\"}],\"scatterternary\":[{\"marker\":{\"colorbar\":{\"outlinewidth\":0,\"ticks\":\"\"}},\"type\":\"scatterternary\"}],\"surface\":[{\"colorbar\":{\"outlinewidth\":0,\"ticks\":\"\"},\"colorscale\":[[0.0,\"#0d0887\"],[0.1111111111111111,\"#46039f\"],[0.2222222222222222,\"#7201a8\"],[0.3333333333333333,\"#9c179e\"],[0.4444444444444444,\"#bd3786\"],[0.5555555555555556,\"#d8576b\"],[0.6666666666666666,\"#ed7953\"],[0.7777777777777778,\"#fb9f3a\"],[0.8888888888888888,\"#fdca26\"],[1.0,\"#f0f921\"]],\"type\":\"surface\"}],\"table\":[{\"cells\":{\"fill\":{\"color\":\"#EBF0F8\"},\"line\":{\"color\":\"white\"}},\"header\":{\"fill\":{\"color\":\"#C8D4E3\"},\"line\":{\"color\":\"white\"}},\"type\":\"table\"}]},\"layout\":{\"annotationdefaults\":{\"arrowcolor\":\"#2a3f5f\",\"arrowhead\":0,\"arrowwidth\":1},\"autotypenumbers\":\"strict\",\"coloraxis\":{\"colorbar\":{\"outlinewidth\":0,\"ticks\":\"\"}},\"colorscale\":{\"diverging\":[[0,\"#8e0152\"],[0.1,\"#c51b7d\"],[0.2,\"#de77ae\"],[0.3,\"#f1b6da\"],[0.4,\"#fde0ef\"],[0.5,\"#f7f7f7\"],[0.6,\"#e6f5d0\"],[0.7,\"#b8e186\"],[0.8,\"#7fbc41\"],[0.9,\"#4d9221\"],[1,\"#276419\"]],\"sequential\":[[0.0,\"#0d0887\"],[0.1111111111111111,\"#46039f\"],[0.2222222222222222,\"#7201a8\"],[0.3333333333333333,\"#9c179e\"],[0.4444444444444444,\"#bd3786\"],[0.5555555555555556,\"#d8576b\"],[0.6666666666666666,\"#ed7953\"],[0.7777777777777778,\"#fb9f3a\"],[0.8888888888888888,\"#fdca26\"],[1.0,\"#f0f921\"]],\"sequentialminus\":[[0.0,\"#0d0887\"],[0.1111111111111111,\"#46039f\"],[0.2222222222222222,\"#7201a8\"],[0.3333333333333333,\"#9c179e\"],[0.4444444444444444,\"#bd3786\"],[0.5555555555555556,\"#d8576b\"],[0.6666666666666666,\"#ed7953\"],[0.7777777777777778,\"#fb9f3a\"],[0.8888888888888888,\"#fdca26\"],[1.0,\"#f0f921\"]]},\"colorway\":[\"#636efa\",\"#EF553B\",\"#00cc96\",\"#ab63fa\",\"#FFA15A\",\"#19d3f3\",\"#FF6692\",\"#B6E880\",\"#FF97FF\",\"#FECB52\"],\"font\":{\"color\":\"#2a3f5f\"},\"geo\":{\"bgcolor\":\"white\",\"lakecolor\":\"white\",\"landcolor\":\"#E5ECF6\",\"showlakes\":true,\"showland\":true,\"subunitcolor\":\"white\"},\"hoverlabel\":{\"align\":\"left\"},\"hovermode\":\"closest\",\"mapbox\":{\"style\":\"light\"},\"paper_bgcolor\":\"white\",\"plot_bgcolor\":\"#E5ECF6\",\"polar\":{\"angularaxis\":{\"gridcolor\":\"white\",\"linecolor\":\"white\",\"ticks\":\"\"},\"bgcolor\":\"#E5ECF6\",\"radialaxis\":{\"gridcolor\":\"white\",\"linecolor\":\"white\",\"ticks\":\"\"}},\"scene\":{\"xaxis\":{\"backgroundcolor\":\"#E5ECF6\",\"gridcolor\":\"white\",\"gridwidth\":2,\"linecolor\":\"white\",\"showbackground\":true,\"ticks\":\"\",\"zerolinecolor\":\"white\"},\"yaxis\":{\"backgroundcolor\":\"#E5ECF6\",\"gridcolor\":\"white\",\"gridwidth\":2,\"linecolor\":\"white\",\"showbackground\":true,\"ticks\":\"\",\"zerolinecolor\":\"white\"},\"zaxis\":{\"backgroundcolor\":\"#E5ECF6\",\"gridcolor\":\"white\",\"gridwidth\":2,\"linecolor\":\"white\",\"showbackground\":true,\"ticks\":\"\",\"zerolinecolor\":\"white\"}},\"shapedefaults\":{\"line\":{\"color\":\"#2a3f5f\"}},\"ternary\":{\"aaxis\":{\"gridcolor\":\"white\",\"linecolor\":\"white\",\"ticks\":\"\"},\"baxis\":{\"gridcolor\":\"white\",\"linecolor\":\"white\",\"ticks\":\"\"},\"bgcolor\":\"#E5ECF6\",\"caxis\":{\"gridcolor\":\"white\",\"linecolor\":\"white\",\"ticks\":\"\"}},\"title\":{\"x\":0.05},\"xaxis\":{\"automargin\":true,\"gridcolor\":\"white\",\"linecolor\":\"white\",\"ticks\":\"\",\"title\":{\"standoff\":15},\"zerolinecolor\":\"white\",\"zerolinewidth\":2},\"yaxis\":{\"automargin\":true,\"gridcolor\":\"white\",\"linecolor\":\"white\",\"ticks\":\"\",\"title\":{\"standoff\":15},\"zerolinecolor\":\"white\",\"zerolinewidth\":2}}},\"title\":{\"font\":{\"color\":\"#4D5663\"}},\"xaxis\":{\"gridcolor\":\"#E1E5ED\",\"showgrid\":true,\"tickfont\":{\"color\":\"#4D5663\"},\"title\":{\"font\":{\"color\":\"#4D5663\"},\"text\":\"\"},\"zerolinecolor\":\"#E1E5ED\"},\"yaxis\":{\"gridcolor\":\"#E1E5ED\",\"showgrid\":true,\"tickfont\":{\"color\":\"#4D5663\"},\"title\":{\"font\":{\"color\":\"#4D5663\"},\"text\":\"\"},\"zerolinecolor\":\"#E1E5ED\"}},                        {\"showLink\": true, \"linkText\": \"Export to plot.ly\", \"plotlyServerURL\": \"https://plot.ly\", \"responsive\": true}                    ).then(function(){\n",
       "                            \n",
       "var gd = document.getElementById('4156bdeb-a747-4135-a056-05983e56325b');\n",
       "var x = new MutationObserver(function (mutations, observer) {{\n",
       "        var display = window.getComputedStyle(gd).display;\n",
       "        if (!display || display === 'none') {{\n",
       "            console.log([gd, 'removed!']);\n",
       "            Plotly.purge(gd);\n",
       "            observer.disconnect();\n",
       "        }}\n",
       "}});\n",
       "\n",
       "// Listen for the removal of the full notebook cells\n",
       "var notebookContainer = gd.closest('#notebook-container');\n",
       "if (notebookContainer) {{\n",
       "    x.observe(notebookContainer, {childList: true});\n",
       "}}\n",
       "\n",
       "// Listen for the clearing of the current output cell\n",
       "var outputEl = gd.closest('.output');\n",
       "if (outputEl) {{\n",
       "    x.observe(outputEl, {childList: true});\n",
       "}}\n",
       "\n",
       "                        })                };                });            </script>        </div>"
      ]
     },
     "metadata": {},
     "output_type": "display_data"
    }
   ],
   "source": [
    "df3 = pd.DataFrame({'x':[1,2,3,4,5],'y':[10,20,30,20,10],'z':[5,4,3,2,1]})\n",
    "df3.iplot(kind='surface',colorscale='rdylbu')"
   ]
  },
  {
   "cell_type": "markdown",
   "metadata": {},
   "source": [
    "## histogram"
   ]
  },
  {
   "cell_type": "code",
   "execution_count": 15,
   "metadata": {},
   "outputs": [
    {
     "data": {
      "application/vnd.plotly.v1+json": {
       "config": {
        "linkText": "Export to plot.ly",
        "plotlyServerURL": "https://plot.ly",
        "showLink": true
       },
       "data": [
        {
         "histfunc": "count",
         "histnorm": "",
         "marker": {
          "color": "rgba(255, 153, 51, 1.0)",
          "line": {
           "color": "#4D5663",
           "width": 1.3
          }
         },
         "name": "A",
         "nbinsx": 25,
         "opacity": 0.8,
         "orientation": "v",
         "type": "histogram",
         "x": [
          -0.5019262604718252,
          1.3406574372295323,
          -0.14453389308463846,
          0.040956373720975554,
          0.7274751665220139,
          0.02772203928139414,
          -0.2627967982077833,
          -0.6445792859574564,
          -0.12440658548148807,
          -1.4195717936405616,
          -0.5881620964690552,
          0.1968941489793469,
          0.24836115152992447,
          1.1906853329299731,
          -0.20731260889632006,
          0.04751918853287542,
          1.714309247596637,
          -0.2014585421239541,
          -0.706546818966052,
          -1.2789820090973136,
          -0.29087411730222307,
          0.30696147278145924,
          0.6542094312601774,
          0.6346490022624198,
          -1.453964470447946,
          -0.2562556030355115,
          -0.13399741602615234,
          1.043664761096363,
          1.5362170449236299,
          -1.139822665761981,
          -1.3081191119064488,
          0.3022549378458871,
          1.3730961762014156,
          0.5088024651071592,
          -0.8464243671405703,
          -1.2011957891288758,
          1.160341198796026,
          0.027689159510517817,
          1.3797848021879668,
          -0.11870973173703767,
          0.7548654583979592,
          0.6673776766556359,
          -0.1416767698425056,
          -1.3702526577901337,
          -0.22733380869451456,
          -0.3860545857839438,
          -0.4746494033140237,
          -1.4423873780835887,
          -0.5232558519147569,
          0.9923567002966976,
          -1.3367993456448217,
          0.35964321503622887,
          -0.8508495574838864,
          0.883592769966994,
          -0.6246517499576894,
          0.27989103186935305,
          0.6131371580496763,
          0.3216230855728305,
          0.28464155507737726,
          1.44503447655136,
          -0.27721413247491106,
          -1.4087811922820848,
          -0.33100038597981374,
          -0.7676458148982221,
          -0.9068197369866156,
          -0.4064278014938917,
          0.4841752803205062,
          -1.7939182078675981,
          0.645534754730688,
          -0.8546984857726455,
          -2.5751222033503276,
          -1.5496209941435157,
          -1.845264470705639,
          -1.7955574080362404,
          -1.0990447387369575,
          -0.02806115476210823,
          -0.09459203941178367,
          -0.8775873145390063,
          -4.121990228815462,
          -1.4352429415503278,
          -0.9688499652094146,
          -1.5041241800369083,
          -1.7357005143943813,
          -0.4502043873141606,
          -0.8411556452989516,
          -0.017478105167135518,
          -0.4047434754669365,
          -0.46049951646255516,
          -1.7239509268452278,
          -2.077507197691761,
          0.18656533416519658,
          0.05483152572246387,
          -1.1988250504309492,
          -0.6769503724014974,
          -0.07033222410676333,
          1.8214626735961084,
          0.48073894868276373,
          -1.028001117338976,
          -0.03736194677178664,
          -0.1613022757355416
         ]
        }
       ],
       "layout": {
        "barmode": "overlay",
        "legend": {
         "bgcolor": "#F5F6F9",
         "font": {
          "color": "#4D5663"
         }
        },
        "paper_bgcolor": "#F5F6F9",
        "plot_bgcolor": "#F5F6F9",
        "template": {
         "data": {
          "bar": [
           {
            "error_x": {
             "color": "#2a3f5f"
            },
            "error_y": {
             "color": "#2a3f5f"
            },
            "marker": {
             "line": {
              "color": "#E5ECF6",
              "width": 0.5
             },
             "pattern": {
              "fillmode": "overlay",
              "size": 10,
              "solidity": 0.2
             }
            },
            "type": "bar"
           }
          ],
          "barpolar": [
           {
            "marker": {
             "line": {
              "color": "#E5ECF6",
              "width": 0.5
             },
             "pattern": {
              "fillmode": "overlay",
              "size": 10,
              "solidity": 0.2
             }
            },
            "type": "barpolar"
           }
          ],
          "carpet": [
           {
            "aaxis": {
             "endlinecolor": "#2a3f5f",
             "gridcolor": "white",
             "linecolor": "white",
             "minorgridcolor": "white",
             "startlinecolor": "#2a3f5f"
            },
            "baxis": {
             "endlinecolor": "#2a3f5f",
             "gridcolor": "white",
             "linecolor": "white",
             "minorgridcolor": "white",
             "startlinecolor": "#2a3f5f"
            },
            "type": "carpet"
           }
          ],
          "choropleth": [
           {
            "colorbar": {
             "outlinewidth": 0,
             "ticks": ""
            },
            "type": "choropleth"
           }
          ],
          "contour": [
           {
            "colorbar": {
             "outlinewidth": 0,
             "ticks": ""
            },
            "colorscale": [
             [
              0,
              "#0d0887"
             ],
             [
              0.1111111111111111,
              "#46039f"
             ],
             [
              0.2222222222222222,
              "#7201a8"
             ],
             [
              0.3333333333333333,
              "#9c179e"
             ],
             [
              0.4444444444444444,
              "#bd3786"
             ],
             [
              0.5555555555555556,
              "#d8576b"
             ],
             [
              0.6666666666666666,
              "#ed7953"
             ],
             [
              0.7777777777777778,
              "#fb9f3a"
             ],
             [
              0.8888888888888888,
              "#fdca26"
             ],
             [
              1,
              "#f0f921"
             ]
            ],
            "type": "contour"
           }
          ],
          "contourcarpet": [
           {
            "colorbar": {
             "outlinewidth": 0,
             "ticks": ""
            },
            "type": "contourcarpet"
           }
          ],
          "heatmap": [
           {
            "colorbar": {
             "outlinewidth": 0,
             "ticks": ""
            },
            "colorscale": [
             [
              0,
              "#0d0887"
             ],
             [
              0.1111111111111111,
              "#46039f"
             ],
             [
              0.2222222222222222,
              "#7201a8"
             ],
             [
              0.3333333333333333,
              "#9c179e"
             ],
             [
              0.4444444444444444,
              "#bd3786"
             ],
             [
              0.5555555555555556,
              "#d8576b"
             ],
             [
              0.6666666666666666,
              "#ed7953"
             ],
             [
              0.7777777777777778,
              "#fb9f3a"
             ],
             [
              0.8888888888888888,
              "#fdca26"
             ],
             [
              1,
              "#f0f921"
             ]
            ],
            "type": "heatmap"
           }
          ],
          "heatmapgl": [
           {
            "colorbar": {
             "outlinewidth": 0,
             "ticks": ""
            },
            "colorscale": [
             [
              0,
              "#0d0887"
             ],
             [
              0.1111111111111111,
              "#46039f"
             ],
             [
              0.2222222222222222,
              "#7201a8"
             ],
             [
              0.3333333333333333,
              "#9c179e"
             ],
             [
              0.4444444444444444,
              "#bd3786"
             ],
             [
              0.5555555555555556,
              "#d8576b"
             ],
             [
              0.6666666666666666,
              "#ed7953"
             ],
             [
              0.7777777777777778,
              "#fb9f3a"
             ],
             [
              0.8888888888888888,
              "#fdca26"
             ],
             [
              1,
              "#f0f921"
             ]
            ],
            "type": "heatmapgl"
           }
          ],
          "histogram": [
           {
            "marker": {
             "pattern": {
              "fillmode": "overlay",
              "size": 10,
              "solidity": 0.2
             }
            },
            "type": "histogram"
           }
          ],
          "histogram2d": [
           {
            "colorbar": {
             "outlinewidth": 0,
             "ticks": ""
            },
            "colorscale": [
             [
              0,
              "#0d0887"
             ],
             [
              0.1111111111111111,
              "#46039f"
             ],
             [
              0.2222222222222222,
              "#7201a8"
             ],
             [
              0.3333333333333333,
              "#9c179e"
             ],
             [
              0.4444444444444444,
              "#bd3786"
             ],
             [
              0.5555555555555556,
              "#d8576b"
             ],
             [
              0.6666666666666666,
              "#ed7953"
             ],
             [
              0.7777777777777778,
              "#fb9f3a"
             ],
             [
              0.8888888888888888,
              "#fdca26"
             ],
             [
              1,
              "#f0f921"
             ]
            ],
            "type": "histogram2d"
           }
          ],
          "histogram2dcontour": [
           {
            "colorbar": {
             "outlinewidth": 0,
             "ticks": ""
            },
            "colorscale": [
             [
              0,
              "#0d0887"
             ],
             [
              0.1111111111111111,
              "#46039f"
             ],
             [
              0.2222222222222222,
              "#7201a8"
             ],
             [
              0.3333333333333333,
              "#9c179e"
             ],
             [
              0.4444444444444444,
              "#bd3786"
             ],
             [
              0.5555555555555556,
              "#d8576b"
             ],
             [
              0.6666666666666666,
              "#ed7953"
             ],
             [
              0.7777777777777778,
              "#fb9f3a"
             ],
             [
              0.8888888888888888,
              "#fdca26"
             ],
             [
              1,
              "#f0f921"
             ]
            ],
            "type": "histogram2dcontour"
           }
          ],
          "mesh3d": [
           {
            "colorbar": {
             "outlinewidth": 0,
             "ticks": ""
            },
            "type": "mesh3d"
           }
          ],
          "parcoords": [
           {
            "line": {
             "colorbar": {
              "outlinewidth": 0,
              "ticks": ""
             }
            },
            "type": "parcoords"
           }
          ],
          "pie": [
           {
            "automargin": true,
            "type": "pie"
           }
          ],
          "scatter": [
           {
            "fillpattern": {
             "fillmode": "overlay",
             "size": 10,
             "solidity": 0.2
            },
            "type": "scatter"
           }
          ],
          "scatter3d": [
           {
            "line": {
             "colorbar": {
              "outlinewidth": 0,
              "ticks": ""
             }
            },
            "marker": {
             "colorbar": {
              "outlinewidth": 0,
              "ticks": ""
             }
            },
            "type": "scatter3d"
           }
          ],
          "scattercarpet": [
           {
            "marker": {
             "colorbar": {
              "outlinewidth": 0,
              "ticks": ""
             }
            },
            "type": "scattercarpet"
           }
          ],
          "scattergeo": [
           {
            "marker": {
             "colorbar": {
              "outlinewidth": 0,
              "ticks": ""
             }
            },
            "type": "scattergeo"
           }
          ],
          "scattergl": [
           {
            "marker": {
             "colorbar": {
              "outlinewidth": 0,
              "ticks": ""
             }
            },
            "type": "scattergl"
           }
          ],
          "scattermapbox": [
           {
            "marker": {
             "colorbar": {
              "outlinewidth": 0,
              "ticks": ""
             }
            },
            "type": "scattermapbox"
           }
          ],
          "scatterpolar": [
           {
            "marker": {
             "colorbar": {
              "outlinewidth": 0,
              "ticks": ""
             }
            },
            "type": "scatterpolar"
           }
          ],
          "scatterpolargl": [
           {
            "marker": {
             "colorbar": {
              "outlinewidth": 0,
              "ticks": ""
             }
            },
            "type": "scatterpolargl"
           }
          ],
          "scatterternary": [
           {
            "marker": {
             "colorbar": {
              "outlinewidth": 0,
              "ticks": ""
             }
            },
            "type": "scatterternary"
           }
          ],
          "surface": [
           {
            "colorbar": {
             "outlinewidth": 0,
             "ticks": ""
            },
            "colorscale": [
             [
              0,
              "#0d0887"
             ],
             [
              0.1111111111111111,
              "#46039f"
             ],
             [
              0.2222222222222222,
              "#7201a8"
             ],
             [
              0.3333333333333333,
              "#9c179e"
             ],
             [
              0.4444444444444444,
              "#bd3786"
             ],
             [
              0.5555555555555556,
              "#d8576b"
             ],
             [
              0.6666666666666666,
              "#ed7953"
             ],
             [
              0.7777777777777778,
              "#fb9f3a"
             ],
             [
              0.8888888888888888,
              "#fdca26"
             ],
             [
              1,
              "#f0f921"
             ]
            ],
            "type": "surface"
           }
          ],
          "table": [
           {
            "cells": {
             "fill": {
              "color": "#EBF0F8"
             },
             "line": {
              "color": "white"
             }
            },
            "header": {
             "fill": {
              "color": "#C8D4E3"
             },
             "line": {
              "color": "white"
             }
            },
            "type": "table"
           }
          ]
         },
         "layout": {
          "annotationdefaults": {
           "arrowcolor": "#2a3f5f",
           "arrowhead": 0,
           "arrowwidth": 1
          },
          "autotypenumbers": "strict",
          "coloraxis": {
           "colorbar": {
            "outlinewidth": 0,
            "ticks": ""
           }
          },
          "colorscale": {
           "diverging": [
            [
             0,
             "#8e0152"
            ],
            [
             0.1,
             "#c51b7d"
            ],
            [
             0.2,
             "#de77ae"
            ],
            [
             0.3,
             "#f1b6da"
            ],
            [
             0.4,
             "#fde0ef"
            ],
            [
             0.5,
             "#f7f7f7"
            ],
            [
             0.6,
             "#e6f5d0"
            ],
            [
             0.7,
             "#b8e186"
            ],
            [
             0.8,
             "#7fbc41"
            ],
            [
             0.9,
             "#4d9221"
            ],
            [
             1,
             "#276419"
            ]
           ],
           "sequential": [
            [
             0,
             "#0d0887"
            ],
            [
             0.1111111111111111,
             "#46039f"
            ],
            [
             0.2222222222222222,
             "#7201a8"
            ],
            [
             0.3333333333333333,
             "#9c179e"
            ],
            [
             0.4444444444444444,
             "#bd3786"
            ],
            [
             0.5555555555555556,
             "#d8576b"
            ],
            [
             0.6666666666666666,
             "#ed7953"
            ],
            [
             0.7777777777777778,
             "#fb9f3a"
            ],
            [
             0.8888888888888888,
             "#fdca26"
            ],
            [
             1,
             "#f0f921"
            ]
           ],
           "sequentialminus": [
            [
             0,
             "#0d0887"
            ],
            [
             0.1111111111111111,
             "#46039f"
            ],
            [
             0.2222222222222222,
             "#7201a8"
            ],
            [
             0.3333333333333333,
             "#9c179e"
            ],
            [
             0.4444444444444444,
             "#bd3786"
            ],
            [
             0.5555555555555556,
             "#d8576b"
            ],
            [
             0.6666666666666666,
             "#ed7953"
            ],
            [
             0.7777777777777778,
             "#fb9f3a"
            ],
            [
             0.8888888888888888,
             "#fdca26"
            ],
            [
             1,
             "#f0f921"
            ]
           ]
          },
          "colorway": [
           "#636efa",
           "#EF553B",
           "#00cc96",
           "#ab63fa",
           "#FFA15A",
           "#19d3f3",
           "#FF6692",
           "#B6E880",
           "#FF97FF",
           "#FECB52"
          ],
          "font": {
           "color": "#2a3f5f"
          },
          "geo": {
           "bgcolor": "white",
           "lakecolor": "white",
           "landcolor": "#E5ECF6",
           "showlakes": true,
           "showland": true,
           "subunitcolor": "white"
          },
          "hoverlabel": {
           "align": "left"
          },
          "hovermode": "closest",
          "mapbox": {
           "style": "light"
          },
          "paper_bgcolor": "white",
          "plot_bgcolor": "#E5ECF6",
          "polar": {
           "angularaxis": {
            "gridcolor": "white",
            "linecolor": "white",
            "ticks": ""
           },
           "bgcolor": "#E5ECF6",
           "radialaxis": {
            "gridcolor": "white",
            "linecolor": "white",
            "ticks": ""
           }
          },
          "scene": {
           "xaxis": {
            "backgroundcolor": "#E5ECF6",
            "gridcolor": "white",
            "gridwidth": 2,
            "linecolor": "white",
            "showbackground": true,
            "ticks": "",
            "zerolinecolor": "white"
           },
           "yaxis": {
            "backgroundcolor": "#E5ECF6",
            "gridcolor": "white",
            "gridwidth": 2,
            "linecolor": "white",
            "showbackground": true,
            "ticks": "",
            "zerolinecolor": "white"
           },
           "zaxis": {
            "backgroundcolor": "#E5ECF6",
            "gridcolor": "white",
            "gridwidth": 2,
            "linecolor": "white",
            "showbackground": true,
            "ticks": "",
            "zerolinecolor": "white"
           }
          },
          "shapedefaults": {
           "line": {
            "color": "#2a3f5f"
           }
          },
          "ternary": {
           "aaxis": {
            "gridcolor": "white",
            "linecolor": "white",
            "ticks": ""
           },
           "baxis": {
            "gridcolor": "white",
            "linecolor": "white",
            "ticks": ""
           },
           "bgcolor": "#E5ECF6",
           "caxis": {
            "gridcolor": "white",
            "linecolor": "white",
            "ticks": ""
           }
          },
          "title": {
           "x": 0.05
          },
          "xaxis": {
           "automargin": true,
           "gridcolor": "white",
           "linecolor": "white",
           "ticks": "",
           "title": {
            "standoff": 15
           },
           "zerolinecolor": "white",
           "zerolinewidth": 2
          },
          "yaxis": {
           "automargin": true,
           "gridcolor": "white",
           "linecolor": "white",
           "ticks": "",
           "title": {
            "standoff": 15
           },
           "zerolinecolor": "white",
           "zerolinewidth": 2
          }
         }
        },
        "title": {
         "font": {
          "color": "#4D5663"
         }
        },
        "xaxis": {
         "gridcolor": "#E1E5ED",
         "showgrid": true,
         "tickfont": {
          "color": "#4D5663"
         },
         "title": {
          "font": {
           "color": "#4D5663"
          },
          "text": ""
         },
         "zerolinecolor": "#E1E5ED"
        },
        "yaxis": {
         "gridcolor": "#E1E5ED",
         "showgrid": true,
         "tickfont": {
          "color": "#4D5663"
         },
         "title": {
          "font": {
           "color": "#4D5663"
          },
          "text": ""
         },
         "zerolinecolor": "#E1E5ED"
        }
       }
      },
      "text/html": [
       "<div>                            <div id=\"481e18e1-fe4b-4a00-b9c8-9a6bfa4c3f9a\" class=\"plotly-graph-div\" style=\"height:525px; width:100%;\"></div>            <script type=\"text/javascript\">                require([\"plotly\"], function(Plotly) {                    window.PLOTLYENV=window.PLOTLYENV || {};\n",
       "                    window.PLOTLYENV.BASE_URL='https://plot.ly';                                    if (document.getElementById(\"481e18e1-fe4b-4a00-b9c8-9a6bfa4c3f9a\")) {                    Plotly.newPlot(                        \"481e18e1-fe4b-4a00-b9c8-9a6bfa4c3f9a\",                        [{\"histfunc\":\"count\",\"histnorm\":\"\",\"marker\":{\"color\":\"rgba(255, 153, 51, 1.0)\",\"line\":{\"color\":\"#4D5663\",\"width\":1.3}},\"name\":\"A\",\"nbinsx\":25,\"opacity\":0.8,\"orientation\":\"v\",\"x\":[-0.5019262604718252,1.3406574372295323,-0.14453389308463846,0.040956373720975554,0.7274751665220139,0.02772203928139414,-0.2627967982077833,-0.6445792859574564,-0.12440658548148807,-1.4195717936405616,-0.5881620964690552,0.1968941489793469,0.24836115152992447,1.1906853329299731,-0.20731260889632006,0.04751918853287542,1.714309247596637,-0.2014585421239541,-0.706546818966052,-1.2789820090973136,-0.29087411730222307,0.30696147278145924,0.6542094312601774,0.6346490022624198,-1.453964470447946,-0.2562556030355115,-0.13399741602615234,1.043664761096363,1.5362170449236299,-1.139822665761981,-1.3081191119064488,0.3022549378458871,1.3730961762014156,0.5088024651071592,-0.8464243671405703,-1.2011957891288758,1.160341198796026,0.027689159510517817,1.3797848021879668,-0.11870973173703767,0.7548654583979592,0.6673776766556359,-0.1416767698425056,-1.3702526577901337,-0.22733380869451456,-0.3860545857839438,-0.4746494033140237,-1.4423873780835887,-0.5232558519147569,0.9923567002966976,-1.3367993456448217,0.35964321503622887,-0.8508495574838864,0.883592769966994,-0.6246517499576894,0.27989103186935305,0.6131371580496763,0.3216230855728305,0.28464155507737726,1.44503447655136,-0.27721413247491106,-1.4087811922820848,-0.33100038597981374,-0.7676458148982221,-0.9068197369866156,-0.4064278014938917,0.4841752803205062,-1.7939182078675981,0.645534754730688,-0.8546984857726455,-2.5751222033503276,-1.5496209941435157,-1.845264470705639,-1.7955574080362404,-1.0990447387369575,-0.02806115476210823,-0.09459203941178367,-0.8775873145390063,-4.121990228815462,-1.4352429415503278,-0.9688499652094146,-1.5041241800369083,-1.7357005143943813,-0.4502043873141606,-0.8411556452989516,-0.017478105167135518,-0.4047434754669365,-0.46049951646255516,-1.7239509268452278,-2.077507197691761,0.18656533416519658,0.05483152572246387,-1.1988250504309492,-0.6769503724014974,-0.07033222410676333,1.8214626735961084,0.48073894868276373,-1.028001117338976,-0.03736194677178664,-0.1613022757355416],\"type\":\"histogram\"}],                        {\"barmode\":\"overlay\",\"legend\":{\"bgcolor\":\"#F5F6F9\",\"font\":{\"color\":\"#4D5663\"}},\"paper_bgcolor\":\"#F5F6F9\",\"plot_bgcolor\":\"#F5F6F9\",\"template\":{\"data\":{\"barpolar\":[{\"marker\":{\"line\":{\"color\":\"#E5ECF6\",\"width\":0.5},\"pattern\":{\"fillmode\":\"overlay\",\"size\":10,\"solidity\":0.2}},\"type\":\"barpolar\"}],\"bar\":[{\"error_x\":{\"color\":\"#2a3f5f\"},\"error_y\":{\"color\":\"#2a3f5f\"},\"marker\":{\"line\":{\"color\":\"#E5ECF6\",\"width\":0.5},\"pattern\":{\"fillmode\":\"overlay\",\"size\":10,\"solidity\":0.2}},\"type\":\"bar\"}],\"carpet\":[{\"aaxis\":{\"endlinecolor\":\"#2a3f5f\",\"gridcolor\":\"white\",\"linecolor\":\"white\",\"minorgridcolor\":\"white\",\"startlinecolor\":\"#2a3f5f\"},\"baxis\":{\"endlinecolor\":\"#2a3f5f\",\"gridcolor\":\"white\",\"linecolor\":\"white\",\"minorgridcolor\":\"white\",\"startlinecolor\":\"#2a3f5f\"},\"type\":\"carpet\"}],\"choropleth\":[{\"colorbar\":{\"outlinewidth\":0,\"ticks\":\"\"},\"type\":\"choropleth\"}],\"contourcarpet\":[{\"colorbar\":{\"outlinewidth\":0,\"ticks\":\"\"},\"type\":\"contourcarpet\"}],\"contour\":[{\"colorbar\":{\"outlinewidth\":0,\"ticks\":\"\"},\"colorscale\":[[0.0,\"#0d0887\"],[0.1111111111111111,\"#46039f\"],[0.2222222222222222,\"#7201a8\"],[0.3333333333333333,\"#9c179e\"],[0.4444444444444444,\"#bd3786\"],[0.5555555555555556,\"#d8576b\"],[0.6666666666666666,\"#ed7953\"],[0.7777777777777778,\"#fb9f3a\"],[0.8888888888888888,\"#fdca26\"],[1.0,\"#f0f921\"]],\"type\":\"contour\"}],\"heatmapgl\":[{\"colorbar\":{\"outlinewidth\":0,\"ticks\":\"\"},\"colorscale\":[[0.0,\"#0d0887\"],[0.1111111111111111,\"#46039f\"],[0.2222222222222222,\"#7201a8\"],[0.3333333333333333,\"#9c179e\"],[0.4444444444444444,\"#bd3786\"],[0.5555555555555556,\"#d8576b\"],[0.6666666666666666,\"#ed7953\"],[0.7777777777777778,\"#fb9f3a\"],[0.8888888888888888,\"#fdca26\"],[1.0,\"#f0f921\"]],\"type\":\"heatmapgl\"}],\"heatmap\":[{\"colorbar\":{\"outlinewidth\":0,\"ticks\":\"\"},\"colorscale\":[[0.0,\"#0d0887\"],[0.1111111111111111,\"#46039f\"],[0.2222222222222222,\"#7201a8\"],[0.3333333333333333,\"#9c179e\"],[0.4444444444444444,\"#bd3786\"],[0.5555555555555556,\"#d8576b\"],[0.6666666666666666,\"#ed7953\"],[0.7777777777777778,\"#fb9f3a\"],[0.8888888888888888,\"#fdca26\"],[1.0,\"#f0f921\"]],\"type\":\"heatmap\"}],\"histogram2dcontour\":[{\"colorbar\":{\"outlinewidth\":0,\"ticks\":\"\"},\"colorscale\":[[0.0,\"#0d0887\"],[0.1111111111111111,\"#46039f\"],[0.2222222222222222,\"#7201a8\"],[0.3333333333333333,\"#9c179e\"],[0.4444444444444444,\"#bd3786\"],[0.5555555555555556,\"#d8576b\"],[0.6666666666666666,\"#ed7953\"],[0.7777777777777778,\"#fb9f3a\"],[0.8888888888888888,\"#fdca26\"],[1.0,\"#f0f921\"]],\"type\":\"histogram2dcontour\"}],\"histogram2d\":[{\"colorbar\":{\"outlinewidth\":0,\"ticks\":\"\"},\"colorscale\":[[0.0,\"#0d0887\"],[0.1111111111111111,\"#46039f\"],[0.2222222222222222,\"#7201a8\"],[0.3333333333333333,\"#9c179e\"],[0.4444444444444444,\"#bd3786\"],[0.5555555555555556,\"#d8576b\"],[0.6666666666666666,\"#ed7953\"],[0.7777777777777778,\"#fb9f3a\"],[0.8888888888888888,\"#fdca26\"],[1.0,\"#f0f921\"]],\"type\":\"histogram2d\"}],\"histogram\":[{\"marker\":{\"pattern\":{\"fillmode\":\"overlay\",\"size\":10,\"solidity\":0.2}},\"type\":\"histogram\"}],\"mesh3d\":[{\"colorbar\":{\"outlinewidth\":0,\"ticks\":\"\"},\"type\":\"mesh3d\"}],\"parcoords\":[{\"line\":{\"colorbar\":{\"outlinewidth\":0,\"ticks\":\"\"}},\"type\":\"parcoords\"}],\"pie\":[{\"automargin\":true,\"type\":\"pie\"}],\"scatter3d\":[{\"line\":{\"colorbar\":{\"outlinewidth\":0,\"ticks\":\"\"}},\"marker\":{\"colorbar\":{\"outlinewidth\":0,\"ticks\":\"\"}},\"type\":\"scatter3d\"}],\"scattercarpet\":[{\"marker\":{\"colorbar\":{\"outlinewidth\":0,\"ticks\":\"\"}},\"type\":\"scattercarpet\"}],\"scattergeo\":[{\"marker\":{\"colorbar\":{\"outlinewidth\":0,\"ticks\":\"\"}},\"type\":\"scattergeo\"}],\"scattergl\":[{\"marker\":{\"colorbar\":{\"outlinewidth\":0,\"ticks\":\"\"}},\"type\":\"scattergl\"}],\"scattermapbox\":[{\"marker\":{\"colorbar\":{\"outlinewidth\":0,\"ticks\":\"\"}},\"type\":\"scattermapbox\"}],\"scatterpolargl\":[{\"marker\":{\"colorbar\":{\"outlinewidth\":0,\"ticks\":\"\"}},\"type\":\"scatterpolargl\"}],\"scatterpolar\":[{\"marker\":{\"colorbar\":{\"outlinewidth\":0,\"ticks\":\"\"}},\"type\":\"scatterpolar\"}],\"scatter\":[{\"fillpattern\":{\"fillmode\":\"overlay\",\"size\":10,\"solidity\":0.2},\"type\":\"scatter\"}],\"scatterternary\":[{\"marker\":{\"colorbar\":{\"outlinewidth\":0,\"ticks\":\"\"}},\"type\":\"scatterternary\"}],\"surface\":[{\"colorbar\":{\"outlinewidth\":0,\"ticks\":\"\"},\"colorscale\":[[0.0,\"#0d0887\"],[0.1111111111111111,\"#46039f\"],[0.2222222222222222,\"#7201a8\"],[0.3333333333333333,\"#9c179e\"],[0.4444444444444444,\"#bd3786\"],[0.5555555555555556,\"#d8576b\"],[0.6666666666666666,\"#ed7953\"],[0.7777777777777778,\"#fb9f3a\"],[0.8888888888888888,\"#fdca26\"],[1.0,\"#f0f921\"]],\"type\":\"surface\"}],\"table\":[{\"cells\":{\"fill\":{\"color\":\"#EBF0F8\"},\"line\":{\"color\":\"white\"}},\"header\":{\"fill\":{\"color\":\"#C8D4E3\"},\"line\":{\"color\":\"white\"}},\"type\":\"table\"}]},\"layout\":{\"annotationdefaults\":{\"arrowcolor\":\"#2a3f5f\",\"arrowhead\":0,\"arrowwidth\":1},\"autotypenumbers\":\"strict\",\"coloraxis\":{\"colorbar\":{\"outlinewidth\":0,\"ticks\":\"\"}},\"colorscale\":{\"diverging\":[[0,\"#8e0152\"],[0.1,\"#c51b7d\"],[0.2,\"#de77ae\"],[0.3,\"#f1b6da\"],[0.4,\"#fde0ef\"],[0.5,\"#f7f7f7\"],[0.6,\"#e6f5d0\"],[0.7,\"#b8e186\"],[0.8,\"#7fbc41\"],[0.9,\"#4d9221\"],[1,\"#276419\"]],\"sequential\":[[0.0,\"#0d0887\"],[0.1111111111111111,\"#46039f\"],[0.2222222222222222,\"#7201a8\"],[0.3333333333333333,\"#9c179e\"],[0.4444444444444444,\"#bd3786\"],[0.5555555555555556,\"#d8576b\"],[0.6666666666666666,\"#ed7953\"],[0.7777777777777778,\"#fb9f3a\"],[0.8888888888888888,\"#fdca26\"],[1.0,\"#f0f921\"]],\"sequentialminus\":[[0.0,\"#0d0887\"],[0.1111111111111111,\"#46039f\"],[0.2222222222222222,\"#7201a8\"],[0.3333333333333333,\"#9c179e\"],[0.4444444444444444,\"#bd3786\"],[0.5555555555555556,\"#d8576b\"],[0.6666666666666666,\"#ed7953\"],[0.7777777777777778,\"#fb9f3a\"],[0.8888888888888888,\"#fdca26\"],[1.0,\"#f0f921\"]]},\"colorway\":[\"#636efa\",\"#EF553B\",\"#00cc96\",\"#ab63fa\",\"#FFA15A\",\"#19d3f3\",\"#FF6692\",\"#B6E880\",\"#FF97FF\",\"#FECB52\"],\"font\":{\"color\":\"#2a3f5f\"},\"geo\":{\"bgcolor\":\"white\",\"lakecolor\":\"white\",\"landcolor\":\"#E5ECF6\",\"showlakes\":true,\"showland\":true,\"subunitcolor\":\"white\"},\"hoverlabel\":{\"align\":\"left\"},\"hovermode\":\"closest\",\"mapbox\":{\"style\":\"light\"},\"paper_bgcolor\":\"white\",\"plot_bgcolor\":\"#E5ECF6\",\"polar\":{\"angularaxis\":{\"gridcolor\":\"white\",\"linecolor\":\"white\",\"ticks\":\"\"},\"bgcolor\":\"#E5ECF6\",\"radialaxis\":{\"gridcolor\":\"white\",\"linecolor\":\"white\",\"ticks\":\"\"}},\"scene\":{\"xaxis\":{\"backgroundcolor\":\"#E5ECF6\",\"gridcolor\":\"white\",\"gridwidth\":2,\"linecolor\":\"white\",\"showbackground\":true,\"ticks\":\"\",\"zerolinecolor\":\"white\"},\"yaxis\":{\"backgroundcolor\":\"#E5ECF6\",\"gridcolor\":\"white\",\"gridwidth\":2,\"linecolor\":\"white\",\"showbackground\":true,\"ticks\":\"\",\"zerolinecolor\":\"white\"},\"zaxis\":{\"backgroundcolor\":\"#E5ECF6\",\"gridcolor\":\"white\",\"gridwidth\":2,\"linecolor\":\"white\",\"showbackground\":true,\"ticks\":\"\",\"zerolinecolor\":\"white\"}},\"shapedefaults\":{\"line\":{\"color\":\"#2a3f5f\"}},\"ternary\":{\"aaxis\":{\"gridcolor\":\"white\",\"linecolor\":\"white\",\"ticks\":\"\"},\"baxis\":{\"gridcolor\":\"white\",\"linecolor\":\"white\",\"ticks\":\"\"},\"bgcolor\":\"#E5ECF6\",\"caxis\":{\"gridcolor\":\"white\",\"linecolor\":\"white\",\"ticks\":\"\"}},\"title\":{\"x\":0.05},\"xaxis\":{\"automargin\":true,\"gridcolor\":\"white\",\"linecolor\":\"white\",\"ticks\":\"\",\"title\":{\"standoff\":15},\"zerolinecolor\":\"white\",\"zerolinewidth\":2},\"yaxis\":{\"automargin\":true,\"gridcolor\":\"white\",\"linecolor\":\"white\",\"ticks\":\"\",\"title\":{\"standoff\":15},\"zerolinecolor\":\"white\",\"zerolinewidth\":2}}},\"title\":{\"font\":{\"color\":\"#4D5663\"}},\"xaxis\":{\"gridcolor\":\"#E1E5ED\",\"showgrid\":true,\"tickfont\":{\"color\":\"#4D5663\"},\"title\":{\"font\":{\"color\":\"#4D5663\"},\"text\":\"\"},\"zerolinecolor\":\"#E1E5ED\"},\"yaxis\":{\"gridcolor\":\"#E1E5ED\",\"showgrid\":true,\"tickfont\":{\"color\":\"#4D5663\"},\"title\":{\"font\":{\"color\":\"#4D5663\"},\"text\":\"\"},\"zerolinecolor\":\"#E1E5ED\"}},                        {\"showLink\": true, \"linkText\": \"Export to plot.ly\", \"plotlyServerURL\": \"https://plot.ly\", \"responsive\": true}                    ).then(function(){\n",
       "                            \n",
       "var gd = document.getElementById('481e18e1-fe4b-4a00-b9c8-9a6bfa4c3f9a');\n",
       "var x = new MutationObserver(function (mutations, observer) {{\n",
       "        var display = window.getComputedStyle(gd).display;\n",
       "        if (!display || display === 'none') {{\n",
       "            console.log([gd, 'removed!']);\n",
       "            Plotly.purge(gd);\n",
       "            observer.disconnect();\n",
       "        }}\n",
       "}});\n",
       "\n",
       "// Listen for the removal of the full notebook cells\n",
       "var notebookContainer = gd.closest('#notebook-container');\n",
       "if (notebookContainer) {{\n",
       "    x.observe(notebookContainer, {childList: true});\n",
       "}}\n",
       "\n",
       "// Listen for the clearing of the current output cell\n",
       "var outputEl = gd.closest('.output');\n",
       "if (outputEl) {{\n",
       "    x.observe(outputEl, {childList: true});\n",
       "}}\n",
       "\n",
       "                        })                };                });            </script>        </div>"
      ]
     },
     "metadata": {},
     "output_type": "display_data"
    }
   ],
   "source": [
    "df['A'].iplot(kind='hist',bins=25)"
   ]
  },
  {
   "cell_type": "code",
   "execution_count": 16,
   "metadata": {},
   "outputs": [
    {
     "data": {
      "application/vnd.plotly.v1+json": {
       "config": {
        "linkText": "Export to plot.ly",
        "plotlyServerURL": "https://plot.ly",
        "showLink": true
       },
       "data": [
        {
         "marker": {
          "color": [
           "rgb(255, 153, 51)",
           "rgb(55, 128, 191)",
           "rgb(50, 171, 96)",
           "rgb(128, 0, 128)",
           "rgb(219, 64, 82)",
           "rgb(0, 128, 128)",
           "rgb(255, 255, 51)",
           "rgb(128, 128, 0)",
           "rgb(251, 128, 114)",
           "rgb(128, 177, 211)"
          ],
          "line": {
           "width": 1.3
          },
          "size": [
           75,
           12,
           61,
           96,
           17,
           88,
           53,
           46,
           36,
           58,
           105,
           77,
           66,
           93,
           36,
           77,
           99,
           81,
           13,
           93,
           37,
           32,
           26,
           86,
           102,
           89,
           40,
           76,
           65,
           64,
           54,
           43,
           94,
           77,
           59,
           76,
           75,
           33,
           62,
           48,
           41,
           68,
           68,
           66,
           88,
           43,
           39,
           39,
           81,
           62,
           75,
           29,
           60,
           107,
           78,
           50,
           92,
           14,
           79,
           67,
           63,
           82,
           32,
           48,
           73,
           42,
           57,
           33,
           69,
           62,
           47,
           69,
           43,
           32,
           45,
           54,
           103,
           68,
           99,
           25,
           26,
           81,
           29,
           57,
           112,
           21,
           97,
           83,
           61,
           87,
           24,
           30,
           61,
           68,
           109,
           75,
           70,
           38,
           26,
           108
          ],
          "symbol": "circle"
         },
         "mode": "markers",
         "text": "",
         "type": "scatter",
         "x": [
          -0.5019262604718252,
          1.3406574372295323,
          -0.14453389308463846,
          0.040956373720975554,
          0.7274751665220139,
          0.02772203928139414,
          -0.2627967982077833,
          -0.6445792859574564,
          -0.12440658548148807,
          -1.4195717936405616,
          -0.5881620964690552,
          0.1968941489793469,
          0.24836115152992447,
          1.1906853329299731,
          -0.20731260889632006,
          0.04751918853287542,
          1.714309247596637,
          -0.2014585421239541,
          -0.706546818966052,
          -1.2789820090973136,
          -0.29087411730222307,
          0.30696147278145924,
          0.6542094312601774,
          0.6346490022624198,
          -1.453964470447946,
          -0.2562556030355115,
          -0.13399741602615234,
          1.043664761096363,
          1.5362170449236299,
          -1.139822665761981,
          -1.3081191119064488,
          0.3022549378458871,
          1.3730961762014156,
          0.5088024651071592,
          -0.8464243671405703,
          -1.2011957891288758,
          1.160341198796026,
          0.027689159510517817,
          1.3797848021879668,
          -0.11870973173703767,
          0.7548654583979592,
          0.6673776766556359,
          -0.1416767698425056,
          -1.3702526577901337,
          -0.22733380869451456,
          -0.3860545857839438,
          -0.4746494033140237,
          -1.4423873780835887,
          -0.5232558519147569,
          0.9923567002966976,
          -1.3367993456448217,
          0.35964321503622887,
          -0.8508495574838864,
          0.883592769966994,
          -0.6246517499576894,
          0.27989103186935305,
          0.6131371580496763,
          0.3216230855728305,
          0.28464155507737726,
          1.44503447655136,
          -0.27721413247491106,
          -1.4087811922820848,
          -0.33100038597981374,
          -0.7676458148982221,
          -0.9068197369866156,
          -0.4064278014938917,
          0.4841752803205062,
          -1.7939182078675981,
          0.645534754730688,
          -0.8546984857726455,
          -2.5751222033503276,
          -1.5496209941435157,
          -1.845264470705639,
          -1.7955574080362404,
          -1.0990447387369575,
          -0.02806115476210823,
          -0.09459203941178367,
          -0.8775873145390063,
          -4.121990228815462,
          -1.4352429415503278,
          -0.9688499652094146,
          -1.5041241800369083,
          -1.7357005143943813,
          -0.4502043873141606,
          -0.8411556452989516,
          -0.017478105167135518,
          -0.4047434754669365,
          -0.46049951646255516,
          -1.7239509268452278,
          -2.077507197691761,
          0.18656533416519658,
          0.05483152572246387,
          -1.1988250504309492,
          -0.6769503724014974,
          -0.07033222410676333,
          1.8214626735961084,
          0.48073894868276373,
          -1.028001117338976,
          -0.03736194677178664,
          -0.1613022757355416
         ],
         "y": [
          -0.8537742762332164,
          1.0157322930976045,
          1.2316869207547705,
          0.1314299722305412,
          -0.633724221261174,
          -1.021091071695296,
          0.05493633765137216,
          0.5561493102654288,
          -0.606363232964669,
          0.5413884046594294,
          1.5191493772222278,
          -0.9771583011795383,
          -2.564988254175942,
          -1.511871766233654,
          0.1698098432471122,
          -0.0006299061581094447,
          0.019540019752891886,
          -0.20333090941576668,
          -1.0515069577217253,
          0.8535637865467421,
          0.7479173990250584,
          1.5740810908189957,
          -0.2134294929037309,
          -0.8287624452994441,
          1.8084096050913296,
          -0.4985374462398888,
          -0.07050276829129744,
          0.2454396915192863,
          1.5865458034730295,
          0.22855415423131717,
          1.2318015789536472,
          -0.2683148170438074,
          0.2721415238481511,
          1.4289215468174405,
          0.3407877359485261,
          2.1163336799878025,
          -1.2175531392623062,
          1.0493278651389129,
          0.019850364513919506,
          1.7905761038088464,
          0.2718209125384333,
          0.9423641957958778,
          1.639765844844743,
          1.3938704008306384,
          -0.3588645773400398,
          -0.9247625382971925,
          1.6635092098571502,
          -0.8502091892531796,
          1.129888165743087,
          -0.9209889483736413,
          -0.6675980382475256,
          -0.8294327676779536,
          1.9101387765933906,
          0.6278871873084058,
          0.29342412609384266,
          0.2719883298680775,
          -1.2383177845611195,
          0.23924194267683924,
          -0.7947533691988276,
          0.369281989374878,
          -0.5362511746826577,
          -1.8551607079119403,
          1.4351948232022345,
          0.24854237986146002,
          -2.5847223229622402,
          -1.4763150326920196,
          0.16805478888458833,
          0.48872897444176455,
          0.18610409006261094,
          -0.18722588584988972,
          -0.6361226923627324,
          -0.8021976334316585,
          1.0793256151600996,
          0.8927522531499735,
          -1.0400918766611247,
          1.3309567449801414,
          -0.23918015765720343,
          0.21827777245077276,
          0.6643448470304437,
          -0.9887852571546005,
          -1.9802413017970966,
          1.310100856690185,
          -0.02734743222390547,
          -1.643015114730303,
          -0.09084317256020294,
          1.8388734031514915,
          1.563071326231132,
          -0.8096762102199779,
          0.4597566070432031,
          -0.6950082009640749,
          2.251854180395313,
          -0.2175714152370271,
          0.5372187334131854,
          -1.0190670145375262,
          -1.3175105585197597,
          -2.1250187398628486,
          0.8472747609702648,
          -2.3971849488244765,
          -1.3737368824255878,
          -0.6940420292071485
         ]
        }
       ],
       "layout": {
        "legend": {
         "bgcolor": "#F5F6F9",
         "font": {
          "color": "#4D5663"
         }
        },
        "paper_bgcolor": "#F5F6F9",
        "plot_bgcolor": "#F5F6F9",
        "template": {
         "data": {
          "bar": [
           {
            "error_x": {
             "color": "#2a3f5f"
            },
            "error_y": {
             "color": "#2a3f5f"
            },
            "marker": {
             "line": {
              "color": "#E5ECF6",
              "width": 0.5
             },
             "pattern": {
              "fillmode": "overlay",
              "size": 10,
              "solidity": 0.2
             }
            },
            "type": "bar"
           }
          ],
          "barpolar": [
           {
            "marker": {
             "line": {
              "color": "#E5ECF6",
              "width": 0.5
             },
             "pattern": {
              "fillmode": "overlay",
              "size": 10,
              "solidity": 0.2
             }
            },
            "type": "barpolar"
           }
          ],
          "carpet": [
           {
            "aaxis": {
             "endlinecolor": "#2a3f5f",
             "gridcolor": "white",
             "linecolor": "white",
             "minorgridcolor": "white",
             "startlinecolor": "#2a3f5f"
            },
            "baxis": {
             "endlinecolor": "#2a3f5f",
             "gridcolor": "white",
             "linecolor": "white",
             "minorgridcolor": "white",
             "startlinecolor": "#2a3f5f"
            },
            "type": "carpet"
           }
          ],
          "choropleth": [
           {
            "colorbar": {
             "outlinewidth": 0,
             "ticks": ""
            },
            "type": "choropleth"
           }
          ],
          "contour": [
           {
            "colorbar": {
             "outlinewidth": 0,
             "ticks": ""
            },
            "colorscale": [
             [
              0,
              "#0d0887"
             ],
             [
              0.1111111111111111,
              "#46039f"
             ],
             [
              0.2222222222222222,
              "#7201a8"
             ],
             [
              0.3333333333333333,
              "#9c179e"
             ],
             [
              0.4444444444444444,
              "#bd3786"
             ],
             [
              0.5555555555555556,
              "#d8576b"
             ],
             [
              0.6666666666666666,
              "#ed7953"
             ],
             [
              0.7777777777777778,
              "#fb9f3a"
             ],
             [
              0.8888888888888888,
              "#fdca26"
             ],
             [
              1,
              "#f0f921"
             ]
            ],
            "type": "contour"
           }
          ],
          "contourcarpet": [
           {
            "colorbar": {
             "outlinewidth": 0,
             "ticks": ""
            },
            "type": "contourcarpet"
           }
          ],
          "heatmap": [
           {
            "colorbar": {
             "outlinewidth": 0,
             "ticks": ""
            },
            "colorscale": [
             [
              0,
              "#0d0887"
             ],
             [
              0.1111111111111111,
              "#46039f"
             ],
             [
              0.2222222222222222,
              "#7201a8"
             ],
             [
              0.3333333333333333,
              "#9c179e"
             ],
             [
              0.4444444444444444,
              "#bd3786"
             ],
             [
              0.5555555555555556,
              "#d8576b"
             ],
             [
              0.6666666666666666,
              "#ed7953"
             ],
             [
              0.7777777777777778,
              "#fb9f3a"
             ],
             [
              0.8888888888888888,
              "#fdca26"
             ],
             [
              1,
              "#f0f921"
             ]
            ],
            "type": "heatmap"
           }
          ],
          "heatmapgl": [
           {
            "colorbar": {
             "outlinewidth": 0,
             "ticks": ""
            },
            "colorscale": [
             [
              0,
              "#0d0887"
             ],
             [
              0.1111111111111111,
              "#46039f"
             ],
             [
              0.2222222222222222,
              "#7201a8"
             ],
             [
              0.3333333333333333,
              "#9c179e"
             ],
             [
              0.4444444444444444,
              "#bd3786"
             ],
             [
              0.5555555555555556,
              "#d8576b"
             ],
             [
              0.6666666666666666,
              "#ed7953"
             ],
             [
              0.7777777777777778,
              "#fb9f3a"
             ],
             [
              0.8888888888888888,
              "#fdca26"
             ],
             [
              1,
              "#f0f921"
             ]
            ],
            "type": "heatmapgl"
           }
          ],
          "histogram": [
           {
            "marker": {
             "pattern": {
              "fillmode": "overlay",
              "size": 10,
              "solidity": 0.2
             }
            },
            "type": "histogram"
           }
          ],
          "histogram2d": [
           {
            "colorbar": {
             "outlinewidth": 0,
             "ticks": ""
            },
            "colorscale": [
             [
              0,
              "#0d0887"
             ],
             [
              0.1111111111111111,
              "#46039f"
             ],
             [
              0.2222222222222222,
              "#7201a8"
             ],
             [
              0.3333333333333333,
              "#9c179e"
             ],
             [
              0.4444444444444444,
              "#bd3786"
             ],
             [
              0.5555555555555556,
              "#d8576b"
             ],
             [
              0.6666666666666666,
              "#ed7953"
             ],
             [
              0.7777777777777778,
              "#fb9f3a"
             ],
             [
              0.8888888888888888,
              "#fdca26"
             ],
             [
              1,
              "#f0f921"
             ]
            ],
            "type": "histogram2d"
           }
          ],
          "histogram2dcontour": [
           {
            "colorbar": {
             "outlinewidth": 0,
             "ticks": ""
            },
            "colorscale": [
             [
              0,
              "#0d0887"
             ],
             [
              0.1111111111111111,
              "#46039f"
             ],
             [
              0.2222222222222222,
              "#7201a8"
             ],
             [
              0.3333333333333333,
              "#9c179e"
             ],
             [
              0.4444444444444444,
              "#bd3786"
             ],
             [
              0.5555555555555556,
              "#d8576b"
             ],
             [
              0.6666666666666666,
              "#ed7953"
             ],
             [
              0.7777777777777778,
              "#fb9f3a"
             ],
             [
              0.8888888888888888,
              "#fdca26"
             ],
             [
              1,
              "#f0f921"
             ]
            ],
            "type": "histogram2dcontour"
           }
          ],
          "mesh3d": [
           {
            "colorbar": {
             "outlinewidth": 0,
             "ticks": ""
            },
            "type": "mesh3d"
           }
          ],
          "parcoords": [
           {
            "line": {
             "colorbar": {
              "outlinewidth": 0,
              "ticks": ""
             }
            },
            "type": "parcoords"
           }
          ],
          "pie": [
           {
            "automargin": true,
            "type": "pie"
           }
          ],
          "scatter": [
           {
            "fillpattern": {
             "fillmode": "overlay",
             "size": 10,
             "solidity": 0.2
            },
            "type": "scatter"
           }
          ],
          "scatter3d": [
           {
            "line": {
             "colorbar": {
              "outlinewidth": 0,
              "ticks": ""
             }
            },
            "marker": {
             "colorbar": {
              "outlinewidth": 0,
              "ticks": ""
             }
            },
            "type": "scatter3d"
           }
          ],
          "scattercarpet": [
           {
            "marker": {
             "colorbar": {
              "outlinewidth": 0,
              "ticks": ""
             }
            },
            "type": "scattercarpet"
           }
          ],
          "scattergeo": [
           {
            "marker": {
             "colorbar": {
              "outlinewidth": 0,
              "ticks": ""
             }
            },
            "type": "scattergeo"
           }
          ],
          "scattergl": [
           {
            "marker": {
             "colorbar": {
              "outlinewidth": 0,
              "ticks": ""
             }
            },
            "type": "scattergl"
           }
          ],
          "scattermapbox": [
           {
            "marker": {
             "colorbar": {
              "outlinewidth": 0,
              "ticks": ""
             }
            },
            "type": "scattermapbox"
           }
          ],
          "scatterpolar": [
           {
            "marker": {
             "colorbar": {
              "outlinewidth": 0,
              "ticks": ""
             }
            },
            "type": "scatterpolar"
           }
          ],
          "scatterpolargl": [
           {
            "marker": {
             "colorbar": {
              "outlinewidth": 0,
              "ticks": ""
             }
            },
            "type": "scatterpolargl"
           }
          ],
          "scatterternary": [
           {
            "marker": {
             "colorbar": {
              "outlinewidth": 0,
              "ticks": ""
             }
            },
            "type": "scatterternary"
           }
          ],
          "surface": [
           {
            "colorbar": {
             "outlinewidth": 0,
             "ticks": ""
            },
            "colorscale": [
             [
              0,
              "#0d0887"
             ],
             [
              0.1111111111111111,
              "#46039f"
             ],
             [
              0.2222222222222222,
              "#7201a8"
             ],
             [
              0.3333333333333333,
              "#9c179e"
             ],
             [
              0.4444444444444444,
              "#bd3786"
             ],
             [
              0.5555555555555556,
              "#d8576b"
             ],
             [
              0.6666666666666666,
              "#ed7953"
             ],
             [
              0.7777777777777778,
              "#fb9f3a"
             ],
             [
              0.8888888888888888,
              "#fdca26"
             ],
             [
              1,
              "#f0f921"
             ]
            ],
            "type": "surface"
           }
          ],
          "table": [
           {
            "cells": {
             "fill": {
              "color": "#EBF0F8"
             },
             "line": {
              "color": "white"
             }
            },
            "header": {
             "fill": {
              "color": "#C8D4E3"
             },
             "line": {
              "color": "white"
             }
            },
            "type": "table"
           }
          ]
         },
         "layout": {
          "annotationdefaults": {
           "arrowcolor": "#2a3f5f",
           "arrowhead": 0,
           "arrowwidth": 1
          },
          "autotypenumbers": "strict",
          "coloraxis": {
           "colorbar": {
            "outlinewidth": 0,
            "ticks": ""
           }
          },
          "colorscale": {
           "diverging": [
            [
             0,
             "#8e0152"
            ],
            [
             0.1,
             "#c51b7d"
            ],
            [
             0.2,
             "#de77ae"
            ],
            [
             0.3,
             "#f1b6da"
            ],
            [
             0.4,
             "#fde0ef"
            ],
            [
             0.5,
             "#f7f7f7"
            ],
            [
             0.6,
             "#e6f5d0"
            ],
            [
             0.7,
             "#b8e186"
            ],
            [
             0.8,
             "#7fbc41"
            ],
            [
             0.9,
             "#4d9221"
            ],
            [
             1,
             "#276419"
            ]
           ],
           "sequential": [
            [
             0,
             "#0d0887"
            ],
            [
             0.1111111111111111,
             "#46039f"
            ],
            [
             0.2222222222222222,
             "#7201a8"
            ],
            [
             0.3333333333333333,
             "#9c179e"
            ],
            [
             0.4444444444444444,
             "#bd3786"
            ],
            [
             0.5555555555555556,
             "#d8576b"
            ],
            [
             0.6666666666666666,
             "#ed7953"
            ],
            [
             0.7777777777777778,
             "#fb9f3a"
            ],
            [
             0.8888888888888888,
             "#fdca26"
            ],
            [
             1,
             "#f0f921"
            ]
           ],
           "sequentialminus": [
            [
             0,
             "#0d0887"
            ],
            [
             0.1111111111111111,
             "#46039f"
            ],
            [
             0.2222222222222222,
             "#7201a8"
            ],
            [
             0.3333333333333333,
             "#9c179e"
            ],
            [
             0.4444444444444444,
             "#bd3786"
            ],
            [
             0.5555555555555556,
             "#d8576b"
            ],
            [
             0.6666666666666666,
             "#ed7953"
            ],
            [
             0.7777777777777778,
             "#fb9f3a"
            ],
            [
             0.8888888888888888,
             "#fdca26"
            ],
            [
             1,
             "#f0f921"
            ]
           ]
          },
          "colorway": [
           "#636efa",
           "#EF553B",
           "#00cc96",
           "#ab63fa",
           "#FFA15A",
           "#19d3f3",
           "#FF6692",
           "#B6E880",
           "#FF97FF",
           "#FECB52"
          ],
          "font": {
           "color": "#2a3f5f"
          },
          "geo": {
           "bgcolor": "white",
           "lakecolor": "white",
           "landcolor": "#E5ECF6",
           "showlakes": true,
           "showland": true,
           "subunitcolor": "white"
          },
          "hoverlabel": {
           "align": "left"
          },
          "hovermode": "closest",
          "mapbox": {
           "style": "light"
          },
          "paper_bgcolor": "white",
          "plot_bgcolor": "#E5ECF6",
          "polar": {
           "angularaxis": {
            "gridcolor": "white",
            "linecolor": "white",
            "ticks": ""
           },
           "bgcolor": "#E5ECF6",
           "radialaxis": {
            "gridcolor": "white",
            "linecolor": "white",
            "ticks": ""
           }
          },
          "scene": {
           "xaxis": {
            "backgroundcolor": "#E5ECF6",
            "gridcolor": "white",
            "gridwidth": 2,
            "linecolor": "white",
            "showbackground": true,
            "ticks": "",
            "zerolinecolor": "white"
           },
           "yaxis": {
            "backgroundcolor": "#E5ECF6",
            "gridcolor": "white",
            "gridwidth": 2,
            "linecolor": "white",
            "showbackground": true,
            "ticks": "",
            "zerolinecolor": "white"
           },
           "zaxis": {
            "backgroundcolor": "#E5ECF6",
            "gridcolor": "white",
            "gridwidth": 2,
            "linecolor": "white",
            "showbackground": true,
            "ticks": "",
            "zerolinecolor": "white"
           }
          },
          "shapedefaults": {
           "line": {
            "color": "#2a3f5f"
           }
          },
          "ternary": {
           "aaxis": {
            "gridcolor": "white",
            "linecolor": "white",
            "ticks": ""
           },
           "baxis": {
            "gridcolor": "white",
            "linecolor": "white",
            "ticks": ""
           },
           "bgcolor": "#E5ECF6",
           "caxis": {
            "gridcolor": "white",
            "linecolor": "white",
            "ticks": ""
           }
          },
          "title": {
           "x": 0.05
          },
          "xaxis": {
           "automargin": true,
           "gridcolor": "white",
           "linecolor": "white",
           "ticks": "",
           "title": {
            "standoff": 15
           },
           "zerolinecolor": "white",
           "zerolinewidth": 2
          },
          "yaxis": {
           "automargin": true,
           "gridcolor": "white",
           "linecolor": "white",
           "ticks": "",
           "title": {
            "standoff": 15
           },
           "zerolinecolor": "white",
           "zerolinewidth": 2
          }
         }
        },
        "title": {
         "font": {
          "color": "#4D5663"
         }
        },
        "xaxis": {
         "gridcolor": "#E1E5ED",
         "showgrid": true,
         "tickfont": {
          "color": "#4D5663"
         },
         "title": {
          "font": {
           "color": "#4D5663"
          },
          "text": ""
         },
         "zerolinecolor": "#E1E5ED"
        },
        "yaxis": {
         "gridcolor": "#E1E5ED",
         "showgrid": true,
         "tickfont": {
          "color": "#4D5663"
         },
         "title": {
          "font": {
           "color": "#4D5663"
          },
          "text": ""
         },
         "zerolinecolor": "#E1E5ED"
        }
       }
      },
      "text/html": [
       "<div>                            <div id=\"34e4b80d-78f9-4808-8e8e-dd51fa922779\" class=\"plotly-graph-div\" style=\"height:525px; width:100%;\"></div>            <script type=\"text/javascript\">                require([\"plotly\"], function(Plotly) {                    window.PLOTLYENV=window.PLOTLYENV || {};\n",
       "                    window.PLOTLYENV.BASE_URL='https://plot.ly';                                    if (document.getElementById(\"34e4b80d-78f9-4808-8e8e-dd51fa922779\")) {                    Plotly.newPlot(                        \"34e4b80d-78f9-4808-8e8e-dd51fa922779\",                        [{\"marker\":{\"color\":[\"rgb(255, 153, 51)\",\"rgb(55, 128, 191)\",\"rgb(50, 171, 96)\",\"rgb(128, 0, 128)\",\"rgb(219, 64, 82)\",\"rgb(0, 128, 128)\",\"rgb(255, 255, 51)\",\"rgb(128, 128, 0)\",\"rgb(251, 128, 114)\",\"rgb(128, 177, 211)\"],\"line\":{\"width\":1.3},\"size\":[75,12,61,96,17,88,53,46,36,58,105,77,66,93,36,77,99,81,13,93,37,32,26,86,102,89,40,76,65,64,54,43,94,77,59,76,75,33,62,48,41,68,68,66,88,43,39,39,81,62,75,29,60,107,78,50,92,14,79,67,63,82,32,48,73,42,57,33,69,62,47,69,43,32,45,54,103,68,99,25,26,81,29,57,112,21,97,83,61,87,24,30,61,68,109,75,70,38,26,108],\"symbol\":\"circle\"},\"mode\":\"markers\",\"text\":\"\",\"x\":[-0.5019262604718252,1.3406574372295323,-0.14453389308463846,0.040956373720975554,0.7274751665220139,0.02772203928139414,-0.2627967982077833,-0.6445792859574564,-0.12440658548148807,-1.4195717936405616,-0.5881620964690552,0.1968941489793469,0.24836115152992447,1.1906853329299731,-0.20731260889632006,0.04751918853287542,1.714309247596637,-0.2014585421239541,-0.706546818966052,-1.2789820090973136,-0.29087411730222307,0.30696147278145924,0.6542094312601774,0.6346490022624198,-1.453964470447946,-0.2562556030355115,-0.13399741602615234,1.043664761096363,1.5362170449236299,-1.139822665761981,-1.3081191119064488,0.3022549378458871,1.3730961762014156,0.5088024651071592,-0.8464243671405703,-1.2011957891288758,1.160341198796026,0.027689159510517817,1.3797848021879668,-0.11870973173703767,0.7548654583979592,0.6673776766556359,-0.1416767698425056,-1.3702526577901337,-0.22733380869451456,-0.3860545857839438,-0.4746494033140237,-1.4423873780835887,-0.5232558519147569,0.9923567002966976,-1.3367993456448217,0.35964321503622887,-0.8508495574838864,0.883592769966994,-0.6246517499576894,0.27989103186935305,0.6131371580496763,0.3216230855728305,0.28464155507737726,1.44503447655136,-0.27721413247491106,-1.4087811922820848,-0.33100038597981374,-0.7676458148982221,-0.9068197369866156,-0.4064278014938917,0.4841752803205062,-1.7939182078675981,0.645534754730688,-0.8546984857726455,-2.5751222033503276,-1.5496209941435157,-1.845264470705639,-1.7955574080362404,-1.0990447387369575,-0.02806115476210823,-0.09459203941178367,-0.8775873145390063,-4.121990228815462,-1.4352429415503278,-0.9688499652094146,-1.5041241800369083,-1.7357005143943813,-0.4502043873141606,-0.8411556452989516,-0.017478105167135518,-0.4047434754669365,-0.46049951646255516,-1.7239509268452278,-2.077507197691761,0.18656533416519658,0.05483152572246387,-1.1988250504309492,-0.6769503724014974,-0.07033222410676333,1.8214626735961084,0.48073894868276373,-1.028001117338976,-0.03736194677178664,-0.1613022757355416],\"y\":[-0.8537742762332164,1.0157322930976045,1.2316869207547705,0.1314299722305412,-0.633724221261174,-1.021091071695296,0.05493633765137216,0.5561493102654288,-0.606363232964669,0.5413884046594294,1.5191493772222278,-0.9771583011795383,-2.564988254175942,-1.511871766233654,0.1698098432471122,-0.0006299061581094447,0.019540019752891886,-0.20333090941576668,-1.0515069577217253,0.8535637865467421,0.7479173990250584,1.5740810908189957,-0.2134294929037309,-0.8287624452994441,1.8084096050913296,-0.4985374462398888,-0.07050276829129744,0.2454396915192863,1.5865458034730295,0.22855415423131717,1.2318015789536472,-0.2683148170438074,0.2721415238481511,1.4289215468174405,0.3407877359485261,2.1163336799878025,-1.2175531392623062,1.0493278651389129,0.019850364513919506,1.7905761038088464,0.2718209125384333,0.9423641957958778,1.639765844844743,1.3938704008306384,-0.3588645773400398,-0.9247625382971925,1.6635092098571502,-0.8502091892531796,1.129888165743087,-0.9209889483736413,-0.6675980382475256,-0.8294327676779536,1.9101387765933906,0.6278871873084058,0.29342412609384266,0.2719883298680775,-1.2383177845611195,0.23924194267683924,-0.7947533691988276,0.369281989374878,-0.5362511746826577,-1.8551607079119403,1.4351948232022345,0.24854237986146002,-2.5847223229622402,-1.4763150326920196,0.16805478888458833,0.48872897444176455,0.18610409006261094,-0.18722588584988972,-0.6361226923627324,-0.8021976334316585,1.0793256151600996,0.8927522531499735,-1.0400918766611247,1.3309567449801414,-0.23918015765720343,0.21827777245077276,0.6643448470304437,-0.9887852571546005,-1.9802413017970966,1.310100856690185,-0.02734743222390547,-1.643015114730303,-0.09084317256020294,1.8388734031514915,1.563071326231132,-0.8096762102199779,0.4597566070432031,-0.6950082009640749,2.251854180395313,-0.2175714152370271,0.5372187334131854,-1.0190670145375262,-1.3175105585197597,-2.1250187398628486,0.8472747609702648,-2.3971849488244765,-1.3737368824255878,-0.6940420292071485],\"type\":\"scatter\"}],                        {\"legend\":{\"bgcolor\":\"#F5F6F9\",\"font\":{\"color\":\"#4D5663\"}},\"paper_bgcolor\":\"#F5F6F9\",\"plot_bgcolor\":\"#F5F6F9\",\"template\":{\"data\":{\"barpolar\":[{\"marker\":{\"line\":{\"color\":\"#E5ECF6\",\"width\":0.5},\"pattern\":{\"fillmode\":\"overlay\",\"size\":10,\"solidity\":0.2}},\"type\":\"barpolar\"}],\"bar\":[{\"error_x\":{\"color\":\"#2a3f5f\"},\"error_y\":{\"color\":\"#2a3f5f\"},\"marker\":{\"line\":{\"color\":\"#E5ECF6\",\"width\":0.5},\"pattern\":{\"fillmode\":\"overlay\",\"size\":10,\"solidity\":0.2}},\"type\":\"bar\"}],\"carpet\":[{\"aaxis\":{\"endlinecolor\":\"#2a3f5f\",\"gridcolor\":\"white\",\"linecolor\":\"white\",\"minorgridcolor\":\"white\",\"startlinecolor\":\"#2a3f5f\"},\"baxis\":{\"endlinecolor\":\"#2a3f5f\",\"gridcolor\":\"white\",\"linecolor\":\"white\",\"minorgridcolor\":\"white\",\"startlinecolor\":\"#2a3f5f\"},\"type\":\"carpet\"}],\"choropleth\":[{\"colorbar\":{\"outlinewidth\":0,\"ticks\":\"\"},\"type\":\"choropleth\"}],\"contourcarpet\":[{\"colorbar\":{\"outlinewidth\":0,\"ticks\":\"\"},\"type\":\"contourcarpet\"}],\"contour\":[{\"colorbar\":{\"outlinewidth\":0,\"ticks\":\"\"},\"colorscale\":[[0.0,\"#0d0887\"],[0.1111111111111111,\"#46039f\"],[0.2222222222222222,\"#7201a8\"],[0.3333333333333333,\"#9c179e\"],[0.4444444444444444,\"#bd3786\"],[0.5555555555555556,\"#d8576b\"],[0.6666666666666666,\"#ed7953\"],[0.7777777777777778,\"#fb9f3a\"],[0.8888888888888888,\"#fdca26\"],[1.0,\"#f0f921\"]],\"type\":\"contour\"}],\"heatmapgl\":[{\"colorbar\":{\"outlinewidth\":0,\"ticks\":\"\"},\"colorscale\":[[0.0,\"#0d0887\"],[0.1111111111111111,\"#46039f\"],[0.2222222222222222,\"#7201a8\"],[0.3333333333333333,\"#9c179e\"],[0.4444444444444444,\"#bd3786\"],[0.5555555555555556,\"#d8576b\"],[0.6666666666666666,\"#ed7953\"],[0.7777777777777778,\"#fb9f3a\"],[0.8888888888888888,\"#fdca26\"],[1.0,\"#f0f921\"]],\"type\":\"heatmapgl\"}],\"heatmap\":[{\"colorbar\":{\"outlinewidth\":0,\"ticks\":\"\"},\"colorscale\":[[0.0,\"#0d0887\"],[0.1111111111111111,\"#46039f\"],[0.2222222222222222,\"#7201a8\"],[0.3333333333333333,\"#9c179e\"],[0.4444444444444444,\"#bd3786\"],[0.5555555555555556,\"#d8576b\"],[0.6666666666666666,\"#ed7953\"],[0.7777777777777778,\"#fb9f3a\"],[0.8888888888888888,\"#fdca26\"],[1.0,\"#f0f921\"]],\"type\":\"heatmap\"}],\"histogram2dcontour\":[{\"colorbar\":{\"outlinewidth\":0,\"ticks\":\"\"},\"colorscale\":[[0.0,\"#0d0887\"],[0.1111111111111111,\"#46039f\"],[0.2222222222222222,\"#7201a8\"],[0.3333333333333333,\"#9c179e\"],[0.4444444444444444,\"#bd3786\"],[0.5555555555555556,\"#d8576b\"],[0.6666666666666666,\"#ed7953\"],[0.7777777777777778,\"#fb9f3a\"],[0.8888888888888888,\"#fdca26\"],[1.0,\"#f0f921\"]],\"type\":\"histogram2dcontour\"}],\"histogram2d\":[{\"colorbar\":{\"outlinewidth\":0,\"ticks\":\"\"},\"colorscale\":[[0.0,\"#0d0887\"],[0.1111111111111111,\"#46039f\"],[0.2222222222222222,\"#7201a8\"],[0.3333333333333333,\"#9c179e\"],[0.4444444444444444,\"#bd3786\"],[0.5555555555555556,\"#d8576b\"],[0.6666666666666666,\"#ed7953\"],[0.7777777777777778,\"#fb9f3a\"],[0.8888888888888888,\"#fdca26\"],[1.0,\"#f0f921\"]],\"type\":\"histogram2d\"}],\"histogram\":[{\"marker\":{\"pattern\":{\"fillmode\":\"overlay\",\"size\":10,\"solidity\":0.2}},\"type\":\"histogram\"}],\"mesh3d\":[{\"colorbar\":{\"outlinewidth\":0,\"ticks\":\"\"},\"type\":\"mesh3d\"}],\"parcoords\":[{\"line\":{\"colorbar\":{\"outlinewidth\":0,\"ticks\":\"\"}},\"type\":\"parcoords\"}],\"pie\":[{\"automargin\":true,\"type\":\"pie\"}],\"scatter3d\":[{\"line\":{\"colorbar\":{\"outlinewidth\":0,\"ticks\":\"\"}},\"marker\":{\"colorbar\":{\"outlinewidth\":0,\"ticks\":\"\"}},\"type\":\"scatter3d\"}],\"scattercarpet\":[{\"marker\":{\"colorbar\":{\"outlinewidth\":0,\"ticks\":\"\"}},\"type\":\"scattercarpet\"}],\"scattergeo\":[{\"marker\":{\"colorbar\":{\"outlinewidth\":0,\"ticks\":\"\"}},\"type\":\"scattergeo\"}],\"scattergl\":[{\"marker\":{\"colorbar\":{\"outlinewidth\":0,\"ticks\":\"\"}},\"type\":\"scattergl\"}],\"scattermapbox\":[{\"marker\":{\"colorbar\":{\"outlinewidth\":0,\"ticks\":\"\"}},\"type\":\"scattermapbox\"}],\"scatterpolargl\":[{\"marker\":{\"colorbar\":{\"outlinewidth\":0,\"ticks\":\"\"}},\"type\":\"scatterpolargl\"}],\"scatterpolar\":[{\"marker\":{\"colorbar\":{\"outlinewidth\":0,\"ticks\":\"\"}},\"type\":\"scatterpolar\"}],\"scatter\":[{\"fillpattern\":{\"fillmode\":\"overlay\",\"size\":10,\"solidity\":0.2},\"type\":\"scatter\"}],\"scatterternary\":[{\"marker\":{\"colorbar\":{\"outlinewidth\":0,\"ticks\":\"\"}},\"type\":\"scatterternary\"}],\"surface\":[{\"colorbar\":{\"outlinewidth\":0,\"ticks\":\"\"},\"colorscale\":[[0.0,\"#0d0887\"],[0.1111111111111111,\"#46039f\"],[0.2222222222222222,\"#7201a8\"],[0.3333333333333333,\"#9c179e\"],[0.4444444444444444,\"#bd3786\"],[0.5555555555555556,\"#d8576b\"],[0.6666666666666666,\"#ed7953\"],[0.7777777777777778,\"#fb9f3a\"],[0.8888888888888888,\"#fdca26\"],[1.0,\"#f0f921\"]],\"type\":\"surface\"}],\"table\":[{\"cells\":{\"fill\":{\"color\":\"#EBF0F8\"},\"line\":{\"color\":\"white\"}},\"header\":{\"fill\":{\"color\":\"#C8D4E3\"},\"line\":{\"color\":\"white\"}},\"type\":\"table\"}]},\"layout\":{\"annotationdefaults\":{\"arrowcolor\":\"#2a3f5f\",\"arrowhead\":0,\"arrowwidth\":1},\"autotypenumbers\":\"strict\",\"coloraxis\":{\"colorbar\":{\"outlinewidth\":0,\"ticks\":\"\"}},\"colorscale\":{\"diverging\":[[0,\"#8e0152\"],[0.1,\"#c51b7d\"],[0.2,\"#de77ae\"],[0.3,\"#f1b6da\"],[0.4,\"#fde0ef\"],[0.5,\"#f7f7f7\"],[0.6,\"#e6f5d0\"],[0.7,\"#b8e186\"],[0.8,\"#7fbc41\"],[0.9,\"#4d9221\"],[1,\"#276419\"]],\"sequential\":[[0.0,\"#0d0887\"],[0.1111111111111111,\"#46039f\"],[0.2222222222222222,\"#7201a8\"],[0.3333333333333333,\"#9c179e\"],[0.4444444444444444,\"#bd3786\"],[0.5555555555555556,\"#d8576b\"],[0.6666666666666666,\"#ed7953\"],[0.7777777777777778,\"#fb9f3a\"],[0.8888888888888888,\"#fdca26\"],[1.0,\"#f0f921\"]],\"sequentialminus\":[[0.0,\"#0d0887\"],[0.1111111111111111,\"#46039f\"],[0.2222222222222222,\"#7201a8\"],[0.3333333333333333,\"#9c179e\"],[0.4444444444444444,\"#bd3786\"],[0.5555555555555556,\"#d8576b\"],[0.6666666666666666,\"#ed7953\"],[0.7777777777777778,\"#fb9f3a\"],[0.8888888888888888,\"#fdca26\"],[1.0,\"#f0f921\"]]},\"colorway\":[\"#636efa\",\"#EF553B\",\"#00cc96\",\"#ab63fa\",\"#FFA15A\",\"#19d3f3\",\"#FF6692\",\"#B6E880\",\"#FF97FF\",\"#FECB52\"],\"font\":{\"color\":\"#2a3f5f\"},\"geo\":{\"bgcolor\":\"white\",\"lakecolor\":\"white\",\"landcolor\":\"#E5ECF6\",\"showlakes\":true,\"showland\":true,\"subunitcolor\":\"white\"},\"hoverlabel\":{\"align\":\"left\"},\"hovermode\":\"closest\",\"mapbox\":{\"style\":\"light\"},\"paper_bgcolor\":\"white\",\"plot_bgcolor\":\"#E5ECF6\",\"polar\":{\"angularaxis\":{\"gridcolor\":\"white\",\"linecolor\":\"white\",\"ticks\":\"\"},\"bgcolor\":\"#E5ECF6\",\"radialaxis\":{\"gridcolor\":\"white\",\"linecolor\":\"white\",\"ticks\":\"\"}},\"scene\":{\"xaxis\":{\"backgroundcolor\":\"#E5ECF6\",\"gridcolor\":\"white\",\"gridwidth\":2,\"linecolor\":\"white\",\"showbackground\":true,\"ticks\":\"\",\"zerolinecolor\":\"white\"},\"yaxis\":{\"backgroundcolor\":\"#E5ECF6\",\"gridcolor\":\"white\",\"gridwidth\":2,\"linecolor\":\"white\",\"showbackground\":true,\"ticks\":\"\",\"zerolinecolor\":\"white\"},\"zaxis\":{\"backgroundcolor\":\"#E5ECF6\",\"gridcolor\":\"white\",\"gridwidth\":2,\"linecolor\":\"white\",\"showbackground\":true,\"ticks\":\"\",\"zerolinecolor\":\"white\"}},\"shapedefaults\":{\"line\":{\"color\":\"#2a3f5f\"}},\"ternary\":{\"aaxis\":{\"gridcolor\":\"white\",\"linecolor\":\"white\",\"ticks\":\"\"},\"baxis\":{\"gridcolor\":\"white\",\"linecolor\":\"white\",\"ticks\":\"\"},\"bgcolor\":\"#E5ECF6\",\"caxis\":{\"gridcolor\":\"white\",\"linecolor\":\"white\",\"ticks\":\"\"}},\"title\":{\"x\":0.05},\"xaxis\":{\"automargin\":true,\"gridcolor\":\"white\",\"linecolor\":\"white\",\"ticks\":\"\",\"title\":{\"standoff\":15},\"zerolinecolor\":\"white\",\"zerolinewidth\":2},\"yaxis\":{\"automargin\":true,\"gridcolor\":\"white\",\"linecolor\":\"white\",\"ticks\":\"\",\"title\":{\"standoff\":15},\"zerolinecolor\":\"white\",\"zerolinewidth\":2}}},\"title\":{\"font\":{\"color\":\"#4D5663\"}},\"xaxis\":{\"gridcolor\":\"#E1E5ED\",\"showgrid\":true,\"tickfont\":{\"color\":\"#4D5663\"},\"title\":{\"font\":{\"color\":\"#4D5663\"},\"text\":\"\"},\"zerolinecolor\":\"#E1E5ED\"},\"yaxis\":{\"gridcolor\":\"#E1E5ED\",\"showgrid\":true,\"tickfont\":{\"color\":\"#4D5663\"},\"title\":{\"font\":{\"color\":\"#4D5663\"},\"text\":\"\"},\"zerolinecolor\":\"#E1E5ED\"}},                        {\"showLink\": true, \"linkText\": \"Export to plot.ly\", \"plotlyServerURL\": \"https://plot.ly\", \"responsive\": true}                    ).then(function(){\n",
       "                            \n",
       "var gd = document.getElementById('34e4b80d-78f9-4808-8e8e-dd51fa922779');\n",
       "var x = new MutationObserver(function (mutations, observer) {{\n",
       "        var display = window.getComputedStyle(gd).display;\n",
       "        if (!display || display === 'none') {{\n",
       "            console.log([gd, 'removed!']);\n",
       "            Plotly.purge(gd);\n",
       "            observer.disconnect();\n",
       "        }}\n",
       "}});\n",
       "\n",
       "// Listen for the removal of the full notebook cells\n",
       "var notebookContainer = gd.closest('#notebook-container');\n",
       "if (notebookContainer) {{\n",
       "    x.observe(notebookContainer, {childList: true});\n",
       "}}\n",
       "\n",
       "// Listen for the clearing of the current output cell\n",
       "var outputEl = gd.closest('.output');\n",
       "if (outputEl) {{\n",
       "    x.observe(outputEl, {childList: true});\n",
       "}}\n",
       "\n",
       "                        })                };                });            </script>        </div>"
      ]
     },
     "metadata": {},
     "output_type": "display_data"
    }
   ],
   "source": [
    "df.iplot(kind='bubble',x='A',y='B',size='C')"
   ]
  },
  {
   "cell_type": "markdown",
   "metadata": {},
   "source": [
    "## scatter_matrix()\n",
    "\n",
    "Similar a sns.pairplot()"
   ]
  },
  {
   "cell_type": "code",
   "execution_count": 17,
   "metadata": {},
   "outputs": [
    {
     "data": {
      "application/vnd.plotly.v1+json": {
       "config": {
        "linkText": "Export to plot.ly",
        "plotlyServerURL": "https://plot.ly",
        "showLink": true
       },
       "data": [
        {
         "histfunc": "count",
         "histnorm": "",
         "marker": {
          "color": "rgba(255, 153, 51, 1.0)",
          "line": {
           "color": "#4D5663",
           "width": 1.3
          }
         },
         "name": "A",
         "nbinsx": 10,
         "opacity": 0.8,
         "orientation": "v",
         "type": "histogram",
         "x": [
          -0.5019262604718252,
          1.3406574372295323,
          -0.14453389308463846,
          0.040956373720975554,
          0.7274751665220139,
          0.02772203928139414,
          -0.2627967982077833,
          -0.6445792859574564,
          -0.12440658548148807,
          -1.4195717936405616,
          -0.5881620964690552,
          0.1968941489793469,
          0.24836115152992447,
          1.1906853329299731,
          -0.20731260889632006,
          0.04751918853287542,
          1.714309247596637,
          -0.2014585421239541,
          -0.706546818966052,
          -1.2789820090973136,
          -0.29087411730222307,
          0.30696147278145924,
          0.6542094312601774,
          0.6346490022624198,
          -1.453964470447946,
          -0.2562556030355115,
          -0.13399741602615234,
          1.043664761096363,
          1.5362170449236299,
          -1.139822665761981,
          -1.3081191119064488,
          0.3022549378458871,
          1.3730961762014156,
          0.5088024651071592,
          -0.8464243671405703,
          -1.2011957891288758,
          1.160341198796026,
          0.027689159510517817,
          1.3797848021879668,
          -0.11870973173703767,
          0.7548654583979592,
          0.6673776766556359,
          -0.1416767698425056,
          -1.3702526577901337,
          -0.22733380869451456,
          -0.3860545857839438,
          -0.4746494033140237,
          -1.4423873780835887,
          -0.5232558519147569,
          0.9923567002966976,
          -1.3367993456448217,
          0.35964321503622887,
          -0.8508495574838864,
          0.883592769966994,
          -0.6246517499576894,
          0.27989103186935305,
          0.6131371580496763,
          0.3216230855728305,
          0.28464155507737726,
          1.44503447655136,
          -0.27721413247491106,
          -1.4087811922820848,
          -0.33100038597981374,
          -0.7676458148982221,
          -0.9068197369866156,
          -0.4064278014938917,
          0.4841752803205062,
          -1.7939182078675981,
          0.645534754730688,
          -0.8546984857726455,
          -2.5751222033503276,
          -1.5496209941435157,
          -1.845264470705639,
          -1.7955574080362404,
          -1.0990447387369575,
          -0.02806115476210823,
          -0.09459203941178367,
          -0.8775873145390063,
          -4.121990228815462,
          -1.4352429415503278,
          -0.9688499652094146,
          -1.5041241800369083,
          -1.7357005143943813,
          -0.4502043873141606,
          -0.8411556452989516,
          -0.017478105167135518,
          -0.4047434754669365,
          -0.46049951646255516,
          -1.7239509268452278,
          -2.077507197691761,
          0.18656533416519658,
          0.05483152572246387,
          -1.1988250504309492,
          -0.6769503724014974,
          -0.07033222410676333,
          1.8214626735961084,
          0.48073894868276373,
          -1.028001117338976,
          -0.03736194677178664,
          -0.1613022757355416
         ],
         "xaxis": "x",
         "yaxis": "y"
        },
        {
         "line": {
          "color": "rgba(128, 128, 128, 1.0)",
          "dash": "solid",
          "shape": "linear",
          "width": 1.3
         },
         "marker": {
          "size": 2,
          "symbol": "circle"
         },
         "mode": "markers",
         "name": "A",
         "text": "",
         "type": "scatter",
         "x": [
          -0.8537742762332164,
          1.0157322930976045,
          1.2316869207547705,
          0.1314299722305412,
          -0.633724221261174,
          -1.021091071695296,
          0.05493633765137216,
          0.5561493102654288,
          -0.606363232964669,
          0.5413884046594294,
          1.5191493772222278,
          -0.9771583011795383,
          -2.564988254175942,
          -1.511871766233654,
          0.1698098432471122,
          -0.0006299061581094447,
          0.019540019752891886,
          -0.20333090941576668,
          -1.0515069577217253,
          0.8535637865467421,
          0.7479173990250584,
          1.5740810908189957,
          -0.2134294929037309,
          -0.8287624452994441,
          1.8084096050913296,
          -0.4985374462398888,
          -0.07050276829129744,
          0.2454396915192863,
          1.5865458034730295,
          0.22855415423131717,
          1.2318015789536472,
          -0.2683148170438074,
          0.2721415238481511,
          1.4289215468174405,
          0.3407877359485261,
          2.1163336799878025,
          -1.2175531392623062,
          1.0493278651389129,
          0.019850364513919506,
          1.7905761038088464,
          0.2718209125384333,
          0.9423641957958778,
          1.639765844844743,
          1.3938704008306384,
          -0.3588645773400398,
          -0.9247625382971925,
          1.6635092098571502,
          -0.8502091892531796,
          1.129888165743087,
          -0.9209889483736413,
          -0.6675980382475256,
          -0.8294327676779536,
          1.9101387765933906,
          0.6278871873084058,
          0.29342412609384266,
          0.2719883298680775,
          -1.2383177845611195,
          0.23924194267683924,
          -0.7947533691988276,
          0.369281989374878,
          -0.5362511746826577,
          -1.8551607079119403,
          1.4351948232022345,
          0.24854237986146002,
          -2.5847223229622402,
          -1.4763150326920196,
          0.16805478888458833,
          0.48872897444176455,
          0.18610409006261094,
          -0.18722588584988972,
          -0.6361226923627324,
          -0.8021976334316585,
          1.0793256151600996,
          0.8927522531499735,
          -1.0400918766611247,
          1.3309567449801414,
          -0.23918015765720343,
          0.21827777245077276,
          0.6643448470304437,
          -0.9887852571546005,
          -1.9802413017970966,
          1.310100856690185,
          -0.02734743222390547,
          -1.643015114730303,
          -0.09084317256020294,
          1.8388734031514915,
          1.563071326231132,
          -0.8096762102199779,
          0.4597566070432031,
          -0.6950082009640749,
          2.251854180395313,
          -0.2175714152370271,
          0.5372187334131854,
          -1.0190670145375262,
          -1.3175105585197597,
          -2.1250187398628486,
          0.8472747609702648,
          -2.3971849488244765,
          -1.3737368824255878,
          -0.6940420292071485
         ],
         "xaxis": "x2",
         "y": [
          -0.5019262604718252,
          1.3406574372295323,
          -0.14453389308463846,
          0.040956373720975554,
          0.7274751665220139,
          0.02772203928139414,
          -0.2627967982077833,
          -0.6445792859574564,
          -0.12440658548148807,
          -1.4195717936405616,
          -0.5881620964690552,
          0.1968941489793469,
          0.24836115152992447,
          1.1906853329299731,
          -0.20731260889632006,
          0.04751918853287542,
          1.714309247596637,
          -0.2014585421239541,
          -0.706546818966052,
          -1.2789820090973136,
          -0.29087411730222307,
          0.30696147278145924,
          0.6542094312601774,
          0.6346490022624198,
          -1.453964470447946,
          -0.2562556030355115,
          -0.13399741602615234,
          1.043664761096363,
          1.5362170449236299,
          -1.139822665761981,
          -1.3081191119064488,
          0.3022549378458871,
          1.3730961762014156,
          0.5088024651071592,
          -0.8464243671405703,
          -1.2011957891288758,
          1.160341198796026,
          0.027689159510517817,
          1.3797848021879668,
          -0.11870973173703767,
          0.7548654583979592,
          0.6673776766556359,
          -0.1416767698425056,
          -1.3702526577901337,
          -0.22733380869451456,
          -0.3860545857839438,
          -0.4746494033140237,
          -1.4423873780835887,
          -0.5232558519147569,
          0.9923567002966976,
          -1.3367993456448217,
          0.35964321503622887,
          -0.8508495574838864,
          0.883592769966994,
          -0.6246517499576894,
          0.27989103186935305,
          0.6131371580496763,
          0.3216230855728305,
          0.28464155507737726,
          1.44503447655136,
          -0.27721413247491106,
          -1.4087811922820848,
          -0.33100038597981374,
          -0.7676458148982221,
          -0.9068197369866156,
          -0.4064278014938917,
          0.4841752803205062,
          -1.7939182078675981,
          0.645534754730688,
          -0.8546984857726455,
          -2.5751222033503276,
          -1.5496209941435157,
          -1.845264470705639,
          -1.7955574080362404,
          -1.0990447387369575,
          -0.02806115476210823,
          -0.09459203941178367,
          -0.8775873145390063,
          -4.121990228815462,
          -1.4352429415503278,
          -0.9688499652094146,
          -1.5041241800369083,
          -1.7357005143943813,
          -0.4502043873141606,
          -0.8411556452989516,
          -0.017478105167135518,
          -0.4047434754669365,
          -0.46049951646255516,
          -1.7239509268452278,
          -2.077507197691761,
          0.18656533416519658,
          0.05483152572246387,
          -1.1988250504309492,
          -0.6769503724014974,
          -0.07033222410676333,
          1.8214626735961084,
          0.48073894868276373,
          -1.028001117338976,
          -0.03736194677178664,
          -0.1613022757355416
         ],
         "yaxis": "y2"
        },
        {
         "line": {
          "color": "rgba(128, 128, 128, 1.0)",
          "dash": "solid",
          "shape": "linear",
          "width": 1.3
         },
         "marker": {
          "size": 2,
          "symbol": "circle"
         },
         "mode": "markers",
         "name": "A",
         "text": "",
         "type": "scatter",
         "x": [
          0.4618236809570364,
          -1.8760345217107905,
          -0.024461448454044847,
          1.2574003360533095,
          -1.6603300720586975,
          0.9431808539198537,
          -0.3275006769611364,
          -0.6002280473322315,
          -0.9847738299959304,
          -0.16330418856163223,
          1.597188095112297,
          0.5688457854085364,
          0.12900455589561993,
          1.1456471972055877,
          -0.9784438357796877,
          0.5584583481411688,
          1.376835269025118,
          0.7078730006884457,
          -1.8150727227537027,
          1.1263419432513881,
          -0.9353705491923401,
          -1.1015856046350405,
          -1.3325938204413277,
          0.8827096559088252,
          1.4918321860205819,
          0.9863566468584642,
          -0.8385672256548253,
          0.5245850292006667,
          0.12065489545438189,
          0.05502199013118476,
          -0.30656589888113434,
          -0.6997121929122817,
          1.1662992585723713,
          0.5580159509947691,
          -0.12023744165306582,
          0.5056202557102356,
          0.4598136480108525,
          -1.0747407823181587,
          0.013256239586534642,
          -0.517675075967214,
          -0.7796594059393782,
          0.23578250445412977,
          0.20432802495424515,
          0.14101680554886295,
          0.9575334689804115,
          -0.6925673483003029,
          -0.8705935727439931,
          -0.8416031921405447,
          0.6873021607060796,
          -0.004944876023452826,
          0.49041295085782466,
          -1.2317940178702407,
          -0.0813901088437757,
          1.6709144639252376,
          0.57813585960082,
          -0.45189766232725553,
          1.0976466197209371,
          -1.7824104217096723,
          0.6387234746998384,
          0.17607591088185068,
          0.016398121006212477,
          0.7459912835659003,
          -1.1112853989633977,
          -0.5154088639815375,
          0.3881825476474756,
          -0.7314273379173726,
          -0.1726749846298453,
          -1.0660296087533017,
          0.24610014216510956,
          0.006256715434016159,
          -0.564137786805348,
          0.2591038145327592,
          -0.6953083094333815,
          -1.1055580185618308,
          -0.6245396668612723,
          -0.3190673665376973,
          1.5037907002025412,
          0.21950510334576176,
          1.374163814295838,
          -1.3720069796187595,
          -1.3247608510089435,
          0.7128936125271272,
          -1.2361182992940314,
          -0.2011131723521433,
          1.8290086001370824,
          -1.5378306359711813,
          1.277939232414064,
          0.7704713652904402,
          -0.04432391772501383,
          0.931430450499188,
          -1.4162795877054093,
          -1.1889993296726404,
          -0.039619142630552696,
          0.229314181496651,
          1.747491552717108,
          0.47651489046478396,
          0.29695716947331746,
          -0.8784372770247785,
          -1.344414299986784,
          1.7021406854463954
         ],
         "xaxis": "x3",
         "y": [
          -0.5019262604718252,
          1.3406574372295323,
          -0.14453389308463846,
          0.040956373720975554,
          0.7274751665220139,
          0.02772203928139414,
          -0.2627967982077833,
          -0.6445792859574564,
          -0.12440658548148807,
          -1.4195717936405616,
          -0.5881620964690552,
          0.1968941489793469,
          0.24836115152992447,
          1.1906853329299731,
          -0.20731260889632006,
          0.04751918853287542,
          1.714309247596637,
          -0.2014585421239541,
          -0.706546818966052,
          -1.2789820090973136,
          -0.29087411730222307,
          0.30696147278145924,
          0.6542094312601774,
          0.6346490022624198,
          -1.453964470447946,
          -0.2562556030355115,
          -0.13399741602615234,
          1.043664761096363,
          1.5362170449236299,
          -1.139822665761981,
          -1.3081191119064488,
          0.3022549378458871,
          1.3730961762014156,
          0.5088024651071592,
          -0.8464243671405703,
          -1.2011957891288758,
          1.160341198796026,
          0.027689159510517817,
          1.3797848021879668,
          -0.11870973173703767,
          0.7548654583979592,
          0.6673776766556359,
          -0.1416767698425056,
          -1.3702526577901337,
          -0.22733380869451456,
          -0.3860545857839438,
          -0.4746494033140237,
          -1.4423873780835887,
          -0.5232558519147569,
          0.9923567002966976,
          -1.3367993456448217,
          0.35964321503622887,
          -0.8508495574838864,
          0.883592769966994,
          -0.6246517499576894,
          0.27989103186935305,
          0.6131371580496763,
          0.3216230855728305,
          0.28464155507737726,
          1.44503447655136,
          -0.27721413247491106,
          -1.4087811922820848,
          -0.33100038597981374,
          -0.7676458148982221,
          -0.9068197369866156,
          -0.4064278014938917,
          0.4841752803205062,
          -1.7939182078675981,
          0.645534754730688,
          -0.8546984857726455,
          -2.5751222033503276,
          -1.5496209941435157,
          -1.845264470705639,
          -1.7955574080362404,
          -1.0990447387369575,
          -0.02806115476210823,
          -0.09459203941178367,
          -0.8775873145390063,
          -4.121990228815462,
          -1.4352429415503278,
          -0.9688499652094146,
          -1.5041241800369083,
          -1.7357005143943813,
          -0.4502043873141606,
          -0.8411556452989516,
          -0.017478105167135518,
          -0.4047434754669365,
          -0.46049951646255516,
          -1.7239509268452278,
          -2.077507197691761,
          0.18656533416519658,
          0.05483152572246387,
          -1.1988250504309492,
          -0.6769503724014974,
          -0.07033222410676333,
          1.8214626735961084,
          0.48073894868276373,
          -1.028001117338976,
          -0.03736194677178664,
          -0.1613022757355416
         ],
         "yaxis": "y3"
        },
        {
         "line": {
          "color": "rgba(128, 128, 128, 1.0)",
          "dash": "solid",
          "shape": "linear",
          "width": 1.3
         },
         "marker": {
          "size": 2,
          "symbol": "circle"
         },
         "mode": "markers",
         "name": "A",
         "text": "",
         "type": "scatter",
         "x": [
          -0.47956938719333003,
          -1.1316430122868586,
          -1.4394984520413132,
          -1.6980544471081662,
          1.6517541276586782,
          -0.6016421348936393,
          0.4814954559638268,
          0.8358947636749885,
          -0.35229327071067085,
          0.8879888146598545,
          0.5079191018683458,
          1.7687252545276593,
          1.7792502777440802,
          1.766633605878207,
          1.1560748032756702,
          0.04530431877778243,
          0.8289360925137279,
          -0.08181062310565014,
          -1.3464133178804472,
          0.1939550092453204,
          -0.03080872689105242,
          -1.2996459250407195,
          0.8394667703660101,
          1.6198893101970748,
          0.44852945053110505,
          0.6508435189005042,
          -0.01566524908776226,
          1.205701927134643,
          0.6429050766084116,
          1.6590156399517664,
          -1.8413726285307792,
          -1.2512958605279527,
          -0.38839979338747677,
          -0.8382712619390268,
          -0.7640465135293413,
          -1.9574677656110746,
          -0.1819576822778034,
          0.34756350172202394,
          -2.0236901401471528,
          -0.934013514983784,
          -1.0547553069277258,
          -1.2223477384073151,
          -1.2610612837993038,
          0.5124029846195318,
          -0.12836116938872946,
          0.09570755732141845,
          1.0584142997790176,
          -0.7534000492954668,
          -0.39168333648515546,
          0.9427562596411888,
          -1.2649488886451548,
          -0.27912128350651055,
          -0.7082710101575158,
          0.31282738621271344,
          -0.6023436379277887,
          2.1596744461659076,
          -0.9223512546575351,
          0.6357441528389547,
          -0.9103977829395166,
          -0.24197499297387493,
          -1.0490933014045551,
          -0.5637401120482566,
          -0.49036669396333205,
          -1.1322384577611027,
          -1.3982878650691326,
          -0.7559097570278627,
          -1.4394068225015968,
          -1.2926381659267812,
          1.6756183646986447,
          1.2468189425235499,
          -1.0045614815874546,
          -0.7817140605037985,
          -1.1310812204419576,
          0.2789631959398414,
          -1.0261283228217053,
          -0.3229792328969324,
          -0.20483934769039758,
          0.6686474508811284,
          0.17496267455034867,
          -2.4227361960895872,
          -0.0689189156724492,
          -0.17035482159845666,
          1.1558215291727423,
          0.1799892673474436,
          1.3162907788144025,
          1.5919033022567164,
          -1.5056105354003668,
          0.31865214704909434,
          -1.6231483618340186,
          0.19108793947928213,
          -0.8307866105310673,
          -0.006053650666354444,
          -0.5034800152612379,
          0.8261439404115187,
          -0.25309060647659787,
          0.6389383222916003,
          0.5461201973821405,
          2.031866229706439,
          1.4946689301105966,
          -1.157159990051492
         ],
         "xaxis": "x4",
         "y": [
          -0.5019262604718252,
          1.3406574372295323,
          -0.14453389308463846,
          0.040956373720975554,
          0.7274751665220139,
          0.02772203928139414,
          -0.2627967982077833,
          -0.6445792859574564,
          -0.12440658548148807,
          -1.4195717936405616,
          -0.5881620964690552,
          0.1968941489793469,
          0.24836115152992447,
          1.1906853329299731,
          -0.20731260889632006,
          0.04751918853287542,
          1.714309247596637,
          -0.2014585421239541,
          -0.706546818966052,
          -1.2789820090973136,
          -0.29087411730222307,
          0.30696147278145924,
          0.6542094312601774,
          0.6346490022624198,
          -1.453964470447946,
          -0.2562556030355115,
          -0.13399741602615234,
          1.043664761096363,
          1.5362170449236299,
          -1.139822665761981,
          -1.3081191119064488,
          0.3022549378458871,
          1.3730961762014156,
          0.5088024651071592,
          -0.8464243671405703,
          -1.2011957891288758,
          1.160341198796026,
          0.027689159510517817,
          1.3797848021879668,
          -0.11870973173703767,
          0.7548654583979592,
          0.6673776766556359,
          -0.1416767698425056,
          -1.3702526577901337,
          -0.22733380869451456,
          -0.3860545857839438,
          -0.4746494033140237,
          -1.4423873780835887,
          -0.5232558519147569,
          0.9923567002966976,
          -1.3367993456448217,
          0.35964321503622887,
          -0.8508495574838864,
          0.883592769966994,
          -0.6246517499576894,
          0.27989103186935305,
          0.6131371580496763,
          0.3216230855728305,
          0.28464155507737726,
          1.44503447655136,
          -0.27721413247491106,
          -1.4087811922820848,
          -0.33100038597981374,
          -0.7676458148982221,
          -0.9068197369866156,
          -0.4064278014938917,
          0.4841752803205062,
          -1.7939182078675981,
          0.645534754730688,
          -0.8546984857726455,
          -2.5751222033503276,
          -1.5496209941435157,
          -1.845264470705639,
          -1.7955574080362404,
          -1.0990447387369575,
          -0.02806115476210823,
          -0.09459203941178367,
          -0.8775873145390063,
          -4.121990228815462,
          -1.4352429415503278,
          -0.9688499652094146,
          -1.5041241800369083,
          -1.7357005143943813,
          -0.4502043873141606,
          -0.8411556452989516,
          -0.017478105167135518,
          -0.4047434754669365,
          -0.46049951646255516,
          -1.7239509268452278,
          -2.077507197691761,
          0.18656533416519658,
          0.05483152572246387,
          -1.1988250504309492,
          -0.6769503724014974,
          -0.07033222410676333,
          1.8214626735961084,
          0.48073894868276373,
          -1.028001117338976,
          -0.03736194677178664,
          -0.1613022757355416
         ],
         "yaxis": "y4"
        },
        {
         "line": {
          "color": "rgba(128, 128, 128, 1.0)",
          "dash": "solid",
          "shape": "linear",
          "width": 1.3
         },
         "marker": {
          "size": 2,
          "symbol": "circle"
         },
         "mode": "markers",
         "name": "B",
         "text": "",
         "type": "scatter",
         "x": [
          -0.5019262604718252,
          1.3406574372295323,
          -0.14453389308463846,
          0.040956373720975554,
          0.7274751665220139,
          0.02772203928139414,
          -0.2627967982077833,
          -0.6445792859574564,
          -0.12440658548148807,
          -1.4195717936405616,
          -0.5881620964690552,
          0.1968941489793469,
          0.24836115152992447,
          1.1906853329299731,
          -0.20731260889632006,
          0.04751918853287542,
          1.714309247596637,
          -0.2014585421239541,
          -0.706546818966052,
          -1.2789820090973136,
          -0.29087411730222307,
          0.30696147278145924,
          0.6542094312601774,
          0.6346490022624198,
          -1.453964470447946,
          -0.2562556030355115,
          -0.13399741602615234,
          1.043664761096363,
          1.5362170449236299,
          -1.139822665761981,
          -1.3081191119064488,
          0.3022549378458871,
          1.3730961762014156,
          0.5088024651071592,
          -0.8464243671405703,
          -1.2011957891288758,
          1.160341198796026,
          0.027689159510517817,
          1.3797848021879668,
          -0.11870973173703767,
          0.7548654583979592,
          0.6673776766556359,
          -0.1416767698425056,
          -1.3702526577901337,
          -0.22733380869451456,
          -0.3860545857839438,
          -0.4746494033140237,
          -1.4423873780835887,
          -0.5232558519147569,
          0.9923567002966976,
          -1.3367993456448217,
          0.35964321503622887,
          -0.8508495574838864,
          0.883592769966994,
          -0.6246517499576894,
          0.27989103186935305,
          0.6131371580496763,
          0.3216230855728305,
          0.28464155507737726,
          1.44503447655136,
          -0.27721413247491106,
          -1.4087811922820848,
          -0.33100038597981374,
          -0.7676458148982221,
          -0.9068197369866156,
          -0.4064278014938917,
          0.4841752803205062,
          -1.7939182078675981,
          0.645534754730688,
          -0.8546984857726455,
          -2.5751222033503276,
          -1.5496209941435157,
          -1.845264470705639,
          -1.7955574080362404,
          -1.0990447387369575,
          -0.02806115476210823,
          -0.09459203941178367,
          -0.8775873145390063,
          -4.121990228815462,
          -1.4352429415503278,
          -0.9688499652094146,
          -1.5041241800369083,
          -1.7357005143943813,
          -0.4502043873141606,
          -0.8411556452989516,
          -0.017478105167135518,
          -0.4047434754669365,
          -0.46049951646255516,
          -1.7239509268452278,
          -2.077507197691761,
          0.18656533416519658,
          0.05483152572246387,
          -1.1988250504309492,
          -0.6769503724014974,
          -0.07033222410676333,
          1.8214626735961084,
          0.48073894868276373,
          -1.028001117338976,
          -0.03736194677178664,
          -0.1613022757355416
         ],
         "xaxis": "x5",
         "y": [
          -0.8537742762332164,
          1.0157322930976045,
          1.2316869207547705,
          0.1314299722305412,
          -0.633724221261174,
          -1.021091071695296,
          0.05493633765137216,
          0.5561493102654288,
          -0.606363232964669,
          0.5413884046594294,
          1.5191493772222278,
          -0.9771583011795383,
          -2.564988254175942,
          -1.511871766233654,
          0.1698098432471122,
          -0.0006299061581094447,
          0.019540019752891886,
          -0.20333090941576668,
          -1.0515069577217253,
          0.8535637865467421,
          0.7479173990250584,
          1.5740810908189957,
          -0.2134294929037309,
          -0.8287624452994441,
          1.8084096050913296,
          -0.4985374462398888,
          -0.07050276829129744,
          0.2454396915192863,
          1.5865458034730295,
          0.22855415423131717,
          1.2318015789536472,
          -0.2683148170438074,
          0.2721415238481511,
          1.4289215468174405,
          0.3407877359485261,
          2.1163336799878025,
          -1.2175531392623062,
          1.0493278651389129,
          0.019850364513919506,
          1.7905761038088464,
          0.2718209125384333,
          0.9423641957958778,
          1.639765844844743,
          1.3938704008306384,
          -0.3588645773400398,
          -0.9247625382971925,
          1.6635092098571502,
          -0.8502091892531796,
          1.129888165743087,
          -0.9209889483736413,
          -0.6675980382475256,
          -0.8294327676779536,
          1.9101387765933906,
          0.6278871873084058,
          0.29342412609384266,
          0.2719883298680775,
          -1.2383177845611195,
          0.23924194267683924,
          -0.7947533691988276,
          0.369281989374878,
          -0.5362511746826577,
          -1.8551607079119403,
          1.4351948232022345,
          0.24854237986146002,
          -2.5847223229622402,
          -1.4763150326920196,
          0.16805478888458833,
          0.48872897444176455,
          0.18610409006261094,
          -0.18722588584988972,
          -0.6361226923627324,
          -0.8021976334316585,
          1.0793256151600996,
          0.8927522531499735,
          -1.0400918766611247,
          1.3309567449801414,
          -0.23918015765720343,
          0.21827777245077276,
          0.6643448470304437,
          -0.9887852571546005,
          -1.9802413017970966,
          1.310100856690185,
          -0.02734743222390547,
          -1.643015114730303,
          -0.09084317256020294,
          1.8388734031514915,
          1.563071326231132,
          -0.8096762102199779,
          0.4597566070432031,
          -0.6950082009640749,
          2.251854180395313,
          -0.2175714152370271,
          0.5372187334131854,
          -1.0190670145375262,
          -1.3175105585197597,
          -2.1250187398628486,
          0.8472747609702648,
          -2.3971849488244765,
          -1.3737368824255878,
          -0.6940420292071485
         ],
         "yaxis": "y5"
        },
        {
         "histfunc": "count",
         "histnorm": "",
         "marker": {
          "color": "rgba(55, 128, 191, 1.0)",
          "line": {
           "color": "#4D5663",
           "width": 1.3
          }
         },
         "name": "B",
         "nbinsx": 10,
         "opacity": 0.8,
         "orientation": "v",
         "type": "histogram",
         "x": [
          -0.8537742762332164,
          1.0157322930976045,
          1.2316869207547705,
          0.1314299722305412,
          -0.633724221261174,
          -1.021091071695296,
          0.05493633765137216,
          0.5561493102654288,
          -0.606363232964669,
          0.5413884046594294,
          1.5191493772222278,
          -0.9771583011795383,
          -2.564988254175942,
          -1.511871766233654,
          0.1698098432471122,
          -0.0006299061581094447,
          0.019540019752891886,
          -0.20333090941576668,
          -1.0515069577217253,
          0.8535637865467421,
          0.7479173990250584,
          1.5740810908189957,
          -0.2134294929037309,
          -0.8287624452994441,
          1.8084096050913296,
          -0.4985374462398888,
          -0.07050276829129744,
          0.2454396915192863,
          1.5865458034730295,
          0.22855415423131717,
          1.2318015789536472,
          -0.2683148170438074,
          0.2721415238481511,
          1.4289215468174405,
          0.3407877359485261,
          2.1163336799878025,
          -1.2175531392623062,
          1.0493278651389129,
          0.019850364513919506,
          1.7905761038088464,
          0.2718209125384333,
          0.9423641957958778,
          1.639765844844743,
          1.3938704008306384,
          -0.3588645773400398,
          -0.9247625382971925,
          1.6635092098571502,
          -0.8502091892531796,
          1.129888165743087,
          -0.9209889483736413,
          -0.6675980382475256,
          -0.8294327676779536,
          1.9101387765933906,
          0.6278871873084058,
          0.29342412609384266,
          0.2719883298680775,
          -1.2383177845611195,
          0.23924194267683924,
          -0.7947533691988276,
          0.369281989374878,
          -0.5362511746826577,
          -1.8551607079119403,
          1.4351948232022345,
          0.24854237986146002,
          -2.5847223229622402,
          -1.4763150326920196,
          0.16805478888458833,
          0.48872897444176455,
          0.18610409006261094,
          -0.18722588584988972,
          -0.6361226923627324,
          -0.8021976334316585,
          1.0793256151600996,
          0.8927522531499735,
          -1.0400918766611247,
          1.3309567449801414,
          -0.23918015765720343,
          0.21827777245077276,
          0.6643448470304437,
          -0.9887852571546005,
          -1.9802413017970966,
          1.310100856690185,
          -0.02734743222390547,
          -1.643015114730303,
          -0.09084317256020294,
          1.8388734031514915,
          1.563071326231132,
          -0.8096762102199779,
          0.4597566070432031,
          -0.6950082009640749,
          2.251854180395313,
          -0.2175714152370271,
          0.5372187334131854,
          -1.0190670145375262,
          -1.3175105585197597,
          -2.1250187398628486,
          0.8472747609702648,
          -2.3971849488244765,
          -1.3737368824255878,
          -0.6940420292071485
         ],
         "xaxis": "x6",
         "yaxis": "y6"
        },
        {
         "line": {
          "color": "rgba(128, 128, 128, 1.0)",
          "dash": "solid",
          "shape": "linear",
          "width": 1.3
         },
         "marker": {
          "size": 2,
          "symbol": "circle"
         },
         "mode": "markers",
         "name": "B",
         "text": "",
         "type": "scatter",
         "x": [
          0.4618236809570364,
          -1.8760345217107905,
          -0.024461448454044847,
          1.2574003360533095,
          -1.6603300720586975,
          0.9431808539198537,
          -0.3275006769611364,
          -0.6002280473322315,
          -0.9847738299959304,
          -0.16330418856163223,
          1.597188095112297,
          0.5688457854085364,
          0.12900455589561993,
          1.1456471972055877,
          -0.9784438357796877,
          0.5584583481411688,
          1.376835269025118,
          0.7078730006884457,
          -1.8150727227537027,
          1.1263419432513881,
          -0.9353705491923401,
          -1.1015856046350405,
          -1.3325938204413277,
          0.8827096559088252,
          1.4918321860205819,
          0.9863566468584642,
          -0.8385672256548253,
          0.5245850292006667,
          0.12065489545438189,
          0.05502199013118476,
          -0.30656589888113434,
          -0.6997121929122817,
          1.1662992585723713,
          0.5580159509947691,
          -0.12023744165306582,
          0.5056202557102356,
          0.4598136480108525,
          -1.0747407823181587,
          0.013256239586534642,
          -0.517675075967214,
          -0.7796594059393782,
          0.23578250445412977,
          0.20432802495424515,
          0.14101680554886295,
          0.9575334689804115,
          -0.6925673483003029,
          -0.8705935727439931,
          -0.8416031921405447,
          0.6873021607060796,
          -0.004944876023452826,
          0.49041295085782466,
          -1.2317940178702407,
          -0.0813901088437757,
          1.6709144639252376,
          0.57813585960082,
          -0.45189766232725553,
          1.0976466197209371,
          -1.7824104217096723,
          0.6387234746998384,
          0.17607591088185068,
          0.016398121006212477,
          0.7459912835659003,
          -1.1112853989633977,
          -0.5154088639815375,
          0.3881825476474756,
          -0.7314273379173726,
          -0.1726749846298453,
          -1.0660296087533017,
          0.24610014216510956,
          0.006256715434016159,
          -0.564137786805348,
          0.2591038145327592,
          -0.6953083094333815,
          -1.1055580185618308,
          -0.6245396668612723,
          -0.3190673665376973,
          1.5037907002025412,
          0.21950510334576176,
          1.374163814295838,
          -1.3720069796187595,
          -1.3247608510089435,
          0.7128936125271272,
          -1.2361182992940314,
          -0.2011131723521433,
          1.8290086001370824,
          -1.5378306359711813,
          1.277939232414064,
          0.7704713652904402,
          -0.04432391772501383,
          0.931430450499188,
          -1.4162795877054093,
          -1.1889993296726404,
          -0.039619142630552696,
          0.229314181496651,
          1.747491552717108,
          0.47651489046478396,
          0.29695716947331746,
          -0.8784372770247785,
          -1.344414299986784,
          1.7021406854463954
         ],
         "xaxis": "x7",
         "y": [
          -0.8537742762332164,
          1.0157322930976045,
          1.2316869207547705,
          0.1314299722305412,
          -0.633724221261174,
          -1.021091071695296,
          0.05493633765137216,
          0.5561493102654288,
          -0.606363232964669,
          0.5413884046594294,
          1.5191493772222278,
          -0.9771583011795383,
          -2.564988254175942,
          -1.511871766233654,
          0.1698098432471122,
          -0.0006299061581094447,
          0.019540019752891886,
          -0.20333090941576668,
          -1.0515069577217253,
          0.8535637865467421,
          0.7479173990250584,
          1.5740810908189957,
          -0.2134294929037309,
          -0.8287624452994441,
          1.8084096050913296,
          -0.4985374462398888,
          -0.07050276829129744,
          0.2454396915192863,
          1.5865458034730295,
          0.22855415423131717,
          1.2318015789536472,
          -0.2683148170438074,
          0.2721415238481511,
          1.4289215468174405,
          0.3407877359485261,
          2.1163336799878025,
          -1.2175531392623062,
          1.0493278651389129,
          0.019850364513919506,
          1.7905761038088464,
          0.2718209125384333,
          0.9423641957958778,
          1.639765844844743,
          1.3938704008306384,
          -0.3588645773400398,
          -0.9247625382971925,
          1.6635092098571502,
          -0.8502091892531796,
          1.129888165743087,
          -0.9209889483736413,
          -0.6675980382475256,
          -0.8294327676779536,
          1.9101387765933906,
          0.6278871873084058,
          0.29342412609384266,
          0.2719883298680775,
          -1.2383177845611195,
          0.23924194267683924,
          -0.7947533691988276,
          0.369281989374878,
          -0.5362511746826577,
          -1.8551607079119403,
          1.4351948232022345,
          0.24854237986146002,
          -2.5847223229622402,
          -1.4763150326920196,
          0.16805478888458833,
          0.48872897444176455,
          0.18610409006261094,
          -0.18722588584988972,
          -0.6361226923627324,
          -0.8021976334316585,
          1.0793256151600996,
          0.8927522531499735,
          -1.0400918766611247,
          1.3309567449801414,
          -0.23918015765720343,
          0.21827777245077276,
          0.6643448470304437,
          -0.9887852571546005,
          -1.9802413017970966,
          1.310100856690185,
          -0.02734743222390547,
          -1.643015114730303,
          -0.09084317256020294,
          1.8388734031514915,
          1.563071326231132,
          -0.8096762102199779,
          0.4597566070432031,
          -0.6950082009640749,
          2.251854180395313,
          -0.2175714152370271,
          0.5372187334131854,
          -1.0190670145375262,
          -1.3175105585197597,
          -2.1250187398628486,
          0.8472747609702648,
          -2.3971849488244765,
          -1.3737368824255878,
          -0.6940420292071485
         ],
         "yaxis": "y7"
        },
        {
         "line": {
          "color": "rgba(128, 128, 128, 1.0)",
          "dash": "solid",
          "shape": "linear",
          "width": 1.3
         },
         "marker": {
          "size": 2,
          "symbol": "circle"
         },
         "mode": "markers",
         "name": "B",
         "text": "",
         "type": "scatter",
         "x": [
          -0.47956938719333003,
          -1.1316430122868586,
          -1.4394984520413132,
          -1.6980544471081662,
          1.6517541276586782,
          -0.6016421348936393,
          0.4814954559638268,
          0.8358947636749885,
          -0.35229327071067085,
          0.8879888146598545,
          0.5079191018683458,
          1.7687252545276593,
          1.7792502777440802,
          1.766633605878207,
          1.1560748032756702,
          0.04530431877778243,
          0.8289360925137279,
          -0.08181062310565014,
          -1.3464133178804472,
          0.1939550092453204,
          -0.03080872689105242,
          -1.2996459250407195,
          0.8394667703660101,
          1.6198893101970748,
          0.44852945053110505,
          0.6508435189005042,
          -0.01566524908776226,
          1.205701927134643,
          0.6429050766084116,
          1.6590156399517664,
          -1.8413726285307792,
          -1.2512958605279527,
          -0.38839979338747677,
          -0.8382712619390268,
          -0.7640465135293413,
          -1.9574677656110746,
          -0.1819576822778034,
          0.34756350172202394,
          -2.0236901401471528,
          -0.934013514983784,
          -1.0547553069277258,
          -1.2223477384073151,
          -1.2610612837993038,
          0.5124029846195318,
          -0.12836116938872946,
          0.09570755732141845,
          1.0584142997790176,
          -0.7534000492954668,
          -0.39168333648515546,
          0.9427562596411888,
          -1.2649488886451548,
          -0.27912128350651055,
          -0.7082710101575158,
          0.31282738621271344,
          -0.6023436379277887,
          2.1596744461659076,
          -0.9223512546575351,
          0.6357441528389547,
          -0.9103977829395166,
          -0.24197499297387493,
          -1.0490933014045551,
          -0.5637401120482566,
          -0.49036669396333205,
          -1.1322384577611027,
          -1.3982878650691326,
          -0.7559097570278627,
          -1.4394068225015968,
          -1.2926381659267812,
          1.6756183646986447,
          1.2468189425235499,
          -1.0045614815874546,
          -0.7817140605037985,
          -1.1310812204419576,
          0.2789631959398414,
          -1.0261283228217053,
          -0.3229792328969324,
          -0.20483934769039758,
          0.6686474508811284,
          0.17496267455034867,
          -2.4227361960895872,
          -0.0689189156724492,
          -0.17035482159845666,
          1.1558215291727423,
          0.1799892673474436,
          1.3162907788144025,
          1.5919033022567164,
          -1.5056105354003668,
          0.31865214704909434,
          -1.6231483618340186,
          0.19108793947928213,
          -0.8307866105310673,
          -0.006053650666354444,
          -0.5034800152612379,
          0.8261439404115187,
          -0.25309060647659787,
          0.6389383222916003,
          0.5461201973821405,
          2.031866229706439,
          1.4946689301105966,
          -1.157159990051492
         ],
         "xaxis": "x8",
         "y": [
          -0.8537742762332164,
          1.0157322930976045,
          1.2316869207547705,
          0.1314299722305412,
          -0.633724221261174,
          -1.021091071695296,
          0.05493633765137216,
          0.5561493102654288,
          -0.606363232964669,
          0.5413884046594294,
          1.5191493772222278,
          -0.9771583011795383,
          -2.564988254175942,
          -1.511871766233654,
          0.1698098432471122,
          -0.0006299061581094447,
          0.019540019752891886,
          -0.20333090941576668,
          -1.0515069577217253,
          0.8535637865467421,
          0.7479173990250584,
          1.5740810908189957,
          -0.2134294929037309,
          -0.8287624452994441,
          1.8084096050913296,
          -0.4985374462398888,
          -0.07050276829129744,
          0.2454396915192863,
          1.5865458034730295,
          0.22855415423131717,
          1.2318015789536472,
          -0.2683148170438074,
          0.2721415238481511,
          1.4289215468174405,
          0.3407877359485261,
          2.1163336799878025,
          -1.2175531392623062,
          1.0493278651389129,
          0.019850364513919506,
          1.7905761038088464,
          0.2718209125384333,
          0.9423641957958778,
          1.639765844844743,
          1.3938704008306384,
          -0.3588645773400398,
          -0.9247625382971925,
          1.6635092098571502,
          -0.8502091892531796,
          1.129888165743087,
          -0.9209889483736413,
          -0.6675980382475256,
          -0.8294327676779536,
          1.9101387765933906,
          0.6278871873084058,
          0.29342412609384266,
          0.2719883298680775,
          -1.2383177845611195,
          0.23924194267683924,
          -0.7947533691988276,
          0.369281989374878,
          -0.5362511746826577,
          -1.8551607079119403,
          1.4351948232022345,
          0.24854237986146002,
          -2.5847223229622402,
          -1.4763150326920196,
          0.16805478888458833,
          0.48872897444176455,
          0.18610409006261094,
          -0.18722588584988972,
          -0.6361226923627324,
          -0.8021976334316585,
          1.0793256151600996,
          0.8927522531499735,
          -1.0400918766611247,
          1.3309567449801414,
          -0.23918015765720343,
          0.21827777245077276,
          0.6643448470304437,
          -0.9887852571546005,
          -1.9802413017970966,
          1.310100856690185,
          -0.02734743222390547,
          -1.643015114730303,
          -0.09084317256020294,
          1.8388734031514915,
          1.563071326231132,
          -0.8096762102199779,
          0.4597566070432031,
          -0.6950082009640749,
          2.251854180395313,
          -0.2175714152370271,
          0.5372187334131854,
          -1.0190670145375262,
          -1.3175105585197597,
          -2.1250187398628486,
          0.8472747609702648,
          -2.3971849488244765,
          -1.3737368824255878,
          -0.6940420292071485
         ],
         "yaxis": "y8"
        },
        {
         "line": {
          "color": "rgba(128, 128, 128, 1.0)",
          "dash": "solid",
          "shape": "linear",
          "width": 1.3
         },
         "marker": {
          "size": 2,
          "symbol": "circle"
         },
         "mode": "markers",
         "name": "C",
         "text": "",
         "type": "scatter",
         "x": [
          -0.5019262604718252,
          1.3406574372295323,
          -0.14453389308463846,
          0.040956373720975554,
          0.7274751665220139,
          0.02772203928139414,
          -0.2627967982077833,
          -0.6445792859574564,
          -0.12440658548148807,
          -1.4195717936405616,
          -0.5881620964690552,
          0.1968941489793469,
          0.24836115152992447,
          1.1906853329299731,
          -0.20731260889632006,
          0.04751918853287542,
          1.714309247596637,
          -0.2014585421239541,
          -0.706546818966052,
          -1.2789820090973136,
          -0.29087411730222307,
          0.30696147278145924,
          0.6542094312601774,
          0.6346490022624198,
          -1.453964470447946,
          -0.2562556030355115,
          -0.13399741602615234,
          1.043664761096363,
          1.5362170449236299,
          -1.139822665761981,
          -1.3081191119064488,
          0.3022549378458871,
          1.3730961762014156,
          0.5088024651071592,
          -0.8464243671405703,
          -1.2011957891288758,
          1.160341198796026,
          0.027689159510517817,
          1.3797848021879668,
          -0.11870973173703767,
          0.7548654583979592,
          0.6673776766556359,
          -0.1416767698425056,
          -1.3702526577901337,
          -0.22733380869451456,
          -0.3860545857839438,
          -0.4746494033140237,
          -1.4423873780835887,
          -0.5232558519147569,
          0.9923567002966976,
          -1.3367993456448217,
          0.35964321503622887,
          -0.8508495574838864,
          0.883592769966994,
          -0.6246517499576894,
          0.27989103186935305,
          0.6131371580496763,
          0.3216230855728305,
          0.28464155507737726,
          1.44503447655136,
          -0.27721413247491106,
          -1.4087811922820848,
          -0.33100038597981374,
          -0.7676458148982221,
          -0.9068197369866156,
          -0.4064278014938917,
          0.4841752803205062,
          -1.7939182078675981,
          0.645534754730688,
          -0.8546984857726455,
          -2.5751222033503276,
          -1.5496209941435157,
          -1.845264470705639,
          -1.7955574080362404,
          -1.0990447387369575,
          -0.02806115476210823,
          -0.09459203941178367,
          -0.8775873145390063,
          -4.121990228815462,
          -1.4352429415503278,
          -0.9688499652094146,
          -1.5041241800369083,
          -1.7357005143943813,
          -0.4502043873141606,
          -0.8411556452989516,
          -0.017478105167135518,
          -0.4047434754669365,
          -0.46049951646255516,
          -1.7239509268452278,
          -2.077507197691761,
          0.18656533416519658,
          0.05483152572246387,
          -1.1988250504309492,
          -0.6769503724014974,
          -0.07033222410676333,
          1.8214626735961084,
          0.48073894868276373,
          -1.028001117338976,
          -0.03736194677178664,
          -0.1613022757355416
         ],
         "xaxis": "x9",
         "y": [
          0.4618236809570364,
          -1.8760345217107905,
          -0.024461448454044847,
          1.2574003360533095,
          -1.6603300720586975,
          0.9431808539198537,
          -0.3275006769611364,
          -0.6002280473322315,
          -0.9847738299959304,
          -0.16330418856163223,
          1.597188095112297,
          0.5688457854085364,
          0.12900455589561993,
          1.1456471972055877,
          -0.9784438357796877,
          0.5584583481411688,
          1.376835269025118,
          0.7078730006884457,
          -1.8150727227537027,
          1.1263419432513881,
          -0.9353705491923401,
          -1.1015856046350405,
          -1.3325938204413277,
          0.8827096559088252,
          1.4918321860205819,
          0.9863566468584642,
          -0.8385672256548253,
          0.5245850292006667,
          0.12065489545438189,
          0.05502199013118476,
          -0.30656589888113434,
          -0.6997121929122817,
          1.1662992585723713,
          0.5580159509947691,
          -0.12023744165306582,
          0.5056202557102356,
          0.4598136480108525,
          -1.0747407823181587,
          0.013256239586534642,
          -0.517675075967214,
          -0.7796594059393782,
          0.23578250445412977,
          0.20432802495424515,
          0.14101680554886295,
          0.9575334689804115,
          -0.6925673483003029,
          -0.8705935727439931,
          -0.8416031921405447,
          0.6873021607060796,
          -0.004944876023452826,
          0.49041295085782466,
          -1.2317940178702407,
          -0.0813901088437757,
          1.6709144639252376,
          0.57813585960082,
          -0.45189766232725553,
          1.0976466197209371,
          -1.7824104217096723,
          0.6387234746998384,
          0.17607591088185068,
          0.016398121006212477,
          0.7459912835659003,
          -1.1112853989633977,
          -0.5154088639815375,
          0.3881825476474756,
          -0.7314273379173726,
          -0.1726749846298453,
          -1.0660296087533017,
          0.24610014216510956,
          0.006256715434016159,
          -0.564137786805348,
          0.2591038145327592,
          -0.6953083094333815,
          -1.1055580185618308,
          -0.6245396668612723,
          -0.3190673665376973,
          1.5037907002025412,
          0.21950510334576176,
          1.374163814295838,
          -1.3720069796187595,
          -1.3247608510089435,
          0.7128936125271272,
          -1.2361182992940314,
          -0.2011131723521433,
          1.8290086001370824,
          -1.5378306359711813,
          1.277939232414064,
          0.7704713652904402,
          -0.04432391772501383,
          0.931430450499188,
          -1.4162795877054093,
          -1.1889993296726404,
          -0.039619142630552696,
          0.229314181496651,
          1.747491552717108,
          0.47651489046478396,
          0.29695716947331746,
          -0.8784372770247785,
          -1.344414299986784,
          1.7021406854463954
         ],
         "yaxis": "y9"
        },
        {
         "line": {
          "color": "rgba(128, 128, 128, 1.0)",
          "dash": "solid",
          "shape": "linear",
          "width": 1.3
         },
         "marker": {
          "size": 2,
          "symbol": "circle"
         },
         "mode": "markers",
         "name": "C",
         "text": "",
         "type": "scatter",
         "x": [
          -0.8537742762332164,
          1.0157322930976045,
          1.2316869207547705,
          0.1314299722305412,
          -0.633724221261174,
          -1.021091071695296,
          0.05493633765137216,
          0.5561493102654288,
          -0.606363232964669,
          0.5413884046594294,
          1.5191493772222278,
          -0.9771583011795383,
          -2.564988254175942,
          -1.511871766233654,
          0.1698098432471122,
          -0.0006299061581094447,
          0.019540019752891886,
          -0.20333090941576668,
          -1.0515069577217253,
          0.8535637865467421,
          0.7479173990250584,
          1.5740810908189957,
          -0.2134294929037309,
          -0.8287624452994441,
          1.8084096050913296,
          -0.4985374462398888,
          -0.07050276829129744,
          0.2454396915192863,
          1.5865458034730295,
          0.22855415423131717,
          1.2318015789536472,
          -0.2683148170438074,
          0.2721415238481511,
          1.4289215468174405,
          0.3407877359485261,
          2.1163336799878025,
          -1.2175531392623062,
          1.0493278651389129,
          0.019850364513919506,
          1.7905761038088464,
          0.2718209125384333,
          0.9423641957958778,
          1.639765844844743,
          1.3938704008306384,
          -0.3588645773400398,
          -0.9247625382971925,
          1.6635092098571502,
          -0.8502091892531796,
          1.129888165743087,
          -0.9209889483736413,
          -0.6675980382475256,
          -0.8294327676779536,
          1.9101387765933906,
          0.6278871873084058,
          0.29342412609384266,
          0.2719883298680775,
          -1.2383177845611195,
          0.23924194267683924,
          -0.7947533691988276,
          0.369281989374878,
          -0.5362511746826577,
          -1.8551607079119403,
          1.4351948232022345,
          0.24854237986146002,
          -2.5847223229622402,
          -1.4763150326920196,
          0.16805478888458833,
          0.48872897444176455,
          0.18610409006261094,
          -0.18722588584988972,
          -0.6361226923627324,
          -0.8021976334316585,
          1.0793256151600996,
          0.8927522531499735,
          -1.0400918766611247,
          1.3309567449801414,
          -0.23918015765720343,
          0.21827777245077276,
          0.6643448470304437,
          -0.9887852571546005,
          -1.9802413017970966,
          1.310100856690185,
          -0.02734743222390547,
          -1.643015114730303,
          -0.09084317256020294,
          1.8388734031514915,
          1.563071326231132,
          -0.8096762102199779,
          0.4597566070432031,
          -0.6950082009640749,
          2.251854180395313,
          -0.2175714152370271,
          0.5372187334131854,
          -1.0190670145375262,
          -1.3175105585197597,
          -2.1250187398628486,
          0.8472747609702648,
          -2.3971849488244765,
          -1.3737368824255878,
          -0.6940420292071485
         ],
         "xaxis": "x10",
         "y": [
          0.4618236809570364,
          -1.8760345217107905,
          -0.024461448454044847,
          1.2574003360533095,
          -1.6603300720586975,
          0.9431808539198537,
          -0.3275006769611364,
          -0.6002280473322315,
          -0.9847738299959304,
          -0.16330418856163223,
          1.597188095112297,
          0.5688457854085364,
          0.12900455589561993,
          1.1456471972055877,
          -0.9784438357796877,
          0.5584583481411688,
          1.376835269025118,
          0.7078730006884457,
          -1.8150727227537027,
          1.1263419432513881,
          -0.9353705491923401,
          -1.1015856046350405,
          -1.3325938204413277,
          0.8827096559088252,
          1.4918321860205819,
          0.9863566468584642,
          -0.8385672256548253,
          0.5245850292006667,
          0.12065489545438189,
          0.05502199013118476,
          -0.30656589888113434,
          -0.6997121929122817,
          1.1662992585723713,
          0.5580159509947691,
          -0.12023744165306582,
          0.5056202557102356,
          0.4598136480108525,
          -1.0747407823181587,
          0.013256239586534642,
          -0.517675075967214,
          -0.7796594059393782,
          0.23578250445412977,
          0.20432802495424515,
          0.14101680554886295,
          0.9575334689804115,
          -0.6925673483003029,
          -0.8705935727439931,
          -0.8416031921405447,
          0.6873021607060796,
          -0.004944876023452826,
          0.49041295085782466,
          -1.2317940178702407,
          -0.0813901088437757,
          1.6709144639252376,
          0.57813585960082,
          -0.45189766232725553,
          1.0976466197209371,
          -1.7824104217096723,
          0.6387234746998384,
          0.17607591088185068,
          0.016398121006212477,
          0.7459912835659003,
          -1.1112853989633977,
          -0.5154088639815375,
          0.3881825476474756,
          -0.7314273379173726,
          -0.1726749846298453,
          -1.0660296087533017,
          0.24610014216510956,
          0.006256715434016159,
          -0.564137786805348,
          0.2591038145327592,
          -0.6953083094333815,
          -1.1055580185618308,
          -0.6245396668612723,
          -0.3190673665376973,
          1.5037907002025412,
          0.21950510334576176,
          1.374163814295838,
          -1.3720069796187595,
          -1.3247608510089435,
          0.7128936125271272,
          -1.2361182992940314,
          -0.2011131723521433,
          1.8290086001370824,
          -1.5378306359711813,
          1.277939232414064,
          0.7704713652904402,
          -0.04432391772501383,
          0.931430450499188,
          -1.4162795877054093,
          -1.1889993296726404,
          -0.039619142630552696,
          0.229314181496651,
          1.747491552717108,
          0.47651489046478396,
          0.29695716947331746,
          -0.8784372770247785,
          -1.344414299986784,
          1.7021406854463954
         ],
         "yaxis": "y10"
        },
        {
         "histfunc": "count",
         "histnorm": "",
         "marker": {
          "color": "rgba(50, 171, 96, 1.0)",
          "line": {
           "color": "#4D5663",
           "width": 1.3
          }
         },
         "name": "C",
         "nbinsx": 10,
         "opacity": 0.8,
         "orientation": "v",
         "type": "histogram",
         "x": [
          0.4618236809570364,
          -1.8760345217107905,
          -0.024461448454044847,
          1.2574003360533095,
          -1.6603300720586975,
          0.9431808539198537,
          -0.3275006769611364,
          -0.6002280473322315,
          -0.9847738299959304,
          -0.16330418856163223,
          1.597188095112297,
          0.5688457854085364,
          0.12900455589561993,
          1.1456471972055877,
          -0.9784438357796877,
          0.5584583481411688,
          1.376835269025118,
          0.7078730006884457,
          -1.8150727227537027,
          1.1263419432513881,
          -0.9353705491923401,
          -1.1015856046350405,
          -1.3325938204413277,
          0.8827096559088252,
          1.4918321860205819,
          0.9863566468584642,
          -0.8385672256548253,
          0.5245850292006667,
          0.12065489545438189,
          0.05502199013118476,
          -0.30656589888113434,
          -0.6997121929122817,
          1.1662992585723713,
          0.5580159509947691,
          -0.12023744165306582,
          0.5056202557102356,
          0.4598136480108525,
          -1.0747407823181587,
          0.013256239586534642,
          -0.517675075967214,
          -0.7796594059393782,
          0.23578250445412977,
          0.20432802495424515,
          0.14101680554886295,
          0.9575334689804115,
          -0.6925673483003029,
          -0.8705935727439931,
          -0.8416031921405447,
          0.6873021607060796,
          -0.004944876023452826,
          0.49041295085782466,
          -1.2317940178702407,
          -0.0813901088437757,
          1.6709144639252376,
          0.57813585960082,
          -0.45189766232725553,
          1.0976466197209371,
          -1.7824104217096723,
          0.6387234746998384,
          0.17607591088185068,
          0.016398121006212477,
          0.7459912835659003,
          -1.1112853989633977,
          -0.5154088639815375,
          0.3881825476474756,
          -0.7314273379173726,
          -0.1726749846298453,
          -1.0660296087533017,
          0.24610014216510956,
          0.006256715434016159,
          -0.564137786805348,
          0.2591038145327592,
          -0.6953083094333815,
          -1.1055580185618308,
          -0.6245396668612723,
          -0.3190673665376973,
          1.5037907002025412,
          0.21950510334576176,
          1.374163814295838,
          -1.3720069796187595,
          -1.3247608510089435,
          0.7128936125271272,
          -1.2361182992940314,
          -0.2011131723521433,
          1.8290086001370824,
          -1.5378306359711813,
          1.277939232414064,
          0.7704713652904402,
          -0.04432391772501383,
          0.931430450499188,
          -1.4162795877054093,
          -1.1889993296726404,
          -0.039619142630552696,
          0.229314181496651,
          1.747491552717108,
          0.47651489046478396,
          0.29695716947331746,
          -0.8784372770247785,
          -1.344414299986784,
          1.7021406854463954
         ],
         "xaxis": "x11",
         "yaxis": "y11"
        },
        {
         "line": {
          "color": "rgba(128, 128, 128, 1.0)",
          "dash": "solid",
          "shape": "linear",
          "width": 1.3
         },
         "marker": {
          "size": 2,
          "symbol": "circle"
         },
         "mode": "markers",
         "name": "C",
         "text": "",
         "type": "scatter",
         "x": [
          -0.47956938719333003,
          -1.1316430122868586,
          -1.4394984520413132,
          -1.6980544471081662,
          1.6517541276586782,
          -0.6016421348936393,
          0.4814954559638268,
          0.8358947636749885,
          -0.35229327071067085,
          0.8879888146598545,
          0.5079191018683458,
          1.7687252545276593,
          1.7792502777440802,
          1.766633605878207,
          1.1560748032756702,
          0.04530431877778243,
          0.8289360925137279,
          -0.08181062310565014,
          -1.3464133178804472,
          0.1939550092453204,
          -0.03080872689105242,
          -1.2996459250407195,
          0.8394667703660101,
          1.6198893101970748,
          0.44852945053110505,
          0.6508435189005042,
          -0.01566524908776226,
          1.205701927134643,
          0.6429050766084116,
          1.6590156399517664,
          -1.8413726285307792,
          -1.2512958605279527,
          -0.38839979338747677,
          -0.8382712619390268,
          -0.7640465135293413,
          -1.9574677656110746,
          -0.1819576822778034,
          0.34756350172202394,
          -2.0236901401471528,
          -0.934013514983784,
          -1.0547553069277258,
          -1.2223477384073151,
          -1.2610612837993038,
          0.5124029846195318,
          -0.12836116938872946,
          0.09570755732141845,
          1.0584142997790176,
          -0.7534000492954668,
          -0.39168333648515546,
          0.9427562596411888,
          -1.2649488886451548,
          -0.27912128350651055,
          -0.7082710101575158,
          0.31282738621271344,
          -0.6023436379277887,
          2.1596744461659076,
          -0.9223512546575351,
          0.6357441528389547,
          -0.9103977829395166,
          -0.24197499297387493,
          -1.0490933014045551,
          -0.5637401120482566,
          -0.49036669396333205,
          -1.1322384577611027,
          -1.3982878650691326,
          -0.7559097570278627,
          -1.4394068225015968,
          -1.2926381659267812,
          1.6756183646986447,
          1.2468189425235499,
          -1.0045614815874546,
          -0.7817140605037985,
          -1.1310812204419576,
          0.2789631959398414,
          -1.0261283228217053,
          -0.3229792328969324,
          -0.20483934769039758,
          0.6686474508811284,
          0.17496267455034867,
          -2.4227361960895872,
          -0.0689189156724492,
          -0.17035482159845666,
          1.1558215291727423,
          0.1799892673474436,
          1.3162907788144025,
          1.5919033022567164,
          -1.5056105354003668,
          0.31865214704909434,
          -1.6231483618340186,
          0.19108793947928213,
          -0.8307866105310673,
          -0.006053650666354444,
          -0.5034800152612379,
          0.8261439404115187,
          -0.25309060647659787,
          0.6389383222916003,
          0.5461201973821405,
          2.031866229706439,
          1.4946689301105966,
          -1.157159990051492
         ],
         "xaxis": "x12",
         "y": [
          0.4618236809570364,
          -1.8760345217107905,
          -0.024461448454044847,
          1.2574003360533095,
          -1.6603300720586975,
          0.9431808539198537,
          -0.3275006769611364,
          -0.6002280473322315,
          -0.9847738299959304,
          -0.16330418856163223,
          1.597188095112297,
          0.5688457854085364,
          0.12900455589561993,
          1.1456471972055877,
          -0.9784438357796877,
          0.5584583481411688,
          1.376835269025118,
          0.7078730006884457,
          -1.8150727227537027,
          1.1263419432513881,
          -0.9353705491923401,
          -1.1015856046350405,
          -1.3325938204413277,
          0.8827096559088252,
          1.4918321860205819,
          0.9863566468584642,
          -0.8385672256548253,
          0.5245850292006667,
          0.12065489545438189,
          0.05502199013118476,
          -0.30656589888113434,
          -0.6997121929122817,
          1.1662992585723713,
          0.5580159509947691,
          -0.12023744165306582,
          0.5056202557102356,
          0.4598136480108525,
          -1.0747407823181587,
          0.013256239586534642,
          -0.517675075967214,
          -0.7796594059393782,
          0.23578250445412977,
          0.20432802495424515,
          0.14101680554886295,
          0.9575334689804115,
          -0.6925673483003029,
          -0.8705935727439931,
          -0.8416031921405447,
          0.6873021607060796,
          -0.004944876023452826,
          0.49041295085782466,
          -1.2317940178702407,
          -0.0813901088437757,
          1.6709144639252376,
          0.57813585960082,
          -0.45189766232725553,
          1.0976466197209371,
          -1.7824104217096723,
          0.6387234746998384,
          0.17607591088185068,
          0.016398121006212477,
          0.7459912835659003,
          -1.1112853989633977,
          -0.5154088639815375,
          0.3881825476474756,
          -0.7314273379173726,
          -0.1726749846298453,
          -1.0660296087533017,
          0.24610014216510956,
          0.006256715434016159,
          -0.564137786805348,
          0.2591038145327592,
          -0.6953083094333815,
          -1.1055580185618308,
          -0.6245396668612723,
          -0.3190673665376973,
          1.5037907002025412,
          0.21950510334576176,
          1.374163814295838,
          -1.3720069796187595,
          -1.3247608510089435,
          0.7128936125271272,
          -1.2361182992940314,
          -0.2011131723521433,
          1.8290086001370824,
          -1.5378306359711813,
          1.277939232414064,
          0.7704713652904402,
          -0.04432391772501383,
          0.931430450499188,
          -1.4162795877054093,
          -1.1889993296726404,
          -0.039619142630552696,
          0.229314181496651,
          1.747491552717108,
          0.47651489046478396,
          0.29695716947331746,
          -0.8784372770247785,
          -1.344414299986784,
          1.7021406854463954
         ],
         "yaxis": "y12"
        },
        {
         "line": {
          "color": "rgba(128, 128, 128, 1.0)",
          "dash": "solid",
          "shape": "linear",
          "width": 1.3
         },
         "marker": {
          "size": 2,
          "symbol": "circle"
         },
         "mode": "markers",
         "name": "D",
         "text": "",
         "type": "scatter",
         "x": [
          -0.5019262604718252,
          1.3406574372295323,
          -0.14453389308463846,
          0.040956373720975554,
          0.7274751665220139,
          0.02772203928139414,
          -0.2627967982077833,
          -0.6445792859574564,
          -0.12440658548148807,
          -1.4195717936405616,
          -0.5881620964690552,
          0.1968941489793469,
          0.24836115152992447,
          1.1906853329299731,
          -0.20731260889632006,
          0.04751918853287542,
          1.714309247596637,
          -0.2014585421239541,
          -0.706546818966052,
          -1.2789820090973136,
          -0.29087411730222307,
          0.30696147278145924,
          0.6542094312601774,
          0.6346490022624198,
          -1.453964470447946,
          -0.2562556030355115,
          -0.13399741602615234,
          1.043664761096363,
          1.5362170449236299,
          -1.139822665761981,
          -1.3081191119064488,
          0.3022549378458871,
          1.3730961762014156,
          0.5088024651071592,
          -0.8464243671405703,
          -1.2011957891288758,
          1.160341198796026,
          0.027689159510517817,
          1.3797848021879668,
          -0.11870973173703767,
          0.7548654583979592,
          0.6673776766556359,
          -0.1416767698425056,
          -1.3702526577901337,
          -0.22733380869451456,
          -0.3860545857839438,
          -0.4746494033140237,
          -1.4423873780835887,
          -0.5232558519147569,
          0.9923567002966976,
          -1.3367993456448217,
          0.35964321503622887,
          -0.8508495574838864,
          0.883592769966994,
          -0.6246517499576894,
          0.27989103186935305,
          0.6131371580496763,
          0.3216230855728305,
          0.28464155507737726,
          1.44503447655136,
          -0.27721413247491106,
          -1.4087811922820848,
          -0.33100038597981374,
          -0.7676458148982221,
          -0.9068197369866156,
          -0.4064278014938917,
          0.4841752803205062,
          -1.7939182078675981,
          0.645534754730688,
          -0.8546984857726455,
          -2.5751222033503276,
          -1.5496209941435157,
          -1.845264470705639,
          -1.7955574080362404,
          -1.0990447387369575,
          -0.02806115476210823,
          -0.09459203941178367,
          -0.8775873145390063,
          -4.121990228815462,
          -1.4352429415503278,
          -0.9688499652094146,
          -1.5041241800369083,
          -1.7357005143943813,
          -0.4502043873141606,
          -0.8411556452989516,
          -0.017478105167135518,
          -0.4047434754669365,
          -0.46049951646255516,
          -1.7239509268452278,
          -2.077507197691761,
          0.18656533416519658,
          0.05483152572246387,
          -1.1988250504309492,
          -0.6769503724014974,
          -0.07033222410676333,
          1.8214626735961084,
          0.48073894868276373,
          -1.028001117338976,
          -0.03736194677178664,
          -0.1613022757355416
         ],
         "xaxis": "x13",
         "y": [
          -0.47956938719333003,
          -1.1316430122868586,
          -1.4394984520413132,
          -1.6980544471081662,
          1.6517541276586782,
          -0.6016421348936393,
          0.4814954559638268,
          0.8358947636749885,
          -0.35229327071067085,
          0.8879888146598545,
          0.5079191018683458,
          1.7687252545276593,
          1.7792502777440802,
          1.766633605878207,
          1.1560748032756702,
          0.04530431877778243,
          0.8289360925137279,
          -0.08181062310565014,
          -1.3464133178804472,
          0.1939550092453204,
          -0.03080872689105242,
          -1.2996459250407195,
          0.8394667703660101,
          1.6198893101970748,
          0.44852945053110505,
          0.6508435189005042,
          -0.01566524908776226,
          1.205701927134643,
          0.6429050766084116,
          1.6590156399517664,
          -1.8413726285307792,
          -1.2512958605279527,
          -0.38839979338747677,
          -0.8382712619390268,
          -0.7640465135293413,
          -1.9574677656110746,
          -0.1819576822778034,
          0.34756350172202394,
          -2.0236901401471528,
          -0.934013514983784,
          -1.0547553069277258,
          -1.2223477384073151,
          -1.2610612837993038,
          0.5124029846195318,
          -0.12836116938872946,
          0.09570755732141845,
          1.0584142997790176,
          -0.7534000492954668,
          -0.39168333648515546,
          0.9427562596411888,
          -1.2649488886451548,
          -0.27912128350651055,
          -0.7082710101575158,
          0.31282738621271344,
          -0.6023436379277887,
          2.1596744461659076,
          -0.9223512546575351,
          0.6357441528389547,
          -0.9103977829395166,
          -0.24197499297387493,
          -1.0490933014045551,
          -0.5637401120482566,
          -0.49036669396333205,
          -1.1322384577611027,
          -1.3982878650691326,
          -0.7559097570278627,
          -1.4394068225015968,
          -1.2926381659267812,
          1.6756183646986447,
          1.2468189425235499,
          -1.0045614815874546,
          -0.7817140605037985,
          -1.1310812204419576,
          0.2789631959398414,
          -1.0261283228217053,
          -0.3229792328969324,
          -0.20483934769039758,
          0.6686474508811284,
          0.17496267455034867,
          -2.4227361960895872,
          -0.0689189156724492,
          -0.17035482159845666,
          1.1558215291727423,
          0.1799892673474436,
          1.3162907788144025,
          1.5919033022567164,
          -1.5056105354003668,
          0.31865214704909434,
          -1.6231483618340186,
          0.19108793947928213,
          -0.8307866105310673,
          -0.006053650666354444,
          -0.5034800152612379,
          0.8261439404115187,
          -0.25309060647659787,
          0.6389383222916003,
          0.5461201973821405,
          2.031866229706439,
          1.4946689301105966,
          -1.157159990051492
         ],
         "yaxis": "y13"
        },
        {
         "line": {
          "color": "rgba(128, 128, 128, 1.0)",
          "dash": "solid",
          "shape": "linear",
          "width": 1.3
         },
         "marker": {
          "size": 2,
          "symbol": "circle"
         },
         "mode": "markers",
         "name": "D",
         "text": "",
         "type": "scatter",
         "x": [
          -0.8537742762332164,
          1.0157322930976045,
          1.2316869207547705,
          0.1314299722305412,
          -0.633724221261174,
          -1.021091071695296,
          0.05493633765137216,
          0.5561493102654288,
          -0.606363232964669,
          0.5413884046594294,
          1.5191493772222278,
          -0.9771583011795383,
          -2.564988254175942,
          -1.511871766233654,
          0.1698098432471122,
          -0.0006299061581094447,
          0.019540019752891886,
          -0.20333090941576668,
          -1.0515069577217253,
          0.8535637865467421,
          0.7479173990250584,
          1.5740810908189957,
          -0.2134294929037309,
          -0.8287624452994441,
          1.8084096050913296,
          -0.4985374462398888,
          -0.07050276829129744,
          0.2454396915192863,
          1.5865458034730295,
          0.22855415423131717,
          1.2318015789536472,
          -0.2683148170438074,
          0.2721415238481511,
          1.4289215468174405,
          0.3407877359485261,
          2.1163336799878025,
          -1.2175531392623062,
          1.0493278651389129,
          0.019850364513919506,
          1.7905761038088464,
          0.2718209125384333,
          0.9423641957958778,
          1.639765844844743,
          1.3938704008306384,
          -0.3588645773400398,
          -0.9247625382971925,
          1.6635092098571502,
          -0.8502091892531796,
          1.129888165743087,
          -0.9209889483736413,
          -0.6675980382475256,
          -0.8294327676779536,
          1.9101387765933906,
          0.6278871873084058,
          0.29342412609384266,
          0.2719883298680775,
          -1.2383177845611195,
          0.23924194267683924,
          -0.7947533691988276,
          0.369281989374878,
          -0.5362511746826577,
          -1.8551607079119403,
          1.4351948232022345,
          0.24854237986146002,
          -2.5847223229622402,
          -1.4763150326920196,
          0.16805478888458833,
          0.48872897444176455,
          0.18610409006261094,
          -0.18722588584988972,
          -0.6361226923627324,
          -0.8021976334316585,
          1.0793256151600996,
          0.8927522531499735,
          -1.0400918766611247,
          1.3309567449801414,
          -0.23918015765720343,
          0.21827777245077276,
          0.6643448470304437,
          -0.9887852571546005,
          -1.9802413017970966,
          1.310100856690185,
          -0.02734743222390547,
          -1.643015114730303,
          -0.09084317256020294,
          1.8388734031514915,
          1.563071326231132,
          -0.8096762102199779,
          0.4597566070432031,
          -0.6950082009640749,
          2.251854180395313,
          -0.2175714152370271,
          0.5372187334131854,
          -1.0190670145375262,
          -1.3175105585197597,
          -2.1250187398628486,
          0.8472747609702648,
          -2.3971849488244765,
          -1.3737368824255878,
          -0.6940420292071485
         ],
         "xaxis": "x14",
         "y": [
          -0.47956938719333003,
          -1.1316430122868586,
          -1.4394984520413132,
          -1.6980544471081662,
          1.6517541276586782,
          -0.6016421348936393,
          0.4814954559638268,
          0.8358947636749885,
          -0.35229327071067085,
          0.8879888146598545,
          0.5079191018683458,
          1.7687252545276593,
          1.7792502777440802,
          1.766633605878207,
          1.1560748032756702,
          0.04530431877778243,
          0.8289360925137279,
          -0.08181062310565014,
          -1.3464133178804472,
          0.1939550092453204,
          -0.03080872689105242,
          -1.2996459250407195,
          0.8394667703660101,
          1.6198893101970748,
          0.44852945053110505,
          0.6508435189005042,
          -0.01566524908776226,
          1.205701927134643,
          0.6429050766084116,
          1.6590156399517664,
          -1.8413726285307792,
          -1.2512958605279527,
          -0.38839979338747677,
          -0.8382712619390268,
          -0.7640465135293413,
          -1.9574677656110746,
          -0.1819576822778034,
          0.34756350172202394,
          -2.0236901401471528,
          -0.934013514983784,
          -1.0547553069277258,
          -1.2223477384073151,
          -1.2610612837993038,
          0.5124029846195318,
          -0.12836116938872946,
          0.09570755732141845,
          1.0584142997790176,
          -0.7534000492954668,
          -0.39168333648515546,
          0.9427562596411888,
          -1.2649488886451548,
          -0.27912128350651055,
          -0.7082710101575158,
          0.31282738621271344,
          -0.6023436379277887,
          2.1596744461659076,
          -0.9223512546575351,
          0.6357441528389547,
          -0.9103977829395166,
          -0.24197499297387493,
          -1.0490933014045551,
          -0.5637401120482566,
          -0.49036669396333205,
          -1.1322384577611027,
          -1.3982878650691326,
          -0.7559097570278627,
          -1.4394068225015968,
          -1.2926381659267812,
          1.6756183646986447,
          1.2468189425235499,
          -1.0045614815874546,
          -0.7817140605037985,
          -1.1310812204419576,
          0.2789631959398414,
          -1.0261283228217053,
          -0.3229792328969324,
          -0.20483934769039758,
          0.6686474508811284,
          0.17496267455034867,
          -2.4227361960895872,
          -0.0689189156724492,
          -0.17035482159845666,
          1.1558215291727423,
          0.1799892673474436,
          1.3162907788144025,
          1.5919033022567164,
          -1.5056105354003668,
          0.31865214704909434,
          -1.6231483618340186,
          0.19108793947928213,
          -0.8307866105310673,
          -0.006053650666354444,
          -0.5034800152612379,
          0.8261439404115187,
          -0.25309060647659787,
          0.6389383222916003,
          0.5461201973821405,
          2.031866229706439,
          1.4946689301105966,
          -1.157159990051492
         ],
         "yaxis": "y14"
        },
        {
         "line": {
          "color": "rgba(128, 128, 128, 1.0)",
          "dash": "solid",
          "shape": "linear",
          "width": 1.3
         },
         "marker": {
          "size": 2,
          "symbol": "circle"
         },
         "mode": "markers",
         "name": "D",
         "text": "",
         "type": "scatter",
         "x": [
          0.4618236809570364,
          -1.8760345217107905,
          -0.024461448454044847,
          1.2574003360533095,
          -1.6603300720586975,
          0.9431808539198537,
          -0.3275006769611364,
          -0.6002280473322315,
          -0.9847738299959304,
          -0.16330418856163223,
          1.597188095112297,
          0.5688457854085364,
          0.12900455589561993,
          1.1456471972055877,
          -0.9784438357796877,
          0.5584583481411688,
          1.376835269025118,
          0.7078730006884457,
          -1.8150727227537027,
          1.1263419432513881,
          -0.9353705491923401,
          -1.1015856046350405,
          -1.3325938204413277,
          0.8827096559088252,
          1.4918321860205819,
          0.9863566468584642,
          -0.8385672256548253,
          0.5245850292006667,
          0.12065489545438189,
          0.05502199013118476,
          -0.30656589888113434,
          -0.6997121929122817,
          1.1662992585723713,
          0.5580159509947691,
          -0.12023744165306582,
          0.5056202557102356,
          0.4598136480108525,
          -1.0747407823181587,
          0.013256239586534642,
          -0.517675075967214,
          -0.7796594059393782,
          0.23578250445412977,
          0.20432802495424515,
          0.14101680554886295,
          0.9575334689804115,
          -0.6925673483003029,
          -0.8705935727439931,
          -0.8416031921405447,
          0.6873021607060796,
          -0.004944876023452826,
          0.49041295085782466,
          -1.2317940178702407,
          -0.0813901088437757,
          1.6709144639252376,
          0.57813585960082,
          -0.45189766232725553,
          1.0976466197209371,
          -1.7824104217096723,
          0.6387234746998384,
          0.17607591088185068,
          0.016398121006212477,
          0.7459912835659003,
          -1.1112853989633977,
          -0.5154088639815375,
          0.3881825476474756,
          -0.7314273379173726,
          -0.1726749846298453,
          -1.0660296087533017,
          0.24610014216510956,
          0.006256715434016159,
          -0.564137786805348,
          0.2591038145327592,
          -0.6953083094333815,
          -1.1055580185618308,
          -0.6245396668612723,
          -0.3190673665376973,
          1.5037907002025412,
          0.21950510334576176,
          1.374163814295838,
          -1.3720069796187595,
          -1.3247608510089435,
          0.7128936125271272,
          -1.2361182992940314,
          -0.2011131723521433,
          1.8290086001370824,
          -1.5378306359711813,
          1.277939232414064,
          0.7704713652904402,
          -0.04432391772501383,
          0.931430450499188,
          -1.4162795877054093,
          -1.1889993296726404,
          -0.039619142630552696,
          0.229314181496651,
          1.747491552717108,
          0.47651489046478396,
          0.29695716947331746,
          -0.8784372770247785,
          -1.344414299986784,
          1.7021406854463954
         ],
         "xaxis": "x15",
         "y": [
          -0.47956938719333003,
          -1.1316430122868586,
          -1.4394984520413132,
          -1.6980544471081662,
          1.6517541276586782,
          -0.6016421348936393,
          0.4814954559638268,
          0.8358947636749885,
          -0.35229327071067085,
          0.8879888146598545,
          0.5079191018683458,
          1.7687252545276593,
          1.7792502777440802,
          1.766633605878207,
          1.1560748032756702,
          0.04530431877778243,
          0.8289360925137279,
          -0.08181062310565014,
          -1.3464133178804472,
          0.1939550092453204,
          -0.03080872689105242,
          -1.2996459250407195,
          0.8394667703660101,
          1.6198893101970748,
          0.44852945053110505,
          0.6508435189005042,
          -0.01566524908776226,
          1.205701927134643,
          0.6429050766084116,
          1.6590156399517664,
          -1.8413726285307792,
          -1.2512958605279527,
          -0.38839979338747677,
          -0.8382712619390268,
          -0.7640465135293413,
          -1.9574677656110746,
          -0.1819576822778034,
          0.34756350172202394,
          -2.0236901401471528,
          -0.934013514983784,
          -1.0547553069277258,
          -1.2223477384073151,
          -1.2610612837993038,
          0.5124029846195318,
          -0.12836116938872946,
          0.09570755732141845,
          1.0584142997790176,
          -0.7534000492954668,
          -0.39168333648515546,
          0.9427562596411888,
          -1.2649488886451548,
          -0.27912128350651055,
          -0.7082710101575158,
          0.31282738621271344,
          -0.6023436379277887,
          2.1596744461659076,
          -0.9223512546575351,
          0.6357441528389547,
          -0.9103977829395166,
          -0.24197499297387493,
          -1.0490933014045551,
          -0.5637401120482566,
          -0.49036669396333205,
          -1.1322384577611027,
          -1.3982878650691326,
          -0.7559097570278627,
          -1.4394068225015968,
          -1.2926381659267812,
          1.6756183646986447,
          1.2468189425235499,
          -1.0045614815874546,
          -0.7817140605037985,
          -1.1310812204419576,
          0.2789631959398414,
          -1.0261283228217053,
          -0.3229792328969324,
          -0.20483934769039758,
          0.6686474508811284,
          0.17496267455034867,
          -2.4227361960895872,
          -0.0689189156724492,
          -0.17035482159845666,
          1.1558215291727423,
          0.1799892673474436,
          1.3162907788144025,
          1.5919033022567164,
          -1.5056105354003668,
          0.31865214704909434,
          -1.6231483618340186,
          0.19108793947928213,
          -0.8307866105310673,
          -0.006053650666354444,
          -0.5034800152612379,
          0.8261439404115187,
          -0.25309060647659787,
          0.6389383222916003,
          0.5461201973821405,
          2.031866229706439,
          1.4946689301105966,
          -1.157159990051492
         ],
         "yaxis": "y15"
        },
        {
         "histfunc": "count",
         "histnorm": "",
         "marker": {
          "color": "rgba(128, 0, 128, 1.0)",
          "line": {
           "color": "#4D5663",
           "width": 1.3
          }
         },
         "name": "D",
         "nbinsx": 10,
         "opacity": 0.8,
         "orientation": "v",
         "type": "histogram",
         "x": [
          -0.47956938719333003,
          -1.1316430122868586,
          -1.4394984520413132,
          -1.6980544471081662,
          1.6517541276586782,
          -0.6016421348936393,
          0.4814954559638268,
          0.8358947636749885,
          -0.35229327071067085,
          0.8879888146598545,
          0.5079191018683458,
          1.7687252545276593,
          1.7792502777440802,
          1.766633605878207,
          1.1560748032756702,
          0.04530431877778243,
          0.8289360925137279,
          -0.08181062310565014,
          -1.3464133178804472,
          0.1939550092453204,
          -0.03080872689105242,
          -1.2996459250407195,
          0.8394667703660101,
          1.6198893101970748,
          0.44852945053110505,
          0.6508435189005042,
          -0.01566524908776226,
          1.205701927134643,
          0.6429050766084116,
          1.6590156399517664,
          -1.8413726285307792,
          -1.2512958605279527,
          -0.38839979338747677,
          -0.8382712619390268,
          -0.7640465135293413,
          -1.9574677656110746,
          -0.1819576822778034,
          0.34756350172202394,
          -2.0236901401471528,
          -0.934013514983784,
          -1.0547553069277258,
          -1.2223477384073151,
          -1.2610612837993038,
          0.5124029846195318,
          -0.12836116938872946,
          0.09570755732141845,
          1.0584142997790176,
          -0.7534000492954668,
          -0.39168333648515546,
          0.9427562596411888,
          -1.2649488886451548,
          -0.27912128350651055,
          -0.7082710101575158,
          0.31282738621271344,
          -0.6023436379277887,
          2.1596744461659076,
          -0.9223512546575351,
          0.6357441528389547,
          -0.9103977829395166,
          -0.24197499297387493,
          -1.0490933014045551,
          -0.5637401120482566,
          -0.49036669396333205,
          -1.1322384577611027,
          -1.3982878650691326,
          -0.7559097570278627,
          -1.4394068225015968,
          -1.2926381659267812,
          1.6756183646986447,
          1.2468189425235499,
          -1.0045614815874546,
          -0.7817140605037985,
          -1.1310812204419576,
          0.2789631959398414,
          -1.0261283228217053,
          -0.3229792328969324,
          -0.20483934769039758,
          0.6686474508811284,
          0.17496267455034867,
          -2.4227361960895872,
          -0.0689189156724492,
          -0.17035482159845666,
          1.1558215291727423,
          0.1799892673474436,
          1.3162907788144025,
          1.5919033022567164,
          -1.5056105354003668,
          0.31865214704909434,
          -1.6231483618340186,
          0.19108793947928213,
          -0.8307866105310673,
          -0.006053650666354444,
          -0.5034800152612379,
          0.8261439404115187,
          -0.25309060647659787,
          0.6389383222916003,
          0.5461201973821405,
          2.031866229706439,
          1.4946689301105966,
          -1.157159990051492
         ],
         "xaxis": "x16",
         "yaxis": "y16"
        }
       ],
       "layout": {
        "bargap": 0.02,
        "legend": {
         "bgcolor": "#F5F6F9",
         "font": {
          "color": "#4D5663"
         }
        },
        "paper_bgcolor": "#F5F6F9",
        "plot_bgcolor": "#F5F6F9",
        "showlegend": false,
        "template": {
         "data": {
          "bar": [
           {
            "error_x": {
             "color": "#2a3f5f"
            },
            "error_y": {
             "color": "#2a3f5f"
            },
            "marker": {
             "line": {
              "color": "#E5ECF6",
              "width": 0.5
             },
             "pattern": {
              "fillmode": "overlay",
              "size": 10,
              "solidity": 0.2
             }
            },
            "type": "bar"
           }
          ],
          "barpolar": [
           {
            "marker": {
             "line": {
              "color": "#E5ECF6",
              "width": 0.5
             },
             "pattern": {
              "fillmode": "overlay",
              "size": 10,
              "solidity": 0.2
             }
            },
            "type": "barpolar"
           }
          ],
          "carpet": [
           {
            "aaxis": {
             "endlinecolor": "#2a3f5f",
             "gridcolor": "white",
             "linecolor": "white",
             "minorgridcolor": "white",
             "startlinecolor": "#2a3f5f"
            },
            "baxis": {
             "endlinecolor": "#2a3f5f",
             "gridcolor": "white",
             "linecolor": "white",
             "minorgridcolor": "white",
             "startlinecolor": "#2a3f5f"
            },
            "type": "carpet"
           }
          ],
          "choropleth": [
           {
            "colorbar": {
             "outlinewidth": 0,
             "ticks": ""
            },
            "type": "choropleth"
           }
          ],
          "contour": [
           {
            "colorbar": {
             "outlinewidth": 0,
             "ticks": ""
            },
            "colorscale": [
             [
              0,
              "#0d0887"
             ],
             [
              0.1111111111111111,
              "#46039f"
             ],
             [
              0.2222222222222222,
              "#7201a8"
             ],
             [
              0.3333333333333333,
              "#9c179e"
             ],
             [
              0.4444444444444444,
              "#bd3786"
             ],
             [
              0.5555555555555556,
              "#d8576b"
             ],
             [
              0.6666666666666666,
              "#ed7953"
             ],
             [
              0.7777777777777778,
              "#fb9f3a"
             ],
             [
              0.8888888888888888,
              "#fdca26"
             ],
             [
              1,
              "#f0f921"
             ]
            ],
            "type": "contour"
           }
          ],
          "contourcarpet": [
           {
            "colorbar": {
             "outlinewidth": 0,
             "ticks": ""
            },
            "type": "contourcarpet"
           }
          ],
          "heatmap": [
           {
            "colorbar": {
             "outlinewidth": 0,
             "ticks": ""
            },
            "colorscale": [
             [
              0,
              "#0d0887"
             ],
             [
              0.1111111111111111,
              "#46039f"
             ],
             [
              0.2222222222222222,
              "#7201a8"
             ],
             [
              0.3333333333333333,
              "#9c179e"
             ],
             [
              0.4444444444444444,
              "#bd3786"
             ],
             [
              0.5555555555555556,
              "#d8576b"
             ],
             [
              0.6666666666666666,
              "#ed7953"
             ],
             [
              0.7777777777777778,
              "#fb9f3a"
             ],
             [
              0.8888888888888888,
              "#fdca26"
             ],
             [
              1,
              "#f0f921"
             ]
            ],
            "type": "heatmap"
           }
          ],
          "heatmapgl": [
           {
            "colorbar": {
             "outlinewidth": 0,
             "ticks": ""
            },
            "colorscale": [
             [
              0,
              "#0d0887"
             ],
             [
              0.1111111111111111,
              "#46039f"
             ],
             [
              0.2222222222222222,
              "#7201a8"
             ],
             [
              0.3333333333333333,
              "#9c179e"
             ],
             [
              0.4444444444444444,
              "#bd3786"
             ],
             [
              0.5555555555555556,
              "#d8576b"
             ],
             [
              0.6666666666666666,
              "#ed7953"
             ],
             [
              0.7777777777777778,
              "#fb9f3a"
             ],
             [
              0.8888888888888888,
              "#fdca26"
             ],
             [
              1,
              "#f0f921"
             ]
            ],
            "type": "heatmapgl"
           }
          ],
          "histogram": [
           {
            "marker": {
             "pattern": {
              "fillmode": "overlay",
              "size": 10,
              "solidity": 0.2
             }
            },
            "type": "histogram"
           }
          ],
          "histogram2d": [
           {
            "colorbar": {
             "outlinewidth": 0,
             "ticks": ""
            },
            "colorscale": [
             [
              0,
              "#0d0887"
             ],
             [
              0.1111111111111111,
              "#46039f"
             ],
             [
              0.2222222222222222,
              "#7201a8"
             ],
             [
              0.3333333333333333,
              "#9c179e"
             ],
             [
              0.4444444444444444,
              "#bd3786"
             ],
             [
              0.5555555555555556,
              "#d8576b"
             ],
             [
              0.6666666666666666,
              "#ed7953"
             ],
             [
              0.7777777777777778,
              "#fb9f3a"
             ],
             [
              0.8888888888888888,
              "#fdca26"
             ],
             [
              1,
              "#f0f921"
             ]
            ],
            "type": "histogram2d"
           }
          ],
          "histogram2dcontour": [
           {
            "colorbar": {
             "outlinewidth": 0,
             "ticks": ""
            },
            "colorscale": [
             [
              0,
              "#0d0887"
             ],
             [
              0.1111111111111111,
              "#46039f"
             ],
             [
              0.2222222222222222,
              "#7201a8"
             ],
             [
              0.3333333333333333,
              "#9c179e"
             ],
             [
              0.4444444444444444,
              "#bd3786"
             ],
             [
              0.5555555555555556,
              "#d8576b"
             ],
             [
              0.6666666666666666,
              "#ed7953"
             ],
             [
              0.7777777777777778,
              "#fb9f3a"
             ],
             [
              0.8888888888888888,
              "#fdca26"
             ],
             [
              1,
              "#f0f921"
             ]
            ],
            "type": "histogram2dcontour"
           }
          ],
          "mesh3d": [
           {
            "colorbar": {
             "outlinewidth": 0,
             "ticks": ""
            },
            "type": "mesh3d"
           }
          ],
          "parcoords": [
           {
            "line": {
             "colorbar": {
              "outlinewidth": 0,
              "ticks": ""
             }
            },
            "type": "parcoords"
           }
          ],
          "pie": [
           {
            "automargin": true,
            "type": "pie"
           }
          ],
          "scatter": [
           {
            "fillpattern": {
             "fillmode": "overlay",
             "size": 10,
             "solidity": 0.2
            },
            "type": "scatter"
           }
          ],
          "scatter3d": [
           {
            "line": {
             "colorbar": {
              "outlinewidth": 0,
              "ticks": ""
             }
            },
            "marker": {
             "colorbar": {
              "outlinewidth": 0,
              "ticks": ""
             }
            },
            "type": "scatter3d"
           }
          ],
          "scattercarpet": [
           {
            "marker": {
             "colorbar": {
              "outlinewidth": 0,
              "ticks": ""
             }
            },
            "type": "scattercarpet"
           }
          ],
          "scattergeo": [
           {
            "marker": {
             "colorbar": {
              "outlinewidth": 0,
              "ticks": ""
             }
            },
            "type": "scattergeo"
           }
          ],
          "scattergl": [
           {
            "marker": {
             "colorbar": {
              "outlinewidth": 0,
              "ticks": ""
             }
            },
            "type": "scattergl"
           }
          ],
          "scattermapbox": [
           {
            "marker": {
             "colorbar": {
              "outlinewidth": 0,
              "ticks": ""
             }
            },
            "type": "scattermapbox"
           }
          ],
          "scatterpolar": [
           {
            "marker": {
             "colorbar": {
              "outlinewidth": 0,
              "ticks": ""
             }
            },
            "type": "scatterpolar"
           }
          ],
          "scatterpolargl": [
           {
            "marker": {
             "colorbar": {
              "outlinewidth": 0,
              "ticks": ""
             }
            },
            "type": "scatterpolargl"
           }
          ],
          "scatterternary": [
           {
            "marker": {
             "colorbar": {
              "outlinewidth": 0,
              "ticks": ""
             }
            },
            "type": "scatterternary"
           }
          ],
          "surface": [
           {
            "colorbar": {
             "outlinewidth": 0,
             "ticks": ""
            },
            "colorscale": [
             [
              0,
              "#0d0887"
             ],
             [
              0.1111111111111111,
              "#46039f"
             ],
             [
              0.2222222222222222,
              "#7201a8"
             ],
             [
              0.3333333333333333,
              "#9c179e"
             ],
             [
              0.4444444444444444,
              "#bd3786"
             ],
             [
              0.5555555555555556,
              "#d8576b"
             ],
             [
              0.6666666666666666,
              "#ed7953"
             ],
             [
              0.7777777777777778,
              "#fb9f3a"
             ],
             [
              0.8888888888888888,
              "#fdca26"
             ],
             [
              1,
              "#f0f921"
             ]
            ],
            "type": "surface"
           }
          ],
          "table": [
           {
            "cells": {
             "fill": {
              "color": "#EBF0F8"
             },
             "line": {
              "color": "white"
             }
            },
            "header": {
             "fill": {
              "color": "#C8D4E3"
             },
             "line": {
              "color": "white"
             }
            },
            "type": "table"
           }
          ]
         },
         "layout": {
          "annotationdefaults": {
           "arrowcolor": "#2a3f5f",
           "arrowhead": 0,
           "arrowwidth": 1
          },
          "autotypenumbers": "strict",
          "coloraxis": {
           "colorbar": {
            "outlinewidth": 0,
            "ticks": ""
           }
          },
          "colorscale": {
           "diverging": [
            [
             0,
             "#8e0152"
            ],
            [
             0.1,
             "#c51b7d"
            ],
            [
             0.2,
             "#de77ae"
            ],
            [
             0.3,
             "#f1b6da"
            ],
            [
             0.4,
             "#fde0ef"
            ],
            [
             0.5,
             "#f7f7f7"
            ],
            [
             0.6,
             "#e6f5d0"
            ],
            [
             0.7,
             "#b8e186"
            ],
            [
             0.8,
             "#7fbc41"
            ],
            [
             0.9,
             "#4d9221"
            ],
            [
             1,
             "#276419"
            ]
           ],
           "sequential": [
            [
             0,
             "#0d0887"
            ],
            [
             0.1111111111111111,
             "#46039f"
            ],
            [
             0.2222222222222222,
             "#7201a8"
            ],
            [
             0.3333333333333333,
             "#9c179e"
            ],
            [
             0.4444444444444444,
             "#bd3786"
            ],
            [
             0.5555555555555556,
             "#d8576b"
            ],
            [
             0.6666666666666666,
             "#ed7953"
            ],
            [
             0.7777777777777778,
             "#fb9f3a"
            ],
            [
             0.8888888888888888,
             "#fdca26"
            ],
            [
             1,
             "#f0f921"
            ]
           ],
           "sequentialminus": [
            [
             0,
             "#0d0887"
            ],
            [
             0.1111111111111111,
             "#46039f"
            ],
            [
             0.2222222222222222,
             "#7201a8"
            ],
            [
             0.3333333333333333,
             "#9c179e"
            ],
            [
             0.4444444444444444,
             "#bd3786"
            ],
            [
             0.5555555555555556,
             "#d8576b"
            ],
            [
             0.6666666666666666,
             "#ed7953"
            ],
            [
             0.7777777777777778,
             "#fb9f3a"
            ],
            [
             0.8888888888888888,
             "#fdca26"
            ],
            [
             1,
             "#f0f921"
            ]
           ]
          },
          "colorway": [
           "#636efa",
           "#EF553B",
           "#00cc96",
           "#ab63fa",
           "#FFA15A",
           "#19d3f3",
           "#FF6692",
           "#B6E880",
           "#FF97FF",
           "#FECB52"
          ],
          "font": {
           "color": "#2a3f5f"
          },
          "geo": {
           "bgcolor": "white",
           "lakecolor": "white",
           "landcolor": "#E5ECF6",
           "showlakes": true,
           "showland": true,
           "subunitcolor": "white"
          },
          "hoverlabel": {
           "align": "left"
          },
          "hovermode": "closest",
          "mapbox": {
           "style": "light"
          },
          "paper_bgcolor": "white",
          "plot_bgcolor": "#E5ECF6",
          "polar": {
           "angularaxis": {
            "gridcolor": "white",
            "linecolor": "white",
            "ticks": ""
           },
           "bgcolor": "#E5ECF6",
           "radialaxis": {
            "gridcolor": "white",
            "linecolor": "white",
            "ticks": ""
           }
          },
          "scene": {
           "xaxis": {
            "backgroundcolor": "#E5ECF6",
            "gridcolor": "white",
            "gridwidth": 2,
            "linecolor": "white",
            "showbackground": true,
            "ticks": "",
            "zerolinecolor": "white"
           },
           "yaxis": {
            "backgroundcolor": "#E5ECF6",
            "gridcolor": "white",
            "gridwidth": 2,
            "linecolor": "white",
            "showbackground": true,
            "ticks": "",
            "zerolinecolor": "white"
           },
           "zaxis": {
            "backgroundcolor": "#E5ECF6",
            "gridcolor": "white",
            "gridwidth": 2,
            "linecolor": "white",
            "showbackground": true,
            "ticks": "",
            "zerolinecolor": "white"
           }
          },
          "shapedefaults": {
           "line": {
            "color": "#2a3f5f"
           }
          },
          "ternary": {
           "aaxis": {
            "gridcolor": "white",
            "linecolor": "white",
            "ticks": ""
           },
           "baxis": {
            "gridcolor": "white",
            "linecolor": "white",
            "ticks": ""
           },
           "bgcolor": "#E5ECF6",
           "caxis": {
            "gridcolor": "white",
            "linecolor": "white",
            "ticks": ""
           }
          },
          "title": {
           "x": 0.05
          },
          "xaxis": {
           "automargin": true,
           "gridcolor": "white",
           "linecolor": "white",
           "ticks": "",
           "title": {
            "standoff": 15
           },
           "zerolinecolor": "white",
           "zerolinewidth": 2
          },
          "yaxis": {
           "automargin": true,
           "gridcolor": "white",
           "linecolor": "white",
           "ticks": "",
           "title": {
            "standoff": 15
           },
           "zerolinecolor": "white",
           "zerolinewidth": 2
          }
         }
        },
        "title": {
         "font": {
          "color": "#4D5663"
         }
        },
        "xaxis": {
         "anchor": "y",
         "domain": [
          0,
          0.2125
         ],
         "gridcolor": "#E1E5ED",
         "showgrid": false,
         "tickfont": {
          "color": "#4D5663"
         },
         "title": {
          "font": {
           "color": "#4D5663"
          },
          "text": ""
         },
         "zerolinecolor": "#E1E5ED"
        },
        "xaxis10": {
         "anchor": "y10",
         "domain": [
          0.2625,
          0.475
         ],
         "gridcolor": "#E1E5ED",
         "showgrid": false,
         "tickfont": {
          "color": "#4D5663"
         },
         "title": {
          "font": {
           "color": "#4D5663"
          },
          "text": ""
         },
         "zerolinecolor": "#E1E5ED"
        },
        "xaxis11": {
         "anchor": "y11",
         "domain": [
          0.525,
          0.7375
         ],
         "gridcolor": "#E1E5ED",
         "showgrid": false,
         "tickfont": {
          "color": "#4D5663"
         },
         "title": {
          "font": {
           "color": "#4D5663"
          },
          "text": ""
         },
         "zerolinecolor": "#E1E5ED"
        },
        "xaxis12": {
         "anchor": "y12",
         "domain": [
          0.7875,
          1
         ],
         "gridcolor": "#E1E5ED",
         "showgrid": false,
         "tickfont": {
          "color": "#4D5663"
         },
         "title": {
          "font": {
           "color": "#4D5663"
          },
          "text": ""
         },
         "zerolinecolor": "#E1E5ED"
        },
        "xaxis13": {
         "anchor": "y13",
         "domain": [
          0,
          0.2125
         ],
         "gridcolor": "#E1E5ED",
         "showgrid": false,
         "tickfont": {
          "color": "#4D5663"
         },
         "title": {
          "font": {
           "color": "#4D5663"
          },
          "text": ""
         },
         "zerolinecolor": "#E1E5ED"
        },
        "xaxis14": {
         "anchor": "y14",
         "domain": [
          0.2625,
          0.475
         ],
         "gridcolor": "#E1E5ED",
         "showgrid": false,
         "tickfont": {
          "color": "#4D5663"
         },
         "title": {
          "font": {
           "color": "#4D5663"
          },
          "text": ""
         },
         "zerolinecolor": "#E1E5ED"
        },
        "xaxis15": {
         "anchor": "y15",
         "domain": [
          0.525,
          0.7375
         ],
         "gridcolor": "#E1E5ED",
         "showgrid": false,
         "tickfont": {
          "color": "#4D5663"
         },
         "title": {
          "font": {
           "color": "#4D5663"
          },
          "text": ""
         },
         "zerolinecolor": "#E1E5ED"
        },
        "xaxis16": {
         "anchor": "y16",
         "domain": [
          0.7875,
          1
         ],
         "gridcolor": "#E1E5ED",
         "showgrid": false,
         "tickfont": {
          "color": "#4D5663"
         },
         "title": {
          "font": {
           "color": "#4D5663"
          },
          "text": ""
         },
         "zerolinecolor": "#E1E5ED"
        },
        "xaxis2": {
         "anchor": "y2",
         "domain": [
          0.2625,
          0.475
         ],
         "gridcolor": "#E1E5ED",
         "showgrid": false,
         "tickfont": {
          "color": "#4D5663"
         },
         "title": {
          "font": {
           "color": "#4D5663"
          },
          "text": ""
         },
         "zerolinecolor": "#E1E5ED"
        },
        "xaxis3": {
         "anchor": "y3",
         "domain": [
          0.525,
          0.7375
         ],
         "gridcolor": "#E1E5ED",
         "showgrid": false,
         "tickfont": {
          "color": "#4D5663"
         },
         "title": {
          "font": {
           "color": "#4D5663"
          },
          "text": ""
         },
         "zerolinecolor": "#E1E5ED"
        },
        "xaxis4": {
         "anchor": "y4",
         "domain": [
          0.7875,
          1
         ],
         "gridcolor": "#E1E5ED",
         "showgrid": false,
         "tickfont": {
          "color": "#4D5663"
         },
         "title": {
          "font": {
           "color": "#4D5663"
          },
          "text": ""
         },
         "zerolinecolor": "#E1E5ED"
        },
        "xaxis5": {
         "anchor": "y5",
         "domain": [
          0,
          0.2125
         ],
         "gridcolor": "#E1E5ED",
         "showgrid": false,
         "tickfont": {
          "color": "#4D5663"
         },
         "title": {
          "font": {
           "color": "#4D5663"
          },
          "text": ""
         },
         "zerolinecolor": "#E1E5ED"
        },
        "xaxis6": {
         "anchor": "y6",
         "domain": [
          0.2625,
          0.475
         ],
         "gridcolor": "#E1E5ED",
         "showgrid": false,
         "tickfont": {
          "color": "#4D5663"
         },
         "title": {
          "font": {
           "color": "#4D5663"
          },
          "text": ""
         },
         "zerolinecolor": "#E1E5ED"
        },
        "xaxis7": {
         "anchor": "y7",
         "domain": [
          0.525,
          0.7375
         ],
         "gridcolor": "#E1E5ED",
         "showgrid": false,
         "tickfont": {
          "color": "#4D5663"
         },
         "title": {
          "font": {
           "color": "#4D5663"
          },
          "text": ""
         },
         "zerolinecolor": "#E1E5ED"
        },
        "xaxis8": {
         "anchor": "y8",
         "domain": [
          0.7875,
          1
         ],
         "gridcolor": "#E1E5ED",
         "showgrid": false,
         "tickfont": {
          "color": "#4D5663"
         },
         "title": {
          "font": {
           "color": "#4D5663"
          },
          "text": ""
         },
         "zerolinecolor": "#E1E5ED"
        },
        "xaxis9": {
         "anchor": "y9",
         "domain": [
          0,
          0.2125
         ],
         "gridcolor": "#E1E5ED",
         "showgrid": false,
         "tickfont": {
          "color": "#4D5663"
         },
         "title": {
          "font": {
           "color": "#4D5663"
          },
          "text": ""
         },
         "zerolinecolor": "#E1E5ED"
        },
        "yaxis": {
         "anchor": "x",
         "domain": [
          0.8025,
          1
         ],
         "gridcolor": "#E1E5ED",
         "showgrid": false,
         "tickfont": {
          "color": "#4D5663"
         },
         "title": {
          "font": {
           "color": "#4D5663"
          },
          "text": ""
         },
         "zerolinecolor": "#E1E5ED"
        },
        "yaxis10": {
         "anchor": "x10",
         "domain": [
          0.2675,
          0.465
         ],
         "gridcolor": "#E1E5ED",
         "showgrid": false,
         "tickfont": {
          "color": "#4D5663"
         },
         "title": {
          "font": {
           "color": "#4D5663"
          },
          "text": ""
         },
         "zerolinecolor": "#E1E5ED"
        },
        "yaxis11": {
         "anchor": "x11",
         "domain": [
          0.2675,
          0.465
         ],
         "gridcolor": "#E1E5ED",
         "showgrid": false,
         "tickfont": {
          "color": "#4D5663"
         },
         "title": {
          "font": {
           "color": "#4D5663"
          },
          "text": ""
         },
         "zerolinecolor": "#E1E5ED"
        },
        "yaxis12": {
         "anchor": "x12",
         "domain": [
          0.2675,
          0.465
         ],
         "gridcolor": "#E1E5ED",
         "showgrid": false,
         "tickfont": {
          "color": "#4D5663"
         },
         "title": {
          "font": {
           "color": "#4D5663"
          },
          "text": ""
         },
         "zerolinecolor": "#E1E5ED"
        },
        "yaxis13": {
         "anchor": "x13",
         "domain": [
          0,
          0.1975
         ],
         "gridcolor": "#E1E5ED",
         "showgrid": false,
         "tickfont": {
          "color": "#4D5663"
         },
         "title": {
          "font": {
           "color": "#4D5663"
          },
          "text": ""
         },
         "zerolinecolor": "#E1E5ED"
        },
        "yaxis14": {
         "anchor": "x14",
         "domain": [
          0,
          0.1975
         ],
         "gridcolor": "#E1E5ED",
         "showgrid": false,
         "tickfont": {
          "color": "#4D5663"
         },
         "title": {
          "font": {
           "color": "#4D5663"
          },
          "text": ""
         },
         "zerolinecolor": "#E1E5ED"
        },
        "yaxis15": {
         "anchor": "x15",
         "domain": [
          0,
          0.1975
         ],
         "gridcolor": "#E1E5ED",
         "showgrid": false,
         "tickfont": {
          "color": "#4D5663"
         },
         "title": {
          "font": {
           "color": "#4D5663"
          },
          "text": ""
         },
         "zerolinecolor": "#E1E5ED"
        },
        "yaxis16": {
         "anchor": "x16",
         "domain": [
          0,
          0.1975
         ],
         "gridcolor": "#E1E5ED",
         "showgrid": false,
         "tickfont": {
          "color": "#4D5663"
         },
         "title": {
          "font": {
           "color": "#4D5663"
          },
          "text": ""
         },
         "zerolinecolor": "#E1E5ED"
        },
        "yaxis2": {
         "anchor": "x2",
         "domain": [
          0.8025,
          1
         ],
         "gridcolor": "#E1E5ED",
         "showgrid": false,
         "tickfont": {
          "color": "#4D5663"
         },
         "title": {
          "font": {
           "color": "#4D5663"
          },
          "text": ""
         },
         "zerolinecolor": "#E1E5ED"
        },
        "yaxis3": {
         "anchor": "x3",
         "domain": [
          0.8025,
          1
         ],
         "gridcolor": "#E1E5ED",
         "showgrid": false,
         "tickfont": {
          "color": "#4D5663"
         },
         "title": {
          "font": {
           "color": "#4D5663"
          },
          "text": ""
         },
         "zerolinecolor": "#E1E5ED"
        },
        "yaxis4": {
         "anchor": "x4",
         "domain": [
          0.8025,
          1
         ],
         "gridcolor": "#E1E5ED",
         "showgrid": false,
         "tickfont": {
          "color": "#4D5663"
         },
         "title": {
          "font": {
           "color": "#4D5663"
          },
          "text": ""
         },
         "zerolinecolor": "#E1E5ED"
        },
        "yaxis5": {
         "anchor": "x5",
         "domain": [
          0.535,
          0.7325
         ],
         "gridcolor": "#E1E5ED",
         "showgrid": false,
         "tickfont": {
          "color": "#4D5663"
         },
         "title": {
          "font": {
           "color": "#4D5663"
          },
          "text": ""
         },
         "zerolinecolor": "#E1E5ED"
        },
        "yaxis6": {
         "anchor": "x6",
         "domain": [
          0.535,
          0.7325
         ],
         "gridcolor": "#E1E5ED",
         "showgrid": false,
         "tickfont": {
          "color": "#4D5663"
         },
         "title": {
          "font": {
           "color": "#4D5663"
          },
          "text": ""
         },
         "zerolinecolor": "#E1E5ED"
        },
        "yaxis7": {
         "anchor": "x7",
         "domain": [
          0.535,
          0.7325
         ],
         "gridcolor": "#E1E5ED",
         "showgrid": false,
         "tickfont": {
          "color": "#4D5663"
         },
         "title": {
          "font": {
           "color": "#4D5663"
          },
          "text": ""
         },
         "zerolinecolor": "#E1E5ED"
        },
        "yaxis8": {
         "anchor": "x8",
         "domain": [
          0.535,
          0.7325
         ],
         "gridcolor": "#E1E5ED",
         "showgrid": false,
         "tickfont": {
          "color": "#4D5663"
         },
         "title": {
          "font": {
           "color": "#4D5663"
          },
          "text": ""
         },
         "zerolinecolor": "#E1E5ED"
        },
        "yaxis9": {
         "anchor": "x9",
         "domain": [
          0.2675,
          0.465
         ],
         "gridcolor": "#E1E5ED",
         "showgrid": false,
         "tickfont": {
          "color": "#4D5663"
         },
         "title": {
          "font": {
           "color": "#4D5663"
          },
          "text": ""
         },
         "zerolinecolor": "#E1E5ED"
        }
       }
      },
      "text/html": [
       "<div>                            <div id=\"61a06e34-793a-4fde-ab78-01a33eda877d\" class=\"plotly-graph-div\" style=\"height:525px; width:100%;\"></div>            <script type=\"text/javascript\">                require([\"plotly\"], function(Plotly) {                    window.PLOTLYENV=window.PLOTLYENV || {};\n",
       "                    window.PLOTLYENV.BASE_URL='https://plot.ly';                                    if (document.getElementById(\"61a06e34-793a-4fde-ab78-01a33eda877d\")) {                    Plotly.newPlot(                        \"61a06e34-793a-4fde-ab78-01a33eda877d\",                        [{\"histfunc\":\"count\",\"histnorm\":\"\",\"marker\":{\"color\":\"rgba(255, 153, 51, 1.0)\",\"line\":{\"color\":\"#4D5663\",\"width\":1.3}},\"name\":\"A\",\"nbinsx\":10,\"opacity\":0.8,\"orientation\":\"v\",\"x\":[-0.5019262604718252,1.3406574372295323,-0.14453389308463846,0.040956373720975554,0.7274751665220139,0.02772203928139414,-0.2627967982077833,-0.6445792859574564,-0.12440658548148807,-1.4195717936405616,-0.5881620964690552,0.1968941489793469,0.24836115152992447,1.1906853329299731,-0.20731260889632006,0.04751918853287542,1.714309247596637,-0.2014585421239541,-0.706546818966052,-1.2789820090973136,-0.29087411730222307,0.30696147278145924,0.6542094312601774,0.6346490022624198,-1.453964470447946,-0.2562556030355115,-0.13399741602615234,1.043664761096363,1.5362170449236299,-1.139822665761981,-1.3081191119064488,0.3022549378458871,1.3730961762014156,0.5088024651071592,-0.8464243671405703,-1.2011957891288758,1.160341198796026,0.027689159510517817,1.3797848021879668,-0.11870973173703767,0.7548654583979592,0.6673776766556359,-0.1416767698425056,-1.3702526577901337,-0.22733380869451456,-0.3860545857839438,-0.4746494033140237,-1.4423873780835887,-0.5232558519147569,0.9923567002966976,-1.3367993456448217,0.35964321503622887,-0.8508495574838864,0.883592769966994,-0.6246517499576894,0.27989103186935305,0.6131371580496763,0.3216230855728305,0.28464155507737726,1.44503447655136,-0.27721413247491106,-1.4087811922820848,-0.33100038597981374,-0.7676458148982221,-0.9068197369866156,-0.4064278014938917,0.4841752803205062,-1.7939182078675981,0.645534754730688,-0.8546984857726455,-2.5751222033503276,-1.5496209941435157,-1.845264470705639,-1.7955574080362404,-1.0990447387369575,-0.02806115476210823,-0.09459203941178367,-0.8775873145390063,-4.121990228815462,-1.4352429415503278,-0.9688499652094146,-1.5041241800369083,-1.7357005143943813,-0.4502043873141606,-0.8411556452989516,-0.017478105167135518,-0.4047434754669365,-0.46049951646255516,-1.7239509268452278,-2.077507197691761,0.18656533416519658,0.05483152572246387,-1.1988250504309492,-0.6769503724014974,-0.07033222410676333,1.8214626735961084,0.48073894868276373,-1.028001117338976,-0.03736194677178664,-0.1613022757355416],\"xaxis\":\"x\",\"yaxis\":\"y\",\"type\":\"histogram\"},{\"line\":{\"color\":\"rgba(128, 128, 128, 1.0)\",\"dash\":\"solid\",\"shape\":\"linear\",\"width\":1.3},\"marker\":{\"size\":2,\"symbol\":\"circle\"},\"mode\":\"markers\",\"name\":\"A\",\"text\":\"\",\"x\":[-0.8537742762332164,1.0157322930976045,1.2316869207547705,0.1314299722305412,-0.633724221261174,-1.021091071695296,0.05493633765137216,0.5561493102654288,-0.606363232964669,0.5413884046594294,1.5191493772222278,-0.9771583011795383,-2.564988254175942,-1.511871766233654,0.1698098432471122,-0.0006299061581094447,0.019540019752891886,-0.20333090941576668,-1.0515069577217253,0.8535637865467421,0.7479173990250584,1.5740810908189957,-0.2134294929037309,-0.8287624452994441,1.8084096050913296,-0.4985374462398888,-0.07050276829129744,0.2454396915192863,1.5865458034730295,0.22855415423131717,1.2318015789536472,-0.2683148170438074,0.2721415238481511,1.4289215468174405,0.3407877359485261,2.1163336799878025,-1.2175531392623062,1.0493278651389129,0.019850364513919506,1.7905761038088464,0.2718209125384333,0.9423641957958778,1.639765844844743,1.3938704008306384,-0.3588645773400398,-0.9247625382971925,1.6635092098571502,-0.8502091892531796,1.129888165743087,-0.9209889483736413,-0.6675980382475256,-0.8294327676779536,1.9101387765933906,0.6278871873084058,0.29342412609384266,0.2719883298680775,-1.2383177845611195,0.23924194267683924,-0.7947533691988276,0.369281989374878,-0.5362511746826577,-1.8551607079119403,1.4351948232022345,0.24854237986146002,-2.5847223229622402,-1.4763150326920196,0.16805478888458833,0.48872897444176455,0.18610409006261094,-0.18722588584988972,-0.6361226923627324,-0.8021976334316585,1.0793256151600996,0.8927522531499735,-1.0400918766611247,1.3309567449801414,-0.23918015765720343,0.21827777245077276,0.6643448470304437,-0.9887852571546005,-1.9802413017970966,1.310100856690185,-0.02734743222390547,-1.643015114730303,-0.09084317256020294,1.8388734031514915,1.563071326231132,-0.8096762102199779,0.4597566070432031,-0.6950082009640749,2.251854180395313,-0.2175714152370271,0.5372187334131854,-1.0190670145375262,-1.3175105585197597,-2.1250187398628486,0.8472747609702648,-2.3971849488244765,-1.3737368824255878,-0.6940420292071485],\"xaxis\":\"x2\",\"y\":[-0.5019262604718252,1.3406574372295323,-0.14453389308463846,0.040956373720975554,0.7274751665220139,0.02772203928139414,-0.2627967982077833,-0.6445792859574564,-0.12440658548148807,-1.4195717936405616,-0.5881620964690552,0.1968941489793469,0.24836115152992447,1.1906853329299731,-0.20731260889632006,0.04751918853287542,1.714309247596637,-0.2014585421239541,-0.706546818966052,-1.2789820090973136,-0.29087411730222307,0.30696147278145924,0.6542094312601774,0.6346490022624198,-1.453964470447946,-0.2562556030355115,-0.13399741602615234,1.043664761096363,1.5362170449236299,-1.139822665761981,-1.3081191119064488,0.3022549378458871,1.3730961762014156,0.5088024651071592,-0.8464243671405703,-1.2011957891288758,1.160341198796026,0.027689159510517817,1.3797848021879668,-0.11870973173703767,0.7548654583979592,0.6673776766556359,-0.1416767698425056,-1.3702526577901337,-0.22733380869451456,-0.3860545857839438,-0.4746494033140237,-1.4423873780835887,-0.5232558519147569,0.9923567002966976,-1.3367993456448217,0.35964321503622887,-0.8508495574838864,0.883592769966994,-0.6246517499576894,0.27989103186935305,0.6131371580496763,0.3216230855728305,0.28464155507737726,1.44503447655136,-0.27721413247491106,-1.4087811922820848,-0.33100038597981374,-0.7676458148982221,-0.9068197369866156,-0.4064278014938917,0.4841752803205062,-1.7939182078675981,0.645534754730688,-0.8546984857726455,-2.5751222033503276,-1.5496209941435157,-1.845264470705639,-1.7955574080362404,-1.0990447387369575,-0.02806115476210823,-0.09459203941178367,-0.8775873145390063,-4.121990228815462,-1.4352429415503278,-0.9688499652094146,-1.5041241800369083,-1.7357005143943813,-0.4502043873141606,-0.8411556452989516,-0.017478105167135518,-0.4047434754669365,-0.46049951646255516,-1.7239509268452278,-2.077507197691761,0.18656533416519658,0.05483152572246387,-1.1988250504309492,-0.6769503724014974,-0.07033222410676333,1.8214626735961084,0.48073894868276373,-1.028001117338976,-0.03736194677178664,-0.1613022757355416],\"yaxis\":\"y2\",\"type\":\"scatter\"},{\"line\":{\"color\":\"rgba(128, 128, 128, 1.0)\",\"dash\":\"solid\",\"shape\":\"linear\",\"width\":1.3},\"marker\":{\"size\":2,\"symbol\":\"circle\"},\"mode\":\"markers\",\"name\":\"A\",\"text\":\"\",\"x\":[0.4618236809570364,-1.8760345217107905,-0.024461448454044847,1.2574003360533095,-1.6603300720586975,0.9431808539198537,-0.3275006769611364,-0.6002280473322315,-0.9847738299959304,-0.16330418856163223,1.597188095112297,0.5688457854085364,0.12900455589561993,1.1456471972055877,-0.9784438357796877,0.5584583481411688,1.376835269025118,0.7078730006884457,-1.8150727227537027,1.1263419432513881,-0.9353705491923401,-1.1015856046350405,-1.3325938204413277,0.8827096559088252,1.4918321860205819,0.9863566468584642,-0.8385672256548253,0.5245850292006667,0.12065489545438189,0.05502199013118476,-0.30656589888113434,-0.6997121929122817,1.1662992585723713,0.5580159509947691,-0.12023744165306582,0.5056202557102356,0.4598136480108525,-1.0747407823181587,0.013256239586534642,-0.517675075967214,-0.7796594059393782,0.23578250445412977,0.20432802495424515,0.14101680554886295,0.9575334689804115,-0.6925673483003029,-0.8705935727439931,-0.8416031921405447,0.6873021607060796,-0.004944876023452826,0.49041295085782466,-1.2317940178702407,-0.0813901088437757,1.6709144639252376,0.57813585960082,-0.45189766232725553,1.0976466197209371,-1.7824104217096723,0.6387234746998384,0.17607591088185068,0.016398121006212477,0.7459912835659003,-1.1112853989633977,-0.5154088639815375,0.3881825476474756,-0.7314273379173726,-0.1726749846298453,-1.0660296087533017,0.24610014216510956,0.006256715434016159,-0.564137786805348,0.2591038145327592,-0.6953083094333815,-1.1055580185618308,-0.6245396668612723,-0.3190673665376973,1.5037907002025412,0.21950510334576176,1.374163814295838,-1.3720069796187595,-1.3247608510089435,0.7128936125271272,-1.2361182992940314,-0.2011131723521433,1.8290086001370824,-1.5378306359711813,1.277939232414064,0.7704713652904402,-0.04432391772501383,0.931430450499188,-1.4162795877054093,-1.1889993296726404,-0.039619142630552696,0.229314181496651,1.747491552717108,0.47651489046478396,0.29695716947331746,-0.8784372770247785,-1.344414299986784,1.7021406854463954],\"xaxis\":\"x3\",\"y\":[-0.5019262604718252,1.3406574372295323,-0.14453389308463846,0.040956373720975554,0.7274751665220139,0.02772203928139414,-0.2627967982077833,-0.6445792859574564,-0.12440658548148807,-1.4195717936405616,-0.5881620964690552,0.1968941489793469,0.24836115152992447,1.1906853329299731,-0.20731260889632006,0.04751918853287542,1.714309247596637,-0.2014585421239541,-0.706546818966052,-1.2789820090973136,-0.29087411730222307,0.30696147278145924,0.6542094312601774,0.6346490022624198,-1.453964470447946,-0.2562556030355115,-0.13399741602615234,1.043664761096363,1.5362170449236299,-1.139822665761981,-1.3081191119064488,0.3022549378458871,1.3730961762014156,0.5088024651071592,-0.8464243671405703,-1.2011957891288758,1.160341198796026,0.027689159510517817,1.3797848021879668,-0.11870973173703767,0.7548654583979592,0.6673776766556359,-0.1416767698425056,-1.3702526577901337,-0.22733380869451456,-0.3860545857839438,-0.4746494033140237,-1.4423873780835887,-0.5232558519147569,0.9923567002966976,-1.3367993456448217,0.35964321503622887,-0.8508495574838864,0.883592769966994,-0.6246517499576894,0.27989103186935305,0.6131371580496763,0.3216230855728305,0.28464155507737726,1.44503447655136,-0.27721413247491106,-1.4087811922820848,-0.33100038597981374,-0.7676458148982221,-0.9068197369866156,-0.4064278014938917,0.4841752803205062,-1.7939182078675981,0.645534754730688,-0.8546984857726455,-2.5751222033503276,-1.5496209941435157,-1.845264470705639,-1.7955574080362404,-1.0990447387369575,-0.02806115476210823,-0.09459203941178367,-0.8775873145390063,-4.121990228815462,-1.4352429415503278,-0.9688499652094146,-1.5041241800369083,-1.7357005143943813,-0.4502043873141606,-0.8411556452989516,-0.017478105167135518,-0.4047434754669365,-0.46049951646255516,-1.7239509268452278,-2.077507197691761,0.18656533416519658,0.05483152572246387,-1.1988250504309492,-0.6769503724014974,-0.07033222410676333,1.8214626735961084,0.48073894868276373,-1.028001117338976,-0.03736194677178664,-0.1613022757355416],\"yaxis\":\"y3\",\"type\":\"scatter\"},{\"line\":{\"color\":\"rgba(128, 128, 128, 1.0)\",\"dash\":\"solid\",\"shape\":\"linear\",\"width\":1.3},\"marker\":{\"size\":2,\"symbol\":\"circle\"},\"mode\":\"markers\",\"name\":\"A\",\"text\":\"\",\"x\":[-0.47956938719333003,-1.1316430122868586,-1.4394984520413132,-1.6980544471081662,1.6517541276586782,-0.6016421348936393,0.4814954559638268,0.8358947636749885,-0.35229327071067085,0.8879888146598545,0.5079191018683458,1.7687252545276593,1.7792502777440802,1.766633605878207,1.1560748032756702,0.04530431877778243,0.8289360925137279,-0.08181062310565014,-1.3464133178804472,0.1939550092453204,-0.03080872689105242,-1.2996459250407195,0.8394667703660101,1.6198893101970748,0.44852945053110505,0.6508435189005042,-0.01566524908776226,1.205701927134643,0.6429050766084116,1.6590156399517664,-1.8413726285307792,-1.2512958605279527,-0.38839979338747677,-0.8382712619390268,-0.7640465135293413,-1.9574677656110746,-0.1819576822778034,0.34756350172202394,-2.0236901401471528,-0.934013514983784,-1.0547553069277258,-1.2223477384073151,-1.2610612837993038,0.5124029846195318,-0.12836116938872946,0.09570755732141845,1.0584142997790176,-0.7534000492954668,-0.39168333648515546,0.9427562596411888,-1.2649488886451548,-0.27912128350651055,-0.7082710101575158,0.31282738621271344,-0.6023436379277887,2.1596744461659076,-0.9223512546575351,0.6357441528389547,-0.9103977829395166,-0.24197499297387493,-1.0490933014045551,-0.5637401120482566,-0.49036669396333205,-1.1322384577611027,-1.3982878650691326,-0.7559097570278627,-1.4394068225015968,-1.2926381659267812,1.6756183646986447,1.2468189425235499,-1.0045614815874546,-0.7817140605037985,-1.1310812204419576,0.2789631959398414,-1.0261283228217053,-0.3229792328969324,-0.20483934769039758,0.6686474508811284,0.17496267455034867,-2.4227361960895872,-0.0689189156724492,-0.17035482159845666,1.1558215291727423,0.1799892673474436,1.3162907788144025,1.5919033022567164,-1.5056105354003668,0.31865214704909434,-1.6231483618340186,0.19108793947928213,-0.8307866105310673,-0.006053650666354444,-0.5034800152612379,0.8261439404115187,-0.25309060647659787,0.6389383222916003,0.5461201973821405,2.031866229706439,1.4946689301105966,-1.157159990051492],\"xaxis\":\"x4\",\"y\":[-0.5019262604718252,1.3406574372295323,-0.14453389308463846,0.040956373720975554,0.7274751665220139,0.02772203928139414,-0.2627967982077833,-0.6445792859574564,-0.12440658548148807,-1.4195717936405616,-0.5881620964690552,0.1968941489793469,0.24836115152992447,1.1906853329299731,-0.20731260889632006,0.04751918853287542,1.714309247596637,-0.2014585421239541,-0.706546818966052,-1.2789820090973136,-0.29087411730222307,0.30696147278145924,0.6542094312601774,0.6346490022624198,-1.453964470447946,-0.2562556030355115,-0.13399741602615234,1.043664761096363,1.5362170449236299,-1.139822665761981,-1.3081191119064488,0.3022549378458871,1.3730961762014156,0.5088024651071592,-0.8464243671405703,-1.2011957891288758,1.160341198796026,0.027689159510517817,1.3797848021879668,-0.11870973173703767,0.7548654583979592,0.6673776766556359,-0.1416767698425056,-1.3702526577901337,-0.22733380869451456,-0.3860545857839438,-0.4746494033140237,-1.4423873780835887,-0.5232558519147569,0.9923567002966976,-1.3367993456448217,0.35964321503622887,-0.8508495574838864,0.883592769966994,-0.6246517499576894,0.27989103186935305,0.6131371580496763,0.3216230855728305,0.28464155507737726,1.44503447655136,-0.27721413247491106,-1.4087811922820848,-0.33100038597981374,-0.7676458148982221,-0.9068197369866156,-0.4064278014938917,0.4841752803205062,-1.7939182078675981,0.645534754730688,-0.8546984857726455,-2.5751222033503276,-1.5496209941435157,-1.845264470705639,-1.7955574080362404,-1.0990447387369575,-0.02806115476210823,-0.09459203941178367,-0.8775873145390063,-4.121990228815462,-1.4352429415503278,-0.9688499652094146,-1.5041241800369083,-1.7357005143943813,-0.4502043873141606,-0.8411556452989516,-0.017478105167135518,-0.4047434754669365,-0.46049951646255516,-1.7239509268452278,-2.077507197691761,0.18656533416519658,0.05483152572246387,-1.1988250504309492,-0.6769503724014974,-0.07033222410676333,1.8214626735961084,0.48073894868276373,-1.028001117338976,-0.03736194677178664,-0.1613022757355416],\"yaxis\":\"y4\",\"type\":\"scatter\"},{\"line\":{\"color\":\"rgba(128, 128, 128, 1.0)\",\"dash\":\"solid\",\"shape\":\"linear\",\"width\":1.3},\"marker\":{\"size\":2,\"symbol\":\"circle\"},\"mode\":\"markers\",\"name\":\"B\",\"text\":\"\",\"x\":[-0.5019262604718252,1.3406574372295323,-0.14453389308463846,0.040956373720975554,0.7274751665220139,0.02772203928139414,-0.2627967982077833,-0.6445792859574564,-0.12440658548148807,-1.4195717936405616,-0.5881620964690552,0.1968941489793469,0.24836115152992447,1.1906853329299731,-0.20731260889632006,0.04751918853287542,1.714309247596637,-0.2014585421239541,-0.706546818966052,-1.2789820090973136,-0.29087411730222307,0.30696147278145924,0.6542094312601774,0.6346490022624198,-1.453964470447946,-0.2562556030355115,-0.13399741602615234,1.043664761096363,1.5362170449236299,-1.139822665761981,-1.3081191119064488,0.3022549378458871,1.3730961762014156,0.5088024651071592,-0.8464243671405703,-1.2011957891288758,1.160341198796026,0.027689159510517817,1.3797848021879668,-0.11870973173703767,0.7548654583979592,0.6673776766556359,-0.1416767698425056,-1.3702526577901337,-0.22733380869451456,-0.3860545857839438,-0.4746494033140237,-1.4423873780835887,-0.5232558519147569,0.9923567002966976,-1.3367993456448217,0.35964321503622887,-0.8508495574838864,0.883592769966994,-0.6246517499576894,0.27989103186935305,0.6131371580496763,0.3216230855728305,0.28464155507737726,1.44503447655136,-0.27721413247491106,-1.4087811922820848,-0.33100038597981374,-0.7676458148982221,-0.9068197369866156,-0.4064278014938917,0.4841752803205062,-1.7939182078675981,0.645534754730688,-0.8546984857726455,-2.5751222033503276,-1.5496209941435157,-1.845264470705639,-1.7955574080362404,-1.0990447387369575,-0.02806115476210823,-0.09459203941178367,-0.8775873145390063,-4.121990228815462,-1.4352429415503278,-0.9688499652094146,-1.5041241800369083,-1.7357005143943813,-0.4502043873141606,-0.8411556452989516,-0.017478105167135518,-0.4047434754669365,-0.46049951646255516,-1.7239509268452278,-2.077507197691761,0.18656533416519658,0.05483152572246387,-1.1988250504309492,-0.6769503724014974,-0.07033222410676333,1.8214626735961084,0.48073894868276373,-1.028001117338976,-0.03736194677178664,-0.1613022757355416],\"xaxis\":\"x5\",\"y\":[-0.8537742762332164,1.0157322930976045,1.2316869207547705,0.1314299722305412,-0.633724221261174,-1.021091071695296,0.05493633765137216,0.5561493102654288,-0.606363232964669,0.5413884046594294,1.5191493772222278,-0.9771583011795383,-2.564988254175942,-1.511871766233654,0.1698098432471122,-0.0006299061581094447,0.019540019752891886,-0.20333090941576668,-1.0515069577217253,0.8535637865467421,0.7479173990250584,1.5740810908189957,-0.2134294929037309,-0.8287624452994441,1.8084096050913296,-0.4985374462398888,-0.07050276829129744,0.2454396915192863,1.5865458034730295,0.22855415423131717,1.2318015789536472,-0.2683148170438074,0.2721415238481511,1.4289215468174405,0.3407877359485261,2.1163336799878025,-1.2175531392623062,1.0493278651389129,0.019850364513919506,1.7905761038088464,0.2718209125384333,0.9423641957958778,1.639765844844743,1.3938704008306384,-0.3588645773400398,-0.9247625382971925,1.6635092098571502,-0.8502091892531796,1.129888165743087,-0.9209889483736413,-0.6675980382475256,-0.8294327676779536,1.9101387765933906,0.6278871873084058,0.29342412609384266,0.2719883298680775,-1.2383177845611195,0.23924194267683924,-0.7947533691988276,0.369281989374878,-0.5362511746826577,-1.8551607079119403,1.4351948232022345,0.24854237986146002,-2.5847223229622402,-1.4763150326920196,0.16805478888458833,0.48872897444176455,0.18610409006261094,-0.18722588584988972,-0.6361226923627324,-0.8021976334316585,1.0793256151600996,0.8927522531499735,-1.0400918766611247,1.3309567449801414,-0.23918015765720343,0.21827777245077276,0.6643448470304437,-0.9887852571546005,-1.9802413017970966,1.310100856690185,-0.02734743222390547,-1.643015114730303,-0.09084317256020294,1.8388734031514915,1.563071326231132,-0.8096762102199779,0.4597566070432031,-0.6950082009640749,2.251854180395313,-0.2175714152370271,0.5372187334131854,-1.0190670145375262,-1.3175105585197597,-2.1250187398628486,0.8472747609702648,-2.3971849488244765,-1.3737368824255878,-0.6940420292071485],\"yaxis\":\"y5\",\"type\":\"scatter\"},{\"histfunc\":\"count\",\"histnorm\":\"\",\"marker\":{\"color\":\"rgba(55, 128, 191, 1.0)\",\"line\":{\"color\":\"#4D5663\",\"width\":1.3}},\"name\":\"B\",\"nbinsx\":10,\"opacity\":0.8,\"orientation\":\"v\",\"x\":[-0.8537742762332164,1.0157322930976045,1.2316869207547705,0.1314299722305412,-0.633724221261174,-1.021091071695296,0.05493633765137216,0.5561493102654288,-0.606363232964669,0.5413884046594294,1.5191493772222278,-0.9771583011795383,-2.564988254175942,-1.511871766233654,0.1698098432471122,-0.0006299061581094447,0.019540019752891886,-0.20333090941576668,-1.0515069577217253,0.8535637865467421,0.7479173990250584,1.5740810908189957,-0.2134294929037309,-0.8287624452994441,1.8084096050913296,-0.4985374462398888,-0.07050276829129744,0.2454396915192863,1.5865458034730295,0.22855415423131717,1.2318015789536472,-0.2683148170438074,0.2721415238481511,1.4289215468174405,0.3407877359485261,2.1163336799878025,-1.2175531392623062,1.0493278651389129,0.019850364513919506,1.7905761038088464,0.2718209125384333,0.9423641957958778,1.639765844844743,1.3938704008306384,-0.3588645773400398,-0.9247625382971925,1.6635092098571502,-0.8502091892531796,1.129888165743087,-0.9209889483736413,-0.6675980382475256,-0.8294327676779536,1.9101387765933906,0.6278871873084058,0.29342412609384266,0.2719883298680775,-1.2383177845611195,0.23924194267683924,-0.7947533691988276,0.369281989374878,-0.5362511746826577,-1.8551607079119403,1.4351948232022345,0.24854237986146002,-2.5847223229622402,-1.4763150326920196,0.16805478888458833,0.48872897444176455,0.18610409006261094,-0.18722588584988972,-0.6361226923627324,-0.8021976334316585,1.0793256151600996,0.8927522531499735,-1.0400918766611247,1.3309567449801414,-0.23918015765720343,0.21827777245077276,0.6643448470304437,-0.9887852571546005,-1.9802413017970966,1.310100856690185,-0.02734743222390547,-1.643015114730303,-0.09084317256020294,1.8388734031514915,1.563071326231132,-0.8096762102199779,0.4597566070432031,-0.6950082009640749,2.251854180395313,-0.2175714152370271,0.5372187334131854,-1.0190670145375262,-1.3175105585197597,-2.1250187398628486,0.8472747609702648,-2.3971849488244765,-1.3737368824255878,-0.6940420292071485],\"xaxis\":\"x6\",\"yaxis\":\"y6\",\"type\":\"histogram\"},{\"line\":{\"color\":\"rgba(128, 128, 128, 1.0)\",\"dash\":\"solid\",\"shape\":\"linear\",\"width\":1.3},\"marker\":{\"size\":2,\"symbol\":\"circle\"},\"mode\":\"markers\",\"name\":\"B\",\"text\":\"\",\"x\":[0.4618236809570364,-1.8760345217107905,-0.024461448454044847,1.2574003360533095,-1.6603300720586975,0.9431808539198537,-0.3275006769611364,-0.6002280473322315,-0.9847738299959304,-0.16330418856163223,1.597188095112297,0.5688457854085364,0.12900455589561993,1.1456471972055877,-0.9784438357796877,0.5584583481411688,1.376835269025118,0.7078730006884457,-1.8150727227537027,1.1263419432513881,-0.9353705491923401,-1.1015856046350405,-1.3325938204413277,0.8827096559088252,1.4918321860205819,0.9863566468584642,-0.8385672256548253,0.5245850292006667,0.12065489545438189,0.05502199013118476,-0.30656589888113434,-0.6997121929122817,1.1662992585723713,0.5580159509947691,-0.12023744165306582,0.5056202557102356,0.4598136480108525,-1.0747407823181587,0.013256239586534642,-0.517675075967214,-0.7796594059393782,0.23578250445412977,0.20432802495424515,0.14101680554886295,0.9575334689804115,-0.6925673483003029,-0.8705935727439931,-0.8416031921405447,0.6873021607060796,-0.004944876023452826,0.49041295085782466,-1.2317940178702407,-0.0813901088437757,1.6709144639252376,0.57813585960082,-0.45189766232725553,1.0976466197209371,-1.7824104217096723,0.6387234746998384,0.17607591088185068,0.016398121006212477,0.7459912835659003,-1.1112853989633977,-0.5154088639815375,0.3881825476474756,-0.7314273379173726,-0.1726749846298453,-1.0660296087533017,0.24610014216510956,0.006256715434016159,-0.564137786805348,0.2591038145327592,-0.6953083094333815,-1.1055580185618308,-0.6245396668612723,-0.3190673665376973,1.5037907002025412,0.21950510334576176,1.374163814295838,-1.3720069796187595,-1.3247608510089435,0.7128936125271272,-1.2361182992940314,-0.2011131723521433,1.8290086001370824,-1.5378306359711813,1.277939232414064,0.7704713652904402,-0.04432391772501383,0.931430450499188,-1.4162795877054093,-1.1889993296726404,-0.039619142630552696,0.229314181496651,1.747491552717108,0.47651489046478396,0.29695716947331746,-0.8784372770247785,-1.344414299986784,1.7021406854463954],\"xaxis\":\"x7\",\"y\":[-0.8537742762332164,1.0157322930976045,1.2316869207547705,0.1314299722305412,-0.633724221261174,-1.021091071695296,0.05493633765137216,0.5561493102654288,-0.606363232964669,0.5413884046594294,1.5191493772222278,-0.9771583011795383,-2.564988254175942,-1.511871766233654,0.1698098432471122,-0.0006299061581094447,0.019540019752891886,-0.20333090941576668,-1.0515069577217253,0.8535637865467421,0.7479173990250584,1.5740810908189957,-0.2134294929037309,-0.8287624452994441,1.8084096050913296,-0.4985374462398888,-0.07050276829129744,0.2454396915192863,1.5865458034730295,0.22855415423131717,1.2318015789536472,-0.2683148170438074,0.2721415238481511,1.4289215468174405,0.3407877359485261,2.1163336799878025,-1.2175531392623062,1.0493278651389129,0.019850364513919506,1.7905761038088464,0.2718209125384333,0.9423641957958778,1.639765844844743,1.3938704008306384,-0.3588645773400398,-0.9247625382971925,1.6635092098571502,-0.8502091892531796,1.129888165743087,-0.9209889483736413,-0.6675980382475256,-0.8294327676779536,1.9101387765933906,0.6278871873084058,0.29342412609384266,0.2719883298680775,-1.2383177845611195,0.23924194267683924,-0.7947533691988276,0.369281989374878,-0.5362511746826577,-1.8551607079119403,1.4351948232022345,0.24854237986146002,-2.5847223229622402,-1.4763150326920196,0.16805478888458833,0.48872897444176455,0.18610409006261094,-0.18722588584988972,-0.6361226923627324,-0.8021976334316585,1.0793256151600996,0.8927522531499735,-1.0400918766611247,1.3309567449801414,-0.23918015765720343,0.21827777245077276,0.6643448470304437,-0.9887852571546005,-1.9802413017970966,1.310100856690185,-0.02734743222390547,-1.643015114730303,-0.09084317256020294,1.8388734031514915,1.563071326231132,-0.8096762102199779,0.4597566070432031,-0.6950082009640749,2.251854180395313,-0.2175714152370271,0.5372187334131854,-1.0190670145375262,-1.3175105585197597,-2.1250187398628486,0.8472747609702648,-2.3971849488244765,-1.3737368824255878,-0.6940420292071485],\"yaxis\":\"y7\",\"type\":\"scatter\"},{\"line\":{\"color\":\"rgba(128, 128, 128, 1.0)\",\"dash\":\"solid\",\"shape\":\"linear\",\"width\":1.3},\"marker\":{\"size\":2,\"symbol\":\"circle\"},\"mode\":\"markers\",\"name\":\"B\",\"text\":\"\",\"x\":[-0.47956938719333003,-1.1316430122868586,-1.4394984520413132,-1.6980544471081662,1.6517541276586782,-0.6016421348936393,0.4814954559638268,0.8358947636749885,-0.35229327071067085,0.8879888146598545,0.5079191018683458,1.7687252545276593,1.7792502777440802,1.766633605878207,1.1560748032756702,0.04530431877778243,0.8289360925137279,-0.08181062310565014,-1.3464133178804472,0.1939550092453204,-0.03080872689105242,-1.2996459250407195,0.8394667703660101,1.6198893101970748,0.44852945053110505,0.6508435189005042,-0.01566524908776226,1.205701927134643,0.6429050766084116,1.6590156399517664,-1.8413726285307792,-1.2512958605279527,-0.38839979338747677,-0.8382712619390268,-0.7640465135293413,-1.9574677656110746,-0.1819576822778034,0.34756350172202394,-2.0236901401471528,-0.934013514983784,-1.0547553069277258,-1.2223477384073151,-1.2610612837993038,0.5124029846195318,-0.12836116938872946,0.09570755732141845,1.0584142997790176,-0.7534000492954668,-0.39168333648515546,0.9427562596411888,-1.2649488886451548,-0.27912128350651055,-0.7082710101575158,0.31282738621271344,-0.6023436379277887,2.1596744461659076,-0.9223512546575351,0.6357441528389547,-0.9103977829395166,-0.24197499297387493,-1.0490933014045551,-0.5637401120482566,-0.49036669396333205,-1.1322384577611027,-1.3982878650691326,-0.7559097570278627,-1.4394068225015968,-1.2926381659267812,1.6756183646986447,1.2468189425235499,-1.0045614815874546,-0.7817140605037985,-1.1310812204419576,0.2789631959398414,-1.0261283228217053,-0.3229792328969324,-0.20483934769039758,0.6686474508811284,0.17496267455034867,-2.4227361960895872,-0.0689189156724492,-0.17035482159845666,1.1558215291727423,0.1799892673474436,1.3162907788144025,1.5919033022567164,-1.5056105354003668,0.31865214704909434,-1.6231483618340186,0.19108793947928213,-0.8307866105310673,-0.006053650666354444,-0.5034800152612379,0.8261439404115187,-0.25309060647659787,0.6389383222916003,0.5461201973821405,2.031866229706439,1.4946689301105966,-1.157159990051492],\"xaxis\":\"x8\",\"y\":[-0.8537742762332164,1.0157322930976045,1.2316869207547705,0.1314299722305412,-0.633724221261174,-1.021091071695296,0.05493633765137216,0.5561493102654288,-0.606363232964669,0.5413884046594294,1.5191493772222278,-0.9771583011795383,-2.564988254175942,-1.511871766233654,0.1698098432471122,-0.0006299061581094447,0.019540019752891886,-0.20333090941576668,-1.0515069577217253,0.8535637865467421,0.7479173990250584,1.5740810908189957,-0.2134294929037309,-0.8287624452994441,1.8084096050913296,-0.4985374462398888,-0.07050276829129744,0.2454396915192863,1.5865458034730295,0.22855415423131717,1.2318015789536472,-0.2683148170438074,0.2721415238481511,1.4289215468174405,0.3407877359485261,2.1163336799878025,-1.2175531392623062,1.0493278651389129,0.019850364513919506,1.7905761038088464,0.2718209125384333,0.9423641957958778,1.639765844844743,1.3938704008306384,-0.3588645773400398,-0.9247625382971925,1.6635092098571502,-0.8502091892531796,1.129888165743087,-0.9209889483736413,-0.6675980382475256,-0.8294327676779536,1.9101387765933906,0.6278871873084058,0.29342412609384266,0.2719883298680775,-1.2383177845611195,0.23924194267683924,-0.7947533691988276,0.369281989374878,-0.5362511746826577,-1.8551607079119403,1.4351948232022345,0.24854237986146002,-2.5847223229622402,-1.4763150326920196,0.16805478888458833,0.48872897444176455,0.18610409006261094,-0.18722588584988972,-0.6361226923627324,-0.8021976334316585,1.0793256151600996,0.8927522531499735,-1.0400918766611247,1.3309567449801414,-0.23918015765720343,0.21827777245077276,0.6643448470304437,-0.9887852571546005,-1.9802413017970966,1.310100856690185,-0.02734743222390547,-1.643015114730303,-0.09084317256020294,1.8388734031514915,1.563071326231132,-0.8096762102199779,0.4597566070432031,-0.6950082009640749,2.251854180395313,-0.2175714152370271,0.5372187334131854,-1.0190670145375262,-1.3175105585197597,-2.1250187398628486,0.8472747609702648,-2.3971849488244765,-1.3737368824255878,-0.6940420292071485],\"yaxis\":\"y8\",\"type\":\"scatter\"},{\"line\":{\"color\":\"rgba(128, 128, 128, 1.0)\",\"dash\":\"solid\",\"shape\":\"linear\",\"width\":1.3},\"marker\":{\"size\":2,\"symbol\":\"circle\"},\"mode\":\"markers\",\"name\":\"C\",\"text\":\"\",\"x\":[-0.5019262604718252,1.3406574372295323,-0.14453389308463846,0.040956373720975554,0.7274751665220139,0.02772203928139414,-0.2627967982077833,-0.6445792859574564,-0.12440658548148807,-1.4195717936405616,-0.5881620964690552,0.1968941489793469,0.24836115152992447,1.1906853329299731,-0.20731260889632006,0.04751918853287542,1.714309247596637,-0.2014585421239541,-0.706546818966052,-1.2789820090973136,-0.29087411730222307,0.30696147278145924,0.6542094312601774,0.6346490022624198,-1.453964470447946,-0.2562556030355115,-0.13399741602615234,1.043664761096363,1.5362170449236299,-1.139822665761981,-1.3081191119064488,0.3022549378458871,1.3730961762014156,0.5088024651071592,-0.8464243671405703,-1.2011957891288758,1.160341198796026,0.027689159510517817,1.3797848021879668,-0.11870973173703767,0.7548654583979592,0.6673776766556359,-0.1416767698425056,-1.3702526577901337,-0.22733380869451456,-0.3860545857839438,-0.4746494033140237,-1.4423873780835887,-0.5232558519147569,0.9923567002966976,-1.3367993456448217,0.35964321503622887,-0.8508495574838864,0.883592769966994,-0.6246517499576894,0.27989103186935305,0.6131371580496763,0.3216230855728305,0.28464155507737726,1.44503447655136,-0.27721413247491106,-1.4087811922820848,-0.33100038597981374,-0.7676458148982221,-0.9068197369866156,-0.4064278014938917,0.4841752803205062,-1.7939182078675981,0.645534754730688,-0.8546984857726455,-2.5751222033503276,-1.5496209941435157,-1.845264470705639,-1.7955574080362404,-1.0990447387369575,-0.02806115476210823,-0.09459203941178367,-0.8775873145390063,-4.121990228815462,-1.4352429415503278,-0.9688499652094146,-1.5041241800369083,-1.7357005143943813,-0.4502043873141606,-0.8411556452989516,-0.017478105167135518,-0.4047434754669365,-0.46049951646255516,-1.7239509268452278,-2.077507197691761,0.18656533416519658,0.05483152572246387,-1.1988250504309492,-0.6769503724014974,-0.07033222410676333,1.8214626735961084,0.48073894868276373,-1.028001117338976,-0.03736194677178664,-0.1613022757355416],\"xaxis\":\"x9\",\"y\":[0.4618236809570364,-1.8760345217107905,-0.024461448454044847,1.2574003360533095,-1.6603300720586975,0.9431808539198537,-0.3275006769611364,-0.6002280473322315,-0.9847738299959304,-0.16330418856163223,1.597188095112297,0.5688457854085364,0.12900455589561993,1.1456471972055877,-0.9784438357796877,0.5584583481411688,1.376835269025118,0.7078730006884457,-1.8150727227537027,1.1263419432513881,-0.9353705491923401,-1.1015856046350405,-1.3325938204413277,0.8827096559088252,1.4918321860205819,0.9863566468584642,-0.8385672256548253,0.5245850292006667,0.12065489545438189,0.05502199013118476,-0.30656589888113434,-0.6997121929122817,1.1662992585723713,0.5580159509947691,-0.12023744165306582,0.5056202557102356,0.4598136480108525,-1.0747407823181587,0.013256239586534642,-0.517675075967214,-0.7796594059393782,0.23578250445412977,0.20432802495424515,0.14101680554886295,0.9575334689804115,-0.6925673483003029,-0.8705935727439931,-0.8416031921405447,0.6873021607060796,-0.004944876023452826,0.49041295085782466,-1.2317940178702407,-0.0813901088437757,1.6709144639252376,0.57813585960082,-0.45189766232725553,1.0976466197209371,-1.7824104217096723,0.6387234746998384,0.17607591088185068,0.016398121006212477,0.7459912835659003,-1.1112853989633977,-0.5154088639815375,0.3881825476474756,-0.7314273379173726,-0.1726749846298453,-1.0660296087533017,0.24610014216510956,0.006256715434016159,-0.564137786805348,0.2591038145327592,-0.6953083094333815,-1.1055580185618308,-0.6245396668612723,-0.3190673665376973,1.5037907002025412,0.21950510334576176,1.374163814295838,-1.3720069796187595,-1.3247608510089435,0.7128936125271272,-1.2361182992940314,-0.2011131723521433,1.8290086001370824,-1.5378306359711813,1.277939232414064,0.7704713652904402,-0.04432391772501383,0.931430450499188,-1.4162795877054093,-1.1889993296726404,-0.039619142630552696,0.229314181496651,1.747491552717108,0.47651489046478396,0.29695716947331746,-0.8784372770247785,-1.344414299986784,1.7021406854463954],\"yaxis\":\"y9\",\"type\":\"scatter\"},{\"line\":{\"color\":\"rgba(128, 128, 128, 1.0)\",\"dash\":\"solid\",\"shape\":\"linear\",\"width\":1.3},\"marker\":{\"size\":2,\"symbol\":\"circle\"},\"mode\":\"markers\",\"name\":\"C\",\"text\":\"\",\"x\":[-0.8537742762332164,1.0157322930976045,1.2316869207547705,0.1314299722305412,-0.633724221261174,-1.021091071695296,0.05493633765137216,0.5561493102654288,-0.606363232964669,0.5413884046594294,1.5191493772222278,-0.9771583011795383,-2.564988254175942,-1.511871766233654,0.1698098432471122,-0.0006299061581094447,0.019540019752891886,-0.20333090941576668,-1.0515069577217253,0.8535637865467421,0.7479173990250584,1.5740810908189957,-0.2134294929037309,-0.8287624452994441,1.8084096050913296,-0.4985374462398888,-0.07050276829129744,0.2454396915192863,1.5865458034730295,0.22855415423131717,1.2318015789536472,-0.2683148170438074,0.2721415238481511,1.4289215468174405,0.3407877359485261,2.1163336799878025,-1.2175531392623062,1.0493278651389129,0.019850364513919506,1.7905761038088464,0.2718209125384333,0.9423641957958778,1.639765844844743,1.3938704008306384,-0.3588645773400398,-0.9247625382971925,1.6635092098571502,-0.8502091892531796,1.129888165743087,-0.9209889483736413,-0.6675980382475256,-0.8294327676779536,1.9101387765933906,0.6278871873084058,0.29342412609384266,0.2719883298680775,-1.2383177845611195,0.23924194267683924,-0.7947533691988276,0.369281989374878,-0.5362511746826577,-1.8551607079119403,1.4351948232022345,0.24854237986146002,-2.5847223229622402,-1.4763150326920196,0.16805478888458833,0.48872897444176455,0.18610409006261094,-0.18722588584988972,-0.6361226923627324,-0.8021976334316585,1.0793256151600996,0.8927522531499735,-1.0400918766611247,1.3309567449801414,-0.23918015765720343,0.21827777245077276,0.6643448470304437,-0.9887852571546005,-1.9802413017970966,1.310100856690185,-0.02734743222390547,-1.643015114730303,-0.09084317256020294,1.8388734031514915,1.563071326231132,-0.8096762102199779,0.4597566070432031,-0.6950082009640749,2.251854180395313,-0.2175714152370271,0.5372187334131854,-1.0190670145375262,-1.3175105585197597,-2.1250187398628486,0.8472747609702648,-2.3971849488244765,-1.3737368824255878,-0.6940420292071485],\"xaxis\":\"x10\",\"y\":[0.4618236809570364,-1.8760345217107905,-0.024461448454044847,1.2574003360533095,-1.6603300720586975,0.9431808539198537,-0.3275006769611364,-0.6002280473322315,-0.9847738299959304,-0.16330418856163223,1.597188095112297,0.5688457854085364,0.12900455589561993,1.1456471972055877,-0.9784438357796877,0.5584583481411688,1.376835269025118,0.7078730006884457,-1.8150727227537027,1.1263419432513881,-0.9353705491923401,-1.1015856046350405,-1.3325938204413277,0.8827096559088252,1.4918321860205819,0.9863566468584642,-0.8385672256548253,0.5245850292006667,0.12065489545438189,0.05502199013118476,-0.30656589888113434,-0.6997121929122817,1.1662992585723713,0.5580159509947691,-0.12023744165306582,0.5056202557102356,0.4598136480108525,-1.0747407823181587,0.013256239586534642,-0.517675075967214,-0.7796594059393782,0.23578250445412977,0.20432802495424515,0.14101680554886295,0.9575334689804115,-0.6925673483003029,-0.8705935727439931,-0.8416031921405447,0.6873021607060796,-0.004944876023452826,0.49041295085782466,-1.2317940178702407,-0.0813901088437757,1.6709144639252376,0.57813585960082,-0.45189766232725553,1.0976466197209371,-1.7824104217096723,0.6387234746998384,0.17607591088185068,0.016398121006212477,0.7459912835659003,-1.1112853989633977,-0.5154088639815375,0.3881825476474756,-0.7314273379173726,-0.1726749846298453,-1.0660296087533017,0.24610014216510956,0.006256715434016159,-0.564137786805348,0.2591038145327592,-0.6953083094333815,-1.1055580185618308,-0.6245396668612723,-0.3190673665376973,1.5037907002025412,0.21950510334576176,1.374163814295838,-1.3720069796187595,-1.3247608510089435,0.7128936125271272,-1.2361182992940314,-0.2011131723521433,1.8290086001370824,-1.5378306359711813,1.277939232414064,0.7704713652904402,-0.04432391772501383,0.931430450499188,-1.4162795877054093,-1.1889993296726404,-0.039619142630552696,0.229314181496651,1.747491552717108,0.47651489046478396,0.29695716947331746,-0.8784372770247785,-1.344414299986784,1.7021406854463954],\"yaxis\":\"y10\",\"type\":\"scatter\"},{\"histfunc\":\"count\",\"histnorm\":\"\",\"marker\":{\"color\":\"rgba(50, 171, 96, 1.0)\",\"line\":{\"color\":\"#4D5663\",\"width\":1.3}},\"name\":\"C\",\"nbinsx\":10,\"opacity\":0.8,\"orientation\":\"v\",\"x\":[0.4618236809570364,-1.8760345217107905,-0.024461448454044847,1.2574003360533095,-1.6603300720586975,0.9431808539198537,-0.3275006769611364,-0.6002280473322315,-0.9847738299959304,-0.16330418856163223,1.597188095112297,0.5688457854085364,0.12900455589561993,1.1456471972055877,-0.9784438357796877,0.5584583481411688,1.376835269025118,0.7078730006884457,-1.8150727227537027,1.1263419432513881,-0.9353705491923401,-1.1015856046350405,-1.3325938204413277,0.8827096559088252,1.4918321860205819,0.9863566468584642,-0.8385672256548253,0.5245850292006667,0.12065489545438189,0.05502199013118476,-0.30656589888113434,-0.6997121929122817,1.1662992585723713,0.5580159509947691,-0.12023744165306582,0.5056202557102356,0.4598136480108525,-1.0747407823181587,0.013256239586534642,-0.517675075967214,-0.7796594059393782,0.23578250445412977,0.20432802495424515,0.14101680554886295,0.9575334689804115,-0.6925673483003029,-0.8705935727439931,-0.8416031921405447,0.6873021607060796,-0.004944876023452826,0.49041295085782466,-1.2317940178702407,-0.0813901088437757,1.6709144639252376,0.57813585960082,-0.45189766232725553,1.0976466197209371,-1.7824104217096723,0.6387234746998384,0.17607591088185068,0.016398121006212477,0.7459912835659003,-1.1112853989633977,-0.5154088639815375,0.3881825476474756,-0.7314273379173726,-0.1726749846298453,-1.0660296087533017,0.24610014216510956,0.006256715434016159,-0.564137786805348,0.2591038145327592,-0.6953083094333815,-1.1055580185618308,-0.6245396668612723,-0.3190673665376973,1.5037907002025412,0.21950510334576176,1.374163814295838,-1.3720069796187595,-1.3247608510089435,0.7128936125271272,-1.2361182992940314,-0.2011131723521433,1.8290086001370824,-1.5378306359711813,1.277939232414064,0.7704713652904402,-0.04432391772501383,0.931430450499188,-1.4162795877054093,-1.1889993296726404,-0.039619142630552696,0.229314181496651,1.747491552717108,0.47651489046478396,0.29695716947331746,-0.8784372770247785,-1.344414299986784,1.7021406854463954],\"xaxis\":\"x11\",\"yaxis\":\"y11\",\"type\":\"histogram\"},{\"line\":{\"color\":\"rgba(128, 128, 128, 1.0)\",\"dash\":\"solid\",\"shape\":\"linear\",\"width\":1.3},\"marker\":{\"size\":2,\"symbol\":\"circle\"},\"mode\":\"markers\",\"name\":\"C\",\"text\":\"\",\"x\":[-0.47956938719333003,-1.1316430122868586,-1.4394984520413132,-1.6980544471081662,1.6517541276586782,-0.6016421348936393,0.4814954559638268,0.8358947636749885,-0.35229327071067085,0.8879888146598545,0.5079191018683458,1.7687252545276593,1.7792502777440802,1.766633605878207,1.1560748032756702,0.04530431877778243,0.8289360925137279,-0.08181062310565014,-1.3464133178804472,0.1939550092453204,-0.03080872689105242,-1.2996459250407195,0.8394667703660101,1.6198893101970748,0.44852945053110505,0.6508435189005042,-0.01566524908776226,1.205701927134643,0.6429050766084116,1.6590156399517664,-1.8413726285307792,-1.2512958605279527,-0.38839979338747677,-0.8382712619390268,-0.7640465135293413,-1.9574677656110746,-0.1819576822778034,0.34756350172202394,-2.0236901401471528,-0.934013514983784,-1.0547553069277258,-1.2223477384073151,-1.2610612837993038,0.5124029846195318,-0.12836116938872946,0.09570755732141845,1.0584142997790176,-0.7534000492954668,-0.39168333648515546,0.9427562596411888,-1.2649488886451548,-0.27912128350651055,-0.7082710101575158,0.31282738621271344,-0.6023436379277887,2.1596744461659076,-0.9223512546575351,0.6357441528389547,-0.9103977829395166,-0.24197499297387493,-1.0490933014045551,-0.5637401120482566,-0.49036669396333205,-1.1322384577611027,-1.3982878650691326,-0.7559097570278627,-1.4394068225015968,-1.2926381659267812,1.6756183646986447,1.2468189425235499,-1.0045614815874546,-0.7817140605037985,-1.1310812204419576,0.2789631959398414,-1.0261283228217053,-0.3229792328969324,-0.20483934769039758,0.6686474508811284,0.17496267455034867,-2.4227361960895872,-0.0689189156724492,-0.17035482159845666,1.1558215291727423,0.1799892673474436,1.3162907788144025,1.5919033022567164,-1.5056105354003668,0.31865214704909434,-1.6231483618340186,0.19108793947928213,-0.8307866105310673,-0.006053650666354444,-0.5034800152612379,0.8261439404115187,-0.25309060647659787,0.6389383222916003,0.5461201973821405,2.031866229706439,1.4946689301105966,-1.157159990051492],\"xaxis\":\"x12\",\"y\":[0.4618236809570364,-1.8760345217107905,-0.024461448454044847,1.2574003360533095,-1.6603300720586975,0.9431808539198537,-0.3275006769611364,-0.6002280473322315,-0.9847738299959304,-0.16330418856163223,1.597188095112297,0.5688457854085364,0.12900455589561993,1.1456471972055877,-0.9784438357796877,0.5584583481411688,1.376835269025118,0.7078730006884457,-1.8150727227537027,1.1263419432513881,-0.9353705491923401,-1.1015856046350405,-1.3325938204413277,0.8827096559088252,1.4918321860205819,0.9863566468584642,-0.8385672256548253,0.5245850292006667,0.12065489545438189,0.05502199013118476,-0.30656589888113434,-0.6997121929122817,1.1662992585723713,0.5580159509947691,-0.12023744165306582,0.5056202557102356,0.4598136480108525,-1.0747407823181587,0.013256239586534642,-0.517675075967214,-0.7796594059393782,0.23578250445412977,0.20432802495424515,0.14101680554886295,0.9575334689804115,-0.6925673483003029,-0.8705935727439931,-0.8416031921405447,0.6873021607060796,-0.004944876023452826,0.49041295085782466,-1.2317940178702407,-0.0813901088437757,1.6709144639252376,0.57813585960082,-0.45189766232725553,1.0976466197209371,-1.7824104217096723,0.6387234746998384,0.17607591088185068,0.016398121006212477,0.7459912835659003,-1.1112853989633977,-0.5154088639815375,0.3881825476474756,-0.7314273379173726,-0.1726749846298453,-1.0660296087533017,0.24610014216510956,0.006256715434016159,-0.564137786805348,0.2591038145327592,-0.6953083094333815,-1.1055580185618308,-0.6245396668612723,-0.3190673665376973,1.5037907002025412,0.21950510334576176,1.374163814295838,-1.3720069796187595,-1.3247608510089435,0.7128936125271272,-1.2361182992940314,-0.2011131723521433,1.8290086001370824,-1.5378306359711813,1.277939232414064,0.7704713652904402,-0.04432391772501383,0.931430450499188,-1.4162795877054093,-1.1889993296726404,-0.039619142630552696,0.229314181496651,1.747491552717108,0.47651489046478396,0.29695716947331746,-0.8784372770247785,-1.344414299986784,1.7021406854463954],\"yaxis\":\"y12\",\"type\":\"scatter\"},{\"line\":{\"color\":\"rgba(128, 128, 128, 1.0)\",\"dash\":\"solid\",\"shape\":\"linear\",\"width\":1.3},\"marker\":{\"size\":2,\"symbol\":\"circle\"},\"mode\":\"markers\",\"name\":\"D\",\"text\":\"\",\"x\":[-0.5019262604718252,1.3406574372295323,-0.14453389308463846,0.040956373720975554,0.7274751665220139,0.02772203928139414,-0.2627967982077833,-0.6445792859574564,-0.12440658548148807,-1.4195717936405616,-0.5881620964690552,0.1968941489793469,0.24836115152992447,1.1906853329299731,-0.20731260889632006,0.04751918853287542,1.714309247596637,-0.2014585421239541,-0.706546818966052,-1.2789820090973136,-0.29087411730222307,0.30696147278145924,0.6542094312601774,0.6346490022624198,-1.453964470447946,-0.2562556030355115,-0.13399741602615234,1.043664761096363,1.5362170449236299,-1.139822665761981,-1.3081191119064488,0.3022549378458871,1.3730961762014156,0.5088024651071592,-0.8464243671405703,-1.2011957891288758,1.160341198796026,0.027689159510517817,1.3797848021879668,-0.11870973173703767,0.7548654583979592,0.6673776766556359,-0.1416767698425056,-1.3702526577901337,-0.22733380869451456,-0.3860545857839438,-0.4746494033140237,-1.4423873780835887,-0.5232558519147569,0.9923567002966976,-1.3367993456448217,0.35964321503622887,-0.8508495574838864,0.883592769966994,-0.6246517499576894,0.27989103186935305,0.6131371580496763,0.3216230855728305,0.28464155507737726,1.44503447655136,-0.27721413247491106,-1.4087811922820848,-0.33100038597981374,-0.7676458148982221,-0.9068197369866156,-0.4064278014938917,0.4841752803205062,-1.7939182078675981,0.645534754730688,-0.8546984857726455,-2.5751222033503276,-1.5496209941435157,-1.845264470705639,-1.7955574080362404,-1.0990447387369575,-0.02806115476210823,-0.09459203941178367,-0.8775873145390063,-4.121990228815462,-1.4352429415503278,-0.9688499652094146,-1.5041241800369083,-1.7357005143943813,-0.4502043873141606,-0.8411556452989516,-0.017478105167135518,-0.4047434754669365,-0.46049951646255516,-1.7239509268452278,-2.077507197691761,0.18656533416519658,0.05483152572246387,-1.1988250504309492,-0.6769503724014974,-0.07033222410676333,1.8214626735961084,0.48073894868276373,-1.028001117338976,-0.03736194677178664,-0.1613022757355416],\"xaxis\":\"x13\",\"y\":[-0.47956938719333003,-1.1316430122868586,-1.4394984520413132,-1.6980544471081662,1.6517541276586782,-0.6016421348936393,0.4814954559638268,0.8358947636749885,-0.35229327071067085,0.8879888146598545,0.5079191018683458,1.7687252545276593,1.7792502777440802,1.766633605878207,1.1560748032756702,0.04530431877778243,0.8289360925137279,-0.08181062310565014,-1.3464133178804472,0.1939550092453204,-0.03080872689105242,-1.2996459250407195,0.8394667703660101,1.6198893101970748,0.44852945053110505,0.6508435189005042,-0.01566524908776226,1.205701927134643,0.6429050766084116,1.6590156399517664,-1.8413726285307792,-1.2512958605279527,-0.38839979338747677,-0.8382712619390268,-0.7640465135293413,-1.9574677656110746,-0.1819576822778034,0.34756350172202394,-2.0236901401471528,-0.934013514983784,-1.0547553069277258,-1.2223477384073151,-1.2610612837993038,0.5124029846195318,-0.12836116938872946,0.09570755732141845,1.0584142997790176,-0.7534000492954668,-0.39168333648515546,0.9427562596411888,-1.2649488886451548,-0.27912128350651055,-0.7082710101575158,0.31282738621271344,-0.6023436379277887,2.1596744461659076,-0.9223512546575351,0.6357441528389547,-0.9103977829395166,-0.24197499297387493,-1.0490933014045551,-0.5637401120482566,-0.49036669396333205,-1.1322384577611027,-1.3982878650691326,-0.7559097570278627,-1.4394068225015968,-1.2926381659267812,1.6756183646986447,1.2468189425235499,-1.0045614815874546,-0.7817140605037985,-1.1310812204419576,0.2789631959398414,-1.0261283228217053,-0.3229792328969324,-0.20483934769039758,0.6686474508811284,0.17496267455034867,-2.4227361960895872,-0.0689189156724492,-0.17035482159845666,1.1558215291727423,0.1799892673474436,1.3162907788144025,1.5919033022567164,-1.5056105354003668,0.31865214704909434,-1.6231483618340186,0.19108793947928213,-0.8307866105310673,-0.006053650666354444,-0.5034800152612379,0.8261439404115187,-0.25309060647659787,0.6389383222916003,0.5461201973821405,2.031866229706439,1.4946689301105966,-1.157159990051492],\"yaxis\":\"y13\",\"type\":\"scatter\"},{\"line\":{\"color\":\"rgba(128, 128, 128, 1.0)\",\"dash\":\"solid\",\"shape\":\"linear\",\"width\":1.3},\"marker\":{\"size\":2,\"symbol\":\"circle\"},\"mode\":\"markers\",\"name\":\"D\",\"text\":\"\",\"x\":[-0.8537742762332164,1.0157322930976045,1.2316869207547705,0.1314299722305412,-0.633724221261174,-1.021091071695296,0.05493633765137216,0.5561493102654288,-0.606363232964669,0.5413884046594294,1.5191493772222278,-0.9771583011795383,-2.564988254175942,-1.511871766233654,0.1698098432471122,-0.0006299061581094447,0.019540019752891886,-0.20333090941576668,-1.0515069577217253,0.8535637865467421,0.7479173990250584,1.5740810908189957,-0.2134294929037309,-0.8287624452994441,1.8084096050913296,-0.4985374462398888,-0.07050276829129744,0.2454396915192863,1.5865458034730295,0.22855415423131717,1.2318015789536472,-0.2683148170438074,0.2721415238481511,1.4289215468174405,0.3407877359485261,2.1163336799878025,-1.2175531392623062,1.0493278651389129,0.019850364513919506,1.7905761038088464,0.2718209125384333,0.9423641957958778,1.639765844844743,1.3938704008306384,-0.3588645773400398,-0.9247625382971925,1.6635092098571502,-0.8502091892531796,1.129888165743087,-0.9209889483736413,-0.6675980382475256,-0.8294327676779536,1.9101387765933906,0.6278871873084058,0.29342412609384266,0.2719883298680775,-1.2383177845611195,0.23924194267683924,-0.7947533691988276,0.369281989374878,-0.5362511746826577,-1.8551607079119403,1.4351948232022345,0.24854237986146002,-2.5847223229622402,-1.4763150326920196,0.16805478888458833,0.48872897444176455,0.18610409006261094,-0.18722588584988972,-0.6361226923627324,-0.8021976334316585,1.0793256151600996,0.8927522531499735,-1.0400918766611247,1.3309567449801414,-0.23918015765720343,0.21827777245077276,0.6643448470304437,-0.9887852571546005,-1.9802413017970966,1.310100856690185,-0.02734743222390547,-1.643015114730303,-0.09084317256020294,1.8388734031514915,1.563071326231132,-0.8096762102199779,0.4597566070432031,-0.6950082009640749,2.251854180395313,-0.2175714152370271,0.5372187334131854,-1.0190670145375262,-1.3175105585197597,-2.1250187398628486,0.8472747609702648,-2.3971849488244765,-1.3737368824255878,-0.6940420292071485],\"xaxis\":\"x14\",\"y\":[-0.47956938719333003,-1.1316430122868586,-1.4394984520413132,-1.6980544471081662,1.6517541276586782,-0.6016421348936393,0.4814954559638268,0.8358947636749885,-0.35229327071067085,0.8879888146598545,0.5079191018683458,1.7687252545276593,1.7792502777440802,1.766633605878207,1.1560748032756702,0.04530431877778243,0.8289360925137279,-0.08181062310565014,-1.3464133178804472,0.1939550092453204,-0.03080872689105242,-1.2996459250407195,0.8394667703660101,1.6198893101970748,0.44852945053110505,0.6508435189005042,-0.01566524908776226,1.205701927134643,0.6429050766084116,1.6590156399517664,-1.8413726285307792,-1.2512958605279527,-0.38839979338747677,-0.8382712619390268,-0.7640465135293413,-1.9574677656110746,-0.1819576822778034,0.34756350172202394,-2.0236901401471528,-0.934013514983784,-1.0547553069277258,-1.2223477384073151,-1.2610612837993038,0.5124029846195318,-0.12836116938872946,0.09570755732141845,1.0584142997790176,-0.7534000492954668,-0.39168333648515546,0.9427562596411888,-1.2649488886451548,-0.27912128350651055,-0.7082710101575158,0.31282738621271344,-0.6023436379277887,2.1596744461659076,-0.9223512546575351,0.6357441528389547,-0.9103977829395166,-0.24197499297387493,-1.0490933014045551,-0.5637401120482566,-0.49036669396333205,-1.1322384577611027,-1.3982878650691326,-0.7559097570278627,-1.4394068225015968,-1.2926381659267812,1.6756183646986447,1.2468189425235499,-1.0045614815874546,-0.7817140605037985,-1.1310812204419576,0.2789631959398414,-1.0261283228217053,-0.3229792328969324,-0.20483934769039758,0.6686474508811284,0.17496267455034867,-2.4227361960895872,-0.0689189156724492,-0.17035482159845666,1.1558215291727423,0.1799892673474436,1.3162907788144025,1.5919033022567164,-1.5056105354003668,0.31865214704909434,-1.6231483618340186,0.19108793947928213,-0.8307866105310673,-0.006053650666354444,-0.5034800152612379,0.8261439404115187,-0.25309060647659787,0.6389383222916003,0.5461201973821405,2.031866229706439,1.4946689301105966,-1.157159990051492],\"yaxis\":\"y14\",\"type\":\"scatter\"},{\"line\":{\"color\":\"rgba(128, 128, 128, 1.0)\",\"dash\":\"solid\",\"shape\":\"linear\",\"width\":1.3},\"marker\":{\"size\":2,\"symbol\":\"circle\"},\"mode\":\"markers\",\"name\":\"D\",\"text\":\"\",\"x\":[0.4618236809570364,-1.8760345217107905,-0.024461448454044847,1.2574003360533095,-1.6603300720586975,0.9431808539198537,-0.3275006769611364,-0.6002280473322315,-0.9847738299959304,-0.16330418856163223,1.597188095112297,0.5688457854085364,0.12900455589561993,1.1456471972055877,-0.9784438357796877,0.5584583481411688,1.376835269025118,0.7078730006884457,-1.8150727227537027,1.1263419432513881,-0.9353705491923401,-1.1015856046350405,-1.3325938204413277,0.8827096559088252,1.4918321860205819,0.9863566468584642,-0.8385672256548253,0.5245850292006667,0.12065489545438189,0.05502199013118476,-0.30656589888113434,-0.6997121929122817,1.1662992585723713,0.5580159509947691,-0.12023744165306582,0.5056202557102356,0.4598136480108525,-1.0747407823181587,0.013256239586534642,-0.517675075967214,-0.7796594059393782,0.23578250445412977,0.20432802495424515,0.14101680554886295,0.9575334689804115,-0.6925673483003029,-0.8705935727439931,-0.8416031921405447,0.6873021607060796,-0.004944876023452826,0.49041295085782466,-1.2317940178702407,-0.0813901088437757,1.6709144639252376,0.57813585960082,-0.45189766232725553,1.0976466197209371,-1.7824104217096723,0.6387234746998384,0.17607591088185068,0.016398121006212477,0.7459912835659003,-1.1112853989633977,-0.5154088639815375,0.3881825476474756,-0.7314273379173726,-0.1726749846298453,-1.0660296087533017,0.24610014216510956,0.006256715434016159,-0.564137786805348,0.2591038145327592,-0.6953083094333815,-1.1055580185618308,-0.6245396668612723,-0.3190673665376973,1.5037907002025412,0.21950510334576176,1.374163814295838,-1.3720069796187595,-1.3247608510089435,0.7128936125271272,-1.2361182992940314,-0.2011131723521433,1.8290086001370824,-1.5378306359711813,1.277939232414064,0.7704713652904402,-0.04432391772501383,0.931430450499188,-1.4162795877054093,-1.1889993296726404,-0.039619142630552696,0.229314181496651,1.747491552717108,0.47651489046478396,0.29695716947331746,-0.8784372770247785,-1.344414299986784,1.7021406854463954],\"xaxis\":\"x15\",\"y\":[-0.47956938719333003,-1.1316430122868586,-1.4394984520413132,-1.6980544471081662,1.6517541276586782,-0.6016421348936393,0.4814954559638268,0.8358947636749885,-0.35229327071067085,0.8879888146598545,0.5079191018683458,1.7687252545276593,1.7792502777440802,1.766633605878207,1.1560748032756702,0.04530431877778243,0.8289360925137279,-0.08181062310565014,-1.3464133178804472,0.1939550092453204,-0.03080872689105242,-1.2996459250407195,0.8394667703660101,1.6198893101970748,0.44852945053110505,0.6508435189005042,-0.01566524908776226,1.205701927134643,0.6429050766084116,1.6590156399517664,-1.8413726285307792,-1.2512958605279527,-0.38839979338747677,-0.8382712619390268,-0.7640465135293413,-1.9574677656110746,-0.1819576822778034,0.34756350172202394,-2.0236901401471528,-0.934013514983784,-1.0547553069277258,-1.2223477384073151,-1.2610612837993038,0.5124029846195318,-0.12836116938872946,0.09570755732141845,1.0584142997790176,-0.7534000492954668,-0.39168333648515546,0.9427562596411888,-1.2649488886451548,-0.27912128350651055,-0.7082710101575158,0.31282738621271344,-0.6023436379277887,2.1596744461659076,-0.9223512546575351,0.6357441528389547,-0.9103977829395166,-0.24197499297387493,-1.0490933014045551,-0.5637401120482566,-0.49036669396333205,-1.1322384577611027,-1.3982878650691326,-0.7559097570278627,-1.4394068225015968,-1.2926381659267812,1.6756183646986447,1.2468189425235499,-1.0045614815874546,-0.7817140605037985,-1.1310812204419576,0.2789631959398414,-1.0261283228217053,-0.3229792328969324,-0.20483934769039758,0.6686474508811284,0.17496267455034867,-2.4227361960895872,-0.0689189156724492,-0.17035482159845666,1.1558215291727423,0.1799892673474436,1.3162907788144025,1.5919033022567164,-1.5056105354003668,0.31865214704909434,-1.6231483618340186,0.19108793947928213,-0.8307866105310673,-0.006053650666354444,-0.5034800152612379,0.8261439404115187,-0.25309060647659787,0.6389383222916003,0.5461201973821405,2.031866229706439,1.4946689301105966,-1.157159990051492],\"yaxis\":\"y15\",\"type\":\"scatter\"},{\"histfunc\":\"count\",\"histnorm\":\"\",\"marker\":{\"color\":\"rgba(128, 0, 128, 1.0)\",\"line\":{\"color\":\"#4D5663\",\"width\":1.3}},\"name\":\"D\",\"nbinsx\":10,\"opacity\":0.8,\"orientation\":\"v\",\"x\":[-0.47956938719333003,-1.1316430122868586,-1.4394984520413132,-1.6980544471081662,1.6517541276586782,-0.6016421348936393,0.4814954559638268,0.8358947636749885,-0.35229327071067085,0.8879888146598545,0.5079191018683458,1.7687252545276593,1.7792502777440802,1.766633605878207,1.1560748032756702,0.04530431877778243,0.8289360925137279,-0.08181062310565014,-1.3464133178804472,0.1939550092453204,-0.03080872689105242,-1.2996459250407195,0.8394667703660101,1.6198893101970748,0.44852945053110505,0.6508435189005042,-0.01566524908776226,1.205701927134643,0.6429050766084116,1.6590156399517664,-1.8413726285307792,-1.2512958605279527,-0.38839979338747677,-0.8382712619390268,-0.7640465135293413,-1.9574677656110746,-0.1819576822778034,0.34756350172202394,-2.0236901401471528,-0.934013514983784,-1.0547553069277258,-1.2223477384073151,-1.2610612837993038,0.5124029846195318,-0.12836116938872946,0.09570755732141845,1.0584142997790176,-0.7534000492954668,-0.39168333648515546,0.9427562596411888,-1.2649488886451548,-0.27912128350651055,-0.7082710101575158,0.31282738621271344,-0.6023436379277887,2.1596744461659076,-0.9223512546575351,0.6357441528389547,-0.9103977829395166,-0.24197499297387493,-1.0490933014045551,-0.5637401120482566,-0.49036669396333205,-1.1322384577611027,-1.3982878650691326,-0.7559097570278627,-1.4394068225015968,-1.2926381659267812,1.6756183646986447,1.2468189425235499,-1.0045614815874546,-0.7817140605037985,-1.1310812204419576,0.2789631959398414,-1.0261283228217053,-0.3229792328969324,-0.20483934769039758,0.6686474508811284,0.17496267455034867,-2.4227361960895872,-0.0689189156724492,-0.17035482159845666,1.1558215291727423,0.1799892673474436,1.3162907788144025,1.5919033022567164,-1.5056105354003668,0.31865214704909434,-1.6231483618340186,0.19108793947928213,-0.8307866105310673,-0.006053650666354444,-0.5034800152612379,0.8261439404115187,-0.25309060647659787,0.6389383222916003,0.5461201973821405,2.031866229706439,1.4946689301105966,-1.157159990051492],\"xaxis\":\"x16\",\"yaxis\":\"y16\",\"type\":\"histogram\"}],                        {\"bargap\":0.02,\"legend\":{\"bgcolor\":\"#F5F6F9\",\"font\":{\"color\":\"#4D5663\"}},\"paper_bgcolor\":\"#F5F6F9\",\"plot_bgcolor\":\"#F5F6F9\",\"showlegend\":false,\"template\":{\"data\":{\"barpolar\":[{\"marker\":{\"line\":{\"color\":\"#E5ECF6\",\"width\":0.5},\"pattern\":{\"fillmode\":\"overlay\",\"size\":10,\"solidity\":0.2}},\"type\":\"barpolar\"}],\"bar\":[{\"error_x\":{\"color\":\"#2a3f5f\"},\"error_y\":{\"color\":\"#2a3f5f\"},\"marker\":{\"line\":{\"color\":\"#E5ECF6\",\"width\":0.5},\"pattern\":{\"fillmode\":\"overlay\",\"size\":10,\"solidity\":0.2}},\"type\":\"bar\"}],\"carpet\":[{\"aaxis\":{\"endlinecolor\":\"#2a3f5f\",\"gridcolor\":\"white\",\"linecolor\":\"white\",\"minorgridcolor\":\"white\",\"startlinecolor\":\"#2a3f5f\"},\"baxis\":{\"endlinecolor\":\"#2a3f5f\",\"gridcolor\":\"white\",\"linecolor\":\"white\",\"minorgridcolor\":\"white\",\"startlinecolor\":\"#2a3f5f\"},\"type\":\"carpet\"}],\"choropleth\":[{\"colorbar\":{\"outlinewidth\":0,\"ticks\":\"\"},\"type\":\"choropleth\"}],\"contourcarpet\":[{\"colorbar\":{\"outlinewidth\":0,\"ticks\":\"\"},\"type\":\"contourcarpet\"}],\"contour\":[{\"colorbar\":{\"outlinewidth\":0,\"ticks\":\"\"},\"colorscale\":[[0.0,\"#0d0887\"],[0.1111111111111111,\"#46039f\"],[0.2222222222222222,\"#7201a8\"],[0.3333333333333333,\"#9c179e\"],[0.4444444444444444,\"#bd3786\"],[0.5555555555555556,\"#d8576b\"],[0.6666666666666666,\"#ed7953\"],[0.7777777777777778,\"#fb9f3a\"],[0.8888888888888888,\"#fdca26\"],[1.0,\"#f0f921\"]],\"type\":\"contour\"}],\"heatmapgl\":[{\"colorbar\":{\"outlinewidth\":0,\"ticks\":\"\"},\"colorscale\":[[0.0,\"#0d0887\"],[0.1111111111111111,\"#46039f\"],[0.2222222222222222,\"#7201a8\"],[0.3333333333333333,\"#9c179e\"],[0.4444444444444444,\"#bd3786\"],[0.5555555555555556,\"#d8576b\"],[0.6666666666666666,\"#ed7953\"],[0.7777777777777778,\"#fb9f3a\"],[0.8888888888888888,\"#fdca26\"],[1.0,\"#f0f921\"]],\"type\":\"heatmapgl\"}],\"heatmap\":[{\"colorbar\":{\"outlinewidth\":0,\"ticks\":\"\"},\"colorscale\":[[0.0,\"#0d0887\"],[0.1111111111111111,\"#46039f\"],[0.2222222222222222,\"#7201a8\"],[0.3333333333333333,\"#9c179e\"],[0.4444444444444444,\"#bd3786\"],[0.5555555555555556,\"#d8576b\"],[0.6666666666666666,\"#ed7953\"],[0.7777777777777778,\"#fb9f3a\"],[0.8888888888888888,\"#fdca26\"],[1.0,\"#f0f921\"]],\"type\":\"heatmap\"}],\"histogram2dcontour\":[{\"colorbar\":{\"outlinewidth\":0,\"ticks\":\"\"},\"colorscale\":[[0.0,\"#0d0887\"],[0.1111111111111111,\"#46039f\"],[0.2222222222222222,\"#7201a8\"],[0.3333333333333333,\"#9c179e\"],[0.4444444444444444,\"#bd3786\"],[0.5555555555555556,\"#d8576b\"],[0.6666666666666666,\"#ed7953\"],[0.7777777777777778,\"#fb9f3a\"],[0.8888888888888888,\"#fdca26\"],[1.0,\"#f0f921\"]],\"type\":\"histogram2dcontour\"}],\"histogram2d\":[{\"colorbar\":{\"outlinewidth\":0,\"ticks\":\"\"},\"colorscale\":[[0.0,\"#0d0887\"],[0.1111111111111111,\"#46039f\"],[0.2222222222222222,\"#7201a8\"],[0.3333333333333333,\"#9c179e\"],[0.4444444444444444,\"#bd3786\"],[0.5555555555555556,\"#d8576b\"],[0.6666666666666666,\"#ed7953\"],[0.7777777777777778,\"#fb9f3a\"],[0.8888888888888888,\"#fdca26\"],[1.0,\"#f0f921\"]],\"type\":\"histogram2d\"}],\"histogram\":[{\"marker\":{\"pattern\":{\"fillmode\":\"overlay\",\"size\":10,\"solidity\":0.2}},\"type\":\"histogram\"}],\"mesh3d\":[{\"colorbar\":{\"outlinewidth\":0,\"ticks\":\"\"},\"type\":\"mesh3d\"}],\"parcoords\":[{\"line\":{\"colorbar\":{\"outlinewidth\":0,\"ticks\":\"\"}},\"type\":\"parcoords\"}],\"pie\":[{\"automargin\":true,\"type\":\"pie\"}],\"scatter3d\":[{\"line\":{\"colorbar\":{\"outlinewidth\":0,\"ticks\":\"\"}},\"marker\":{\"colorbar\":{\"outlinewidth\":0,\"ticks\":\"\"}},\"type\":\"scatter3d\"}],\"scattercarpet\":[{\"marker\":{\"colorbar\":{\"outlinewidth\":0,\"ticks\":\"\"}},\"type\":\"scattercarpet\"}],\"scattergeo\":[{\"marker\":{\"colorbar\":{\"outlinewidth\":0,\"ticks\":\"\"}},\"type\":\"scattergeo\"}],\"scattergl\":[{\"marker\":{\"colorbar\":{\"outlinewidth\":0,\"ticks\":\"\"}},\"type\":\"scattergl\"}],\"scattermapbox\":[{\"marker\":{\"colorbar\":{\"outlinewidth\":0,\"ticks\":\"\"}},\"type\":\"scattermapbox\"}],\"scatterpolargl\":[{\"marker\":{\"colorbar\":{\"outlinewidth\":0,\"ticks\":\"\"}},\"type\":\"scatterpolargl\"}],\"scatterpolar\":[{\"marker\":{\"colorbar\":{\"outlinewidth\":0,\"ticks\":\"\"}},\"type\":\"scatterpolar\"}],\"scatter\":[{\"fillpattern\":{\"fillmode\":\"overlay\",\"size\":10,\"solidity\":0.2},\"type\":\"scatter\"}],\"scatterternary\":[{\"marker\":{\"colorbar\":{\"outlinewidth\":0,\"ticks\":\"\"}},\"type\":\"scatterternary\"}],\"surface\":[{\"colorbar\":{\"outlinewidth\":0,\"ticks\":\"\"},\"colorscale\":[[0.0,\"#0d0887\"],[0.1111111111111111,\"#46039f\"],[0.2222222222222222,\"#7201a8\"],[0.3333333333333333,\"#9c179e\"],[0.4444444444444444,\"#bd3786\"],[0.5555555555555556,\"#d8576b\"],[0.6666666666666666,\"#ed7953\"],[0.7777777777777778,\"#fb9f3a\"],[0.8888888888888888,\"#fdca26\"],[1.0,\"#f0f921\"]],\"type\":\"surface\"}],\"table\":[{\"cells\":{\"fill\":{\"color\":\"#EBF0F8\"},\"line\":{\"color\":\"white\"}},\"header\":{\"fill\":{\"color\":\"#C8D4E3\"},\"line\":{\"color\":\"white\"}},\"type\":\"table\"}]},\"layout\":{\"annotationdefaults\":{\"arrowcolor\":\"#2a3f5f\",\"arrowhead\":0,\"arrowwidth\":1},\"autotypenumbers\":\"strict\",\"coloraxis\":{\"colorbar\":{\"outlinewidth\":0,\"ticks\":\"\"}},\"colorscale\":{\"diverging\":[[0,\"#8e0152\"],[0.1,\"#c51b7d\"],[0.2,\"#de77ae\"],[0.3,\"#f1b6da\"],[0.4,\"#fde0ef\"],[0.5,\"#f7f7f7\"],[0.6,\"#e6f5d0\"],[0.7,\"#b8e186\"],[0.8,\"#7fbc41\"],[0.9,\"#4d9221\"],[1,\"#276419\"]],\"sequential\":[[0.0,\"#0d0887\"],[0.1111111111111111,\"#46039f\"],[0.2222222222222222,\"#7201a8\"],[0.3333333333333333,\"#9c179e\"],[0.4444444444444444,\"#bd3786\"],[0.5555555555555556,\"#d8576b\"],[0.6666666666666666,\"#ed7953\"],[0.7777777777777778,\"#fb9f3a\"],[0.8888888888888888,\"#fdca26\"],[1.0,\"#f0f921\"]],\"sequentialminus\":[[0.0,\"#0d0887\"],[0.1111111111111111,\"#46039f\"],[0.2222222222222222,\"#7201a8\"],[0.3333333333333333,\"#9c179e\"],[0.4444444444444444,\"#bd3786\"],[0.5555555555555556,\"#d8576b\"],[0.6666666666666666,\"#ed7953\"],[0.7777777777777778,\"#fb9f3a\"],[0.8888888888888888,\"#fdca26\"],[1.0,\"#f0f921\"]]},\"colorway\":[\"#636efa\",\"#EF553B\",\"#00cc96\",\"#ab63fa\",\"#FFA15A\",\"#19d3f3\",\"#FF6692\",\"#B6E880\",\"#FF97FF\",\"#FECB52\"],\"font\":{\"color\":\"#2a3f5f\"},\"geo\":{\"bgcolor\":\"white\",\"lakecolor\":\"white\",\"landcolor\":\"#E5ECF6\",\"showlakes\":true,\"showland\":true,\"subunitcolor\":\"white\"},\"hoverlabel\":{\"align\":\"left\"},\"hovermode\":\"closest\",\"mapbox\":{\"style\":\"light\"},\"paper_bgcolor\":\"white\",\"plot_bgcolor\":\"#E5ECF6\",\"polar\":{\"angularaxis\":{\"gridcolor\":\"white\",\"linecolor\":\"white\",\"ticks\":\"\"},\"bgcolor\":\"#E5ECF6\",\"radialaxis\":{\"gridcolor\":\"white\",\"linecolor\":\"white\",\"ticks\":\"\"}},\"scene\":{\"xaxis\":{\"backgroundcolor\":\"#E5ECF6\",\"gridcolor\":\"white\",\"gridwidth\":2,\"linecolor\":\"white\",\"showbackground\":true,\"ticks\":\"\",\"zerolinecolor\":\"white\"},\"yaxis\":{\"backgroundcolor\":\"#E5ECF6\",\"gridcolor\":\"white\",\"gridwidth\":2,\"linecolor\":\"white\",\"showbackground\":true,\"ticks\":\"\",\"zerolinecolor\":\"white\"},\"zaxis\":{\"backgroundcolor\":\"#E5ECF6\",\"gridcolor\":\"white\",\"gridwidth\":2,\"linecolor\":\"white\",\"showbackground\":true,\"ticks\":\"\",\"zerolinecolor\":\"white\"}},\"shapedefaults\":{\"line\":{\"color\":\"#2a3f5f\"}},\"ternary\":{\"aaxis\":{\"gridcolor\":\"white\",\"linecolor\":\"white\",\"ticks\":\"\"},\"baxis\":{\"gridcolor\":\"white\",\"linecolor\":\"white\",\"ticks\":\"\"},\"bgcolor\":\"#E5ECF6\",\"caxis\":{\"gridcolor\":\"white\",\"linecolor\":\"white\",\"ticks\":\"\"}},\"title\":{\"x\":0.05},\"xaxis\":{\"automargin\":true,\"gridcolor\":\"white\",\"linecolor\":\"white\",\"ticks\":\"\",\"title\":{\"standoff\":15},\"zerolinecolor\":\"white\",\"zerolinewidth\":2},\"yaxis\":{\"automargin\":true,\"gridcolor\":\"white\",\"linecolor\":\"white\",\"ticks\":\"\",\"title\":{\"standoff\":15},\"zerolinecolor\":\"white\",\"zerolinewidth\":2}}},\"title\":{\"font\":{\"color\":\"#4D5663\"}},\"xaxis\":{\"anchor\":\"y\",\"domain\":[0.0,0.2125],\"gridcolor\":\"#E1E5ED\",\"showgrid\":false,\"tickfont\":{\"color\":\"#4D5663\"},\"title\":{\"font\":{\"color\":\"#4D5663\"},\"text\":\"\"},\"zerolinecolor\":\"#E1E5ED\"},\"yaxis\":{\"anchor\":\"x\",\"domain\":[0.8025,1.0],\"gridcolor\":\"#E1E5ED\",\"showgrid\":false,\"tickfont\":{\"color\":\"#4D5663\"},\"title\":{\"font\":{\"color\":\"#4D5663\"},\"text\":\"\"},\"zerolinecolor\":\"#E1E5ED\"},\"xaxis2\":{\"anchor\":\"y2\",\"domain\":[0.2625,0.475],\"gridcolor\":\"#E1E5ED\",\"showgrid\":false,\"tickfont\":{\"color\":\"#4D5663\"},\"title\":{\"font\":{\"color\":\"#4D5663\"},\"text\":\"\"},\"zerolinecolor\":\"#E1E5ED\"},\"yaxis2\":{\"anchor\":\"x2\",\"domain\":[0.8025,1.0],\"gridcolor\":\"#E1E5ED\",\"showgrid\":false,\"tickfont\":{\"color\":\"#4D5663\"},\"title\":{\"font\":{\"color\":\"#4D5663\"},\"text\":\"\"},\"zerolinecolor\":\"#E1E5ED\"},\"xaxis3\":{\"anchor\":\"y3\",\"domain\":[0.525,0.7375],\"gridcolor\":\"#E1E5ED\",\"showgrid\":false,\"tickfont\":{\"color\":\"#4D5663\"},\"title\":{\"font\":{\"color\":\"#4D5663\"},\"text\":\"\"},\"zerolinecolor\":\"#E1E5ED\"},\"yaxis3\":{\"anchor\":\"x3\",\"domain\":[0.8025,1.0],\"gridcolor\":\"#E1E5ED\",\"showgrid\":false,\"tickfont\":{\"color\":\"#4D5663\"},\"title\":{\"font\":{\"color\":\"#4D5663\"},\"text\":\"\"},\"zerolinecolor\":\"#E1E5ED\"},\"xaxis4\":{\"anchor\":\"y4\",\"domain\":[0.7875,1.0],\"gridcolor\":\"#E1E5ED\",\"showgrid\":false,\"tickfont\":{\"color\":\"#4D5663\"},\"title\":{\"font\":{\"color\":\"#4D5663\"},\"text\":\"\"},\"zerolinecolor\":\"#E1E5ED\"},\"yaxis4\":{\"anchor\":\"x4\",\"domain\":[0.8025,1.0],\"gridcolor\":\"#E1E5ED\",\"showgrid\":false,\"tickfont\":{\"color\":\"#4D5663\"},\"title\":{\"font\":{\"color\":\"#4D5663\"},\"text\":\"\"},\"zerolinecolor\":\"#E1E5ED\"},\"xaxis5\":{\"anchor\":\"y5\",\"domain\":[0.0,0.2125],\"gridcolor\":\"#E1E5ED\",\"showgrid\":false,\"tickfont\":{\"color\":\"#4D5663\"},\"title\":{\"font\":{\"color\":\"#4D5663\"},\"text\":\"\"},\"zerolinecolor\":\"#E1E5ED\"},\"yaxis5\":{\"anchor\":\"x5\",\"domain\":[0.535,0.7325],\"gridcolor\":\"#E1E5ED\",\"showgrid\":false,\"tickfont\":{\"color\":\"#4D5663\"},\"title\":{\"font\":{\"color\":\"#4D5663\"},\"text\":\"\"},\"zerolinecolor\":\"#E1E5ED\"},\"xaxis6\":{\"anchor\":\"y6\",\"domain\":[0.2625,0.475],\"gridcolor\":\"#E1E5ED\",\"showgrid\":false,\"tickfont\":{\"color\":\"#4D5663\"},\"title\":{\"font\":{\"color\":\"#4D5663\"},\"text\":\"\"},\"zerolinecolor\":\"#E1E5ED\"},\"yaxis6\":{\"anchor\":\"x6\",\"domain\":[0.535,0.7325],\"gridcolor\":\"#E1E5ED\",\"showgrid\":false,\"tickfont\":{\"color\":\"#4D5663\"},\"title\":{\"font\":{\"color\":\"#4D5663\"},\"text\":\"\"},\"zerolinecolor\":\"#E1E5ED\"},\"xaxis7\":{\"anchor\":\"y7\",\"domain\":[0.525,0.7375],\"gridcolor\":\"#E1E5ED\",\"showgrid\":false,\"tickfont\":{\"color\":\"#4D5663\"},\"title\":{\"font\":{\"color\":\"#4D5663\"},\"text\":\"\"},\"zerolinecolor\":\"#E1E5ED\"},\"yaxis7\":{\"anchor\":\"x7\",\"domain\":[0.535,0.7325],\"gridcolor\":\"#E1E5ED\",\"showgrid\":false,\"tickfont\":{\"color\":\"#4D5663\"},\"title\":{\"font\":{\"color\":\"#4D5663\"},\"text\":\"\"},\"zerolinecolor\":\"#E1E5ED\"},\"xaxis8\":{\"anchor\":\"y8\",\"domain\":[0.7875,1.0],\"gridcolor\":\"#E1E5ED\",\"showgrid\":false,\"tickfont\":{\"color\":\"#4D5663\"},\"title\":{\"font\":{\"color\":\"#4D5663\"},\"text\":\"\"},\"zerolinecolor\":\"#E1E5ED\"},\"yaxis8\":{\"anchor\":\"x8\",\"domain\":[0.535,0.7325],\"gridcolor\":\"#E1E5ED\",\"showgrid\":false,\"tickfont\":{\"color\":\"#4D5663\"},\"title\":{\"font\":{\"color\":\"#4D5663\"},\"text\":\"\"},\"zerolinecolor\":\"#E1E5ED\"},\"xaxis9\":{\"anchor\":\"y9\",\"domain\":[0.0,0.2125],\"gridcolor\":\"#E1E5ED\",\"showgrid\":false,\"tickfont\":{\"color\":\"#4D5663\"},\"title\":{\"font\":{\"color\":\"#4D5663\"},\"text\":\"\"},\"zerolinecolor\":\"#E1E5ED\"},\"yaxis9\":{\"anchor\":\"x9\",\"domain\":[0.2675,0.465],\"gridcolor\":\"#E1E5ED\",\"showgrid\":false,\"tickfont\":{\"color\":\"#4D5663\"},\"title\":{\"font\":{\"color\":\"#4D5663\"},\"text\":\"\"},\"zerolinecolor\":\"#E1E5ED\"},\"xaxis10\":{\"anchor\":\"y10\",\"domain\":[0.2625,0.475],\"gridcolor\":\"#E1E5ED\",\"showgrid\":false,\"tickfont\":{\"color\":\"#4D5663\"},\"title\":{\"font\":{\"color\":\"#4D5663\"},\"text\":\"\"},\"zerolinecolor\":\"#E1E5ED\"},\"yaxis10\":{\"anchor\":\"x10\",\"domain\":[0.2675,0.465],\"gridcolor\":\"#E1E5ED\",\"showgrid\":false,\"tickfont\":{\"color\":\"#4D5663\"},\"title\":{\"font\":{\"color\":\"#4D5663\"},\"text\":\"\"},\"zerolinecolor\":\"#E1E5ED\"},\"xaxis11\":{\"anchor\":\"y11\",\"domain\":[0.525,0.7375],\"gridcolor\":\"#E1E5ED\",\"showgrid\":false,\"tickfont\":{\"color\":\"#4D5663\"},\"title\":{\"font\":{\"color\":\"#4D5663\"},\"text\":\"\"},\"zerolinecolor\":\"#E1E5ED\"},\"yaxis11\":{\"anchor\":\"x11\",\"domain\":[0.2675,0.465],\"gridcolor\":\"#E1E5ED\",\"showgrid\":false,\"tickfont\":{\"color\":\"#4D5663\"},\"title\":{\"font\":{\"color\":\"#4D5663\"},\"text\":\"\"},\"zerolinecolor\":\"#E1E5ED\"},\"xaxis12\":{\"anchor\":\"y12\",\"domain\":[0.7875,1.0],\"gridcolor\":\"#E1E5ED\",\"showgrid\":false,\"tickfont\":{\"color\":\"#4D5663\"},\"title\":{\"font\":{\"color\":\"#4D5663\"},\"text\":\"\"},\"zerolinecolor\":\"#E1E5ED\"},\"yaxis12\":{\"anchor\":\"x12\",\"domain\":[0.2675,0.465],\"gridcolor\":\"#E1E5ED\",\"showgrid\":false,\"tickfont\":{\"color\":\"#4D5663\"},\"title\":{\"font\":{\"color\":\"#4D5663\"},\"text\":\"\"},\"zerolinecolor\":\"#E1E5ED\"},\"xaxis13\":{\"anchor\":\"y13\",\"domain\":[0.0,0.2125],\"gridcolor\":\"#E1E5ED\",\"showgrid\":false,\"tickfont\":{\"color\":\"#4D5663\"},\"title\":{\"font\":{\"color\":\"#4D5663\"},\"text\":\"\"},\"zerolinecolor\":\"#E1E5ED\"},\"yaxis13\":{\"anchor\":\"x13\",\"domain\":[0.0,0.1975],\"gridcolor\":\"#E1E5ED\",\"showgrid\":false,\"tickfont\":{\"color\":\"#4D5663\"},\"title\":{\"font\":{\"color\":\"#4D5663\"},\"text\":\"\"},\"zerolinecolor\":\"#E1E5ED\"},\"xaxis14\":{\"anchor\":\"y14\",\"domain\":[0.2625,0.475],\"gridcolor\":\"#E1E5ED\",\"showgrid\":false,\"tickfont\":{\"color\":\"#4D5663\"},\"title\":{\"font\":{\"color\":\"#4D5663\"},\"text\":\"\"},\"zerolinecolor\":\"#E1E5ED\"},\"yaxis14\":{\"anchor\":\"x14\",\"domain\":[0.0,0.1975],\"gridcolor\":\"#E1E5ED\",\"showgrid\":false,\"tickfont\":{\"color\":\"#4D5663\"},\"title\":{\"font\":{\"color\":\"#4D5663\"},\"text\":\"\"},\"zerolinecolor\":\"#E1E5ED\"},\"xaxis15\":{\"anchor\":\"y15\",\"domain\":[0.525,0.7375],\"gridcolor\":\"#E1E5ED\",\"showgrid\":false,\"tickfont\":{\"color\":\"#4D5663\"},\"title\":{\"font\":{\"color\":\"#4D5663\"},\"text\":\"\"},\"zerolinecolor\":\"#E1E5ED\"},\"yaxis15\":{\"anchor\":\"x15\",\"domain\":[0.0,0.1975],\"gridcolor\":\"#E1E5ED\",\"showgrid\":false,\"tickfont\":{\"color\":\"#4D5663\"},\"title\":{\"font\":{\"color\":\"#4D5663\"},\"text\":\"\"},\"zerolinecolor\":\"#E1E5ED\"},\"xaxis16\":{\"anchor\":\"y16\",\"domain\":[0.7875,1.0],\"gridcolor\":\"#E1E5ED\",\"showgrid\":false,\"tickfont\":{\"color\":\"#4D5663\"},\"title\":{\"font\":{\"color\":\"#4D5663\"},\"text\":\"\"},\"zerolinecolor\":\"#E1E5ED\"},\"yaxis16\":{\"anchor\":\"x16\",\"domain\":[0.0,0.1975],\"gridcolor\":\"#E1E5ED\",\"showgrid\":false,\"tickfont\":{\"color\":\"#4D5663\"},\"title\":{\"font\":{\"color\":\"#4D5663\"},\"text\":\"\"},\"zerolinecolor\":\"#E1E5ED\"}},                        {\"showLink\": true, \"linkText\": \"Export to plot.ly\", \"plotlyServerURL\": \"https://plot.ly\", \"responsive\": true}                    ).then(function(){\n",
       "                            \n",
       "var gd = document.getElementById('61a06e34-793a-4fde-ab78-01a33eda877d');\n",
       "var x = new MutationObserver(function (mutations, observer) {{\n",
       "        var display = window.getComputedStyle(gd).display;\n",
       "        if (!display || display === 'none') {{\n",
       "            console.log([gd, 'removed!']);\n",
       "            Plotly.purge(gd);\n",
       "            observer.disconnect();\n",
       "        }}\n",
       "}});\n",
       "\n",
       "// Listen for the removal of the full notebook cells\n",
       "var notebookContainer = gd.closest('#notebook-container');\n",
       "if (notebookContainer) {{\n",
       "    x.observe(notebookContainer, {childList: true});\n",
       "}}\n",
       "\n",
       "// Listen for the clearing of the current output cell\n",
       "var outputEl = gd.closest('.output');\n",
       "if (outputEl) {{\n",
       "    x.observe(outputEl, {childList: true});\n",
       "}}\n",
       "\n",
       "                        })                };                });            </script>        </div>"
      ]
     },
     "metadata": {},
     "output_type": "display_data"
    }
   ],
   "source": [
    "df.scatter_matrix()"
   ]
  },
  {
   "cell_type": "markdown",
   "metadata": {
    "collapsed": true
   },
   "source": [
    "# Buen trabajo!"
   ]
  }
 ],
 "metadata": {
  "kernelspec": {
   "display_name": "Python 3",
   "language": "python",
   "name": "python3"
  },
  "language_info": {
   "codemirror_mode": {
    "name": "ipython",
    "version": 3
   },
   "file_extension": ".py",
   "mimetype": "text/x-python",
   "name": "python",
   "nbconvert_exporter": "python",
   "pygments_lexer": "ipython3",
   "version": "3.11.2"
  }
 },
 "nbformat": 4,
 "nbformat_minor": 1
}
